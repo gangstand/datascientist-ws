{
  "nbformat": 4,
  "nbformat_minor": 0,
  "metadata": {
    "colab": {
      "name": "Сессия_5_3_Кульпинов.ipynb",
      "provenance": []
    },
    "kernelspec": {
      "name": "python3",
      "display_name": "Python 3"
    },
    "language_info": {
      "name": "python"
    }
  },
  "cells": [
    {
      "cell_type": "markdown",
      "source": [
        "\n",
        "Импорт библиотек"
      ],
      "metadata": {
        "id": "JHkoZV-yiX0b"
      }
    },
    {
      "cell_type": "code",
      "execution_count": 63,
      "metadata": {
        "id": "vHBllpfdiFnz"
      },
      "outputs": [],
      "source": [
        "import pandas as pd\n",
        "import numpy as np\n",
        "import seaborn as sns\n",
        "import matplotlib.pyplot as plt"
      ]
    },
    {
      "cell_type": "markdown",
      "source": [
        "#Анализ данных"
      ],
      "metadata": {
        "id": "vG0j0o74iboi"
      }
    },
    {
      "cell_type": "code",
      "source": [
        "dt = pd.read_html('/content/Выгрузка 9 апреля.xls')"
      ],
      "metadata": {
        "id": "iIpoA-ZoibRy"
      },
      "execution_count": 64,
      "outputs": []
    },
    {
      "cell_type": "code",
      "source": [
        "df = dt[1]\n",
        "df.head()"
      ],
      "metadata": {
        "id": "NyH77Dj_ish6",
        "colab": {
          "base_uri": "https://localhost:8080/",
          "height": 206
        },
        "outputId": "8e95c542-931a-4cd1-aa6d-541cfadc89b8"
      },
      "execution_count": 65,
      "outputs": [
        {
          "output_type": "execute_result",
          "data": {
            "text/html": [
              "\n",
              "  <div id=\"df-fc7affb8-2a95-4b2f-ac50-038007c3a3ff\">\n",
              "    <div class=\"colab-df-container\">\n",
              "      <div>\n",
              "<style scoped>\n",
              "    .dataframe tbody tr th:only-of-type {\n",
              "        vertical-align: middle;\n",
              "    }\n",
              "\n",
              "    .dataframe tbody tr th {\n",
              "        vertical-align: top;\n",
              "    }\n",
              "\n",
              "    .dataframe thead th {\n",
              "        text-align: right;\n",
              "    }\n",
              "</style>\n",
              "<table border=\"1\" class=\"dataframe\">\n",
              "  <thead>\n",
              "    <tr style=\"text-align: right;\">\n",
              "      <th></th>\n",
              "      <th>№ п/п</th>\n",
              "      <th>№документа</th>\n",
              "      <th>Датарегистрации</th>\n",
              "      <th>Исх. №Дата</th>\n",
              "      <th>Адресат</th>\n",
              "      <th>Автор</th>\n",
              "      <th>Краткоесодержание</th>\n",
              "      <th>Примечание</th>\n",
              "    </tr>\n",
              "  </thead>\n",
              "  <tbody>\n",
              "    <tr>\n",
              "      <th>0</th>\n",
              "      <td>1</td>\n",
              "      <td>WSR/1-838/2019</td>\n",
              "      <td>09.04.2019</td>\n",
              "      <td>208-40908.04.2019</td>\n",
              "      <td>Уразов Р.Н.</td>\n",
              "      <td>Антонова С.В. (АО «Интерфакс»)</td>\n",
              "      <td>Вх - О возможности использования сетевого изда...</td>\n",
              "      <td>NaN</td>\n",
              "    </tr>\n",
              "    <tr>\n",
              "      <th>1</th>\n",
              "      <td>2</td>\n",
              "      <td>WSR/1-837/2019</td>\n",
              "      <td>09.04.2019</td>\n",
              "      <td>05-33809.04.2019</td>\n",
              "      <td>Уразов Р.Н.</td>\n",
              "      <td>Картошкин С.А. (Министерство просвещения Росси...</td>\n",
              "      <td>Вх - Об участии в совещании по вопросу доработ...</td>\n",
              "      <td>NaN</td>\n",
              "    </tr>\n",
              "    <tr>\n",
              "      <th>2</th>\n",
              "      <td>3</td>\n",
              "      <td>WSR/1-835/2019</td>\n",
              "      <td>09.04.2019</td>\n",
              "      <td>И10-14/313709.04.2019</td>\n",
              "      <td>Уразов Р.Н.</td>\n",
              "      <td>Цивилев С.Е. (Администрация Кемеровской области)</td>\n",
              "      <td>Вх - О командировании Саликовой К. и Глушко Д....</td>\n",
              "      <td>NaN</td>\n",
              "    </tr>\n",
              "    <tr>\n",
              "      <th>3</th>\n",
              "      <td>4</td>\n",
              "      <td>WSR/1-834/2019</td>\n",
              "      <td>09.04.2019</td>\n",
              "      <td>Д2/7121-ИС03.04.2019</td>\n",
              "      <td>Иванюк Л.А.</td>\n",
              "      <td>Волков Г.А. (Министерство транспорта Российско...</td>\n",
              "      <td>Вх - Об участии в Чемпионате мира по профессио...</td>\n",
              "      <td>NaN</td>\n",
              "    </tr>\n",
              "    <tr>\n",
              "      <th>4</th>\n",
              "      <td>5</td>\n",
              "      <td>WSR/1-833/2019</td>\n",
              "      <td>09.04.2019</td>\n",
              "      <td>15-20/06-91108.04.2019</td>\n",
              "      <td>Уразов Р.Н.</td>\n",
              "      <td>Атанов И.В. (Ставропольский государственный аг...</td>\n",
              "      <td>Вх - Об участии в церемонии открытия Вузовског...</td>\n",
              "      <td>NaN</td>\n",
              "    </tr>\n",
              "  </tbody>\n",
              "</table>\n",
              "</div>\n",
              "      <button class=\"colab-df-convert\" onclick=\"convertToInteractive('df-fc7affb8-2a95-4b2f-ac50-038007c3a3ff')\"\n",
              "              title=\"Convert this dataframe to an interactive table.\"\n",
              "              style=\"display:none;\">\n",
              "        \n",
              "  <svg xmlns=\"http://www.w3.org/2000/svg\" height=\"24px\"viewBox=\"0 0 24 24\"\n",
              "       width=\"24px\">\n",
              "    <path d=\"M0 0h24v24H0V0z\" fill=\"none\"/>\n",
              "    <path d=\"M18.56 5.44l.94 2.06.94-2.06 2.06-.94-2.06-.94-.94-2.06-.94 2.06-2.06.94zm-11 1L8.5 8.5l.94-2.06 2.06-.94-2.06-.94L8.5 2.5l-.94 2.06-2.06.94zm10 10l.94 2.06.94-2.06 2.06-.94-2.06-.94-.94-2.06-.94 2.06-2.06.94z\"/><path d=\"M17.41 7.96l-1.37-1.37c-.4-.4-.92-.59-1.43-.59-.52 0-1.04.2-1.43.59L10.3 9.45l-7.72 7.72c-.78.78-.78 2.05 0 2.83L4 21.41c.39.39.9.59 1.41.59.51 0 1.02-.2 1.41-.59l7.78-7.78 2.81-2.81c.8-.78.8-2.07 0-2.86zM5.41 20L4 18.59l7.72-7.72 1.47 1.35L5.41 20z\"/>\n",
              "  </svg>\n",
              "      </button>\n",
              "      \n",
              "  <style>\n",
              "    .colab-df-container {\n",
              "      display:flex;\n",
              "      flex-wrap:wrap;\n",
              "      gap: 12px;\n",
              "    }\n",
              "\n",
              "    .colab-df-convert {\n",
              "      background-color: #E8F0FE;\n",
              "      border: none;\n",
              "      border-radius: 50%;\n",
              "      cursor: pointer;\n",
              "      display: none;\n",
              "      fill: #1967D2;\n",
              "      height: 32px;\n",
              "      padding: 0 0 0 0;\n",
              "      width: 32px;\n",
              "    }\n",
              "\n",
              "    .colab-df-convert:hover {\n",
              "      background-color: #E2EBFA;\n",
              "      box-shadow: 0px 1px 2px rgba(60, 64, 67, 0.3), 0px 1px 3px 1px rgba(60, 64, 67, 0.15);\n",
              "      fill: #174EA6;\n",
              "    }\n",
              "\n",
              "    [theme=dark] .colab-df-convert {\n",
              "      background-color: #3B4455;\n",
              "      fill: #D2E3FC;\n",
              "    }\n",
              "\n",
              "    [theme=dark] .colab-df-convert:hover {\n",
              "      background-color: #434B5C;\n",
              "      box-shadow: 0px 1px 3px 1px rgba(0, 0, 0, 0.15);\n",
              "      filter: drop-shadow(0px 1px 2px rgba(0, 0, 0, 0.3));\n",
              "      fill: #FFFFFF;\n",
              "    }\n",
              "  </style>\n",
              "\n",
              "      <script>\n",
              "        const buttonEl =\n",
              "          document.querySelector('#df-fc7affb8-2a95-4b2f-ac50-038007c3a3ff button.colab-df-convert');\n",
              "        buttonEl.style.display =\n",
              "          google.colab.kernel.accessAllowed ? 'block' : 'none';\n",
              "\n",
              "        async function convertToInteractive(key) {\n",
              "          const element = document.querySelector('#df-fc7affb8-2a95-4b2f-ac50-038007c3a3ff');\n",
              "          const dataTable =\n",
              "            await google.colab.kernel.invokeFunction('convertToInteractive',\n",
              "                                                     [key], {});\n",
              "          if (!dataTable) return;\n",
              "\n",
              "          const docLinkHtml = 'Like what you see? Visit the ' +\n",
              "            '<a target=\"_blank\" href=https://colab.research.google.com/notebooks/data_table.ipynb>data table notebook</a>'\n",
              "            + ' to learn more about interactive tables.';\n",
              "          element.innerHTML = '';\n",
              "          dataTable['output_type'] = 'display_data';\n",
              "          await google.colab.output.renderOutput(dataTable, element);\n",
              "          const docLink = document.createElement('div');\n",
              "          docLink.innerHTML = docLinkHtml;\n",
              "          element.appendChild(docLink);\n",
              "        }\n",
              "      </script>\n",
              "    </div>\n",
              "  </div>\n",
              "  "
            ],
            "text/plain": [
              "   № п/п  ... Примечание\n",
              "0      1  ...        NaN\n",
              "1      2  ...        NaN\n",
              "2      3  ...        NaN\n",
              "3      4  ...        NaN\n",
              "4      5  ...        NaN\n",
              "\n",
              "[5 rows x 8 columns]"
            ]
          },
          "metadata": {},
          "execution_count": 65
        }
      ]
    },
    {
      "cell_type": "markdown",
      "source": [
        "Информация"
      ],
      "metadata": {
        "id": "qBYqBXkxiupB"
      }
    },
    {
      "cell_type": "code",
      "source": [
        "df.describe()"
      ],
      "metadata": {
        "id": "LJNNRDjuiwNx",
        "colab": {
          "base_uri": "https://localhost:8080/",
          "height": 300
        },
        "outputId": "04e7397e-ee03-4977-fef4-787f2389fb7d"
      },
      "execution_count": 66,
      "outputs": [
        {
          "output_type": "execute_result",
          "data": {
            "text/html": [
              "\n",
              "  <div id=\"df-7f8d608c-3164-45eb-ae48-38feb815e01e\">\n",
              "    <div class=\"colab-df-container\">\n",
              "      <div>\n",
              "<style scoped>\n",
              "    .dataframe tbody tr th:only-of-type {\n",
              "        vertical-align: middle;\n",
              "    }\n",
              "\n",
              "    .dataframe tbody tr th {\n",
              "        vertical-align: top;\n",
              "    }\n",
              "\n",
              "    .dataframe thead th {\n",
              "        text-align: right;\n",
              "    }\n",
              "</style>\n",
              "<table border=\"1\" class=\"dataframe\">\n",
              "  <thead>\n",
              "    <tr style=\"text-align: right;\">\n",
              "      <th></th>\n",
              "      <th>№ п/п</th>\n",
              "    </tr>\n",
              "  </thead>\n",
              "  <tbody>\n",
              "    <tr>\n",
              "      <th>count</th>\n",
              "      <td>4967.000000</td>\n",
              "    </tr>\n",
              "    <tr>\n",
              "      <th>mean</th>\n",
              "      <td>2484.000000</td>\n",
              "    </tr>\n",
              "    <tr>\n",
              "      <th>std</th>\n",
              "      <td>1433.993724</td>\n",
              "    </tr>\n",
              "    <tr>\n",
              "      <th>min</th>\n",
              "      <td>1.000000</td>\n",
              "    </tr>\n",
              "    <tr>\n",
              "      <th>25%</th>\n",
              "      <td>1242.500000</td>\n",
              "    </tr>\n",
              "    <tr>\n",
              "      <th>50%</th>\n",
              "      <td>2484.000000</td>\n",
              "    </tr>\n",
              "    <tr>\n",
              "      <th>75%</th>\n",
              "      <td>3725.500000</td>\n",
              "    </tr>\n",
              "    <tr>\n",
              "      <th>max</th>\n",
              "      <td>4967.000000</td>\n",
              "    </tr>\n",
              "  </tbody>\n",
              "</table>\n",
              "</div>\n",
              "      <button class=\"colab-df-convert\" onclick=\"convertToInteractive('df-7f8d608c-3164-45eb-ae48-38feb815e01e')\"\n",
              "              title=\"Convert this dataframe to an interactive table.\"\n",
              "              style=\"display:none;\">\n",
              "        \n",
              "  <svg xmlns=\"http://www.w3.org/2000/svg\" height=\"24px\"viewBox=\"0 0 24 24\"\n",
              "       width=\"24px\">\n",
              "    <path d=\"M0 0h24v24H0V0z\" fill=\"none\"/>\n",
              "    <path d=\"M18.56 5.44l.94 2.06.94-2.06 2.06-.94-2.06-.94-.94-2.06-.94 2.06-2.06.94zm-11 1L8.5 8.5l.94-2.06 2.06-.94-2.06-.94L8.5 2.5l-.94 2.06-2.06.94zm10 10l.94 2.06.94-2.06 2.06-.94-2.06-.94-.94-2.06-.94 2.06-2.06.94z\"/><path d=\"M17.41 7.96l-1.37-1.37c-.4-.4-.92-.59-1.43-.59-.52 0-1.04.2-1.43.59L10.3 9.45l-7.72 7.72c-.78.78-.78 2.05 0 2.83L4 21.41c.39.39.9.59 1.41.59.51 0 1.02-.2 1.41-.59l7.78-7.78 2.81-2.81c.8-.78.8-2.07 0-2.86zM5.41 20L4 18.59l7.72-7.72 1.47 1.35L5.41 20z\"/>\n",
              "  </svg>\n",
              "      </button>\n",
              "      \n",
              "  <style>\n",
              "    .colab-df-container {\n",
              "      display:flex;\n",
              "      flex-wrap:wrap;\n",
              "      gap: 12px;\n",
              "    }\n",
              "\n",
              "    .colab-df-convert {\n",
              "      background-color: #E8F0FE;\n",
              "      border: none;\n",
              "      border-radius: 50%;\n",
              "      cursor: pointer;\n",
              "      display: none;\n",
              "      fill: #1967D2;\n",
              "      height: 32px;\n",
              "      padding: 0 0 0 0;\n",
              "      width: 32px;\n",
              "    }\n",
              "\n",
              "    .colab-df-convert:hover {\n",
              "      background-color: #E2EBFA;\n",
              "      box-shadow: 0px 1px 2px rgba(60, 64, 67, 0.3), 0px 1px 3px 1px rgba(60, 64, 67, 0.15);\n",
              "      fill: #174EA6;\n",
              "    }\n",
              "\n",
              "    [theme=dark] .colab-df-convert {\n",
              "      background-color: #3B4455;\n",
              "      fill: #D2E3FC;\n",
              "    }\n",
              "\n",
              "    [theme=dark] .colab-df-convert:hover {\n",
              "      background-color: #434B5C;\n",
              "      box-shadow: 0px 1px 3px 1px rgba(0, 0, 0, 0.15);\n",
              "      filter: drop-shadow(0px 1px 2px rgba(0, 0, 0, 0.3));\n",
              "      fill: #FFFFFF;\n",
              "    }\n",
              "  </style>\n",
              "\n",
              "      <script>\n",
              "        const buttonEl =\n",
              "          document.querySelector('#df-7f8d608c-3164-45eb-ae48-38feb815e01e button.colab-df-convert');\n",
              "        buttonEl.style.display =\n",
              "          google.colab.kernel.accessAllowed ? 'block' : 'none';\n",
              "\n",
              "        async function convertToInteractive(key) {\n",
              "          const element = document.querySelector('#df-7f8d608c-3164-45eb-ae48-38feb815e01e');\n",
              "          const dataTable =\n",
              "            await google.colab.kernel.invokeFunction('convertToInteractive',\n",
              "                                                     [key], {});\n",
              "          if (!dataTable) return;\n",
              "\n",
              "          const docLinkHtml = 'Like what you see? Visit the ' +\n",
              "            '<a target=\"_blank\" href=https://colab.research.google.com/notebooks/data_table.ipynb>data table notebook</a>'\n",
              "            + ' to learn more about interactive tables.';\n",
              "          element.innerHTML = '';\n",
              "          dataTable['output_type'] = 'display_data';\n",
              "          await google.colab.output.renderOutput(dataTable, element);\n",
              "          const docLink = document.createElement('div');\n",
              "          docLink.innerHTML = docLinkHtml;\n",
              "          element.appendChild(docLink);\n",
              "        }\n",
              "      </script>\n",
              "    </div>\n",
              "  </div>\n",
              "  "
            ],
            "text/plain": [
              "             № п/п\n",
              "count  4967.000000\n",
              "mean   2484.000000\n",
              "std    1433.993724\n",
              "min       1.000000\n",
              "25%    1242.500000\n",
              "50%    2484.000000\n",
              "75%    3725.500000\n",
              "max    4967.000000"
            ]
          },
          "metadata": {},
          "execution_count": 66
        }
      ]
    },
    {
      "cell_type": "code",
      "source": [
        "df.shape"
      ],
      "metadata": {
        "id": "jjyaF5Nqi4pS",
        "colab": {
          "base_uri": "https://localhost:8080/"
        },
        "outputId": "2090f794-0ae9-4516-ccf9-f2fb623a7be9"
      },
      "execution_count": 67,
      "outputs": [
        {
          "output_type": "execute_result",
          "data": {
            "text/plain": [
              "(4967, 8)"
            ]
          },
          "metadata": {},
          "execution_count": 67
        }
      ]
    },
    {
      "cell_type": "code",
      "source": [
        "df.info"
      ],
      "metadata": {
        "id": "B9zxAvLdi5sK",
        "colab": {
          "base_uri": "https://localhost:8080/"
        },
        "outputId": "9a79c32c-cb23-4842-8591-c36407c0ac5e"
      },
      "execution_count": 68,
      "outputs": [
        {
          "output_type": "execute_result",
          "data": {
            "text/plain": [
              "<bound method DataFrame.info of       № п/п  ... Примечание\n",
              "0         1  ...        NaN\n",
              "1         2  ...        NaN\n",
              "2         3  ...        NaN\n",
              "3         4  ...        NaN\n",
              "4         5  ...        NaN\n",
              "...     ...  ...        ...\n",
              "4962   4963  ...        NaN\n",
              "4963   4964  ...        NaN\n",
              "4964   4965  ...        NaN\n",
              "4965   4966  ...        NaN\n",
              "4966   4967  ...        NaN\n",
              "\n",
              "[4967 rows x 8 columns]>"
            ]
          },
          "metadata": {},
          "execution_count": 68
        }
      ]
    },
    {
      "cell_type": "markdown",
      "source": [
        "Предобработка данных и выделение значимых атрибутов"
      ],
      "metadata": {
        "id": "FMaaQmaki7RB"
      }
    },
    {
      "cell_type": "code",
      "source": [
        "dt[0].T[0]\n",
        "dt[0].T[1].unique().tolist()\n",
        "dt[0].T[2].unique().tolist()\n",
        "df = dt[1]"
      ],
      "metadata": {
        "id": "jAMsvbnwi7rJ"
      },
      "execution_count": 69,
      "outputs": []
    },
    {
      "cell_type": "code",
      "source": [
        "df = dt[1].drop(['№ п/п', '№документа', 'Исх. №Дата', 'Примечание'], axis=1)\n",
        "df.head(2)"
      ],
      "metadata": {
        "id": "MStyoCiZi-Tp",
        "colab": {
          "base_uri": "https://localhost:8080/",
          "height": 112
        },
        "outputId": "ea53d9d4-0164-4123-c123-c43ce7d4f897"
      },
      "execution_count": 70,
      "outputs": [
        {
          "output_type": "execute_result",
          "data": {
            "text/html": [
              "\n",
              "  <div id=\"df-c02e88d1-c816-403c-a934-6be8e04c9910\">\n",
              "    <div class=\"colab-df-container\">\n",
              "      <div>\n",
              "<style scoped>\n",
              "    .dataframe tbody tr th:only-of-type {\n",
              "        vertical-align: middle;\n",
              "    }\n",
              "\n",
              "    .dataframe tbody tr th {\n",
              "        vertical-align: top;\n",
              "    }\n",
              "\n",
              "    .dataframe thead th {\n",
              "        text-align: right;\n",
              "    }\n",
              "</style>\n",
              "<table border=\"1\" class=\"dataframe\">\n",
              "  <thead>\n",
              "    <tr style=\"text-align: right;\">\n",
              "      <th></th>\n",
              "      <th>Датарегистрации</th>\n",
              "      <th>Адресат</th>\n",
              "      <th>Автор</th>\n",
              "      <th>Краткоесодержание</th>\n",
              "    </tr>\n",
              "  </thead>\n",
              "  <tbody>\n",
              "    <tr>\n",
              "      <th>0</th>\n",
              "      <td>09.04.2019</td>\n",
              "      <td>Уразов Р.Н.</td>\n",
              "      <td>Антонова С.В. (АО «Интерфакс»)</td>\n",
              "      <td>Вх - О возможности использования сетевого изда...</td>\n",
              "    </tr>\n",
              "    <tr>\n",
              "      <th>1</th>\n",
              "      <td>09.04.2019</td>\n",
              "      <td>Уразов Р.Н.</td>\n",
              "      <td>Картошкин С.А. (Министерство просвещения Росси...</td>\n",
              "      <td>Вх - Об участии в совещании по вопросу доработ...</td>\n",
              "    </tr>\n",
              "  </tbody>\n",
              "</table>\n",
              "</div>\n",
              "      <button class=\"colab-df-convert\" onclick=\"convertToInteractive('df-c02e88d1-c816-403c-a934-6be8e04c9910')\"\n",
              "              title=\"Convert this dataframe to an interactive table.\"\n",
              "              style=\"display:none;\">\n",
              "        \n",
              "  <svg xmlns=\"http://www.w3.org/2000/svg\" height=\"24px\"viewBox=\"0 0 24 24\"\n",
              "       width=\"24px\">\n",
              "    <path d=\"M0 0h24v24H0V0z\" fill=\"none\"/>\n",
              "    <path d=\"M18.56 5.44l.94 2.06.94-2.06 2.06-.94-2.06-.94-.94-2.06-.94 2.06-2.06.94zm-11 1L8.5 8.5l.94-2.06 2.06-.94-2.06-.94L8.5 2.5l-.94 2.06-2.06.94zm10 10l.94 2.06.94-2.06 2.06-.94-2.06-.94-.94-2.06-.94 2.06-2.06.94z\"/><path d=\"M17.41 7.96l-1.37-1.37c-.4-.4-.92-.59-1.43-.59-.52 0-1.04.2-1.43.59L10.3 9.45l-7.72 7.72c-.78.78-.78 2.05 0 2.83L4 21.41c.39.39.9.59 1.41.59.51 0 1.02-.2 1.41-.59l7.78-7.78 2.81-2.81c.8-.78.8-2.07 0-2.86zM5.41 20L4 18.59l7.72-7.72 1.47 1.35L5.41 20z\"/>\n",
              "  </svg>\n",
              "      </button>\n",
              "      \n",
              "  <style>\n",
              "    .colab-df-container {\n",
              "      display:flex;\n",
              "      flex-wrap:wrap;\n",
              "      gap: 12px;\n",
              "    }\n",
              "\n",
              "    .colab-df-convert {\n",
              "      background-color: #E8F0FE;\n",
              "      border: none;\n",
              "      border-radius: 50%;\n",
              "      cursor: pointer;\n",
              "      display: none;\n",
              "      fill: #1967D2;\n",
              "      height: 32px;\n",
              "      padding: 0 0 0 0;\n",
              "      width: 32px;\n",
              "    }\n",
              "\n",
              "    .colab-df-convert:hover {\n",
              "      background-color: #E2EBFA;\n",
              "      box-shadow: 0px 1px 2px rgba(60, 64, 67, 0.3), 0px 1px 3px 1px rgba(60, 64, 67, 0.15);\n",
              "      fill: #174EA6;\n",
              "    }\n",
              "\n",
              "    [theme=dark] .colab-df-convert {\n",
              "      background-color: #3B4455;\n",
              "      fill: #D2E3FC;\n",
              "    }\n",
              "\n",
              "    [theme=dark] .colab-df-convert:hover {\n",
              "      background-color: #434B5C;\n",
              "      box-shadow: 0px 1px 3px 1px rgba(0, 0, 0, 0.15);\n",
              "      filter: drop-shadow(0px 1px 2px rgba(0, 0, 0, 0.3));\n",
              "      fill: #FFFFFF;\n",
              "    }\n",
              "  </style>\n",
              "\n",
              "      <script>\n",
              "        const buttonEl =\n",
              "          document.querySelector('#df-c02e88d1-c816-403c-a934-6be8e04c9910 button.colab-df-convert');\n",
              "        buttonEl.style.display =\n",
              "          google.colab.kernel.accessAllowed ? 'block' : 'none';\n",
              "\n",
              "        async function convertToInteractive(key) {\n",
              "          const element = document.querySelector('#df-c02e88d1-c816-403c-a934-6be8e04c9910');\n",
              "          const dataTable =\n",
              "            await google.colab.kernel.invokeFunction('convertToInteractive',\n",
              "                                                     [key], {});\n",
              "          if (!dataTable) return;\n",
              "\n",
              "          const docLinkHtml = 'Like what you see? Visit the ' +\n",
              "            '<a target=\"_blank\" href=https://colab.research.google.com/notebooks/data_table.ipynb>data table notebook</a>'\n",
              "            + ' to learn more about interactive tables.';\n",
              "          element.innerHTML = '';\n",
              "          dataTable['output_type'] = 'display_data';\n",
              "          await google.colab.output.renderOutput(dataTable, element);\n",
              "          const docLink = document.createElement('div');\n",
              "          docLink.innerHTML = docLinkHtml;\n",
              "          element.appendChild(docLink);\n",
              "        }\n",
              "      </script>\n",
              "    </div>\n",
              "  </div>\n",
              "  "
            ],
            "text/plain": [
              "  Датарегистрации  ...                                  Краткоесодержание\n",
              "0      09.04.2019  ...  Вх - О возможности использования сетевого изда...\n",
              "1      09.04.2019  ...  Вх - Об участии в совещании по вопросу доработ...\n",
              "\n",
              "[2 rows x 4 columns]"
            ]
          },
          "metadata": {},
          "execution_count": 70
        }
      ]
    },
    {
      "cell_type": "markdown",
      "source": [
        "Регулярные выражение"
      ],
      "metadata": {
        "id": "_xsLDVXqjCjh"
      }
    },
    {
      "cell_type": "code",
      "source": [
        "import re"
      ],
      "metadata": {
        "id": "nb4SYCzCjCMS"
      },
      "execution_count": 71,
      "outputs": []
    },
    {
      "cell_type": "code",
      "source": [
        "adres = []\n",
        "c = 0\n",
        "reg_fio = r'([А-Я]\\.[А-Я]\\.\\s?[А-Я][а-я]{1,20}|[А-Я][а-я]{1,20}\\s?[А-Я]\\.[А-Я]\\.)'\n",
        "for i in df.Адресат:\n",
        "  result = re.findall(reg_fio, i)[-1]\n",
        "  adres.append(result.replace(' ',''))\n",
        "\n",
        "df['Адресат(-ы)'] = adres\n",
        "df.tail(2)"
      ],
      "metadata": {
        "id": "CSWjhPeNjGpp",
        "colab": {
          "base_uri": "https://localhost:8080/",
          "height": 112
        },
        "outputId": "58d17934-1764-4c02-cca3-16ed60d8a502"
      },
      "execution_count": 72,
      "outputs": [
        {
          "output_type": "execute_result",
          "data": {
            "text/html": [
              "\n",
              "  <div id=\"df-04237d88-19b1-4031-b706-6c4054433af4\">\n",
              "    <div class=\"colab-df-container\">\n",
              "      <div>\n",
              "<style scoped>\n",
              "    .dataframe tbody tr th:only-of-type {\n",
              "        vertical-align: middle;\n",
              "    }\n",
              "\n",
              "    .dataframe tbody tr th {\n",
              "        vertical-align: top;\n",
              "    }\n",
              "\n",
              "    .dataframe thead th {\n",
              "        text-align: right;\n",
              "    }\n",
              "</style>\n",
              "<table border=\"1\" class=\"dataframe\">\n",
              "  <thead>\n",
              "    <tr style=\"text-align: right;\">\n",
              "      <th></th>\n",
              "      <th>Датарегистрации</th>\n",
              "      <th>Адресат</th>\n",
              "      <th>Автор</th>\n",
              "      <th>Краткоесодержание</th>\n",
              "      <th>Адресат(-ы)</th>\n",
              "    </tr>\n",
              "  </thead>\n",
              "  <tbody>\n",
              "    <tr>\n",
              "      <th>4965</th>\n",
              "      <td>01.11.2017</td>\n",
              "      <td>Уразов Р.Н.</td>\n",
              "      <td>Огородова Л.М. (Министерство образования и нау...</td>\n",
              "      <td>Протокол заседания рабочей группы приоритетног...</td>\n",
              "      <td>УразовР.Н.</td>\n",
              "    </tr>\n",
              "    <tr>\n",
              "      <th>4966</th>\n",
              "      <td>NaN</td>\n",
              "      <td>Уразов Р.Н.</td>\n",
              "      <td>Асаул Н.А. (Министерство транспорта Российской...</td>\n",
              "      <td>Участие в Чемпионате WorldSkills Hi-Tech Екате...</td>\n",
              "      <td>УразовР.Н.</td>\n",
              "    </tr>\n",
              "  </tbody>\n",
              "</table>\n",
              "</div>\n",
              "      <button class=\"colab-df-convert\" onclick=\"convertToInteractive('df-04237d88-19b1-4031-b706-6c4054433af4')\"\n",
              "              title=\"Convert this dataframe to an interactive table.\"\n",
              "              style=\"display:none;\">\n",
              "        \n",
              "  <svg xmlns=\"http://www.w3.org/2000/svg\" height=\"24px\"viewBox=\"0 0 24 24\"\n",
              "       width=\"24px\">\n",
              "    <path d=\"M0 0h24v24H0V0z\" fill=\"none\"/>\n",
              "    <path d=\"M18.56 5.44l.94 2.06.94-2.06 2.06-.94-2.06-.94-.94-2.06-.94 2.06-2.06.94zm-11 1L8.5 8.5l.94-2.06 2.06-.94-2.06-.94L8.5 2.5l-.94 2.06-2.06.94zm10 10l.94 2.06.94-2.06 2.06-.94-2.06-.94-.94-2.06-.94 2.06-2.06.94z\"/><path d=\"M17.41 7.96l-1.37-1.37c-.4-.4-.92-.59-1.43-.59-.52 0-1.04.2-1.43.59L10.3 9.45l-7.72 7.72c-.78.78-.78 2.05 0 2.83L4 21.41c.39.39.9.59 1.41.59.51 0 1.02-.2 1.41-.59l7.78-7.78 2.81-2.81c.8-.78.8-2.07 0-2.86zM5.41 20L4 18.59l7.72-7.72 1.47 1.35L5.41 20z\"/>\n",
              "  </svg>\n",
              "      </button>\n",
              "      \n",
              "  <style>\n",
              "    .colab-df-container {\n",
              "      display:flex;\n",
              "      flex-wrap:wrap;\n",
              "      gap: 12px;\n",
              "    }\n",
              "\n",
              "    .colab-df-convert {\n",
              "      background-color: #E8F0FE;\n",
              "      border: none;\n",
              "      border-radius: 50%;\n",
              "      cursor: pointer;\n",
              "      display: none;\n",
              "      fill: #1967D2;\n",
              "      height: 32px;\n",
              "      padding: 0 0 0 0;\n",
              "      width: 32px;\n",
              "    }\n",
              "\n",
              "    .colab-df-convert:hover {\n",
              "      background-color: #E2EBFA;\n",
              "      box-shadow: 0px 1px 2px rgba(60, 64, 67, 0.3), 0px 1px 3px 1px rgba(60, 64, 67, 0.15);\n",
              "      fill: #174EA6;\n",
              "    }\n",
              "\n",
              "    [theme=dark] .colab-df-convert {\n",
              "      background-color: #3B4455;\n",
              "      fill: #D2E3FC;\n",
              "    }\n",
              "\n",
              "    [theme=dark] .colab-df-convert:hover {\n",
              "      background-color: #434B5C;\n",
              "      box-shadow: 0px 1px 3px 1px rgba(0, 0, 0, 0.15);\n",
              "      filter: drop-shadow(0px 1px 2px rgba(0, 0, 0, 0.3));\n",
              "      fill: #FFFFFF;\n",
              "    }\n",
              "  </style>\n",
              "\n",
              "      <script>\n",
              "        const buttonEl =\n",
              "          document.querySelector('#df-04237d88-19b1-4031-b706-6c4054433af4 button.colab-df-convert');\n",
              "        buttonEl.style.display =\n",
              "          google.colab.kernel.accessAllowed ? 'block' : 'none';\n",
              "\n",
              "        async function convertToInteractive(key) {\n",
              "          const element = document.querySelector('#df-04237d88-19b1-4031-b706-6c4054433af4');\n",
              "          const dataTable =\n",
              "            await google.colab.kernel.invokeFunction('convertToInteractive',\n",
              "                                                     [key], {});\n",
              "          if (!dataTable) return;\n",
              "\n",
              "          const docLinkHtml = 'Like what you see? Visit the ' +\n",
              "            '<a target=\"_blank\" href=https://colab.research.google.com/notebooks/data_table.ipynb>data table notebook</a>'\n",
              "            + ' to learn more about interactive tables.';\n",
              "          element.innerHTML = '';\n",
              "          dataTable['output_type'] = 'display_data';\n",
              "          await google.colab.output.renderOutput(dataTable, element);\n",
              "          const docLink = document.createElement('div');\n",
              "          docLink.innerHTML = docLinkHtml;\n",
              "          element.appendChild(docLink);\n",
              "        }\n",
              "      </script>\n",
              "    </div>\n",
              "  </div>\n",
              "  "
            ],
            "text/plain": [
              "     Датарегистрации  ... Адресат(-ы)\n",
              "4965      01.11.2017  ...  УразовР.Н.\n",
              "4966             NaN  ...  УразовР.Н.\n",
              "\n",
              "[2 rows x 5 columns]"
            ]
          },
          "metadata": {},
          "execution_count": 72
        }
      ]
    },
    {
      "cell_type": "markdown",
      "source": [
        "Дополнение недостающими данными"
      ],
      "metadata": {
        "id": "I9wSOf1XjIMh"
      }
    },
    {
      "cell_type": "code",
      "source": [
        "df['Адресат(-ы)'].unique().shape"
      ],
      "metadata": {
        "id": "AbpLiQgujPSW",
        "colab": {
          "base_uri": "https://localhost:8080/"
        },
        "outputId": "f7175afb-27d8-47ba-9fdb-b50a995729f0"
      },
      "execution_count": 73,
      "outputs": [
        {
          "output_type": "execute_result",
          "data": {
            "text/plain": [
              "(81,)"
            ]
          },
          "metadata": {},
          "execution_count": 73
        }
      ]
    },
    {
      "cell_type": "code",
      "source": [
        "df.Датарегистрации = pd.to_datetime(df.Датарегистрации)\n",
        "df.Датарегистрации.describe()"
      ],
      "metadata": {
        "id": "tunZ7iIbjQbS",
        "colab": {
          "base_uri": "https://localhost:8080/"
        },
        "outputId": "edc3b457-5355-450e-fa52-800c4beb04fd"
      },
      "execution_count": 74,
      "outputs": [
        {
          "output_type": "stream",
          "name": "stderr",
          "text": [
            "/usr/local/lib/python3.7/dist-packages/ipykernel_launcher.py:2: FutureWarning: Treating datetime data as categorical rather than numeric in `.describe` is deprecated and will be removed in a future version of pandas. Specify `datetime_is_numeric=True` to silence this warning and adopt the future behavior now.\n",
            "  \n"
          ]
        },
        {
          "output_type": "execute_result",
          "data": {
            "text/plain": [
              "count                    4965\n",
              "unique                    372\n",
              "top       2017-11-29 00:00:00\n",
              "freq                       42\n",
              "first     2017-01-11 00:00:00\n",
              "last      2019-12-03 00:00:00\n",
              "Name: Датарегистрации, dtype: object"
            ]
          },
          "metadata": {},
          "execution_count": 74
        }
      ]
    },
    {
      "cell_type": "code",
      "source": [
        "df['Агентсво'] = df.Автор.apply(lambda x: x.split('(')[1].replace(')',''))"
      ],
      "metadata": {
        "id": "rs7v4gpTjRfq"
      },
      "execution_count": 75,
      "outputs": []
    },
    {
      "cell_type": "code",
      "source": [
        "df.head(2)"
      ],
      "metadata": {
        "id": "0Iv0wIbxjRdr",
        "colab": {
          "base_uri": "https://localhost:8080/",
          "height": 112
        },
        "outputId": "1ef47fb3-20ed-408f-b807-4a72a1593304"
      },
      "execution_count": 76,
      "outputs": [
        {
          "output_type": "execute_result",
          "data": {
            "text/html": [
              "\n",
              "  <div id=\"df-c2c5edd4-46e8-4178-abbb-b6d1fca5499f\">\n",
              "    <div class=\"colab-df-container\">\n",
              "      <div>\n",
              "<style scoped>\n",
              "    .dataframe tbody tr th:only-of-type {\n",
              "        vertical-align: middle;\n",
              "    }\n",
              "\n",
              "    .dataframe tbody tr th {\n",
              "        vertical-align: top;\n",
              "    }\n",
              "\n",
              "    .dataframe thead th {\n",
              "        text-align: right;\n",
              "    }\n",
              "</style>\n",
              "<table border=\"1\" class=\"dataframe\">\n",
              "  <thead>\n",
              "    <tr style=\"text-align: right;\">\n",
              "      <th></th>\n",
              "      <th>Датарегистрации</th>\n",
              "      <th>Адресат</th>\n",
              "      <th>Автор</th>\n",
              "      <th>Краткоесодержание</th>\n",
              "      <th>Адресат(-ы)</th>\n",
              "      <th>Агентсво</th>\n",
              "    </tr>\n",
              "  </thead>\n",
              "  <tbody>\n",
              "    <tr>\n",
              "      <th>0</th>\n",
              "      <td>2019-09-04</td>\n",
              "      <td>Уразов Р.Н.</td>\n",
              "      <td>Антонова С.В. (АО «Интерфакс»)</td>\n",
              "      <td>Вх - О возможности использования сетевого изда...</td>\n",
              "      <td>УразовР.Н.</td>\n",
              "      <td>АО «Интерфакс»</td>\n",
              "    </tr>\n",
              "    <tr>\n",
              "      <th>1</th>\n",
              "      <td>2019-09-04</td>\n",
              "      <td>Уразов Р.Н.</td>\n",
              "      <td>Картошкин С.А. (Министерство просвещения Росси...</td>\n",
              "      <td>Вх - Об участии в совещании по вопросу доработ...</td>\n",
              "      <td>УразовР.Н.</td>\n",
              "      <td>Министерство просвещения Российской Федерации</td>\n",
              "    </tr>\n",
              "  </tbody>\n",
              "</table>\n",
              "</div>\n",
              "      <button class=\"colab-df-convert\" onclick=\"convertToInteractive('df-c2c5edd4-46e8-4178-abbb-b6d1fca5499f')\"\n",
              "              title=\"Convert this dataframe to an interactive table.\"\n",
              "              style=\"display:none;\">\n",
              "        \n",
              "  <svg xmlns=\"http://www.w3.org/2000/svg\" height=\"24px\"viewBox=\"0 0 24 24\"\n",
              "       width=\"24px\">\n",
              "    <path d=\"M0 0h24v24H0V0z\" fill=\"none\"/>\n",
              "    <path d=\"M18.56 5.44l.94 2.06.94-2.06 2.06-.94-2.06-.94-.94-2.06-.94 2.06-2.06.94zm-11 1L8.5 8.5l.94-2.06 2.06-.94-2.06-.94L8.5 2.5l-.94 2.06-2.06.94zm10 10l.94 2.06.94-2.06 2.06-.94-2.06-.94-.94-2.06-.94 2.06-2.06.94z\"/><path d=\"M17.41 7.96l-1.37-1.37c-.4-.4-.92-.59-1.43-.59-.52 0-1.04.2-1.43.59L10.3 9.45l-7.72 7.72c-.78.78-.78 2.05 0 2.83L4 21.41c.39.39.9.59 1.41.59.51 0 1.02-.2 1.41-.59l7.78-7.78 2.81-2.81c.8-.78.8-2.07 0-2.86zM5.41 20L4 18.59l7.72-7.72 1.47 1.35L5.41 20z\"/>\n",
              "  </svg>\n",
              "      </button>\n",
              "      \n",
              "  <style>\n",
              "    .colab-df-container {\n",
              "      display:flex;\n",
              "      flex-wrap:wrap;\n",
              "      gap: 12px;\n",
              "    }\n",
              "\n",
              "    .colab-df-convert {\n",
              "      background-color: #E8F0FE;\n",
              "      border: none;\n",
              "      border-radius: 50%;\n",
              "      cursor: pointer;\n",
              "      display: none;\n",
              "      fill: #1967D2;\n",
              "      height: 32px;\n",
              "      padding: 0 0 0 0;\n",
              "      width: 32px;\n",
              "    }\n",
              "\n",
              "    .colab-df-convert:hover {\n",
              "      background-color: #E2EBFA;\n",
              "      box-shadow: 0px 1px 2px rgba(60, 64, 67, 0.3), 0px 1px 3px 1px rgba(60, 64, 67, 0.15);\n",
              "      fill: #174EA6;\n",
              "    }\n",
              "\n",
              "    [theme=dark] .colab-df-convert {\n",
              "      background-color: #3B4455;\n",
              "      fill: #D2E3FC;\n",
              "    }\n",
              "\n",
              "    [theme=dark] .colab-df-convert:hover {\n",
              "      background-color: #434B5C;\n",
              "      box-shadow: 0px 1px 3px 1px rgba(0, 0, 0, 0.15);\n",
              "      filter: drop-shadow(0px 1px 2px rgba(0, 0, 0, 0.3));\n",
              "      fill: #FFFFFF;\n",
              "    }\n",
              "  </style>\n",
              "\n",
              "      <script>\n",
              "        const buttonEl =\n",
              "          document.querySelector('#df-c2c5edd4-46e8-4178-abbb-b6d1fca5499f button.colab-df-convert');\n",
              "        buttonEl.style.display =\n",
              "          google.colab.kernel.accessAllowed ? 'block' : 'none';\n",
              "\n",
              "        async function convertToInteractive(key) {\n",
              "          const element = document.querySelector('#df-c2c5edd4-46e8-4178-abbb-b6d1fca5499f');\n",
              "          const dataTable =\n",
              "            await google.colab.kernel.invokeFunction('convertToInteractive',\n",
              "                                                     [key], {});\n",
              "          if (!dataTable) return;\n",
              "\n",
              "          const docLinkHtml = 'Like what you see? Visit the ' +\n",
              "            '<a target=\"_blank\" href=https://colab.research.google.com/notebooks/data_table.ipynb>data table notebook</a>'\n",
              "            + ' to learn more about interactive tables.';\n",
              "          element.innerHTML = '';\n",
              "          dataTable['output_type'] = 'display_data';\n",
              "          await google.colab.output.renderOutput(dataTable, element);\n",
              "          const docLink = document.createElement('div');\n",
              "          docLink.innerHTML = docLinkHtml;\n",
              "          element.appendChild(docLink);\n",
              "        }\n",
              "      </script>\n",
              "    </div>\n",
              "  </div>\n",
              "  "
            ],
            "text/plain": [
              "  Датарегистрации  ...                                       Агентсво\n",
              "0      2019-09-04  ...                                 АО «Интерфакс»\n",
              "1      2019-09-04  ...  Министерство просвещения Российской Федерации\n",
              "\n",
              "[2 rows x 6 columns]"
            ]
          },
          "metadata": {},
          "execution_count": 76
        }
      ]
    },
    {
      "cell_type": "markdown",
      "source": [
        "Переписать список откуда и куда, сравнивать строки"
      ],
      "metadata": {
        "id": "kMP67UP2jUzD"
      }
    },
    {
      "cell_type": "code",
      "source": [
        "agents = []\n",
        "target = ['Министерств','Правительств','Федеральн','Администр']\n",
        "for i in df.Агентсво:\n",
        "  br = 0\n",
        "  for t in target:\n",
        "    if br:\n",
        "      break\n",
        "    if t in i:\n",
        "      br = 1\n",
        "      agents.append(1)\n",
        "  if not(br):\n",
        "    agents.append(0)"
      ],
      "metadata": {
        "id": "Q236iN75jVMy"
      },
      "execution_count": 77,
      "outputs": []
    },
    {
      "cell_type": "code",
      "source": [
        "df['Тип_агентсва'] = agents\n",
        "df.head()"
      ],
      "metadata": {
        "id": "lHzL4J4BjXzK",
        "colab": {
          "base_uri": "https://localhost:8080/",
          "height": 354
        },
        "outputId": "3bc75933-2306-4ad1-f631-54b448e5c402"
      },
      "execution_count": 78,
      "outputs": [
        {
          "output_type": "execute_result",
          "data": {
            "text/html": [
              "\n",
              "  <div id=\"df-6fc52895-d158-4e36-8c74-4e6bdb1de2d0\">\n",
              "    <div class=\"colab-df-container\">\n",
              "      <div>\n",
              "<style scoped>\n",
              "    .dataframe tbody tr th:only-of-type {\n",
              "        vertical-align: middle;\n",
              "    }\n",
              "\n",
              "    .dataframe tbody tr th {\n",
              "        vertical-align: top;\n",
              "    }\n",
              "\n",
              "    .dataframe thead th {\n",
              "        text-align: right;\n",
              "    }\n",
              "</style>\n",
              "<table border=\"1\" class=\"dataframe\">\n",
              "  <thead>\n",
              "    <tr style=\"text-align: right;\">\n",
              "      <th></th>\n",
              "      <th>Датарегистрации</th>\n",
              "      <th>Адресат</th>\n",
              "      <th>Автор</th>\n",
              "      <th>Краткоесодержание</th>\n",
              "      <th>Адресат(-ы)</th>\n",
              "      <th>Агентсво</th>\n",
              "      <th>Тип_агентсва</th>\n",
              "    </tr>\n",
              "  </thead>\n",
              "  <tbody>\n",
              "    <tr>\n",
              "      <th>0</th>\n",
              "      <td>2019-09-04</td>\n",
              "      <td>Уразов Р.Н.</td>\n",
              "      <td>Антонова С.В. (АО «Интерфакс»)</td>\n",
              "      <td>Вх - О возможности использования сетевого изда...</td>\n",
              "      <td>УразовР.Н.</td>\n",
              "      <td>АО «Интерфакс»</td>\n",
              "      <td>0</td>\n",
              "    </tr>\n",
              "    <tr>\n",
              "      <th>1</th>\n",
              "      <td>2019-09-04</td>\n",
              "      <td>Уразов Р.Н.</td>\n",
              "      <td>Картошкин С.А. (Министерство просвещения Росси...</td>\n",
              "      <td>Вх - Об участии в совещании по вопросу доработ...</td>\n",
              "      <td>УразовР.Н.</td>\n",
              "      <td>Министерство просвещения Российской Федерации</td>\n",
              "      <td>1</td>\n",
              "    </tr>\n",
              "    <tr>\n",
              "      <th>2</th>\n",
              "      <td>2019-09-04</td>\n",
              "      <td>Уразов Р.Н.</td>\n",
              "      <td>Цивилев С.Е. (Администрация Кемеровской области)</td>\n",
              "      <td>Вх - О командировании Саликовой К. и Глушко Д....</td>\n",
              "      <td>УразовР.Н.</td>\n",
              "      <td>Администрация Кемеровской области</td>\n",
              "      <td>1</td>\n",
              "    </tr>\n",
              "    <tr>\n",
              "      <th>3</th>\n",
              "      <td>2019-09-04</td>\n",
              "      <td>Иванюк Л.А.</td>\n",
              "      <td>Волков Г.А. (Министерство транспорта Российско...</td>\n",
              "      <td>Вх - Об участии в Чемпионате мира по профессио...</td>\n",
              "      <td>ИванюкЛ.А.</td>\n",
              "      <td>Министерство транспорта Российской Федерации</td>\n",
              "      <td>1</td>\n",
              "    </tr>\n",
              "    <tr>\n",
              "      <th>4</th>\n",
              "      <td>2019-09-04</td>\n",
              "      <td>Уразов Р.Н.</td>\n",
              "      <td>Атанов И.В. (Ставропольский государственный аг...</td>\n",
              "      <td>Вх - Об участии в церемонии открытия Вузовског...</td>\n",
              "      <td>УразовР.Н.</td>\n",
              "      <td>Ставропольский государственный аграрный универ...</td>\n",
              "      <td>0</td>\n",
              "    </tr>\n",
              "  </tbody>\n",
              "</table>\n",
              "</div>\n",
              "      <button class=\"colab-df-convert\" onclick=\"convertToInteractive('df-6fc52895-d158-4e36-8c74-4e6bdb1de2d0')\"\n",
              "              title=\"Convert this dataframe to an interactive table.\"\n",
              "              style=\"display:none;\">\n",
              "        \n",
              "  <svg xmlns=\"http://www.w3.org/2000/svg\" height=\"24px\"viewBox=\"0 0 24 24\"\n",
              "       width=\"24px\">\n",
              "    <path d=\"M0 0h24v24H0V0z\" fill=\"none\"/>\n",
              "    <path d=\"M18.56 5.44l.94 2.06.94-2.06 2.06-.94-2.06-.94-.94-2.06-.94 2.06-2.06.94zm-11 1L8.5 8.5l.94-2.06 2.06-.94-2.06-.94L8.5 2.5l-.94 2.06-2.06.94zm10 10l.94 2.06.94-2.06 2.06-.94-2.06-.94-.94-2.06-.94 2.06-2.06.94z\"/><path d=\"M17.41 7.96l-1.37-1.37c-.4-.4-.92-.59-1.43-.59-.52 0-1.04.2-1.43.59L10.3 9.45l-7.72 7.72c-.78.78-.78 2.05 0 2.83L4 21.41c.39.39.9.59 1.41.59.51 0 1.02-.2 1.41-.59l7.78-7.78 2.81-2.81c.8-.78.8-2.07 0-2.86zM5.41 20L4 18.59l7.72-7.72 1.47 1.35L5.41 20z\"/>\n",
              "  </svg>\n",
              "      </button>\n",
              "      \n",
              "  <style>\n",
              "    .colab-df-container {\n",
              "      display:flex;\n",
              "      flex-wrap:wrap;\n",
              "      gap: 12px;\n",
              "    }\n",
              "\n",
              "    .colab-df-convert {\n",
              "      background-color: #E8F0FE;\n",
              "      border: none;\n",
              "      border-radius: 50%;\n",
              "      cursor: pointer;\n",
              "      display: none;\n",
              "      fill: #1967D2;\n",
              "      height: 32px;\n",
              "      padding: 0 0 0 0;\n",
              "      width: 32px;\n",
              "    }\n",
              "\n",
              "    .colab-df-convert:hover {\n",
              "      background-color: #E2EBFA;\n",
              "      box-shadow: 0px 1px 2px rgba(60, 64, 67, 0.3), 0px 1px 3px 1px rgba(60, 64, 67, 0.15);\n",
              "      fill: #174EA6;\n",
              "    }\n",
              "\n",
              "    [theme=dark] .colab-df-convert {\n",
              "      background-color: #3B4455;\n",
              "      fill: #D2E3FC;\n",
              "    }\n",
              "\n",
              "    [theme=dark] .colab-df-convert:hover {\n",
              "      background-color: #434B5C;\n",
              "      box-shadow: 0px 1px 3px 1px rgba(0, 0, 0, 0.15);\n",
              "      filter: drop-shadow(0px 1px 2px rgba(0, 0, 0, 0.3));\n",
              "      fill: #FFFFFF;\n",
              "    }\n",
              "  </style>\n",
              "\n",
              "      <script>\n",
              "        const buttonEl =\n",
              "          document.querySelector('#df-6fc52895-d158-4e36-8c74-4e6bdb1de2d0 button.colab-df-convert');\n",
              "        buttonEl.style.display =\n",
              "          google.colab.kernel.accessAllowed ? 'block' : 'none';\n",
              "\n",
              "        async function convertToInteractive(key) {\n",
              "          const element = document.querySelector('#df-6fc52895-d158-4e36-8c74-4e6bdb1de2d0');\n",
              "          const dataTable =\n",
              "            await google.colab.kernel.invokeFunction('convertToInteractive',\n",
              "                                                     [key], {});\n",
              "          if (!dataTable) return;\n",
              "\n",
              "          const docLinkHtml = 'Like what you see? Visit the ' +\n",
              "            '<a target=\"_blank\" href=https://colab.research.google.com/notebooks/data_table.ipynb>data table notebook</a>'\n",
              "            + ' to learn more about interactive tables.';\n",
              "          element.innerHTML = '';\n",
              "          dataTable['output_type'] = 'display_data';\n",
              "          await google.colab.output.renderOutput(dataTable, element);\n",
              "          const docLink = document.createElement('div');\n",
              "          docLink.innerHTML = docLinkHtml;\n",
              "          element.appendChild(docLink);\n",
              "        }\n",
              "      </script>\n",
              "    </div>\n",
              "  </div>\n",
              "  "
            ],
            "text/plain": [
              "  Датарегистрации  ... Тип_агентсва\n",
              "0      2019-09-04  ...            0\n",
              "1      2019-09-04  ...            1\n",
              "2      2019-09-04  ...            1\n",
              "3      2019-09-04  ...            1\n",
              "4      2019-09-04  ...            0\n",
              "\n",
              "[5 rows x 7 columns]"
            ]
          },
          "metadata": {},
          "execution_count": 78
        }
      ]
    },
    {
      "cell_type": "markdown",
      "source": [
        "# Предварительная обработка текста"
      ],
      "metadata": {
        "id": "5uYrSh57lSzy"
      }
    },
    {
      "cell_type": "code",
      "source": [
        "!pip install pymorphy2"
      ],
      "metadata": {
        "id": "o-wTaDFtlTgp",
        "colab": {
          "base_uri": "https://localhost:8080/"
        },
        "outputId": "4e36c995-91af-4d8f-82ee-8bf38f7234d3"
      },
      "execution_count": 79,
      "outputs": [
        {
          "output_type": "stream",
          "name": "stdout",
          "text": [
            "Requirement already satisfied: pymorphy2 in /usr/local/lib/python3.7/dist-packages (0.9.1)\n",
            "Requirement already satisfied: dawg-python>=0.7.1 in /usr/local/lib/python3.7/dist-packages (from pymorphy2) (0.7.2)\n",
            "Requirement already satisfied: docopt>=0.6 in /usr/local/lib/python3.7/dist-packages (from pymorphy2) (0.6.2)\n",
            "Requirement already satisfied: pymorphy2-dicts-ru<3.0,>=2.4 in /usr/local/lib/python3.7/dist-packages (from pymorphy2) (2.4.417127.4579844)\n"
          ]
        }
      ]
    },
    {
      "cell_type": "code",
      "source": [
        "import nltk\n",
        "nltk.download(\"stopwords\")\n",
        "from nltk.corpus import stopwords"
      ],
      "metadata": {
        "id": "lWA3as-olVdq",
        "colab": {
          "base_uri": "https://localhost:8080/"
        },
        "outputId": "1dffdc5f-bd96-4c97-b61f-37ba050db207"
      },
      "execution_count": 80,
      "outputs": [
        {
          "output_type": "stream",
          "name": "stdout",
          "text": [
            "[nltk_data] Downloading package stopwords to /root/nltk_data...\n",
            "[nltk_data]   Package stopwords is already up-to-date!\n"
          ]
        }
      ]
    },
    {
      "cell_type": "markdown",
      "source": [
        "Удаление стоп-слов"
      ],
      "metadata": {
        "id": "mcvn5PySlWxj"
      }
    },
    {
      "cell_type": "code",
      "source": [
        "all_stopwords = stopwords.words(\"russian\")"
      ],
      "metadata": {
        "id": "ucC4rrfQlWZ6"
      },
      "execution_count": 81,
      "outputs": []
    },
    {
      "cell_type": "code",
      "source": [
        "%%time\n",
        "list2 = []\n",
        "for j in df.Краткоесодержание:\n",
        "  list1 = []\n",
        "  for i in j.split(\" \"):\n",
        "    if i not in all_stopwords:\n",
        "      list1.append(i)\n",
        "  \n",
        "  list2.append((\" \").join(list1))"
      ],
      "metadata": {
        "id": "A4d7KCTdlplq",
        "colab": {
          "base_uri": "https://localhost:8080/"
        },
        "outputId": "f6926d84-657c-4ad3-cb6c-9ba03d0f2f39"
      },
      "execution_count": 82,
      "outputs": [
        {
          "output_type": "stream",
          "name": "stdout",
          "text": [
            "CPU times: user 166 ms, sys: 3.27 ms, total: 169 ms\n",
            "Wall time: 172 ms\n"
          ]
        }
      ]
    },
    {
      "cell_type": "markdown",
      "source": [
        "Всё фурычит :)))"
      ],
      "metadata": {
        "id": "3FG8NyfYm53y"
      }
    },
    {
      "cell_type": "code",
      "source": [
        "from nltk.stem.snowball import SnowballStemmer"
      ],
      "metadata": {
        "id": "Lt7C3VcbnB6b"
      },
      "execution_count": 83,
      "outputs": []
    },
    {
      "cell_type": "code",
      "source": [
        "from nltk.stem.snowball import SnowballStemmer\n",
        "stemmer = SnowballStemmer(\"russian\")\n",
        "def stm(doc):\n",
        "    tokens = []\n",
        "    for token in doc.split():\n",
        "      token = stemmer.stem(token)\n",
        "      tokens.append(token)\n",
        "    if len(tokens) > 0:\n",
        "        return (\" \").join(tokens)\n",
        "    return None"
      ],
      "metadata": {
        "id": "cAsXBroknCUu"
      },
      "execution_count": 84,
      "outputs": []
    },
    {
      "cell_type": "code",
      "source": [
        "df.Краткоесодержание = df.Краткоесодержание.apply(stm)"
      ],
      "metadata": {
        "id": "xmmKMhyynFAy"
      },
      "execution_count": 85,
      "outputs": []
    },
    {
      "cell_type": "code",
      "source": [
        "df.Краткоесодержание[10]"
      ],
      "metadata": {
        "id": "z6V7ZKVLnLra",
        "colab": {
          "base_uri": "https://localhost:8080/",
          "height": 35
        },
        "outputId": "97ef3649-87ee-4f15-e8a0-57d864227587"
      },
      "execution_count": 86,
      "outputs": [
        {
          "output_type": "execute_result",
          "data": {
            "application/vnd.google.colaboratory.intrinsic+json": {
              "type": "string"
            },
            "text/plain": [
              "'вх - об участ в заочн заседан совет по профквалификац в машиностроение, 8 апр 2019'"
            ]
          },
          "metadata": {},
          "execution_count": 86
        }
      ]
    },
    {
      "cell_type": "markdown",
      "source": [
        "#Разработка бота"
      ],
      "metadata": {
        "id": "K6EKgvnCnXMi"
      }
    },
    {
      "cell_type": "code",
      "source": [
        "from sklearn.feature_extraction.text import TfidfVectorizer\n",
        "from sklearn.preprocessing import StandardScaler\n",
        "from sklearn.model_selection import train_test_split"
      ],
      "metadata": {
        "id": "LGab0RKtoVo6"
      },
      "execution_count": 87,
      "outputs": []
    },
    {
      "cell_type": "code",
      "source": [
        "df.head()"
      ],
      "metadata": {
        "id": "LWNiuXkIoXVC",
        "colab": {
          "base_uri": "https://localhost:8080/",
          "height": 354
        },
        "outputId": "363625e1-ef0b-4417-be34-4af184f984f7"
      },
      "execution_count": 88,
      "outputs": [
        {
          "output_type": "execute_result",
          "data": {
            "text/html": [
              "\n",
              "  <div id=\"df-cd667e50-c624-485f-b10e-839eeaf753bc\">\n",
              "    <div class=\"colab-df-container\">\n",
              "      <div>\n",
              "<style scoped>\n",
              "    .dataframe tbody tr th:only-of-type {\n",
              "        vertical-align: middle;\n",
              "    }\n",
              "\n",
              "    .dataframe tbody tr th {\n",
              "        vertical-align: top;\n",
              "    }\n",
              "\n",
              "    .dataframe thead th {\n",
              "        text-align: right;\n",
              "    }\n",
              "</style>\n",
              "<table border=\"1\" class=\"dataframe\">\n",
              "  <thead>\n",
              "    <tr style=\"text-align: right;\">\n",
              "      <th></th>\n",
              "      <th>Датарегистрации</th>\n",
              "      <th>Адресат</th>\n",
              "      <th>Автор</th>\n",
              "      <th>Краткоесодержание</th>\n",
              "      <th>Адресат(-ы)</th>\n",
              "      <th>Агентсво</th>\n",
              "      <th>Тип_агентсва</th>\n",
              "    </tr>\n",
              "  </thead>\n",
              "  <tbody>\n",
              "    <tr>\n",
              "      <th>0</th>\n",
              "      <td>2019-09-04</td>\n",
              "      <td>Уразов Р.Н.</td>\n",
              "      <td>Антонова С.В. (АО «Интерфакс»)</td>\n",
              "      <td>вх - о возможн использован сетев издан \"информ...</td>\n",
              "      <td>УразовР.Н.</td>\n",
              "      <td>АО «Интерфакс»</td>\n",
              "      <td>0</td>\n",
              "    </tr>\n",
              "    <tr>\n",
              "      <th>1</th>\n",
              "      <td>2019-09-04</td>\n",
              "      <td>Уразов Р.Н.</td>\n",
              "      <td>Картошкин С.А. (Министерство просвещения Росси...</td>\n",
              "      <td>вх - об участ в совещан по вопрос доработк фэ ...</td>\n",
              "      <td>УразовР.Н.</td>\n",
              "      <td>Министерство просвещения Российской Федерации</td>\n",
              "      <td>1</td>\n",
              "    </tr>\n",
              "    <tr>\n",
              "      <th>2</th>\n",
              "      <td>2019-09-04</td>\n",
              "      <td>Уразов Р.Н.</td>\n",
              "      <td>Цивилев С.Е. (Администрация Кемеровской области)</td>\n",
              "      <td>вх - о командирован саликов к. и глушк д. для ...</td>\n",
              "      <td>УразовР.Н.</td>\n",
              "      <td>Администрация Кемеровской области</td>\n",
              "      <td>1</td>\n",
              "    </tr>\n",
              "    <tr>\n",
              "      <th>3</th>\n",
              "      <td>2019-09-04</td>\n",
              "      <td>Иванюк Л.А.</td>\n",
              "      <td>Волков Г.А. (Министерство транспорта Российско...</td>\n",
              "      <td>вх - об участ в чемпионат мир по профессиональ...</td>\n",
              "      <td>ИванюкЛ.А.</td>\n",
              "      <td>Министерство транспорта Российской Федерации</td>\n",
              "      <td>1</td>\n",
              "    </tr>\n",
              "    <tr>\n",
              "      <th>4</th>\n",
              "      <td>2019-09-04</td>\n",
              "      <td>Уразов Р.Н.</td>\n",
              "      <td>Атанов И.В. (Ставропольский государственный аг...</td>\n",
              "      <td>вх - об участ в церемон открыт вузовск чемпион...</td>\n",
              "      <td>УразовР.Н.</td>\n",
              "      <td>Ставропольский государственный аграрный универ...</td>\n",
              "      <td>0</td>\n",
              "    </tr>\n",
              "  </tbody>\n",
              "</table>\n",
              "</div>\n",
              "      <button class=\"colab-df-convert\" onclick=\"convertToInteractive('df-cd667e50-c624-485f-b10e-839eeaf753bc')\"\n",
              "              title=\"Convert this dataframe to an interactive table.\"\n",
              "              style=\"display:none;\">\n",
              "        \n",
              "  <svg xmlns=\"http://www.w3.org/2000/svg\" height=\"24px\"viewBox=\"0 0 24 24\"\n",
              "       width=\"24px\">\n",
              "    <path d=\"M0 0h24v24H0V0z\" fill=\"none\"/>\n",
              "    <path d=\"M18.56 5.44l.94 2.06.94-2.06 2.06-.94-2.06-.94-.94-2.06-.94 2.06-2.06.94zm-11 1L8.5 8.5l.94-2.06 2.06-.94-2.06-.94L8.5 2.5l-.94 2.06-2.06.94zm10 10l.94 2.06.94-2.06 2.06-.94-2.06-.94-.94-2.06-.94 2.06-2.06.94z\"/><path d=\"M17.41 7.96l-1.37-1.37c-.4-.4-.92-.59-1.43-.59-.52 0-1.04.2-1.43.59L10.3 9.45l-7.72 7.72c-.78.78-.78 2.05 0 2.83L4 21.41c.39.39.9.59 1.41.59.51 0 1.02-.2 1.41-.59l7.78-7.78 2.81-2.81c.8-.78.8-2.07 0-2.86zM5.41 20L4 18.59l7.72-7.72 1.47 1.35L5.41 20z\"/>\n",
              "  </svg>\n",
              "      </button>\n",
              "      \n",
              "  <style>\n",
              "    .colab-df-container {\n",
              "      display:flex;\n",
              "      flex-wrap:wrap;\n",
              "      gap: 12px;\n",
              "    }\n",
              "\n",
              "    .colab-df-convert {\n",
              "      background-color: #E8F0FE;\n",
              "      border: none;\n",
              "      border-radius: 50%;\n",
              "      cursor: pointer;\n",
              "      display: none;\n",
              "      fill: #1967D2;\n",
              "      height: 32px;\n",
              "      padding: 0 0 0 0;\n",
              "      width: 32px;\n",
              "    }\n",
              "\n",
              "    .colab-df-convert:hover {\n",
              "      background-color: #E2EBFA;\n",
              "      box-shadow: 0px 1px 2px rgba(60, 64, 67, 0.3), 0px 1px 3px 1px rgba(60, 64, 67, 0.15);\n",
              "      fill: #174EA6;\n",
              "    }\n",
              "\n",
              "    [theme=dark] .colab-df-convert {\n",
              "      background-color: #3B4455;\n",
              "      fill: #D2E3FC;\n",
              "    }\n",
              "\n",
              "    [theme=dark] .colab-df-convert:hover {\n",
              "      background-color: #434B5C;\n",
              "      box-shadow: 0px 1px 3px 1px rgba(0, 0, 0, 0.15);\n",
              "      filter: drop-shadow(0px 1px 2px rgba(0, 0, 0, 0.3));\n",
              "      fill: #FFFFFF;\n",
              "    }\n",
              "  </style>\n",
              "\n",
              "      <script>\n",
              "        const buttonEl =\n",
              "          document.querySelector('#df-cd667e50-c624-485f-b10e-839eeaf753bc button.colab-df-convert');\n",
              "        buttonEl.style.display =\n",
              "          google.colab.kernel.accessAllowed ? 'block' : 'none';\n",
              "\n",
              "        async function convertToInteractive(key) {\n",
              "          const element = document.querySelector('#df-cd667e50-c624-485f-b10e-839eeaf753bc');\n",
              "          const dataTable =\n",
              "            await google.colab.kernel.invokeFunction('convertToInteractive',\n",
              "                                                     [key], {});\n",
              "          if (!dataTable) return;\n",
              "\n",
              "          const docLinkHtml = 'Like what you see? Visit the ' +\n",
              "            '<a target=\"_blank\" href=https://colab.research.google.com/notebooks/data_table.ipynb>data table notebook</a>'\n",
              "            + ' to learn more about interactive tables.';\n",
              "          element.innerHTML = '';\n",
              "          dataTable['output_type'] = 'display_data';\n",
              "          await google.colab.output.renderOutput(dataTable, element);\n",
              "          const docLink = document.createElement('div');\n",
              "          docLink.innerHTML = docLinkHtml;\n",
              "          element.appendChild(docLink);\n",
              "        }\n",
              "      </script>\n",
              "    </div>\n",
              "  </div>\n",
              "  "
            ],
            "text/plain": [
              "  Датарегистрации  ... Тип_агентсва\n",
              "0      2019-09-04  ...            0\n",
              "1      2019-09-04  ...            1\n",
              "2      2019-09-04  ...            1\n",
              "3      2019-09-04  ...            1\n",
              "4      2019-09-04  ...            0\n",
              "\n",
              "[5 rows x 7 columns]"
            ]
          },
          "metadata": {},
          "execution_count": 88
        }
      ]
    },
    {
      "cell_type": "code",
      "source": [
        "X = df.Краткоесодержание\n",
        "y = df.Адресат"
      ],
      "metadata": {
        "id": "h5i-_M0yohja"
      },
      "execution_count": 89,
      "outputs": []
    },
    {
      "cell_type": "code",
      "source": [
        "X_train, X_test, y_train, y_test = train_test_split(X, y, test_size = 0.20)\n",
        "X_train = X_train.reset_index(drop = True)\n",
        "y_train = y_train.reset_index(drop = True)\n",
        "X_test = X_test.reset_index(drop = True)\n",
        "y_test = y_test.reset_index(drop = True)"
      ],
      "metadata": {
        "id": "biT_MBW0opJ6"
      },
      "execution_count": 90,
      "outputs": []
    },
    {
      "cell_type": "code",
      "source": [
        "vectorizer = TfidfVectorizer(max_features = 10000)"
      ],
      "metadata": {
        "id": "PGbalKHZoqJy"
      },
      "execution_count": 91,
      "outputs": []
    },
    {
      "cell_type": "code",
      "source": [
        "X_train = vectorizer.fit_transform(X_train)\n",
        "X_test = vectorizer.transform(X_test)"
      ],
      "metadata": {
        "id": "-sdUY2HiorJC"
      },
      "execution_count": 92,
      "outputs": []
    },
    {
      "cell_type": "code",
      "source": [
        "from sklearn.svm import SVC\n",
        "from sklearn.metrics import classification_report, f1_score "
      ],
      "metadata": {
        "id": "eo9TFKCLosgs"
      },
      "execution_count": 93,
      "outputs": []
    },
    {
      "cell_type": "code",
      "source": [
        "%%time\n",
        "model_SVC = SVC(C = 1, kernel = 'linear')\n",
        "model_SVC.fit(X_train, y_train)\n",
        "res = model_SVC.predict(X_test)"
      ],
      "metadata": {
        "id": "osbHl46vouQ5",
        "colab": {
          "base_uri": "https://localhost:8080/"
        },
        "outputId": "e0f81943-846e-43e5-808c-d09a5767f94f"
      },
      "execution_count": 94,
      "outputs": [
        {
          "output_type": "stream",
          "name": "stdout",
          "text": [
            "CPU times: user 5.79 s, sys: 698 µs, total: 5.8 s\n",
            "Wall time: 5.82 s\n"
          ]
        }
      ]
    },
    {
      "cell_type": "code",
      "source": [
        "from sklearn.ensemble import RandomForestClassifier\n",
        "\n",
        "clf = RandomForestClassifier()\n",
        "clf.fit(X_train,y_train)\n",
        "\n",
        "y_pred = clf.predict(X_test)\n",
        "\n",
        "from sklearn import metrics\n",
        "print(\"Точность:\", metrics.accuracy_score(y_test, y_pred))"
      ],
      "metadata": {
        "id": "xRqOBK9ura98",
        "colab": {
          "base_uri": "https://localhost:8080/"
        },
        "outputId": "4648e81b-3a50-4d86-d37b-95cc7d690303"
      },
      "execution_count": 95,
      "outputs": [
        {
          "output_type": "stream",
          "name": "stdout",
          "text": [
            "Точность: 0.6830985915492958\n"
          ]
        }
      ]
    },
    {
      "cell_type": "code",
      "source": [
        "def adres():\n",
        "    classificationResult = clf.predict(vectorizer.transform([request1]))\n",
        "    return classificationResult[0]\n",
        "\n",
        "request = input('Документация: Определить адресата введите /adresat\\nОписание естественным языком введите /text\\nДокументация /help\\nВведите - ')\n",
        "if request == \"/adresat\" or request == \"/text\":\n",
        "    request1 = input(\"Введите документ - \")\n",
        "    print(\"Адресат - \" + adres())\n",
        "elif request == \"/help\":\n",
        "    print(\"Документация: Определить адресата введите /adresat\\nОписание естественным языком введите /text\")\n",
        "else:\n",
        "    print(\"А я тебя не понял :D\")"
      ],
      "metadata": {
        "id": "UYI8UD3D5SgX",
        "colab": {
          "base_uri": "https://localhost:8080/"
        },
        "outputId": "58dcbde2-e000-44ab-f2b3-0f347e96f2a3"
      },
      "execution_count": 96,
      "outputs": [
        {
          "output_type": "stream",
          "name": "stdout",
          "text": [
            "Документация: Определить адресата введите /adresat\n",
            "Описание естественным языком введите /text\n",
            "Документация /help\n",
            "Введите - 1\n",
            "А я тебя не понял :D\n"
          ]
        }
      ]
    },
    {
      "cell_type": "code",
      "source": [
        "def adres():\n",
        "    classificationResult = clf.predict(vectorizer.transform([request1]))\n",
        "    return classificationResult[0]\n",
        "\n",
        "request = input('Документация: Определить адресата введите /adresat\\nОписание естественным языком введите /text\\nДокументация /help\\nВведите - ')\n",
        "if request == \"/adresat\" or request == \"/text\":\n",
        "    request1 = input(\"Введите документ - \")\n",
        "    print(\"Адресат - \" + adres())\n",
        "elif request == \"/help\":\n",
        "    print(\"Документация: Определить адресата введите /adresat\\nОписание естественным языком введите /text\")\n",
        "else:\n",
        "    print(\"А я тебя не понял :D\")"
      ],
      "metadata": {
        "colab": {
          "base_uri": "https://localhost:8080/"
        },
        "id": "mV5FIMzM_kTN",
        "outputId": "25e7ef2a-119c-4b31-a9df-38552e2cf901"
      },
      "execution_count": 97,
      "outputs": [
        {
          "output_type": "stream",
          "name": "stdout",
          "text": [
            "Документация: Определить адресата введите /adresat\n",
            "Описание естественным языком введите /text\n",
            "Документация /help\n",
            "Введите - 1\n",
            "А я тебя не понял :D\n"
          ]
        }
      ]
    },
    {
      "cell_type": "code",
      "source": [
        "def adres():\n",
        "    classificationResult = clf.predict(vectorizer.transform([request1]))\n",
        "    return classificationResult[0]\n",
        "\n",
        "request = input('Документация: Определить адресата введите /adresat\\nОписание естественным языком введите /text\\nДокументация /help\\nВведите - ')\n",
        "if request == \"/adresat\" or request == \"/text\":\n",
        "    request1 = input(\"Введите документ - \")\n",
        "    print(\"Адресат - \" + adres())\n",
        "elif request == \"/help\":\n",
        "    print(\"Документация: Определить адресата введите /adresat\\nОписание естественным языком введите /text\")\n",
        "else:\n",
        "    print(\"А я тебя не понял :D\")"
      ],
      "metadata": {
        "colab": {
          "base_uri": "https://localhost:8080/"
        },
        "id": "n224pbCFFTU8",
        "outputId": "a8409d99-5b12-47b5-eeec-35ab2019e3e3"
      },
      "execution_count": 98,
      "outputs": [
        {
          "output_type": "stream",
          "name": "stdout",
          "text": [
            "Документация: Определить адресата введите /adresat\n",
            "Описание естественным языком введите /text\n",
            "Документация /help\n",
            "Введите - 1\n",
            "А я тебя не понял :D\n"
          ]
        }
      ]
    },
    {
      "cell_type": "markdown",
      "source": [
        "#Разработка API"
      ],
      "metadata": {
        "id": "T-1ygbtN7H6R"
      }
    },
    {
      "cell_type": "code",
      "source": [
        "import pickle"
      ],
      "metadata": {
        "id": "4oURaqReKl4w"
      },
      "execution_count": 99,
      "outputs": []
    },
    {
      "cell_type": "markdown",
      "source": [
        "Скачал обученную модель"
      ],
      "metadata": {
        "id": "qYDW_j1td7be"
      }
    },
    {
      "cell_type": "code",
      "source": [
        "pickle.dump(clf, open('rf_cls', 'wb'))"
      ],
      "metadata": {
        "id": "yQeIUJn6K2aS"
      },
      "execution_count": 102,
      "outputs": []
    },
    {
      "cell_type": "markdown",
      "source": [
        ""
      ],
      "metadata": {
        "id": "G24tQJa8eART"
      }
    }
  ]
}