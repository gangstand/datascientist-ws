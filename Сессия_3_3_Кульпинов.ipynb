{
  "nbformat": 4,
  "nbformat_minor": 0,
  "metadata": {
    "colab": {
      "name": "Сессия_3_3_Кульпинов.ipynb",
      "provenance": [],
      "collapsed_sections": []
    },
    "kernelspec": {
      "name": "python3",
      "display_name": "Python 3"
    },
    "language_info": {
      "name": "python"
    },
    "widgets": {
      "application/vnd.jupyter.widget-state+json": {
        "cfa6aa341a6149fc9339c01be2988e74": {
          "model_module": "catboost-widget",
          "model_name": "CatboostWidgetModel",
          "model_module_version": "^1.0.0",
          "state": {
            "_view_name": "CatboostWidgetView",
            "_dom_classes": [],
            "_model_name": "CatboostWidgetModel",
            "data": {
              "catboost_info": {
                "content": {
                  "data": {
                    "meta": {
                      "name": "experiment",
                      "parameters": "",
                      "test_metrics": [],
                      "learn_sets": [
                        "learn"
                      ],
                      "launch_mode": "Train",
                      "learn_metrics": [
                        {
                          "best_value": "Min",
                          "name": "RMSE"
                        }
                      ],
                      "iteration_count": 1000,
                      "test_sets": []
                    },
                    "iterations": [
                      {
                        "passed_time": 0.0112918292,
                        "iteration": 0,
                        "remaining_time": 11.28053737,
                        "learn": [
                          0.488171294
                        ]
                      },
                      {
                        "passed_time": 0.01518371963,
                        "iteration": 1,
                        "remaining_time": 7.576676093,
                        "learn": [
                          0.4863188955
                        ]
                      },
                      {
                        "passed_time": 0.01891164361,
                        "iteration": 2,
                        "remaining_time": 6.284969558,
                        "learn": [
                          0.4847791858
                        ]
                      },
                      {
                        "passed_time": 0.02199219274,
                        "iteration": 3,
                        "remaining_time": 5.476055992,
                        "learn": [
                          0.4833832063
                        ]
                      },
                      {
                        "passed_time": 0.02597585356,
                        "iteration": 4,
                        "remaining_time": 5.169194858,
                        "learn": [
                          0.4821327478
                        ]
                      },
                      {
                        "passed_time": 0.02968851437,
                        "iteration": 5,
                        "remaining_time": 4.918397214,
                        "learn": [
                          0.4806483338
                        ]
                      },
                      {
                        "passed_time": 0.03369714802,
                        "iteration": 6,
                        "remaining_time": 4.780181141,
                        "learn": [
                          0.4795782549
                        ]
                      },
                      {
                        "passed_time": 0.03805692912,
                        "iteration": 7,
                        "remaining_time": 4.71905921,
                        "learn": [
                          0.4785363778
                        ]
                      },
                      {
                        "passed_time": 0.04095448659,
                        "iteration": 8,
                        "remaining_time": 4.509544024,
                        "learn": [
                          0.4777036143
                        ]
                      },
                      {
                        "passed_time": 0.04487751794,
                        "iteration": 9,
                        "remaining_time": 4.442874276,
                        "learn": [
                          0.4768560826
                        ]
                      },
                      {
                        "passed_time": 0.04884061392,
                        "iteration": 10,
                        "remaining_time": 4.391215197,
                        "learn": [
                          0.475905448
                        ]
                      },
                      {
                        "passed_time": 0.05296650309,
                        "iteration": 11,
                        "remaining_time": 4.360908755,
                        "learn": [
                          0.4751382962
                        ]
                      },
                      {
                        "passed_time": 0.05658188774,
                        "iteration": 12,
                        "remaining_time": 4.295871015,
                        "learn": [
                          0.4742894978
                        ]
                      },
                      {
                        "passed_time": 0.06027925174,
                        "iteration": 13,
                        "remaining_time": 4.245381587,
                        "learn": [
                          0.4736556893
                        ]
                      },
                      {
                        "passed_time": 0.06388471352,
                        "iteration": 14,
                        "remaining_time": 4.195096188,
                        "learn": [
                          0.4730712621
                        ]
                      },
                      {
                        "passed_time": 0.06727441491,
                        "iteration": 15,
                        "remaining_time": 4.137376517,
                        "learn": [
                          0.4725308937
                        ]
                      },
                      {
                        "passed_time": 0.07149759207,
                        "iteration": 16,
                        "remaining_time": 4.134243118,
                        "learn": [
                          0.4720065212
                        ]
                      },
                      {
                        "passed_time": 0.07489123551,
                        "iteration": 17,
                        "remaining_time": 4.085732959,
                        "learn": [
                          0.4714411386
                        ]
                      },
                      {
                        "passed_time": 0.07740564366,
                        "iteration": 18,
                        "remaining_time": 3.996575602,
                        "learn": [
                          0.4709832095
                        ]
                      },
                      {
                        "passed_time": 0.08113509591,
                        "iteration": 19,
                        "remaining_time": 3.9756197,
                        "learn": [
                          0.4703543532
                        ]
                      },
                      {
                        "passed_time": 0.0845412269,
                        "iteration": 20,
                        "remaining_time": 3.941231483,
                        "learn": [
                          0.4699871261
                        ]
                      },
                      {
                        "passed_time": 0.08917436087,
                        "iteration": 21,
                        "remaining_time": 3.964205679,
                        "learn": [
                          0.4696792534
                        ]
                      },
                      {
                        "passed_time": 0.09181695882,
                        "iteration": 22,
                        "remaining_time": 3.900224729,
                        "learn": [
                          0.4693674907
                        ]
                      },
                      {
                        "passed_time": 0.09563988111,
                        "iteration": 23,
                        "remaining_time": 3.889355165,
                        "learn": [
                          0.4689903523
                        ]
                      },
                      {
                        "passed_time": 0.09903509646,
                        "iteration": 24,
                        "remaining_time": 3.862368762,
                        "learn": [
                          0.4687123085
                        ]
                      },
                      {
                        "passed_time": 0.1030006908,
                        "iteration": 25,
                        "remaining_time": 3.858564338,
                        "learn": [
                          0.4683419312
                        ]
                      },
                      {
                        "passed_time": 0.105162525,
                        "iteration": 26,
                        "remaining_time": 3.789745809,
                        "learn": [
                          0.4682005419
                        ]
                      },
                      {
                        "passed_time": 0.1089524886,
                        "iteration": 27,
                        "remaining_time": 3.782207817,
                        "learn": [
                          0.4679581408
                        ]
                      },
                      {
                        "passed_time": 0.1109296488,
                        "iteration": 28,
                        "remaining_time": 3.714230654,
                        "learn": [
                          0.4678226894
                        ]
                      },
                      {
                        "passed_time": 0.1149350636,
                        "iteration": 29,
                        "remaining_time": 3.716233723,
                        "learn": [
                          0.4676436594
                        ]
                      },
                      {
                        "passed_time": 0.1186293811,
                        "iteration": 30,
                        "remaining_time": 3.708124847,
                        "learn": [
                          0.4674579779
                        ]
                      },
                      {
                        "passed_time": 0.1222252605,
                        "iteration": 31,
                        "remaining_time": 3.697314129,
                        "learn": [
                          0.4672260603
                        ]
                      },
                      {
                        "passed_time": 0.1259192906,
                        "iteration": 32,
                        "remaining_time": 3.689816789,
                        "learn": [
                          0.4670299016
                        ]
                      },
                      {
                        "passed_time": 0.1294012084,
                        "iteration": 33,
                        "remaining_time": 3.676516684,
                        "learn": [
                          0.4669073902
                        ]
                      },
                      {
                        "passed_time": 0.1327739015,
                        "iteration": 34,
                        "remaining_time": 3.660766141,
                        "learn": [
                          0.466708288
                        ]
                      },
                      {
                        "passed_time": 0.13648652,
                        "iteration": 35,
                        "remaining_time": 3.654805702,
                        "learn": [
                          0.4665498674
                        ]
                      },
                      {
                        "passed_time": 0.140020894,
                        "iteration": 36,
                        "remaining_time": 3.644327592,
                        "learn": [
                          0.4664070045
                        ]
                      },
                      {
                        "passed_time": 0.1415962711,
                        "iteration": 37,
                        "remaining_time": 3.584621388,
                        "learn": [
                          0.466350795
                        ]
                      },
                      {
                        "passed_time": 0.1448828423,
                        "iteration": 38,
                        "remaining_time": 3.570061832,
                        "learn": [
                          0.4662533832
                        ]
                      },
                      {
                        "passed_time": 0.1505196548,
                        "iteration": 39,
                        "remaining_time": 3.612471715,
                        "learn": [
                          0.4661433051
                        ]
                      },
                      {
                        "passed_time": 0.156240269,
                        "iteration": 40,
                        "remaining_time": 3.654497999,
                        "learn": [
                          0.4659136553
                        ]
                      },
                      {
                        "passed_time": 0.159976613,
                        "iteration": 41,
                        "remaining_time": 3.648990363,
                        "learn": [
                          0.4657478033
                        ]
                      },
                      {
                        "passed_time": 0.163436128,
                        "iteration": 42,
                        "remaining_time": 3.637404059,
                        "learn": [
                          0.4655871493
                        ]
                      },
                      {
                        "passed_time": 0.167572061,
                        "iteration": 43,
                        "remaining_time": 3.64088387,
                        "learn": [
                          0.4654313208
                        ]
                      },
                      {
                        "passed_time": 0.17100739,
                        "iteration": 44,
                        "remaining_time": 3.629156833,
                        "learn": [
                          0.4653069147
                        ]
                      },
                      {
                        "passed_time": 0.1747049132,
                        "iteration": 45,
                        "remaining_time": 3.623227981,
                        "learn": [
                          0.4651308102
                        ]
                      },
                      {
                        "passed_time": 0.1763819212,
                        "iteration": 46,
                        "remaining_time": 3.576424913,
                        "learn": [
                          0.4651098591
                        ]
                      },
                      {
                        "passed_time": 0.1799825773,
                        "iteration": 47,
                        "remaining_time": 3.569654449,
                        "learn": [
                          0.4649950013
                        ]
                      },
                      {
                        "passed_time": 0.1835117714,
                        "iteration": 48,
                        "remaining_time": 3.56162642,
                        "learn": [
                          0.4648322846
                        ]
                      },
                      {
                        "passed_time": 0.1858922776,
                        "iteration": 49,
                        "remaining_time": 3.531953274,
                        "learn": [
                          0.4647605954
                        ]
                      },
                      {
                        "passed_time": 0.189609735,
                        "iteration": 50,
                        "remaining_time": 3.528228207,
                        "learn": [
                          0.4646420194
                        ]
                      },
                      {
                        "passed_time": 0.193474388,
                        "iteration": 51,
                        "remaining_time": 3.527186919,
                        "learn": [
                          0.4645437711
                        ]
                      },
                      {
                        "passed_time": 0.196934988,
                        "iteration": 52,
                        "remaining_time": 3.518819503,
                        "learn": [
                          0.4644891713
                        ]
                      },
                      {
                        "passed_time": 0.2002930267,
                        "iteration": 53,
                        "remaining_time": 3.508837097,
                        "learn": [
                          0.4643956838
                        ]
                      },
                      {
                        "passed_time": 0.2024449044,
                        "iteration": 54,
                        "remaining_time": 3.47837154,
                        "learn": [
                          0.4643598691
                        ]
                      },
                      {
                        "passed_time": 0.2065756684,
                        "iteration": 55,
                        "remaining_time": 3.482275554,
                        "learn": [
                          0.4642586259
                        ]
                      },
                      {
                        "passed_time": 0.2102323437,
                        "iteration": 56,
                        "remaining_time": 3.478054388,
                        "learn": [
                          0.464169233
                        ]
                      },
                      {
                        "passed_time": 0.213788709,
                        "iteration": 57,
                        "remaining_time": 3.472223514,
                        "learn": [
                          0.4640512493
                        ]
                      },
                      {
                        "passed_time": 0.2174473684,
                        "iteration": 58,
                        "remaining_time": 3.468101249,
                        "learn": [
                          0.4639779218
                        ]
                      },
                      {
                        "passed_time": 0.2203029189,
                        "iteration": 59,
                        "remaining_time": 3.451412396,
                        "learn": [
                          0.4638505069
                        ]
                      },
                      {
                        "passed_time": 0.2238317862,
                        "iteration": 60,
                        "remaining_time": 3.445541757,
                        "learn": [
                          0.4637904285
                        ]
                      },
                      {
                        "passed_time": 0.2272821807,
                        "iteration": 61,
                        "remaining_time": 3.438559443,
                        "learn": [
                          0.4636691041
                        ]
                      },
                      {
                        "passed_time": 0.2310403641,
                        "iteration": 62,
                        "remaining_time": 3.436267003,
                        "learn": [
                          0.4636410033
                        ]
                      },
                      {
                        "passed_time": 0.2345842287,
                        "iteration": 63,
                        "remaining_time": 3.430794344,
                        "learn": [
                          0.4635796843
                        ]
                      },
                      {
                        "passed_time": 0.2369426095,
                        "iteration": 64,
                        "remaining_time": 3.408328306,
                        "learn": [
                          0.4635446688
                        ]
                      },
                      {
                        "passed_time": 0.2403220821,
                        "iteration": 65,
                        "remaining_time": 3.400921586,
                        "learn": [
                          0.4634541899
                        ]
                      },
                      {
                        "passed_time": 0.2438043925,
                        "iteration": 66,
                        "remaining_time": 3.395067138,
                        "learn": [
                          0.4633853908
                        ]
                      },
                      {
                        "passed_time": 0.247691495,
                        "iteration": 67,
                        "remaining_time": 3.39483049,
                        "learn": [
                          0.4632851094
                        ]
                      },
                      {
                        "passed_time": 0.251090756,
                        "iteration": 68,
                        "remaining_time": 3.387905708,
                        "learn": [
                          0.4632114893
                        ]
                      },
                      {
                        "passed_time": 0.2546919444,
                        "iteration": 69,
                        "remaining_time": 3.383764404,
                        "learn": [
                          0.4631381953
                        ]
                      },
                      {
                        "passed_time": 0.2580606604,
                        "iteration": 70,
                        "remaining_time": 3.376596529,
                        "learn": [
                          0.4630473555
                        ]
                      },
                      {
                        "passed_time": 0.2620760817,
                        "iteration": 71,
                        "remaining_time": 3.377869498,
                        "learn": [
                          0.4629888053
                        ]
                      },
                      {
                        "passed_time": 0.2647943973,
                        "iteration": 72,
                        "remaining_time": 3.362526114,
                        "learn": [
                          0.4629139218
                        ]
                      },
                      {
                        "passed_time": 0.2682179607,
                        "iteration": 73,
                        "remaining_time": 3.356349076,
                        "learn": [
                          0.4628200448
                        ]
                      },
                      {
                        "passed_time": 0.2717586519,
                        "iteration": 74,
                        "remaining_time": 3.35169004,
                        "learn": [
                          0.4627496911
                        ]
                      },
                      {
                        "passed_time": 0.2756541989,
                        "iteration": 75,
                        "remaining_time": 3.351374734,
                        "learn": [
                          0.4626663502
                        ]
                      },
                      {
                        "passed_time": 0.279702218,
                        "iteration": 76,
                        "remaining_time": 3.35279412,
                        "learn": [
                          0.4625752359
                        ]
                      },
                      {
                        "passed_time": 0.2832968633,
                        "iteration": 77,
                        "remaining_time": 3.348714204,
                        "learn": [
                          0.462508354
                        ]
                      },
                      {
                        "passed_time": 0.2875050409,
                        "iteration": 78,
                        "remaining_time": 3.351799274,
                        "learn": [
                          0.4624380299
                        ]
                      },
                      {
                        "passed_time": 0.2919434416,
                        "iteration": 79,
                        "remaining_time": 3.357349579,
                        "learn": [
                          0.4623307693
                        ]
                      },
                      {
                        "passed_time": 0.2954805935,
                        "iteration": 80,
                        "remaining_time": 3.352427968,
                        "learn": [
                          0.4622548989
                        ]
                      },
                      {
                        "passed_time": 0.2989473798,
                        "iteration": 81,
                        "remaining_time": 3.346752374,
                        "learn": [
                          0.4621977727
                        ]
                      },
                      {
                        "passed_time": 0.3025277265,
                        "iteration": 82,
                        "remaining_time": 3.342384641,
                        "learn": [
                          0.462141648
                        ]
                      },
                      {
                        "passed_time": 0.30591513,
                        "iteration": 83,
                        "remaining_time": 3.335931656,
                        "learn": [
                          0.4620925814
                        ]
                      },
                      {
                        "passed_time": 0.3096381133,
                        "iteration": 84,
                        "remaining_time": 3.333163219,
                        "learn": [
                          0.4620488965
                        ]
                      },
                      {
                        "passed_time": 0.3121647858,
                        "iteration": 85,
                        "remaining_time": 3.317658305,
                        "learn": [
                          0.4620066935
                        ]
                      },
                      {
                        "passed_time": 0.3156052806,
                        "iteration": 86,
                        "remaining_time": 3.312041623,
                        "learn": [
                          0.4619664196
                        ]
                      },
                      {
                        "passed_time": 0.3175448891,
                        "iteration": 87,
                        "remaining_time": 3.29091976,
                        "learn": [
                          0.46195193
                        ]
                      },
                      {
                        "passed_time": 0.3210045723,
                        "iteration": 88,
                        "remaining_time": 3.285788375,
                        "learn": [
                          0.4618865118
                        ]
                      },
                      {
                        "passed_time": 0.3243197752,
                        "iteration": 89,
                        "remaining_time": 3.279233283,
                        "learn": [
                          0.4618131022
                        ]
                      },
                      {
                        "passed_time": 0.3277925692,
                        "iteration": 90,
                        "remaining_time": 3.274323576,
                        "learn": [
                          0.4617533835
                        ]
                      },
                      {
                        "passed_time": 0.3313755347,
                        "iteration": 91,
                        "remaining_time": 3.270532451,
                        "learn": [
                          0.4617087736
                        ]
                      },
                      {
                        "passed_time": 0.3334407533,
                        "iteration": 92,
                        "remaining_time": 3.251943691,
                        "learn": [
                          0.4616752125
                        ]
                      },
                      {
                        "passed_time": 0.3370780242,
                        "iteration": 93,
                        "remaining_time": 3.248858403,
                        "learn": [
                          0.4615982519
                        ]
                      },
                      {
                        "passed_time": 0.3404855139,
                        "iteration": 94,
                        "remaining_time": 3.243572527,
                        "learn": [
                          0.461563843
                        ]
                      },
                      {
                        "passed_time": 0.3440984366,
                        "iteration": 95,
                        "remaining_time": 3.240260278,
                        "learn": [
                          0.4615146323
                        ]
                      },
                      {
                        "passed_time": 0.3475245369,
                        "iteration": 96,
                        "remaining_time": 3.235202648,
                        "learn": [
                          0.4614636803
                        ]
                      },
                      {
                        "passed_time": 0.350884757,
                        "iteration": 97,
                        "remaining_time": 3.229571947,
                        "learn": [
                          0.4614365226
                        ]
                      },
                      {
                        "passed_time": 0.3543421865,
                        "iteration": 98,
                        "remaining_time": 3.224871818,
                        "learn": [
                          0.4614132043
                        ]
                      },
                      {
                        "passed_time": 0.3577644857,
                        "iteration": 99,
                        "remaining_time": 3.219880371,
                        "learn": [
                          0.4613495368
                        ]
                      },
                      {
                        "passed_time": 0.3612277596,
                        "iteration": 100,
                        "remaining_time": 3.215284712,
                        "learn": [
                          0.4613132268
                        ]
                      },
                      {
                        "passed_time": 0.3648286306,
                        "iteration": 101,
                        "remaining_time": 3.21192265,
                        "learn": [
                          0.4612747093
                        ]
                      },
                      {
                        "passed_time": 0.3687444943,
                        "iteration": 102,
                        "remaining_time": 3.21129914,
                        "learn": [
                          0.4612202906
                        ]
                      },
                      {
                        "passed_time": 0.372487686,
                        "iteration": 103,
                        "remaining_time": 3.209124679,
                        "learn": [
                          0.4611439393
                        ]
                      },
                      {
                        "passed_time": 0.375232715,
                        "iteration": 104,
                        "remaining_time": 3.198412189,
                        "learn": [
                          0.461102737
                        ]
                      },
                      {
                        "passed_time": 0.3788527412,
                        "iteration": 105,
                        "remaining_time": 3.195229723,
                        "learn": [
                          0.4610328978
                        ]
                      },
                      {
                        "passed_time": 0.3825999618,
                        "iteration": 106,
                        "remaining_time": 3.193100616,
                        "learn": [
                          0.4609469901
                        ]
                      },
                      {
                        "passed_time": 0.3860135087,
                        "iteration": 107,
                        "remaining_time": 3.188185646,
                        "learn": [
                          0.4609306275
                        ]
                      },
                      {
                        "passed_time": 0.3899334599,
                        "iteration": 108,
                        "remaining_time": 3.187437732,
                        "learn": [
                          0.460859151
                        ]
                      },
                      {
                        "passed_time": 0.3936687397,
                        "iteration": 109,
                        "remaining_time": 3.185137985,
                        "learn": [
                          0.4608083147
                        ]
                      },
                      {
                        "passed_time": 0.3970154645,
                        "iteration": 110,
                        "remaining_time": 3.179700432,
                        "learn": [
                          0.4607513987
                        ]
                      },
                      {
                        "passed_time": 0.4002442719,
                        "iteration": 111,
                        "remaining_time": 3.173365299,
                        "learn": [
                          0.4607123931
                        ]
                      },
                      {
                        "passed_time": 0.4077755243,
                        "iteration": 112,
                        "remaining_time": 3.200857434,
                        "learn": [
                          0.4606753278
                        ]
                      },
                      {
                        "passed_time": 0.4115716923,
                        "iteration": 113,
                        "remaining_time": 3.19870631,
                        "learn": [
                          0.4606320547
                        ]
                      },
                      {
                        "passed_time": 0.4149532382,
                        "iteration": 114,
                        "remaining_time": 3.193335789,
                        "learn": [
                          0.4605660941
                        ]
                      },
                      {
                        "passed_time": 0.4183040318,
                        "iteration": 115,
                        "remaining_time": 3.187765208,
                        "learn": [
                          0.4605260415
                        ]
                      },
                      {
                        "passed_time": 0.42177054,
                        "iteration": 116,
                        "remaining_time": 3.18310587,
                        "learn": [
                          0.4605040602
                        ]
                      },
                      {
                        "passed_time": 0.4255007373,
                        "iteration": 117,
                        "remaining_time": 3.180437714,
                        "learn": [
                          0.4604927766
                        ]
                      },
                      {
                        "passed_time": 0.42968705,
                        "iteration": 118,
                        "remaining_time": 3.181128496,
                        "learn": [
                          0.4604657826
                        ]
                      },
                      {
                        "passed_time": 0.4352141106,
                        "iteration": 119,
                        "remaining_time": 3.191570144,
                        "learn": [
                          0.4604404899
                        ]
                      },
                      {
                        "passed_time": 0.4413664833,
                        "iteration": 120,
                        "remaining_time": 3.206290404,
                        "learn": [
                          0.4604043649
                        ]
                      },
                      {
                        "passed_time": 0.4449082959,
                        "iteration": 121,
                        "remaining_time": 3.201881015,
                        "learn": [
                          0.4603690116
                        ]
                      },
                      {
                        "passed_time": 0.4482934893,
                        "iteration": 122,
                        "remaining_time": 3.196369025,
                        "learn": [
                          0.4603430258
                        ]
                      },
                      {
                        "passed_time": 0.4518791872,
                        "iteration": 123,
                        "remaining_time": 3.192307806,
                        "learn": [
                          0.4602974822
                        ]
                      },
                      {
                        "passed_time": 0.4554692186,
                        "iteration": 124,
                        "remaining_time": 3.18828453,
                        "learn": [
                          0.4602640101
                        ]
                      },
                      {
                        "passed_time": 0.4588953425,
                        "iteration": 125,
                        "remaining_time": 3.183131185,
                        "learn": [
                          0.4602210596
                        ]
                      },
                      {
                        "passed_time": 0.4622253518,
                        "iteration": 126,
                        "remaining_time": 3.177344347,
                        "learn": [
                          0.4601979152
                        ]
                      },
                      {
                        "passed_time": 0.4659808283,
                        "iteration": 127,
                        "remaining_time": 3.174494393,
                        "learn": [
                          0.4601619966
                        ]
                      },
                      {
                        "passed_time": 0.4695437685,
                        "iteration": 128,
                        "remaining_time": 3.170330406,
                        "learn": [
                          0.4601196717
                        ]
                      },
                      {
                        "passed_time": 0.4728444255,
                        "iteration": 129,
                        "remaining_time": 3.164420386,
                        "learn": [
                          0.460095015
                        ]
                      },
                      {
                        "passed_time": 0.4761854441,
                        "iteration": 130,
                        "remaining_time": 3.158817946,
                        "learn": [
                          0.4600862528
                        ]
                      },
                      {
                        "passed_time": 0.4795868102,
                        "iteration": 131,
                        "remaining_time": 3.153646601,
                        "learn": [
                          0.4600700492
                        ]
                      },
                      {
                        "passed_time": 0.4811546737,
                        "iteration": 132,
                        "remaining_time": 3.13654964,
                        "learn": [
                          0.4600686736
                        ]
                      },
                      {
                        "passed_time": 0.4844744855,
                        "iteration": 133,
                        "remaining_time": 3.13100675,
                        "learn": [
                          0.4600221275
                        ]
                      },
                      {
                        "passed_time": 0.487894496,
                        "iteration": 134,
                        "remaining_time": 3.126138807,
                        "learn": [
                          0.4599966334
                        ]
                      },
                      {
                        "passed_time": 0.4905653601,
                        "iteration": 135,
                        "remaining_time": 3.116532876,
                        "learn": [
                          0.4599688635
                        ]
                      },
                      {
                        "passed_time": 0.4938824136,
                        "iteration": 136,
                        "remaining_time": 3.111098708,
                        "learn": [
                          0.4599468818
                        ]
                      },
                      {
                        "passed_time": 0.4972064998,
                        "iteration": 137,
                        "remaining_time": 3.105739151,
                        "learn": [
                          0.4599197319
                        ]
                      },
                      {
                        "passed_time": 0.5006101329,
                        "iteration": 138,
                        "remaining_time": 3.100901614,
                        "learn": [
                          0.4598824767
                        ]
                      },
                      {
                        "passed_time": 0.5025715945,
                        "iteration": 139,
                        "remaining_time": 3.087225509,
                        "learn": [
                          0.459869949
                        ]
                      },
                      {
                        "passed_time": 0.5050331359,
                        "iteration": 140,
                        "remaining_time": 3.076762154,
                        "learn": [
                          0.4598462241
                        ]
                      },
                      {
                        "passed_time": 0.508607229,
                        "iteration": 141,
                        "remaining_time": 3.07313382,
                        "learn": [
                          0.459813558
                        ]
                      },
                      {
                        "passed_time": 0.5119559257,
                        "iteration": 142,
                        "remaining_time": 3.068155443,
                        "learn": [
                          0.4597829537
                        ]
                      },
                      {
                        "passed_time": 0.5154307834,
                        "iteration": 143,
                        "remaining_time": 3.063949657,
                        "learn": [
                          0.4597651655
                        ]
                      },
                      {
                        "passed_time": 0.5189545504,
                        "iteration": 144,
                        "remaining_time": 3.060042349,
                        "learn": [
                          0.4597348274
                        ]
                      },
                      {
                        "passed_time": 0.5224317101,
                        "iteration": 145,
                        "remaining_time": 3.055867674,
                        "learn": [
                          0.4597012114
                        ]
                      },
                      {
                        "passed_time": 0.5259865044,
                        "iteration": 146,
                        "remaining_time": 3.052152981,
                        "learn": [
                          0.4596907377
                        ]
                      },
                      {
                        "passed_time": 0.5282719291,
                        "iteration": 147,
                        "remaining_time": 3.041132997,
                        "learn": [
                          0.459675619
                        ]
                      },
                      {
                        "passed_time": 0.5318531958,
                        "iteration": 148,
                        "remaining_time": 3.03763134,
                        "learn": [
                          0.4596428715
                        ]
                      },
                      {
                        "passed_time": 0.5352094062,
                        "iteration": 149,
                        "remaining_time": 3.032853302,
                        "learn": [
                          0.4596098656
                        ]
                      },
                      {
                        "passed_time": 0.5371603503,
                        "iteration": 150,
                        "remaining_time": 3.020192963,
                        "learn": [
                          0.4595889492
                        ]
                      },
                      {
                        "passed_time": 0.5408115161,
                        "iteration": 151,
                        "remaining_time": 3.017158985,
                        "learn": [
                          0.4595563055
                        ]
                      },
                      {
                        "passed_time": 0.5446636397,
                        "iteration": 152,
                        "remaining_time": 3.01522943,
                        "learn": [
                          0.4595254353
                        ]
                      },
                      {
                        "passed_time": 0.5484042985,
                        "iteration": 153,
                        "remaining_time": 3.012662575,
                        "learn": [
                          0.4595065017
                        ]
                      },
                      {
                        "passed_time": 0.5542880455,
                        "iteration": 154,
                        "remaining_time": 3.021763861,
                        "learn": [
                          0.4594770569
                        ]
                      },
                      {
                        "passed_time": 0.556219218,
                        "iteration": 155,
                        "remaining_time": 3.00928859,
                        "learn": [
                          0.4594587674
                        ]
                      },
                      {
                        "passed_time": 0.561966552,
                        "iteration": 156,
                        "remaining_time": 3.017438238,
                        "learn": [
                          0.4594349576
                        ]
                      },
                      {
                        "passed_time": 0.565424986,
                        "iteration": 157,
                        "remaining_time": 3.013214166,
                        "learn": [
                          0.4594060529
                        ]
                      },
                      {
                        "passed_time": 0.5688782584,
                        "iteration": 158,
                        "remaining_time": 3.008972424,
                        "learn": [
                          0.4593946575
                        ]
                      },
                      {
                        "passed_time": 0.572265691,
                        "iteration": 159,
                        "remaining_time": 3.004394878,
                        "learn": [
                          0.4593483736
                        ]
                      },
                      {
                        "passed_time": 0.5755943661,
                        "iteration": 160,
                        "remaining_time": 2.99952592,
                        "learn": [
                          0.4593110659
                        ]
                      },
                      {
                        "passed_time": 0.5793644212,
                        "iteration": 161,
                        "remaining_time": 2.996959166,
                        "learn": [
                          0.459273746
                        ]
                      },
                      {
                        "passed_time": 0.5831875608,
                        "iteration": 162,
                        "remaining_time": 2.994650235,
                        "learn": [
                          0.4592374678
                        ]
                      },
                      {
                        "passed_time": 0.5865684385,
                        "iteration": 163,
                        "remaining_time": 2.990068381,
                        "learn": [
                          0.4592129704
                        ]
                      },
                      {
                        "passed_time": 0.5901384027,
                        "iteration": 164,
                        "remaining_time": 2.986457977,
                        "learn": [
                          0.4591961156
                        ]
                      },
                      {
                        "passed_time": 0.5934762556,
                        "iteration": 165,
                        "remaining_time": 2.981681911,
                        "learn": [
                          0.4591674792
                        ]
                      },
                      {
                        "passed_time": 0.5968073467,
                        "iteration": 166,
                        "remaining_time": 2.97688934,
                        "learn": [
                          0.4591438806
                        ]
                      },
                      {
                        "passed_time": 0.6008077326,
                        "iteration": 167,
                        "remaining_time": 2.975428771,
                        "learn": [
                          0.4591265879
                        ]
                      },
                      {
                        "passed_time": 0.6045469513,
                        "iteration": 168,
                        "remaining_time": 2.972653944,
                        "learn": [
                          0.4591034213
                        ]
                      },
                      {
                        "passed_time": 0.6080600859,
                        "iteration": 169,
                        "remaining_time": 2.968763949,
                        "learn": [
                          0.4590669386
                        ]
                      },
                      {
                        "passed_time": 0.611668121,
                        "iteration": 170,
                        "remaining_time": 2.965338435,
                        "learn": [
                          0.4590196598
                        ]
                      },
                      {
                        "passed_time": 0.6144554525,
                        "iteration": 171,
                        "remaining_time": 2.957959969,
                        "learn": [
                          0.4590026512
                        ]
                      },
                      {
                        "passed_time": 0.6184199549,
                        "iteration": 172,
                        "remaining_time": 2.956261865,
                        "learn": [
                          0.4589677489
                        ]
                      },
                      {
                        "passed_time": 0.6218642795,
                        "iteration": 173,
                        "remaining_time": 2.952068361,
                        "learn": [
                          0.4589393925
                        ]
                      },
                      {
                        "passed_time": 0.6252040675,
                        "iteration": 174,
                        "remaining_time": 2.947390604,
                        "learn": [
                          0.4589070406
                        ]
                      },
                      {
                        "passed_time": 0.6287441327,
                        "iteration": 175,
                        "remaining_time": 2.943665712,
                        "learn": [
                          0.4588466762
                        ]
                      },
                      {
                        "passed_time": 0.6323325771,
                        "iteration": 176,
                        "remaining_time": 2.940167859,
                        "learn": [
                          0.4588299405
                        ]
                      },
                      {
                        "passed_time": 0.6356949483,
                        "iteration": 177,
                        "remaining_time": 2.935624986,
                        "learn": [
                          0.4588042978
                        ]
                      },
                      {
                        "passed_time": 0.6392995841,
                        "iteration": 178,
                        "remaining_time": 2.932206472,
                        "learn": [
                          0.458752426
                        ]
                      },
                      {
                        "passed_time": 0.642672184,
                        "iteration": 179,
                        "remaining_time": 2.927728838,
                        "learn": [
                          0.4587203957
                        ]
                      },
                      {
                        "passed_time": 0.6463224439,
                        "iteration": 180,
                        "remaining_time": 2.924519788,
                        "learn": [
                          0.4586865408
                        ]
                      },
                      {
                        "passed_time": 0.6503281969,
                        "iteration": 181,
                        "remaining_time": 2.922903654,
                        "learn": [
                          0.4586407109
                        ]
                      },
                      {
                        "passed_time": 0.6537189311,
                        "iteration": 182,
                        "remaining_time": 2.918515665,
                        "learn": [
                          0.4586193238
                        ]
                      },
                      {
                        "passed_time": 0.6571203068,
                        "iteration": 183,
                        "remaining_time": 2.914185708,
                        "learn": [
                          0.4585842935
                        ]
                      },
                      {
                        "passed_time": 0.6605042833,
                        "iteration": 184,
                        "remaining_time": 2.90978914,
                        "learn": [
                          0.4585558261
                        ]
                      },
                      {
                        "passed_time": 0.6638353453,
                        "iteration": 185,
                        "remaining_time": 2.905171888,
                        "learn": [
                          0.4585300165
                        ]
                      },
                      {
                        "passed_time": 0.6672904487,
                        "iteration": 186,
                        "remaining_time": 2.901107673,
                        "learn": [
                          0.458495833
                        ]
                      },
                      {
                        "passed_time": 0.6706178678,
                        "iteration": 187,
                        "remaining_time": 2.89649845,
                        "learn": [
                          0.4584659505
                        ]
                      },
                      {
                        "passed_time": 0.6739183199,
                        "iteration": 188,
                        "remaining_time": 2.891787076,
                        "learn": [
                          0.4584259638
                        ]
                      },
                      {
                        "passed_time": 0.6772548909,
                        "iteration": 189,
                        "remaining_time": 2.887244535,
                        "learn": [
                          0.4583758416
                        ]
                      },
                      {
                        "passed_time": 0.6805536433,
                        "iteration": 190,
                        "remaining_time": 2.882554437,
                        "learn": [
                          0.4583380976
                        ]
                      },
                      {
                        "passed_time": 0.6840569423,
                        "iteration": 191,
                        "remaining_time": 2.878739632,
                        "learn": [
                          0.4583044803
                        ]
                      },
                      {
                        "passed_time": 0.6874324642,
                        "iteration": 192,
                        "remaining_time": 2.874393775,
                        "learn": [
                          0.4582672648
                        ]
                      },
                      {
                        "passed_time": 0.6908216846,
                        "iteration": 193,
                        "remaining_time": 2.870114834,
                        "learn": [
                          0.4582338618
                        ]
                      },
                      {
                        "passed_time": 0.6944311526,
                        "iteration": 194,
                        "remaining_time": 2.866754245,
                        "learn": [
                          0.4582028071
                        ]
                      },
                      {
                        "passed_time": 0.6977882611,
                        "iteration": 195,
                        "remaining_time": 2.862355928,
                        "learn": [
                          0.4581708984
                        ]
                      },
                      {
                        "passed_time": 0.7011102408,
                        "iteration": 196,
                        "remaining_time": 2.857824992,
                        "learn": [
                          0.4581556816
                        ]
                      },
                      {
                        "passed_time": 0.7045752798,
                        "iteration": 197,
                        "remaining_time": 2.853885729,
                        "learn": [
                          0.4581278633
                        ]
                      },
                      {
                        "passed_time": 0.7080151796,
                        "iteration": 198,
                        "remaining_time": 2.849850044,
                        "learn": [
                          0.4580809963
                        ]
                      },
                      {
                        "passed_time": 0.7116479243,
                        "iteration": 199,
                        "remaining_time": 2.846591697,
                        "learn": [
                          0.4580424431
                        ]
                      },
                      {
                        "passed_time": 0.718133283,
                        "iteration": 200,
                        "remaining_time": 2.85466912,
                        "learn": [
                          0.4580110758
                        ]
                      },
                      {
                        "passed_time": 0.7279949805,
                        "iteration": 201,
                        "remaining_time": 2.875940566,
                        "learn": [
                          0.4579672913
                        ]
                      },
                      {
                        "passed_time": 0.7399732868,
                        "iteration": 202,
                        "remaining_time": 2.905215318,
                        "learn": [
                          0.4579293461
                        ]
                      },
                      {
                        "passed_time": 0.7525057925,
                        "iteration": 203,
                        "remaining_time": 2.936248092,
                        "learn": [
                          0.4579083977
                        ]
                      },
                      {
                        "passed_time": 0.7621691924,
                        "iteration": 204,
                        "remaining_time": 2.955729307,
                        "learn": [
                          0.4578844553
                        ]
                      },
                      {
                        "passed_time": 0.7811695135,
                        "iteration": 205,
                        "remaining_time": 3.010915504,
                        "learn": [
                          0.457860574
                        ]
                      },
                      {
                        "passed_time": 0.7918677469,
                        "iteration": 206,
                        "remaining_time": 3.033580306,
                        "learn": [
                          0.4578164873
                        ]
                      },
                      {
                        "passed_time": 0.8017605239,
                        "iteration": 207,
                        "remaining_time": 3.05285738,
                        "learn": [
                          0.457802684
                        ]
                      },
                      {
                        "passed_time": 0.8119646606,
                        "iteration": 208,
                        "remaining_time": 3.073033716,
                        "learn": [
                          0.4577669256
                        ]
                      },
                      {
                        "passed_time": 0.8219332712,
                        "iteration": 209,
                        "remaining_time": 3.092034687,
                        "learn": [
                          0.4577433103
                        ]
                      },
                      {
                        "passed_time": 0.833201869,
                        "iteration": 210,
                        "remaining_time": 3.115622155,
                        "learn": [
                          0.4577145096
                        ]
                      },
                      {
                        "passed_time": 0.843225836,
                        "iteration": 211,
                        "remaining_time": 3.134254522,
                        "learn": [
                          0.4576844165
                        ]
                      },
                      {
                        "passed_time": 0.8556845342,
                        "iteration": 212,
                        "remaining_time": 3.161613748,
                        "learn": [
                          0.4576529089
                        ]
                      },
                      {
                        "passed_time": 0.8649986886,
                        "iteration": 213,
                        "remaining_time": 3.177051258,
                        "learn": [
                          0.4576259036
                        ]
                      },
                      {
                        "passed_time": 0.8742271216,
                        "iteration": 214,
                        "remaining_time": 3.191945537,
                        "learn": [
                          0.457589823
                        ]
                      },
                      {
                        "passed_time": 0.8815451483,
                        "iteration": 215,
                        "remaining_time": 3.19968239,
                        "learn": [
                          0.4575547196
                        ]
                      },
                      {
                        "passed_time": 0.8941286879,
                        "iteration": 216,
                        "remaining_time": 3.226280012,
                        "learn": [
                          0.4575400212
                        ]
                      },
                      {
                        "passed_time": 0.9016493674,
                        "iteration": 217,
                        "remaining_time": 3.234356905,
                        "learn": [
                          0.4575078796
                        ]
                      },
                      {
                        "passed_time": 0.9113042595,
                        "iteration": 218,
                        "remaining_time": 3.249902405,
                        "learn": [
                          0.4574904558
                        ]
                      },
                      {
                        "passed_time": 0.9253204392,
                        "iteration": 219,
                        "remaining_time": 3.280681557,
                        "learn": [
                          0.4574650788
                        ]
                      },
                      {
                        "passed_time": 0.9353336533,
                        "iteration": 220,
                        "remaining_time": 3.296945321,
                        "learn": [
                          0.457448391
                        ]
                      },
                      {
                        "passed_time": 0.9448257299,
                        "iteration": 221,
                        "remaining_time": 3.311146027,
                        "learn": [
                          0.457433849
                        ]
                      },
                      {
                        "passed_time": 0.9677588588,
                        "iteration": 222,
                        "remaining_time": 3.371966966,
                        "learn": [
                          0.45737943
                        ]
                      },
                      {
                        "passed_time": 0.9755399545,
                        "iteration": 223,
                        "remaining_time": 3.379549128,
                        "learn": [
                          0.4573482527
                        ]
                      },
                      {
                        "passed_time": 0.9856578284,
                        "iteration": 224,
                        "remaining_time": 3.395043631,
                        "learn": [
                          0.4572994453
                        ]
                      },
                      {
                        "passed_time": 0.9974073518,
                        "iteration": 225,
                        "remaining_time": 3.415899514,
                        "learn": [
                          0.4572748176
                        ]
                      },
                      {
                        "passed_time": 1.006100455,
                        "iteration": 226,
                        "remaining_time": 3.426060139,
                        "learn": [
                          0.4572502572
                        ]
                      },
                      {
                        "passed_time": 1.011248569,
                        "iteration": 227,
                        "remaining_time": 3.424052173,
                        "learn": [
                          0.4572292208
                        ]
                      },
                      {
                        "passed_time": 1.020403541,
                        "iteration": 228,
                        "remaining_time": 3.435507119,
                        "learn": [
                          0.4572098052
                        ]
                      },
                      {
                        "passed_time": 1.026508912,
                        "iteration": 229,
                        "remaining_time": 3.436573313,
                        "learn": [
                          0.4571780648
                        ]
                      },
                      {
                        "passed_time": 1.031704916,
                        "iteration": 230,
                        "remaining_time": 3.43455013,
                        "learn": [
                          0.4571524097
                        ]
                      },
                      {
                        "passed_time": 1.037624951,
                        "iteration": 231,
                        "remaining_time": 3.434896391,
                        "learn": [
                          0.4571374322
                        ]
                      },
                      {
                        "passed_time": 1.041831487,
                        "iteration": 232,
                        "remaining_time": 3.429548286,
                        "learn": [
                          0.4571042712
                        ]
                      },
                      {
                        "passed_time": 1.047243304,
                        "iteration": 233,
                        "remaining_time": 3.42815543,
                        "learn": [
                          0.4570500775
                        ]
                      },
                      {
                        "passed_time": 1.051400272,
                        "iteration": 234,
                        "remaining_time": 3.422643439,
                        "learn": [
                          0.4569976016
                        ]
                      },
                      {
                        "passed_time": 1.056302041,
                        "iteration": 235,
                        "remaining_time": 3.419554066,
                        "learn": [
                          0.4569708563
                        ]
                      },
                      {
                        "passed_time": 1.059808004,
                        "iteration": 236,
                        "remaining_time": 3.411955728,
                        "learn": [
                          0.4569461783
                        ]
                      },
                      {
                        "passed_time": 1.064025564,
                        "iteration": 237,
                        "remaining_time": 3.406670083,
                        "learn": [
                          0.4569240032
                        ]
                      },
                      {
                        "passed_time": 1.06812147,
                        "iteration": 238,
                        "remaining_time": 3.40100602,
                        "learn": [
                          0.4568951493
                        ]
                      },
                      {
                        "passed_time": 1.071958055,
                        "iteration": 239,
                        "remaining_time": 3.394533841,
                        "learn": [
                          0.4568782368
                        ]
                      },
                      {
                        "passed_time": 1.077398896,
                        "iteration": 240,
                        "remaining_time": 3.393135944,
                        "learn": [
                          0.4568296554
                        ]
                      },
                      {
                        "passed_time": 1.081345041,
                        "iteration": 241,
                        "remaining_time": 3.387022898,
                        "learn": [
                          0.4567909883
                        ]
                      },
                      {
                        "passed_time": 1.086562347,
                        "iteration": 242,
                        "remaining_time": 3.384887641,
                        "learn": [
                          0.4567778077
                        ]
                      },
                      {
                        "passed_time": 1.090120089,
                        "iteration": 243,
                        "remaining_time": 3.377585194,
                        "learn": [
                          0.4567567916
                        ]
                      },
                      {
                        "passed_time": 1.094999723,
                        "iteration": 244,
                        "remaining_time": 3.3743869,
                        "learn": [
                          0.456736528
                        ]
                      },
                      {
                        "passed_time": 1.098559595,
                        "iteration": 245,
                        "remaining_time": 3.367129815,
                        "learn": [
                          0.4567261075
                        ]
                      },
                      {
                        "passed_time": 1.103026521,
                        "iteration": 246,
                        "remaining_time": 3.362667897,
                        "learn": [
                          0.4566997998
                        ]
                      },
                      {
                        "passed_time": 1.11163852,
                        "iteration": 247,
                        "remaining_time": 3.370774867,
                        "learn": [
                          0.4566725406
                        ]
                      },
                      {
                        "passed_time": 1.121732065,
                        "iteration": 248,
                        "remaining_time": 3.383215986,
                        "learn": [
                          0.4566591866
                        ]
                      },
                      {
                        "passed_time": 1.134971624,
                        "iteration": 249,
                        "remaining_time": 3.404914871,
                        "learn": [
                          0.4566257426
                        ]
                      },
                      {
                        "passed_time": 1.138317521,
                        "iteration": 250,
                        "remaining_time": 3.396812044,
                        "learn": [
                          0.4566149229
                        ]
                      },
                      {
                        "passed_time": 1.141808692,
                        "iteration": 251,
                        "remaining_time": 3.38917818,
                        "learn": [
                          0.4565958023
                        ]
                      },
                      {
                        "passed_time": 1.147936809,
                        "iteration": 252,
                        "remaining_time": 3.389362832,
                        "learn": [
                          0.4565829393
                        ]
                      },
                      {
                        "passed_time": 1.152308842,
                        "iteration": 253,
                        "remaining_time": 3.384340143,
                        "learn": [
                          0.456572072
                        ]
                      },
                      {
                        "passed_time": 1.157435774,
                        "iteration": 254,
                        "remaining_time": 3.381528045,
                        "learn": [
                          0.4565498843
                        ]
                      },
                      {
                        "passed_time": 1.160824092,
                        "iteration": 255,
                        "remaining_time": 3.373645018,
                        "learn": [
                          0.4565323689
                        ]
                      },
                      {
                        "passed_time": 1.164323132,
                        "iteration": 256,
                        "remaining_time": 3.366117071,
                        "learn": [
                          0.4565173413
                        ]
                      },
                      {
                        "passed_time": 1.167770867,
                        "iteration": 257,
                        "remaining_time": 3.358472804,
                        "learn": [
                          0.4565052036
                        ]
                      },
                      {
                        "passed_time": 1.17108091,
                        "iteration": 258,
                        "remaining_time": 3.350467006,
                        "learn": [
                          0.4564936741
                        ]
                      },
                      {
                        "passed_time": 1.174365609,
                        "iteration": 259,
                        "remaining_time": 3.342425194,
                        "learn": [
                          0.4564824123
                        ]
                      },
                      {
                        "passed_time": 1.177842942,
                        "iteration": 260,
                        "remaining_time": 3.334965264,
                        "learn": [
                          0.4564712402
                        ]
                      },
                      {
                        "passed_time": 1.181409272,
                        "iteration": 261,
                        "remaining_time": 3.327786423,
                        "learn": [
                          0.4564490264
                        ]
                      },
                      {
                        "passed_time": 1.185017633,
                        "iteration": 262,
                        "remaining_time": 3.320752835,
                        "learn": [
                          0.4564277726
                        ]
                      },
                      {
                        "passed_time": 1.188840365,
                        "iteration": 263,
                        "remaining_time": 3.314342837,
                        "learn": [
                          0.4564153792
                        ]
                      },
                      {
                        "passed_time": 1.192214802,
                        "iteration": 264,
                        "remaining_time": 3.306708979,
                        "learn": [
                          0.4564038022
                        ]
                      },
                      {
                        "passed_time": 1.195959967,
                        "iteration": 265,
                        "remaining_time": 3.300130134,
                        "learn": [
                          0.456388523
                        ]
                      },
                      {
                        "passed_time": 1.200101515,
                        "iteration": 266,
                        "remaining_time": 3.294660715,
                        "learn": [
                          0.4563591745
                        ]
                      },
                      {
                        "passed_time": 1.203614257,
                        "iteration": 267,
                        "remaining_time": 3.287483717,
                        "learn": [
                          0.4563454565
                        ]
                      },
                      {
                        "passed_time": 1.207200846,
                        "iteration": 268,
                        "remaining_time": 3.28053464,
                        "learn": [
                          0.4563318102
                        ]
                      },
                      {
                        "passed_time": 1.210834541,
                        "iteration": 269,
                        "remaining_time": 3.273737833,
                        "learn": [
                          0.4563199294
                        ]
                      },
                      {
                        "passed_time": 1.21436951,
                        "iteration": 270,
                        "remaining_time": 3.266698792,
                        "learn": [
                          0.4563027043
                        ]
                      },
                      {
                        "passed_time": 1.217816148,
                        "iteration": 271,
                        "remaining_time": 3.259449101,
                        "learn": [
                          0.4562856268
                        ]
                      },
                      {
                        "passed_time": 1.221394122,
                        "iteration": 272,
                        "remaining_time": 3.252577022,
                        "learn": [
                          0.4562710191
                        ]
                      },
                      {
                        "passed_time": 1.224645366,
                        "iteration": 273,
                        "remaining_time": 3.24486327,
                        "learn": [
                          0.4562609893
                        ]
                      },
                      {
                        "passed_time": 1.228191024,
                        "iteration": 274,
                        "remaining_time": 3.237958154,
                        "learn": [
                          0.4562421806
                        ]
                      },
                      {
                        "passed_time": 1.231634606,
                        "iteration": 275,
                        "remaining_time": 3.230809618,
                        "learn": [
                          0.4562304261
                        ]
                      },
                      {
                        "passed_time": 1.235333576,
                        "iteration": 276,
                        "remaining_time": 3.224354424,
                        "learn": [
                          0.4562212553
                        ]
                      },
                      {
                        "passed_time": 1.23882851,
                        "iteration": 277,
                        "remaining_time": 3.217389152,
                        "learn": [
                          0.4561999304
                        ]
                      },
                      {
                        "passed_time": 1.242233939,
                        "iteration": 278,
                        "remaining_time": 3.210217456,
                        "learn": [
                          0.4561780017
                        ]
                      },
                      {
                        "passed_time": 1.245806825,
                        "iteration": 279,
                        "remaining_time": 3.203503265,
                        "learn": [
                          0.4561692424
                        ]
                      },
                      {
                        "passed_time": 1.249180309,
                        "iteration": 280,
                        "remaining_time": 3.196301218,
                        "learn": [
                          0.456159486
                        ]
                      },
                      {
                        "passed_time": 1.254140894,
                        "iteration": 281,
                        "remaining_time": 3.193167241,
                        "learn": [
                          0.4561483201
                        ]
                      },
                      {
                        "passed_time": 1.258079526,
                        "iteration": 282,
                        "remaining_time": 3.187431167,
                        "learn": [
                          0.4561390498
                        ]
                      },
                      {
                        "passed_time": 1.261645346,
                        "iteration": 283,
                        "remaining_time": 3.180767843,
                        "learn": [
                          0.4561158823
                        ]
                      },
                      {
                        "passed_time": 1.265309905,
                        "iteration": 284,
                        "remaining_time": 3.174373972,
                        "learn": [
                          0.4561087803
                        ]
                      },
                      {
                        "passed_time": 1.268652337,
                        "iteration": 285,
                        "remaining_time": 3.167194995,
                        "learn": [
                          0.456101184
                        ]
                      },
                      {
                        "passed_time": 1.27213665,
                        "iteration": 286,
                        "remaining_time": 3.160395231,
                        "learn": [
                          0.4560835923
                        ]
                      },
                      {
                        "passed_time": 1.276025915,
                        "iteration": 287,
                        "remaining_time": 3.154619624,
                        "learn": [
                          0.4560498951
                        ]
                      },
                      {
                        "passed_time": 1.2793655,
                        "iteration": 288,
                        "remaining_time": 3.147504742,
                        "learn": [
                          0.4560379257
                        ]
                      },
                      {
                        "passed_time": 1.287096155,
                        "iteration": 289,
                        "remaining_time": 3.151166449,
                        "learn": [
                          0.4560246691
                        ]
                      },
                      {
                        "passed_time": 1.292988562,
                        "iteration": 290,
                        "remaining_time": 3.150271101,
                        "learn": [
                          0.4560147879
                        ]
                      },
                      {
                        "passed_time": 1.298565356,
                        "iteration": 291,
                        "remaining_time": 3.148576274,
                        "learn": [
                          0.456006087
                        ]
                      },
                      {
                        "passed_time": 1.302062199,
                        "iteration": 292,
                        "remaining_time": 3.141836091,
                        "learn": [
                          0.4559914041
                        ]
                      },
                      {
                        "passed_time": 1.305824421,
                        "iteration": 293,
                        "remaining_time": 3.135755241,
                        "learn": [
                          0.4559774611
                        ]
                      },
                      {
                        "passed_time": 1.309233668,
                        "iteration": 294,
                        "remaining_time": 3.128846562,
                        "learn": [
                          0.455968945
                        ]
                      },
                      {
                        "passed_time": 1.312619696,
                        "iteration": 295,
                        "remaining_time": 3.121906304,
                        "learn": [
                          0.4559565373
                        ]
                      },
                      {
                        "passed_time": 1.316270051,
                        "iteration": 296,
                        "remaining_time": 3.115615644,
                        "learn": [
                          0.4559316574
                        ]
                      },
                      {
                        "passed_time": 1.319820578,
                        "iteration": 297,
                        "remaining_time": 3.109107537,
                        "learn": [
                          0.4559231042
                        ]
                      },
                      {
                        "passed_time": 1.323161052,
                        "iteration": 298,
                        "remaining_time": 3.102126748,
                        "learn": [
                          0.4559097404
                        ]
                      },
                      {
                        "passed_time": 1.326549262,
                        "iteration": 299,
                        "remaining_time": 3.09528161,
                        "learn": [
                          0.455895481
                        ]
                      },
                      {
                        "passed_time": 1.32980967,
                        "iteration": 300,
                        "remaining_time": 3.088162657,
                        "learn": [
                          0.4558852949
                        ]
                      },
                      {
                        "passed_time": 1.333213574,
                        "iteration": 301,
                        "remaining_time": 3.08140091,
                        "learn": [
                          0.4558679968
                        ]
                      },
                      {
                        "passed_time": 1.336497001,
                        "iteration": 302,
                        "remaining_time": 3.07438419,
                        "learn": [
                          0.4558582602
                        ]
                      },
                      {
                        "passed_time": 1.340436666,
                        "iteration": 303,
                        "remaining_time": 3.068894471,
                        "learn": [
                          0.4558299677
                        ]
                      },
                      {
                        "passed_time": 1.343790543,
                        "iteration": 304,
                        "remaining_time": 3.06208009,
                        "learn": [
                          0.4558199743
                        ]
                      },
                      {
                        "passed_time": 1.346961667,
                        "iteration": 305,
                        "remaining_time": 3.054873846,
                        "learn": [
                          0.455812781
                        ]
                      },
                      {
                        "passed_time": 1.350303546,
                        "iteration": 306,
                        "remaining_time": 3.04807934,
                        "learn": [
                          0.4558001713
                        ]
                      },
                      {
                        "passed_time": 1.35355868,
                        "iteration": 307,
                        "remaining_time": 3.041112358,
                        "learn": [
                          0.4557863746
                        ]
                      },
                      {
                        "passed_time": 1.357544024,
                        "iteration": 308,
                        "remaining_time": 3.035802332,
                        "learn": [
                          0.4557575064
                        ]
                      },
                      {
                        "passed_time": 1.36081371,
                        "iteration": 309,
                        "remaining_time": 3.028907936,
                        "learn": [
                          0.4557463313
                        ]
                      },
                      {
                        "passed_time": 1.364273288,
                        "iteration": 310,
                        "remaining_time": 3.022457543,
                        "learn": [
                          0.4557343253
                        ]
                      },
                      {
                        "passed_time": 1.367697817,
                        "iteration": 311,
                        "remaining_time": 3.015949032,
                        "learn": [
                          0.4557233268
                        ]
                      },
                      {
                        "passed_time": 1.371017657,
                        "iteration": 312,
                        "remaining_time": 3.009230449,
                        "learn": [
                          0.4557142149
                        ]
                      },
                      {
                        "passed_time": 1.374310059,
                        "iteration": 313,
                        "remaining_time": 3.002473569,
                        "learn": [
                          0.455707053
                        ]
                      },
                      {
                        "passed_time": 1.377600155,
                        "iteration": 314,
                        "remaining_time": 2.99573367,
                        "learn": [
                          0.4556991349
                        ]
                      },
                      {
                        "passed_time": 1.381278481,
                        "iteration": 315,
                        "remaining_time": 2.989855953,
                        "learn": [
                          0.4556760383
                        ]
                      },
                      {
                        "passed_time": 1.384628147,
                        "iteration": 316,
                        "remaining_time": 2.983283988,
                        "learn": [
                          0.4556668203
                        ]
                      },
                      {
                        "passed_time": 1.387869815,
                        "iteration": 317,
                        "remaining_time": 2.976500673,
                        "learn": [
                          0.4556595285
                        ]
                      },
                      {
                        "passed_time": 1.391232856,
                        "iteration": 318,
                        "remaining_time": 2.969998667,
                        "learn": [
                          0.455649855
                        ]
                      },
                      {
                        "passed_time": 1.394525712,
                        "iteration": 319,
                        "remaining_time": 2.963367138,
                        "learn": [
                          0.4556363463
                        ]
                      },
                      {
                        "passed_time": 1.397850139,
                        "iteration": 320,
                        "remaining_time": 2.956823191,
                        "learn": [
                          0.4556243282
                        ]
                      },
                      {
                        "passed_time": 1.401091256,
                        "iteration": 321,
                        "remaining_time": 2.950123824,
                        "learn": [
                          0.4556151797
                        ]
                      },
                      {
                        "passed_time": 1.404531195,
                        "iteration": 322,
                        "remaining_time": 2.943862597,
                        "learn": [
                          0.4556074206
                        ]
                      },
                      {
                        "passed_time": 1.407825436,
                        "iteration": 323,
                        "remaining_time": 2.937314798,
                        "learn": [
                          0.4555966851
                        ]
                      },
                      {
                        "passed_time": 1.411152443,
                        "iteration": 324,
                        "remaining_time": 2.930855074,
                        "learn": [
                          0.4555869176
                        ]
                      },
                      {
                        "passed_time": 1.414440232,
                        "iteration": 325,
                        "remaining_time": 2.924333485,
                        "learn": [
                          0.4555816984
                        ]
                      },
                      {
                        "passed_time": 1.418469412,
                        "iteration": 326,
                        "remaining_time": 2.919357535,
                        "learn": [
                          0.4555575058
                        ]
                      },
                      {
                        "passed_time": 1.421746227,
                        "iteration": 327,
                        "remaining_time": 2.912845929,
                        "learn": [
                          0.4555506461
                        ]
                      },
                      {
                        "passed_time": 1.425199967,
                        "iteration": 328,
                        "remaining_time": 2.906714827,
                        "learn": [
                          0.4555346807
                        ]
                      },
                      {
                        "passed_time": 1.428486968,
                        "iteration": 329,
                        "remaining_time": 2.90026142,
                        "learn": [
                          0.4555222501
                        ]
                      },
                      {
                        "passed_time": 1.43181339,
                        "iteration": 330,
                        "remaining_time": 2.893906822,
                        "learn": [
                          0.455510171
                        ]
                      },
                      {
                        "passed_time": 1.435194513,
                        "iteration": 331,
                        "remaining_time": 2.887680526,
                        "learn": [
                          0.4555008826
                        ]
                      },
                      {
                        "passed_time": 1.439204768,
                        "iteration": 332,
                        "remaining_time": 2.882731473,
                        "learn": [
                          0.4554895686
                        ]
                      },
                      {
                        "passed_time": 1.442541345,
                        "iteration": 333,
                        "remaining_time": 2.876444718,
                        "learn": [
                          0.4554822768
                        ]
                      },
                      {
                        "passed_time": 1.446127179,
                        "iteration": 334,
                        "remaining_time": 2.87067037,
                        "learn": [
                          0.4554721087
                        ]
                      },
                      {
                        "passed_time": 1.449558631,
                        "iteration": 335,
                        "remaining_time": 2.864603961,
                        "learn": [
                          0.4554658105
                        ]
                      },
                      {
                        "passed_time": 1.452917589,
                        "iteration": 336,
                        "remaining_time": 2.858410568,
                        "learn": [
                          0.4554561084
                        ]
                      },
                      {
                        "passed_time": 1.45687965,
                        "iteration": 337,
                        "remaining_time": 2.853415173,
                        "learn": [
                          0.4554430187
                        ]
                      },
                      {
                        "passed_time": 1.460965656,
                        "iteration": 338,
                        "remaining_time": 2.848667548,
                        "learn": [
                          0.4554330678
                        ]
                      },
                      {
                        "passed_time": 1.46615742,
                        "iteration": 339,
                        "remaining_time": 2.846070285,
                        "learn": [
                          0.4554255609
                        ]
                      },
                      {
                        "passed_time": 1.469563767,
                        "iteration": 340,
                        "remaining_time": 2.840007398,
                        "learn": [
                          0.4554183425
                        ]
                      },
                      {
                        "passed_time": 1.472860515,
                        "iteration": 341,
                        "remaining_time": 2.833749177,
                        "learn": [
                          0.4554119174
                        ]
                      },
                      {
                        "passed_time": 1.476305198,
                        "iteration": 342,
                        "remaining_time": 2.82779159,
                        "learn": [
                          0.4553979894
                        ]
                      },
                      {
                        "passed_time": 1.479611811,
                        "iteration": 343,
                        "remaining_time": 2.821585314,
                        "learn": [
                          0.455392667
                        ]
                      },
                      {
                        "passed_time": 1.483772385,
                        "iteration": 344,
                        "remaining_time": 2.817017136,
                        "learn": [
                          0.4553850232
                        ]
                      },
                      {
                        "passed_time": 1.487121632,
                        "iteration": 345,
                        "remaining_time": 2.810917768,
                        "learn": [
                          0.4553778043
                        ]
                      },
                      {
                        "passed_time": 1.490562885,
                        "iteration": 346,
                        "remaining_time": 2.805007389,
                        "learn": [
                          0.4553677528
                        ]
                      },
                      {
                        "passed_time": 1.49383286,
                        "iteration": 347,
                        "remaining_time": 2.7987903,
                        "learn": [
                          0.4553617088
                        ]
                      },
                      {
                        "passed_time": 1.497429036,
                        "iteration": 348,
                        "remaining_time": 2.793198574,
                        "learn": [
                          0.4553546414
                        ]
                      },
                      {
                        "passed_time": 1.501264095,
                        "iteration": 349,
                        "remaining_time": 2.788061891,
                        "learn": [
                          0.4553316113
                        ]
                      },
                      {
                        "passed_time": 1.504594114,
                        "iteration": 350,
                        "remaining_time": 2.781998804,
                        "learn": [
                          0.4553258584
                        ]
                      },
                      {
                        "passed_time": 1.507982936,
                        "iteration": 351,
                        "remaining_time": 2.776059497,
                        "learn": [
                          0.4553200657
                        ]
                      },
                      {
                        "passed_time": 1.511284093,
                        "iteration": 352,
                        "remaining_time": 2.769973962,
                        "learn": [
                          0.4553161956
                        ]
                      },
                      {
                        "passed_time": 1.514659145,
                        "iteration": 353,
                        "remaining_time": 2.764039005,
                        "learn": [
                          0.4553084557
                        ]
                      },
                      {
                        "passed_time": 1.517927881,
                        "iteration": 354,
                        "remaining_time": 2.757925306,
                        "learn": [
                          0.4553028465
                        ]
                      },
                      {
                        "passed_time": 1.52118862,
                        "iteration": 355,
                        "remaining_time": 2.751813121,
                        "learn": [
                          0.4552934051
                        ]
                      },
                      {
                        "passed_time": 1.525046993,
                        "iteration": 356,
                        "remaining_time": 2.746793323,
                        "learn": [
                          0.4552856249
                        ]
                      },
                      {
                        "passed_time": 1.52854441,
                        "iteration": 357,
                        "remaining_time": 2.741132713,
                        "learn": [
                          0.455279431
                        ]
                      },
                      {
                        "passed_time": 1.532080554,
                        "iteration": 358,
                        "remaining_time": 2.735553301,
                        "learn": [
                          0.4552703968
                        ]
                      },
                      {
                        "passed_time": 1.535616793,
                        "iteration": 359,
                        "remaining_time": 2.72998541,
                        "learn": [
                          0.4552631263
                        ]
                      },
                      {
                        "passed_time": 1.539013823,
                        "iteration": 360,
                        "remaining_time": 2.724182363,
                        "learn": [
                          0.4552564501
                        ]
                      },
                      {
                        "passed_time": 1.542350191,
                        "iteration": 361,
                        "remaining_time": 2.718285696,
                        "learn": [
                          0.4552512741
                        ]
                      },
                      {
                        "passed_time": 1.546163605,
                        "iteration": 362,
                        "remaining_time": 2.713240265,
                        "learn": [
                          0.4552446798
                        ]
                      },
                      {
                        "passed_time": 1.549581753,
                        "iteration": 363,
                        "remaining_time": 2.707510975,
                        "learn": [
                          0.4552402106
                        ]
                      },
                      {
                        "passed_time": 1.553185719,
                        "iteration": 364,
                        "remaining_time": 2.702117621,
                        "learn": [
                          0.4552348386
                        ]
                      },
                      {
                        "passed_time": 1.55703192,
                        "iteration": 365,
                        "remaining_time": 2.697153654,
                        "learn": [
                          0.4552298396
                        ]
                      },
                      {
                        "passed_time": 1.560620692,
                        "iteration": 366,
                        "remaining_time": 2.691751766,
                        "learn": [
                          0.455219207
                        ]
                      },
                      {
                        "passed_time": 1.564159459,
                        "iteration": 367,
                        "remaining_time": 2.686273853,
                        "learn": [
                          0.4552151712
                        ]
                      },
                      {
                        "passed_time": 1.567520206,
                        "iteration": 368,
                        "remaining_time": 2.680502033,
                        "learn": [
                          0.4552094304
                        ]
                      },
                      {
                        "passed_time": 1.57242777,
                        "iteration": 369,
                        "remaining_time": 2.677377014,
                        "learn": [
                          0.455203075
                        ]
                      },
                      {
                        "passed_time": 1.575826421,
                        "iteration": 370,
                        "remaining_time": 2.671684147,
                        "learn": [
                          0.4551971975
                        ]
                      },
                      {
                        "passed_time": 1.579291982,
                        "iteration": 371,
                        "remaining_time": 2.666116572,
                        "learn": [
                          0.4551896401
                        ]
                      },
                      {
                        "passed_time": 1.582823658,
                        "iteration": 372,
                        "remaining_time": 2.660671404,
                        "learn": [
                          0.4551844754
                        ]
                      },
                      {
                        "passed_time": 1.586724879,
                        "iteration": 373,
                        "remaining_time": 2.655855011,
                        "learn": [
                          0.4551754347
                        ]
                      },
                      {
                        "passed_time": 1.590165424,
                        "iteration": 374,
                        "remaining_time": 2.650275707,
                        "learn": [
                          0.4551700213
                        ]
                      },
                      {
                        "passed_time": 1.593587423,
                        "iteration": 375,
                        "remaining_time": 2.644676999,
                        "learn": [
                          0.455162259
                        ]
                      },
                      {
                        "passed_time": 1.597543334,
                        "iteration": 376,
                        "remaining_time": 2.639972141,
                        "learn": [
                          0.4551573378
                        ]
                      },
                      {
                        "passed_time": 1.600973625,
                        "iteration": 377,
                        "remaining_time": 2.634406335,
                        "learn": [
                          0.4551534286
                        ]
                      },
                      {
                        "passed_time": 1.605563669,
                        "iteration": 378,
                        "remaining_time": 2.630752081,
                        "learn": [
                          0.4551398716
                        ]
                      },
                      {
                        "passed_time": 1.609277857,
                        "iteration": 379,
                        "remaining_time": 2.625663872,
                        "learn": [
                          0.455134114
                        ]
                      },
                      {
                        "passed_time": 1.613931585,
                        "iteration": 380,
                        "remaining_time": 2.622109321,
                        "learn": [
                          0.455119969
                        ]
                      },
                      {
                        "passed_time": 1.618220235,
                        "iteration": 381,
                        "remaining_time": 2.617958391,
                        "learn": [
                          0.4551151312
                        ]
                      },
                      {
                        "passed_time": 1.622161834,
                        "iteration": 382,
                        "remaining_time": 2.613247654,
                        "learn": [
                          0.4551063295
                        ]
                      },
                      {
                        "passed_time": 1.625583513,
                        "iteration": 383,
                        "remaining_time": 2.607706886,
                        "learn": [
                          0.4551019443
                        ]
                      },
                      {
                        "passed_time": 1.62891064,
                        "iteration": 384,
                        "remaining_time": 2.602026087,
                        "learn": [
                          0.4550984389
                        ]
                      },
                      {
                        "passed_time": 1.632458467,
                        "iteration": 385,
                        "remaining_time": 2.596708546,
                        "learn": [
                          0.4550949129
                        ]
                      },
                      {
                        "passed_time": 1.635799093,
                        "iteration": 386,
                        "remaining_time": 2.591071948,
                        "learn": [
                          0.4550911494
                        ]
                      },
                      {
                        "passed_time": 1.639228349,
                        "iteration": 387,
                        "remaining_time": 2.585586984,
                        "learn": [
                          0.4550848162
                        ]
                      },
                      {
                        "passed_time": 1.643001578,
                        "iteration": 388,
                        "remaining_time": 2.580652865,
                        "learn": [
                          0.4550783602
                        ]
                      },
                      {
                        "passed_time": 1.646741046,
                        "iteration": 389,
                        "remaining_time": 2.575671893,
                        "learn": [
                          0.4550718177
                        ]
                      },
                      {
                        "passed_time": 1.650841441,
                        "iteration": 390,
                        "remaining_time": 2.571259431,
                        "learn": [
                          0.4550618118
                        ]
                      },
                      {
                        "passed_time": 1.654315181,
                        "iteration": 391,
                        "remaining_time": 2.565876607,
                        "learn": [
                          0.4550524194
                        ]
                      },
                      {
                        "passed_time": 1.657639609,
                        "iteration": 392,
                        "remaining_time": 2.560272882,
                        "learn": [
                          0.4550478384
                        ]
                      },
                      {
                        "passed_time": 1.661050806,
                        "iteration": 393,
                        "remaining_time": 2.554814184,
                        "learn": [
                          0.4550435741
                        ]
                      },
                      {
                        "passed_time": 1.664378549,
                        "iteration": 394,
                        "remaining_time": 2.54923803,
                        "learn": [
                          0.4550368652
                        ]
                      },
                      {
                        "passed_time": 1.667815354,
                        "iteration": 395,
                        "remaining_time": 2.54383958,
                        "learn": [
                          0.4550267468
                        ]
                      },
                      {
                        "passed_time": 1.671345297,
                        "iteration": 396,
                        "remaining_time": 2.538592479,
                        "learn": [
                          0.4550227028
                        ]
                      },
                      {
                        "passed_time": 1.6747686,
                        "iteration": 397,
                        "remaining_time": 2.533192707,
                        "learn": [
                          0.4550178514
                        ]
                      },
                      {
                        "passed_time": 1.678219261,
                        "iteration": 398,
                        "remaining_time": 2.52784405,
                        "learn": [
                          0.4550095666
                        ]
                      },
                      {
                        "passed_time": 1.681560146,
                        "iteration": 399,
                        "remaining_time": 2.522340219,
                        "learn": [
                          0.4550042945
                        ]
                      },
                      {
                        "passed_time": 1.685331831,
                        "iteration": 400,
                        "remaining_time": 2.51749069,
                        "learn": [
                          0.4550009342
                        ]
                      },
                      {
                        "passed_time": 1.68873151,
                        "iteration": 401,
                        "remaining_time": 2.512093142,
                        "learn": [
                          0.4549967256
                        ]
                      },
                      {
                        "passed_time": 1.692558326,
                        "iteration": 402,
                        "remaining_time": 2.507338265,
                        "learn": [
                          0.4549744991
                        ]
                      },
                      {
                        "passed_time": 1.696054639,
                        "iteration": 403,
                        "remaining_time": 2.502100408,
                        "learn": [
                          0.4549657975
                        ]
                      },
                      {
                        "passed_time": 1.699485321,
                        "iteration": 404,
                        "remaining_time": 2.496774731,
                        "learn": [
                          0.4549571272
                        ]
                      },
                      {
                        "passed_time": 1.702814625,
                        "iteration": 405,
                        "remaining_time": 2.491310066,
                        "learn": [
                          0.4549444348
                        ]
                      },
                      {
                        "passed_time": 1.706098147,
                        "iteration": 406,
                        "remaining_time": 2.485789193,
                        "learn": [
                          0.454940556
                        ]
                      },
                      {
                        "passed_time": 1.709964674,
                        "iteration": 407,
                        "remaining_time": 2.481125213,
                        "learn": [
                          0.4549272206
                        ]
                      },
                      {
                        "passed_time": 1.713791448,
                        "iteration": 408,
                        "remaining_time": 2.476407692,
                        "learn": [
                          0.4549115669
                        ]
                      },
                      {
                        "passed_time": 1.717154847,
                        "iteration": 409,
                        "remaining_time": 2.471027706,
                        "learn": [
                          0.4549060855
                        ]
                      },
                      {
                        "passed_time": 1.720842314,
                        "iteration": 410,
                        "remaining_time": 2.466121954,
                        "learn": [
                          0.4549014437
                        ]
                      },
                      {
                        "passed_time": 1.724581831,
                        "iteration": 411,
                        "remaining_time": 2.4612964,
                        "learn": [
                          0.4548981352
                        ]
                      },
                      {
                        "passed_time": 1.728334827,
                        "iteration": 412,
                        "remaining_time": 2.456495262,
                        "learn": [
                          0.4548876617
                        ]
                      },
                      {
                        "passed_time": 1.731969068,
                        "iteration": 413,
                        "remaining_time": 2.451531096,
                        "learn": [
                          0.4548817403
                        ]
                      },
                      {
                        "passed_time": 1.735582863,
                        "iteration": 414,
                        "remaining_time": 2.446544518,
                        "learn": [
                          0.4548775111
                        ]
                      },
                      {
                        "passed_time": 1.739570005,
                        "iteration": 415,
                        "remaining_time": 2.442088661,
                        "learn": [
                          0.4548596231
                        ]
                      },
                      {
                        "passed_time": 1.742925492,
                        "iteration": 416,
                        "remaining_time": 2.436751946,
                        "learn": [
                          0.4548536558
                        ]
                      },
                      {
                        "passed_time": 1.74618723,
                        "iteration": 417,
                        "remaining_time": 2.431294181,
                        "learn": [
                          0.4548443138
                        ]
                      },
                      {
                        "passed_time": 1.749579688,
                        "iteration": 418,
                        "remaining_time": 2.42602816,
                        "learn": [
                          0.4548415585
                        ]
                      },
                      {
                        "passed_time": 1.753023672,
                        "iteration": 419,
                        "remaining_time": 2.420842214,
                        "learn": [
                          0.4548369172
                        ]
                      },
                      {
                        "passed_time": 1.756621857,
                        "iteration": 420,
                        "remaining_time": 2.415876616,
                        "learn": [
                          0.4548250189
                        ]
                      },
                      {
                        "passed_time": 1.760313064,
                        "iteration": 421,
                        "remaining_time": 2.411044907,
                        "learn": [
                          0.4548158009
                        ]
                      },
                      {
                        "passed_time": 1.76351186,
                        "iteration": 422,
                        "remaining_time": 2.405546911,
                        "learn": [
                          0.4548117008
                        ]
                      },
                      {
                        "passed_time": 1.76920293,
                        "iteration": 423,
                        "remaining_time": 2.403445489,
                        "learn": [
                          0.4548088098
                        ]
                      },
                      {
                        "passed_time": 1.774843443,
                        "iteration": 424,
                        "remaining_time": 2.401258776,
                        "learn": [
                          0.4548026177
                        ]
                      },
                      {
                        "passed_time": 1.778355654,
                        "iteration": 425,
                        "remaining_time": 2.396188134,
                        "learn": [
                          0.4547965464
                        ]
                      },
                      {
                        "passed_time": 1.781672718,
                        "iteration": 426,
                        "remaining_time": 2.390862921,
                        "learn": [
                          0.4547945168
                        ]
                      },
                      {
                        "passed_time": 1.784873823,
                        "iteration": 427,
                        "remaining_time": 2.385392118,
                        "learn": [
                          0.4547903851
                        ]
                      },
                      {
                        "passed_time": 1.788295843,
                        "iteration": 428,
                        "remaining_time": 2.380225936,
                        "learn": [
                          0.454784661
                        ]
                      },
                      {
                        "passed_time": 1.792062748,
                        "iteration": 429,
                        "remaining_time": 2.375525039,
                        "learn": [
                          0.4547798572
                        ]
                      },
                      {
                        "passed_time": 1.795581605,
                        "iteration": 430,
                        "remaining_time": 2.370501005,
                        "learn": [
                          0.454771484
                        ]
                      },
                      {
                        "passed_time": 1.798976002,
                        "iteration": 431,
                        "remaining_time": 2.365320299,
                        "learn": [
                          0.4547630301
                        ]
                      },
                      {
                        "passed_time": 1.803345018,
                        "iteration": 432,
                        "remaining_time": 2.361424077,
                        "learn": [
                          0.4547593467
                        ]
                      },
                      {
                        "passed_time": 1.807127236,
                        "iteration": 433,
                        "remaining_time": 2.356760405,
                        "learn": [
                          0.454752522
                        ]
                      },
                      {
                        "passed_time": 1.810569572,
                        "iteration": 434,
                        "remaining_time": 2.351659329,
                        "learn": [
                          0.4547485079
                        ]
                      },
                      {
                        "passed_time": 1.814157974,
                        "iteration": 435,
                        "remaining_time": 2.346754811,
                        "learn": [
                          0.4547401246
                        ]
                      },
                      {
                        "passed_time": 1.81781993,
                        "iteration": 436,
                        "remaining_time": 2.341951077,
                        "learn": [
                          0.4547362811
                        ]
                      },
                      {
                        "passed_time": 1.82190049,
                        "iteration": 437,
                        "remaining_time": 2.33768967,
                        "learn": [
                          0.4547274124
                        ]
                      },
                      {
                        "passed_time": 1.82568981,
                        "iteration": 438,
                        "remaining_time": 2.33305691,
                        "learn": [
                          0.4547235527
                        ]
                      },
                      {
                        "passed_time": 1.829662327,
                        "iteration": 439,
                        "remaining_time": 2.328661143,
                        "learn": [
                          0.4547074796
                        ]
                      },
                      {
                        "passed_time": 1.833277981,
                        "iteration": 440,
                        "remaining_time": 2.323814947,
                        "learn": [
                          0.4547036133
                        ]
                      },
                      {
                        "passed_time": 1.836707913,
                        "iteration": 441,
                        "remaining_time": 2.318739854,
                        "learn": [
                          0.454692417
                        ]
                      },
                      {
                        "passed_time": 1.840173426,
                        "iteration": 442,
                        "remaining_time": 2.313716926,
                        "learn": [
                          0.4546888002
                        ]
                      },
                      {
                        "passed_time": 1.843678678,
                        "iteration": 443,
                        "remaining_time": 2.308750778,
                        "learn": [
                          0.4546832198
                        ]
                      },
                      {
                        "passed_time": 1.847071338,
                        "iteration": 444,
                        "remaining_time": 2.30365077,
                        "learn": [
                          0.4546781108
                        ]
                      },
                      {
                        "passed_time": 1.850483881,
                        "iteration": 445,
                        "remaining_time": 2.298583117,
                        "learn": [
                          0.4546736376
                        ]
                      },
                      {
                        "passed_time": 1.853784213,
                        "iteration": 446,
                        "remaining_time": 2.293384048,
                        "learn": [
                          0.4546680089
                        ]
                      },
                      {
                        "passed_time": 1.857065657,
                        "iteration": 447,
                        "remaining_time": 2.288170184,
                        "learn": [
                          0.454665743
                        ]
                      },
                      {
                        "passed_time": 1.860465262,
                        "iteration": 448,
                        "remaining_time": 2.283109932,
                        "learn": [
                          0.4546620848
                        ]
                      },
                      {
                        "passed_time": 1.864600943,
                        "iteration": 449,
                        "remaining_time": 2.278956708,
                        "learn": [
                          0.4546565809
                        ]
                      },
                      {
                        "passed_time": 1.868411235,
                        "iteration": 450,
                        "remaining_time": 2.274407468,
                        "learn": [
                          0.4546548552
                        ]
                      },
                      {
                        "passed_time": 1.871755086,
                        "iteration": 451,
                        "remaining_time": 2.26929599,
                        "learn": [
                          0.4546513212
                        ]
                      },
                      {
                        "passed_time": 1.875462598,
                        "iteration": 452,
                        "remaining_time": 2.264631438,
                        "learn": [
                          0.4546471824
                        ]
                      },
                      {
                        "passed_time": 1.879955199,
                        "iteration": 453,
                        "remaining_time": 2.260915283,
                        "learn": [
                          0.4546324161
                        ]
                      },
                      {
                        "passed_time": 1.883951286,
                        "iteration": 454,
                        "remaining_time": 2.256600991,
                        "learn": [
                          0.4546262564
                        ]
                      },
                      {
                        "passed_time": 1.887548704,
                        "iteration": 455,
                        "remaining_time": 2.251812489,
                        "learn": [
                          0.4546230442
                        ]
                      },
                      {
                        "passed_time": 1.891395583,
                        "iteration": 456,
                        "remaining_time": 2.247325605,
                        "learn": [
                          0.4546204396
                        ]
                      },
                      {
                        "passed_time": 1.895239919,
                        "iteration": 457,
                        "remaining_time": 2.242838506,
                        "learn": [
                          0.4546074574
                        ]
                      },
                      {
                        "passed_time": 1.90347684,
                        "iteration": 458,
                        "remaining_time": 2.243531526,
                        "learn": [
                          0.4545989378
                        ]
                      },
                      {
                        "passed_time": 1.910362838,
                        "iteration": 459,
                        "remaining_time": 2.242599853,
                        "learn": [
                          0.4545910987
                        ]
                      },
                      {
                        "passed_time": 1.913801135,
                        "iteration": 460,
                        "remaining_time": 2.237611305,
                        "learn": [
                          0.4545856918
                        ]
                      },
                      {
                        "passed_time": 1.917279711,
                        "iteration": 461,
                        "remaining_time": 2.232676374,
                        "learn": [
                          0.4545834561
                        ]
                      },
                      {
                        "passed_time": 1.921070284,
                        "iteration": 462,
                        "remaining_time": 2.228109595,
                        "learn": [
                          0.4545728681
                        ]
                      },
                      {
                        "passed_time": 1.924436845,
                        "iteration": 463,
                        "remaining_time": 2.223056356,
                        "learn": [
                          0.4545675581
                        ]
                      },
                      {
                        "passed_time": 1.92782455,
                        "iteration": 464,
                        "remaining_time": 2.218034697,
                        "learn": [
                          0.4545644791
                        ]
                      },
                      {
                        "passed_time": 1.931238024,
                        "iteration": 465,
                        "remaining_time": 2.213049581,
                        "learn": [
                          0.4545574554
                        ]
                      },
                      {
                        "passed_time": 1.935082624,
                        "iteration": 466,
                        "remaining_time": 2.208563252,
                        "learn": [
                          0.4545454366
                        ]
                      },
                      {
                        "passed_time": 1.938663371,
                        "iteration": 467,
                        "remaining_time": 2.20377973,
                        "learn": [
                          0.4545412595
                        ]
                      },
                      {
                        "passed_time": 1.941918995,
                        "iteration": 468,
                        "remaining_time": 2.198633233,
                        "learn": [
                          0.4545380202
                        ]
                      },
                      {
                        "passed_time": 1.96694382,
                        "iteration": 469,
                        "remaining_time": 2.218043031,
                        "learn": [
                          0.4545354808
                        ]
                      },
                      {
                        "passed_time": 1.977939393,
                        "iteration": 470,
                        "remaining_time": 2.221507301,
                        "learn": [
                          0.4545302107
                        ]
                      },
                      {
                        "passed_time": 1.985244512,
                        "iteration": 471,
                        "remaining_time": 2.220781997,
                        "learn": [
                          0.4545268449
                        ]
                      },
                      {
                        "passed_time": 1.988650865,
                        "iteration": 472,
                        "remaining_time": 2.215685002,
                        "learn": [
                          0.4545250902
                        ]
                      },
                      {
                        "passed_time": 1.991924184,
                        "iteration": 473,
                        "remaining_time": 2.210447512,
                        "learn": [
                          0.4545230565
                        ]
                      },
                      {
                        "passed_time": 1.995693026,
                        "iteration": 474,
                        "remaining_time": 2.205765976,
                        "learn": [
                          0.4545077558
                        ]
                      },
                      {
                        "passed_time": 1.999329892,
                        "iteration": 475,
                        "remaining_time": 2.20094299,
                        "learn": [
                          0.4544999283
                        ]
                      },
                      {
                        "passed_time": 2.00644363,
                        "iteration": 476,
                        "remaining_time": 2.199937145,
                        "learn": [
                          0.4544971992
                        ]
                      },
                      {
                        "passed_time": 2.01217583,
                        "iteration": 477,
                        "remaining_time": 2.197397036,
                        "learn": [
                          0.4544859998
                        ]
                      },
                      {
                        "passed_time": 2.022870887,
                        "iteration": 478,
                        "remaining_time": 2.200241612,
                        "learn": [
                          0.4544833452
                        ]
                      },
                      {
                        "passed_time": 2.026245483,
                        "iteration": 479,
                        "remaining_time": 2.195099273,
                        "learn": [
                          0.4544797973
                        ]
                      },
                      {
                        "passed_time": 2.029915592,
                        "iteration": 480,
                        "remaining_time": 2.190283144,
                        "learn": [
                          0.4544718925
                        ]
                      },
                      {
                        "passed_time": 2.033675429,
                        "iteration": 481,
                        "remaining_time": 2.1855682,
                        "learn": [
                          0.4544634551
                        ]
                      },
                      {
                        "passed_time": 2.037107107,
                        "iteration": 482,
                        "remaining_time": 2.180505951,
                        "learn": [
                          0.4544601918
                        ]
                      },
                      {
                        "passed_time": 2.040384194,
                        "iteration": 483,
                        "remaining_time": 2.175285628,
                        "learn": [
                          0.454457102
                        ]
                      },
                      {
                        "passed_time": 2.043939924,
                        "iteration": 484,
                        "remaining_time": 2.170369197,
                        "learn": [
                          0.4544545669
                        ]
                      },
                      {
                        "passed_time": 2.047176122,
                        "iteration": 485,
                        "remaining_time": 2.165120425,
                        "learn": [
                          0.4544519668
                        ]
                      },
                      {
                        "passed_time": 2.050601012,
                        "iteration": 486,
                        "remaining_time": 2.160078684,
                        "learn": [
                          0.4544473278
                        ]
                      },
                      {
                        "passed_time": 2.053937359,
                        "iteration": 487,
                        "remaining_time": 2.154950671,
                        "learn": [
                          0.4544441099
                        ]
                      },
                      {
                        "passed_time": 2.063212829,
                        "iteration": 488,
                        "remaining_time": 2.156036311,
                        "learn": [
                          0.4544420023
                        ]
                      },
                      {
                        "passed_time": 2.071305704,
                        "iteration": 489,
                        "remaining_time": 2.155848794,
                        "learn": [
                          0.4544363018
                        ]
                      },
                      {
                        "passed_time": 2.076697427,
                        "iteration": 490,
                        "remaining_time": 2.1528289,
                        "learn": [
                          0.4544314873
                        ]
                      },
                      {
                        "passed_time": 2.080218481,
                        "iteration": 491,
                        "remaining_time": 2.147867863,
                        "learn": [
                          0.4544266584
                        ]
                      },
                      {
                        "passed_time": 2.08361102,
                        "iteration": 492,
                        "remaining_time": 2.142780502,
                        "learn": [
                          0.4544190057
                        ]
                      },
                      {
                        "passed_time": 2.086985227,
                        "iteration": 493,
                        "remaining_time": 2.137681225,
                        "learn": [
                          0.4544163213
                        ]
                      },
                      {
                        "passed_time": 2.090286854,
                        "iteration": 494,
                        "remaining_time": 2.132514872,
                        "learn": [
                          0.4544130033
                        ]
                      },
                      {
                        "passed_time": 2.093801769,
                        "iteration": 495,
                        "remaining_time": 2.127572765,
                        "learn": [
                          0.4544075748
                        ]
                      },
                      {
                        "passed_time": 2.097159746,
                        "iteration": 496,
                        "remaining_time": 2.12247757,
                        "learn": [
                          0.4544029664
                        ]
                      },
                      {
                        "passed_time": 2.100502702,
                        "iteration": 497,
                        "remaining_time": 2.117374209,
                        "learn": [
                          0.4543949854
                        ]
                      },
                      {
                        "passed_time": 2.103742075,
                        "iteration": 498,
                        "remaining_time": 2.112173907,
                        "learn": [
                          0.4543929273
                        ]
                      },
                      {
                        "passed_time": 2.107042295,
                        "iteration": 499,
                        "remaining_time": 2.107042295,
                        "learn": [
                          0.454390352
                        ]
                      },
                      {
                        "passed_time": 2.110309288,
                        "iteration": 500,
                        "remaining_time": 2.101884899,
                        "learn": [
                          0.4543849856
                        ]
                      },
                      {
                        "passed_time": 2.113653195,
                        "iteration": 501,
                        "remaining_time": 2.096811337,
                        "learn": [
                          0.454382605
                        ]
                      },
                      {
                        "passed_time": 2.117155712,
                        "iteration": 502,
                        "remaining_time": 2.091901369,
                        "learn": [
                          0.454380169
                        ]
                      },
                      {
                        "passed_time": 2.121239737,
                        "iteration": 503,
                        "remaining_time": 2.087569265,
                        "learn": [
                          0.4543783694
                        ]
                      },
                      {
                        "passed_time": 2.125038974,
                        "iteration": 504,
                        "remaining_time": 2.082958995,
                        "learn": [
                          0.454375933
                        ]
                      },
                      {
                        "passed_time": 2.128630635,
                        "iteration": 505,
                        "remaining_time": 2.078149276,
                        "learn": [
                          0.4543729726
                        ]
                      },
                      {
                        "passed_time": 2.132408326,
                        "iteration": 506,
                        "remaining_time": 2.073525256,
                        "learn": [
                          0.4543705347
                        ]
                      },
                      {
                        "passed_time": 2.136573196,
                        "iteration": 507,
                        "remaining_time": 2.069279552,
                        "learn": [
                          0.4543684714
                        ]
                      },
                      {
                        "passed_time": 2.13999209,
                        "iteration": 508,
                        "remaining_time": 2.06431457,
                        "learn": [
                          0.45436547
                        ]
                      },
                      {
                        "passed_time": 2.144030293,
                        "iteration": 509,
                        "remaining_time": 2.059950673,
                        "learn": [
                          0.4543573599
                        ]
                      },
                      {
                        "passed_time": 2.147409571,
                        "iteration": 510,
                        "remaining_time": 2.054957496,
                        "learn": [
                          0.454353714
                        ]
                      },
                      {
                        "passed_time": 2.151647783,
                        "iteration": 511,
                        "remaining_time": 2.050789293,
                        "learn": [
                          0.4543515077
                        ]
                      },
                      {
                        "passed_time": 2.157312111,
                        "iteration": 512,
                        "remaining_time": 2.047974655,
                        "learn": [
                          0.4543460244
                        ]
                      },
                      {
                        "passed_time": 2.161708034,
                        "iteration": 513,
                        "remaining_time": 2.043949619,
                        "learn": [
                          0.4543436746
                        ]
                      },
                      {
                        "passed_time": 2.165166452,
                        "iteration": 514,
                        "remaining_time": 2.039040251,
                        "learn": [
                          0.4543370657
                        ]
                      },
                      {
                        "passed_time": 2.1685548,
                        "iteration": 515,
                        "remaining_time": 2.034070781,
                        "learn": [
                          0.4543330516
                        ]
                      },
                      {
                        "passed_time": 2.172242334,
                        "iteration": 516,
                        "remaining_time": 2.029386939,
                        "learn": [
                          0.454328873
                        ]
                      },
                      {
                        "passed_time": 2.175597723,
                        "iteration": 517,
                        "remaining_time": 2.024397881,
                        "learn": [
                          0.4543250832
                        ]
                      },
                      {
                        "passed_time": 2.178893126,
                        "iteration": 518,
                        "remaining_time": 2.019359526,
                        "learn": [
                          0.454321475
                        ]
                      },
                      {
                        "passed_time": 2.183208957,
                        "iteration": 519,
                        "remaining_time": 2.015269807,
                        "learn": [
                          0.4543182946
                        ]
                      },
                      {
                        "passed_time": 2.18795076,
                        "iteration": 520,
                        "remaining_time": 2.011570852,
                        "learn": [
                          0.4543129652
                        ]
                      },
                      {
                        "passed_time": 2.191696076,
                        "iteration": 521,
                        "remaining_time": 2.00695541,
                        "learn": [
                          0.454310469
                        ]
                      },
                      {
                        "passed_time": 2.195171676,
                        "iteration": 522,
                        "remaining_time": 2.002097303,
                        "learn": [
                          0.4543081693
                        ]
                      },
                      {
                        "passed_time": 2.199053292,
                        "iteration": 523,
                        "remaining_time": 1.997613296,
                        "learn": [
                          0.4543010348
                        ]
                      },
                      {
                        "passed_time": 2.202437994,
                        "iteration": 524,
                        "remaining_time": 1.992681995,
                        "learn": [
                          0.4542964327
                        ]
                      },
                      {
                        "passed_time": 2.206453382,
                        "iteration": 525,
                        "remaining_time": 1.988324911,
                        "learn": [
                          0.454293563
                        ]
                      },
                      {
                        "passed_time": 2.210163781,
                        "iteration": 526,
                        "remaining_time": 1.983695386,
                        "learn": [
                          0.4542912969
                        ]
                      },
                      {
                        "passed_time": 2.214118601,
                        "iteration": 527,
                        "remaining_time": 1.97928784,
                        "learn": [
                          0.4542839899
                        ]
                      },
                      {
                        "passed_time": 2.217673551,
                        "iteration": 528,
                        "remaining_time": 1.974525978,
                        "learn": [
                          0.4542801798
                        ]
                      },
                      {
                        "passed_time": 2.221264145,
                        "iteration": 529,
                        "remaining_time": 1.96980028,
                        "learn": [
                          0.4542776367
                        ]
                      },
                      {
                        "passed_time": 2.224698727,
                        "iteration": 530,
                        "remaining_time": 1.964941061,
                        "learn": [
                          0.4542758572
                        ]
                      },
                      {
                        "passed_time": 2.228122823,
                        "iteration": 531,
                        "remaining_time": 1.960077972,
                        "learn": [
                          0.4542704142
                        ]
                      },
                      {
                        "passed_time": 2.231626619,
                        "iteration": 532,
                        "remaining_time": 1.955290115,
                        "learn": [
                          0.4542675308
                        ]
                      },
                      {
                        "passed_time": 2.234981465,
                        "iteration": 533,
                        "remaining_time": 1.950377084,
                        "learn": [
                          0.4542653645
                        ]
                      },
                      {
                        "passed_time": 2.238253501,
                        "iteration": 534,
                        "remaining_time": 1.945397903,
                        "learn": [
                          0.4542630163
                        ]
                      },
                      {
                        "passed_time": 2.241543952,
                        "iteration": 535,
                        "remaining_time": 1.940441033,
                        "learn": [
                          0.45426026
                        ]
                      },
                      {
                        "passed_time": 2.245104793,
                        "iteration": 536,
                        "remaining_time": 1.9357235,
                        "learn": [
                          0.4542535978
                        ]
                      },
                      {
                        "passed_time": 2.249190147,
                        "iteration": 537,
                        "remaining_time": 1.931460684,
                        "learn": [
                          0.4542507552
                        ]
                      },
                      {
                        "passed_time": 2.261648599,
                        "iteration": 538,
                        "remaining_time": 1.934359934,
                        "learn": [
                          0.4542484876
                        ]
                      },
                      {
                        "passed_time": 2.271904766,
                        "iteration": 539,
                        "remaining_time": 1.935326282,
                        "learn": [
                          0.454244944
                        ]
                      },
                      {
                        "passed_time": 2.282246973,
                        "iteration": 540,
                        "remaining_time": 1.936324142,
                        "learn": [
                          0.4542421755
                        ]
                      },
                      {
                        "passed_time": 2.292317242,
                        "iteration": 541,
                        "remaining_time": 1.937050363,
                        "learn": [
                          0.4542393609
                        ]
                      },
                      {
                        "passed_time": 2.306067805,
                        "iteration": 542,
                        "remaining_time": 1.94083423,
                        "learn": [
                          0.4542303915
                        ]
                      },
                      {
                        "passed_time": 2.314185952,
                        "iteration": 543,
                        "remaining_time": 1.939832342,
                        "learn": [
                          0.4542278149
                        ]
                      },
                      {
                        "passed_time": 2.321087154,
                        "iteration": 544,
                        "remaining_time": 1.937788358,
                        "learn": [
                          0.4542255105
                        ]
                      },
                      {
                        "passed_time": 2.330197474,
                        "iteration": 545,
                        "remaining_time": 1.937563467,
                        "learn": [
                          0.4542186594
                        ]
                      },
                      {
                        "passed_time": 2.344954012,
                        "iteration": 546,
                        "remaining_time": 1.941982024,
                        "learn": [
                          0.4542166556
                        ]
                      },
                      {
                        "passed_time": 2.356128462,
                        "iteration": 547,
                        "remaining_time": 1.943376031,
                        "learn": [
                          0.4542146967
                        ]
                      },
                      {
                        "passed_time": 2.367008455,
                        "iteration": 548,
                        "remaining_time": 1.944482355,
                        "learn": [
                          0.4542110211
                        ]
                      },
                      {
                        "passed_time": 2.381521658,
                        "iteration": 549,
                        "remaining_time": 1.948517721,
                        "learn": [
                          0.4542037448
                        ]
                      },
                      {
                        "passed_time": 2.389667588,
                        "iteration": 550,
                        "remaining_time": 1.947297181,
                        "learn": [
                          0.4542015387
                        ]
                      },
                      {
                        "passed_time": 2.395705704,
                        "iteration": 551,
                        "remaining_time": 1.944340861,
                        "learn": [
                          0.4541988544
                        ]
                      },
                      {
                        "passed_time": 2.40514549,
                        "iteration": 552,
                        "remaining_time": 1.944123027,
                        "learn": [
                          0.4541966115
                        ]
                      },
                      {
                        "passed_time": 2.418855406,
                        "iteration": 553,
                        "remaining_time": 1.947309587,
                        "learn": [
                          0.4541939423
                        ]
                      },
                      {
                        "passed_time": 2.428555261,
                        "iteration": 554,
                        "remaining_time": 1.947219984,
                        "learn": [
                          0.4541905159
                        ]
                      },
                      {
                        "passed_time": 2.439471176,
                        "iteration": 555,
                        "remaining_time": 1.94806691,
                        "learn": [
                          0.4541882588
                        ]
                      },
                      {
                        "passed_time": 2.444048239,
                        "iteration": 556,
                        "remaining_time": 1.943830107,
                        "learn": [
                          0.4541861482
                        ]
                      },
                      {
                        "passed_time": 2.448845068,
                        "iteration": 557,
                        "remaining_time": 1.939766165,
                        "learn": [
                          0.4541811787
                        ]
                      },
                      {
                        "passed_time": 2.453216303,
                        "iteration": 558,
                        "remaining_time": 1.935363845,
                        "learn": [
                          0.4541791029
                        ]
                      },
                      {
                        "passed_time": 2.457205833,
                        "iteration": 559,
                        "remaining_time": 1.930661726,
                        "learn": [
                          0.454171657
                        ]
                      },
                      {
                        "passed_time": 2.463198324,
                        "iteration": 560,
                        "remaining_time": 1.927529526,
                        "learn": [
                          0.4541690239
                        ]
                      },
                      {
                        "passed_time": 2.466768157,
                        "iteration": 561,
                        "remaining_time": 1.922499026,
                        "learn": [
                          0.4541649736
                        ]
                      },
                      {
                        "passed_time": 2.471518139,
                        "iteration": 562,
                        "remaining_time": 1.918389745,
                        "learn": [
                          0.4541629061
                        ]
                      },
                      {
                        "passed_time": 2.474995362,
                        "iteration": 563,
                        "remaining_time": 1.913294287,
                        "learn": [
                          0.4541573268
                        ]
                      },
                      {
                        "passed_time": 2.479590937,
                        "iteration": 564,
                        "remaining_time": 1.909065589,
                        "learn": [
                          0.4541545919
                        ]
                      },
                      {
                        "passed_time": 2.489132388,
                        "iteration": 565,
                        "remaining_time": 1.908628015,
                        "learn": [
                          0.4541523203
                        ]
                      },
                      {
                        "passed_time": 2.499955931,
                        "iteration": 566,
                        "remaining_time": 1.909137422,
                        "learn": [
                          0.4541445031
                        ]
                      },
                      {
                        "passed_time": 2.510058041,
                        "iteration": 567,
                        "remaining_time": 1.909058228,
                        "learn": [
                          0.454142387
                        ]
                      },
                      {
                        "passed_time": 2.524752612,
                        "iteration": 568,
                        "remaining_time": 1.912422453,
                        "learn": [
                          0.4541407449
                        ]
                      },
                      {
                        "passed_time": 2.534428411,
                        "iteration": 569,
                        "remaining_time": 1.911937222,
                        "learn": [
                          0.4541381715
                        ]
                      },
                      {
                        "passed_time": 2.544292688,
                        "iteration": 570,
                        "remaining_time": 1.911561407,
                        "learn": [
                          0.4541320323
                        ]
                      },
                      {
                        "passed_time": 2.559526336,
                        "iteration": 571,
                        "remaining_time": 1.915170056,
                        "learn": [
                          0.4541298753
                        ]
                      },
                      {
                        "passed_time": 2.565606225,
                        "iteration": 572,
                        "remaining_time": 1.91189155,
                        "learn": [
                          0.4541272822
                        ]
                      },
                      {
                        "passed_time": 2.5690946,
                        "iteration": 573,
                        "remaining_time": 1.906679964,
                        "learn": [
                          0.454123483
                        ]
                      },
                      {
                        "passed_time": 2.572364816,
                        "iteration": 574,
                        "remaining_time": 1.901313125,
                        "learn": [
                          0.4541214413
                        ]
                      },
                      {
                        "passed_time": 2.575900692,
                        "iteration": 575,
                        "remaining_time": 1.89614912,
                        "learn": [
                          0.4541180787
                        ]
                      },
                      {
                        "passed_time": 2.579196347,
                        "iteration": 576,
                        "remaining_time": 1.890814653,
                        "learn": [
                          0.4541148449
                        ]
                      },
                      {
                        "passed_time": 2.582592164,
                        "iteration": 577,
                        "remaining_time": 1.885560369,
                        "learn": [
                          0.454113782
                        ]
                      },
                      {
                        "passed_time": 2.585818238,
                        "iteration": 578,
                        "remaining_time": 1.880189081,
                        "learn": [
                          0.4541122212
                        ]
                      },
                      {
                        "passed_time": 2.589135903,
                        "iteration": 579,
                        "remaining_time": 1.874891516,
                        "learn": [
                          0.4541100766
                        ]
                      },
                      {
                        "passed_time": 2.592437784,
                        "iteration": 580,
                        "remaining_time": 1.869589383,
                        "learn": [
                          0.4541085663
                        ]
                      },
                      {
                        "passed_time": 2.595751588,
                        "iteration": 581,
                        "remaining_time": 1.864302687,
                        "learn": [
                          0.4541067134
                        ]
                      },
                      {
                        "passed_time": 2.599050643,
                        "iteration": 582,
                        "remaining_time": 1.85901221,
                        "learn": [
                          0.4541046647
                        ]
                      },
                      {
                        "passed_time": 2.6023288,
                        "iteration": 583,
                        "remaining_time": 1.853713666,
                        "learn": [
                          0.4541026626
                        ]
                      },
                      {
                        "passed_time": 2.605695663,
                        "iteration": 584,
                        "remaining_time": 1.848484958,
                        "learn": [
                          0.454099801
                        ]
                      },
                      {
                        "passed_time": 2.60902013,
                        "iteration": 585,
                        "remaining_time": 1.843232651,
                        "learn": [
                          0.4540986905
                        ]
                      },
                      {
                        "passed_time": 2.61233182,
                        "iteration": 586,
                        "remaining_time": 1.837977925,
                        "learn": [
                          0.4540967473
                        ]
                      },
                      {
                        "passed_time": 2.615602698,
                        "iteration": 587,
                        "remaining_time": 1.83270121,
                        "learn": [
                          0.454094257
                        ]
                      },
                      {
                        "passed_time": 2.619045954,
                        "iteration": 588,
                        "remaining_time": 1.827551591,
                        "learn": [
                          0.4540900678
                        ]
                      },
                      {
                        "passed_time": 2.622469061,
                        "iteration": 589,
                        "remaining_time": 1.822393754,
                        "learn": [
                          0.4540876299
                        ]
                      },
                      {
                        "passed_time": 2.626097942,
                        "iteration": 590,
                        "remaining_time": 1.817384194,
                        "learn": [
                          0.4540855726
                        ]
                      },
                      {
                        "passed_time": 2.629562728,
                        "iteration": 591,
                        "remaining_time": 1.812266205,
                        "learn": [
                          0.4540823901
                        ]
                      },
                      {
                        "passed_time": 2.633142062,
                        "iteration": 592,
                        "remaining_time": 1.80723241,
                        "learn": [
                          0.4540803242
                        ]
                      },
                      {
                        "passed_time": 2.636856792,
                        "iteration": 593,
                        "remaining_time": 1.802296056,
                        "learn": [
                          0.4540731039
                        ]
                      },
                      {
                        "passed_time": 2.640151833,
                        "iteration": 594,
                        "remaining_time": 1.797078139,
                        "learn": [
                          0.4540701272
                        ]
                      },
                      {
                        "passed_time": 2.644054203,
                        "iteration": 595,
                        "remaining_time": 1.792278353,
                        "learn": [
                          0.4540680096
                        ]
                      },
                      {
                        "passed_time": 2.647368055,
                        "iteration": 596,
                        "remaining_time": 1.787084299,
                        "learn": [
                          0.4540663957
                        ]
                      },
                      {
                        "passed_time": 2.650728604,
                        "iteration": 597,
                        "remaining_time": 1.781927924,
                        "learn": [
                          0.4540638458
                        ]
                      },
                      {
                        "passed_time": 2.653996681,
                        "iteration": 598,
                        "remaining_time": 1.776715641,
                        "learn": [
                          0.4540613371
                        ]
                      },
                      {
                        "passed_time": 2.657306761,
                        "iteration": 599,
                        "remaining_time": 1.771537841,
                        "learn": [
                          0.4540570485
                        ]
                      },
                      {
                        "passed_time": 2.660622117,
                        "iteration": 600,
                        "remaining_time": 1.766369758,
                        "learn": [
                          0.4540555625
                        ]
                      },
                      {
                        "passed_time": 2.663964772,
                        "iteration": 601,
                        "remaining_time": 1.761225879,
                        "learn": [
                          0.454053593
                        ]
                      },
                      {
                        "passed_time": 2.667156008,
                        "iteration": 602,
                        "remaining_time": 1.755988284,
                        "learn": [
                          0.4540498853
                        ]
                      },
                      {
                        "passed_time": 2.670653329,
                        "iteration": 603,
                        "remaining_time": 1.750958143,
                        "learn": [
                          0.4540472856
                        ]
                      },
                      {
                        "passed_time": 2.67525871,
                        "iteration": 604,
                        "remaining_time": 1.746656513,
                        "learn": [
                          0.454045802
                        ]
                      },
                      {
                        "passed_time": 2.680306439,
                        "iteration": 605,
                        "remaining_time": 1.74264148,
                        "learn": [
                          0.4540433901
                        ]
                      },
                      {
                        "passed_time": 2.685365677,
                        "iteration": 606,
                        "remaining_time": 1.738630496,
                        "learn": [
                          0.4540409942
                        ]
                      },
                      {
                        "passed_time": 2.688725267,
                        "iteration": 607,
                        "remaining_time": 1.733520238,
                        "learn": [
                          0.454039338
                        ]
                      },
                      {
                        "passed_time": 2.692143846,
                        "iteration": 608,
                        "remaining_time": 1.728453602,
                        "learn": [
                          0.4540323545
                        ]
                      },
                      {
                        "passed_time": 2.695870504,
                        "iteration": 609,
                        "remaining_time": 1.723589339,
                        "learn": [
                          0.4540293188
                        ]
                      },
                      {
                        "passed_time": 2.699205823,
                        "iteration": 610,
                        "remaining_time": 1.718479648,
                        "learn": [
                          0.4540263058
                        ]
                      },
                      {
                        "passed_time": 2.702689688,
                        "iteration": 611,
                        "remaining_time": 1.713469933,
                        "learn": [
                          0.4540214293
                        ]
                      },
                      {
                        "passed_time": 2.706072255,
                        "iteration": 612,
                        "remaining_time": 1.708401244,
                        "learn": [
                          0.4540201263
                        ]
                      },
                      {
                        "passed_time": 2.709453129,
                        "iteration": 613,
                        "remaining_time": 1.703336984,
                        "learn": [
                          0.4540180835
                        ]
                      },
                      {
                        "passed_time": 2.712778363,
                        "iteration": 614,
                        "remaining_time": 1.698243365,
                        "learn": [
                          0.45401584
                        ]
                      },
                      {
                        "passed_time": 2.716490193,
                        "iteration": 615,
                        "remaining_time": 1.693396484,
                        "learn": [
                          0.4540123161
                        ]
                      },
                      {
                        "passed_time": 2.719937343,
                        "iteration": 616,
                        "remaining_time": 1.688388983,
                        "learn": [
                          0.454009948
                        ]
                      },
                      {
                        "passed_time": 2.72390894,
                        "iteration": 617,
                        "remaining_time": 1.683710704,
                        "learn": [
                          0.4540008267
                        ]
                      },
                      {
                        "passed_time": 2.727234535,
                        "iteration": 618,
                        "remaining_time": 1.678637088,
                        "learn": [
                          0.4539989417
                        ]
                      },
                      {
                        "passed_time": 2.730760394,
                        "iteration": 619,
                        "remaining_time": 1.673691855,
                        "learn": [
                          0.4539952501
                        ]
                      },
                      {
                        "passed_time": 2.734096264,
                        "iteration": 620,
                        "remaining_time": 1.66863524,
                        "learn": [
                          0.4539921197
                        ]
                      },
                      {
                        "passed_time": 2.737410577,
                        "iteration": 621,
                        "remaining_time": 1.663571058,
                        "learn": [
                          0.4539903977
                        ]
                      },
                      {
                        "passed_time": 2.742161861,
                        "iteration": 622,
                        "remaining_time": 1.659382057,
                        "learn": [
                          0.4539885973
                        ]
                      },
                      {
                        "passed_time": 2.747613387,
                        "iteration": 623,
                        "remaining_time": 1.655613195,
                        "learn": [
                          0.4539854827
                        ]
                      },
                      {
                        "passed_time": 2.751142631,
                        "iteration": 624,
                        "remaining_time": 1.650685579,
                        "learn": [
                          0.453981674
                        ]
                      },
                      {
                        "passed_time": 2.754522998,
                        "iteration": 625,
                        "remaining_time": 1.645673484,
                        "learn": [
                          0.4539793027
                        ]
                      },
                      {
                        "passed_time": 2.757819653,
                        "iteration": 626,
                        "remaining_time": 1.640616795,
                        "learn": [
                          0.4539774975
                        ]
                      },
                      {
                        "passed_time": 2.761322241,
                        "iteration": 627,
                        "remaining_time": 1.635687697,
                        "learn": [
                          0.4539756407
                        ]
                      },
                      {
                        "passed_time": 2.764650409,
                        "iteration": 628,
                        "remaining_time": 1.630660257,
                        "learn": [
                          0.453973372
                        ]
                      },
                      {
                        "passed_time": 2.767970905,
                        "iteration": 629,
                        "remaining_time": 1.625633706,
                        "learn": [
                          0.4539715202
                        ]
                      },
                      {
                        "passed_time": 2.771304736,
                        "iteration": 630,
                        "remaining_time": 1.620620361,
                        "learn": [
                          0.453969305
                        ]
                      },
                      {
                        "passed_time": 2.774835256,
                        "iteration": 631,
                        "remaining_time": 1.615726858,
                        "learn": [
                          0.4539669181
                        ]
                      },
                      {
                        "passed_time": 2.780628376,
                        "iteration": 632,
                        "remaining_time": 1.612149469,
                        "learn": [
                          0.4539650643
                        ]
                      },
                      {
                        "passed_time": 2.785302899,
                        "iteration": 633,
                        "remaining_time": 1.607919339,
                        "learn": [
                          0.4539607364
                        ]
                      },
                      {
                        "passed_time": 2.788750556,
                        "iteration": 634,
                        "remaining_time": 1.602982603,
                        "learn": [
                          0.4539591044
                        ]
                      },
                      {
                        "passed_time": 2.792462881,
                        "iteration": 635,
                        "remaining_time": 1.598202026,
                        "learn": [
                          0.4539572973
                        ]
                      },
                      {
                        "passed_time": 2.795908844,
                        "iteration": 636,
                        "remaining_time": 1.593273015,
                        "learn": [
                          0.4539561717
                        ]
                      },
                      {
                        "passed_time": 2.799493508,
                        "iteration": 637,
                        "remaining_time": 1.588427351,
                        "learn": [
                          0.4539522604
                        ]
                      },
                      {
                        "passed_time": 2.802893559,
                        "iteration": 638,
                        "remaining_time": 1.583481338,
                        "learn": [
                          0.4539505528
                        ]
                      },
                      {
                        "passed_time": 2.80609113,
                        "iteration": 639,
                        "remaining_time": 1.57842626,
                        "learn": [
                          0.4539487622
                        ]
                      },
                      {
                        "passed_time": 2.809415042,
                        "iteration": 640,
                        "remaining_time": 1.573447738,
                        "learn": [
                          0.4539457589
                        ]
                      },
                      {
                        "passed_time": 2.81273383,
                        "iteration": 641,
                        "remaining_time": 1.568471513,
                        "learn": [
                          0.4539435363
                        ]
                      },
                      {
                        "passed_time": 2.816008105,
                        "iteration": 642,
                        "remaining_time": 1.563475729,
                        "learn": [
                          0.4539426225
                        ]
                      },
                      {
                        "passed_time": 2.819582994,
                        "iteration": 643,
                        "remaining_time": 1.558651469,
                        "learn": [
                          0.4539405815
                        ]
                      },
                      {
                        "passed_time": 2.823346224,
                        "iteration": 644,
                        "remaining_time": 1.553934744,
                        "learn": [
                          0.4539360313
                        ]
                      },
                      {
                        "passed_time": 2.826748282,
                        "iteration": 645,
                        "remaining_time": 1.549023052,
                        "learn": [
                          0.4539329379
                        ]
                      },
                      {
                        "passed_time": 2.830060376,
                        "iteration": 646,
                        "remaining_time": 1.544066944,
                        "learn": [
                          0.4539315433
                        ]
                      },
                      {
                        "passed_time": 2.833426043,
                        "iteration": 647,
                        "remaining_time": 1.539145011,
                        "learn": [
                          0.453930829
                        ]
                      },
                      {
                        "passed_time": 2.83671292,
                        "iteration": 648,
                        "remaining_time": 1.534185262,
                        "learn": [
                          0.4539286767
                        ]
                      },
                      {
                        "passed_time": 2.840454334,
                        "iteration": 649,
                        "remaining_time": 1.52947541,
                        "learn": [
                          0.453926431
                        ]
                      },
                      {
                        "passed_time": 2.843841356,
                        "iteration": 650,
                        "remaining_time": 1.524578546,
                        "learn": [
                          0.4539242636
                        ]
                      },
                      {
                        "passed_time": 2.847499665,
                        "iteration": 651,
                        "remaining_time": 1.51983111,
                        "learn": [
                          0.4539208386
                        ]
                      },
                      {
                        "passed_time": 2.850906438,
                        "iteration": 652,
                        "remaining_time": 1.514953345,
                        "learn": [
                          0.4539195137
                        ]
                      },
                      {
                        "passed_time": 2.854840054,
                        "iteration": 653,
                        "remaining_time": 1.510358805,
                        "learn": [
                          0.4539174056
                        ]
                      },
                      {
                        "passed_time": 2.859415907,
                        "iteration": 654,
                        "remaining_time": 1.506104561,
                        "learn": [
                          0.4539156065
                        ]
                      },
                      {
                        "passed_time": 2.86683451,
                        "iteration": 655,
                        "remaining_time": 1.503340048,
                        "learn": [
                          0.4539112756
                        ]
                      },
                      {
                        "passed_time": 2.870791777,
                        "iteration": 656,
                        "remaining_time": 1.498754306,
                        "learn": [
                          0.4539099818
                        ]
                      },
                      {
                        "passed_time": 2.874344198,
                        "iteration": 657,
                        "remaining_time": 1.493960054,
                        "learn": [
                          0.4539077127
                        ]
                      },
                      {
                        "passed_time": 2.877827605,
                        "iteration": 658,
                        "remaining_time": 1.489133859,
                        "learn": [
                          0.4539050415
                        ]
                      },
                      {
                        "passed_time": 2.881647571,
                        "iteration": 659,
                        "remaining_time": 1.484485112,
                        "learn": [
                          0.45390241
                        ]
                      },
                      {
                        "passed_time": 2.884957063,
                        "iteration": 660,
                        "remaining_time": 1.479577072,
                        "learn": [
                          0.4539007178
                        ]
                      },
                      {
                        "passed_time": 2.888367954,
                        "iteration": 661,
                        "remaining_time": 1.474725632,
                        "learn": [
                          0.4538988087
                        ]
                      },
                      {
                        "passed_time": 2.891884218,
                        "iteration": 662,
                        "remaining_time": 1.469932099,
                        "learn": [
                          0.4538959685
                        ]
                      },
                      {
                        "passed_time": 2.895685186,
                        "iteration": 663,
                        "remaining_time": 1.46528648,
                        "learn": [
                          0.4538925108
                        ]
                      },
                      {
                        "passed_time": 2.899052947,
                        "iteration": 664,
                        "remaining_time": 1.460425169,
                        "learn": [
                          0.4538908381
                        ]
                      },
                      {
                        "passed_time": 2.902638745,
                        "iteration": 665,
                        "remaining_time": 1.455677689,
                        "learn": [
                          0.4538887194
                        ]
                      },
                      {
                        "passed_time": 2.906132417,
                        "iteration": 666,
                        "remaining_time": 1.450887699,
                        "learn": [
                          0.4538833435
                        ]
                      },
                      {
                        "passed_time": 2.909548018,
                        "iteration": 667,
                        "remaining_time": 1.446062787,
                        "learn": [
                          0.4538827052
                        ]
                      },
                      {
                        "passed_time": 2.913231739,
                        "iteration": 668,
                        "remaining_time": 1.441374747,
                        "learn": [
                          0.4538803403
                        ]
                      },
                      {
                        "passed_time": 2.916621765,
                        "iteration": 669,
                        "remaining_time": 1.436545048,
                        "learn": [
                          0.4538790896
                        ]
                      },
                      {
                        "passed_time": 2.919958253,
                        "iteration": 670,
                        "remaining_time": 1.431693391,
                        "learn": [
                          0.4538771888
                        ]
                      },
                      {
                        "passed_time": 2.924127159,
                        "iteration": 671,
                        "remaining_time": 1.427252542,
                        "learn": [
                          0.4538744111
                        ]
                      },
                      {
                        "passed_time": 2.927582727,
                        "iteration": 672,
                        "remaining_time": 1.422465902,
                        "learn": [
                          0.4538713779
                        ]
                      },
                      {
                        "passed_time": 2.930951909,
                        "iteration": 673,
                        "remaining_time": 1.417641428,
                        "learn": [
                          0.4538697137
                        ]
                      },
                      {
                        "passed_time": 2.961613821,
                        "iteration": 674,
                        "remaining_time": 1.42596221,
                        "learn": [
                          0.4538663185
                        ]
                      },
                      {
                        "passed_time": 2.968049711,
                        "iteration": 675,
                        "remaining_time": 1.42255637,
                        "learn": [
                          0.4538621646
                        ]
                      },
                      {
                        "passed_time": 2.972696248,
                        "iteration": 676,
                        "remaining_time": 1.41828787,
                        "learn": [
                          0.4538606734
                        ]
                      },
                      {
                        "passed_time": 2.979411211,
                        "iteration": 677,
                        "remaining_time": 1.415000605,
                        "learn": [
                          0.453859475
                        ]
                      },
                      {
                        "passed_time": 2.987653467,
                        "iteration": 678,
                        "remaining_time": 1.412425277,
                        "learn": [
                          0.4538574261
                        ]
                      },
                      {
                        "passed_time": 2.997192089,
                        "iteration": 679,
                        "remaining_time": 1.410443336,
                        "learn": [
                          0.4538553416
                        ]
                      },
                      {
                        "passed_time": 3.00658977,
                        "iteration": 680,
                        "remaining_time": 1.408373181,
                        "learn": [
                          0.4538522859
                        ]
                      },
                      {
                        "passed_time": 3.013045282,
                        "iteration": 681,
                        "remaining_time": 1.404909677,
                        "learn": [
                          0.4538483541
                        ]
                      },
                      {
                        "passed_time": 3.017077334,
                        "iteration": 682,
                        "remaining_time": 1.400312613,
                        "learn": [
                          0.4538462955
                        ]
                      },
                      {
                        "passed_time": 3.025008852,
                        "iteration": 683,
                        "remaining_time": 1.397518709,
                        "learn": [
                          0.4538402368
                        ]
                      },
                      {
                        "passed_time": 3.0285729,
                        "iteration": 684,
                        "remaining_time": 1.392701407,
                        "learn": [
                          0.4538385712
                        ]
                      },
                      {
                        "passed_time": 3.032039867,
                        "iteration": 685,
                        "remaining_time": 1.387843321,
                        "learn": [
                          0.4538361162
                        ]
                      },
                      {
                        "passed_time": 3.035619855,
                        "iteration": 686,
                        "remaining_time": 1.383040778,
                        "learn": [
                          0.4538348933
                        ]
                      },
                      {
                        "passed_time": 3.039107255,
                        "iteration": 687,
                        "remaining_time": 1.378199802,
                        "learn": [
                          0.4538336849
                        ]
                      },
                      {
                        "passed_time": 3.042592197,
                        "iteration": 688,
                        "remaining_time": 1.373361645,
                        "learn": [
                          0.4538320594
                        ]
                      },
                      {
                        "passed_time": 3.04594523,
                        "iteration": 689,
                        "remaining_time": 1.368468147,
                        "learn": [
                          0.4538300548
                        ]
                      },
                      {
                        "passed_time": 3.049498393,
                        "iteration": 690,
                        "remaining_time": 1.363668601,
                        "learn": [
                          0.4538282528
                        ]
                      },
                      {
                        "passed_time": 3.052971298,
                        "iteration": 691,
                        "remaining_time": 1.358836936,
                        "learn": [
                          0.4538243195
                        ]
                      },
                      {
                        "passed_time": 3.056366603,
                        "iteration": 692,
                        "remaining_time": 1.353974815,
                        "learn": [
                          0.4538231385
                        ]
                      },
                      {
                        "passed_time": 3.060219847,
                        "iteration": 693,
                        "remaining_time": 1.349318838,
                        "learn": [
                          0.4538208787
                        ]
                      },
                      {
                        "passed_time": 3.063568997,
                        "iteration": 694,
                        "remaining_time": 1.344443948,
                        "learn": [
                          0.4538188601
                        ]
                      },
                      {
                        "passed_time": 3.06679619,
                        "iteration": 695,
                        "remaining_time": 1.339520175,
                        "learn": [
                          0.4538172563
                        ]
                      },
                      {
                        "passed_time": 3.070032271,
                        "iteration": 696,
                        "remaining_time": 1.334605134,
                        "learn": [
                          0.4538160149
                        ]
                      },
                      {
                        "passed_time": 3.073325412,
                        "iteration": 697,
                        "remaining_time": 1.329719591,
                        "learn": [
                          0.4538131766
                        ]
                      },
                      {
                        "passed_time": 3.076810011,
                        "iteration": 698,
                        "remaining_time": 1.324921049,
                        "learn": [
                          0.4538115531
                        ]
                      },
                      {
                        "passed_time": 3.080621671,
                        "iteration": 699,
                        "remaining_time": 1.32026643,
                        "learn": [
                          0.4538099905
                        ]
                      },
                      {
                        "passed_time": 3.084081051,
                        "iteration": 700,
                        "remaining_time": 1.315463957,
                        "learn": [
                          0.453808054
                        ]
                      },
                      {
                        "passed_time": 3.087455924,
                        "iteration": 701,
                        "remaining_time": 1.310629438,
                        "learn": [
                          0.4538067179
                        ]
                      },
                      {
                        "passed_time": 3.090828865,
                        "iteration": 702,
                        "remaining_time": 1.305798255,
                        "learn": [
                          0.4538043989
                        ]
                      },
                      {
                        "passed_time": 3.094185858,
                        "iteration": 703,
                        "remaining_time": 1.300964508,
                        "learn": [
                          0.4537995476
                        ]
                      },
                      {
                        "passed_time": 3.097628933,
                        "iteration": 704,
                        "remaining_time": 1.296170972,
                        "learn": [
                          0.453797002
                        ]
                      },
                      {
                        "passed_time": 3.101445983,
                        "iteration": 705,
                        "remaining_time": 1.291536996,
                        "learn": [
                          0.4537951265
                        ]
                      },
                      {
                        "passed_time": 3.104856894,
                        "iteration": 706,
                        "remaining_time": 1.286737016,
                        "learn": [
                          0.4537935084
                        ]
                      },
                      {
                        "passed_time": 3.108342034,
                        "iteration": 707,
                        "remaining_time": 1.281971573,
                        "learn": [
                          0.4537912831
                        ]
                      },
                      {
                        "passed_time": 3.111626437,
                        "iteration": 708,
                        "remaining_time": 1.277127353,
                        "learn": [
                          0.4537901087
                        ]
                      },
                      {
                        "passed_time": 3.115019414,
                        "iteration": 709,
                        "remaining_time": 1.272331873,
                        "learn": [
                          0.453788937
                        ]
                      },
                      {
                        "passed_time": 3.118617389,
                        "iteration": 710,
                        "remaining_time": 1.267623664,
                        "learn": [
                          0.4537858456
                        ]
                      },
                      {
                        "passed_time": 3.122669137,
                        "iteration": 711,
                        "remaining_time": 1.263102123,
                        "learn": [
                          0.4537848943
                        ]
                      },
                      {
                        "passed_time": 3.126059667,
                        "iteration": 712,
                        "remaining_time": 1.258315743,
                        "learn": [
                          0.4537822757
                        ]
                      },
                      {
                        "passed_time": 3.129408699,
                        "iteration": 713,
                        "remaining_time": 1.25351665,
                        "learn": [
                          0.4537810852
                        ]
                      },
                      {
                        "passed_time": 3.132685191,
                        "iteration": 714,
                        "remaining_time": 1.248692699,
                        "learn": [
                          0.4537787716
                        ]
                      },
                      {
                        "passed_time": 3.136174929,
                        "iteration": 715,
                        "remaining_time": 1.243957654,
                        "learn": [
                          0.4537771746
                        ]
                      },
                      {
                        "passed_time": 3.139447287,
                        "iteration": 716,
                        "remaining_time": 1.239140282,
                        "learn": [
                          0.4537750627
                        ]
                      },
                      {
                        "passed_time": 3.143398986,
                        "iteration": 717,
                        "remaining_time": 1.234594031,
                        "learn": [
                          0.4537711365
                        ]
                      },
                      {
                        "passed_time": 3.146791798,
                        "iteration": 718,
                        "remaining_time": 1.229831009,
                        "learn": [
                          0.4537695932
                        ]
                      },
                      {
                        "passed_time": 3.150033465,
                        "iteration": 719,
                        "remaining_time": 1.225013014,
                        "learn": [
                          0.4537673597
                        ]
                      },
                      {
                        "passed_time": 3.153282234,
                        "iteration": 720,
                        "remaining_time": 1.220202141,
                        "learn": [
                          0.4537655246
                        ]
                      },
                      {
                        "passed_time": 3.157067512,
                        "iteration": 721,
                        "remaining_time": 1.215602172,
                        "learn": [
                          0.4537636101
                        ]
                      },
                      {
                        "passed_time": 3.160471399,
                        "iteration": 722,
                        "remaining_time": 1.210858337,
                        "learn": [
                          0.4537613475
                        ]
                      },
                      {
                        "passed_time": 3.163749312,
                        "iteration": 723,
                        "remaining_time": 1.20607018,
                        "learn": [
                          0.4537595478
                        ]
                      },
                      {
                        "passed_time": 3.16705971,
                        "iteration": 724,
                        "remaining_time": 1.201298511,
                        "learn": [
                          0.4537568118
                        ]
                      },
                      {
                        "passed_time": 3.170926098,
                        "iteration": 725,
                        "remaining_time": 1.196740704,
                        "learn": [
                          0.453755414
                        ]
                      },
                      {
                        "passed_time": 3.17448955,
                        "iteration": 726,
                        "remaining_time": 1.192071041,
                        "learn": [
                          0.4537542956
                        ]
                      },
                      {
                        "passed_time": 3.177848925,
                        "iteration": 727,
                        "remaining_time": 1.18732817,
                        "learn": [
                          0.453753694
                        ]
                      },
                      {
                        "passed_time": 3.181588354,
                        "iteration": 728,
                        "remaining_time": 1.182730376,
                        "learn": [
                          0.4537503634
                        ]
                      },
                      {
                        "passed_time": 3.185053843,
                        "iteration": 729,
                        "remaining_time": 1.178033613,
                        "learn": [
                          0.453748538
                        ]
                      },
                      {
                        "passed_time": 3.188604512,
                        "iteration": 730,
                        "remaining_time": 1.173371565,
                        "learn": [
                          0.4537470542
                        ]
                      },
                      {
                        "passed_time": 3.192243872,
                        "iteration": 731,
                        "remaining_time": 1.168745024,
                        "learn": [
                          0.4537450938
                        ]
                      },
                      {
                        "passed_time": 3.195891621,
                        "iteration": 732,
                        "remaining_time": 1.164124233,
                        "learn": [
                          0.4537438192
                        ]
                      },
                      {
                        "passed_time": 3.200151712,
                        "iteration": 733,
                        "remaining_time": 1.159728005,
                        "learn": [
                          0.4537405943
                        ]
                      },
                      {
                        "passed_time": 3.203710368,
                        "iteration": 734,
                        "remaining_time": 1.155079248,
                        "learn": [
                          0.4537385445
                        ]
                      },
                      {
                        "passed_time": 3.207696293,
                        "iteration": 735,
                        "remaining_time": 1.150586714,
                        "learn": [
                          0.4537370652
                        ]
                      },
                      {
                        "passed_time": 3.211846974,
                        "iteration": 736,
                        "remaining_time": 1.146154348,
                        "learn": [
                          0.4537359145
                        ]
                      },
                      {
                        "passed_time": 3.215676482,
                        "iteration": 737,
                        "remaining_time": 1.141608724,
                        "learn": [
                          0.4537344105
                        ]
                      },
                      {
                        "passed_time": 3.219360944,
                        "iteration": 738,
                        "remaining_time": 1.137013811,
                        "learn": [
                          0.4537321358
                        ]
                      },
                      {
                        "passed_time": 3.223037807,
                        "iteration": 739,
                        "remaining_time": 1.132418689,
                        "learn": [
                          0.4537307145
                        ]
                      },
                      {
                        "passed_time": 3.226903674,
                        "iteration": 740,
                        "remaining_time": 1.127892107,
                        "learn": [
                          0.4537256115
                        ]
                      },
                      {
                        "passed_time": 3.230395911,
                        "iteration": 741,
                        "remaining_time": 1.123237392,
                        "learn": [
                          0.4537236873
                        ]
                      },
                      {
                        "passed_time": 3.234234054,
                        "iteration": 742,
                        "remaining_time": 1.118705453,
                        "learn": [
                          0.4537221186
                        ]
                      },
                      {
                        "passed_time": 3.237551825,
                        "iteration": 743,
                        "remaining_time": 1.113996327,
                        "learn": [
                          0.4537206317
                        ]
                      },
                      {
                        "passed_time": 3.240896636,
                        "iteration": 744,
                        "remaining_time": 1.109300191,
                        "learn": [
                          0.4537195156
                        ]
                      },
                      {
                        "passed_time": 3.244147588,
                        "iteration": 745,
                        "remaining_time": 1.10457572,
                        "learn": [
                          0.4537176851
                        ]
                      },
                      {
                        "passed_time": 3.248073965,
                        "iteration": 746,
                        "remaining_time": 1.100083953,
                        "learn": [
                          0.4537165337
                        ]
                      },
                      {
                        "passed_time": 3.251437811,
                        "iteration": 747,
                        "remaining_time": 1.095404182,
                        "learn": [
                          0.4537147394
                        ]
                      },
                      {
                        "passed_time": 3.254983176,
                        "iteration": 748,
                        "remaining_time": 1.090788755,
                        "learn": [
                          0.4537135121
                        ]
                      },
                      {
                        "passed_time": 3.258408401,
                        "iteration": 749,
                        "remaining_time": 1.086136134,
                        "learn": [
                          0.453712396
                        ]
                      },
                      {
                        "passed_time": 3.261777787,
                        "iteration": 750,
                        "remaining_time": 1.081468268,
                        "learn": [
                          0.4537106525
                        ]
                      },
                      {
                        "passed_time": 3.265184118,
                        "iteration": 751,
                        "remaining_time": 1.076816039,
                        "learn": [
                          0.4537081684
                        ]
                      },
                      {
                        "passed_time": 3.268537361,
                        "iteration": 752,
                        "remaining_time": 1.072149705,
                        "learn": [
                          0.4537067487
                        ]
                      },
                      {
                        "passed_time": 3.272027991,
                        "iteration": 753,
                        "remaining_time": 1.067531679,
                        "learn": [
                          0.4537040294
                        ]
                      },
                      {
                        "passed_time": 3.27543213,
                        "iteration": 754,
                        "remaining_time": 1.062888572,
                        "learn": [
                          0.4537030631
                        ]
                      },
                      {
                        "passed_time": 3.279698109,
                        "iteration": 755,
                        "remaining_time": 1.058526903,
                        "learn": [
                          0.4537014637
                        ]
                      },
                      {
                        "passed_time": 3.286281671,
                        "iteration": 756,
                        "remaining_time": 1.05490944,
                        "learn": [
                          0.4537010115
                        ]
                      },
                      {
                        "passed_time": 3.290635939,
                        "iteration": 757,
                        "remaining_time": 1.050572424,
                        "learn": [
                          0.453698949
                        ]
                      },
                      {
                        "passed_time": 3.293956107,
                        "iteration": 758,
                        "remaining_time": 1.045907011,
                        "learn": [
                          0.4536953039
                        ]
                      },
                      {
                        "passed_time": 3.297224709,
                        "iteration": 759,
                        "remaining_time": 1.041228855,
                        "learn": [
                          0.4536938999
                        ]
                      },
                      {
                        "passed_time": 3.300606649,
                        "iteration": 760,
                        "remaining_time": 1.036589999,
                        "learn": [
                          0.4536925064
                        ]
                      },
                      {
                        "passed_time": 3.304258939,
                        "iteration": 761,
                        "remaining_time": 1.032038881,
                        "learn": [
                          0.4536917634
                        ]
                      },
                      {
                        "passed_time": 3.307934628,
                        "iteration": 762,
                        "remaining_time": 1.027497388,
                        "learn": [
                          0.4536893466
                        ]
                      },
                      {
                        "passed_time": 3.311375481,
                        "iteration": 763,
                        "remaining_time": 1.02288562,
                        "learn": [
                          0.4536871153
                        ]
                      },
                      {
                        "passed_time": 3.314685511,
                        "iteration": 764,
                        "remaining_time": 1.018236725,
                        "learn": [
                          0.4536857133
                        ]
                      },
                      {
                        "passed_time": 3.318223047,
                        "iteration": 765,
                        "remaining_time": 1.013660827,
                        "learn": [
                          0.4536836579
                        ]
                      },
                      {
                        "passed_time": 3.321638158,
                        "iteration": 766,
                        "remaining_time": 1.009050444,
                        "learn": [
                          0.4536822406
                        ]
                      },
                      {
                        "passed_time": 3.326705805,
                        "iteration": 767,
                        "remaining_time": 1.004942379,
                        "learn": [
                          0.4536804592
                        ]
                      },
                      {
                        "passed_time": 3.330037503,
                        "iteration": 768,
                        "remaining_time": 1.000310355,
                        "learn": [
                          0.4536790345
                        ]
                      },
                      {
                        "passed_time": 3.333717326,
                        "iteration": 769,
                        "remaining_time": 0.9957856947,
                        "learn": [
                          0.4536771701
                        ]
                      },
                      {
                        "passed_time": 3.337183429,
                        "iteration": 770,
                        "remaining_time": 0.9911997474,
                        "learn": [
                          0.4536756955
                        ]
                      },
                      {
                        "passed_time": 3.340772988,
                        "iteration": 771,
                        "remaining_time": 0.9866531624,
                        "learn": [
                          0.4536735853
                        ]
                      },
                      {
                        "passed_time": 3.3440815,
                        "iteration": 772,
                        "remaining_time": 0.9820265206,
                        "learn": [
                          0.4536718915
                        ]
                      },
                      {
                        "passed_time": 3.347727116,
                        "iteration": 773,
                        "remaining_time": 0.9775017159,
                        "learn": [
                          0.4536705141
                        ]
                      },
                      {
                        "passed_time": 3.351049786,
                        "iteration": 774,
                        "remaining_time": 0.9728854218,
                        "learn": [
                          0.4536698081
                        ]
                      },
                      {
                        "passed_time": 3.354466492,
                        "iteration": 775,
                        "remaining_time": 0.9682996059,
                        "learn": [
                          0.4536694289
                        ]
                      },
                      {
                        "passed_time": 3.357821175,
                        "iteration": 776,
                        "remaining_time": 0.9636989988,
                        "learn": [
                          0.4536668734
                        ]
                      },
                      {
                        "passed_time": 3.361133102,
                        "iteration": 777,
                        "remaining_time": 0.9590893942,
                        "learn": [
                          0.4536658038
                        ]
                      },
                      {
                        "passed_time": 3.366464313,
                        "iteration": 778,
                        "remaining_time": 0.9550559861,
                        "learn": [
                          0.4536642058
                        ]
                      },
                      {
                        "passed_time": 3.370634898,
                        "iteration": 779,
                        "remaining_time": 0.9506918943,
                        "learn": [
                          0.4536625972
                        ]
                      },
                      {
                        "passed_time": 3.374079553,
                        "iteration": 780,
                        "remaining_time": 0.9461247401,
                        "learn": [
                          0.4536611822
                        ]
                      },
                      {
                        "passed_time": 3.377401011,
                        "iteration": 781,
                        "remaining_time": 0.941526113,
                        "learn": [
                          0.4536598195
                        ]
                      },
                      {
                        "passed_time": 3.381550576,
                        "iteration": 782,
                        "remaining_time": 0.9371602489,
                        "learn": [
                          0.4536594494
                        ]
                      },
                      {
                        "passed_time": 3.385033378,
                        "iteration": 783,
                        "remaining_time": 0.9326112369,
                        "learn": [
                          0.4536580703
                        ]
                      },
                      {
                        "passed_time": 3.388625119,
                        "iteration": 784,
                        "remaining_time": 0.9280947778,
                        "learn": [
                          0.4536563563
                        ]
                      },
                      {
                        "passed_time": 3.39296789,
                        "iteration": 785,
                        "remaining_time": 0.9237851508,
                        "learn": [
                          0.453654557
                        ]
                      },
                      {
                        "passed_time": 3.401689626,
                        "iteration": 786,
                        "remaining_time": 0.9206605976,
                        "learn": [
                          0.4536535216
                        ]
                      },
                      {
                        "passed_time": 3.405528237,
                        "iteration": 787,
                        "remaining_time": 0.9162081043,
                        "learn": [
                          0.4536521233
                        ]
                      },
                      {
                        "passed_time": 3.409003109,
                        "iteration": 788,
                        "remaining_time": 0.9116598934,
                        "learn": [
                          0.453651069
                        ]
                      },
                      {
                        "passed_time": 3.412377475,
                        "iteration": 789,
                        "remaining_time": 0.9070876833,
                        "learn": [
                          0.4536497229
                        ]
                      },
                      {
                        "passed_time": 3.415980219,
                        "iteration": 790,
                        "remaining_time": 0.9025788443,
                        "learn": [
                          0.4536487257
                        ]
                      },
                      {
                        "passed_time": 3.420481388,
                        "iteration": 791,
                        "remaining_time": 0.8983082434,
                        "learn": [
                          0.4536464038
                        ]
                      },
                      {
                        "passed_time": 3.424308042,
                        "iteration": 792,
                        "remaining_time": 0.8938609896,
                        "learn": [
                          0.4536461499
                        ]
                      },
                      {
                        "passed_time": 3.427866891,
                        "iteration": 793,
                        "remaining_time": 0.889345818,
                        "learn": [
                          0.453640432
                        ]
                      },
                      {
                        "passed_time": 3.431242116,
                        "iteration": 794,
                        "remaining_time": 0.8847857028,
                        "learn": [
                          0.4536394199
                        ]
                      },
                      {
                        "passed_time": 3.434586591,
                        "iteration": 795,
                        "remaining_time": 0.8802206841,
                        "learn": [
                          0.453637743
                        ]
                      },
                      {
                        "passed_time": 3.437895286,
                        "iteration": 796,
                        "remaining_time": 0.8756496148,
                        "learn": [
                          0.4536346934
                        ]
                      },
                      {
                        "passed_time": 3.441366188,
                        "iteration": 797,
                        "remaining_time": 0.8711227693,
                        "learn": [
                          0.4536311125
                        ]
                      },
                      {
                        "passed_time": 3.444617151,
                        "iteration": 798,
                        "remaining_time": 0.8665432381,
                        "learn": [
                          0.4536294837
                        ]
                      },
                      {
                        "passed_time": 3.448016438,
                        "iteration": 799,
                        "remaining_time": 0.8620041096,
                        "learn": [
                          0.4536239102
                        ]
                      },
                      {
                        "passed_time": 3.451683692,
                        "iteration": 800,
                        "remaining_time": 0.8575344005,
                        "learn": [
                          0.4536227193
                        ]
                      },
                      {
                        "passed_time": 3.455470168,
                        "iteration": 801,
                        "remaining_time": 0.8530961262,
                        "learn": [
                          0.4536208167
                        ]
                      },
                      {
                        "passed_time": 3.458892342,
                        "iteration": 802,
                        "remaining_time": 0.8485701014,
                        "learn": [
                          0.4536195024
                        ]
                      },
                      {
                        "passed_time": 3.462739641,
                        "iteration": 803,
                        "remaining_time": 0.8441504597,
                        "learn": [
                          0.45361698
                        ]
                      },
                      {
                        "passed_time": 3.466348946,
                        "iteration": 804,
                        "remaining_time": 0.8396745893,
                        "learn": [
                          0.4536162974
                        ]
                      },
                      {
                        "passed_time": 3.470149269,
                        "iteration": 805,
                        "remaining_time": 0.8352468463,
                        "learn": [
                          0.4536143741
                        ]
                      },
                      {
                        "passed_time": 3.473682216,
                        "iteration": 806,
                        "remaining_time": 0.8307567134,
                        "learn": [
                          0.4536125477
                        ]
                      },
                      {
                        "passed_time": 3.477163656,
                        "iteration": 807,
                        "remaining_time": 0.8262567102,
                        "learn": [
                          0.4536115744
                        ]
                      },
                      {
                        "passed_time": 3.480472196,
                        "iteration": 808,
                        "remaining_time": 0.8217184047,
                        "learn": [
                          0.4536105447
                        ]
                      },
                      {
                        "passed_time": 3.483762941,
                        "iteration": 809,
                        "remaining_time": 0.8171789616,
                        "learn": [
                          0.4536101265
                        ]
                      },
                      {
                        "passed_time": 3.487787215,
                        "iteration": 810,
                        "remaining_time": 0.8128135434,
                        "learn": [
                          0.4536085418
                        ]
                      },
                      {
                        "passed_time": 3.492215712,
                        "iteration": 811,
                        "remaining_time": 0.8085425541,
                        "learn": [
                          0.4536046225
                        ]
                      },
                      {
                        "passed_time": 3.495663318,
                        "iteration": 812,
                        "remaining_time": 0.8040455603,
                        "learn": [
                          0.4536029988
                        ]
                      },
                      {
                        "passed_time": 3.499331959,
                        "iteration": 813,
                        "remaining_time": 0.7996016516,
                        "learn": [
                          0.4536014359
                        ]
                      },
                      {
                        "passed_time": 3.503395501,
                        "iteration": 814,
                        "remaining_time": 0.7952492856,
                        "learn": [
                          0.4535998356
                        ]
                      },
                      {
                        "passed_time": 3.506978869,
                        "iteration": 815,
                        "remaining_time": 0.7907893529,
                        "learn": [
                          0.4535983531
                        ]
                      },
                      {
                        "passed_time": 3.510544058,
                        "iteration": 816,
                        "remaining_time": 0.7863274941,
                        "learn": [
                          0.4535940448
                        ]
                      },
                      {
                        "passed_time": 3.515213756,
                        "iteration": 817,
                        "remaining_time": 0.782113574,
                        "learn": [
                          0.4535930786
                        ]
                      },
                      {
                        "passed_time": 3.519073742,
                        "iteration": 818,
                        "remaining_time": 0.7777195938,
                        "learn": [
                          0.4535918029
                        ]
                      },
                      {
                        "passed_time": 3.522637119,
                        "iteration": 819,
                        "remaining_time": 0.7732618066,
                        "learn": [
                          0.4535905128
                        ]
                      },
                      {
                        "passed_time": 3.526244503,
                        "iteration": 820,
                        "remaining_time": 0.7688157929,
                        "learn": [
                          0.4535896447
                        ]
                      },
                      {
                        "passed_time": 3.529674504,
                        "iteration": 821,
                        "remaining_time": 0.7643334083,
                        "learn": [
                          0.4535883454
                        ]
                      },
                      {
                        "passed_time": 3.533048345,
                        "iteration": 822,
                        "remaining_time": 0.759841503,
                        "learn": [
                          0.4535866914
                        ]
                      },
                      {
                        "passed_time": 3.536555481,
                        "iteration": 823,
                        "remaining_time": 0.7553807823,
                        "learn": [
                          0.4535855337
                        ]
                      },
                      {
                        "passed_time": 3.540858876,
                        "iteration": 824,
                        "remaining_time": 0.7510912768,
                        "learn": [
                          0.4535810726
                        ]
                      },
                      {
                        "passed_time": 3.544249256,
                        "iteration": 825,
                        "remaining_time": 0.7466094074,
                        "learn": [
                          0.4535794929
                        ]
                      },
                      {
                        "passed_time": 3.548003141,
                        "iteration": 826,
                        "remaining_time": 0.7422062194,
                        "learn": [
                          0.4535782303
                        ]
                      },
                      {
                        "passed_time": 3.55151215,
                        "iteration": 827,
                        "remaining_time": 0.7377537317,
                        "learn": [
                          0.4535757072
                        ]
                      },
                      {
                        "passed_time": 3.55485227,
                        "iteration": 828,
                        "remaining_time": 0.733268683,
                        "learn": [
                          0.4535741372
                        ]
                      },
                      {
                        "passed_time": 3.558293215,
                        "iteration": 829,
                        "remaining_time": 0.7288070441,
                        "learn": [
                          0.4535720061
                        ]
                      },
                      {
                        "passed_time": 3.561929361,
                        "iteration": 830,
                        "remaining_time": 0.7243875596,
                        "learn": [
                          0.4535710668
                        ]
                      },
                      {
                        "passed_time": 3.565370266,
                        "iteration": 831,
                        "remaining_time": 0.7199305346,
                        "learn": [
                          0.4535694385
                        ]
                      },
                      {
                        "passed_time": 3.568746562,
                        "iteration": 832,
                        "remaining_time": 0.7154629963,
                        "learn": [
                          0.4535670153
                        ]
                      },
                      {
                        "passed_time": 3.572739398,
                        "iteration": 833,
                        "remaining_time": 0.7111207914,
                        "learn": [
                          0.4535647449
                        ]
                      },
                      {
                        "passed_time": 3.577338208,
                        "iteration": 834,
                        "remaining_time": 0.7068991669,
                        "learn": [
                          0.4535639604
                        ]
                      },
                      {
                        "passed_time": 3.582928372,
                        "iteration": 835,
                        "remaining_time": 0.7028711161,
                        "learn": [
                          0.4535627195
                        ]
                      },
                      {
                        "passed_time": 3.586626323,
                        "iteration": 836,
                        "remaining_time": 0.6984708371,
                        "learn": [
                          0.4535610254
                        ]
                      },
                      {
                        "passed_time": 3.591428185,
                        "iteration": 837,
                        "remaining_time": 0.6942856396,
                        "learn": [
                          0.4535596554
                        ]
                      },
                      {
                        "passed_time": 3.594892847,
                        "iteration": 838,
                        "remaining_time": 0.68984237,
                        "learn": [
                          0.4535589915
                        ]
                      },
                      {
                        "passed_time": 3.598462864,
                        "iteration": 839,
                        "remaining_time": 0.685421498,
                        "learn": [
                          0.4535573532
                        ]
                      },
                      {
                        "passed_time": 3.601817658,
                        "iteration": 840,
                        "remaining_time": 0.6809619591,
                        "learn": [
                          0.4535560747
                        ]
                      },
                      {
                        "passed_time": 3.605171438,
                        "iteration": 841,
                        "remaining_time": 0.6765048541,
                        "learn": [
                          0.4535534656
                        ]
                      },
                      {
                        "passed_time": 3.608402984,
                        "iteration": 842,
                        "remaining_time": 0.6720276019,
                        "learn": [
                          0.453552227
                        ]
                      },
                      {
                        "passed_time": 3.611958615,
                        "iteration": 843,
                        "remaining_time": 0.6676132037,
                        "learn": [
                          0.4535511375
                        ]
                      },
                      {
                        "passed_time": 3.615427397,
                        "iteration": 844,
                        "remaining_time": 0.6631849071,
                        "learn": [
                          0.4535502911
                        ]
                      },
                      {
                        "passed_time": 3.618754913,
                        "iteration": 845,
                        "remaining_time": 0.6587331639,
                        "learn": [
                          0.4535490446
                        ]
                      },
                      {
                        "passed_time": 3.62220295,
                        "iteration": 846,
                        "remaining_time": 0.6543058457,
                        "learn": [
                          0.4535478228
                        ]
                      },
                      {
                        "passed_time": 3.626090136,
                        "iteration": 847,
                        "remaining_time": 0.6499595527,
                        "learn": [
                          0.4535411374
                        ]
                      },
                      {
                        "passed_time": 3.629816983,
                        "iteration": 848,
                        "remaining_time": 0.6455858239,
                        "learn": [
                          0.4535399099
                        ]
                      },
                      {
                        "passed_time": 3.633246171,
                        "iteration": 849,
                        "remaining_time": 0.641161089,
                        "learn": [
                          0.4535386975
                        ]
                      },
                      {
                        "passed_time": 3.636566222,
                        "iteration": 850,
                        "remaining_time": 0.6367195852,
                        "learn": [
                          0.453537201
                        ]
                      },
                      {
                        "passed_time": 3.641075932,
                        "iteration": 851,
                        "remaining_time": 0.6324873684,
                        "learn": [
                          0.4535359824
                        ]
                      },
                      {
                        "passed_time": 3.644371669,
                        "iteration": 852,
                        "remaining_time": 0.6280452934,
                        "learn": [
                          0.4535347808
                        ]
                      },
                      {
                        "passed_time": 3.648102041,
                        "iteration": 853,
                        "remaining_time": 0.6236802084,
                        "learn": [
                          0.4535336048
                        ]
                      },
                      {
                        "passed_time": 3.651514824,
                        "iteration": 854,
                        "remaining_time": 0.6192627479,
                        "learn": [
                          0.4535323866
                        ]
                      },
                      {
                        "passed_time": 3.654873645,
                        "iteration": 855,
                        "remaining_time": 0.6148385571,
                        "learn": [
                          0.4535309
                        ]
                      },
                      {
                        "passed_time": 3.658501876,
                        "iteration": 856,
                        "remaining_time": 0.6104618066,
                        "learn": [
                          0.4535294555
                        ]
                      },
                      {
                        "passed_time": 3.661940465,
                        "iteration": 857,
                        "remaining_time": 0.606055415,
                        "learn": [
                          0.4535282899
                        ]
                      },
                      {
                        "passed_time": 3.665538482,
                        "iteration": 858,
                        "remaining_time": 0.6016774458,
                        "learn": [
                          0.4535250452
                        ]
                      },
                      {
                        "passed_time": 3.669510478,
                        "iteration": 859,
                        "remaining_time": 0.5973621709,
                        "learn": [
                          0.4535243715
                        ]
                      },
                      {
                        "passed_time": 3.673256967,
                        "iteration": 860,
                        "remaining_time": 0.5930112873,
                        "learn": [
                          0.4535224014
                        ]
                      },
                      {
                        "passed_time": 3.676565856,
                        "iteration": 861,
                        "remaining_time": 0.5885917495,
                        "learn": [
                          0.4535206771
                        ]
                      },
                      {
                        "passed_time": 3.680229651,
                        "iteration": 862,
                        "remaining_time": 0.5842311265,
                        "learn": [
                          0.4535192417
                        ]
                      },
                      {
                        "passed_time": 3.683854168,
                        "iteration": 863,
                        "remaining_time": 0.5798659339,
                        "learn": [
                          0.4535164515
                        ]
                      },
                      {
                        "passed_time": 3.687170524,
                        "iteration": 864,
                        "remaining_time": 0.5754543592,
                        "learn": [
                          0.4535160115
                        ]
                      },
                      {
                        "passed_time": 3.690651226,
                        "iteration": 865,
                        "remaining_time": 0.571070744,
                        "learn": [
                          0.4535151291
                        ]
                      },
                      {
                        "passed_time": 3.693990232,
                        "iteration": 866,
                        "remaining_time": 0.5666674751,
                        "learn": [
                          0.4535138509
                        ]
                      },
                      {
                        "passed_time": 3.697311826,
                        "iteration": 867,
                        "remaining_time": 0.5622640104,
                        "learn": [
                          0.4535127397
                        ]
                      },
                      {
                        "passed_time": 3.700918043,
                        "iteration": 868,
                        "remaining_time": 0.5579059421,
                        "learn": [
                          0.4535103415
                        ]
                      },
                      {
                        "passed_time": 3.704301363,
                        "iteration": 869,
                        "remaining_time": 0.5535162956,
                        "learn": [
                          0.4535091782
                        ]
                      },
                      {
                        "passed_time": 3.707852505,
                        "iteration": 870,
                        "remaining_time": 0.5491538153,
                        "learn": [
                          0.4535077347
                        ]
                      },
                      {
                        "passed_time": 3.711701658,
                        "iteration": 871,
                        "remaining_time": 0.5448369406,
                        "learn": [
                          0.4535028886
                        ]
                      },
                      {
                        "passed_time": 3.715188364,
                        "iteration": 872,
                        "remaining_time": 0.5404684103,
                        "learn": [
                          0.4535020268
                        ]
                      },
                      {
                        "passed_time": 3.718669699,
                        "iteration": 873,
                        "remaining_time": 0.5361011237,
                        "learn": [
                          0.4535005893
                        ]
                      },
                      {
                        "passed_time": 3.722216096,
                        "iteration": 874,
                        "remaining_time": 0.5317451566,
                        "learn": [
                          0.4534985645
                        ]
                      },
                      {
                        "passed_time": 3.72583923,
                        "iteration": 875,
                        "remaining_time": 0.5274019002,
                        "learn": [
                          0.4534979556
                        ]
                      },
                      {
                        "passed_time": 3.729364896,
                        "iteration": 876,
                        "remaining_time": 0.523046616,
                        "learn": [
                          0.4534944965
                        ]
                      },
                      {
                        "passed_time": 3.732904312,
                        "iteration": 877,
                        "remaining_time": 0.5186951322,
                        "learn": [
                          0.4534912432
                        ]
                      },
                      {
                        "passed_time": 3.736183652,
                        "iteration": 878,
                        "remaining_time": 0.514309695,
                        "learn": [
                          0.453490385
                        ]
                      },
                      {
                        "passed_time": 3.739763191,
                        "iteration": 879,
                        "remaining_time": 0.5099677079,
                        "learn": [
                          0.4534885516
                        ]
                      },
                      {
                        "passed_time": 3.74501998,
                        "iteration": 880,
                        "remaining_time": 0.5058540042,
                        "learn": [
                          0.4534873779
                        ]
                      },
                      {
                        "passed_time": 3.748683858,
                        "iteration": 881,
                        "remaining_time": 0.5015245978,
                        "learn": [
                          0.4534842054
                        ]
                      },
                      {
                        "passed_time": 3.752284954,
                        "iteration": 882,
                        "remaining_time": 0.4971883802,
                        "learn": [
                          0.4534824453
                        ]
                      },
                      {
                        "passed_time": 3.75570819,
                        "iteration": 883,
                        "remaining_time": 0.4928304865,
                        "learn": [
                          0.4534806498
                        ]
                      },
                      {
                        "passed_time": 3.759095838,
                        "iteration": 884,
                        "remaining_time": 0.4884700806,
                        "learn": [
                          0.4534793985
                        ]
                      },
                      {
                        "passed_time": 3.762717637,
                        "iteration": 885,
                        "remaining_time": 0.4841419985,
                        "learn": [
                          0.4534788484
                        ]
                      },
                      {
                        "passed_time": 3.766470259,
                        "iteration": 886,
                        "remaining_time": 0.479832175,
                        "learn": [
                          0.4534777271
                        ]
                      },
                      {
                        "passed_time": 3.769808083,
                        "iteration": 887,
                        "remaining_time": 0.4754712898,
                        "learn": [
                          0.4534764154
                        ]
                      },
                      {
                        "passed_time": 3.773376333,
                        "iteration": 888,
                        "remaining_time": 0.4711414769,
                        "learn": [
                          0.4534761635
                        ]
                      },
                      {
                        "passed_time": 3.776624116,
                        "iteration": 889,
                        "remaining_time": 0.4667737671,
                        "learn": [
                          0.4534745217
                        ]
                      },
                      {
                        "passed_time": 3.779878106,
                        "iteration": 890,
                        "remaining_time": 0.4624093306,
                        "learn": [
                          0.4534733725
                        ]
                      },
                      {
                        "passed_time": 3.783158965,
                        "iteration": 891,
                        "remaining_time": 0.458050637,
                        "learn": [
                          0.4534727108
                        ]
                      },
                      {
                        "passed_time": 3.786355449,
                        "iteration": 892,
                        "remaining_time": 0.4536842475,
                        "learn": [
                          0.4534716298
                        ]
                      },
                      {
                        "passed_time": 3.789573558,
                        "iteration": 893,
                        "remaining_time": 0.4493230393,
                        "learn": [
                          0.4534705312
                        ]
                      },
                      {
                        "passed_time": 3.792860678,
                        "iteration": 894,
                        "remaining_time": 0.4449724818,
                        "learn": [
                          0.4534694944
                        ]
                      },
                      {
                        "passed_time": 3.796526106,
                        "iteration": 895,
                        "remaining_time": 0.4406682087,
                        "learn": [
                          0.4534683944
                        ]
                      },
                      {
                        "passed_time": 3.799870381,
                        "iteration": 896,
                        "remaining_time": 0.436328483,
                        "learn": [
                          0.4534678201
                        ]
                      },
                      {
                        "passed_time": 3.803802785,
                        "iteration": 897,
                        "remaining_time": 0.4320577773,
                        "learn": [
                          0.4534640977
                        ]
                      },
                      {
                        "passed_time": 3.807562649,
                        "iteration": 898,
                        "remaining_time": 0.42776844,
                        "learn": [
                          0.453463251
                        ]
                      },
                      {
                        "passed_time": 3.811029838,
                        "iteration": 899,
                        "remaining_time": 0.4234477598,
                        "learn": [
                          0.4534610533
                        ]
                      },
                      {
                        "passed_time": 3.814746854,
                        "iteration": 900,
                        "remaining_time": 0.4191564245,
                        "learn": [
                          0.4534598674
                        ]
                      },
                      {
                        "passed_time": 3.818778124,
                        "iteration": 901,
                        "remaining_time": 0.4149005057,
                        "learn": [
                          0.4534574766
                        ]
                      },
                      {
                        "passed_time": 3.82213883,
                        "iteration": 902,
                        "remaining_time": 0.4105730526,
                        "learn": [
                          0.4534548548
                        ]
                      },
                      {
                        "passed_time": 3.825621681,
                        "iteration": 903,
                        "remaining_time": 0.4062607095,
                        "learn": [
                          0.4534543046
                        ]
                      },
                      {
                        "passed_time": 3.829196925,
                        "iteration": 904,
                        "remaining_time": 0.4019598982,
                        "learn": [
                          0.4534538289
                        ]
                      },
                      {
                        "passed_time": 3.832659848,
                        "iteration": 905,
                        "remaining_time": 0.397649035,
                        "learn": [
                          0.453453198
                        ]
                      },
                      {
                        "passed_time": 3.836002862,
                        "iteration": 906,
                        "remaining_time": 0.3933277466,
                        "learn": [
                          0.453452436
                        ]
                      },
                      {
                        "passed_time": 3.839368138,
                        "iteration": 907,
                        "remaining_time": 0.3890108686,
                        "learn": [
                          0.4534517842
                        ]
                      },
                      {
                        "passed_time": 3.842998134,
                        "iteration": 908,
                        "remaining_time": 0.3847225855,
                        "learn": [
                          0.4534489794
                        ]
                      },
                      {
                        "passed_time": 3.846350724,
                        "iteration": 909,
                        "remaining_time": 0.3804083134,
                        "learn": [
                          0.4534476346
                        ]
                      },
                      {
                        "passed_time": 3.849675232,
                        "iteration": 910,
                        "remaining_time": 0.376093409,
                        "learn": [
                          0.4534468332
                        ]
                      },
                      {
                        "passed_time": 3.853351303,
                        "iteration": 911,
                        "remaining_time": 0.3718145995,
                        "learn": [
                          0.4534421189
                        ]
                      },
                      {
                        "passed_time": 3.857029233,
                        "iteration": 912,
                        "remaining_time": 0.3675372873,
                        "learn": [
                          0.4534407697
                        ]
                      },
                      {
                        "passed_time": 3.860475835,
                        "iteration": 913,
                        "remaining_time": 0.3632395205,
                        "learn": [
                          0.4534402163
                        ]
                      },
                      {
                        "passed_time": 3.863844947,
                        "iteration": 914,
                        "remaining_time": 0.3589364158,
                        "learn": [
                          0.4534375124
                        ]
                      },
                      {
                        "passed_time": 3.867145721,
                        "iteration": 915,
                        "remaining_time": 0.3546290836,
                        "learn": [
                          0.4534366848
                        ]
                      },
                      {
                        "passed_time": 3.870783239,
                        "iteration": 916,
                        "remaining_time": 0.3503544262,
                        "learn": [
                          0.4534331074
                        ]
                      },
                      {
                        "passed_time": 3.874318653,
                        "iteration": 917,
                        "remaining_time": 0.3460720366,
                        "learn": [
                          0.4534313922
                        ]
                      },
                      {
                        "passed_time": 3.877647304,
                        "iteration": 918,
                        "remaining_time": 0.3417730485,
                        "learn": [
                          0.4534309927
                        ]
                      },
                      {
                        "passed_time": 3.880980516,
                        "iteration": 919,
                        "remaining_time": 0.3374765666,
                        "learn": [
                          0.4534291662
                        ]
                      },
                      {
                        "passed_time": 3.884264397,
                        "iteration": 920,
                        "remaining_time": 0.333177945,
                        "learn": [
                          0.4534280915
                        ]
                      },
                      {
                        "passed_time": 3.88780489,
                        "iteration": 921,
                        "remaining_time": 0.3289032337,
                        "learn": [
                          0.4534275524
                        ]
                      },
                      {
                        "passed_time": 3.891100237,
                        "iteration": 922,
                        "remaining_time": 0.3246096622,
                        "learn": [
                          0.4534266731
                        ]
                      },
                      {
                        "passed_time": 3.894411446,
                        "iteration": 923,
                        "remaining_time": 0.3203195562,
                        "learn": [
                          0.4534255055
                        ]
                      },
                      {
                        "passed_time": 3.899889668,
                        "iteration": 924,
                        "remaining_time": 0.3162072704,
                        "learn": [
                          0.4534248505
                        ]
                      },
                      {
                        "passed_time": 3.908692711,
                        "iteration": 925,
                        "remaining_time": 0.3123577328,
                        "learn": [
                          0.4534233381
                        ]
                      },
                      {
                        "passed_time": 3.912280689,
                        "iteration": 926,
                        "remaining_time": 0.3080868288,
                        "learn": [
                          0.4534224694
                        ]
                      },
                      {
                        "passed_time": 3.915850018,
                        "iteration": 927,
                        "remaining_time": 0.3038159497,
                        "learn": [
                          0.4534198706
                        ]
                      },
                      {
                        "passed_time": 3.919244254,
                        "iteration": 928,
                        "remaining_time": 0.2995331991,
                        "learn": [
                          0.4534193235
                        ]
                      },
                      {
                        "passed_time": 3.922806778,
                        "iteration": 929,
                        "remaining_time": 0.2952650263,
                        "learn": [
                          0.4534164404
                        ]
                      },
                      {
                        "passed_time": 3.959870274,
                        "iteration": 930,
                        "remaining_time": 0.2934812555,
                        "learn": [
                          0.4534147125
                        ]
                      },
                      {
                        "passed_time": 3.974679364,
                        "iteration": 931,
                        "remaining_time": 0.2899980652,
                        "learn": [
                          0.4534140177
                        ]
                      },
                      {
                        "passed_time": 3.984732796,
                        "iteration": 932,
                        "remaining_time": 0.2861490861,
                        "learn": [
                          0.4534129261
                        ]
                      },
                      {
                        "passed_time": 3.998906711,
                        "iteration": 933,
                        "remaining_time": 0.2825779903,
                        "learn": [
                          0.4534118868
                        ]
                      },
                      {
                        "passed_time": 4.004107197,
                        "iteration": 934,
                        "remaining_time": 0.2783603934,
                        "learn": [
                          0.4534113128
                        ]
                      },
                      {
                        "passed_time": 4.009245734,
                        "iteration": 935,
                        "remaining_time": 0.2741364605,
                        "learn": [
                          0.4534088838
                        ]
                      },
                      {
                        "passed_time": 4.013510357,
                        "iteration": 936,
                        "remaining_time": 0.269851817,
                        "learn": [
                          0.4534075056
                        ]
                      },
                      {
                        "passed_time": 4.019551814,
                        "iteration": 937,
                        "remaining_time": 0.2656846615,
                        "learn": [
                          0.453406667
                        ]
                      },
                      {
                        "passed_time": 4.040297881,
                        "iteration": 938,
                        "remaining_time": 0.2624687654,
                        "learn": [
                          0.4534023955
                        ]
                      },
                      {
                        "passed_time": 4.045598167,
                        "iteration": 939,
                        "remaining_time": 0.2582296703,
                        "learn": [
                          0.4534020005
                        ]
                      },
                      {
                        "passed_time": 4.050782749,
                        "iteration": 940,
                        "remaining_time": 0.253981065,
                        "learn": [
                          0.4534011652
                        ]
                      },
                      {
                        "passed_time": 4.054861787,
                        "iteration": 941,
                        "remaining_time": 0.249662403,
                        "learn": [
                          0.453401
                        ]
                      },
                      {
                        "passed_time": 4.078100483,
                        "iteration": 942,
                        "remaining_time": 0.2465023621,
                        "learn": [
                          0.4533999483
                        ]
                      },
                      {
                        "passed_time": 4.097171665,
                        "iteration": 943,
                        "remaining_time": 0.2430525564,
                        "learn": [
                          0.4533995753
                        ]
                      },
                      {
                        "passed_time": 4.115951915,
                        "iteration": 944,
                        "remaining_time": 0.2395527569,
                        "learn": [
                          0.4533975462
                        ]
                      },
                      {
                        "passed_time": 4.129752879,
                        "iteration": 945,
                        "remaining_time": 0.2357364223,
                        "learn": [
                          0.4533951146
                        ]
                      },
                      {
                        "passed_time": 4.156596536,
                        "iteration": 946,
                        "remaining_time": 0.2326289508,
                        "learn": [
                          0.4533918668
                        ]
                      },
                      {
                        "passed_time": 4.171339854,
                        "iteration": 947,
                        "remaining_time": 0.2288076713,
                        "learn": [
                          0.4533911021
                        ]
                      },
                      {
                        "passed_time": 4.19042165,
                        "iteration": 948,
                        "remaining_time": 0.225196527,
                        "learn": [
                          0.4533907506
                        ]
                      },
                      {
                        "passed_time": 4.202235331,
                        "iteration": 949,
                        "remaining_time": 0.2211702806,
                        "learn": [
                          0.4533897315
                        ]
                      },
                      {
                        "passed_time": 4.215485832,
                        "iteration": 950,
                        "remaining_time": 0.2172016885,
                        "learn": [
                          0.4533892731
                        ]
                      },
                      {
                        "passed_time": 4.236133648,
                        "iteration": 951,
                        "remaining_time": 0.2135865705,
                        "learn": [
                          0.4533854995
                        ]
                      },
                      {
                        "passed_time": 4.255937394,
                        "iteration": 952,
                        "remaining_time": 0.2098940792,
                        "learn": [
                          0.4533842233
                        ]
                      },
                      {
                        "passed_time": 4.266550817,
                        "iteration": 953,
                        "remaining_time": 0.2057246725,
                        "learn": [
                          0.4533839025
                        ]
                      },
                      {
                        "passed_time": 4.280755179,
                        "iteration": 954,
                        "remaining_time": 0.201710977,
                        "learn": [
                          0.4533827997
                        ]
                      },
                      {
                        "passed_time": 4.291221942,
                        "iteration": 955,
                        "remaining_time": 0.1975039388,
                        "learn": [
                          0.4533824736
                        ]
                      },
                      {
                        "passed_time": 4.301402063,
                        "iteration": 956,
                        "remaining_time": 0.1932709391,
                        "learn": [
                          0.4533821327
                        ]
                      },
                      {
                        "passed_time": 4.310877497,
                        "iteration": 957,
                        "remaining_time": 0.1889946293,
                        "learn": [
                          0.4533813965
                        ]
                      },
                      {
                        "passed_time": 4.316860903,
                        "iteration": 958,
                        "remaining_time": 0.1845581825,
                        "learn": [
                          0.4533802666
                        ]
                      },
                      {
                        "passed_time": 4.320378847,
                        "iteration": 959,
                        "remaining_time": 0.1800157853,
                        "learn": [
                          0.4533796621
                        ]
                      },
                      {
                        "passed_time": 4.327068323,
                        "iteration": 960,
                        "remaining_time": 0.1756042296,
                        "learn": [
                          0.4533789378
                        ]
                      },
                      {
                        "passed_time": 4.341081524,
                        "iteration": 961,
                        "remaining_time": 0.1714772328,
                        "learn": [
                          0.4533765696
                        ]
                      },
                      {
                        "passed_time": 4.351652535,
                        "iteration": 962,
                        "remaining_time": 0.1671974494,
                        "learn": [
                          0.4533746224
                        ]
                      },
                      {
                        "passed_time": 4.358783418,
                        "iteration": 963,
                        "remaining_time": 0.1627761442,
                        "learn": [
                          0.4533738568
                        ]
                      },
                      {
                        "passed_time": 4.362686752,
                        "iteration": 964,
                        "remaining_time": 0.158232162,
                        "learn": [
                          0.4533732263
                        ]
                      },
                      {
                        "passed_time": 4.367191843,
                        "iteration": 965,
                        "remaining_time": 0.153710686,
                        "learn": [
                          0.4533724808
                        ]
                      },
                      {
                        "passed_time": 4.376891999,
                        "iteration": 966,
                        "remaining_time": 0.1493665315,
                        "learn": [
                          0.4533721155
                        ]
                      },
                      {
                        "passed_time": 4.384921549,
                        "iteration": 967,
                        "remaining_time": 0.1449560843,
                        "learn": [
                          0.453368865
                        ]
                      },
                      {
                        "passed_time": 4.394032876,
                        "iteration": 968,
                        "remaining_time": 0.1405727752,
                        "learn": [
                          0.4533673535
                        ]
                      },
                      {
                        "passed_time": 4.403805853,
                        "iteration": 969,
                        "remaining_time": 0.136200181,
                        "learn": [
                          0.4533656387
                        ]
                      },
                      {
                        "passed_time": 4.425708053,
                        "iteration": 970,
                        "remaining_time": 0.1321787163,
                        "learn": [
                          0.4533642814
                        ]
                      },
                      {
                        "passed_time": 4.434787638,
                        "iteration": 971,
                        "remaining_time": 0.1277510842,
                        "learn": [
                          0.4533635334
                        ]
                      },
                      {
                        "passed_time": 4.446712455,
                        "iteration": 972,
                        "remaining_time": 0.123392843,
                        "learn": [
                          0.4533621407
                        ]
                      },
                      {
                        "passed_time": 4.456625425,
                        "iteration": 973,
                        "remaining_time": 0.1189653604,
                        "learn": [
                          0.4533620033
                        ]
                      },
                      {
                        "passed_time": 4.466406842,
                        "iteration": 974,
                        "remaining_time": 0.1145232524,
                        "learn": [
                          0.4533606791
                        ]
                      },
                      {
                        "passed_time": 4.475704163,
                        "iteration": 975,
                        "remaining_time": 0.1100582991,
                        "learn": [
                          0.4533589021
                        ]
                      },
                      {
                        "passed_time": 4.49064302,
                        "iteration": 976,
                        "remaining_time": 0.1057162635,
                        "learn": [
                          0.4533569411
                        ]
                      },
                      {
                        "passed_time": 4.505349597,
                        "iteration": 977,
                        "remaining_time": 0.1013473324,
                        "learn": [
                          0.4533565363
                        ]
                      },
                      {
                        "passed_time": 4.514945918,
                        "iteration": 978,
                        "remaining_time": 0.09684766524,
                        "learn": [
                          0.4533555859
                        ]
                      },
                      {
                        "passed_time": 4.525100077,
                        "iteration": 979,
                        "remaining_time": 0.09234898117,
                        "learn": [
                          0.4533546806
                        ]
                      },
                      {
                        "passed_time": 4.534363964,
                        "iteration": 980,
                        "remaining_time": 0.08782152428,
                        "learn": [
                          0.4533539405
                        ]
                      },
                      {
                        "passed_time": 4.545981279,
                        "iteration": 981,
                        "remaining_time": 0.08332755908,
                        "learn": [
                          0.4533529553
                        ]
                      },
                      {
                        "passed_time": 4.554204985,
                        "iteration": 982,
                        "remaining_time": 0.07876041175,
                        "learn": [
                          0.4533523164
                        ]
                      },
                      {
                        "passed_time": 4.563474195,
                        "iteration": 983,
                        "remaining_time": 0.07420283245,
                        "learn": [
                          0.4533510753
                        ]
                      },
                      {
                        "passed_time": 4.572716018,
                        "iteration": 984,
                        "remaining_time": 0.06963526931,
                        "learn": [
                          0.4533501119
                        ]
                      },
                      {
                        "passed_time": 4.582390187,
                        "iteration": 985,
                        "remaining_time": 0.0650643637,
                        "learn": [
                          0.4533496642
                        ]
                      },
                      {
                        "passed_time": 4.591137461,
                        "iteration": 986,
                        "remaining_time": 0.06047090881,
                        "learn": [
                          0.4533476394
                        ]
                      },
                      {
                        "passed_time": 4.600039545,
                        "iteration": 987,
                        "remaining_time": 0.05587092564,
                        "learn": [
                          0.4533468167
                        ]
                      },
                      {
                        "passed_time": 4.61740955,
                        "iteration": 988,
                        "remaining_time": 0.05135642574,
                        "learn": [
                          0.4533446844
                        ]
                      },
                      {
                        "passed_time": 4.627528465,
                        "iteration": 989,
                        "remaining_time": 0.04674271177,
                        "learn": [
                          0.4533437988
                        ]
                      },
                      {
                        "passed_time": 4.637526925,
                        "iteration": 990,
                        "remaining_time": 0.04211679347,
                        "learn": [
                          0.4533428076
                        ]
                      },
                      {
                        "passed_time": 4.647320366,
                        "iteration": 991,
                        "remaining_time": 0.03747839005,
                        "learn": [
                          0.4533418998
                        ]
                      },
                      {
                        "passed_time": 4.661621504,
                        "iteration": 992,
                        "remaining_time": 0.03286138019,
                        "learn": [
                          0.453341103
                        ]
                      },
                      {
                        "passed_time": 4.671831773,
                        "iteration": 993,
                        "remaining_time": 0.02820019179,
                        "learn": [
                          0.4533398944
                        ]
                      },
                      {
                        "passed_time": 4.681706364,
                        "iteration": 994,
                        "remaining_time": 0.02352616263,
                        "learn": [
                          0.4533393778
                        ]
                      },
                      {
                        "passed_time": 4.691662668,
                        "iteration": 995,
                        "remaining_time": 0.01884201875,
                        "learn": [
                          0.4533386443
                        ]
                      },
                      {
                        "passed_time": 4.701185274,
                        "iteration": 996,
                        "remaining_time": 0.0141459938,
                        "learn": [
                          0.4533374177
                        ]
                      },
                      {
                        "passed_time": 4.715266735,
                        "iteration": 997,
                        "remaining_time": 0.009449432334,
                        "learn": [
                          0.4533358898
                        ]
                      },
                      {
                        "passed_time": 4.725212773,
                        "iteration": 998,
                        "remaining_time": 0.004729942716,
                        "learn": [
                          0.4533351653
                        ]
                      },
                      {
                        "passed_time": 4.734209351,
                        "iteration": 999,
                        "remaining_time": 0,
                        "learn": [
                          0.4533342161
                        ]
                      }
                    ]
                  },
                  "total_iterations": 1000,
                  "passed_iterations": 999
                },
                "path": "catboost_info",
                "name": "catboost_info"
              }
            },
            "_view_module": "catboost-widget",
            "_model_module_version": "^1.0.0",
            "_view_count": null,
            "_view_module_version": "^1.0.0",
            "layout": "IPY_MODEL_dca1bf957275450eb8abe2c2dac2ff74",
            "_model_module": "catboost-widget"
          }
        },
        "336f4d1442a84fb18c9fa827d8b6e5b9": {
          "model_module": "catboost-widget",
          "model_name": "CatboostWidgetModel",
          "model_module_version": "^1.0.0",
          "state": {
            "_view_name": "CatboostWidgetView",
            "_dom_classes": [],
            "_model_name": "CatboostWidgetModel",
            "data": {
              "catboost_info/fold-9": {
                "content": {
                  "data": {
                    "meta": {
                      "name": "experiment",
                      "parameters": "",
                      "test_metrics": [
                        {
                          "best_value": "Min",
                          "name": "RMSE"
                        }
                      ],
                      "learn_sets": [
                        "learn"
                      ],
                      "launch_mode": "Train",
                      "learn_metrics": [
                        {
                          "best_value": "Min",
                          "name": "RMSE"
                        }
                      ],
                      "iteration_count": 100,
                      "test_sets": [
                        "test"
                      ]
                    },
                    "iterations": [
                      {
                        "test": [
                          0.6385942782
                        ],
                        "passed_time": 0.009313396164,
                        "iteration": 0,
                        "remaining_time": 0.9220262202,
                        "learn": [
                          0.623481933
                        ]
                      },
                      {
                        "test": [
                          0.6309319659
                        ],
                        "passed_time": 0.01668848711,
                        "iteration": 1,
                        "remaining_time": 0.8177358683,
                        "learn": [
                          0.6160745765
                        ]
                      },
                      {
                        "test": [
                          0.6237108856
                        ],
                        "passed_time": 0.03409604509,
                        "iteration": 2,
                        "remaining_time": 1.102438791,
                        "learn": [
                          0.6090929551
                        ]
                      },
                      {
                        "test": [
                          0.6170672274
                        ],
                        "passed_time": 0.03667029539,
                        "iteration": 3,
                        "remaining_time": 0.8800870894,
                        "learn": [
                          0.6026390498
                        ]
                      },
                      {
                        "test": [
                          0.6100363162
                        ],
                        "passed_time": 0.06448490878,
                        "iteration": 4,
                        "remaining_time": 1.225213267,
                        "learn": [
                          0.5958807237
                        ]
                      },
                      {
                        "test": [
                          0.6035955724
                        ],
                        "passed_time": 0.07615348147,
                        "iteration": 5,
                        "remaining_time": 1.19307121,
                        "learn": [
                          0.589703803
                        ]
                      },
                      {
                        "test": [
                          0.5978492433
                        ],
                        "passed_time": 0.08401115349,
                        "iteration": 6,
                        "remaining_time": 1.116148182,
                        "learn": [
                          0.5841526506
                        ]
                      },
                      {
                        "test": [
                          0.5913419636
                        ],
                        "passed_time": 0.1882911417,
                        "iteration": 7,
                        "remaining_time": 2.165348129,
                        "learn": [
                          0.5781213203
                        ]
                      },
                      {
                        "test": [
                          0.5851551755
                        ],
                        "passed_time": 0.2240947075,
                        "iteration": 8,
                        "remaining_time": 2.265846487,
                        "learn": [
                          0.5724161781
                        ]
                      },
                      {
                        "test": [
                          0.5801928046
                        ],
                        "passed_time": 0.2272354175,
                        "iteration": 9,
                        "remaining_time": 2.045118757,
                        "learn": [
                          0.567654038
                        ]
                      },
                      {
                        "test": [
                          0.5751716691
                        ],
                        "passed_time": 0.2475031962,
                        "iteration": 10,
                        "remaining_time": 2.00252586,
                        "learn": [
                          0.5628633633
                        ]
                      },
                      {
                        "test": [
                          0.5705074932
                        ],
                        "passed_time": 0.2666875944,
                        "iteration": 11,
                        "remaining_time": 1.955709026,
                        "learn": [
                          0.5583989463
                        ]
                      },
                      {
                        "test": [
                          0.5657293625
                        ],
                        "passed_time": 0.3183960541,
                        "iteration": 12,
                        "remaining_time": 2.130804362,
                        "learn": [
                          0.5538792832
                        ]
                      },
                      {
                        "test": [
                          0.5613567629
                        ],
                        "passed_time": 0.381654819,
                        "iteration": 13,
                        "remaining_time": 2.344451031,
                        "learn": [
                          0.549771925
                        ]
                      },
                      {
                        "test": [
                          0.5572311887
                        ],
                        "passed_time": 0.394117407,
                        "iteration": 14,
                        "remaining_time": 2.233331973,
                        "learn": [
                          0.5459153274
                        ]
                      },
                      {
                        "test": [
                          0.5535738007
                        ],
                        "passed_time": 0.4155400558,
                        "iteration": 15,
                        "remaining_time": 2.181585293,
                        "learn": [
                          0.5424521768
                        ]
                      },
                      {
                        "test": [
                          0.5491485983
                        ],
                        "passed_time": 0.4356844705,
                        "iteration": 16,
                        "remaining_time": 2.127165356,
                        "learn": [
                          0.5384979437
                        ]
                      },
                      {
                        "test": [
                          0.5457179901
                        ],
                        "passed_time": 0.4465641546,
                        "iteration": 17,
                        "remaining_time": 2.034347815,
                        "learn": [
                          0.5352851221
                        ]
                      },
                      {
                        "test": [
                          0.5425844241
                        ],
                        "passed_time": 0.4504695912,
                        "iteration": 18,
                        "remaining_time": 1.920422994,
                        "learn": [
                          0.5323431028
                        ]
                      },
                      {
                        "test": [
                          0.5387344802
                        ],
                        "passed_time": 0.4604931682,
                        "iteration": 19,
                        "remaining_time": 1.841972673,
                        "learn": [
                          0.5289710293
                        ]
                      },
                      {
                        "test": [
                          0.5350150969
                        ],
                        "passed_time": 0.4661637627,
                        "iteration": 20,
                        "remaining_time": 1.753663679,
                        "learn": [
                          0.525683716
                        ]
                      },
                      {
                        "test": [
                          0.5322065794
                        ],
                        "passed_time": 0.474061062,
                        "iteration": 21,
                        "remaining_time": 1.680761947,
                        "learn": [
                          0.5230975113
                        ]
                      },
                      {
                        "test": [
                          0.5290677963
                        ],
                        "passed_time": 0.4938114503,
                        "iteration": 22,
                        "remaining_time": 1.653194855,
                        "learn": [
                          0.5202735025
                        ]
                      },
                      {
                        "test": [
                          0.5264297198
                        ],
                        "passed_time": 0.5028369437,
                        "iteration": 23,
                        "remaining_time": 1.592316988,
                        "learn": [
                          0.5178543092
                        ]
                      },
                      {
                        "test": [
                          0.5237754001
                        ],
                        "passed_time": 0.5230786745,
                        "iteration": 24,
                        "remaining_time": 1.569236024,
                        "learn": [
                          0.515445053
                        ]
                      },
                      {
                        "test": [
                          0.5215866805
                        ],
                        "passed_time": 0.5467910992,
                        "iteration": 25,
                        "remaining_time": 1.55625159,
                        "learn": [
                          0.5134270451
                        ]
                      },
                      {
                        "test": [
                          0.5187360712
                        ],
                        "passed_time": 0.5666686345,
                        "iteration": 26,
                        "remaining_time": 1.532104086,
                        "learn": [
                          0.511031174
                        ]
                      },
                      {
                        "test": [
                          0.5167850687
                        ],
                        "passed_time": 0.5702435236,
                        "iteration": 27,
                        "remaining_time": 1.466340489,
                        "learn": [
                          0.5092498038
                        ]
                      },
                      {
                        "test": [
                          0.5147230896
                        ],
                        "passed_time": 0.5786745457,
                        "iteration": 28,
                        "remaining_time": 1.416754922,
                        "learn": [
                          0.5074560975
                        ]
                      },
                      {
                        "test": [
                          0.5122485063
                        ],
                        "passed_time": 0.5986490922,
                        "iteration": 29,
                        "remaining_time": 1.396847882,
                        "learn": [
                          0.5053160122
                        ]
                      },
                      {
                        "test": [
                          0.510575012
                        ],
                        "passed_time": 0.6164718709,
                        "iteration": 30,
                        "remaining_time": 1.372147068,
                        "learn": [
                          0.503793777
                        ]
                      },
                      {
                        "test": [
                          0.5087679693
                        ],
                        "passed_time": 0.633280801,
                        "iteration": 31,
                        "remaining_time": 1.345721702,
                        "learn": [
                          0.5022503097
                        ]
                      },
                      {
                        "test": [
                          0.5071236239
                        ],
                        "passed_time": 0.6383310922,
                        "iteration": 32,
                        "remaining_time": 1.296005551,
                        "learn": [
                          0.5007702322
                        ]
                      },
                      {
                        "test": [
                          0.5056051139
                        ],
                        "passed_time": 0.6447765122,
                        "iteration": 33,
                        "remaining_time": 1.251624994,
                        "learn": [
                          0.4994012179
                        ]
                      },
                      {
                        "test": [
                          0.5040346796
                        ],
                        "passed_time": 0.6557402185,
                        "iteration": 34,
                        "remaining_time": 1.217803263,
                        "learn": [
                          0.4980385321
                        ]
                      },
                      {
                        "test": [
                          0.5025906907
                        ],
                        "passed_time": 0.6622849952,
                        "iteration": 35,
                        "remaining_time": 1.177395547,
                        "learn": [
                          0.496763155
                        ]
                      },
                      {
                        "test": [
                          0.5006727208
                        ],
                        "passed_time": 0.6757306763,
                        "iteration": 36,
                        "remaining_time": 1.150568449,
                        "learn": [
                          0.4952063797
                        ]
                      },
                      {
                        "test": [
                          0.4988502181
                        ],
                        "passed_time": 0.6922815176,
                        "iteration": 37,
                        "remaining_time": 1.12951195,
                        "learn": [
                          0.4937795852
                        ]
                      },
                      {
                        "test": [
                          0.4974429637
                        ],
                        "passed_time": 0.7032082268,
                        "iteration": 38,
                        "remaining_time": 1.099889791,
                        "learn": [
                          0.4925802643
                        ]
                      },
                      {
                        "test": [
                          0.4959381292
                        ],
                        "passed_time": 0.7811423978,
                        "iteration": 39,
                        "remaining_time": 1.171713597,
                        "learn": [
                          0.4912812386
                        ]
                      },
                      {
                        "test": [
                          0.4942722229
                        ],
                        "passed_time": 0.8048724767,
                        "iteration": 40,
                        "remaining_time": 1.158231125,
                        "learn": [
                          0.4899694577
                        ]
                      },
                      {
                        "test": [
                          0.4926453979
                        ],
                        "passed_time": 0.8537556018,
                        "iteration": 41,
                        "remaining_time": 1.178995831,
                        "learn": [
                          0.488698545
                        ]
                      },
                      {
                        "test": [
                          0.4915339835
                        ],
                        "passed_time": 0.8605123232,
                        "iteration": 42,
                        "remaining_time": 1.140679126,
                        "learn": [
                          0.487752474
                        ]
                      },
                      {
                        "test": [
                          0.4904673558
                        ],
                        "passed_time": 0.875661159,
                        "iteration": 43,
                        "remaining_time": 1.114477839,
                        "learn": [
                          0.4868655687
                        ]
                      },
                      {
                        "test": [
                          0.489139002
                        ],
                        "passed_time": 0.9226058838,
                        "iteration": 44,
                        "remaining_time": 1.127629414,
                        "learn": [
                          0.4858599778
                        ]
                      },
                      {
                        "test": [
                          0.4882348649
                        ],
                        "passed_time": 0.9334406903,
                        "iteration": 45,
                        "remaining_time": 1.095778202,
                        "learn": [
                          0.4851104343
                        ]
                      },
                      {
                        "test": [
                          0.486904101
                        ],
                        "passed_time": 0.9535202479,
                        "iteration": 46,
                        "remaining_time": 1.075246237,
                        "learn": [
                          0.4841329192
                        ]
                      },
                      {
                        "test": [
                          0.486092591
                        ],
                        "passed_time": 0.9621207099,
                        "iteration": 47,
                        "remaining_time": 1.042297436,
                        "learn": [
                          0.4834750736
                        ]
                      },
                      {
                        "test": [
                          0.4854630848
                        ],
                        "passed_time": 0.9687272239,
                        "iteration": 48,
                        "remaining_time": 1.008267111,
                        "learn": [
                          0.4829501658
                        ]
                      },
                      {
                        "test": [
                          0.4848638465
                        ],
                        "passed_time": 0.9734407762,
                        "iteration": 49,
                        "remaining_time": 0.9734407762,
                        "learn": [
                          0.4824566173
                        ]
                      },
                      {
                        "test": [
                          0.48421575
                        ],
                        "passed_time": 0.9814975618,
                        "iteration": 50,
                        "remaining_time": 0.9430074613,
                        "learn": [
                          0.4819061609
                        ]
                      },
                      {
                        "test": [
                          0.4836809842
                        ],
                        "passed_time": 0.9873965683,
                        "iteration": 51,
                        "remaining_time": 0.9114429861,
                        "learn": [
                          0.4814685834
                        ]
                      },
                      {
                        "test": [
                          0.4826395206
                        ],
                        "passed_time": 1.020838504,
                        "iteration": 52,
                        "remaining_time": 0.9052718805,
                        "learn": [
                          0.480680478
                        ]
                      },
                      {
                        "test": [
                          0.4816607555
                        ],
                        "passed_time": 1.044058993,
                        "iteration": 53,
                        "remaining_time": 0.8893835866,
                        "learn": [
                          0.4799945651
                        ]
                      },
                      {
                        "test": [
                          0.4809326404
                        ],
                        "passed_time": 1.063694527,
                        "iteration": 54,
                        "remaining_time": 0.8702955224,
                        "learn": [
                          0.4794095919
                        ]
                      },
                      {
                        "test": [
                          0.4802875111
                        ],
                        "passed_time": 1.102578587,
                        "iteration": 55,
                        "remaining_time": 0.8663117468,
                        "learn": [
                          0.4788982611
                        ]
                      },
                      {
                        "test": [
                          0.4794339108
                        ],
                        "passed_time": 1.109717234,
                        "iteration": 56,
                        "remaining_time": 0.8371551063,
                        "learn": [
                          0.4783022224
                        ]
                      },
                      {
                        "test": [
                          0.4787954721
                        ],
                        "passed_time": 1.124056958,
                        "iteration": 57,
                        "remaining_time": 0.81397228,
                        "learn": [
                          0.4778037126
                        ]
                      },
                      {
                        "test": [
                          0.4784232763
                        ],
                        "passed_time": 1.12998957,
                        "iteration": 58,
                        "remaining_time": 0.7852469891,
                        "learn": [
                          0.477515433
                        ]
                      },
                      {
                        "test": [
                          0.4777188601
                        ],
                        "passed_time": 1.155641693,
                        "iteration": 59,
                        "remaining_time": 0.7704277956,
                        "learn": [
                          0.4769804963
                        ]
                      },
                      {
                        "test": [
                          0.4769403966
                        ],
                        "passed_time": 1.206717611,
                        "iteration": 60,
                        "remaining_time": 0.7715079807,
                        "learn": [
                          0.4764237614
                        ]
                      },
                      {
                        "test": [
                          0.476449255
                        ],
                        "passed_time": 1.215171756,
                        "iteration": 61,
                        "remaining_time": 0.7447826892,
                        "learn": [
                          0.4760800478
                        ]
                      },
                      {
                        "test": [
                          0.4759474905
                        ],
                        "passed_time": 1.249019061,
                        "iteration": 62,
                        "remaining_time": 0.7335508772,
                        "learn": [
                          0.4757075629
                        ]
                      },
                      {
                        "test": [
                          0.4755531843
                        ],
                        "passed_time": 1.261046465,
                        "iteration": 63,
                        "remaining_time": 0.7093386367,
                        "learn": [
                          0.4754215661
                        ]
                      },
                      {
                        "test": [
                          0.4752376243
                        ],
                        "passed_time": 1.278572867,
                        "iteration": 64,
                        "remaining_time": 0.6884623128,
                        "learn": [
                          0.4751268588
                        ]
                      },
                      {
                        "test": [
                          0.4748160341
                        ],
                        "passed_time": 1.291495333,
                        "iteration": 65,
                        "remaining_time": 0.6653157774,
                        "learn": [
                          0.4747991962
                        ]
                      },
                      {
                        "test": [
                          0.4744938293
                        ],
                        "passed_time": 1.294884993,
                        "iteration": 66,
                        "remaining_time": 0.6377791757,
                        "learn": [
                          0.4745510897
                        ]
                      },
                      {
                        "test": [
                          0.4741129319
                        ],
                        "passed_time": 1.31522458,
                        "iteration": 67,
                        "remaining_time": 0.6189292144,
                        "learn": [
                          0.4742229349
                        ]
                      },
                      {
                        "test": [
                          0.4737137675
                        ],
                        "passed_time": 1.357191916,
                        "iteration": 68,
                        "remaining_time": 0.6097528897,
                        "learn": [
                          0.4739203792
                        ]
                      },
                      {
                        "test": [
                          0.4731093854
                        ],
                        "passed_time": 1.41842904,
                        "iteration": 69,
                        "remaining_time": 0.60789816,
                        "learn": [
                          0.4734790798
                        ]
                      },
                      {
                        "test": [
                          0.4727245481
                        ],
                        "passed_time": 1.434058345,
                        "iteration": 70,
                        "remaining_time": 0.5857421411,
                        "learn": [
                          0.4731789047
                        ]
                      },
                      {
                        "test": [
                          0.4724257212
                        ],
                        "passed_time": 1.446391086,
                        "iteration": 71,
                        "remaining_time": 0.5624854224,
                        "learn": [
                          0.4729835272
                        ]
                      },
                      {
                        "test": [
                          0.4718614437
                        ],
                        "passed_time": 1.493941254,
                        "iteration": 72,
                        "remaining_time": 0.5525536146,
                        "learn": [
                          0.4726529041
                        ]
                      },
                      {
                        "test": [
                          0.4715109132
                        ],
                        "passed_time": 1.506018063,
                        "iteration": 73,
                        "remaining_time": 0.5291414815,
                        "learn": [
                          0.4723609553
                        ]
                      },
                      {
                        "test": [
                          0.4711502838
                        ],
                        "passed_time": 1.561548346,
                        "iteration": 74,
                        "remaining_time": 0.5205161155,
                        "learn": [
                          0.4720843648
                        ]
                      },
                      {
                        "test": [
                          0.4708105597
                        ],
                        "passed_time": 1.592869667,
                        "iteration": 75,
                        "remaining_time": 0.5030114739,
                        "learn": [
                          0.4718350421
                        ]
                      },
                      {
                        "test": [
                          0.4702688445
                        ],
                        "passed_time": 1.642572419,
                        "iteration": 76,
                        "remaining_time": 0.4906385146,
                        "learn": [
                          0.4715055858
                        ]
                      },
                      {
                        "test": [
                          0.4699650023
                        ],
                        "passed_time": 1.678921287,
                        "iteration": 77,
                        "remaining_time": 0.4735419014,
                        "learn": [
                          0.4713060157
                        ]
                      },
                      {
                        "test": [
                          0.4696394157
                        ],
                        "passed_time": 1.693225504,
                        "iteration": 78,
                        "remaining_time": 0.4500979188,
                        "learn": [
                          0.4710605348
                        ]
                      },
                      {
                        "test": [
                          0.4693264723
                        ],
                        "passed_time": 1.713096658,
                        "iteration": 79,
                        "remaining_time": 0.4282741644,
                        "learn": [
                          0.4708309683
                        ]
                      },
                      {
                        "test": [
                          0.4691525854
                        ],
                        "passed_time": 1.715661982,
                        "iteration": 80,
                        "remaining_time": 0.4024392303,
                        "learn": [
                          0.470699702
                        ]
                      },
                      {
                        "test": [
                          0.4688901956
                        ],
                        "passed_time": 1.743788744,
                        "iteration": 81,
                        "remaining_time": 0.382782895,
                        "learn": [
                          0.4704330903
                        ]
                      },
                      {
                        "test": [
                          0.4685920243
                        ],
                        "passed_time": 1.81564942,
                        "iteration": 82,
                        "remaining_time": 0.3718800017,
                        "learn": [
                          0.4701435675
                        ]
                      },
                      {
                        "test": [
                          0.4683597566
                        ],
                        "passed_time": 1.828533118,
                        "iteration": 83,
                        "remaining_time": 0.3482920225,
                        "learn": [
                          0.4699345031
                        ]
                      },
                      {
                        "test": [
                          0.4679468297
                        ],
                        "passed_time": 1.874372546,
                        "iteration": 84,
                        "remaining_time": 0.3307716258,
                        "learn": [
                          0.4696330302
                        ]
                      },
                      {
                        "test": [
                          0.4676476746
                        ],
                        "passed_time": 1.899033571,
                        "iteration": 85,
                        "remaining_time": 0.3091449999,
                        "learn": [
                          0.4694416004
                        ]
                      },
                      {
                        "test": [
                          0.4672381746
                        ],
                        "passed_time": 1.98706816,
                        "iteration": 86,
                        "remaining_time": 0.2969182308,
                        "learn": [
                          0.4692021933
                        ]
                      },
                      {
                        "test": [
                          0.4669458834
                        ],
                        "passed_time": 2.038278523,
                        "iteration": 87,
                        "remaining_time": 0.2779470713,
                        "learn": [
                          0.4689715757
                        ]
                      },
                      {
                        "test": [
                          0.4668648084
                        ],
                        "passed_time": 2.058704164,
                        "iteration": 88,
                        "remaining_time": 0.254446582,
                        "learn": [
                          0.4688856859
                        ]
                      },
                      {
                        "test": [
                          0.466747567
                        ],
                        "passed_time": 2.077051892,
                        "iteration": 89,
                        "remaining_time": 0.2307835436,
                        "learn": [
                          0.4688051508
                        ]
                      },
                      {
                        "test": [
                          0.4665148714
                        ],
                        "passed_time": 2.119762362,
                        "iteration": 90,
                        "remaining_time": 0.209646827,
                        "learn": [
                          0.4685919912
                        ]
                      },
                      {
                        "test": [
                          0.4663059553
                        ],
                        "passed_time": 2.134642263,
                        "iteration": 91,
                        "remaining_time": 0.1856210663,
                        "learn": [
                          0.4684427866
                        ]
                      },
                      {
                        "test": [
                          0.4660955757
                        ],
                        "passed_time": 2.156220402,
                        "iteration": 92,
                        "remaining_time": 0.1622961593,
                        "learn": [
                          0.4683265723
                        ]
                      },
                      {
                        "test": [
                          0.4659603464
                        ],
                        "passed_time": 2.221199847,
                        "iteration": 93,
                        "remaining_time": 0.1417787136,
                        "learn": [
                          0.4681756989
                        ]
                      },
                      {
                        "test": [
                          0.4658315408
                        ],
                        "passed_time": 2.251415658,
                        "iteration": 94,
                        "remaining_time": 0.118495561,
                        "learn": [
                          0.4680212066
                        ]
                      },
                      {
                        "test": [
                          0.4656911071
                        ],
                        "passed_time": 2.281058184,
                        "iteration": 95,
                        "remaining_time": 0.09504409102,
                        "learn": [
                          0.4678889331
                        ]
                      },
                      {
                        "test": [
                          0.4656210092
                        ],
                        "passed_time": 2.291611523,
                        "iteration": 96,
                        "remaining_time": 0.07087458318,
                        "learn": [
                          0.4678472934
                        ]
                      },
                      {
                        "test": [
                          0.465427227
                        ],
                        "passed_time": 2.306696301,
                        "iteration": 97,
                        "remaining_time": 0.04707543472,
                        "learn": [
                          0.4677044691
                        ]
                      },
                      {
                        "test": [
                          0.465304793
                        ],
                        "passed_time": 2.34254053,
                        "iteration": 98,
                        "remaining_time": 0.02366202556,
                        "learn": [
                          0.4676445155
                        ]
                      },
                      {
                        "test": [
                          0.4651710135
                        ],
                        "passed_time": 2.363333088,
                        "iteration": 99,
                        "remaining_time": 0,
                        "learn": [
                          0.4675602405
                        ]
                      }
                    ]
                  },
                  "total_iterations": 100,
                  "passed_iterations": 99
                },
                "path": "catboost_info/fold-9",
                "name": "fold-9"
              },
              "catboost_info/fold-8": {
                "content": {
                  "data": {
                    "meta": {
                      "name": "experiment",
                      "parameters": "",
                      "test_metrics": [
                        {
                          "best_value": "Min",
                          "name": "RMSE"
                        }
                      ],
                      "learn_sets": [
                        "learn"
                      ],
                      "launch_mode": "Train",
                      "learn_metrics": [
                        {
                          "best_value": "Min",
                          "name": "RMSE"
                        }
                      ],
                      "iteration_count": 100,
                      "test_sets": [
                        "test"
                      ]
                    },
                    "iterations": [
                      {
                        "test": [
                          0.5950300049
                        ],
                        "passed_time": 0.01990220497,
                        "iteration": 0,
                        "remaining_time": 1.970318292,
                        "learn": [
                          0.6284625563
                        ]
                      },
                      {
                        "test": [
                          0.5881658168
                        ],
                        "passed_time": 0.0389607663,
                        "iteration": 1,
                        "remaining_time": 1.909077549,
                        "learn": [
                          0.6211736632
                        ]
                      },
                      {
                        "test": [
                          0.5815485022
                        ],
                        "passed_time": 0.0604124332,
                        "iteration": 2,
                        "remaining_time": 1.95333534,
                        "learn": [
                          0.6141247839
                        ]
                      },
                      {
                        "test": [
                          0.5751133849
                        ],
                        "passed_time": 0.1063647897,
                        "iteration": 3,
                        "remaining_time": 2.552754954,
                        "learn": [
                          0.6072045038
                        ]
                      },
                      {
                        "test": [
                          0.5686018582
                        ],
                        "passed_time": 0.1598871446,
                        "iteration": 4,
                        "remaining_time": 3.037855747,
                        "learn": [
                          0.5998915393
                        ]
                      },
                      {
                        "test": [
                          0.5630592004
                        ],
                        "passed_time": 0.1634744489,
                        "iteration": 5,
                        "remaining_time": 2.5610997,
                        "learn": [
                          0.5939123946
                        ]
                      },
                      {
                        "test": [
                          0.5575919495
                        ],
                        "passed_time": 0.1719275532,
                        "iteration": 6,
                        "remaining_time": 2.28418035,
                        "learn": [
                          0.5878734788
                        ]
                      },
                      {
                        "test": [
                          0.5526523695
                        ],
                        "passed_time": 0.1790573865,
                        "iteration": 7,
                        "remaining_time": 2.059159945,
                        "learn": [
                          0.5824734147
                        ]
                      },
                      {
                        "test": [
                          0.5474274177
                        ],
                        "passed_time": 0.1872697039,
                        "iteration": 8,
                        "remaining_time": 1.893504784,
                        "learn": [
                          0.5764776925
                        ]
                      },
                      {
                        "test": [
                          0.5425257792
                        ],
                        "passed_time": 0.1980290691,
                        "iteration": 9,
                        "remaining_time": 1.782261622,
                        "learn": [
                          0.5710314093
                        ]
                      },
                      {
                        "test": [
                          0.5381492252
                        ],
                        "passed_time": 0.2091946295,
                        "iteration": 10,
                        "remaining_time": 1.69257473,
                        "learn": [
                          0.5661386892
                        ]
                      },
                      {
                        "test": [
                          0.5341916231
                        ],
                        "passed_time": 0.2186968091,
                        "iteration": 11,
                        "remaining_time": 1.6037766,
                        "learn": [
                          0.5617395982
                        ]
                      },
                      {
                        "test": [
                          0.530461893
                        ],
                        "passed_time": 0.2280241215,
                        "iteration": 12,
                        "remaining_time": 1.526007582,
                        "learn": [
                          0.557570422
                        ]
                      },
                      {
                        "test": [
                          0.5267752897
                        ],
                        "passed_time": 0.242877854,
                        "iteration": 13,
                        "remaining_time": 1.49196396,
                        "learn": [
                          0.5533995316
                        ]
                      },
                      {
                        "test": [
                          0.5234686238
                        ],
                        "passed_time": 0.2515126958,
                        "iteration": 14,
                        "remaining_time": 1.425238609,
                        "learn": [
                          0.5496539958
                        ]
                      },
                      {
                        "test": [
                          0.5198001241
                        ],
                        "passed_time": 0.2659648315,
                        "iteration": 15,
                        "remaining_time": 1.396315366,
                        "learn": [
                          0.5452062746
                        ]
                      },
                      {
                        "test": [
                          0.5168644541
                        ],
                        "passed_time": 0.2713370907,
                        "iteration": 16,
                        "remaining_time": 1.324763443,
                        "learn": [
                          0.5418409789
                        ]
                      },
                      {
                        "test": [
                          0.5134714499
                        ],
                        "passed_time": 0.3031601282,
                        "iteration": 17,
                        "remaining_time": 1.381062806,
                        "learn": [
                          0.5377545376
                        ]
                      },
                      {
                        "test": [
                          0.510541278
                        ],
                        "passed_time": 0.3241268398,
                        "iteration": 18,
                        "remaining_time": 1.381803896,
                        "learn": [
                          0.5343128891
                        ]
                      },
                      {
                        "test": [
                          0.5076498146
                        ],
                        "passed_time": 0.3447570557,
                        "iteration": 19,
                        "remaining_time": 1.379028223,
                        "learn": [
                          0.5307025123
                        ]
                      },
                      {
                        "test": [
                          0.5049333202
                        ],
                        "passed_time": 0.3783043118,
                        "iteration": 20,
                        "remaining_time": 1.423144792,
                        "learn": [
                          0.5275000432
                        ]
                      },
                      {
                        "test": [
                          0.502771889
                        ],
                        "passed_time": 0.3854000113,
                        "iteration": 21,
                        "remaining_time": 1.366418222,
                        "learn": [
                          0.5249340044
                        ]
                      },
                      {
                        "test": [
                          0.5007463237
                        ],
                        "passed_time": 0.388878802,
                        "iteration": 22,
                        "remaining_time": 1.301898598,
                        "learn": [
                          0.5225103825
                        ]
                      },
                      {
                        "test": [
                          0.4986912273
                        ],
                        "passed_time": 0.3955993113,
                        "iteration": 23,
                        "remaining_time": 1.252731152,
                        "learn": [
                          0.5199839026
                        ]
                      },
                      {
                        "test": [
                          0.4969124516
                        ],
                        "passed_time": 0.4025524238,
                        "iteration": 24,
                        "remaining_time": 1.207657271,
                        "learn": [
                          0.517818919
                        ]
                      },
                      {
                        "test": [
                          0.4950913732
                        ],
                        "passed_time": 0.4232696803,
                        "iteration": 25,
                        "remaining_time": 1.204690629,
                        "learn": [
                          0.5155303163
                        ]
                      },
                      {
                        "test": [
                          0.4934821822
                        ],
                        "passed_time": 0.4282899157,
                        "iteration": 26,
                        "remaining_time": 1.157969031,
                        "learn": [
                          0.5135230307
                        ]
                      },
                      {
                        "test": [
                          0.4915702743
                        ],
                        "passed_time": 0.4594289884,
                        "iteration": 27,
                        "remaining_time": 1.181388827,
                        "learn": [
                          0.511168823
                        ]
                      },
                      {
                        "test": [
                          0.4898068421
                        ],
                        "passed_time": 0.4926955962,
                        "iteration": 28,
                        "remaining_time": 1.206254735,
                        "learn": [
                          0.5087380707
                        ]
                      },
                      {
                        "test": [
                          0.4881954872
                        ],
                        "passed_time": 0.5039831437,
                        "iteration": 29,
                        "remaining_time": 1.175960669,
                        "learn": [
                          0.5064796909
                        ]
                      },
                      {
                        "test": [
                          0.4869141315
                        ],
                        "passed_time": 0.517628343,
                        "iteration": 30,
                        "remaining_time": 1.152140505,
                        "learn": [
                          0.504861006
                        ]
                      },
                      {
                        "test": [
                          0.4856753991
                        ],
                        "passed_time": 0.5272843388,
                        "iteration": 31,
                        "remaining_time": 1.12047922,
                        "learn": [
                          0.503208512
                        ]
                      },
                      {
                        "test": [
                          0.4843660188
                        ],
                        "passed_time": 0.544337291,
                        "iteration": 32,
                        "remaining_time": 1.105169651,
                        "learn": [
                          0.5014925813
                        ]
                      },
                      {
                        "test": [
                          0.4832843379
                        ],
                        "passed_time": 0.5496456623,
                        "iteration": 33,
                        "remaining_time": 1.066959227,
                        "learn": [
                          0.5000159015
                        ]
                      },
                      {
                        "test": [
                          0.4820838267
                        ],
                        "passed_time": 0.5742175907,
                        "iteration": 34,
                        "remaining_time": 1.066404097,
                        "learn": [
                          0.4984539334
                        ]
                      },
                      {
                        "test": [
                          0.4810905112
                        ],
                        "passed_time": 0.5870129196,
                        "iteration": 35,
                        "remaining_time": 1.043578524,
                        "learn": [
                          0.497110567
                        ]
                      },
                      {
                        "test": [
                          0.4801694411
                        ],
                        "passed_time": 0.6056111266,
                        "iteration": 36,
                        "remaining_time": 1.031175702,
                        "learn": [
                          0.4958541239
                        ]
                      },
                      {
                        "test": [
                          0.4793398452
                        ],
                        "passed_time": 0.6115011853,
                        "iteration": 37,
                        "remaining_time": 0.9977124602,
                        "learn": [
                          0.4946832199
                        ]
                      },
                      {
                        "test": [
                          0.478395726
                        ],
                        "passed_time": 0.6273616147,
                        "iteration": 38,
                        "remaining_time": 0.9812579101,
                        "learn": [
                          0.4931810294
                        ]
                      },
                      {
                        "test": [
                          0.4775186792
                        ],
                        "passed_time": 0.6442294641,
                        "iteration": 39,
                        "remaining_time": 0.9663441962,
                        "learn": [
                          0.4917507213
                        ]
                      },
                      {
                        "test": [
                          0.4769306918
                        ],
                        "passed_time": 0.6524153763,
                        "iteration": 40,
                        "remaining_time": 0.9388416391,
                        "learn": [
                          0.4908861156
                        ]
                      },
                      {
                        "test": [
                          0.4761454671
                        ],
                        "passed_time": 0.6657631327,
                        "iteration": 41,
                        "remaining_time": 0.9193871832,
                        "learn": [
                          0.4895703119
                        ]
                      },
                      {
                        "test": [
                          0.4754893413
                        ],
                        "passed_time": 0.673994413,
                        "iteration": 42,
                        "remaining_time": 0.8934344544,
                        "learn": [
                          0.4886518539
                        ]
                      },
                      {
                        "test": [
                          0.4748138229
                        ],
                        "passed_time": 0.6857206473,
                        "iteration": 43,
                        "remaining_time": 0.8727353692,
                        "learn": [
                          0.4874834501
                        ]
                      },
                      {
                        "test": [
                          0.474145227
                        ],
                        "passed_time": 0.7066567998,
                        "iteration": 44,
                        "remaining_time": 0.8636916442,
                        "learn": [
                          0.486354654
                        ]
                      },
                      {
                        "test": [
                          0.4735195783
                        ],
                        "passed_time": 0.7211352089,
                        "iteration": 45,
                        "remaining_time": 0.8465500278,
                        "learn": [
                          0.4852652384
                        ]
                      },
                      {
                        "test": [
                          0.4729770507
                        ],
                        "passed_time": 0.7523356643,
                        "iteration": 46,
                        "remaining_time": 0.8483785151,
                        "learn": [
                          0.4843490072
                        ]
                      },
                      {
                        "test": [
                          0.47248194
                        ],
                        "passed_time": 0.7647700293,
                        "iteration": 47,
                        "remaining_time": 0.8285008651,
                        "learn": [
                          0.4833965454
                        ]
                      },
                      {
                        "test": [
                          0.4719503982
                        ],
                        "passed_time": 0.7799644414,
                        "iteration": 48,
                        "remaining_time": 0.8117997247,
                        "learn": [
                          0.4824783172
                        ]
                      },
                      {
                        "test": [
                          0.4715851064
                        ],
                        "passed_time": 0.8027865619,
                        "iteration": 49,
                        "remaining_time": 0.8027865619,
                        "learn": [
                          0.4818497221
                        ]
                      },
                      {
                        "test": [
                          0.4711308036
                        ],
                        "passed_time": 0.8201795459,
                        "iteration": 50,
                        "remaining_time": 0.7880156421,
                        "learn": [
                          0.481190608
                        ]
                      },
                      {
                        "test": [
                          0.4706122158
                        ],
                        "passed_time": 0.8317628895,
                        "iteration": 51,
                        "remaining_time": 0.7677811287,
                        "learn": [
                          0.4804365457
                        ]
                      },
                      {
                        "test": [
                          0.4701995806
                        ],
                        "passed_time": 0.846878591,
                        "iteration": 52,
                        "remaining_time": 0.751005543,
                        "learn": [
                          0.4796464496
                        ]
                      },
                      {
                        "test": [
                          0.4698738559
                        ],
                        "passed_time": 0.8780567238,
                        "iteration": 53,
                        "remaining_time": 0.7479742462,
                        "learn": [
                          0.4788335007
                        ]
                      },
                      {
                        "test": [
                          0.4696488818
                        ],
                        "passed_time": 0.8928969496,
                        "iteration": 54,
                        "remaining_time": 0.7305520497,
                        "learn": [
                          0.4781743516
                        ]
                      },
                      {
                        "test": [
                          0.4692914091
                        ],
                        "passed_time": 0.9077340825,
                        "iteration": 55,
                        "remaining_time": 0.7132196363,
                        "learn": [
                          0.4776419085
                        ]
                      },
                      {
                        "test": [
                          0.4690329352
                        ],
                        "passed_time": 0.9315940986,
                        "iteration": 56,
                        "remaining_time": 0.702781513,
                        "learn": [
                          0.477134636
                        ]
                      },
                      {
                        "test": [
                          0.4687241384
                        ],
                        "passed_time": 1.005441851,
                        "iteration": 57,
                        "remaining_time": 0.7280785821,
                        "learn": [
                          0.4764643989
                        ]
                      },
                      {
                        "test": [
                          0.4684803654
                        ],
                        "passed_time": 1.025315981,
                        "iteration": 58,
                        "remaining_time": 0.7125077157,
                        "learn": [
                          0.4758423835
                        ]
                      },
                      {
                        "test": [
                          0.468255145
                        ],
                        "passed_time": 1.047918598,
                        "iteration": 59,
                        "remaining_time": 0.6986123989,
                        "learn": [
                          0.4753993362
                        ]
                      },
                      {
                        "test": [
                          0.468056925
                        ],
                        "passed_time": 1.05864458,
                        "iteration": 60,
                        "remaining_time": 0.6768383379,
                        "learn": [
                          0.4749887289
                        ]
                      },
                      {
                        "test": [
                          0.4679622574
                        ],
                        "passed_time": 1.062236742,
                        "iteration": 61,
                        "remaining_time": 0.6510483258,
                        "learn": [
                          0.4747399891
                        ]
                      },
                      {
                        "test": [
                          0.467681855
                        ],
                        "passed_time": 1.090419696,
                        "iteration": 62,
                        "remaining_time": 0.6404052184,
                        "learn": [
                          0.4743144738
                        ]
                      },
                      {
                        "test": [
                          0.467561181
                        ],
                        "passed_time": 1.111288222,
                        "iteration": 63,
                        "remaining_time": 0.6250996247,
                        "learn": [
                          0.4738592079
                        ]
                      },
                      {
                        "test": [
                          0.4674315515
                        ],
                        "passed_time": 1.118066388,
                        "iteration": 64,
                        "remaining_time": 0.6020357476,
                        "learn": [
                          0.4735618703
                        ]
                      },
                      {
                        "test": [
                          0.4673964067
                        ],
                        "passed_time": 1.134819862,
                        "iteration": 65,
                        "remaining_time": 0.5846041711,
                        "learn": [
                          0.4732821222
                        ]
                      },
                      {
                        "test": [
                          0.4670688506
                        ],
                        "passed_time": 1.232512936,
                        "iteration": 66,
                        "remaining_time": 0.6070586103,
                        "learn": [
                          0.4727268945
                        ]
                      },
                      {
                        "test": [
                          0.4669222411
                        ],
                        "passed_time": 1.240919216,
                        "iteration": 67,
                        "remaining_time": 0.5839619839,
                        "learn": [
                          0.4724232395
                        ]
                      },
                      {
                        "test": [
                          0.4666718082
                        ],
                        "passed_time": 1.323179185,
                        "iteration": 68,
                        "remaining_time": 0.5944718078,
                        "learn": [
                          0.4720268626
                        ]
                      },
                      {
                        "test": [
                          0.4666169967
                        ],
                        "passed_time": 1.350075931,
                        "iteration": 69,
                        "remaining_time": 0.5786039706,
                        "learn": [
                          0.4718207229
                        ]
                      },
                      {
                        "test": [
                          0.4664442145
                        ],
                        "passed_time": 1.377988576,
                        "iteration": 70,
                        "remaining_time": 0.5628404042,
                        "learn": [
                          0.4715085038
                        ]
                      },
                      {
                        "test": [
                          0.4663490529
                        ],
                        "passed_time": 1.399855669,
                        "iteration": 71,
                        "remaining_time": 0.5443883156,
                        "learn": [
                          0.4712562366
                        ]
                      },
                      {
                        "test": [
                          0.4662368926
                        ],
                        "passed_time": 1.409357583,
                        "iteration": 72,
                        "remaining_time": 0.5212692431,
                        "learn": [
                          0.4710254543
                        ]
                      },
                      {
                        "test": [
                          0.4661048454
                        ],
                        "passed_time": 1.424818998,
                        "iteration": 73,
                        "remaining_time": 0.5006120804,
                        "learn": [
                          0.4708388253
                        ]
                      },
                      {
                        "test": [
                          0.4660123721
                        ],
                        "passed_time": 1.437047886,
                        "iteration": 74,
                        "remaining_time": 0.479015962,
                        "learn": [
                          0.4706275736
                        ]
                      },
                      {
                        "test": [
                          0.4659427762
                        ],
                        "passed_time": 1.446124901,
                        "iteration": 75,
                        "remaining_time": 0.4566710212,
                        "learn": [
                          0.4704467335
                        ]
                      },
                      {
                        "test": [
                          0.4659030952
                        ],
                        "passed_time": 1.45493929,
                        "iteration": 76,
                        "remaining_time": 0.4345922555,
                        "learn": [
                          0.4701657139
                        ]
                      },
                      {
                        "test": [
                          0.4658937308
                        ],
                        "passed_time": 1.462117283,
                        "iteration": 77,
                        "remaining_time": 0.4123920542,
                        "learn": [
                          0.4700231661
                        ]
                      },
                      {
                        "test": [
                          0.4657649995
                        ],
                        "passed_time": 1.486712537,
                        "iteration": 78,
                        "remaining_time": 0.3952020669,
                        "learn": [
                          0.4698102257
                        ]
                      },
                      {
                        "test": [
                          0.4658166235
                        ],
                        "passed_time": 1.501660657,
                        "iteration": 79,
                        "remaining_time": 0.3754151643,
                        "learn": [
                          0.4697065434
                        ]
                      },
                      {
                        "test": [
                          0.465645438
                        ],
                        "passed_time": 1.564716794,
                        "iteration": 80,
                        "remaining_time": 0.3670323345,
                        "learn": [
                          0.4694059121
                        ]
                      },
                      {
                        "test": [
                          0.465500312
                        ],
                        "passed_time": 1.645999711,
                        "iteration": 81,
                        "remaining_time": 0.3613170098,
                        "learn": [
                          0.4691727045
                        ]
                      },
                      {
                        "test": [
                          0.4654518675
                        ],
                        "passed_time": 1.65459393,
                        "iteration": 82,
                        "remaining_time": 0.3388927327,
                        "learn": [
                          0.4690607486
                        ]
                      },
                      {
                        "test": [
                          0.4654437652
                        ],
                        "passed_time": 1.665428453,
                        "iteration": 83,
                        "remaining_time": 0.3172244671,
                        "learn": [
                          0.4688485473
                        ]
                      },
                      {
                        "test": [
                          0.4654050599
                        ],
                        "passed_time": 1.680556678,
                        "iteration": 84,
                        "remaining_time": 0.2965688255,
                        "learn": [
                          0.4686906527
                        ]
                      },
                      {
                        "test": [
                          0.4654111554
                        ],
                        "passed_time": 1.685422509,
                        "iteration": 85,
                        "remaining_time": 0.2743711061,
                        "learn": [
                          0.4685996267
                        ]
                      },
                      {
                        "test": [
                          0.4653867228
                        ],
                        "passed_time": 1.731108567,
                        "iteration": 86,
                        "remaining_time": 0.2586713951,
                        "learn": [
                          0.4683482032
                        ]
                      },
                      {
                        "test": [
                          0.4653513861
                        ],
                        "passed_time": 1.772863334,
                        "iteration": 87,
                        "remaining_time": 0.241754091,
                        "learn": [
                          0.4681253328
                        ]
                      },
                      {
                        "test": [
                          0.4652378266
                        ],
                        "passed_time": 1.848905627,
                        "iteration": 88,
                        "remaining_time": 0.2285164258,
                        "learn": [
                          0.4679496974
                        ]
                      },
                      {
                        "test": [
                          0.4652089933
                        ],
                        "passed_time": 1.866623204,
                        "iteration": 89,
                        "remaining_time": 0.2074025782,
                        "learn": [
                          0.4678178013
                        ]
                      },
                      {
                        "test": [
                          0.4651301268
                        ],
                        "passed_time": 1.91246744,
                        "iteration": 90,
                        "remaining_time": 0.1891451314,
                        "learn": [
                          0.4675939797
                        ]
                      },
                      {
                        "test": [
                          0.4651259896
                        ],
                        "passed_time": 1.954332309,
                        "iteration": 91,
                        "remaining_time": 0.1699419399,
                        "learn": [
                          0.4674482523
                        ]
                      },
                      {
                        "test": [
                          0.4650967553
                        ],
                        "passed_time": 1.961846741,
                        "iteration": 92,
                        "remaining_time": 0.1476658837,
                        "learn": [
                          0.4673740594
                        ]
                      },
                      {
                        "test": [
                          0.4650991068
                        ],
                        "passed_time": 2.006682426,
                        "iteration": 93,
                        "remaining_time": 0.1280861123,
                        "learn": [
                          0.4670824123
                        ]
                      },
                      {
                        "test": [
                          0.465122921
                        ],
                        "passed_time": 2.014514411,
                        "iteration": 94,
                        "remaining_time": 0.1060270743,
                        "learn": [
                          0.4670486783
                        ]
                      },
                      {
                        "test": [
                          0.4651308207
                        ],
                        "passed_time": 2.024208494,
                        "iteration": 95,
                        "remaining_time": 0.08434202057,
                        "learn": [
                          0.4669256591
                        ]
                      },
                      {
                        "test": [
                          0.4651238649
                        ],
                        "passed_time": 2.027121059,
                        "iteration": 96,
                        "remaining_time": 0.06269446576,
                        "learn": [
                          0.4668675571
                        ]
                      },
                      {
                        "test": [
                          0.4650991826
                        ],
                        "passed_time": 2.083164043,
                        "iteration": 97,
                        "remaining_time": 0.04251355189,
                        "learn": [
                          0.4666766773
                        ]
                      },
                      {
                        "test": [
                          0.4651352637
                        ],
                        "passed_time": 2.094895482,
                        "iteration": 98,
                        "remaining_time": 0.02116056042,
                        "learn": [
                          0.4665762881
                        ]
                      },
                      {
                        "test": [
                          0.4650938038
                        ],
                        "passed_time": 2.103908193,
                        "iteration": 99,
                        "remaining_time": 0,
                        "learn": [
                          0.4664871895
                        ]
                      }
                    ]
                  },
                  "total_iterations": 100,
                  "passed_iterations": 99
                },
                "path": "catboost_info/fold-8",
                "name": "fold-8"
              },
              "catboost_info/fold-5": {
                "content": {
                  "data": {
                    "meta": {
                      "name": "experiment",
                      "parameters": "",
                      "test_metrics": [
                        {
                          "best_value": "Min",
                          "name": "RMSE"
                        }
                      ],
                      "learn_sets": [
                        "learn"
                      ],
                      "launch_mode": "Train",
                      "learn_metrics": [
                        {
                          "best_value": "Min",
                          "name": "RMSE"
                        }
                      ],
                      "iteration_count": 100,
                      "test_sets": [
                        "test"
                      ]
                    },
                    "iterations": [
                      {
                        "test": [
                          0.6130279139
                        ],
                        "passed_time": 0.03801976057,
                        "iteration": 0,
                        "remaining_time": 3.763956296,
                        "learn": [
                          0.6261649377
                        ]
                      },
                      {
                        "test": [
                          0.6052808739
                        ],
                        "passed_time": 0.1305795871,
                        "iteration": 1,
                        "remaining_time": 6.398399769,
                        "learn": [
                          0.6184754371
                        ]
                      },
                      {
                        "test": [
                          0.5982137031
                        ],
                        "passed_time": 0.1423010775,
                        "iteration": 2,
                        "remaining_time": 4.601068171,
                        "learn": [
                          0.611318208
                        ]
                      },
                      {
                        "test": [
                          0.5914226721
                        ],
                        "passed_time": 0.237434347,
                        "iteration": 3,
                        "remaining_time": 5.698424328,
                        "learn": [
                          0.6042955673
                        ]
                      },
                      {
                        "test": [
                          0.5842961038
                        ],
                        "passed_time": 0.3344473688,
                        "iteration": 4,
                        "remaining_time": 6.354500007,
                        "learn": [
                          0.5972020088
                        ]
                      },
                      {
                        "test": [
                          0.5780324026
                        ],
                        "passed_time": 0.3425766845,
                        "iteration": 5,
                        "remaining_time": 5.367034723,
                        "learn": [
                          0.5910217912
                        ]
                      },
                      {
                        "test": [
                          0.5725009506
                        ],
                        "passed_time": 0.4355322652,
                        "iteration": 6,
                        "remaining_time": 5.786357237,
                        "learn": [
                          0.5852616704
                        ]
                      },
                      {
                        "test": [
                          0.5671171775
                        ],
                        "passed_time": 0.4409102788,
                        "iteration": 7,
                        "remaining_time": 5.070468206,
                        "learn": [
                          0.5796946492
                        ]
                      },
                      {
                        "test": [
                          0.5617278341
                        ],
                        "passed_time": 0.4518000744,
                        "iteration": 8,
                        "remaining_time": 4.568200752,
                        "learn": [
                          0.5743634954
                        ]
                      },
                      {
                        "test": [
                          0.5569330776
                        ],
                        "passed_time": 0.5571382206,
                        "iteration": 9,
                        "remaining_time": 5.014243986,
                        "learn": [
                          0.5693177978
                        ]
                      },
                      {
                        "test": [
                          0.5519954426
                        ],
                        "passed_time": 0.6050239316,
                        "iteration": 10,
                        "remaining_time": 4.895193629,
                        "learn": [
                          0.5642818315
                        ]
                      },
                      {
                        "test": [
                          0.5476133212
                        ],
                        "passed_time": 0.6102022499,
                        "iteration": 11,
                        "remaining_time": 4.474816499,
                        "learn": [
                          0.5597215649
                        ]
                      },
                      {
                        "test": [
                          0.5427075795
                        ],
                        "passed_time": 0.7231790739,
                        "iteration": 12,
                        "remaining_time": 4.839736879,
                        "learn": [
                          0.5548415634
                        ]
                      },
                      {
                        "test": [
                          0.5379175089
                        ],
                        "passed_time": 0.8609201117,
                        "iteration": 13,
                        "remaining_time": 5.288509258,
                        "learn": [
                          0.550147965
                        ]
                      },
                      {
                        "test": [
                          0.5343542137
                        ],
                        "passed_time": 0.8644226988,
                        "iteration": 14,
                        "remaining_time": 4.898395293,
                        "learn": [
                          0.5464265319
                        ]
                      },
                      {
                        "test": [
                          0.5305167393
                        ],
                        "passed_time": 0.9710310792,
                        "iteration": 15,
                        "remaining_time": 5.097913166,
                        "learn": [
                          0.5424698391
                        ]
                      },
                      {
                        "test": [
                          0.5264806412
                        ],
                        "passed_time": 1.061058722,
                        "iteration": 16,
                        "remaining_time": 5.18046317,
                        "learn": [
                          0.5384499814
                        ]
                      },
                      {
                        "test": [
                          0.5225868755
                        ],
                        "passed_time": 1.0788254,
                        "iteration": 17,
                        "remaining_time": 4.914649045,
                        "learn": [
                          0.5345993059
                        ]
                      },
                      {
                        "test": [
                          0.5190003233
                        ],
                        "passed_time": 1.117867577,
                        "iteration": 18,
                        "remaining_time": 4.765645985,
                        "learn": [
                          0.5310152606
                        ]
                      },
                      {
                        "test": [
                          0.5163054774
                        ],
                        "passed_time": 1.122293483,
                        "iteration": 19,
                        "remaining_time": 4.489173932,
                        "learn": [
                          0.5281653617
                        ]
                      },
                      {
                        "test": [
                          0.5130549226
                        ],
                        "passed_time": 1.225017104,
                        "iteration": 20,
                        "remaining_time": 4.608397678,
                        "learn": [
                          0.5249157515
                        ]
                      },
                      {
                        "test": [
                          0.5098889194
                        ],
                        "passed_time": 1.314747797,
                        "iteration": 21,
                        "remaining_time": 4.661378555,
                        "learn": [
                          0.5218303733
                        ]
                      },
                      {
                        "test": [
                          0.5067755855
                        ],
                        "passed_time": 1.397362697,
                        "iteration": 22,
                        "remaining_time": 4.67812729,
                        "learn": [
                          0.5188095314
                        ]
                      },
                      {
                        "test": [
                          0.5038691116
                        ],
                        "passed_time": 1.494135101,
                        "iteration": 23,
                        "remaining_time": 4.73142782,
                        "learn": [
                          0.5159056395
                        ]
                      },
                      {
                        "test": [
                          0.501846886
                        ],
                        "passed_time": 1.495739199,
                        "iteration": 24,
                        "remaining_time": 4.487217596,
                        "learn": [
                          0.5137450924
                        ]
                      },
                      {
                        "test": [
                          0.4996209808
                        ],
                        "passed_time": 1.515782967,
                        "iteration": 25,
                        "remaining_time": 4.314151522,
                        "learn": [
                          0.5115591282
                        ]
                      },
                      {
                        "test": [
                          0.4972791334
                        ],
                        "passed_time": 1.537157114,
                        "iteration": 26,
                        "remaining_time": 4.156017382,
                        "learn": [
                          0.5091818509
                        ]
                      },
                      {
                        "test": [
                          0.4950265556
                        ],
                        "passed_time": 1.71363974,
                        "iteration": 27,
                        "remaining_time": 4.40650219,
                        "learn": [
                          0.506933121
                        ]
                      },
                      {
                        "test": [
                          0.4928755183
                        ],
                        "passed_time": 1.844859336,
                        "iteration": 28,
                        "remaining_time": 4.516724582,
                        "learn": [
                          0.5048340281
                        ]
                      },
                      {
                        "test": [
                          0.4911238189
                        ],
                        "passed_time": 1.959802121,
                        "iteration": 29,
                        "remaining_time": 4.572871616,
                        "learn": [
                          0.5029606737
                        ]
                      },
                      {
                        "test": [
                          0.4894290588
                        ],
                        "passed_time": 2.011066726,
                        "iteration": 30,
                        "remaining_time": 4.476245293,
                        "learn": [
                          0.501141065
                        ]
                      },
                      {
                        "test": [
                          0.4874768587
                        ],
                        "passed_time": 2.104339912,
                        "iteration": 31,
                        "remaining_time": 4.471722313,
                        "learn": [
                          0.4992181322
                        ]
                      },
                      {
                        "test": [
                          0.486114112
                        ],
                        "passed_time": 2.110126135,
                        "iteration": 32,
                        "remaining_time": 4.284195486,
                        "learn": [
                          0.4977204172
                        ]
                      },
                      {
                        "test": [
                          0.484439065
                        ],
                        "passed_time": 2.208375436,
                        "iteration": 33,
                        "remaining_time": 4.286846435,
                        "learn": [
                          0.4960216985
                        ]
                      },
                      {
                        "test": [
                          0.4831556793
                        ],
                        "passed_time": 2.252221942,
                        "iteration": 34,
                        "remaining_time": 4.182697892,
                        "learn": [
                          0.4946124927
                        ]
                      },
                      {
                        "test": [
                          0.4820740233
                        ],
                        "passed_time": 2.308085906,
                        "iteration": 35,
                        "remaining_time": 4.103263832,
                        "learn": [
                          0.493371243
                        ]
                      },
                      {
                        "test": [
                          0.4808272111
                        ],
                        "passed_time": 2.316847869,
                        "iteration": 36,
                        "remaining_time": 3.944903129,
                        "learn": [
                          0.4920615386
                        ]
                      },
                      {
                        "test": [
                          0.4794077329
                        ],
                        "passed_time": 2.345146312,
                        "iteration": 37,
                        "remaining_time": 3.826291351,
                        "learn": [
                          0.4906023551
                        ]
                      },
                      {
                        "test": [
                          0.4780470159
                        ],
                        "passed_time": 2.434674362,
                        "iteration": 38,
                        "remaining_time": 3.808080412,
                        "learn": [
                          0.4892221601
                        ]
                      },
                      {
                        "test": [
                          0.4770877144
                        ],
                        "passed_time": 2.442264831,
                        "iteration": 39,
                        "remaining_time": 3.663397246,
                        "learn": [
                          0.4882212618
                        ]
                      },
                      {
                        "test": [
                          0.4762101086
                        ],
                        "passed_time": 2.470997222,
                        "iteration": 40,
                        "remaining_time": 3.55582527,
                        "learn": [
                          0.4872138056
                        ]
                      },
                      {
                        "test": [
                          0.4754171945
                        ],
                        "passed_time": 2.480194724,
                        "iteration": 41,
                        "remaining_time": 3.425030809,
                        "learn": [
                          0.4863076683
                        ]
                      },
                      {
                        "test": [
                          0.474644133
                        ],
                        "passed_time": 2.488315808,
                        "iteration": 42,
                        "remaining_time": 3.298465141,
                        "learn": [
                          0.4854660275
                        ]
                      },
                      {
                        "test": [
                          0.4738739549
                        ],
                        "passed_time": 2.501883486,
                        "iteration": 43,
                        "remaining_time": 3.184215346,
                        "learn": [
                          0.4846563794
                        ]
                      },
                      {
                        "test": [
                          0.4732829452
                        ],
                        "passed_time": 2.507827834,
                        "iteration": 44,
                        "remaining_time": 3.065122908,
                        "learn": [
                          0.4839751301
                        ]
                      },
                      {
                        "test": [
                          0.4726629919
                        ],
                        "passed_time": 2.513804039,
                        "iteration": 45,
                        "remaining_time": 2.95098735,
                        "learn": [
                          0.483263373
                        ]
                      },
                      {
                        "test": [
                          0.4720748342
                        ],
                        "passed_time": 2.516571165,
                        "iteration": 46,
                        "remaining_time": 2.837835569,
                        "learn": [
                          0.4825791817
                        ]
                      },
                      {
                        "test": [
                          0.4711885785
                        ],
                        "passed_time": 2.54265431,
                        "iteration": 47,
                        "remaining_time": 2.754542169,
                        "learn": [
                          0.4816918828
                        ]
                      },
                      {
                        "test": [
                          0.4702256716
                        ],
                        "passed_time": 2.634995716,
                        "iteration": 48,
                        "remaining_time": 2.742546561,
                        "learn": [
                          0.480742537
                        ]
                      },
                      {
                        "test": [
                          0.4697951346
                        ],
                        "passed_time": 2.642862323,
                        "iteration": 49,
                        "remaining_time": 2.642862323,
                        "learn": [
                          0.480221403
                        ]
                      },
                      {
                        "test": [
                          0.4692443795
                        ],
                        "passed_time": 2.788741557,
                        "iteration": 50,
                        "remaining_time": 2.679379143,
                        "learn": [
                          0.4795919215
                        ]
                      },
                      {
                        "test": [
                          0.4688474907
                        ],
                        "passed_time": 2.802585198,
                        "iteration": 51,
                        "remaining_time": 2.587001721,
                        "learn": [
                          0.4791318444
                        ]
                      },
                      {
                        "test": [
                          0.4680798691
                        ],
                        "passed_time": 2.911814968,
                        "iteration": 52,
                        "remaining_time": 2.582175537,
                        "learn": [
                          0.4783993715
                        ]
                      },
                      {
                        "test": [
                          0.4675407905
                        ],
                        "passed_time": 2.923859448,
                        "iteration": 53,
                        "remaining_time": 2.490695086,
                        "learn": [
                          0.4778146428
                        ]
                      },
                      {
                        "test": [
                          0.4670723597
                        ],
                        "passed_time": 2.962884962,
                        "iteration": 54,
                        "remaining_time": 2.424178605,
                        "learn": [
                          0.4772888625
                        ]
                      },
                      {
                        "test": [
                          0.4665418461
                        ],
                        "passed_time": 3.016465267,
                        "iteration": 55,
                        "remaining_time": 2.370079852,
                        "learn": [
                          0.4767347832
                        ]
                      },
                      {
                        "test": [
                          0.4659476301
                        ],
                        "passed_time": 3.09180669,
                        "iteration": 56,
                        "remaining_time": 2.332415573,
                        "learn": [
                          0.4761272574
                        ]
                      },
                      {
                        "test": [
                          0.4653325963
                        ],
                        "passed_time": 3.225918415,
                        "iteration": 57,
                        "remaining_time": 2.336009887,
                        "learn": [
                          0.4755074204
                        ]
                      },
                      {
                        "test": [
                          0.4650791272
                        ],
                        "passed_time": 3.235193737,
                        "iteration": 58,
                        "remaining_time": 2.248185478,
                        "learn": [
                          0.4752013726
                        ]
                      },
                      {
                        "test": [
                          0.4648625664
                        ],
                        "passed_time": 3.236849368,
                        "iteration": 59,
                        "remaining_time": 2.157899579,
                        "learn": [
                          0.4749223235
                        ]
                      },
                      {
                        "test": [
                          0.4643434937
                        ],
                        "passed_time": 3.286221735,
                        "iteration": 60,
                        "remaining_time": 2.101027011,
                        "learn": [
                          0.4744451743
                        ]
                      },
                      {
                        "test": [
                          0.4637508664
                        ],
                        "passed_time": 3.378638957,
                        "iteration": 61,
                        "remaining_time": 2.070778716,
                        "learn": [
                          0.4738888942
                        ]
                      },
                      {
                        "test": [
                          0.4633274763
                        ],
                        "passed_time": 3.472925031,
                        "iteration": 62,
                        "remaining_time": 2.039654383,
                        "learn": [
                          0.473473479
                        ]
                      },
                      {
                        "test": [
                          0.4626999992
                        ],
                        "passed_time": 3.559460657,
                        "iteration": 63,
                        "remaining_time": 2.002196619,
                        "learn": [
                          0.4729100397
                        ]
                      },
                      {
                        "test": [
                          0.4623510117
                        ],
                        "passed_time": 3.670534214,
                        "iteration": 64,
                        "remaining_time": 1.9764415,
                        "learn": [
                          0.4725497004
                        ]
                      },
                      {
                        "test": [
                          0.4618814215
                        ],
                        "passed_time": 3.782836189,
                        "iteration": 65,
                        "remaining_time": 1.948733794,
                        "learn": [
                          0.4721195574
                        ]
                      },
                      {
                        "test": [
                          0.4615581045
                        ],
                        "passed_time": 3.877684708,
                        "iteration": 66,
                        "remaining_time": 1.909904408,
                        "learn": [
                          0.4718050013
                        ]
                      },
                      {
                        "test": [
                          0.4611930653
                        ],
                        "passed_time": 3.982827376,
                        "iteration": 67,
                        "remaining_time": 1.874271706,
                        "learn": [
                          0.4714450099
                        ]
                      },
                      {
                        "test": [
                          0.4607768531
                        ],
                        "passed_time": 4.158519601,
                        "iteration": 68,
                        "remaining_time": 1.868320401,
                        "learn": [
                          0.471094803
                        ]
                      },
                      {
                        "test": [
                          0.4606267203
                        ],
                        "passed_time": 4.167068152,
                        "iteration": 69,
                        "remaining_time": 1.785886351,
                        "learn": [
                          0.4709005031
                        ]
                      },
                      {
                        "test": [
                          0.4603152608
                        ],
                        "passed_time": 4.287319086,
                        "iteration": 70,
                        "remaining_time": 1.7511585,
                        "learn": [
                          0.4705642834
                        ]
                      },
                      {
                        "test": [
                          0.4601745523
                        ],
                        "passed_time": 4.293397806,
                        "iteration": 71,
                        "remaining_time": 1.669654702,
                        "learn": [
                          0.4703932297
                        ]
                      },
                      {
                        "test": [
                          0.4600891297
                        ],
                        "passed_time": 4.299449912,
                        "iteration": 72,
                        "remaining_time": 1.590207502,
                        "learn": [
                          0.4702651223
                        ]
                      },
                      {
                        "test": [
                          0.4597868644
                        ],
                        "passed_time": 4.310373213,
                        "iteration": 73,
                        "remaining_time": 1.514455453,
                        "learn": [
                          0.470004983
                        ]
                      },
                      {
                        "test": [
                          0.4595423583
                        ],
                        "passed_time": 4.327358929,
                        "iteration": 74,
                        "remaining_time": 1.442452976,
                        "learn": [
                          0.4698162562
                        ]
                      },
                      {
                        "test": [
                          0.4591461372
                        ],
                        "passed_time": 4.42307049,
                        "iteration": 75,
                        "remaining_time": 1.396759102,
                        "learn": [
                          0.4695086454
                        ]
                      },
                      {
                        "test": [
                          0.4588965344
                        ],
                        "passed_time": 4.515774838,
                        "iteration": 76,
                        "remaining_time": 1.348867809,
                        "learn": [
                          0.4692770062
                        ]
                      },
                      {
                        "test": [
                          0.4586225427
                        ],
                        "passed_time": 4.612035899,
                        "iteration": 77,
                        "remaining_time": 1.300830638,
                        "learn": [
                          0.4690020489
                        ]
                      },
                      {
                        "test": [
                          0.4583935846
                        ],
                        "passed_time": 4.65040843,
                        "iteration": 78,
                        "remaining_time": 1.236184519,
                        "learn": [
                          0.4687845093
                        ]
                      },
                      {
                        "test": [
                          0.458118395
                        ],
                        "passed_time": 4.780896847,
                        "iteration": 79,
                        "remaining_time": 1.195224212,
                        "learn": [
                          0.4684780304
                        ]
                      },
                      {
                        "test": [
                          0.4580239944
                        ],
                        "passed_time": 4.796457094,
                        "iteration": 80,
                        "remaining_time": 1.125094874,
                        "learn": [
                          0.4683539798
                        ]
                      },
                      {
                        "test": [
                          0.4579192326
                        ],
                        "passed_time": 4.803856666,
                        "iteration": 81,
                        "remaining_time": 1.054505122,
                        "learn": [
                          0.4682505116
                        ]
                      },
                      {
                        "test": [
                          0.4578807244
                        ],
                        "passed_time": 4.808155204,
                        "iteration": 82,
                        "remaining_time": 0.9848028731,
                        "learn": [
                          0.4681797775
                        ]
                      },
                      {
                        "test": [
                          0.4577002933
                        ],
                        "passed_time": 4.931103772,
                        "iteration": 83,
                        "remaining_time": 0.9392578612,
                        "learn": [
                          0.467989144
                        ]
                      },
                      {
                        "test": [
                          0.4576558049
                        ],
                        "passed_time": 4.948137542,
                        "iteration": 84,
                        "remaining_time": 0.8732007427,
                        "learn": [
                          0.4678860716
                        ]
                      },
                      {
                        "test": [
                          0.4575330815
                        ],
                        "passed_time": 5.046219488,
                        "iteration": 85,
                        "remaining_time": 0.821477591,
                        "learn": [
                          0.4677205788
                        ]
                      },
                      {
                        "test": [
                          0.4573468346
                        ],
                        "passed_time": 5.13893545,
                        "iteration": 86,
                        "remaining_time": 0.7678869063,
                        "learn": [
                          0.4675343771
                        ]
                      },
                      {
                        "test": [
                          0.4572071806
                        ],
                        "passed_time": 5.268448474,
                        "iteration": 87,
                        "remaining_time": 0.7184247919,
                        "learn": [
                          0.4673727969
                        ]
                      },
                      {
                        "test": [
                          0.4570611384
                        ],
                        "passed_time": 5.335022361,
                        "iteration": 88,
                        "remaining_time": 0.6593847862,
                        "learn": [
                          0.4671973007
                        ]
                      },
                      {
                        "test": [
                          0.4568531858
                        ],
                        "passed_time": 5.465894077,
                        "iteration": 89,
                        "remaining_time": 0.6073215641,
                        "learn": [
                          0.466952541
                        ]
                      },
                      {
                        "test": [
                          0.4567977747
                        ],
                        "passed_time": 5.476652297,
                        "iteration": 90,
                        "remaining_time": 0.5416469305,
                        "learn": [
                          0.4668460632
                        ]
                      },
                      {
                        "test": [
                          0.4566391989
                        ],
                        "passed_time": 5.595827908,
                        "iteration": 91,
                        "remaining_time": 0.4865937311,
                        "learn": [
                          0.4667195647
                        ]
                      },
                      {
                        "test": [
                          0.4565132476
                        ],
                        "passed_time": 5.715349757,
                        "iteration": 92,
                        "remaining_time": 0.4301876161,
                        "learn": [
                          0.4665779839
                        ]
                      },
                      {
                        "test": [
                          0.456499824
                        ],
                        "passed_time": 5.721452097,
                        "iteration": 93,
                        "remaining_time": 0.36519907,
                        "learn": [
                          0.4665415518
                        ]
                      },
                      {
                        "test": [
                          0.4563633457
                        ],
                        "passed_time": 5.768981131,
                        "iteration": 94,
                        "remaining_time": 0.3036305858,
                        "learn": [
                          0.4664660835
                        ]
                      },
                      {
                        "test": [
                          0.4563061444
                        ],
                        "passed_time": 5.796000598,
                        "iteration": 95,
                        "remaining_time": 0.2415000249,
                        "learn": [
                          0.4663911397
                        ]
                      },
                      {
                        "test": [
                          0.4560582987
                        ],
                        "passed_time": 5.813864237,
                        "iteration": 96,
                        "remaining_time": 0.1798102341,
                        "learn": [
                          0.4662479067
                        ]
                      },
                      {
                        "test": [
                          0.4560498059
                        ],
                        "passed_time": 5.822508218,
                        "iteration": 97,
                        "remaining_time": 0.1188266983,
                        "learn": [
                          0.4661613458
                        ]
                      },
                      {
                        "test": [
                          0.4558857848
                        ],
                        "passed_time": 5.912537233,
                        "iteration": 98,
                        "remaining_time": 0.05972259831,
                        "learn": [
                          0.4659773619
                        ]
                      },
                      {
                        "test": [
                          0.4557904244
                        ],
                        "passed_time": 5.934763557,
                        "iteration": 99,
                        "remaining_time": 0,
                        "learn": [
                          0.4658758466
                        ]
                      }
                    ]
                  },
                  "total_iterations": 100,
                  "passed_iterations": 99
                },
                "path": "catboost_info/fold-5",
                "name": "fold-5"
              },
              "catboost_info/fold-4": {
                "content": {
                  "data": {
                    "meta": {
                      "name": "experiment",
                      "parameters": "",
                      "test_metrics": [
                        {
                          "best_value": "Min",
                          "name": "RMSE"
                        }
                      ],
                      "learn_sets": [
                        "learn"
                      ],
                      "launch_mode": "Train",
                      "learn_metrics": [
                        {
                          "best_value": "Min",
                          "name": "RMSE"
                        }
                      ],
                      "iteration_count": 100,
                      "test_sets": [
                        "test"
                      ]
                    },
                    "iterations": [
                      {
                        "test": [
                          0.6207447332
                        ],
                        "passed_time": 0.01543262379,
                        "iteration": 0,
                        "remaining_time": 1.527829755,
                        "learn": [
                          0.6252763716
                        ]
                      },
                      {
                        "test": [
                          0.6132107475
                        ],
                        "passed_time": 0.02587953063,
                        "iteration": 1,
                        "remaining_time": 1.268097001,
                        "learn": [
                          0.6176049259
                        ]
                      },
                      {
                        "test": [
                          0.606238389
                        ],
                        "passed_time": 0.03183382766,
                        "iteration": 2,
                        "remaining_time": 1.029293761,
                        "learn": [
                          0.610456526
                        ]
                      },
                      {
                        "test": [
                          0.598776181
                        ],
                        "passed_time": 0.08573847086,
                        "iteration": 3,
                        "remaining_time": 2.057723301,
                        "learn": [
                          0.6030430081
                        ]
                      },
                      {
                        "test": [
                          0.5922437989
                        ],
                        "passed_time": 0.1405545526,
                        "iteration": 4,
                        "remaining_time": 2.670536499,
                        "learn": [
                          0.5965313536
                        ]
                      },
                      {
                        "test": [
                          0.5860565183
                        ],
                        "passed_time": 0.1492479755,
                        "iteration": 5,
                        "remaining_time": 2.338218283,
                        "learn": [
                          0.5902149507
                        ]
                      },
                      {
                        "test": [
                          0.5803501974
                        ],
                        "passed_time": 0.1538648567,
                        "iteration": 6,
                        "remaining_time": 2.044204525,
                        "learn": [
                          0.5843393841
                        ]
                      },
                      {
                        "test": [
                          0.574858052
                        ],
                        "passed_time": 0.2096045414,
                        "iteration": 7,
                        "remaining_time": 2.410452226,
                        "learn": [
                          0.5788260485
                        ]
                      },
                      {
                        "test": [
                          0.5696941163
                        ],
                        "passed_time": 0.2257183279,
                        "iteration": 8,
                        "remaining_time": 2.282263093,
                        "learn": [
                          0.5735013803
                        ]
                      },
                      {
                        "test": [
                          0.5641129813
                        ],
                        "passed_time": 0.2540971253,
                        "iteration": 9,
                        "remaining_time": 2.286874128,
                        "learn": [
                          0.5678956975
                        ]
                      },
                      {
                        "test": [
                          0.558762523
                        ],
                        "passed_time": 0.3093868067,
                        "iteration": 10,
                        "remaining_time": 2.503220527,
                        "learn": [
                          0.5625423391
                        ]
                      },
                      {
                        "test": [
                          0.5537907571
                        ],
                        "passed_time": 0.3255549487,
                        "iteration": 11,
                        "remaining_time": 2.387402957,
                        "learn": [
                          0.5575394629
                        ]
                      },
                      {
                        "test": [
                          0.5496049433
                        ],
                        "passed_time": 0.3626346486,
                        "iteration": 12,
                        "remaining_time": 2.426862648,
                        "learn": [
                          0.553209803
                        ]
                      },
                      {
                        "test": [
                          0.5449731716
                        ],
                        "passed_time": 0.4111502139,
                        "iteration": 13,
                        "remaining_time": 2.525637028,
                        "learn": [
                          0.5486030921
                        ]
                      },
                      {
                        "test": [
                          0.541327487
                        ],
                        "passed_time": 0.4134010997,
                        "iteration": 14,
                        "remaining_time": 2.342606232,
                        "learn": [
                          0.5448890785
                        ]
                      },
                      {
                        "test": [
                          0.5378763907
                        ],
                        "passed_time": 0.4165896502,
                        "iteration": 15,
                        "remaining_time": 2.187095664,
                        "learn": [
                          0.5413702571
                        ]
                      },
                      {
                        "test": [
                          0.5339746573
                        ],
                        "passed_time": 0.4454439619,
                        "iteration": 16,
                        "remaining_time": 2.174814638,
                        "learn": [
                          0.5374264439
                        ]
                      },
                      {
                        "test": [
                          0.5308759565
                        ],
                        "passed_time": 0.4484856311,
                        "iteration": 17,
                        "remaining_time": 2.043101208,
                        "learn": [
                          0.5342643466
                        ]
                      },
                      {
                        "test": [
                          0.5271835802
                        ],
                        "passed_time": 0.5117666368,
                        "iteration": 18,
                        "remaining_time": 2.181741978,
                        "learn": [
                          0.530573798
                        ]
                      },
                      {
                        "test": [
                          0.5241919522
                        ],
                        "passed_time": 0.5364170421,
                        "iteration": 19,
                        "remaining_time": 2.145668168,
                        "learn": [
                          0.5275670639
                        ]
                      },
                      {
                        "test": [
                          0.5210092048
                        ],
                        "passed_time": 0.5470428567,
                        "iteration": 20,
                        "remaining_time": 2.057923128,
                        "learn": [
                          0.5243358779
                        ]
                      },
                      {
                        "test": [
                          0.5180727422
                        ],
                        "passed_time": 0.5989310937,
                        "iteration": 21,
                        "remaining_time": 2.123482969,
                        "learn": [
                          0.5214080728
                        ]
                      },
                      {
                        "test": [
                          0.5155717329
                        ],
                        "passed_time": 0.6285651513,
                        "iteration": 22,
                        "remaining_time": 2.104326811,
                        "learn": [
                          0.5188512489
                        ]
                      },
                      {
                        "test": [
                          0.5133707277
                        ],
                        "passed_time": 0.6325657472,
                        "iteration": 23,
                        "remaining_time": 2.003124866,
                        "learn": [
                          0.5165819613
                        ]
                      },
                      {
                        "test": [
                          0.5110903832
                        ],
                        "passed_time": 0.6379179316,
                        "iteration": 24,
                        "remaining_time": 1.913753795,
                        "learn": [
                          0.5142855897
                        ]
                      },
                      {
                        "test": [
                          0.5090580641
                        ],
                        "passed_time": 0.6457770446,
                        "iteration": 25,
                        "remaining_time": 1.837980819,
                        "learn": [
                          0.5121850753
                        ]
                      },
                      {
                        "test": [
                          0.5071714891
                        ],
                        "passed_time": 0.662827898,
                        "iteration": 26,
                        "remaining_time": 1.792090243,
                        "learn": [
                          0.5102567224
                        ]
                      },
                      {
                        "test": [
                          0.5048746568
                        ],
                        "passed_time": 0.6803140251,
                        "iteration": 27,
                        "remaining_time": 1.749378922,
                        "learn": [
                          0.5079213788
                        ]
                      },
                      {
                        "test": [
                          0.5030138302
                        ],
                        "passed_time": 0.7083817588,
                        "iteration": 28,
                        "remaining_time": 1.734313961,
                        "learn": [
                          0.505965506
                        ]
                      },
                      {
                        "test": [
                          0.5009825879
                        ],
                        "passed_time": 0.7253839321,
                        "iteration": 29,
                        "remaining_time": 1.692562508,
                        "learn": [
                          0.5038716392
                        ]
                      },
                      {
                        "test": [
                          0.4991689809
                        ],
                        "passed_time": 0.7535334547,
                        "iteration": 30,
                        "remaining_time": 1.677219625,
                        "learn": [
                          0.5020469193
                        ]
                      },
                      {
                        "test": [
                          0.4972429026
                        ],
                        "passed_time": 0.8646010743,
                        "iteration": 31,
                        "remaining_time": 1.837277283,
                        "learn": [
                          0.5001121219
                        ]
                      },
                      {
                        "test": [
                          0.4959252645
                        ],
                        "passed_time": 0.8729411942,
                        "iteration": 32,
                        "remaining_time": 1.772335152,
                        "learn": [
                          0.4987433828
                        ]
                      },
                      {
                        "test": [
                          0.4941887523
                        ],
                        "passed_time": 0.9732752465,
                        "iteration": 33,
                        "remaining_time": 1.889299008,
                        "learn": [
                          0.4969306692
                        ]
                      },
                      {
                        "test": [
                          0.4926241646
                        ],
                        "passed_time": 0.9830211549,
                        "iteration": 34,
                        "remaining_time": 1.825610716,
                        "learn": [
                          0.4952930447
                        ]
                      },
                      {
                        "test": [
                          0.4913288095
                        ],
                        "passed_time": 1.066599746,
                        "iteration": 35,
                        "remaining_time": 1.896177327,
                        "learn": [
                          0.4939877411
                        ]
                      },
                      {
                        "test": [
                          0.4898636621
                        ],
                        "passed_time": 1.113612534,
                        "iteration": 36,
                        "remaining_time": 1.896151071,
                        "learn": [
                          0.4924661648
                        ]
                      },
                      {
                        "test": [
                          0.4885123309
                        ],
                        "passed_time": 1.128330946,
                        "iteration": 37,
                        "remaining_time": 1.840961018,
                        "learn": [
                          0.4910336211
                        ]
                      },
                      {
                        "test": [
                          0.4871698803
                        ],
                        "passed_time": 1.215620813,
                        "iteration": 38,
                        "remaining_time": 1.901355631,
                        "learn": [
                          0.4897030198
                        ]
                      },
                      {
                        "test": [
                          0.4863233262
                        ],
                        "passed_time": 1.219554568,
                        "iteration": 39,
                        "remaining_time": 1.829331851,
                        "learn": [
                          0.4887940911
                        ]
                      },
                      {
                        "test": [
                          0.485128778
                        ],
                        "passed_time": 1.310123615,
                        "iteration": 40,
                        "remaining_time": 1.885299837,
                        "learn": [
                          0.4875298927
                        ]
                      },
                      {
                        "test": [
                          0.4839508717
                        ],
                        "passed_time": 1.43831755,
                        "iteration": 41,
                        "remaining_time": 1.986248045,
                        "learn": [
                          0.4863032625
                        ]
                      },
                      {
                        "test": [
                          0.4830396098
                        ],
                        "passed_time": 1.455349986,
                        "iteration": 42,
                        "remaining_time": 1.929184865,
                        "learn": [
                          0.4853476829
                        ]
                      },
                      {
                        "test": [
                          0.4820945854
                        ],
                        "passed_time": 1.565682105,
                        "iteration": 43,
                        "remaining_time": 1.992686315,
                        "learn": [
                          0.4843207973
                        ]
                      },
                      {
                        "test": [
                          0.4812659346
                        ],
                        "passed_time": 1.575421336,
                        "iteration": 44,
                        "remaining_time": 1.925514967,
                        "learn": [
                          0.4834748439
                        ]
                      },
                      {
                        "test": [
                          0.4804737577
                        ],
                        "passed_time": 1.619259301,
                        "iteration": 45,
                        "remaining_time": 1.900869614,
                        "learn": [
                          0.4826732648
                        ]
                      },
                      {
                        "test": [
                          0.4796872728
                        ],
                        "passed_time": 1.671096453,
                        "iteration": 46,
                        "remaining_time": 1.884427915,
                        "learn": [
                          0.4818102214
                        ]
                      },
                      {
                        "test": [
                          0.4791173732
                        ],
                        "passed_time": 1.686139094,
                        "iteration": 47,
                        "remaining_time": 1.826650685,
                        "learn": [
                          0.4811659773
                        ]
                      },
                      {
                        "test": [
                          0.478235484
                        ],
                        "passed_time": 1.737976989,
                        "iteration": 48,
                        "remaining_time": 1.808914825,
                        "learn": [
                          0.480284599
                        ]
                      },
                      {
                        "test": [
                          0.4775615766
                        ],
                        "passed_time": 1.859235139,
                        "iteration": 49,
                        "remaining_time": 1.859235139,
                        "learn": [
                          0.4795039488
                        ]
                      },
                      {
                        "test": [
                          0.4767910395
                        ],
                        "passed_time": 1.968424342,
                        "iteration": 50,
                        "remaining_time": 1.891231231,
                        "learn": [
                          0.4786846432
                        ]
                      },
                      {
                        "test": [
                          0.4763547161
                        ],
                        "passed_time": 1.983226591,
                        "iteration": 51,
                        "remaining_time": 1.830670699,
                        "learn": [
                          0.4782069228
                        ]
                      },
                      {
                        "test": [
                          0.4757791244
                        ],
                        "passed_time": 2.087896033,
                        "iteration": 52,
                        "remaining_time": 1.851530445,
                        "learn": [
                          0.4776023421
                        ]
                      },
                      {
                        "test": [
                          0.4752332585
                        ],
                        "passed_time": 2.104919598,
                        "iteration": 53,
                        "remaining_time": 1.793079658,
                        "learn": [
                          0.4769904266
                        ]
                      },
                      {
                        "test": [
                          0.474710191
                        ],
                        "passed_time": 2.249818341,
                        "iteration": 54,
                        "remaining_time": 1.840760461,
                        "learn": [
                          0.4764605678
                        ]
                      },
                      {
                        "test": [
                          0.4742379028
                        ],
                        "passed_time": 2.260063897,
                        "iteration": 55,
                        "remaining_time": 1.77576449,
                        "learn": [
                          0.4759274514
                        ]
                      },
                      {
                        "test": [
                          0.4739514765
                        ],
                        "passed_time": 2.276300963,
                        "iteration": 56,
                        "remaining_time": 1.717209498,
                        "learn": [
                          0.4755916815
                        ]
                      },
                      {
                        "test": [
                          0.4734393116
                        ],
                        "passed_time": 2.388184832,
                        "iteration": 57,
                        "remaining_time": 1.729375223,
                        "learn": [
                          0.4750986647
                        ]
                      },
                      {
                        "test": [
                          0.4727568987
                        ],
                        "passed_time": 2.485595024,
                        "iteration": 58,
                        "remaining_time": 1.727277898,
                        "learn": [
                          0.4744378928
                        ]
                      },
                      {
                        "test": [
                          0.4722983097
                        ],
                        "passed_time": 2.548491526,
                        "iteration": 59,
                        "remaining_time": 1.698994351,
                        "learn": [
                          0.473914468
                        ]
                      },
                      {
                        "test": [
                          0.4718903237
                        ],
                        "passed_time": 2.592569771,
                        "iteration": 60,
                        "remaining_time": 1.657544608,
                        "learn": [
                          0.4735147782
                        ]
                      },
                      {
                        "test": [
                          0.4716485405
                        ],
                        "passed_time": 2.605284592,
                        "iteration": 61,
                        "remaining_time": 1.596787331,
                        "learn": [
                          0.4732082637
                        ]
                      },
                      {
                        "test": [
                          0.471300686
                        ],
                        "passed_time": 2.650120239,
                        "iteration": 62,
                        "remaining_time": 1.556419823,
                        "learn": [
                          0.4728325795
                        ]
                      },
                      {
                        "test": [
                          0.4710348613
                        ],
                        "passed_time": 2.661970165,
                        "iteration": 63,
                        "remaining_time": 1.497358218,
                        "learn": [
                          0.4725518291
                        ]
                      },
                      {
                        "test": [
                          0.4706218594
                        ],
                        "passed_time": 2.737181801,
                        "iteration": 64,
                        "remaining_time": 1.473867124,
                        "learn": [
                          0.4721157375
                        ]
                      },
                      {
                        "test": [
                          0.4704517801
                        ],
                        "passed_time": 2.74561887,
                        "iteration": 65,
                        "remaining_time": 1.414409721,
                        "learn": [
                          0.4719153304
                        ]
                      },
                      {
                        "test": [
                          0.4701470947
                        ],
                        "passed_time": 2.837889333,
                        "iteration": 66,
                        "remaining_time": 1.397766388,
                        "learn": [
                          0.4715424562
                        ]
                      },
                      {
                        "test": [
                          0.4699373484
                        ],
                        "passed_time": 2.845609085,
                        "iteration": 67,
                        "remaining_time": 1.339110157,
                        "learn": [
                          0.4713054103
                        ]
                      },
                      {
                        "test": [
                          0.4696118154
                        ],
                        "passed_time": 2.939602392,
                        "iteration": 68,
                        "remaining_time": 1.32069093,
                        "learn": [
                          0.4709792192
                        ]
                      },
                      {
                        "test": [
                          0.4693704244
                        ],
                        "passed_time": 2.984994121,
                        "iteration": 69,
                        "remaining_time": 1.279283195,
                        "learn": [
                          0.4706827391
                        ]
                      },
                      {
                        "test": [
                          0.4691084308
                        ],
                        "passed_time": 3.083648951,
                        "iteration": 70,
                        "remaining_time": 1.259518586,
                        "learn": [
                          0.4703716983
                        ]
                      },
                      {
                        "test": [
                          0.4686774139
                        ],
                        "passed_time": 3.157374821,
                        "iteration": 71,
                        "remaining_time": 1.227867986,
                        "learn": [
                          0.4699211032
                        ]
                      },
                      {
                        "test": [
                          0.4682989992
                        ],
                        "passed_time": 3.237211708,
                        "iteration": 72,
                        "remaining_time": 1.197324878,
                        "learn": [
                          0.4695834053
                        ]
                      },
                      {
                        "test": [
                          0.4680095275
                        ],
                        "passed_time": 3.36679825,
                        "iteration": 73,
                        "remaining_time": 1.182929115,
                        "learn": [
                          0.4692963591
                        ]
                      },
                      {
                        "test": [
                          0.4677936602
                        ],
                        "passed_time": 3.389828017,
                        "iteration": 74,
                        "remaining_time": 1.129942672,
                        "learn": [
                          0.4690437695
                        ]
                      },
                      {
                        "test": [
                          0.4676450011
                        ],
                        "passed_time": 3.425815419,
                        "iteration": 75,
                        "remaining_time": 1.081836448,
                        "learn": [
                          0.4688844095
                        ]
                      },
                      {
                        "test": [
                          0.4674400263
                        ],
                        "passed_time": 3.594183755,
                        "iteration": 76,
                        "remaining_time": 1.073587355,
                        "learn": [
                          0.468651357
                        ]
                      },
                      {
                        "test": [
                          0.4672658979
                        ],
                        "passed_time": 3.68010162,
                        "iteration": 77,
                        "remaining_time": 1.03797738,
                        "learn": [
                          0.4684370298
                        ]
                      },
                      {
                        "test": [
                          0.4670286018
                        ],
                        "passed_time": 3.768593403,
                        "iteration": 78,
                        "remaining_time": 1.001777993,
                        "learn": [
                          0.468248706
                        ]
                      },
                      {
                        "test": [
                          0.4668640059
                        ],
                        "passed_time": 3.833939929,
                        "iteration": 79,
                        "remaining_time": 0.9584849822,
                        "learn": [
                          0.4680886928
                        ]
                      },
                      {
                        "test": [
                          0.4667329461
                        ],
                        "passed_time": 3.958048756,
                        "iteration": 80,
                        "remaining_time": 0.9284311897,
                        "learn": [
                          0.4679496205
                        ]
                      },
                      {
                        "test": [
                          0.4665668606
                        ],
                        "passed_time": 3.975798869,
                        "iteration": 81,
                        "remaining_time": 0.8727363371,
                        "learn": [
                          0.4677709063
                        ]
                      },
                      {
                        "test": [
                          0.4664598512
                        ],
                        "passed_time": 3.983831946,
                        "iteration": 82,
                        "remaining_time": 0.8159655792,
                        "learn": [
                          0.4676647932
                        ]
                      },
                      {
                        "test": [
                          0.4663810832
                        ],
                        "passed_time": 4.154738072,
                        "iteration": 83,
                        "remaining_time": 0.7913786804,
                        "learn": [
                          0.4675725927
                        ]
                      },
                      {
                        "test": [
                          0.4661881664
                        ],
                        "passed_time": 4.171019118,
                        "iteration": 84,
                        "remaining_time": 0.7360621974,
                        "learn": [
                          0.4674212874
                        ]
                      },
                      {
                        "test": [
                          0.4660888759
                        ],
                        "passed_time": 4.19324583,
                        "iteration": 85,
                        "remaining_time": 0.6826214142,
                        "learn": [
                          0.46731794
                        ]
                      },
                      {
                        "test": [
                          0.4659940547
                        ],
                        "passed_time": 4.198966053,
                        "iteration": 86,
                        "remaining_time": 0.6274317091,
                        "learn": [
                          0.4672106936
                        ]
                      },
                      {
                        "test": [
                          0.4658079373
                        ],
                        "passed_time": 4.25092011,
                        "iteration": 87,
                        "remaining_time": 0.5796709242,
                        "learn": [
                          0.4670464528
                        ]
                      },
                      {
                        "test": [
                          0.4656531906
                        ],
                        "passed_time": 4.261679378,
                        "iteration": 88,
                        "remaining_time": 0.5267244175,
                        "learn": [
                          0.4669445059
                        ]
                      },
                      {
                        "test": [
                          0.4654978485
                        ],
                        "passed_time": 4.356402778,
                        "iteration": 89,
                        "remaining_time": 0.4840447531,
                        "learn": [
                          0.4667390005
                        ]
                      },
                      {
                        "test": [
                          0.4653270456
                        ],
                        "passed_time": 4.455443246,
                        "iteration": 90,
                        "remaining_time": 0.4406482332,
                        "learn": [
                          0.4665765671
                        ]
                      },
                      {
                        "test": [
                          0.4652479058
                        ],
                        "passed_time": 4.461346456,
                        "iteration": 91,
                        "remaining_time": 0.3879431701,
                        "learn": [
                          0.4665049093
                        ]
                      },
                      {
                        "test": [
                          0.4650180709
                        ],
                        "passed_time": 4.498704103,
                        "iteration": 92,
                        "remaining_time": 0.3386121368,
                        "learn": [
                          0.4663149501
                        ]
                      },
                      {
                        "test": [
                          0.4649099359
                        ],
                        "passed_time": 4.516974531,
                        "iteration": 93,
                        "remaining_time": 0.2883175233,
                        "learn": [
                          0.4662026396
                        ]
                      },
                      {
                        "test": [
                          0.464814172
                        ],
                        "passed_time": 4.545886356,
                        "iteration": 94,
                        "remaining_time": 0.2392571766,
                        "learn": [
                          0.4660994572
                        ]
                      },
                      {
                        "test": [
                          0.4647111623
                        ],
                        "passed_time": 4.606512619,
                        "iteration": 95,
                        "remaining_time": 0.1919380258,
                        "learn": [
                          0.4659909706
                        ]
                      },
                      {
                        "test": [
                          0.4645537565
                        ],
                        "passed_time": 4.756072643,
                        "iteration": 96,
                        "remaining_time": 0.1470950302,
                        "learn": [
                          0.4658485561
                        ]
                      },
                      {
                        "test": [
                          0.4644030329
                        ],
                        "passed_time": 4.809518363,
                        "iteration": 97,
                        "remaining_time": 0.09815343597,
                        "learn": [
                          0.4656943697
                        ]
                      },
                      {
                        "test": [
                          0.4643216412
                        ],
                        "passed_time": 4.817588819,
                        "iteration": 98,
                        "remaining_time": 0.04866251332,
                        "learn": [
                          0.4655925236
                        ]
                      },
                      {
                        "test": [
                          0.4641099513
                        ],
                        "passed_time": 4.910849849,
                        "iteration": 99,
                        "remaining_time": 0,
                        "learn": [
                          0.4653892557
                        ]
                      }
                    ]
                  },
                  "total_iterations": 100,
                  "passed_iterations": 99
                },
                "path": "catboost_info/fold-4",
                "name": "fold-4"
              },
              "catboost_info/fold-7": {
                "content": {
                  "data": {
                    "meta": {
                      "name": "experiment",
                      "parameters": "",
                      "test_metrics": [
                        {
                          "best_value": "Min",
                          "name": "RMSE"
                        }
                      ],
                      "learn_sets": [
                        "learn"
                      ],
                      "launch_mode": "Train",
                      "learn_metrics": [
                        {
                          "best_value": "Min",
                          "name": "RMSE"
                        }
                      ],
                      "iteration_count": 100,
                      "test_sets": [
                        "test"
                      ]
                    },
                    "iterations": [
                      {
                        "test": [
                          0.6461659516
                        ],
                        "passed_time": 0.02246440321,
                        "iteration": 0,
                        "remaining_time": 2.223975917,
                        "learn": [
                          0.6224498581
                        ]
                      },
                      {
                        "test": [
                          0.6378545354
                        ],
                        "passed_time": 0.03168326427,
                        "iteration": 1,
                        "remaining_time": 1.552479949,
                        "learn": [
                          0.614558213
                        ]
                      },
                      {
                        "test": [
                          0.6306206306
                        ],
                        "passed_time": 0.04039886941,
                        "iteration": 2,
                        "remaining_time": 1.306230111,
                        "learn": [
                          0.6074768146
                        ]
                      },
                      {
                        "test": [
                          0.6238863816
                        ],
                        "passed_time": 0.04326665241,
                        "iteration": 3,
                        "remaining_time": 1.038399658,
                        "learn": [
                          0.6010415143
                        ]
                      },
                      {
                        "test": [
                          0.6170962576
                        ],
                        "passed_time": 0.0693842943,
                        "iteration": 4,
                        "remaining_time": 1.318301592,
                        "learn": [
                          0.5946588997
                        ]
                      },
                      {
                        "test": [
                          0.6109773687
                        ],
                        "passed_time": 0.07293376916,
                        "iteration": 5,
                        "remaining_time": 1.14262905,
                        "learn": [
                          0.5888464349
                        ]
                      },
                      {
                        "test": [
                          0.6048864466
                        ],
                        "passed_time": 0.0849197364,
                        "iteration": 6,
                        "remaining_time": 1.128219355,
                        "learn": [
                          0.583143834
                        ]
                      },
                      {
                        "test": [
                          0.5993104992
                        ],
                        "passed_time": 0.08883680604,
                        "iteration": 7,
                        "remaining_time": 1.021623269,
                        "learn": [
                          0.5778908213
                        ]
                      },
                      {
                        "test": [
                          0.5940138997
                        ],
                        "passed_time": 0.09659817831,
                        "iteration": 8,
                        "remaining_time": 0.976714914,
                        "learn": [
                          0.5729054092
                        ]
                      },
                      {
                        "test": [
                          0.5887996478
                        ],
                        "passed_time": 0.1114539878,
                        "iteration": 9,
                        "remaining_time": 1.00308589,
                        "learn": [
                          0.5678334858
                        ]
                      },
                      {
                        "test": [
                          0.5840050299
                        ],
                        "passed_time": 0.1142600358,
                        "iteration": 10,
                        "remaining_time": 0.9244675622,
                        "learn": [
                          0.5633434223
                        ]
                      },
                      {
                        "test": [
                          0.5785647895
                        ],
                        "passed_time": 0.1323125335,
                        "iteration": 11,
                        "remaining_time": 0.970291912,
                        "learn": [
                          0.5582798549
                        ]
                      },
                      {
                        "test": [
                          0.5740926461
                        ],
                        "passed_time": 0.149754093,
                        "iteration": 12,
                        "remaining_time": 1.002200468,
                        "learn": [
                          0.5539508486
                        ]
                      },
                      {
                        "test": [
                          0.5698387011
                        ],
                        "passed_time": 0.1620786051,
                        "iteration": 13,
                        "remaining_time": 0.9956257171,
                        "learn": [
                          0.5500031926
                        ]
                      },
                      {
                        "test": [
                          0.5649499868
                        ],
                        "passed_time": 0.2017117564,
                        "iteration": 14,
                        "remaining_time": 1.143033286,
                        "learn": [
                          0.5455151274
                        ]
                      },
                      {
                        "test": [
                          0.5612134014
                        ],
                        "passed_time": 0.2052010886,
                        "iteration": 15,
                        "remaining_time": 1.077305715,
                        "learn": [
                          0.5420709455
                        ]
                      },
                      {
                        "test": [
                          0.5573556658
                        ],
                        "passed_time": 0.2313941704,
                        "iteration": 16,
                        "remaining_time": 1.129748008,
                        "learn": [
                          0.5384286703
                        ]
                      },
                      {
                        "test": [
                          0.5538943758
                        ],
                        "passed_time": 0.2348564324,
                        "iteration": 17,
                        "remaining_time": 1.069901525,
                        "learn": [
                          0.5352709137
                        ]
                      },
                      {
                        "test": [
                          0.5499935047
                        ],
                        "passed_time": 0.2549600656,
                        "iteration": 18,
                        "remaining_time": 1.086935016,
                        "learn": [
                          0.531689926
                        ]
                      },
                      {
                        "test": [
                          0.5469199934
                        ],
                        "passed_time": 0.2658030748,
                        "iteration": 19,
                        "remaining_time": 1.063212299,
                        "learn": [
                          0.5289157837
                        ]
                      },
                      {
                        "test": [
                          0.5439191669
                        ],
                        "passed_time": 0.2722346085,
                        "iteration": 20,
                        "remaining_time": 1.02412067,
                        "learn": [
                          0.5260472539
                        ]
                      },
                      {
                        "test": [
                          0.5411607569
                        ],
                        "passed_time": 0.2790644278,
                        "iteration": 21,
                        "remaining_time": 0.9894102441,
                        "learn": [
                          0.5235623203
                        ]
                      },
                      {
                        "test": [
                          0.5382945641
                        ],
                        "passed_time": 0.2931585703,
                        "iteration": 22,
                        "remaining_time": 0.9814439091,
                        "learn": [
                          0.5210596884
                        ]
                      },
                      {
                        "test": [
                          0.5355700713
                        ],
                        "passed_time": 0.3011661052,
                        "iteration": 23,
                        "remaining_time": 0.9536926664,
                        "learn": [
                          0.5184529334
                        ]
                      },
                      {
                        "test": [
                          0.5330355453
                        ],
                        "passed_time": 0.3093782126,
                        "iteration": 24,
                        "remaining_time": 0.9281346377,
                        "learn": [
                          0.5161555504
                        ]
                      },
                      {
                        "test": [
                          0.530577899
                        ],
                        "passed_time": 0.3143649287,
                        "iteration": 25,
                        "remaining_time": 0.8947309508,
                        "learn": [
                          0.5140410256
                        ]
                      },
                      {
                        "test": [
                          0.5281011012
                        ],
                        "passed_time": 0.3319654843,
                        "iteration": 26,
                        "remaining_time": 0.8975363095,
                        "learn": [
                          0.5116976008
                        ]
                      },
                      {
                        "test": [
                          0.5252640578
                        ],
                        "passed_time": 0.3449502734,
                        "iteration": 27,
                        "remaining_time": 0.8870149888,
                        "learn": [
                          0.5092234385
                        ]
                      },
                      {
                        "test": [
                          0.5226705913
                        ],
                        "passed_time": 0.3510705134,
                        "iteration": 28,
                        "remaining_time": 0.8595174638,
                        "learn": [
                          0.5069734074
                        ]
                      },
                      {
                        "test": [
                          0.520197249
                        ],
                        "passed_time": 0.3572563595,
                        "iteration": 29,
                        "remaining_time": 0.8335981721,
                        "learn": [
                          0.5048472739
                        ]
                      },
                      {
                        "test": [
                          0.5184070316
                        ],
                        "passed_time": 0.3690036073,
                        "iteration": 30,
                        "remaining_time": 0.8213306097,
                        "learn": [
                          0.5033132792
                        ]
                      },
                      {
                        "test": [
                          0.5166157486
                        ],
                        "passed_time": 0.3757359309,
                        "iteration": 31,
                        "remaining_time": 0.7984388531,
                        "learn": [
                          0.5017289575
                        ]
                      },
                      {
                        "test": [
                          0.5148583186
                        ],
                        "passed_time": 0.4048279248,
                        "iteration": 32,
                        "remaining_time": 0.8219233624,
                        "learn": [
                          0.5001868053
                        ]
                      },
                      {
                        "test": [
                          0.5126606071
                        ],
                        "passed_time": 0.437637993,
                        "iteration": 33,
                        "remaining_time": 0.8495325746,
                        "learn": [
                          0.4983491776
                        ]
                      },
                      {
                        "test": [
                          0.5107962832
                        ],
                        "passed_time": 0.4605931886,
                        "iteration": 34,
                        "remaining_time": 0.8553873503,
                        "learn": [
                          0.4968761199
                        ]
                      },
                      {
                        "test": [
                          0.5087642568
                        ],
                        "passed_time": 0.4824440353,
                        "iteration": 35,
                        "remaining_time": 0.857678285,
                        "learn": [
                          0.4951990928
                        ]
                      },
                      {
                        "test": [
                          0.5072925419
                        ],
                        "passed_time": 0.4996846017,
                        "iteration": 36,
                        "remaining_time": 0.8508143218,
                        "learn": [
                          0.4937866811
                        ]
                      },
                      {
                        "test": [
                          0.5059580693
                        ],
                        "passed_time": 0.5146288495,
                        "iteration": 37,
                        "remaining_time": 0.8396575966,
                        "learn": [
                          0.492643329
                        ]
                      },
                      {
                        "test": [
                          0.5046135535
                        ],
                        "passed_time": 0.5284869713,
                        "iteration": 38,
                        "remaining_time": 0.8266078269,
                        "learn": [
                          0.491591833
                        ]
                      },
                      {
                        "test": [
                          0.5029598922
                        ],
                        "passed_time": 0.5601925041,
                        "iteration": 39,
                        "remaining_time": 0.8402887562,
                        "learn": [
                          0.4902222376
                        ]
                      },
                      {
                        "test": [
                          0.5015583373
                        ],
                        "passed_time": 0.5731304659,
                        "iteration": 40,
                        "remaining_time": 0.8247487193,
                        "learn": [
                          0.4890701537
                        ]
                      },
                      {
                        "test": [
                          0.5001581765
                        ],
                        "passed_time": 0.5974904159,
                        "iteration": 41,
                        "remaining_time": 0.8251058125,
                        "learn": [
                          0.4879561555
                        ]
                      },
                      {
                        "test": [
                          0.4991134618
                        ],
                        "passed_time": 0.6024323103,
                        "iteration": 42,
                        "remaining_time": 0.7985730625,
                        "learn": [
                          0.4870942603
                        ]
                      },
                      {
                        "test": [
                          0.4979988325
                        ],
                        "passed_time": 0.6113334877,
                        "iteration": 43,
                        "remaining_time": 0.7780608026,
                        "learn": [
                          0.4862182767
                        ]
                      },
                      {
                        "test": [
                          0.4966090962
                        ],
                        "passed_time": 0.6224318596,
                        "iteration": 44,
                        "remaining_time": 0.7607500507,
                        "learn": [
                          0.4850564163
                        ]
                      },
                      {
                        "test": [
                          0.4955612369
                        ],
                        "passed_time": 0.6308405681,
                        "iteration": 45,
                        "remaining_time": 0.7405519713,
                        "learn": [
                          0.4842715365
                        ]
                      },
                      {
                        "test": [
                          0.494628793
                        ],
                        "passed_time": 0.6357123038,
                        "iteration": 46,
                        "remaining_time": 0.716867066,
                        "learn": [
                          0.4835915523
                        ]
                      },
                      {
                        "test": [
                          0.4933140172
                        ],
                        "passed_time": 0.6542801113,
                        "iteration": 47,
                        "remaining_time": 0.7088034539,
                        "learn": [
                          0.4825192808
                        ]
                      },
                      {
                        "test": [
                          0.4925691411
                        ],
                        "passed_time": 0.6629130748,
                        "iteration": 48,
                        "remaining_time": 0.6899707513,
                        "learn": [
                          0.4819115212
                        ]
                      },
                      {
                        "test": [
                          0.491428224
                        ],
                        "passed_time": 0.6759953319,
                        "iteration": 49,
                        "remaining_time": 0.6759953319,
                        "learn": [
                          0.4810394969
                        ]
                      },
                      {
                        "test": [
                          0.4906087186
                        ],
                        "passed_time": 0.6866869395,
                        "iteration": 50,
                        "remaining_time": 0.6597580399,
                        "learn": [
                          0.4804229644
                        ]
                      },
                      {
                        "test": [
                          0.4895887096
                        ],
                        "passed_time": 0.7106884743,
                        "iteration": 51,
                        "remaining_time": 0.6560201302,
                        "learn": [
                          0.4796334715
                        ]
                      },
                      {
                        "test": [
                          0.4888851054
                        ],
                        "passed_time": 0.7246255325,
                        "iteration": 52,
                        "remaining_time": 0.6425924534,
                        "learn": [
                          0.4790872422
                        ]
                      },
                      {
                        "test": [
                          0.4879329932
                        ],
                        "passed_time": 0.746723862,
                        "iteration": 53,
                        "remaining_time": 0.6360981046,
                        "learn": [
                          0.4783117773
                        ]
                      },
                      {
                        "test": [
                          0.4874150983
                        ],
                        "passed_time": 0.7528031813,
                        "iteration": 54,
                        "remaining_time": 0.6159298756,
                        "learn": [
                          0.4779409991
                        ]
                      },
                      {
                        "test": [
                          0.4865226586
                        ],
                        "passed_time": 0.7971770238,
                        "iteration": 55,
                        "remaining_time": 0.6263533758,
                        "learn": [
                          0.4772330488
                        ]
                      },
                      {
                        "test": [
                          0.4857423169
                        ],
                        "passed_time": 0.8065271112,
                        "iteration": 56,
                        "remaining_time": 0.608432733,
                        "learn": [
                          0.4766437044
                        ]
                      },
                      {
                        "test": [
                          0.4849276758
                        ],
                        "passed_time": 0.8301572874,
                        "iteration": 57,
                        "remaining_time": 0.6011483806,
                        "learn": [
                          0.4760329961
                        ]
                      },
                      {
                        "test": [
                          0.4839815424
                        ],
                        "passed_time": 0.8751018316,
                        "iteration": 58,
                        "remaining_time": 0.6081216118,
                        "learn": [
                          0.4752972047
                        ]
                      },
                      {
                        "test": [
                          0.4834628194
                        ],
                        "passed_time": 0.8845951401,
                        "iteration": 59,
                        "remaining_time": 0.5897300934,
                        "learn": [
                          0.4748306851
                        ]
                      },
                      {
                        "test": [
                          0.4830177478
                        ],
                        "passed_time": 0.8945323784,
                        "iteration": 60,
                        "remaining_time": 0.5719141436,
                        "learn": [
                          0.4744983253
                        ]
                      },
                      {
                        "test": [
                          0.4825963574
                        ],
                        "passed_time": 0.9022704852,
                        "iteration": 61,
                        "remaining_time": 0.5530044909,
                        "learn": [
                          0.4741877026
                        ]
                      },
                      {
                        "test": [
                          0.482103844
                        ],
                        "passed_time": 0.915962714,
                        "iteration": 62,
                        "remaining_time": 0.5379463559,
                        "learn": [
                          0.4738550828
                        ]
                      },
                      {
                        "test": [
                          0.481718
                        ],
                        "passed_time": 0.9272422557,
                        "iteration": 63,
                        "remaining_time": 0.5215737688,
                        "learn": [
                          0.4735798767
                        ]
                      },
                      {
                        "test": [
                          0.4814118204
                        ],
                        "passed_time": 0.9351485615,
                        "iteration": 64,
                        "remaining_time": 0.5035415331,
                        "learn": [
                          0.4733789286
                        ]
                      },
                      {
                        "test": [
                          0.4809507342
                        ],
                        "passed_time": 0.9578839606,
                        "iteration": 65,
                        "remaining_time": 0.4934553736,
                        "learn": [
                          0.4729868826
                        ]
                      },
                      {
                        "test": [
                          0.4804944925
                        ],
                        "passed_time": 0.9668075975,
                        "iteration": 66,
                        "remaining_time": 0.4761888167,
                        "learn": [
                          0.4726859957
                        ]
                      },
                      {
                        "test": [
                          0.480013404
                        ],
                        "passed_time": 0.9847853085,
                        "iteration": 67,
                        "remaining_time": 0.4634283805,
                        "learn": [
                          0.47227871
                        ]
                      },
                      {
                        "test": [
                          0.4797061167
                        ],
                        "passed_time": 0.9994033113,
                        "iteration": 68,
                        "remaining_time": 0.4490072848,
                        "learn": [
                          0.4720666285
                        ]
                      },
                      {
                        "test": [
                          0.4791911135
                        ],
                        "passed_time": 1.012947549,
                        "iteration": 69,
                        "remaining_time": 0.434120378,
                        "learn": [
                          0.4717034212
                        ]
                      },
                      {
                        "test": [
                          0.4787061592
                        ],
                        "passed_time": 1.039464375,
                        "iteration": 70,
                        "remaining_time": 0.4245699562,
                        "learn": [
                          0.4713316232
                        ]
                      },
                      {
                        "test": [
                          0.4783819474
                        ],
                        "passed_time": 1.05007904,
                        "iteration": 71,
                        "remaining_time": 0.4083640712,
                        "learn": [
                          0.4710880473
                        ]
                      },
                      {
                        "test": [
                          0.478152226
                        ],
                        "passed_time": 1.054831884,
                        "iteration": 72,
                        "remaining_time": 0.3901432997,
                        "learn": [
                          0.4708985812
                        ]
                      },
                      {
                        "test": [
                          0.4777219761
                        ],
                        "passed_time": 1.065639532,
                        "iteration": 73,
                        "remaining_time": 0.3744138898,
                        "learn": [
                          0.4706019984
                        ]
                      },
                      {
                        "test": [
                          0.4774655873
                        ],
                        "passed_time": 1.075937207,
                        "iteration": 74,
                        "remaining_time": 0.3586457356,
                        "learn": [
                          0.4703557401
                        ]
                      },
                      {
                        "test": [
                          0.4769332492
                        ],
                        "passed_time": 1.10203841,
                        "iteration": 75,
                        "remaining_time": 0.3480121295,
                        "learn": [
                          0.4699870145
                        ]
                      },
                      {
                        "test": [
                          0.4767624366
                        ],
                        "passed_time": 1.106896475,
                        "iteration": 76,
                        "remaining_time": 0.3306314145,
                        "learn": [
                          0.4698899499
                        ]
                      },
                      {
                        "test": [
                          0.4765465355
                        ],
                        "passed_time": 1.11489471,
                        "iteration": 77,
                        "remaining_time": 0.3144574823,
                        "learn": [
                          0.4697124116
                        ]
                      },
                      {
                        "test": [
                          0.4762896525
                        ],
                        "passed_time": 1.127827439,
                        "iteration": 78,
                        "remaining_time": 0.2998022305,
                        "learn": [
                          0.4695348884
                        ]
                      },
                      {
                        "test": [
                          0.4758546297
                        ],
                        "passed_time": 1.142728988,
                        "iteration": 79,
                        "remaining_time": 0.2856822469,
                        "learn": [
                          0.4691316783
                        ]
                      },
                      {
                        "test": [
                          0.475691125
                        ],
                        "passed_time": 1.151162952,
                        "iteration": 80,
                        "remaining_time": 0.2700258775,
                        "learn": [
                          0.4689756136
                        ]
                      },
                      {
                        "test": [
                          0.4752819829
                        ],
                        "passed_time": 1.21808567,
                        "iteration": 81,
                        "remaining_time": 0.2673846593,
                        "learn": [
                          0.4686961785
                        ]
                      },
                      {
                        "test": [
                          0.4749867635
                        ],
                        "passed_time": 1.2268539,
                        "iteration": 82,
                        "remaining_time": 0.2512833288,
                        "learn": [
                          0.4684646122
                        ]
                      },
                      {
                        "test": [
                          0.4747693187
                        ],
                        "passed_time": 1.236860716,
                        "iteration": 83,
                        "remaining_time": 0.2355925172,
                        "learn": [
                          0.4683613122
                        ]
                      },
                      {
                        "test": [
                          0.4746078355
                        ],
                        "passed_time": 1.246783315,
                        "iteration": 84,
                        "remaining_time": 0.220020585,
                        "learn": [
                          0.4682755441
                        ]
                      },
                      {
                        "test": [
                          0.4743996305
                        ],
                        "passed_time": 1.255184818,
                        "iteration": 85,
                        "remaining_time": 0.2043324122,
                        "learn": [
                          0.4681150316
                        ]
                      },
                      {
                        "test": [
                          0.474158311
                        ],
                        "passed_time": 1.275586843,
                        "iteration": 86,
                        "remaining_time": 0.1906049305,
                        "learn": [
                          0.467917785
                        ]
                      },
                      {
                        "test": [
                          0.4738286313
                        ],
                        "passed_time": 1.301401933,
                        "iteration": 87,
                        "remaining_time": 0.1774638999,
                        "learn": [
                          0.4676881046
                        ]
                      },
                      {
                        "test": [
                          0.473567103
                        ],
                        "passed_time": 1.315129019,
                        "iteration": 88,
                        "remaining_time": 0.1625440361,
                        "learn": [
                          0.467524735
                        ]
                      },
                      {
                        "test": [
                          0.4732974992
                        ],
                        "passed_time": 1.357563701,
                        "iteration": 89,
                        "remaining_time": 0.1508404112,
                        "learn": [
                          0.4673325048
                        ]
                      },
                      {
                        "test": [
                          0.473169151
                        ],
                        "passed_time": 1.365989412,
                        "iteration": 90,
                        "remaining_time": 0.1350978539,
                        "learn": [
                          0.4672541828
                        ]
                      },
                      {
                        "test": [
                          0.4728647985
                        ],
                        "passed_time": 1.393077486,
                        "iteration": 91,
                        "remaining_time": 0.1211371727,
                        "learn": [
                          0.4670611656
                        ]
                      },
                      {
                        "test": [
                          0.4727711332
                        ],
                        "passed_time": 1.397824944,
                        "iteration": 92,
                        "remaining_time": 0.1052126302,
                        "learn": [
                          0.4669826168
                        ]
                      },
                      {
                        "test": [
                          0.4726809189
                        ],
                        "passed_time": 1.448920138,
                        "iteration": 93,
                        "remaining_time": 0.09248426415,
                        "learn": [
                          0.4668297014
                        ]
                      },
                      {
                        "test": [
                          0.4724301883
                        ],
                        "passed_time": 1.470736075,
                        "iteration": 94,
                        "remaining_time": 0.07740716186,
                        "learn": [
                          0.4666737118
                        ]
                      },
                      {
                        "test": [
                          0.4722979113
                        ],
                        "passed_time": 1.475866592,
                        "iteration": 95,
                        "remaining_time": 0.06149444134,
                        "learn": [
                          0.4666182344
                        ]
                      },
                      {
                        "test": [
                          0.4722052864
                        ],
                        "passed_time": 1.480602361,
                        "iteration": 96,
                        "remaining_time": 0.04579182559,
                        "learn": [
                          0.4665796704
                        ]
                      },
                      {
                        "test": [
                          0.4719758924
                        ],
                        "passed_time": 1.499448517,
                        "iteration": 97,
                        "remaining_time": 0.03060099015,
                        "learn": [
                          0.4664151778
                        ]
                      },
                      {
                        "test": [
                          0.4717041621
                        ],
                        "passed_time": 1.520075689,
                        "iteration": 98,
                        "remaining_time": 0.01535429989,
                        "learn": [
                          0.4662796914
                        ]
                      },
                      {
                        "test": [
                          0.4715613458
                        ],
                        "passed_time": 1.556339017,
                        "iteration": 99,
                        "remaining_time": 0,
                        "learn": [
                          0.4661796525
                        ]
                      }
                    ]
                  },
                  "total_iterations": 100,
                  "passed_iterations": 99
                },
                "path": "catboost_info/fold-7",
                "name": "fold-7"
              },
              "catboost_info/fold-6": {
                "content": {
                  "data": {
                    "meta": {
                      "name": "experiment",
                      "parameters": "",
                      "test_metrics": [
                        {
                          "best_value": "Min",
                          "name": "RMSE"
                        }
                      ],
                      "learn_sets": [
                        "learn"
                      ],
                      "launch_mode": "Train",
                      "learn_metrics": [
                        {
                          "best_value": "Min",
                          "name": "RMSE"
                        }
                      ],
                      "iteration_count": 100,
                      "test_sets": [
                        "test"
                      ]
                    },
                    "iterations": [
                      {
                        "test": [
                          0.6518792215
                        ],
                        "passed_time": 0.01777849477,
                        "iteration": 0,
                        "remaining_time": 1.760070982,
                        "learn": [
                          0.621944663
                        ]
                      },
                      {
                        "test": [
                          0.6444398144
                        ],
                        "passed_time": 0.02211456947,
                        "iteration": 1,
                        "remaining_time": 1.083613904,
                        "learn": [
                          0.6148757882
                        ]
                      },
                      {
                        "test": [
                          0.6373399501
                        ],
                        "passed_time": 0.03348583515,
                        "iteration": 2,
                        "remaining_time": 1.08270867,
                        "learn": [
                          0.6081492443
                        ]
                      },
                      {
                        "test": [
                          0.6304086078
                        ],
                        "passed_time": 0.03998793845,
                        "iteration": 3,
                        "remaining_time": 0.9597105229,
                        "learn": [
                          0.601644692
                        ]
                      },
                      {
                        "test": [
                          0.6239476105
                        ],
                        "passed_time": 0.0430829748,
                        "iteration": 4,
                        "remaining_time": 0.8185765213,
                        "learn": [
                          0.5955605895
                        ]
                      },
                      {
                        "test": [
                          0.6168984002
                        ],
                        "passed_time": 0.05160698914,
                        "iteration": 5,
                        "remaining_time": 0.8085094966,
                        "learn": [
                          0.5889308518
                        ]
                      },
                      {
                        "test": [
                          0.610842801
                        ],
                        "passed_time": 0.07881143987,
                        "iteration": 6,
                        "remaining_time": 1.047066273,
                        "learn": [
                          0.5830218309
                        ]
                      },
                      {
                        "test": [
                          0.6052446237
                        ],
                        "passed_time": 0.08544355126,
                        "iteration": 7,
                        "remaining_time": 0.9826008395,
                        "learn": [
                          0.5777914
                        ]
                      },
                      {
                        "test": [
                          0.5990692521
                        ],
                        "passed_time": 0.09890258594,
                        "iteration": 8,
                        "remaining_time": 1.000015036,
                        "learn": [
                          0.5719997842
                        ]
                      },
                      {
                        "test": [
                          0.5933255254
                        ],
                        "passed_time": 0.1155511603,
                        "iteration": 9,
                        "remaining_time": 1.039960442,
                        "learn": [
                          0.5666205887
                        ]
                      },
                      {
                        "test": [
                          0.5884877372
                        ],
                        "passed_time": 0.1176916564,
                        "iteration": 10,
                        "remaining_time": 0.952232493,
                        "learn": [
                          0.5621402183
                        ]
                      },
                      {
                        "test": [
                          0.5837651681
                        ],
                        "passed_time": 0.1278763742,
                        "iteration": 11,
                        "remaining_time": 0.9377600778,
                        "learn": [
                          0.5576354591
                        ]
                      },
                      {
                        "test": [
                          0.5789792977
                        ],
                        "passed_time": 0.1492397887,
                        "iteration": 12,
                        "remaining_time": 0.9987585858,
                        "learn": [
                          0.5532696985
                        ]
                      },
                      {
                        "test": [
                          0.5740530176
                        ],
                        "passed_time": 0.1693951308,
                        "iteration": 13,
                        "remaining_time": 1.040570089,
                        "learn": [
                          0.5486807448
                        ]
                      },
                      {
                        "test": [
                          0.5700852833
                        ],
                        "passed_time": 0.1723904081,
                        "iteration": 14,
                        "remaining_time": 0.9768789793,
                        "learn": [
                          0.5450549472
                        ]
                      },
                      {
                        "test": [
                          0.5662613868
                        ],
                        "passed_time": 0.1749632874,
                        "iteration": 15,
                        "remaining_time": 0.918557259,
                        "learn": [
                          0.5414578503
                        ]
                      },
                      {
                        "test": [
                          0.562197658
                        ],
                        "passed_time": 0.198938368,
                        "iteration": 16,
                        "remaining_time": 0.9712873261,
                        "learn": [
                          0.5376910475
                        ]
                      },
                      {
                        "test": [
                          0.5587860109
                        ],
                        "passed_time": 0.2016831929,
                        "iteration": 17,
                        "remaining_time": 0.9187789897,
                        "learn": [
                          0.5346079858
                        ]
                      },
                      {
                        "test": [
                          0.5554820023
                        ],
                        "passed_time": 0.2093909824,
                        "iteration": 18,
                        "remaining_time": 0.8926668199,
                        "learn": [
                          0.5314744314
                        ]
                      },
                      {
                        "test": [
                          0.552414601
                        ],
                        "passed_time": 0.2120828251,
                        "iteration": 19,
                        "remaining_time": 0.8483313004,
                        "learn": [
                          0.5286764887
                        ]
                      },
                      {
                        "test": [
                          0.5494882786
                        ],
                        "passed_time": 0.2181238363,
                        "iteration": 20,
                        "remaining_time": 0.8205610986,
                        "learn": [
                          0.526066419
                        ]
                      },
                      {
                        "test": [
                          0.5459814304
                        ],
                        "passed_time": 0.2279916278,
                        "iteration": 21,
                        "remaining_time": 0.808333953,
                        "learn": [
                          0.5228472224
                        ]
                      },
                      {
                        "test": [
                          0.542646114
                        ],
                        "passed_time": 0.246817855,
                        "iteration": 22,
                        "remaining_time": 0.8263032537,
                        "learn": [
                          0.5197955782
                        ]
                      },
                      {
                        "test": [
                          0.5401388777
                        ],
                        "passed_time": 0.2506725214,
                        "iteration": 23,
                        "remaining_time": 0.7937963179,
                        "learn": [
                          0.517584949
                        ]
                      },
                      {
                        "test": [
                          0.5377955543
                        ],
                        "passed_time": 0.2614503086,
                        "iteration": 24,
                        "remaining_time": 0.7843509258,
                        "learn": [
                          0.5154840293
                        ]
                      },
                      {
                        "test": [
                          0.5355336258
                        ],
                        "passed_time": 0.2664324967,
                        "iteration": 25,
                        "remaining_time": 0.7583078753,
                        "learn": [
                          0.5135100192
                        ]
                      },
                      {
                        "test": [
                          0.5330003986
                        ],
                        "passed_time": 0.3443512942,
                        "iteration": 26,
                        "remaining_time": 0.9310238694,
                        "learn": [
                          0.5110437083
                        ]
                      },
                      {
                        "test": [
                          0.5308354987
                        ],
                        "passed_time": 0.4241703555,
                        "iteration": 27,
                        "remaining_time": 1.090723771,
                        "learn": [
                          0.5089799544
                        ]
                      },
                      {
                        "test": [
                          0.5289006495
                        ],
                        "passed_time": 0.436388535,
                        "iteration": 28,
                        "remaining_time": 1.068399517,
                        "learn": [
                          0.5073150649
                        ]
                      },
                      {
                        "test": [
                          0.5270169018
                        ],
                        "passed_time": 0.4423458068,
                        "iteration": 29,
                        "remaining_time": 1.032140216,
                        "learn": [
                          0.5055429608
                        ]
                      },
                      {
                        "test": [
                          0.5249400668
                        ],
                        "passed_time": 0.4602589008,
                        "iteration": 30,
                        "remaining_time": 1.024447231,
                        "learn": [
                          0.5037547881
                        ]
                      },
                      {
                        "test": [
                          0.5231079592
                        ],
                        "passed_time": 0.4847196126,
                        "iteration": 31,
                        "remaining_time": 1.030029177,
                        "learn": [
                          0.5019372776
                        ]
                      },
                      {
                        "test": [
                          0.5215379023
                        ],
                        "passed_time": 0.4900146491,
                        "iteration": 32,
                        "remaining_time": 0.994878227,
                        "learn": [
                          0.5006144986
                        ]
                      },
                      {
                        "test": [
                          0.5198201289
                        ],
                        "passed_time": 0.4970154204,
                        "iteration": 33,
                        "remaining_time": 0.9647946395,
                        "learn": [
                          0.4992053278
                        ]
                      },
                      {
                        "test": [
                          0.517891386
                        ],
                        "passed_time": 0.5080830605,
                        "iteration": 34,
                        "remaining_time": 0.9435828266,
                        "learn": [
                          0.4973438995
                        ]
                      },
                      {
                        "test": [
                          0.5160031038
                        ],
                        "passed_time": 0.5270971242,
                        "iteration": 35,
                        "remaining_time": 0.9370615541,
                        "learn": [
                          0.4955281923
                        ]
                      },
                      {
                        "test": [
                          0.5142355087
                        ],
                        "passed_time": 0.5405298069,
                        "iteration": 36,
                        "remaining_time": 0.920361563,
                        "learn": [
                          0.4938642334
                        ]
                      },
                      {
                        "test": [
                          0.5125725736
                        ],
                        "passed_time": 0.5530717922,
                        "iteration": 37,
                        "remaining_time": 0.9023802926,
                        "learn": [
                          0.4923518761
                        ]
                      },
                      {
                        "test": [
                          0.5112080161
                        ],
                        "passed_time": 0.5634633567,
                        "iteration": 38,
                        "remaining_time": 0.881314481,
                        "learn": [
                          0.4912134171
                        ]
                      },
                      {
                        "test": [
                          0.5097164991
                        ],
                        "passed_time": 0.5683955964,
                        "iteration": 39,
                        "remaining_time": 0.8525933947,
                        "learn": [
                          0.4898357848
                        ]
                      },
                      {
                        "test": [
                          0.5082948097
                        ],
                        "passed_time": 0.5778549394,
                        "iteration": 40,
                        "remaining_time": 0.8315473518,
                        "learn": [
                          0.4885430614
                        ]
                      },
                      {
                        "test": [
                          0.5073188274
                        ],
                        "passed_time": 0.5834142341,
                        "iteration": 41,
                        "remaining_time": 0.8056672757,
                        "learn": [
                          0.4877561486
                        ]
                      },
                      {
                        "test": [
                          0.5060335515
                        ],
                        "passed_time": 0.5883731663,
                        "iteration": 42,
                        "remaining_time": 0.7799365228,
                        "learn": [
                          0.4865912503
                        ]
                      },
                      {
                        "test": [
                          0.5048789895
                        ],
                        "passed_time": 0.608055517,
                        "iteration": 43,
                        "remaining_time": 0.7738888398,
                        "learn": [
                          0.4854072812
                        ]
                      },
                      {
                        "test": [
                          0.5038799531
                        ],
                        "passed_time": 0.6169229001,
                        "iteration": 44,
                        "remaining_time": 0.7540168779,
                        "learn": [
                          0.4846376825
                        ]
                      },
                      {
                        "test": [
                          0.5029362559
                        ],
                        "passed_time": 0.6289664867,
                        "iteration": 45,
                        "remaining_time": 0.7383519626,
                        "learn": [
                          0.4838655066
                        ]
                      },
                      {
                        "test": [
                          0.5018719042
                        ],
                        "passed_time": 0.6467221424,
                        "iteration": 46,
                        "remaining_time": 0.7292824159,
                        "learn": [
                          0.4828763093
                        ]
                      },
                      {
                        "test": [
                          0.5008738072
                        ],
                        "passed_time": 0.65869136,
                        "iteration": 47,
                        "remaining_time": 0.7135823067,
                        "learn": [
                          0.4819744368
                        ]
                      },
                      {
                        "test": [
                          0.5001780042
                        ],
                        "passed_time": 0.6856832473,
                        "iteration": 48,
                        "remaining_time": 0.7136703187,
                        "learn": [
                          0.4812395904
                        ]
                      },
                      {
                        "test": [
                          0.4995354542
                        ],
                        "passed_time": 0.6923442477,
                        "iteration": 49,
                        "remaining_time": 0.6923442477,
                        "learn": [
                          0.4807482917
                        ]
                      },
                      {
                        "test": [
                          0.4986917362
                        ],
                        "passed_time": 0.719300942,
                        "iteration": 50,
                        "remaining_time": 0.691093062,
                        "learn": [
                          0.479871571
                        ]
                      },
                      {
                        "test": [
                          0.4978962328
                        ],
                        "passed_time": 0.7275527754,
                        "iteration": 51,
                        "remaining_time": 0.6715871773,
                        "learn": [
                          0.4790710486
                        ]
                      },
                      {
                        "test": [
                          0.4971704114
                        ],
                        "passed_time": 0.7730807361,
                        "iteration": 52,
                        "remaining_time": 0.6855621622,
                        "learn": [
                          0.4784600634
                        ]
                      },
                      {
                        "test": [
                          0.4966539844
                        ],
                        "passed_time": 0.778142242,
                        "iteration": 53,
                        "remaining_time": 0.6628619099,
                        "learn": [
                          0.4779600535
                        ]
                      },
                      {
                        "test": [
                          0.4959343274
                        ],
                        "passed_time": 0.8032400818,
                        "iteration": 54,
                        "remaining_time": 0.6571964305,
                        "learn": [
                          0.477305488
                        ]
                      },
                      {
                        "test": [
                          0.4953166054
                        ],
                        "passed_time": 0.841045662,
                        "iteration": 55,
                        "remaining_time": 0.6608215916,
                        "learn": [
                          0.4767280588
                        ]
                      },
                      {
                        "test": [
                          0.4946763331
                        ],
                        "passed_time": 0.8592661409,
                        "iteration": 56,
                        "remaining_time": 0.6482183168,
                        "learn": [
                          0.4761528941
                        ]
                      },
                      {
                        "test": [
                          0.4940644641
                        ],
                        "passed_time": 0.8999591699,
                        "iteration": 57,
                        "remaining_time": 0.6516945713,
                        "learn": [
                          0.4755241718
                        ]
                      },
                      {
                        "test": [
                          0.493596965
                        ],
                        "passed_time": 0.9067780368,
                        "iteration": 58,
                        "remaining_time": 0.63013389,
                        "learn": [
                          0.4750879448
                        ]
                      },
                      {
                        "test": [
                          0.4931042491
                        ],
                        "passed_time": 0.9315078976,
                        "iteration": 59,
                        "remaining_time": 0.6210052651,
                        "learn": [
                          0.4745393909
                        ]
                      },
                      {
                        "test": [
                          0.4925555249
                        ],
                        "passed_time": 0.9471497273,
                        "iteration": 60,
                        "remaining_time": 0.6055547437,
                        "learn": [
                          0.4738823207
                        ]
                      },
                      {
                        "test": [
                          0.4919573134
                        ],
                        "passed_time": 1.013239477,
                        "iteration": 61,
                        "remaining_time": 0.6210177438,
                        "learn": [
                          0.4731813923
                        ]
                      },
                      {
                        "test": [
                          0.4914738648
                        ],
                        "passed_time": 1.07892826,
                        "iteration": 62,
                        "remaining_time": 0.6336562799,
                        "learn": [
                          0.4726685734
                        ]
                      },
                      {
                        "test": [
                          0.4910756535
                        ],
                        "passed_time": 1.097375198,
                        "iteration": 63,
                        "remaining_time": 0.6172735491,
                        "learn": [
                          0.4723491793
                        ]
                      },
                      {
                        "test": [
                          0.4905445726
                        ],
                        "passed_time": 1.115087448,
                        "iteration": 64,
                        "remaining_time": 0.600431703,
                        "learn": [
                          0.4719312122
                        ]
                      },
                      {
                        "test": [
                          0.4902657557
                        ],
                        "passed_time": 1.121508475,
                        "iteration": 65,
                        "remaining_time": 0.5777467902,
                        "learn": [
                          0.4717391235
                        ]
                      },
                      {
                        "test": [
                          0.4899834267
                        ],
                        "passed_time": 1.129518818,
                        "iteration": 66,
                        "remaining_time": 0.5563301643,
                        "learn": [
                          0.4715206728
                        ]
                      },
                      {
                        "test": [
                          0.48968096
                        ],
                        "passed_time": 1.135647136,
                        "iteration": 67,
                        "remaining_time": 0.5344221817,
                        "learn": [
                          0.4712101992
                        ]
                      },
                      {
                        "test": [
                          0.4891795473
                        ],
                        "passed_time": 1.200455252,
                        "iteration": 68,
                        "remaining_time": 0.5393349681,
                        "learn": [
                          0.4706881394
                        ]
                      },
                      {
                        "test": [
                          0.4886462106
                        ],
                        "passed_time": 1.245692253,
                        "iteration": 69,
                        "remaining_time": 0.5338681084,
                        "learn": [
                          0.4702072748
                        ]
                      },
                      {
                        "test": [
                          0.4882141232
                        ],
                        "passed_time": 1.292585255,
                        "iteration": 70,
                        "remaining_time": 0.5279573578,
                        "learn": [
                          0.4697726842
                        ]
                      },
                      {
                        "test": [
                          0.4880047327
                        ],
                        "passed_time": 1.325499146,
                        "iteration": 71,
                        "remaining_time": 0.5154718902,
                        "learn": [
                          0.4694975605
                        ]
                      },
                      {
                        "test": [
                          0.4876592023
                        ],
                        "passed_time": 1.346283354,
                        "iteration": 72,
                        "remaining_time": 0.4979404188,
                        "learn": [
                          0.469216766
                        ]
                      },
                      {
                        "test": [
                          0.4873754041
                        ],
                        "passed_time": 1.364459522,
                        "iteration": 73,
                        "remaining_time": 0.4794046968,
                        "learn": [
                          0.4689299446
                        ]
                      },
                      {
                        "test": [
                          0.4870988131
                        ],
                        "passed_time": 1.378316498,
                        "iteration": 74,
                        "remaining_time": 0.4594388328,
                        "learn": [
                          0.4686397503
                        ]
                      },
                      {
                        "test": [
                          0.4869714349
                        ],
                        "passed_time": 1.440995106,
                        "iteration": 75,
                        "remaining_time": 0.4550510861,
                        "learn": [
                          0.4684006631
                        ]
                      },
                      {
                        "test": [
                          0.4866667804
                        ],
                        "passed_time": 1.45976973,
                        "iteration": 76,
                        "remaining_time": 0.4360351141,
                        "learn": [
                          0.4681967609
                        ]
                      },
                      {
                        "test": [
                          0.4864687494
                        ],
                        "passed_time": 1.565562374,
                        "iteration": 77,
                        "remaining_time": 0.4415688747,
                        "learn": [
                          0.4679265552
                        ]
                      },
                      {
                        "test": [
                          0.486347728
                        ],
                        "passed_time": 1.572194172,
                        "iteration": 78,
                        "remaining_time": 0.417925033,
                        "learn": [
                          0.4677539357
                        ]
                      },
                      {
                        "test": [
                          0.4861361415
                        ],
                        "passed_time": 1.590093377,
                        "iteration": 79,
                        "remaining_time": 0.3975233443,
                        "learn": [
                          0.4674130299
                        ]
                      },
                      {
                        "test": [
                          0.4860024614
                        ],
                        "passed_time": 1.595500073,
                        "iteration": 80,
                        "remaining_time": 0.3742531035,
                        "learn": [
                          0.467336375
                        ]
                      },
                      {
                        "test": [
                          0.4857091333
                        ],
                        "passed_time": 1.643561555,
                        "iteration": 81,
                        "remaining_time": 0.3607818047,
                        "learn": [
                          0.4671361642
                        ]
                      },
                      {
                        "test": [
                          0.4855785221
                        ],
                        "passed_time": 1.649186917,
                        "iteration": 82,
                        "remaining_time": 0.3377852721,
                        "learn": [
                          0.4670158946
                        ]
                      },
                      {
                        "test": [
                          0.4853862258
                        ],
                        "passed_time": 1.662445796,
                        "iteration": 83,
                        "remaining_time": 0.316656342,
                        "learn": [
                          0.4667628598
                        ]
                      },
                      {
                        "test": [
                          0.4852136389
                        ],
                        "passed_time": 1.668684641,
                        "iteration": 84,
                        "remaining_time": 0.2944737601,
                        "learn": [
                          0.4666268975
                        ]
                      },
                      {
                        "test": [
                          0.4850087025
                        ],
                        "passed_time": 1.686340287,
                        "iteration": 85,
                        "remaining_time": 0.2745205119,
                        "learn": [
                          0.4664137373
                        ]
                      },
                      {
                        "test": [
                          0.4848908059
                        ],
                        "passed_time": 1.693197055,
                        "iteration": 86,
                        "remaining_time": 0.2530064565,
                        "learn": [
                          0.4663182018
                        ]
                      },
                      {
                        "test": [
                          0.4846945116
                        ],
                        "passed_time": 1.75341168,
                        "iteration": 87,
                        "remaining_time": 0.2391015928,
                        "learn": [
                          0.4661812965
                        ]
                      },
                      {
                        "test": [
                          0.4845287194
                        ],
                        "passed_time": 1.763860566,
                        "iteration": 88,
                        "remaining_time": 0.2180052385,
                        "learn": [
                          0.4660817568
                        ]
                      },
                      {
                        "test": [
                          0.4843989172
                        ],
                        "passed_time": 1.821945403,
                        "iteration": 89,
                        "remaining_time": 0.2024383781,
                        "learn": [
                          0.4659429628
                        ]
                      },
                      {
                        "test": [
                          0.4841741876
                        ],
                        "passed_time": 1.880743085,
                        "iteration": 90,
                        "remaining_time": 0.1860075578,
                        "learn": [
                          0.465703742
                        ]
                      },
                      {
                        "test": [
                          0.484048177
                        ],
                        "passed_time": 1.894883061,
                        "iteration": 91,
                        "remaining_time": 0.1647724401,
                        "learn": [
                          0.4655170638
                        ]
                      },
                      {
                        "test": [
                          0.4839059329
                        ],
                        "passed_time": 1.925255612,
                        "iteration": 92,
                        "remaining_time": 0.1449117127,
                        "learn": [
                          0.4653642925
                        ]
                      },
                      {
                        "test": [
                          0.4837470133
                        ],
                        "passed_time": 1.973899896,
                        "iteration": 93,
                        "remaining_time": 0.1259936104,
                        "learn": [
                          0.4652244654
                        ]
                      },
                      {
                        "test": [
                          0.4836175204
                        ],
                        "passed_time": 1.981690454,
                        "iteration": 94,
                        "remaining_time": 0.1042994976,
                        "learn": [
                          0.4651693684
                        ]
                      },
                      {
                        "test": [
                          0.4834905021
                        ],
                        "passed_time": 2.010024301,
                        "iteration": 95,
                        "remaining_time": 0.08375101254,
                        "learn": [
                          0.4650131762
                        ]
                      },
                      {
                        "test": [
                          0.4833867037
                        ],
                        "passed_time": 2.036677637,
                        "iteration": 96,
                        "remaining_time": 0.06299003,
                        "learn": [
                          0.4647903771
                        ]
                      },
                      {
                        "test": [
                          0.4833667802
                        ],
                        "passed_time": 2.053343051,
                        "iteration": 97,
                        "remaining_time": 0.04190496022,
                        "learn": [
                          0.4646968358
                        ]
                      },
                      {
                        "test": [
                          0.4833311817
                        ],
                        "passed_time": 2.064955752,
                        "iteration": 98,
                        "remaining_time": 0.02085813891,
                        "learn": [
                          0.4645776537
                        ]
                      },
                      {
                        "test": [
                          0.483231348
                        ],
                        "passed_time": 2.073036227,
                        "iteration": 99,
                        "remaining_time": 0,
                        "learn": [
                          0.4644733519
                        ]
                      }
                    ]
                  },
                  "total_iterations": 100,
                  "passed_iterations": 99
                },
                "path": "catboost_info/fold-6",
                "name": "fold-6"
              },
              "catboost_info/fold-1": {
                "content": {
                  "data": {
                    "meta": {
                      "name": "experiment",
                      "parameters": "",
                      "test_metrics": [
                        {
                          "best_value": "Min",
                          "name": "RMSE"
                        }
                      ],
                      "learn_sets": [
                        "learn"
                      ],
                      "launch_mode": "Train",
                      "learn_metrics": [
                        {
                          "best_value": "Min",
                          "name": "RMSE"
                        }
                      ],
                      "iteration_count": 100,
                      "test_sets": [
                        "test"
                      ]
                    },
                    "iterations": [
                      {
                        "test": [
                          0.6138045375
                        ],
                        "passed_time": 0.007138416132,
                        "iteration": 0,
                        "remaining_time": 0.7067031971,
                        "learn": [
                          0.625596076
                        ]
                      },
                      {
                        "test": [
                          0.6058958508
                        ],
                        "passed_time": 0.01667408035,
                        "iteration": 1,
                        "remaining_time": 0.8170299372,
                        "learn": [
                          0.6175835394
                        ]
                      },
                      {
                        "test": [
                          0.5991600973
                        ],
                        "passed_time": 0.01841060781,
                        "iteration": 2,
                        "remaining_time": 0.5952763192,
                        "learn": [
                          0.6107016147
                        ]
                      },
                      {
                        "test": [
                          0.5923488252
                        ],
                        "passed_time": 0.02372983708,
                        "iteration": 3,
                        "remaining_time": 0.56951609,
                        "learn": [
                          0.6037296439
                        ]
                      },
                      {
                        "test": [
                          0.5860706924
                        ],
                        "passed_time": 0.02783937393,
                        "iteration": 4,
                        "remaining_time": 0.5289481047,
                        "learn": [
                          0.5972645657
                        ]
                      },
                      {
                        "test": [
                          0.5802912729
                        ],
                        "passed_time": 0.03029496727,
                        "iteration": 5,
                        "remaining_time": 0.4746211538,
                        "learn": [
                          0.5913373363
                        ]
                      },
                      {
                        "test": [
                          0.5745034002
                        ],
                        "passed_time": 0.0449318125,
                        "iteration": 6,
                        "remaining_time": 0.5969512232,
                        "learn": [
                          0.5853771936
                        ]
                      },
                      {
                        "test": [
                          0.5692983776
                        ],
                        "passed_time": 0.04758284413,
                        "iteration": 7,
                        "remaining_time": 0.5472027075,
                        "learn": [
                          0.5800247627
                        ]
                      },
                      {
                        "test": [
                          0.5641685765
                        ],
                        "passed_time": 0.05209735658,
                        "iteration": 8,
                        "remaining_time": 0.526762161,
                        "learn": [
                          0.5747181645
                        ]
                      },
                      {
                        "test": [
                          0.5591856437
                        ],
                        "passed_time": 0.0588748197,
                        "iteration": 9,
                        "remaining_time": 0.5298733773,
                        "learn": [
                          0.5696195869
                        ]
                      },
                      {
                        "test": [
                          0.5544114649
                        ],
                        "passed_time": 0.06291649756,
                        "iteration": 10,
                        "remaining_time": 0.5090516621,
                        "learn": [
                          0.5647342392
                        ]
                      },
                      {
                        "test": [
                          0.5502078788
                        ],
                        "passed_time": 0.06528408482,
                        "iteration": 11,
                        "remaining_time": 0.4787499553,
                        "learn": [
                          0.5603856422
                        ]
                      },
                      {
                        "test": [
                          0.5462105653
                        ],
                        "passed_time": 0.06952012955,
                        "iteration": 12,
                        "remaining_time": 0.4652500978,
                        "learn": [
                          0.5562519629
                        ]
                      },
                      {
                        "test": [
                          0.541760648
                        ],
                        "passed_time": 0.07354323723,
                        "iteration": 13,
                        "remaining_time": 0.4517656002,
                        "learn": [
                          0.5515934746
                        ]
                      },
                      {
                        "test": [
                          0.5375088345
                        ],
                        "passed_time": 0.08059799482,
                        "iteration": 14,
                        "remaining_time": 0.4567219706,
                        "learn": [
                          0.5471118258
                        ]
                      },
                      {
                        "test": [
                          0.5339716256
                        ],
                        "passed_time": 0.08303334923,
                        "iteration": 15,
                        "remaining_time": 0.4359250835,
                        "learn": [
                          0.5433863749
                        ]
                      },
                      {
                        "test": [
                          0.53044809
                        ],
                        "passed_time": 0.09001130412,
                        "iteration": 16,
                        "remaining_time": 0.4394669554,
                        "learn": [
                          0.5396847774
                        ]
                      },
                      {
                        "test": [
                          0.5270761294
                        ],
                        "passed_time": 0.09739792165,
                        "iteration": 17,
                        "remaining_time": 0.4437016431,
                        "learn": [
                          0.5361418867
                        ]
                      },
                      {
                        "test": [
                          0.5240802039
                        ],
                        "passed_time": 0.107465393,
                        "iteration": 18,
                        "remaining_time": 0.4581419387,
                        "learn": [
                          0.5330190539
                        ]
                      },
                      {
                        "test": [
                          0.5207490534
                        ],
                        "passed_time": 0.1126813471,
                        "iteration": 19,
                        "remaining_time": 0.4507253885,
                        "learn": [
                          0.52951646
                        ]
                      },
                      {
                        "test": [
                          0.5182042092
                        ],
                        "passed_time": 0.1150641012,
                        "iteration": 20,
                        "remaining_time": 0.4328601902,
                        "learn": [
                          0.5268384252
                        ]
                      },
                      {
                        "test": [
                          0.5154614135
                        ],
                        "passed_time": 0.1190773501,
                        "iteration": 21,
                        "remaining_time": 0.4221833322,
                        "learn": [
                          0.5239817158
                        ]
                      },
                      {
                        "test": [
                          0.5130585558
                        ],
                        "passed_time": 0.1226034004,
                        "iteration": 22,
                        "remaining_time": 0.4104548623,
                        "learn": [
                          0.5214102268
                        ]
                      },
                      {
                        "test": [
                          0.5107739301
                        ],
                        "passed_time": 0.1257617568,
                        "iteration": 23,
                        "remaining_time": 0.3982455633,
                        "learn": [
                          0.5189371319
                        ]
                      },
                      {
                        "test": [
                          0.5085389161
                        ],
                        "passed_time": 0.1325443034,
                        "iteration": 24,
                        "remaining_time": 0.3976329103,
                        "learn": [
                          0.5165987993
                        ]
                      },
                      {
                        "test": [
                          0.5065015183
                        ],
                        "passed_time": 0.1395283728,
                        "iteration": 25,
                        "remaining_time": 0.3971192148,
                        "learn": [
                          0.5144359431
                        ]
                      },
                      {
                        "test": [
                          0.5047081149
                        ],
                        "passed_time": 0.142465704,
                        "iteration": 26,
                        "remaining_time": 0.3851850514,
                        "learn": [
                          0.5125199596
                        ]
                      },
                      {
                        "test": [
                          0.5027137498
                        ],
                        "passed_time": 0.1495798323,
                        "iteration": 27,
                        "remaining_time": 0.3846338545,
                        "learn": [
                          0.5103426104
                        ]
                      },
                      {
                        "test": [
                          0.5010254394
                        ],
                        "passed_time": 0.1606150173,
                        "iteration": 28,
                        "remaining_time": 0.39322987,
                        "learn": [
                          0.5084557626
                        ]
                      },
                      {
                        "test": [
                          0.4995281966
                        ],
                        "passed_time": 0.1626985193,
                        "iteration": 29,
                        "remaining_time": 0.3796298783,
                        "learn": [
                          0.5068444316
                        ]
                      },
                      {
                        "test": [
                          0.4975119535
                        ],
                        "passed_time": 0.1684667781,
                        "iteration": 30,
                        "remaining_time": 0.3749744415,
                        "learn": [
                          0.5047386971
                        ]
                      },
                      {
                        "test": [
                          0.4959151163
                        ],
                        "passed_time": 0.1717012904,
                        "iteration": 31,
                        "remaining_time": 0.364865242,
                        "learn": [
                          0.5029690877
                        ]
                      },
                      {
                        "test": [
                          0.4939750323
                        ],
                        "passed_time": 0.195875949,
                        "iteration": 32,
                        "remaining_time": 0.3976875329,
                        "learn": [
                          0.5008493931
                        ]
                      },
                      {
                        "test": [
                          0.49246376
                        ],
                        "passed_time": 0.20433503,
                        "iteration": 33,
                        "remaining_time": 0.3966503524,
                        "learn": [
                          0.4991911082
                        ]
                      },
                      {
                        "test": [
                          0.491148651
                        ],
                        "passed_time": 0.2085811903,
                        "iteration": 34,
                        "remaining_time": 0.3873650678,
                        "learn": [
                          0.4977511318
                        ]
                      },
                      {
                        "test": [
                          0.4894733058
                        ],
                        "passed_time": 0.2310627959,
                        "iteration": 35,
                        "remaining_time": 0.4107783038,
                        "learn": [
                          0.4959258261
                        ]
                      },
                      {
                        "test": [
                          0.4882612144
                        ],
                        "passed_time": 0.2390423492,
                        "iteration": 36,
                        "remaining_time": 0.407018054,
                        "learn": [
                          0.4945249088
                        ]
                      },
                      {
                        "test": [
                          0.4873247671
                        ],
                        "passed_time": 0.2415672775,
                        "iteration": 37,
                        "remaining_time": 0.3941360843,
                        "learn": [
                          0.493503005
                        ]
                      },
                      {
                        "test": [
                          0.4859181131
                        ],
                        "passed_time": 0.2490013633,
                        "iteration": 38,
                        "remaining_time": 0.3894636707,
                        "learn": [
                          0.4919875938
                        ]
                      },
                      {
                        "test": [
                          0.4850998251
                        ],
                        "passed_time": 0.2523170048,
                        "iteration": 39,
                        "remaining_time": 0.3784755073,
                        "learn": [
                          0.4910768174
                        ]
                      },
                      {
                        "test": [
                          0.484308213
                        ],
                        "passed_time": 0.2565567375,
                        "iteration": 40,
                        "remaining_time": 0.3691914028,
                        "learn": [
                          0.4902000131
                        ]
                      },
                      {
                        "test": [
                          0.4835889254
                        ],
                        "passed_time": 0.2582463354,
                        "iteration": 41,
                        "remaining_time": 0.3566258918,
                        "learn": [
                          0.4893952654
                        ]
                      },
                      {
                        "test": [
                          0.4827380758
                        ],
                        "passed_time": 0.2650867486,
                        "iteration": 42,
                        "remaining_time": 0.3513940621,
                        "learn": [
                          0.4884165612
                        ]
                      },
                      {
                        "test": [
                          0.4816522124
                        ],
                        "passed_time": 0.2691541993,
                        "iteration": 43,
                        "remaining_time": 0.3425598901,
                        "learn": [
                          0.487252414
                        ]
                      },
                      {
                        "test": [
                          0.4810330118
                        ],
                        "passed_time": 0.271899737,
                        "iteration": 44,
                        "remaining_time": 0.3323219007,
                        "learn": [
                          0.4865707891
                        ]
                      },
                      {
                        "test": [
                          0.4804742699
                        ],
                        "passed_time": 0.2736841809,
                        "iteration": 45,
                        "remaining_time": 0.3212814297,
                        "learn": [
                          0.4859358373
                        ]
                      },
                      {
                        "test": [
                          0.4795292722
                        ],
                        "passed_time": 0.2788838949,
                        "iteration": 46,
                        "remaining_time": 0.3144860943,
                        "learn": [
                          0.4849115666
                        ]
                      },
                      {
                        "test": [
                          0.4785733755
                        ],
                        "passed_time": 0.301500258,
                        "iteration": 47,
                        "remaining_time": 0.3266252795,
                        "learn": [
                          0.4838272758
                        ]
                      },
                      {
                        "test": [
                          0.4777271726
                        ],
                        "passed_time": 0.3237169189,
                        "iteration": 48,
                        "remaining_time": 0.3369298544,
                        "learn": [
                          0.4828759528
                        ]
                      },
                      {
                        "test": [
                          0.4770702375
                        ],
                        "passed_time": 0.3291137477,
                        "iteration": 49,
                        "remaining_time": 0.3291137477,
                        "learn": [
                          0.4821900812
                        ]
                      },
                      {
                        "test": [
                          0.4762573525
                        ],
                        "passed_time": 0.3359100001,
                        "iteration": 50,
                        "remaining_time": 0.322737059,
                        "learn": [
                          0.4812790356
                        ]
                      },
                      {
                        "test": [
                          0.4756925477
                        ],
                        "passed_time": 0.3416996029,
                        "iteration": 51,
                        "remaining_time": 0.3154150181,
                        "learn": [
                          0.4806620312
                        ]
                      },
                      {
                        "test": [
                          0.4752601795
                        ],
                        "passed_time": 0.3458919169,
                        "iteration": 52,
                        "remaining_time": 0.3067343414,
                        "learn": [
                          0.4801551051
                        ]
                      },
                      {
                        "test": [
                          0.4749237024
                        ],
                        "passed_time": 0.3476223363,
                        "iteration": 53,
                        "remaining_time": 0.2961227309,
                        "learn": [
                          0.4797597927
                        ]
                      },
                      {
                        "test": [
                          0.474191222
                        ],
                        "passed_time": 0.3707176975,
                        "iteration": 54,
                        "remaining_time": 0.3033144798,
                        "learn": [
                          0.4789063494
                        ]
                      },
                      {
                        "test": [
                          0.4737314427
                        ],
                        "passed_time": 0.3902277371,
                        "iteration": 55,
                        "remaining_time": 0.3066075078,
                        "learn": [
                          0.4783639438
                        ]
                      },
                      {
                        "test": [
                          0.4733422673
                        ],
                        "passed_time": 0.4014380943,
                        "iteration": 56,
                        "remaining_time": 0.3028392641,
                        "learn": [
                          0.4779085948
                        ]
                      },
                      {
                        "test": [
                          0.4727519803
                        ],
                        "passed_time": 0.4288609656,
                        "iteration": 57,
                        "remaining_time": 0.3105544923,
                        "learn": [
                          0.477245635
                        ]
                      },
                      {
                        "test": [
                          0.4721327162
                        ],
                        "passed_time": 0.4461943665,
                        "iteration": 58,
                        "remaining_time": 0.3100672716,
                        "learn": [
                          0.4766061438
                        ]
                      },
                      {
                        "test": [
                          0.4716607293
                        ],
                        "passed_time": 0.4558248044,
                        "iteration": 59,
                        "remaining_time": 0.303883203,
                        "learn": [
                          0.4759905786
                        ]
                      },
                      {
                        "test": [
                          0.4712271291
                        ],
                        "passed_time": 0.4613490003,
                        "iteration": 60,
                        "remaining_time": 0.2949608363,
                        "learn": [
                          0.4755615246
                        ]
                      },
                      {
                        "test": [
                          0.4710024324
                        ],
                        "passed_time": 0.463878538,
                        "iteration": 61,
                        "remaining_time": 0.2843126523,
                        "learn": [
                          0.4752347698
                        ]
                      },
                      {
                        "test": [
                          0.4705651847
                        ],
                        "passed_time": 0.4707253447,
                        "iteration": 62,
                        "remaining_time": 0.2764577421,
                        "learn": [
                          0.4747353422
                        ]
                      },
                      {
                        "test": [
                          0.4701386184
                        ],
                        "passed_time": 0.4750947236,
                        "iteration": 63,
                        "remaining_time": 0.267240782,
                        "learn": [
                          0.4742597621
                        ]
                      },
                      {
                        "test": [
                          0.4697632088
                        ],
                        "passed_time": 0.4820107203,
                        "iteration": 64,
                        "remaining_time": 0.259544234,
                        "learn": [
                          0.4738083386
                        ]
                      },
                      {
                        "test": [
                          0.4695494816
                        ],
                        "passed_time": 0.4862366386,
                        "iteration": 65,
                        "remaining_time": 0.2504855411,
                        "learn": [
                          0.473505673
                        ]
                      },
                      {
                        "test": [
                          0.4693114802
                        ],
                        "passed_time": 0.5001748296,
                        "iteration": 66,
                        "remaining_time": 0.2463547668,
                        "learn": [
                          0.473194444
                        ]
                      },
                      {
                        "test": [
                          0.4688797264
                        ],
                        "passed_time": 0.5121208963,
                        "iteration": 67,
                        "remaining_time": 0.2409980688,
                        "learn": [
                          0.4727705643
                        ]
                      },
                      {
                        "test": [
                          0.4685596743
                        ],
                        "passed_time": 0.5369425421,
                        "iteration": 68,
                        "remaining_time": 0.2412350551,
                        "learn": [
                          0.4723287086
                        ]
                      },
                      {
                        "test": [
                          0.4682383841
                        ],
                        "passed_time": 0.5602860705,
                        "iteration": 69,
                        "remaining_time": 0.2401226017,
                        "learn": [
                          0.4719791954
                        ]
                      },
                      {
                        "test": [
                          0.4679535026
                        ],
                        "passed_time": 0.570628544,
                        "iteration": 70,
                        "remaining_time": 0.2330736306,
                        "learn": [
                          0.4716102359
                        ]
                      },
                      {
                        "test": [
                          0.4676757421
                        ],
                        "passed_time": 0.5955674857,
                        "iteration": 71,
                        "remaining_time": 0.2316095778,
                        "learn": [
                          0.4712725773
                        ]
                      },
                      {
                        "test": [
                          0.4673936691
                        ],
                        "passed_time": 0.6099068912,
                        "iteration": 72,
                        "remaining_time": 0.2255820009,
                        "learn": [
                          0.4709346228
                        ]
                      },
                      {
                        "test": [
                          0.4672180969
                        ],
                        "passed_time": 0.6169028658,
                        "iteration": 73,
                        "remaining_time": 0.2167496555,
                        "learn": [
                          0.4707088516
                        ]
                      },
                      {
                        "test": [
                          0.4670692633
                        ],
                        "passed_time": 0.620132555,
                        "iteration": 74,
                        "remaining_time": 0.2067108517,
                        "learn": [
                          0.4705235294
                        ]
                      },
                      {
                        "test": [
                          0.4668140809
                        ],
                        "passed_time": 0.6252965479,
                        "iteration": 75,
                        "remaining_time": 0.1974620678,
                        "learn": [
                          0.4702397507
                        ]
                      },
                      {
                        "test": [
                          0.4666653976
                        ],
                        "passed_time": 0.6352703742,
                        "iteration": 76,
                        "remaining_time": 0.1897560858,
                        "learn": [
                          0.4699932274
                        ]
                      },
                      {
                        "test": [
                          0.4664737576
                        ],
                        "passed_time": 0.6405563352,
                        "iteration": 77,
                        "remaining_time": 0.1806697356,
                        "learn": [
                          0.46980949
                        ]
                      },
                      {
                        "test": [
                          0.4663657833
                        ],
                        "passed_time": 0.6448350106,
                        "iteration": 78,
                        "remaining_time": 0.1714118383,
                        "learn": [
                          0.4696744079
                        ]
                      },
                      {
                        "test": [
                          0.4661343336
                        ],
                        "passed_time": 0.6666831494,
                        "iteration": 79,
                        "remaining_time": 0.1666707874,
                        "learn": [
                          0.4693760295
                        ]
                      },
                      {
                        "test": [
                          0.466004899
                        ],
                        "passed_time": 0.6761537262,
                        "iteration": 80,
                        "remaining_time": 0.1586039605,
                        "learn": [
                          0.4691401101
                        ]
                      },
                      {
                        "test": [
                          0.4659163344
                        ],
                        "passed_time": 0.6814919639,
                        "iteration": 81,
                        "remaining_time": 0.1495957969,
                        "learn": [
                          0.4689852521
                        ]
                      },
                      {
                        "test": [
                          0.4657634866
                        ],
                        "passed_time": 0.7047608107,
                        "iteration": 82,
                        "remaining_time": 0.1443485998,
                        "learn": [
                          0.4687357331
                        ]
                      },
                      {
                        "test": [
                          0.4656983328
                        ],
                        "passed_time": 0.7094737098,
                        "iteration": 83,
                        "remaining_time": 0.1351378495,
                        "learn": [
                          0.4686299846
                        ]
                      },
                      {
                        "test": [
                          0.465622416
                        ],
                        "passed_time": 0.7127516696,
                        "iteration": 84,
                        "remaining_time": 0.1257797064,
                        "learn": [
                          0.4685314584
                        ]
                      },
                      {
                        "test": [
                          0.4654559487
                        ],
                        "passed_time": 0.7295219383,
                        "iteration": 85,
                        "remaining_time": 0.1187593853,
                        "learn": [
                          0.4683338324
                        ]
                      },
                      {
                        "test": [
                          0.4654158159
                        ],
                        "passed_time": 0.7358310008,
                        "iteration": 86,
                        "remaining_time": 0.1099517587,
                        "learn": [
                          0.4682324289
                        ]
                      },
                      {
                        "test": [
                          0.4652295796
                        ],
                        "passed_time": 0.7435154162,
                        "iteration": 87,
                        "remaining_time": 0.1013884659,
                        "learn": [
                          0.4680242423
                        ]
                      },
                      {
                        "test": [
                          0.465147859
                        ],
                        "passed_time": 0.7531858397,
                        "iteration": 88,
                        "remaining_time": 0.09309038469,
                        "learn": [
                          0.4678498346
                        ]
                      },
                      {
                        "test": [
                          0.4649251079
                        ],
                        "passed_time": 0.7628107174,
                        "iteration": 89,
                        "remaining_time": 0.08475674638,
                        "learn": [
                          0.4675790712
                        ]
                      },
                      {
                        "test": [
                          0.4648280321
                        ],
                        "passed_time": 0.7669763002,
                        "iteration": 90,
                        "remaining_time": 0.07585479893,
                        "learn": [
                          0.4674580529
                        ]
                      },
                      {
                        "test": [
                          0.4647076867
                        ],
                        "passed_time": 0.7907309656,
                        "iteration": 91,
                        "remaining_time": 0.0687592144,
                        "learn": [
                          0.467252791
                        ]
                      },
                      {
                        "test": [
                          0.4646354424
                        ],
                        "passed_time": 0.7983739996,
                        "iteration": 92,
                        "remaining_time": 0.06009266663,
                        "learn": [
                          0.4671400883
                        ]
                      },
                      {
                        "test": [
                          0.4644645266
                        ],
                        "passed_time": 0.8219617769,
                        "iteration": 93,
                        "remaining_time": 0.05246564534,
                        "learn": [
                          0.4669396244
                        ]
                      },
                      {
                        "test": [
                          0.4643676273
                        ],
                        "passed_time": 0.8290582192,
                        "iteration": 94,
                        "remaining_time": 0.04363464312,
                        "learn": [
                          0.4668055858
                        ]
                      },
                      {
                        "test": [
                          0.4642717471
                        ],
                        "passed_time": 0.8348495408,
                        "iteration": 95,
                        "remaining_time": 0.03478539753,
                        "learn": [
                          0.4666480225
                        ]
                      },
                      {
                        "test": [
                          0.4642170056
                        ],
                        "passed_time": 0.8424328994,
                        "iteration": 96,
                        "remaining_time": 0.02605462576,
                        "learn": [
                          0.4665515522
                        ]
                      },
                      {
                        "test": [
                          0.4641142024
                        ],
                        "passed_time": 0.8521595662,
                        "iteration": 97,
                        "remaining_time": 0.01739101156,
                        "learn": [
                          0.4664437717
                        ]
                      },
                      {
                        "test": [
                          0.4640587491
                        ],
                        "passed_time": 0.8566005239,
                        "iteration": 98,
                        "remaining_time": 0.008652530544,
                        "learn": [
                          0.4663818487
                        ]
                      },
                      {
                        "test": [
                          0.4639506812
                        ],
                        "passed_time": 0.8620113913,
                        "iteration": 99,
                        "remaining_time": 0,
                        "learn": [
                          0.4662584962
                        ]
                      }
                    ]
                  },
                  "total_iterations": 100,
                  "passed_iterations": 99
                },
                "path": "catboost_info/fold-1",
                "name": "fold-1"
              },
              "catboost_info/fold-0": {
                "content": {
                  "data": {
                    "meta": {
                      "name": "experiment",
                      "parameters": "",
                      "test_metrics": [
                        {
                          "best_value": "Min",
                          "name": "RMSE"
                        }
                      ],
                      "learn_sets": [
                        "learn"
                      ],
                      "launch_mode": "Train",
                      "learn_metrics": [
                        {
                          "best_value": "Min",
                          "name": "RMSE"
                        }
                      ],
                      "iteration_count": 100,
                      "test_sets": [
                        "test"
                      ]
                    },
                    "iterations": [
                      {
                        "test": [
                          0.6245332941
                        ],
                        "passed_time": 0.00470680057,
                        "iteration": 0,
                        "remaining_time": 0.4659732565,
                        "learn": [
                          0.6253643812
                        ]
                      },
                      {
                        "test": [
                          0.6173706372
                        ],
                        "passed_time": 0.01207916544,
                        "iteration": 1,
                        "remaining_time": 0.5918791068,
                        "learn": [
                          0.6181909323
                        ]
                      },
                      {
                        "test": [
                          0.6105528717
                        ],
                        "passed_time": 0.01642284969,
                        "iteration": 2,
                        "remaining_time": 0.5310054732,
                        "learn": [
                          0.6113619432
                        ]
                      },
                      {
                        "test": [
                          0.6037389002
                        ],
                        "passed_time": 0.02207658224,
                        "iteration": 3,
                        "remaining_time": 0.5298379738,
                        "learn": [
                          0.6045752244
                        ]
                      },
                      {
                        "test": [
                          0.5972470152
                        ],
                        "passed_time": 0.02892452904,
                        "iteration": 4,
                        "remaining_time": 0.5495660517,
                        "learn": [
                          0.5981873885
                        ]
                      },
                      {
                        "test": [
                          0.5913795318
                        ],
                        "passed_time": 0.03330615778,
                        "iteration": 5,
                        "remaining_time": 0.5217964719,
                        "learn": [
                          0.5923109384
                        ]
                      },
                      {
                        "test": [
                          0.5858053279
                        ],
                        "passed_time": 0.04933224871,
                        "iteration": 6,
                        "remaining_time": 0.6554141614,
                        "learn": [
                          0.5867272885
                        ]
                      },
                      {
                        "test": [
                          0.5803892089
                        ],
                        "passed_time": 0.05985460407,
                        "iteration": 7,
                        "remaining_time": 0.6883279468,
                        "learn": [
                          0.5811620953
                        ]
                      },
                      {
                        "test": [
                          0.5750266181
                        ],
                        "passed_time": 0.06704182261,
                        "iteration": 8,
                        "remaining_time": 0.6778673175,
                        "learn": [
                          0.5758385819
                        ]
                      },
                      {
                        "test": [
                          0.5702527282
                        ],
                        "passed_time": 0.07142868121,
                        "iteration": 9,
                        "remaining_time": 0.6428581309,
                        "learn": [
                          0.5710589101
                        ]
                      },
                      {
                        "test": [
                          0.5650923004
                        ],
                        "passed_time": 0.07850543872,
                        "iteration": 10,
                        "remaining_time": 0.6351803678,
                        "learn": [
                          0.5656185691
                        ]
                      },
                      {
                        "test": [
                          0.5607459475
                        ],
                        "passed_time": 0.08882719229,
                        "iteration": 11,
                        "remaining_time": 0.6513994102,
                        "learn": [
                          0.5612127828
                        ]
                      },
                      {
                        "test": [
                          0.5563582436
                        ],
                        "passed_time": 0.1009047208,
                        "iteration": 12,
                        "remaining_time": 0.6752854394,
                        "learn": [
                          0.5568632335
                        ]
                      },
                      {
                        "test": [
                          0.5518334795
                        ],
                        "passed_time": 0.1156852249,
                        "iteration": 13,
                        "remaining_time": 0.7106378104,
                        "learn": [
                          0.5521405905
                        ]
                      },
                      {
                        "test": [
                          0.5481618632
                        ],
                        "passed_time": 0.1208927322,
                        "iteration": 14,
                        "remaining_time": 0.6850588158,
                        "learn": [
                          0.5484635416
                        ]
                      },
                      {
                        "test": [
                          0.5440373139
                        ],
                        "passed_time": 0.1276151798,
                        "iteration": 15,
                        "remaining_time": 0.669979694,
                        "learn": [
                          0.5441834702
                        ]
                      },
                      {
                        "test": [
                          0.5401839161
                        ],
                        "passed_time": 0.1864870689,
                        "iteration": 16,
                        "remaining_time": 0.9104956892,
                        "learn": [
                          0.54006647
                        ]
                      },
                      {
                        "test": [
                          0.5363935851
                        ],
                        "passed_time": 0.2149601546,
                        "iteration": 17,
                        "remaining_time": 0.9792629264,
                        "learn": [
                          0.5361780102
                        ]
                      },
                      {
                        "test": [
                          0.533421194
                        ],
                        "passed_time": 0.2197976769,
                        "iteration": 18,
                        "remaining_time": 0.9370322016,
                        "learn": [
                          0.5332100701
                        ]
                      },
                      {
                        "test": [
                          0.5302268425
                        ],
                        "passed_time": 0.261221012,
                        "iteration": 19,
                        "remaining_time": 1.044884048,
                        "learn": [
                          0.5299118082
                        ]
                      },
                      {
                        "test": [
                          0.5270958168
                        ],
                        "passed_time": 0.2787935174,
                        "iteration": 20,
                        "remaining_time": 1.048794661,
                        "learn": [
                          0.526497141
                        ]
                      },
                      {
                        "test": [
                          0.524575164
                        ],
                        "passed_time": 0.2851147409,
                        "iteration": 21,
                        "remaining_time": 1.010861354,
                        "learn": [
                          0.5239815292
                        ]
                      },
                      {
                        "test": [
                          0.5218869236
                        ],
                        "passed_time": 0.2901356891,
                        "iteration": 22,
                        "remaining_time": 0.9713238286,
                        "learn": [
                          0.521421105
                        ]
                      },
                      {
                        "test": [
                          0.5196308239
                        ],
                        "passed_time": 0.2935518615,
                        "iteration": 23,
                        "remaining_time": 0.9295808949,
                        "learn": [
                          0.5191706306
                        ]
                      },
                      {
                        "test": [
                          0.5170458373
                        ],
                        "passed_time": 0.303779065,
                        "iteration": 24,
                        "remaining_time": 0.9113371951,
                        "learn": [
                          0.5164376812
                        ]
                      },
                      {
                        "test": [
                          0.5145874403
                        ],
                        "passed_time": 0.3150473192,
                        "iteration": 25,
                        "remaining_time": 0.8966731393,
                        "learn": [
                          0.5138338864
                        ]
                      },
                      {
                        "test": [
                          0.5122218551
                        ],
                        "passed_time": 0.3404214333,
                        "iteration": 26,
                        "remaining_time": 0.9203986901,
                        "learn": [
                          0.5112916517
                        ]
                      },
                      {
                        "test": [
                          0.5098003141
                        ],
                        "passed_time": 0.3673503997,
                        "iteration": 27,
                        "remaining_time": 0.9446153135,
                        "learn": [
                          0.5087934463
                        ]
                      },
                      {
                        "test": [
                          0.5076191412
                        ],
                        "passed_time": 0.4228313023,
                        "iteration": 28,
                        "remaining_time": 1.035207671,
                        "learn": [
                          0.5066446188
                        ]
                      },
                      {
                        "test": [
                          0.5059628796
                        ],
                        "passed_time": 0.4336251795,
                        "iteration": 29,
                        "remaining_time": 1.011792086,
                        "learn": [
                          0.504878942
                        ]
                      },
                      {
                        "test": [
                          0.5040073875
                        ],
                        "passed_time": 0.4605198166,
                        "iteration": 30,
                        "remaining_time": 1.025027979,
                        "learn": [
                          0.5029774615
                        ]
                      },
                      {
                        "test": [
                          0.5025601155
                        ],
                        "passed_time": 0.4641590035,
                        "iteration": 31,
                        "remaining_time": 0.9863378825,
                        "learn": [
                          0.5015420628
                        ]
                      },
                      {
                        "test": [
                          0.5008409973
                        ],
                        "passed_time": 0.474249689,
                        "iteration": 32,
                        "remaining_time": 0.9628705807,
                        "learn": [
                          0.4997118356
                        ]
                      },
                      {
                        "test": [
                          0.499297942
                        ],
                        "passed_time": 0.4860011006,
                        "iteration": 33,
                        "remaining_time": 0.9434139012,
                        "learn": [
                          0.4982887986
                        ]
                      },
                      {
                        "test": [
                          0.4980525752
                        ],
                        "passed_time": 0.4946351914,
                        "iteration": 34,
                        "remaining_time": 0.9186082127,
                        "learn": [
                          0.4970042713
                        ]
                      },
                      {
                        "test": [
                          0.4965843554
                        ],
                        "passed_time": 0.5102288288,
                        "iteration": 35,
                        "remaining_time": 0.9070734734,
                        "learn": [
                          0.4953880072
                        ]
                      },
                      {
                        "test": [
                          0.4949898626
                        ],
                        "passed_time": 0.5458438113,
                        "iteration": 36,
                        "remaining_time": 0.9294097327,
                        "learn": [
                          0.4939078604
                        ]
                      },
                      {
                        "test": [
                          0.4939990281
                        ],
                        "passed_time": 0.5487560583,
                        "iteration": 37,
                        "remaining_time": 0.8953388319,
                        "learn": [
                          0.4928842318
                        ]
                      },
                      {
                        "test": [
                          0.4926424779
                        ],
                        "passed_time": 0.5923537915,
                        "iteration": 38,
                        "remaining_time": 0.9265020841,
                        "learn": [
                          0.4913514981
                        ]
                      },
                      {
                        "test": [
                          0.4914347123
                        ],
                        "passed_time": 0.5993074895,
                        "iteration": 39,
                        "remaining_time": 0.8989612342,
                        "learn": [
                          0.490064147
                        ]
                      },
                      {
                        "test": [
                          0.4901753952
                        ],
                        "passed_time": 0.612274683,
                        "iteration": 40,
                        "remaining_time": 0.8810782024,
                        "learn": [
                          0.4886984806
                        ]
                      },
                      {
                        "test": [
                          0.4890451077
                        ],
                        "passed_time": 0.6221880108,
                        "iteration": 41,
                        "remaining_time": 0.8592120149,
                        "learn": [
                          0.4877096963
                        ]
                      },
                      {
                        "test": [
                          0.4880587257
                        ],
                        "passed_time": 0.6303960834,
                        "iteration": 42,
                        "remaining_time": 0.8356413198,
                        "learn": [
                          0.4867153448
                        ]
                      },
                      {
                        "test": [
                          0.4871425069
                        ],
                        "passed_time": 0.6395637542,
                        "iteration": 43,
                        "remaining_time": 0.8139902326,
                        "learn": [
                          0.4859054491
                        ]
                      },
                      {
                        "test": [
                          0.4861298874
                        ],
                        "passed_time": 0.6499859495,
                        "iteration": 44,
                        "remaining_time": 0.7944272717,
                        "learn": [
                          0.4847853659
                        ]
                      },
                      {
                        "test": [
                          0.485193234
                        ],
                        "passed_time": 0.6929299053,
                        "iteration": 45,
                        "remaining_time": 0.813439454,
                        "learn": [
                          0.4837508317
                        ]
                      },
                      {
                        "test": [
                          0.4845757303
                        ],
                        "passed_time": 0.7095909753,
                        "iteration": 46,
                        "remaining_time": 0.8001770573,
                        "learn": [
                          0.4831452876
                        ]
                      },
                      {
                        "test": [
                          0.4839961991
                        ],
                        "passed_time": 0.7150412305,
                        "iteration": 47,
                        "remaining_time": 0.7746279997,
                        "learn": [
                          0.4825808626
                        ]
                      },
                      {
                        "test": [
                          0.4834415437
                        ],
                        "passed_time": 0.7215222803,
                        "iteration": 48,
                        "remaining_time": 0.7509721692,
                        "learn": [
                          0.4819398562
                        ]
                      },
                      {
                        "test": [
                          0.4828412512
                        ],
                        "passed_time": 0.7304048007,
                        "iteration": 49,
                        "remaining_time": 0.7304048007,
                        "learn": [
                          0.4812760109
                        ]
                      },
                      {
                        "test": [
                          0.4820054338
                        ],
                        "passed_time": 0.7825171868,
                        "iteration": 50,
                        "remaining_time": 0.7518302383,
                        "learn": [
                          0.4803107914
                        ]
                      },
                      {
                        "test": [
                          0.4813257291
                        ],
                        "passed_time": 0.7935858842,
                        "iteration": 51,
                        "remaining_time": 0.7325408162,
                        "learn": [
                          0.4795588728
                        ]
                      },
                      {
                        "test": [
                          0.4805651964
                        ],
                        "passed_time": 0.8120274143,
                        "iteration": 52,
                        "remaining_time": 0.7200997825,
                        "learn": [
                          0.4787922909
                        ]
                      },
                      {
                        "test": [
                          0.4798516946
                        ],
                        "passed_time": 0.8366436625,
                        "iteration": 53,
                        "remaining_time": 0.7126964533,
                        "learn": [
                          0.4779581386
                        ]
                      },
                      {
                        "test": [
                          0.4794899462
                        ],
                        "passed_time": 0.8551740328,
                        "iteration": 54,
                        "remaining_time": 0.699687845,
                        "learn": [
                          0.4774580798
                        ]
                      },
                      {
                        "test": [
                          0.4788937501
                        ],
                        "passed_time": 0.8697247307,
                        "iteration": 55,
                        "remaining_time": 0.6833551456,
                        "learn": [
                          0.4768635375
                        ]
                      },
                      {
                        "test": [
                          0.4782949679
                        ],
                        "passed_time": 0.8843089215,
                        "iteration": 56,
                        "remaining_time": 0.667110239,
                        "learn": [
                          0.4761899881
                        ]
                      },
                      {
                        "test": [
                          0.4778311007
                        ],
                        "passed_time": 0.937675114,
                        "iteration": 57,
                        "remaining_time": 0.679006117,
                        "learn": [
                          0.4755251061
                        ]
                      },
                      {
                        "test": [
                          0.4772775972
                        ],
                        "passed_time": 0.9462885427,
                        "iteration": 58,
                        "remaining_time": 0.6575903432,
                        "learn": [
                          0.4749831459
                        ]
                      },
                      {
                        "test": [
                          0.4768671297
                        ],
                        "passed_time": 1.004570305,
                        "iteration": 59,
                        "remaining_time": 0.6697135365,
                        "learn": [
                          0.4744107956
                        ]
                      },
                      {
                        "test": [
                          0.4766159195
                        ],
                        "passed_time": 1.011469605,
                        "iteration": 60,
                        "remaining_time": 0.6466772885,
                        "learn": [
                          0.4740846399
                        ]
                      },
                      {
                        "test": [
                          0.4763505897
                        ],
                        "passed_time": 1.022874628,
                        "iteration": 61,
                        "remaining_time": 0.6269231592,
                        "learn": [
                          0.473715121
                        ]
                      },
                      {
                        "test": [
                          0.475909557
                        ],
                        "passed_time": 1.043755582,
                        "iteration": 62,
                        "remaining_time": 0.6129993103,
                        "learn": [
                          0.4732387606
                        ]
                      },
                      {
                        "test": [
                          0.4755730629
                        ],
                        "passed_time": 1.058738175,
                        "iteration": 63,
                        "remaining_time": 0.5955402236,
                        "learn": [
                          0.472893587
                        ]
                      },
                      {
                        "test": [
                          0.4751448009
                        ],
                        "passed_time": 1.089276259,
                        "iteration": 64,
                        "remaining_time": 0.5865333703,
                        "learn": [
                          0.4724570392
                        ]
                      },
                      {
                        "test": [
                          0.4749020767
                        ],
                        "passed_time": 1.0998869,
                        "iteration": 65,
                        "remaining_time": 0.5666084031,
                        "learn": [
                          0.4721548164
                        ]
                      },
                      {
                        "test": [
                          0.4747418226
                        ],
                        "passed_time": 1.110773523,
                        "iteration": 66,
                        "remaining_time": 0.5470974067,
                        "learn": [
                          0.471878372
                        ]
                      },
                      {
                        "test": [
                          0.474566581
                        ],
                        "passed_time": 1.119227973,
                        "iteration": 67,
                        "remaining_time": 0.5266955167,
                        "learn": [
                          0.4716428265
                        ]
                      },
                      {
                        "test": [
                          0.4742737985
                        ],
                        "passed_time": 1.130061288,
                        "iteration": 68,
                        "remaining_time": 0.5077086948,
                        "learn": [
                          0.4713202427
                        ]
                      },
                      {
                        "test": [
                          0.4741095214
                        ],
                        "passed_time": 1.135967314,
                        "iteration": 69,
                        "remaining_time": 0.4868431346,
                        "learn": [
                          0.4711647195
                        ]
                      },
                      {
                        "test": [
                          0.4737693711
                        ],
                        "passed_time": 1.156370643,
                        "iteration": 70,
                        "remaining_time": 0.4723204033,
                        "learn": [
                          0.4708331256
                        ]
                      },
                      {
                        "test": [
                          0.4735229901
                        ],
                        "passed_time": 1.175578559,
                        "iteration": 71,
                        "remaining_time": 0.4571694396,
                        "learn": [
                          0.4704578625
                        ]
                      },
                      {
                        "test": [
                          0.473353537
                        ],
                        "passed_time": 1.186396379,
                        "iteration": 72,
                        "remaining_time": 0.43880414,
                        "learn": [
                          0.4702254729
                        ]
                      },
                      {
                        "test": [
                          0.4732135268
                        ],
                        "passed_time": 1.196198099,
                        "iteration": 73,
                        "remaining_time": 0.4202858185,
                        "learn": [
                          0.4700662697
                        ]
                      },
                      {
                        "test": [
                          0.4729593448
                        ],
                        "passed_time": 1.217633172,
                        "iteration": 74,
                        "remaining_time": 0.4058777242,
                        "learn": [
                          0.469784738
                        ]
                      },
                      {
                        "test": [
                          0.4727233124
                        ],
                        "passed_time": 1.231198495,
                        "iteration": 75,
                        "remaining_time": 0.3887995247,
                        "learn": [
                          0.4695486711
                        ]
                      },
                      {
                        "test": [
                          0.4725129125
                        ],
                        "passed_time": 1.276412805,
                        "iteration": 76,
                        "remaining_time": 0.3812661626,
                        "learn": [
                          0.4693052127
                        ]
                      },
                      {
                        "test": [
                          0.4723309578
                        ],
                        "passed_time": 1.284033274,
                        "iteration": 77,
                        "remaining_time": 0.3621632311,
                        "learn": [
                          0.4691029507
                        ]
                      },
                      {
                        "test": [
                          0.4721886934
                        ],
                        "passed_time": 1.287567496,
                        "iteration": 78,
                        "remaining_time": 0.3422647774,
                        "learn": [
                          0.4689412988
                        ]
                      },
                      {
                        "test": [
                          0.4720961374
                        ],
                        "passed_time": 1.289347364,
                        "iteration": 79,
                        "remaining_time": 0.322336841,
                        "learn": [
                          0.4688585315
                        ]
                      },
                      {
                        "test": [
                          0.471957817
                        ],
                        "passed_time": 1.29901294,
                        "iteration": 80,
                        "remaining_time": 0.3047067389,
                        "learn": [
                          0.4686406753
                        ]
                      },
                      {
                        "test": [
                          0.471866872
                        ],
                        "passed_time": 1.302286299,
                        "iteration": 81,
                        "remaining_time": 0.2858677241,
                        "learn": [
                          0.4685136154
                        ]
                      },
                      {
                        "test": [
                          0.4717610753
                        ],
                        "passed_time": 1.320734402,
                        "iteration": 82,
                        "remaining_time": 0.2705118655,
                        "learn": [
                          0.4681962597
                        ]
                      },
                      {
                        "test": [
                          0.4716047119
                        ],
                        "passed_time": 1.324225357,
                        "iteration": 83,
                        "remaining_time": 0.2522334014,
                        "learn": [
                          0.4680460942
                        ]
                      },
                      {
                        "test": [
                          0.4714155466
                        ],
                        "passed_time": 1.348808199,
                        "iteration": 84,
                        "remaining_time": 0.2380249762,
                        "learn": [
                          0.467824784
                        ]
                      },
                      {
                        "test": [
                          0.4712082577
                        ],
                        "passed_time": 1.356312164,
                        "iteration": 85,
                        "remaining_time": 0.2207950034,
                        "learn": [
                          0.46753028
                        ]
                      },
                      {
                        "test": [
                          0.4711002286
                        ],
                        "passed_time": 1.358862907,
                        "iteration": 86,
                        "remaining_time": 0.2030484803,
                        "learn": [
                          0.4674354288
                        ]
                      },
                      {
                        "test": [
                          0.4709479073
                        ],
                        "passed_time": 1.366187622,
                        "iteration": 87,
                        "remaining_time": 0.1862983121,
                        "learn": [
                          0.4672446117
                        ]
                      },
                      {
                        "test": [
                          0.4709000847
                        ],
                        "passed_time": 1.389551495,
                        "iteration": 88,
                        "remaining_time": 0.1717423196,
                        "learn": [
                          0.4670844178
                        ]
                      },
                      {
                        "test": [
                          0.4707826109
                        ],
                        "passed_time": 1.395207057,
                        "iteration": 89,
                        "remaining_time": 0.1550230063,
                        "learn": [
                          0.4669042112
                        ]
                      },
                      {
                        "test": [
                          0.4707345948
                        ],
                        "passed_time": 1.39945075,
                        "iteration": 90,
                        "remaining_time": 0.1384072171,
                        "learn": [
                          0.4668381887
                        ]
                      },
                      {
                        "test": [
                          0.4705886422
                        ],
                        "passed_time": 1.414304389,
                        "iteration": 91,
                        "remaining_time": 0.1229829903,
                        "learn": [
                          0.4666271059
                        ]
                      },
                      {
                        "test": [
                          0.470445347
                        ],
                        "passed_time": 1.430646577,
                        "iteration": 92,
                        "remaining_time": 0.1076830757,
                        "learn": [
                          0.4664390996
                        ]
                      },
                      {
                        "test": [
                          0.4702667504
                        ],
                        "passed_time": 1.468785246,
                        "iteration": 93,
                        "remaining_time": 0.09375224976,
                        "learn": [
                          0.4661711388
                        ]
                      },
                      {
                        "test": [
                          0.4701865257
                        ],
                        "passed_time": 1.472599482,
                        "iteration": 94,
                        "remaining_time": 0.07750523587,
                        "learn": [
                          0.4661043897
                        ]
                      },
                      {
                        "test": [
                          0.470137669
                        ],
                        "passed_time": 1.476866595,
                        "iteration": 95,
                        "remaining_time": 0.0615361081,
                        "learn": [
                          0.4660265942
                        ]
                      },
                      {
                        "test": [
                          0.4700483606
                        ],
                        "passed_time": 1.48388349,
                        "iteration": 96,
                        "remaining_time": 0.04589330381,
                        "learn": [
                          0.4659210448
                        ]
                      },
                      {
                        "test": [
                          0.4698900354
                        ],
                        "passed_time": 1.494041532,
                        "iteration": 97,
                        "remaining_time": 0.03049064352,
                        "learn": [
                          0.4657600781
                        ]
                      },
                      {
                        "test": [
                          0.4697665368
                        ],
                        "passed_time": 1.517626541,
                        "iteration": 98,
                        "remaining_time": 0.01532956102,
                        "learn": [
                          0.4655801993
                        ]
                      },
                      {
                        "test": [
                          0.469638386
                        ],
                        "passed_time": 1.54245632,
                        "iteration": 99,
                        "remaining_time": 0,
                        "learn": [
                          0.4654449813
                        ]
                      }
                    ]
                  },
                  "total_iterations": 100,
                  "passed_iterations": 99
                },
                "path": "catboost_info/fold-0",
                "name": "fold-0"
              },
              "catboost_info/fold-3": {
                "content": {
                  "data": {
                    "meta": {
                      "name": "experiment",
                      "parameters": "",
                      "test_metrics": [
                        {
                          "best_value": "Min",
                          "name": "RMSE"
                        }
                      ],
                      "learn_sets": [
                        "learn"
                      ],
                      "launch_mode": "Train",
                      "learn_metrics": [
                        {
                          "best_value": "Min",
                          "name": "RMSE"
                        }
                      ],
                      "iteration_count": 100,
                      "test_sets": [
                        "test"
                      ]
                    },
                    "iterations": [
                      {
                        "test": [
                          0.6347845834
                        ],
                        "passed_time": 0.007273631802,
                        "iteration": 0,
                        "remaining_time": 0.7200895484,
                        "learn": [
                          0.6238499012
                        ]
                      },
                      {
                        "test": [
                          0.6272683898
                        ],
                        "passed_time": 0.01286732447,
                        "iteration": 1,
                        "remaining_time": 0.630498899,
                        "learn": [
                          0.6164626875
                        ]
                      },
                      {
                        "test": [
                          0.619494283
                        ],
                        "passed_time": 0.01987492337,
                        "iteration": 2,
                        "remaining_time": 0.6426225223,
                        "learn": [
                          0.6088449722
                        ]
                      },
                      {
                        "test": [
                          0.6128541517
                        ],
                        "passed_time": 0.02698116716,
                        "iteration": 3,
                        "remaining_time": 0.6475480118,
                        "learn": [
                          0.6023550882
                        ]
                      },
                      {
                        "test": [
                          0.6061259936
                        ],
                        "passed_time": 0.03870170472,
                        "iteration": 4,
                        "remaining_time": 0.7353323897,
                        "learn": [
                          0.5957881882
                        ]
                      },
                      {
                        "test": [
                          0.5998930427
                        ],
                        "passed_time": 0.04847923315,
                        "iteration": 5,
                        "remaining_time": 0.7595079859,
                        "learn": [
                          0.5896913247
                        ]
                      },
                      {
                        "test": [
                          0.5932408946
                        ],
                        "passed_time": 0.06319533985,
                        "iteration": 6,
                        "remaining_time": 0.8395952294,
                        "learn": [
                          0.5833124954
                        ]
                      },
                      {
                        "test": [
                          0.586948731
                        ],
                        "passed_time": 0.07348559112,
                        "iteration": 7,
                        "remaining_time": 0.8450842979,
                        "learn": [
                          0.5772803458
                        ]
                      },
                      {
                        "test": [
                          0.5814123697
                        ],
                        "passed_time": 0.08871465023,
                        "iteration": 8,
                        "remaining_time": 0.8970036856,
                        "learn": [
                          0.5718286678
                        ]
                      },
                      {
                        "test": [
                          0.5757469567
                        ],
                        "passed_time": 0.1161442465,
                        "iteration": 9,
                        "remaining_time": 1.045298218,
                        "learn": [
                          0.5663838981
                        ]
                      },
                      {
                        "test": [
                          0.5707056368
                        ],
                        "passed_time": 0.1205383805,
                        "iteration": 10,
                        "remaining_time": 0.9752650784,
                        "learn": [
                          0.5614671324
                        ]
                      },
                      {
                        "test": [
                          0.566035183
                        ],
                        "passed_time": 0.1259924663,
                        "iteration": 11,
                        "remaining_time": 0.9239447529,
                        "learn": [
                          0.5569507016
                        ]
                      },
                      {
                        "test": [
                          0.5614196907
                        ],
                        "passed_time": 0.1351719655,
                        "iteration": 12,
                        "remaining_time": 0.9046123846,
                        "learn": [
                          0.5524947807
                        ]
                      },
                      {
                        "test": [
                          0.556685527
                        ],
                        "passed_time": 0.1403564987,
                        "iteration": 13,
                        "remaining_time": 0.8621899205,
                        "learn": [
                          0.5480012747
                        ]
                      },
                      {
                        "test": [
                          0.5528645021
                        ],
                        "passed_time": 0.1467944091,
                        "iteration": 14,
                        "remaining_time": 0.8318349851,
                        "learn": [
                          0.5443136076
                        ]
                      },
                      {
                        "test": [
                          0.5492461023
                        ],
                        "passed_time": 0.1485289606,
                        "iteration": 15,
                        "remaining_time": 0.779777043,
                        "learn": [
                          0.5408291423
                        ]
                      },
                      {
                        "test": [
                          0.5458104486
                        ],
                        "passed_time": 0.152713625,
                        "iteration": 16,
                        "remaining_time": 0.7456018162,
                        "learn": [
                          0.5375256264
                        ]
                      },
                      {
                        "test": [
                          0.5423645049
                        ],
                        "passed_time": 0.1734275263,
                        "iteration": 17,
                        "remaining_time": 0.7900587309,
                        "learn": [
                          0.5340757687
                        ]
                      },
                      {
                        "test": [
                          0.5392786879
                        ],
                        "passed_time": 0.1778200834,
                        "iteration": 18,
                        "remaining_time": 0.7580750924,
                        "learn": [
                          0.5311179592
                        ]
                      },
                      {
                        "test": [
                          0.5362888864
                        ],
                        "passed_time": 0.1809769798,
                        "iteration": 19,
                        "remaining_time": 0.723907919,
                        "learn": [
                          0.5282865215
                        ]
                      },
                      {
                        "test": [
                          0.5335180764
                        ],
                        "passed_time": 0.1828338947,
                        "iteration": 20,
                        "remaining_time": 0.6878036993,
                        "learn": [
                          0.5256401346
                        ]
                      },
                      {
                        "test": [
                          0.5300651866
                        ],
                        "passed_time": 0.2075115784,
                        "iteration": 21,
                        "remaining_time": 0.7357228689,
                        "learn": [
                          0.5224338487
                        ]
                      },
                      {
                        "test": [
                          0.5268832905
                        ],
                        "passed_time": 0.2176511654,
                        "iteration": 22,
                        "remaining_time": 0.7286582493,
                        "learn": [
                          0.5194165645
                        ]
                      },
                      {
                        "test": [
                          0.5242923072
                        ],
                        "passed_time": 0.2331506045,
                        "iteration": 23,
                        "remaining_time": 0.7383102475,
                        "learn": [
                          0.5169228975
                        ]
                      },
                      {
                        "test": [
                          0.5219761119
                        ],
                        "passed_time": 0.2376098105,
                        "iteration": 24,
                        "remaining_time": 0.7128294315,
                        "learn": [
                          0.5147363939
                        ]
                      },
                      {
                        "test": [
                          0.5196001572
                        ],
                        "passed_time": 0.2475497294,
                        "iteration": 25,
                        "remaining_time": 0.7045646143,
                        "learn": [
                          0.5123693651
                        ]
                      },
                      {
                        "test": [
                          0.5173660559
                        ],
                        "passed_time": 0.2703918466,
                        "iteration": 26,
                        "remaining_time": 0.731059437,
                        "learn": [
                          0.5102836297
                        ]
                      },
                      {
                        "test": [
                          0.515311333
                        ],
                        "passed_time": 0.2749048158,
                        "iteration": 27,
                        "remaining_time": 0.7068980977,
                        "learn": [
                          0.5083079273
                        ]
                      },
                      {
                        "test": [
                          0.5135136082
                        ],
                        "passed_time": 0.2766757761,
                        "iteration": 28,
                        "remaining_time": 0.6773786244,
                        "learn": [
                          0.5066180172
                        ]
                      },
                      {
                        "test": [
                          0.5112164335
                        ],
                        "passed_time": 0.2915403625,
                        "iteration": 29,
                        "remaining_time": 0.6802608458,
                        "learn": [
                          0.5044090982
                        ]
                      },
                      {
                        "test": [
                          0.5089711463
                        ],
                        "passed_time": 0.3163305587,
                        "iteration": 30,
                        "remaining_time": 0.7040905983,
                        "learn": [
                          0.5023311852
                        ]
                      },
                      {
                        "test": [
                          0.5074004465
                        ],
                        "passed_time": 0.3239240429,
                        "iteration": 31,
                        "remaining_time": 0.6883385911,
                        "learn": [
                          0.5008735746
                        ]
                      },
                      {
                        "test": [
                          0.5051747446
                        ],
                        "passed_time": 0.3478549945,
                        "iteration": 32,
                        "remaining_time": 0.7062510495,
                        "learn": [
                          0.4988828318
                        ]
                      },
                      {
                        "test": [
                          0.5036331452
                        ],
                        "passed_time": 0.3518723832,
                        "iteration": 33,
                        "remaining_time": 0.683046391,
                        "learn": [
                          0.497469937
                        ]
                      },
                      {
                        "test": [
                          0.502322277
                        ],
                        "passed_time": 0.3595309085,
                        "iteration": 34,
                        "remaining_time": 0.6677002587,
                        "learn": [
                          0.4961626698
                        ]
                      },
                      {
                        "test": [
                          0.5004541499
                        ],
                        "passed_time": 0.3837697678,
                        "iteration": 35,
                        "remaining_time": 0.682257365,
                        "learn": [
                          0.4945066588
                        ]
                      },
                      {
                        "test": [
                          0.4991841992
                        ],
                        "passed_time": 0.3899129487,
                        "iteration": 36,
                        "remaining_time": 0.6639058315,
                        "learn": [
                          0.4932963585
                        ]
                      },
                      {
                        "test": [
                          0.4975751641
                        ],
                        "passed_time": 0.3940771337,
                        "iteration": 37,
                        "remaining_time": 0.642967955,
                        "learn": [
                          0.4918751237
                        ]
                      },
                      {
                        "test": [
                          0.496461219
                        ],
                        "passed_time": 0.397338738,
                        "iteration": 38,
                        "remaining_time": 0.621478539,
                        "learn": [
                          0.4908603019
                        ]
                      },
                      {
                        "test": [
                          0.4954779642
                        ],
                        "passed_time": 0.3990831896,
                        "iteration": 39,
                        "remaining_time": 0.5986247844,
                        "learn": [
                          0.4899634454
                        ]
                      },
                      {
                        "test": [
                          0.4940183551
                        ],
                        "passed_time": 0.4250628907,
                        "iteration": 40,
                        "remaining_time": 0.611675867,
                        "learn": [
                          0.4886819952
                        ]
                      },
                      {
                        "test": [
                          0.4931268261
                        ],
                        "passed_time": 0.4347222776,
                        "iteration": 41,
                        "remaining_time": 0.6003307643,
                        "learn": [
                          0.4877905517
                        ]
                      },
                      {
                        "test": [
                          0.4919212143
                        ],
                        "passed_time": 0.4519799295,
                        "iteration": 42,
                        "remaining_time": 0.5991361856,
                        "learn": [
                          0.4867205852
                        ]
                      },
                      {
                        "test": [
                          0.4909801859
                        ],
                        "passed_time": 0.4670578125,
                        "iteration": 43,
                        "remaining_time": 0.5944372158,
                        "learn": [
                          0.4857872836
                        ]
                      },
                      {
                        "test": [
                          0.490153906
                        ],
                        "passed_time": 0.4730068924,
                        "iteration": 44,
                        "remaining_time": 0.5781195351,
                        "learn": [
                          0.485000121
                        ]
                      },
                      {
                        "test": [
                          0.4894495813
                        ],
                        "passed_time": 0.4748339001,
                        "iteration": 45,
                        "remaining_time": 0.5574137088,
                        "learn": [
                          0.4843703446
                        ]
                      },
                      {
                        "test": [
                          0.4886833453
                        ],
                        "passed_time": 0.477322009,
                        "iteration": 46,
                        "remaining_time": 0.5382567336,
                        "learn": [
                          0.4836544311
                        ]
                      },
                      {
                        "test": [
                          0.4875594593
                        ],
                        "passed_time": 0.5022691131,
                        "iteration": 47,
                        "remaining_time": 0.5441248725,
                        "learn": [
                          0.4826757404
                        ]
                      },
                      {
                        "test": [
                          0.48679556
                        ],
                        "passed_time": 0.5182926225,
                        "iteration": 48,
                        "remaining_time": 0.5394474234,
                        "learn": [
                          0.4819413843
                        ]
                      },
                      {
                        "test": [
                          0.4861740292
                        ],
                        "passed_time": 0.5369438244,
                        "iteration": 49,
                        "remaining_time": 0.5369438244,
                        "learn": [
                          0.4814212101
                        ]
                      },
                      {
                        "test": [
                          0.4852291996
                        ],
                        "passed_time": 0.5477097027,
                        "iteration": 50,
                        "remaining_time": 0.5262308908,
                        "learn": [
                          0.480632319
                        ]
                      },
                      {
                        "test": [
                          0.4847239382
                        ],
                        "passed_time": 0.5518937321,
                        "iteration": 51,
                        "remaining_time": 0.5094403681,
                        "learn": [
                          0.4801909528
                        ]
                      },
                      {
                        "test": [
                          0.4838672461
                        ],
                        "passed_time": 0.5761985048,
                        "iteration": 52,
                        "remaining_time": 0.5109684854,
                        "learn": [
                          0.4794199564
                        ]
                      },
                      {
                        "test": [
                          0.4832501239
                        ],
                        "passed_time": 0.581839603,
                        "iteration": 53,
                        "remaining_time": 0.4956411433,
                        "learn": [
                          0.478833554
                        ]
                      },
                      {
                        "test": [
                          0.4826957122
                        ],
                        "passed_time": 0.5873213931,
                        "iteration": 54,
                        "remaining_time": 0.4805356853,
                        "learn": [
                          0.4783658889
                        ]
                      },
                      {
                        "test": [
                          0.4821241056
                        ],
                        "passed_time": 0.5945165535,
                        "iteration": 55,
                        "remaining_time": 0.4671201492,
                        "learn": [
                          0.4778073158
                        ]
                      },
                      {
                        "test": [
                          0.4815627057
                        ],
                        "passed_time": 0.6010489959,
                        "iteration": 56,
                        "remaining_time": 0.4534229267,
                        "learn": [
                          0.477337212
                        ]
                      },
                      {
                        "test": [
                          0.4809848175
                        ],
                        "passed_time": 0.6159730393,
                        "iteration": 57,
                        "remaining_time": 0.4460494423,
                        "learn": [
                          0.4768661995
                        ]
                      },
                      {
                        "test": [
                          0.4805667
                        ],
                        "passed_time": 0.6194986296,
                        "iteration": 58,
                        "remaining_time": 0.4304990477,
                        "learn": [
                          0.4765236121
                        ]
                      },
                      {
                        "test": [
                          0.4801337262
                        ],
                        "passed_time": 0.6296959918,
                        "iteration": 59,
                        "remaining_time": 0.4197973279,
                        "learn": [
                          0.4761399901
                        ]
                      },
                      {
                        "test": [
                          0.479575983
                        ],
                        "passed_time": 0.6533812581,
                        "iteration": 60,
                        "remaining_time": 0.4177355584,
                        "learn": [
                          0.475563437
                        ]
                      },
                      {
                        "test": [
                          0.4792254403
                        ],
                        "passed_time": 0.6560724366,
                        "iteration": 61,
                        "remaining_time": 0.4021089128,
                        "learn": [
                          0.4752716395
                        ]
                      },
                      {
                        "test": [
                          0.4786401131
                        ],
                        "passed_time": 0.6664212018,
                        "iteration": 62,
                        "remaining_time": 0.3913902296,
                        "learn": [
                          0.4748216432
                        ]
                      },
                      {
                        "test": [
                          0.4783205322
                        ],
                        "passed_time": 0.6719196302,
                        "iteration": 63,
                        "remaining_time": 0.377954792,
                        "learn": [
                          0.4745169404
                        ]
                      },
                      {
                        "test": [
                          0.4780108588
                        ],
                        "passed_time": 0.6761480163,
                        "iteration": 64,
                        "remaining_time": 0.3640797011,
                        "learn": [
                          0.4742873449
                        ]
                      },
                      {
                        "test": [
                          0.4775299028
                        ],
                        "passed_time": 0.6940134198,
                        "iteration": 65,
                        "remaining_time": 0.3575220648,
                        "learn": [
                          0.473865953
                        ]
                      },
                      {
                        "test": [
                          0.4772035331
                        ],
                        "passed_time": 0.7090366346,
                        "iteration": 66,
                        "remaining_time": 0.3492269991,
                        "learn": [
                          0.4735000583
                        ]
                      },
                      {
                        "test": [
                          0.4767648978
                        ],
                        "passed_time": 0.7146552014,
                        "iteration": 67,
                        "remaining_time": 0.3363083301,
                        "learn": [
                          0.4731073008
                        ]
                      },
                      {
                        "test": [
                          0.4762668182
                        ],
                        "passed_time": 0.728825032,
                        "iteration": 68,
                        "remaining_time": 0.3274431303,
                        "learn": [
                          0.4726875312
                        ]
                      },
                      {
                        "test": [
                          0.4759005842
                        ],
                        "passed_time": 0.7523978889,
                        "iteration": 69,
                        "remaining_time": 0.3224562381,
                        "learn": [
                          0.4723060212
                        ]
                      },
                      {
                        "test": [
                          0.4755837827
                        ],
                        "passed_time": 0.7619752151,
                        "iteration": 70,
                        "remaining_time": 0.3112293132,
                        "learn": [
                          0.4720017883
                        ]
                      },
                      {
                        "test": [
                          0.4752477514
                        ],
                        "passed_time": 0.7720577333,
                        "iteration": 71,
                        "remaining_time": 0.3002446741,
                        "learn": [
                          0.4716991054
                        ]
                      },
                      {
                        "test": [
                          0.4746430524
                        ],
                        "passed_time": 0.7957232343,
                        "iteration": 72,
                        "remaining_time": 0.2943085935,
                        "learn": [
                          0.4711510644
                        ]
                      },
                      {
                        "test": [
                          0.4744732851
                        ],
                        "passed_time": 0.7996844302,
                        "iteration": 73,
                        "remaining_time": 0.2809702052,
                        "learn": [
                          0.4710006536
                        ]
                      },
                      {
                        "test": [
                          0.4743357004
                        ],
                        "passed_time": 0.8032728978,
                        "iteration": 74,
                        "remaining_time": 0.2677576326,
                        "learn": [
                          0.4708308543
                        ]
                      },
                      {
                        "test": [
                          0.4739917908
                        ],
                        "passed_time": 0.8103555606,
                        "iteration": 75,
                        "remaining_time": 0.255901756,
                        "learn": [
                          0.4705587624
                        ]
                      },
                      {
                        "test": [
                          0.4738307618
                        ],
                        "passed_time": 0.8145068918,
                        "iteration": 76,
                        "remaining_time": 0.2432942664,
                        "learn": [
                          0.4704082207
                        ]
                      },
                      {
                        "test": [
                          0.4733724748
                        ],
                        "passed_time": 0.8392214462,
                        "iteration": 77,
                        "remaining_time": 0.2367034848,
                        "learn": [
                          0.4700320965
                        ]
                      },
                      {
                        "test": [
                          0.472998345
                        ],
                        "passed_time": 0.8468096956,
                        "iteration": 78,
                        "remaining_time": 0.2251013115,
                        "learn": [
                          0.4697654848
                        ]
                      },
                      {
                        "test": [
                          0.4728563136
                        ],
                        "passed_time": 0.8501674897,
                        "iteration": 79,
                        "remaining_time": 0.2125418724,
                        "learn": [
                          0.4696300098
                        ]
                      },
                      {
                        "test": [
                          0.472732326
                        ],
                        "passed_time": 0.85343888,
                        "iteration": 80,
                        "remaining_time": 0.2001893669,
                        "learn": [
                          0.4695084545
                        ]
                      },
                      {
                        "test": [
                          0.4723881444
                        ],
                        "passed_time": 0.8717051775,
                        "iteration": 81,
                        "remaining_time": 0.191349917,
                        "learn": [
                          0.4692135841
                        ]
                      },
                      {
                        "test": [
                          0.4722970021
                        ],
                        "passed_time": 0.8764768942,
                        "iteration": 82,
                        "remaining_time": 0.1795193639,
                        "learn": [
                          0.4691175662
                        ]
                      },
                      {
                        "test": [
                          0.4720669745
                        ],
                        "passed_time": 0.8826720767,
                        "iteration": 83,
                        "remaining_time": 0.1681280146,
                        "learn": [
                          0.468971038
                        ]
                      },
                      {
                        "test": [
                          0.4719100653
                        ],
                        "passed_time": 0.8875175618,
                        "iteration": 84,
                        "remaining_time": 0.1566207462,
                        "learn": [
                          0.4688294888
                        ]
                      },
                      {
                        "test": [
                          0.4716709961
                        ],
                        "passed_time": 0.8918728258,
                        "iteration": 85,
                        "remaining_time": 0.1451885996,
                        "learn": [
                          0.4686793415
                        ]
                      },
                      {
                        "test": [
                          0.471458573
                        ],
                        "passed_time": 0.897936342,
                        "iteration": 86,
                        "remaining_time": 0.1341743959,
                        "learn": [
                          0.4685283402
                        ]
                      },
                      {
                        "test": [
                          0.4713144771
                        ],
                        "passed_time": 0.9056018641,
                        "iteration": 87,
                        "remaining_time": 0.1234911633,
                        "learn": [
                          0.4683371037
                        ]
                      },
                      {
                        "test": [
                          0.4712557082
                        ],
                        "passed_time": 0.9098982524,
                        "iteration": 88,
                        "remaining_time": 0.1124593346,
                        "learn": [
                          0.4682396545
                        ]
                      },
                      {
                        "test": [
                          0.4710854279
                        ],
                        "passed_time": 0.9346983764,
                        "iteration": 89,
                        "remaining_time": 0.1038553752,
                        "learn": [
                          0.4680425818
                        ]
                      },
                      {
                        "test": [
                          0.4708835786
                        ],
                        "passed_time": 0.9456895448,
                        "iteration": 90,
                        "remaining_time": 0.0935297352,
                        "learn": [
                          0.4678856626
                        ]
                      },
                      {
                        "test": [
                          0.4706954859
                        ],
                        "passed_time": 0.9543878725,
                        "iteration": 91,
                        "remaining_time": 0.08299024978,
                        "learn": [
                          0.4677444953
                        ]
                      },
                      {
                        "test": [
                          0.4705068494
                        ],
                        "passed_time": 0.9579159948,
                        "iteration": 92,
                        "remaining_time": 0.07210120391,
                        "learn": [
                          0.4676271279
                        ]
                      },
                      {
                        "test": [
                          0.4703233621
                        ],
                        "passed_time": 0.9650725683,
                        "iteration": 93,
                        "remaining_time": 0.0616003767,
                        "learn": [
                          0.4674641086
                        ]
                      },
                      {
                        "test": [
                          0.4701691172
                        ],
                        "passed_time": 0.974767186,
                        "iteration": 94,
                        "remaining_time": 0.0513035361,
                        "learn": [
                          0.4673089621
                        ]
                      },
                      {
                        "test": [
                          0.4700189186
                        ],
                        "passed_time": 0.9827231892,
                        "iteration": 95,
                        "remaining_time": 0.04094679955,
                        "learn": [
                          0.4671663917
                        ]
                      },
                      {
                        "test": [
                          0.4699012718
                        ],
                        "passed_time": 0.9898611903,
                        "iteration": 96,
                        "remaining_time": 0.03061426362,
                        "learn": [
                          0.467014028
                        ]
                      },
                      {
                        "test": [
                          0.4698040668
                        ],
                        "passed_time": 1.005926084,
                        "iteration": 97,
                        "remaining_time": 0.02052910375,
                        "learn": [
                          0.4668855266
                        ]
                      },
                      {
                        "test": [
                          0.4696025954
                        ],
                        "passed_time": 1.011598818,
                        "iteration": 98,
                        "remaining_time": 0.01021816988,
                        "learn": [
                          0.4667227849
                        ]
                      },
                      {
                        "test": [
                          0.4695339344
                        ],
                        "passed_time": 1.015217414,
                        "iteration": 99,
                        "remaining_time": 0,
                        "learn": [
                          0.4666537913
                        ]
                      }
                    ]
                  },
                  "total_iterations": 100,
                  "passed_iterations": 99
                },
                "path": "catboost_info/fold-3",
                "name": "fold-3"
              },
              "catboost_info/fold-2": {
                "content": {
                  "data": {
                    "meta": {
                      "name": "experiment",
                      "parameters": "",
                      "test_metrics": [
                        {
                          "best_value": "Min",
                          "name": "RMSE"
                        }
                      ],
                      "learn_sets": [
                        "learn"
                      ],
                      "launch_mode": "Train",
                      "learn_metrics": [
                        {
                          "best_value": "Min",
                          "name": "RMSE"
                        }
                      ],
                      "iteration_count": 100,
                      "test_sets": [
                        "test"
                      ]
                    },
                    "iterations": [
                      {
                        "test": [
                          0.6083569692
                        ],
                        "passed_time": 0.0114439645,
                        "iteration": 0,
                        "remaining_time": 1.132952485,
                        "learn": [
                          0.6265948359
                        ]
                      },
                      {
                        "test": [
                          0.6013489209
                        ],
                        "passed_time": 0.01647406633,
                        "iteration": 1,
                        "remaining_time": 0.8072292502,
                        "learn": [
                          0.6193547529
                        ]
                      },
                      {
                        "test": [
                          0.5942058916
                        ],
                        "passed_time": 0.02622578233,
                        "iteration": 2,
                        "remaining_time": 0.8479669621,
                        "learn": [
                          0.6116170646
                        ]
                      },
                      {
                        "test": [
                          0.5878759571
                        ],
                        "passed_time": 0.03110623856,
                        "iteration": 3,
                        "remaining_time": 0.7465497254,
                        "learn": [
                          0.6050516635
                        ]
                      },
                      {
                        "test": [
                          0.5817315151
                        ],
                        "passed_time": 0.04264636643,
                        "iteration": 4,
                        "remaining_time": 0.8102809622,
                        "learn": [
                          0.5985935502
                        ]
                      },
                      {
                        "test": [
                          0.5759064375
                        ],
                        "passed_time": 0.05118683492,
                        "iteration": 5,
                        "remaining_time": 0.8019270804,
                        "learn": [
                          0.5923512126
                        ]
                      },
                      {
                        "test": [
                          0.5703786315
                        ],
                        "passed_time": 0.05981507493,
                        "iteration": 6,
                        "remaining_time": 0.7946859955,
                        "learn": [
                          0.5865131814
                        ]
                      },
                      {
                        "test": [
                          0.5651278982
                        ],
                        "passed_time": 0.06809949338,
                        "iteration": 7,
                        "remaining_time": 0.7831441738,
                        "learn": [
                          0.580851893
                        ]
                      },
                      {
                        "test": [
                          0.5602697898
                        ],
                        "passed_time": 0.07294142779,
                        "iteration": 8,
                        "remaining_time": 0.737518881,
                        "learn": [
                          0.575756726
                        ]
                      },
                      {
                        "test": [
                          0.555667655
                        ],
                        "passed_time": 0.07977673703,
                        "iteration": 9,
                        "remaining_time": 0.7179906333,
                        "learn": [
                          0.5709164077
                        ]
                      },
                      {
                        "test": [
                          0.5512070075
                        ],
                        "passed_time": 0.08438222074,
                        "iteration": 10,
                        "remaining_time": 0.6827288769,
                        "learn": [
                          0.5660523063
                        ]
                      },
                      {
                        "test": [
                          0.5466309256
                        ],
                        "passed_time": 0.1139551142,
                        "iteration": 11,
                        "remaining_time": 0.8356708377,
                        "learn": [
                          0.5611029579
                        ]
                      },
                      {
                        "test": [
                          0.5423834205
                        ],
                        "passed_time": 0.1262475322,
                        "iteration": 12,
                        "remaining_time": 0.8448873309,
                        "learn": [
                          0.5564971256
                        ]
                      },
                      {
                        "test": [
                          0.5382522972
                        ],
                        "passed_time": 0.1508223766,
                        "iteration": 13,
                        "remaining_time": 0.9264803137,
                        "learn": [
                          0.5517138629
                        ]
                      },
                      {
                        "test": [
                          0.5342064879
                        ],
                        "passed_time": 0.1648235218,
                        "iteration": 14,
                        "remaining_time": 0.9339999569,
                        "learn": [
                          0.5471706159
                        ]
                      },
                      {
                        "test": [
                          0.530449083
                        ],
                        "passed_time": 0.1738665762,
                        "iteration": 15,
                        "remaining_time": 0.9127995249,
                        "learn": [
                          0.542904635
                        ]
                      },
                      {
                        "test": [
                          0.5273277262
                        ],
                        "passed_time": 0.1791780932,
                        "iteration": 16,
                        "remaining_time": 0.8748106902,
                        "learn": [
                          0.5395560163
                        ]
                      },
                      {
                        "test": [
                          0.5243795159
                        ],
                        "passed_time": 0.1909589547,
                        "iteration": 17,
                        "remaining_time": 0.8699241271,
                        "learn": [
                          0.5363815342
                        ]
                      },
                      {
                        "test": [
                          0.5212079093
                        ],
                        "passed_time": 0.2048062386,
                        "iteration": 18,
                        "remaining_time": 0.8731213329,
                        "learn": [
                          0.5326955988
                        ]
                      },
                      {
                        "test": [
                          0.5183729924
                        ],
                        "passed_time": 0.2192374413,
                        "iteration": 19,
                        "remaining_time": 0.8769497651,
                        "learn": [
                          0.5296199527
                        ]
                      },
                      {
                        "test": [
                          0.5155532556
                        ],
                        "passed_time": 0.262941473,
                        "iteration": 20,
                        "remaining_time": 0.9891607795,
                        "learn": [
                          0.5263074884
                        ]
                      },
                      {
                        "test": [
                          0.5131560607
                        ],
                        "passed_time": 0.2663161813,
                        "iteration": 21,
                        "remaining_time": 0.9442119154,
                        "learn": [
                          0.5236895632
                        ]
                      },
                      {
                        "test": [
                          0.5109560779
                        ],
                        "passed_time": 0.2689970215,
                        "iteration": 22,
                        "remaining_time": 0.9005552457,
                        "learn": [
                          0.5212786789
                        ]
                      },
                      {
                        "test": [
                          0.5082944911
                        ],
                        "passed_time": 0.2927794362,
                        "iteration": 23,
                        "remaining_time": 0.9271348812,
                        "learn": [
                          0.5182858784
                        ]
                      },
                      {
                        "test": [
                          0.5061597675
                        ],
                        "passed_time": 0.2993232624,
                        "iteration": 24,
                        "remaining_time": 0.8979697871,
                        "learn": [
                          0.5159089237
                        ]
                      },
                      {
                        "test": [
                          0.5042953755
                        ],
                        "passed_time": 0.3020118003,
                        "iteration": 25,
                        "remaining_time": 0.859572047,
                        "learn": [
                          0.5138533014
                        ]
                      },
                      {
                        "test": [
                          0.5021649425
                        ],
                        "passed_time": 0.3256217276,
                        "iteration": 26,
                        "remaining_time": 0.880384671,
                        "learn": [
                          0.5112812746
                        ]
                      },
                      {
                        "test": [
                          0.5003647687
                        ],
                        "passed_time": 0.3330995946,
                        "iteration": 27,
                        "remaining_time": 0.8565418147,
                        "learn": [
                          0.5092889564
                        ]
                      },
                      {
                        "test": [
                          0.4986677599
                        ],
                        "passed_time": 0.3364022104,
                        "iteration": 28,
                        "remaining_time": 0.8236054117,
                        "learn": [
                          0.5073971828
                        ]
                      },
                      {
                        "test": [
                          0.4971828425
                        ],
                        "passed_time": 0.3396747904,
                        "iteration": 29,
                        "remaining_time": 0.7925745109,
                        "learn": [
                          0.5056061147
                        ]
                      },
                      {
                        "test": [
                          0.4955977274
                        ],
                        "passed_time": 0.3491494037,
                        "iteration": 30,
                        "remaining_time": 0.7771389954,
                        "learn": [
                          0.5038230325
                        ]
                      },
                      {
                        "test": [
                          0.4940853502
                        ],
                        "passed_time": 0.3533751929,
                        "iteration": 31,
                        "remaining_time": 0.7509222848,
                        "learn": [
                          0.5021429654
                        ]
                      },
                      {
                        "test": [
                          0.4928955573
                        ],
                        "passed_time": 0.3551010988,
                        "iteration": 32,
                        "remaining_time": 0.7209628369,
                        "learn": [
                          0.5007780339
                        ]
                      },
                      {
                        "test": [
                          0.4914561524
                        ],
                        "passed_time": 0.3620863132,
                        "iteration": 33,
                        "remaining_time": 0.7028734315,
                        "learn": [
                          0.4989252285
                        ]
                      },
                      {
                        "test": [
                          0.4903697931
                        ],
                        "passed_time": 0.3662210402,
                        "iteration": 34,
                        "remaining_time": 0.6801247889,
                        "learn": [
                          0.4975611714
                        ]
                      },
                      {
                        "test": [
                          0.4891223066
                        ],
                        "passed_time": 0.3715644459,
                        "iteration": 35,
                        "remaining_time": 0.6605590149,
                        "learn": [
                          0.4961025968
                        ]
                      },
                      {
                        "test": [
                          0.4881981051
                        ],
                        "passed_time": 0.3734390119,
                        "iteration": 36,
                        "remaining_time": 0.6358556148,
                        "learn": [
                          0.4950202089
                        ]
                      },
                      {
                        "test": [
                          0.4868787453
                        ],
                        "passed_time": 0.3830092954,
                        "iteration": 37,
                        "remaining_time": 0.624909903,
                        "learn": [
                          0.4935199557
                        ]
                      },
                      {
                        "test": [
                          0.4858107619
                        ],
                        "passed_time": 0.3862118417,
                        "iteration": 38,
                        "remaining_time": 0.6040749319,
                        "learn": [
                          0.4920752075
                        ]
                      },
                      {
                        "test": [
                          0.4849728881
                        ],
                        "passed_time": 0.390360454,
                        "iteration": 39,
                        "remaining_time": 0.585540681,
                        "learn": [
                          0.4910577386
                        ]
                      },
                      {
                        "test": [
                          0.4841252885
                        ],
                        "passed_time": 0.392773564,
                        "iteration": 40,
                        "remaining_time": 0.5652107384,
                        "learn": [
                          0.4900418006
                        ]
                      },
                      {
                        "test": [
                          0.4833747061
                        ],
                        "passed_time": 0.3959594925,
                        "iteration": 41,
                        "remaining_time": 0.5468012039,
                        "learn": [
                          0.4891374304
                        ]
                      },
                      {
                        "test": [
                          0.4825307018
                        ],
                        "passed_time": 0.4001213947,
                        "iteration": 42,
                        "remaining_time": 0.5303934767,
                        "learn": [
                          0.4879458758
                        ]
                      },
                      {
                        "test": [
                          0.4817002066
                        ],
                        "passed_time": 0.4068207032,
                        "iteration": 43,
                        "remaining_time": 0.5177718041,
                        "learn": [
                          0.4866960769
                        ]
                      },
                      {
                        "test": [
                          0.4810356848
                        ],
                        "passed_time": 0.4175745708,
                        "iteration": 44,
                        "remaining_time": 0.5103689198,
                        "learn": [
                          0.4858469798
                        ]
                      },
                      {
                        "test": [
                          0.4803364283
                        ],
                        "passed_time": 0.4225647571,
                        "iteration": 45,
                        "remaining_time": 0.4960542801,
                        "learn": [
                          0.4848276226
                        ]
                      },
                      {
                        "test": [
                          0.4796676698
                        ],
                        "passed_time": 0.4294891216,
                        "iteration": 46,
                        "remaining_time": 0.4843175201,
                        "learn": [
                          0.4840632143
                        ]
                      },
                      {
                        "test": [
                          0.4791972142
                        ],
                        "passed_time": 0.4351350518,
                        "iteration": 47,
                        "remaining_time": 0.4713963062,
                        "learn": [
                          0.4833866925
                        ]
                      },
                      {
                        "test": [
                          0.4787693032
                        ],
                        "passed_time": 0.4384571633,
                        "iteration": 48,
                        "remaining_time": 0.4563533741,
                        "learn": [
                          0.4828483522
                        ]
                      },
                      {
                        "test": [
                          0.4781512299
                        ],
                        "passed_time": 0.4425911685,
                        "iteration": 49,
                        "remaining_time": 0.4425911685,
                        "learn": [
                          0.4819454467
                        ]
                      },
                      {
                        "test": [
                          0.4777253518
                        ],
                        "passed_time": 0.4458303224,
                        "iteration": 50,
                        "remaining_time": 0.4283467803,
                        "learn": [
                          0.4813757494
                        ]
                      },
                      {
                        "test": [
                          0.4773348906
                        ],
                        "passed_time": 0.4492692735,
                        "iteration": 51,
                        "remaining_time": 0.4147100986,
                        "learn": [
                          0.4808735669
                        ]
                      },
                      {
                        "test": [
                          0.4766842801
                        ],
                        "passed_time": 0.4607667556,
                        "iteration": 52,
                        "remaining_time": 0.4086044814,
                        "learn": [
                          0.4800819532
                        ]
                      },
                      {
                        "test": [
                          0.4763841492
                        ],
                        "passed_time": 0.484155479,
                        "iteration": 53,
                        "remaining_time": 0.4124287414,
                        "learn": [
                          0.4796829495
                        ]
                      },
                      {
                        "test": [
                          0.4760268125
                        ],
                        "passed_time": 0.4893625549,
                        "iteration": 54,
                        "remaining_time": 0.4003875449,
                        "learn": [
                          0.4792380892
                        ]
                      },
                      {
                        "test": [
                          0.475637887
                        ],
                        "passed_time": 0.503440781,
                        "iteration": 55,
                        "remaining_time": 0.3955606136,
                        "learn": [
                          0.4785307908
                        ]
                      },
                      {
                        "test": [
                          0.4752414532
                        ],
                        "passed_time": 0.5155555576,
                        "iteration": 56,
                        "remaining_time": 0.3889278768,
                        "learn": [
                          0.4779924349
                        ]
                      },
                      {
                        "test": [
                          0.4748465857
                        ],
                        "passed_time": 0.5230769212,
                        "iteration": 57,
                        "remaining_time": 0.3787798395,
                        "learn": [
                          0.4774770436
                        ]
                      },
                      {
                        "test": [
                          0.474556108
                        ],
                        "passed_time": 0.5267215476,
                        "iteration": 58,
                        "remaining_time": 0.3660268381,
                        "learn": [
                          0.4770823573
                        ]
                      },
                      {
                        "test": [
                          0.4742474732
                        ],
                        "passed_time": 0.5309002521,
                        "iteration": 59,
                        "remaining_time": 0.3539335014,
                        "learn": [
                          0.4766503296
                        ]
                      },
                      {
                        "test": [
                          0.4737425486
                        ],
                        "passed_time": 0.5594278797,
                        "iteration": 60,
                        "remaining_time": 0.357667005,
                        "learn": [
                          0.4759427107
                        ]
                      },
                      {
                        "test": [
                          0.4735218251
                        ],
                        "passed_time": 0.5645047211,
                        "iteration": 61,
                        "remaining_time": 0.3459867645,
                        "learn": [
                          0.4756202856
                        ]
                      },
                      {
                        "test": [
                          0.473177237
                        ],
                        "passed_time": 0.5958430387,
                        "iteration": 62,
                        "remaining_time": 0.3499395624,
                        "learn": [
                          0.4751204824
                        ]
                      },
                      {
                        "test": [
                          0.4729831649
                        ],
                        "passed_time": 0.6003190935,
                        "iteration": 63,
                        "remaining_time": 0.3376794901,
                        "learn": [
                          0.4748343117
                        ]
                      },
                      {
                        "test": [
                          0.4726675152
                        ],
                        "passed_time": 0.6191296016,
                        "iteration": 64,
                        "remaining_time": 0.3333774778,
                        "learn": [
                          0.474368373
                        ]
                      },
                      {
                        "test": [
                          0.4724877247
                        ],
                        "passed_time": 0.6245303952,
                        "iteration": 65,
                        "remaining_time": 0.3217277793,
                        "learn": [
                          0.4740926215
                        ]
                      },
                      {
                        "test": [
                          0.4722635077
                        ],
                        "passed_time": 0.63204807,
                        "iteration": 66,
                        "remaining_time": 0.3113072583,
                        "learn": [
                          0.4737966348
                        ]
                      },
                      {
                        "test": [
                          0.4718806673
                        ],
                        "passed_time": 0.6543600788,
                        "iteration": 67,
                        "remaining_time": 0.3079341547,
                        "learn": [
                          0.4732519516
                        ]
                      },
                      {
                        "test": [
                          0.4716574611
                        ],
                        "passed_time": 0.6597975559,
                        "iteration": 68,
                        "remaining_time": 0.296430786,
                        "learn": [
                          0.4728113614
                        ]
                      },
                      {
                        "test": [
                          0.4713938771
                        ],
                        "passed_time": 0.6699614243,
                        "iteration": 69,
                        "remaining_time": 0.2871263247,
                        "learn": [
                          0.4724485586
                        ]
                      },
                      {
                        "test": [
                          0.4710516544
                        ],
                        "passed_time": 0.6934921156,
                        "iteration": 70,
                        "remaining_time": 0.283257343,
                        "learn": [
                          0.4719895059
                        ]
                      },
                      {
                        "test": [
                          0.4707864302
                        ],
                        "passed_time": 0.7159524854,
                        "iteration": 71,
                        "remaining_time": 0.2784259665,
                        "learn": [
                          0.4716045137
                        ]
                      },
                      {
                        "test": [
                          0.4706188663
                        ],
                        "passed_time": 0.7228658565,
                        "iteration": 72,
                        "remaining_time": 0.2673613442,
                        "learn": [
                          0.4711891755
                        ]
                      },
                      {
                        "test": [
                          0.4704682746
                        ],
                        "passed_time": 0.7457334829,
                        "iteration": 73,
                        "remaining_time": 0.262014467,
                        "learn": [
                          0.4707760977
                        ]
                      },
                      {
                        "test": [
                          0.4702808431
                        ],
                        "passed_time": 0.7596990287,
                        "iteration": 74,
                        "remaining_time": 0.2532330096,
                        "learn": [
                          0.4704409802
                        ]
                      },
                      {
                        "test": [
                          0.4699687984
                        ],
                        "passed_time": 0.7823657951,
                        "iteration": 75,
                        "remaining_time": 0.2470628827,
                        "learn": [
                          0.470037598
                        ]
                      },
                      {
                        "test": [
                          0.4697976386
                        ],
                        "passed_time": 0.8055238336,
                        "iteration": 76,
                        "remaining_time": 0.2406110152,
                        "learn": [
                          0.4696543884
                        ]
                      },
                      {
                        "test": [
                          0.4696135186
                        ],
                        "passed_time": 0.8300012074,
                        "iteration": 77,
                        "remaining_time": 0.2341029046,
                        "learn": [
                          0.4693665367
                        ]
                      },
                      {
                        "test": [
                          0.4693208037
                        ],
                        "passed_time": 0.8587596325,
                        "iteration": 78,
                        "remaining_time": 0.228277877,
                        "learn": [
                          0.469126623
                        ]
                      },
                      {
                        "test": [
                          0.469259369
                        ],
                        "passed_time": 0.8666353743,
                        "iteration": 79,
                        "remaining_time": 0.2166588436,
                        "learn": [
                          0.468809994
                        ]
                      },
                      {
                        "test": [
                          0.4691733522
                        ],
                        "passed_time": 0.8721417491,
                        "iteration": 80,
                        "remaining_time": 0.2045764597,
                        "learn": [
                          0.4685639252
                        ]
                      },
                      {
                        "test": [
                          0.4688563895
                        ],
                        "passed_time": 0.8793408851,
                        "iteration": 81,
                        "remaining_time": 0.193026048,
                        "learn": [
                          0.4683413424
                        ]
                      },
                      {
                        "test": [
                          0.4687678432
                        ],
                        "passed_time": 0.8846299467,
                        "iteration": 82,
                        "remaining_time": 0.1811892662,
                        "learn": [
                          0.468201872
                        ]
                      },
                      {
                        "test": [
                          0.4686275159
                        ],
                        "passed_time": 0.8900842617,
                        "iteration": 83,
                        "remaining_time": 0.1695398594,
                        "learn": [
                          0.4680300474
                        ]
                      },
                      {
                        "test": [
                          0.4685891947
                        ],
                        "passed_time": 0.8952596148,
                        "iteration": 84,
                        "remaining_time": 0.1579869908,
                        "learn": [
                          0.467783608
                        ]
                      },
                      {
                        "test": [
                          0.4685175819
                        ],
                        "passed_time": 0.900838022,
                        "iteration": 85,
                        "remaining_time": 0.1466480501,
                        "learn": [
                          0.4676837871
                        ]
                      },
                      {
                        "test": [
                          0.4684642638
                        ],
                        "passed_time": 0.9174222634,
                        "iteration": 86,
                        "remaining_time": 0.1370860853,
                        "learn": [
                          0.4674852297
                        ]
                      },
                      {
                        "test": [
                          0.4684499605
                        ],
                        "passed_time": 0.9218391356,
                        "iteration": 87,
                        "remaining_time": 0.1257053367,
                        "learn": [
                          0.4674026446
                        ]
                      },
                      {
                        "test": [
                          0.4681891196
                        ],
                        "passed_time": 0.9456777463,
                        "iteration": 88,
                        "remaining_time": 0.1168815192,
                        "learn": [
                          0.4671382642
                        ]
                      },
                      {
                        "test": [
                          0.4681284735
                        ],
                        "passed_time": 0.9510747052,
                        "iteration": 89,
                        "remaining_time": 0.1056749672,
                        "learn": [
                          0.4669992765
                        ]
                      },
                      {
                        "test": [
                          0.4681307015
                        ],
                        "passed_time": 0.9582512781,
                        "iteration": 90,
                        "remaining_time": 0.09477210443,
                        "learn": [
                          0.4668828166
                        ]
                      },
                      {
                        "test": [
                          0.4680996141
                        ],
                        "passed_time": 0.9617452756,
                        "iteration": 91,
                        "remaining_time": 0.08363002397,
                        "learn": [
                          0.4668120733
                        ]
                      },
                      {
                        "test": [
                          0.4680754627
                        ],
                        "passed_time": 0.9659665758,
                        "iteration": 92,
                        "remaining_time": 0.07270716162,
                        "learn": [
                          0.4667179428
                        ]
                      },
                      {
                        "test": [
                          0.4680899825
                        ],
                        "passed_time": 0.9700465914,
                        "iteration": 93,
                        "remaining_time": 0.06191786754,
                        "learn": [
                          0.4666387568
                        ]
                      },
                      {
                        "test": [
                          0.4680432732
                        ],
                        "passed_time": 0.9946460609,
                        "iteration": 94,
                        "remaining_time": 0.05234979268,
                        "learn": [
                          0.466498964
                        ]
                      },
                      {
                        "test": [
                          0.4679522428
                        ],
                        "passed_time": 1.004369668,
                        "iteration": 95,
                        "remaining_time": 0.04184873619,
                        "learn": [
                          0.4663980604
                        ]
                      },
                      {
                        "test": [
                          0.4678833419
                        ],
                        "passed_time": 1.011450701,
                        "iteration": 96,
                        "remaining_time": 0.03128198045,
                        "learn": [
                          0.4662764701
                        ]
                      },
                      {
                        "test": [
                          0.4678066831
                        ],
                        "passed_time": 1.017111283,
                        "iteration": 97,
                        "remaining_time": 0.02075737312,
                        "learn": [
                          0.466153645
                        ]
                      },
                      {
                        "test": [
                          0.4677615742
                        ],
                        "passed_time": 1.023807623,
                        "iteration": 98,
                        "remaining_time": 0.01034149114,
                        "learn": [
                          0.4660000896
                        ]
                      },
                      {
                        "test": [
                          0.4676880137
                        ],
                        "passed_time": 1.029350597,
                        "iteration": 99,
                        "remaining_time": 0,
                        "learn": [
                          0.465881562
                        ]
                      }
                    ]
                  },
                  "total_iterations": 100,
                  "passed_iterations": 99
                },
                "path": "catboost_info/fold-2",
                "name": "fold-2"
              }
            },
            "_view_module": "catboost-widget",
            "_model_module_version": "^1.0.0",
            "_view_count": null,
            "_view_module_version": "^1.0.0",
            "layout": "IPY_MODEL_12a4935ad1084873ba15a15085de159f",
            "_model_module": "catboost-widget"
          }
        }
      }
    }
  },
  "cells": [
    {
      "cell_type": "markdown",
      "source": [
        "Импорт библиотек"
      ],
      "metadata": {
        "id": "pEjf6eD3_EXc"
      }
    },
    {
      "cell_type": "code",
      "execution_count": 1346,
      "metadata": {
        "id": "YjtAZjrZt6N3"
      },
      "outputs": [],
      "source": [
        "import pandas as pd\n",
        "import numpy as np\n",
        "import seaborn as sns\n",
        "import matplotlib.pyplot as plt"
      ]
    },
    {
      "cell_type": "markdown",
      "source": [
        "# Анализ данных"
      ],
      "metadata": {
        "id": "KZR_iS1W_GcD"
      }
    },
    {
      "cell_type": "code",
      "source": [
        "dt = pd.read_html('/content/Выгрузка 9 апреля.xls')"
      ],
      "metadata": {
        "id": "L90zkT53uZ00"
      },
      "execution_count": 1347,
      "outputs": []
    },
    {
      "cell_type": "code",
      "source": [
        "df = dt[1]\n",
        "df.head()"
      ],
      "metadata": {
        "colab": {
          "base_uri": "https://localhost:8080/",
          "height": 206
        },
        "id": "aTgZAnHdubN7",
        "outputId": "24707af8-034b-43e3-b446-8f5e96e2bd9e"
      },
      "execution_count": 1348,
      "outputs": [
        {
          "output_type": "execute_result",
          "data": {
            "text/html": [
              "\n",
              "  <div id=\"df-2053697a-a662-42d9-9b4a-a572b1589c09\">\n",
              "    <div class=\"colab-df-container\">\n",
              "      <div>\n",
              "<style scoped>\n",
              "    .dataframe tbody tr th:only-of-type {\n",
              "        vertical-align: middle;\n",
              "    }\n",
              "\n",
              "    .dataframe tbody tr th {\n",
              "        vertical-align: top;\n",
              "    }\n",
              "\n",
              "    .dataframe thead th {\n",
              "        text-align: right;\n",
              "    }\n",
              "</style>\n",
              "<table border=\"1\" class=\"dataframe\">\n",
              "  <thead>\n",
              "    <tr style=\"text-align: right;\">\n",
              "      <th></th>\n",
              "      <th>№ п/п</th>\n",
              "      <th>№документа</th>\n",
              "      <th>Датарегистрации</th>\n",
              "      <th>Исх. №Дата</th>\n",
              "      <th>Адресат</th>\n",
              "      <th>Автор</th>\n",
              "      <th>Краткоесодержание</th>\n",
              "      <th>Примечание</th>\n",
              "    </tr>\n",
              "  </thead>\n",
              "  <tbody>\n",
              "    <tr>\n",
              "      <th>0</th>\n",
              "      <td>1</td>\n",
              "      <td>WSR/1-838/2019</td>\n",
              "      <td>09.04.2019</td>\n",
              "      <td>208-40908.04.2019</td>\n",
              "      <td>Уразов Р.Н.</td>\n",
              "      <td>Антонова С.В. (АО «Интерфакс»)</td>\n",
              "      <td>Вх - О возможности использования сетевого изда...</td>\n",
              "      <td>NaN</td>\n",
              "    </tr>\n",
              "    <tr>\n",
              "      <th>1</th>\n",
              "      <td>2</td>\n",
              "      <td>WSR/1-837/2019</td>\n",
              "      <td>09.04.2019</td>\n",
              "      <td>05-33809.04.2019</td>\n",
              "      <td>Уразов Р.Н.</td>\n",
              "      <td>Картошкин С.А. (Министерство просвещения Росси...</td>\n",
              "      <td>Вх - Об участии в совещании по вопросу доработ...</td>\n",
              "      <td>NaN</td>\n",
              "    </tr>\n",
              "    <tr>\n",
              "      <th>2</th>\n",
              "      <td>3</td>\n",
              "      <td>WSR/1-835/2019</td>\n",
              "      <td>09.04.2019</td>\n",
              "      <td>И10-14/313709.04.2019</td>\n",
              "      <td>Уразов Р.Н.</td>\n",
              "      <td>Цивилев С.Е. (Администрация Кемеровской области)</td>\n",
              "      <td>Вх - О командировании Саликовой К. и Глушко Д....</td>\n",
              "      <td>NaN</td>\n",
              "    </tr>\n",
              "    <tr>\n",
              "      <th>3</th>\n",
              "      <td>4</td>\n",
              "      <td>WSR/1-834/2019</td>\n",
              "      <td>09.04.2019</td>\n",
              "      <td>Д2/7121-ИС03.04.2019</td>\n",
              "      <td>Иванюк Л.А.</td>\n",
              "      <td>Волков Г.А. (Министерство транспорта Российско...</td>\n",
              "      <td>Вх - Об участии в Чемпионате мира по профессио...</td>\n",
              "      <td>NaN</td>\n",
              "    </tr>\n",
              "    <tr>\n",
              "      <th>4</th>\n",
              "      <td>5</td>\n",
              "      <td>WSR/1-833/2019</td>\n",
              "      <td>09.04.2019</td>\n",
              "      <td>15-20/06-91108.04.2019</td>\n",
              "      <td>Уразов Р.Н.</td>\n",
              "      <td>Атанов И.В. (Ставропольский государственный аг...</td>\n",
              "      <td>Вх - Об участии в церемонии открытия Вузовског...</td>\n",
              "      <td>NaN</td>\n",
              "    </tr>\n",
              "  </tbody>\n",
              "</table>\n",
              "</div>\n",
              "      <button class=\"colab-df-convert\" onclick=\"convertToInteractive('df-2053697a-a662-42d9-9b4a-a572b1589c09')\"\n",
              "              title=\"Convert this dataframe to an interactive table.\"\n",
              "              style=\"display:none;\">\n",
              "        \n",
              "  <svg xmlns=\"http://www.w3.org/2000/svg\" height=\"24px\"viewBox=\"0 0 24 24\"\n",
              "       width=\"24px\">\n",
              "    <path d=\"M0 0h24v24H0V0z\" fill=\"none\"/>\n",
              "    <path d=\"M18.56 5.44l.94 2.06.94-2.06 2.06-.94-2.06-.94-.94-2.06-.94 2.06-2.06.94zm-11 1L8.5 8.5l.94-2.06 2.06-.94-2.06-.94L8.5 2.5l-.94 2.06-2.06.94zm10 10l.94 2.06.94-2.06 2.06-.94-2.06-.94-.94-2.06-.94 2.06-2.06.94z\"/><path d=\"M17.41 7.96l-1.37-1.37c-.4-.4-.92-.59-1.43-.59-.52 0-1.04.2-1.43.59L10.3 9.45l-7.72 7.72c-.78.78-.78 2.05 0 2.83L4 21.41c.39.39.9.59 1.41.59.51 0 1.02-.2 1.41-.59l7.78-7.78 2.81-2.81c.8-.78.8-2.07 0-2.86zM5.41 20L4 18.59l7.72-7.72 1.47 1.35L5.41 20z\"/>\n",
              "  </svg>\n",
              "      </button>\n",
              "      \n",
              "  <style>\n",
              "    .colab-df-container {\n",
              "      display:flex;\n",
              "      flex-wrap:wrap;\n",
              "      gap: 12px;\n",
              "    }\n",
              "\n",
              "    .colab-df-convert {\n",
              "      background-color: #E8F0FE;\n",
              "      border: none;\n",
              "      border-radius: 50%;\n",
              "      cursor: pointer;\n",
              "      display: none;\n",
              "      fill: #1967D2;\n",
              "      height: 32px;\n",
              "      padding: 0 0 0 0;\n",
              "      width: 32px;\n",
              "    }\n",
              "\n",
              "    .colab-df-convert:hover {\n",
              "      background-color: #E2EBFA;\n",
              "      box-shadow: 0px 1px 2px rgba(60, 64, 67, 0.3), 0px 1px 3px 1px rgba(60, 64, 67, 0.15);\n",
              "      fill: #174EA6;\n",
              "    }\n",
              "\n",
              "    [theme=dark] .colab-df-convert {\n",
              "      background-color: #3B4455;\n",
              "      fill: #D2E3FC;\n",
              "    }\n",
              "\n",
              "    [theme=dark] .colab-df-convert:hover {\n",
              "      background-color: #434B5C;\n",
              "      box-shadow: 0px 1px 3px 1px rgba(0, 0, 0, 0.15);\n",
              "      filter: drop-shadow(0px 1px 2px rgba(0, 0, 0, 0.3));\n",
              "      fill: #FFFFFF;\n",
              "    }\n",
              "  </style>\n",
              "\n",
              "      <script>\n",
              "        const buttonEl =\n",
              "          document.querySelector('#df-2053697a-a662-42d9-9b4a-a572b1589c09 button.colab-df-convert');\n",
              "        buttonEl.style.display =\n",
              "          google.colab.kernel.accessAllowed ? 'block' : 'none';\n",
              "\n",
              "        async function convertToInteractive(key) {\n",
              "          const element = document.querySelector('#df-2053697a-a662-42d9-9b4a-a572b1589c09');\n",
              "          const dataTable =\n",
              "            await google.colab.kernel.invokeFunction('convertToInteractive',\n",
              "                                                     [key], {});\n",
              "          if (!dataTable) return;\n",
              "\n",
              "          const docLinkHtml = 'Like what you see? Visit the ' +\n",
              "            '<a target=\"_blank\" href=https://colab.research.google.com/notebooks/data_table.ipynb>data table notebook</a>'\n",
              "            + ' to learn more about interactive tables.';\n",
              "          element.innerHTML = '';\n",
              "          dataTable['output_type'] = 'display_data';\n",
              "          await google.colab.output.renderOutput(dataTable, element);\n",
              "          const docLink = document.createElement('div');\n",
              "          docLink.innerHTML = docLinkHtml;\n",
              "          element.appendChild(docLink);\n",
              "        }\n",
              "      </script>\n",
              "    </div>\n",
              "  </div>\n",
              "  "
            ],
            "text/plain": [
              "   № п/п  ... Примечание\n",
              "0      1  ...        NaN\n",
              "1      2  ...        NaN\n",
              "2      3  ...        NaN\n",
              "3      4  ...        NaN\n",
              "4      5  ...        NaN\n",
              "\n",
              "[5 rows x 8 columns]"
            ]
          },
          "metadata": {},
          "execution_count": 1348
        }
      ]
    },
    {
      "cell_type": "markdown",
      "source": [
        "Информация"
      ],
      "metadata": {
        "id": "QNOc48v6_M8D"
      }
    },
    {
      "cell_type": "code",
      "source": [
        "df.describe()"
      ],
      "metadata": {
        "colab": {
          "base_uri": "https://localhost:8080/",
          "height": 300
        },
        "id": "PoLrZmYkucfD",
        "outputId": "c1b9c84e-38d8-474f-9e82-df472fb9f512"
      },
      "execution_count": 1349,
      "outputs": [
        {
          "output_type": "execute_result",
          "data": {
            "text/html": [
              "\n",
              "  <div id=\"df-a72398d9-1bfe-4676-87bf-8e72a31ac2e4\">\n",
              "    <div class=\"colab-df-container\">\n",
              "      <div>\n",
              "<style scoped>\n",
              "    .dataframe tbody tr th:only-of-type {\n",
              "        vertical-align: middle;\n",
              "    }\n",
              "\n",
              "    .dataframe tbody tr th {\n",
              "        vertical-align: top;\n",
              "    }\n",
              "\n",
              "    .dataframe thead th {\n",
              "        text-align: right;\n",
              "    }\n",
              "</style>\n",
              "<table border=\"1\" class=\"dataframe\">\n",
              "  <thead>\n",
              "    <tr style=\"text-align: right;\">\n",
              "      <th></th>\n",
              "      <th>№ п/п</th>\n",
              "    </tr>\n",
              "  </thead>\n",
              "  <tbody>\n",
              "    <tr>\n",
              "      <th>count</th>\n",
              "      <td>4967.000000</td>\n",
              "    </tr>\n",
              "    <tr>\n",
              "      <th>mean</th>\n",
              "      <td>2484.000000</td>\n",
              "    </tr>\n",
              "    <tr>\n",
              "      <th>std</th>\n",
              "      <td>1433.993724</td>\n",
              "    </tr>\n",
              "    <tr>\n",
              "      <th>min</th>\n",
              "      <td>1.000000</td>\n",
              "    </tr>\n",
              "    <tr>\n",
              "      <th>25%</th>\n",
              "      <td>1242.500000</td>\n",
              "    </tr>\n",
              "    <tr>\n",
              "      <th>50%</th>\n",
              "      <td>2484.000000</td>\n",
              "    </tr>\n",
              "    <tr>\n",
              "      <th>75%</th>\n",
              "      <td>3725.500000</td>\n",
              "    </tr>\n",
              "    <tr>\n",
              "      <th>max</th>\n",
              "      <td>4967.000000</td>\n",
              "    </tr>\n",
              "  </tbody>\n",
              "</table>\n",
              "</div>\n",
              "      <button class=\"colab-df-convert\" onclick=\"convertToInteractive('df-a72398d9-1bfe-4676-87bf-8e72a31ac2e4')\"\n",
              "              title=\"Convert this dataframe to an interactive table.\"\n",
              "              style=\"display:none;\">\n",
              "        \n",
              "  <svg xmlns=\"http://www.w3.org/2000/svg\" height=\"24px\"viewBox=\"0 0 24 24\"\n",
              "       width=\"24px\">\n",
              "    <path d=\"M0 0h24v24H0V0z\" fill=\"none\"/>\n",
              "    <path d=\"M18.56 5.44l.94 2.06.94-2.06 2.06-.94-2.06-.94-.94-2.06-.94 2.06-2.06.94zm-11 1L8.5 8.5l.94-2.06 2.06-.94-2.06-.94L8.5 2.5l-.94 2.06-2.06.94zm10 10l.94 2.06.94-2.06 2.06-.94-2.06-.94-.94-2.06-.94 2.06-2.06.94z\"/><path d=\"M17.41 7.96l-1.37-1.37c-.4-.4-.92-.59-1.43-.59-.52 0-1.04.2-1.43.59L10.3 9.45l-7.72 7.72c-.78.78-.78 2.05 0 2.83L4 21.41c.39.39.9.59 1.41.59.51 0 1.02-.2 1.41-.59l7.78-7.78 2.81-2.81c.8-.78.8-2.07 0-2.86zM5.41 20L4 18.59l7.72-7.72 1.47 1.35L5.41 20z\"/>\n",
              "  </svg>\n",
              "      </button>\n",
              "      \n",
              "  <style>\n",
              "    .colab-df-container {\n",
              "      display:flex;\n",
              "      flex-wrap:wrap;\n",
              "      gap: 12px;\n",
              "    }\n",
              "\n",
              "    .colab-df-convert {\n",
              "      background-color: #E8F0FE;\n",
              "      border: none;\n",
              "      border-radius: 50%;\n",
              "      cursor: pointer;\n",
              "      display: none;\n",
              "      fill: #1967D2;\n",
              "      height: 32px;\n",
              "      padding: 0 0 0 0;\n",
              "      width: 32px;\n",
              "    }\n",
              "\n",
              "    .colab-df-convert:hover {\n",
              "      background-color: #E2EBFA;\n",
              "      box-shadow: 0px 1px 2px rgba(60, 64, 67, 0.3), 0px 1px 3px 1px rgba(60, 64, 67, 0.15);\n",
              "      fill: #174EA6;\n",
              "    }\n",
              "\n",
              "    [theme=dark] .colab-df-convert {\n",
              "      background-color: #3B4455;\n",
              "      fill: #D2E3FC;\n",
              "    }\n",
              "\n",
              "    [theme=dark] .colab-df-convert:hover {\n",
              "      background-color: #434B5C;\n",
              "      box-shadow: 0px 1px 3px 1px rgba(0, 0, 0, 0.15);\n",
              "      filter: drop-shadow(0px 1px 2px rgba(0, 0, 0, 0.3));\n",
              "      fill: #FFFFFF;\n",
              "    }\n",
              "  </style>\n",
              "\n",
              "      <script>\n",
              "        const buttonEl =\n",
              "          document.querySelector('#df-a72398d9-1bfe-4676-87bf-8e72a31ac2e4 button.colab-df-convert');\n",
              "        buttonEl.style.display =\n",
              "          google.colab.kernel.accessAllowed ? 'block' : 'none';\n",
              "\n",
              "        async function convertToInteractive(key) {\n",
              "          const element = document.querySelector('#df-a72398d9-1bfe-4676-87bf-8e72a31ac2e4');\n",
              "          const dataTable =\n",
              "            await google.colab.kernel.invokeFunction('convertToInteractive',\n",
              "                                                     [key], {});\n",
              "          if (!dataTable) return;\n",
              "\n",
              "          const docLinkHtml = 'Like what you see? Visit the ' +\n",
              "            '<a target=\"_blank\" href=https://colab.research.google.com/notebooks/data_table.ipynb>data table notebook</a>'\n",
              "            + ' to learn more about interactive tables.';\n",
              "          element.innerHTML = '';\n",
              "          dataTable['output_type'] = 'display_data';\n",
              "          await google.colab.output.renderOutput(dataTable, element);\n",
              "          const docLink = document.createElement('div');\n",
              "          docLink.innerHTML = docLinkHtml;\n",
              "          element.appendChild(docLink);\n",
              "        }\n",
              "      </script>\n",
              "    </div>\n",
              "  </div>\n",
              "  "
            ],
            "text/plain": [
              "             № п/п\n",
              "count  4967.000000\n",
              "mean   2484.000000\n",
              "std    1433.993724\n",
              "min       1.000000\n",
              "25%    1242.500000\n",
              "50%    2484.000000\n",
              "75%    3725.500000\n",
              "max    4967.000000"
            ]
          },
          "metadata": {},
          "execution_count": 1349
        }
      ]
    },
    {
      "cell_type": "code",
      "source": [
        "df.shape"
      ],
      "metadata": {
        "colab": {
          "base_uri": "https://localhost:8080/"
        },
        "id": "KHbgKGCFueFr",
        "outputId": "9adb1fb1-de3e-4d94-b1b3-8b36ea0c7b36"
      },
      "execution_count": 1350,
      "outputs": [
        {
          "output_type": "execute_result",
          "data": {
            "text/plain": [
              "(4967, 8)"
            ]
          },
          "metadata": {},
          "execution_count": 1350
        }
      ]
    },
    {
      "cell_type": "code",
      "source": [
        "df.info"
      ],
      "metadata": {
        "colab": {
          "base_uri": "https://localhost:8080/"
        },
        "id": "pVOs-28muhIE",
        "outputId": "26471948-28d5-4b28-ac34-7b9cf794d1c8"
      },
      "execution_count": 1351,
      "outputs": [
        {
          "output_type": "execute_result",
          "data": {
            "text/plain": [
              "<bound method DataFrame.info of       № п/п  ... Примечание\n",
              "0         1  ...        NaN\n",
              "1         2  ...        NaN\n",
              "2         3  ...        NaN\n",
              "3         4  ...        NaN\n",
              "4         5  ...        NaN\n",
              "...     ...  ...        ...\n",
              "4962   4963  ...        NaN\n",
              "4963   4964  ...        NaN\n",
              "4964   4965  ...        NaN\n",
              "4965   4966  ...        NaN\n",
              "4966   4967  ...        NaN\n",
              "\n",
              "[4967 rows x 8 columns]>"
            ]
          },
          "metadata": {},
          "execution_count": 1351
        }
      ]
    },
    {
      "cell_type": "markdown",
      "source": [
        "Предобработка данных и выделение значимых атрибутов"
      ],
      "metadata": {
        "id": "Q8hgWWLE_Pei"
      }
    },
    {
      "cell_type": "code",
      "source": [
        "dt[0].T[0]\n",
        "dt[0].T[1].unique().tolist()\n",
        "dt[0].T[2].unique().tolist()\n",
        "df = dt[1]"
      ],
      "metadata": {
        "id": "rXzb6vzkuiWb"
      },
      "execution_count": 1352,
      "outputs": []
    },
    {
      "cell_type": "code",
      "source": [
        "df = dt[1].drop(['№ п/п', '№документа', 'Исх. №Дата', 'Примечание'], axis=1)\n",
        "df.head(2)"
      ],
      "metadata": {
        "colab": {
          "base_uri": "https://localhost:8080/",
          "height": 112
        },
        "id": "OmZkFXpOujaz",
        "outputId": "8ab25330-f864-44d9-b316-604478bf41d8"
      },
      "execution_count": 1353,
      "outputs": [
        {
          "output_type": "execute_result",
          "data": {
            "text/html": [
              "\n",
              "  <div id=\"df-f1463424-b67c-4dfb-aba7-228b88b37313\">\n",
              "    <div class=\"colab-df-container\">\n",
              "      <div>\n",
              "<style scoped>\n",
              "    .dataframe tbody tr th:only-of-type {\n",
              "        vertical-align: middle;\n",
              "    }\n",
              "\n",
              "    .dataframe tbody tr th {\n",
              "        vertical-align: top;\n",
              "    }\n",
              "\n",
              "    .dataframe thead th {\n",
              "        text-align: right;\n",
              "    }\n",
              "</style>\n",
              "<table border=\"1\" class=\"dataframe\">\n",
              "  <thead>\n",
              "    <tr style=\"text-align: right;\">\n",
              "      <th></th>\n",
              "      <th>Датарегистрации</th>\n",
              "      <th>Адресат</th>\n",
              "      <th>Автор</th>\n",
              "      <th>Краткоесодержание</th>\n",
              "    </tr>\n",
              "  </thead>\n",
              "  <tbody>\n",
              "    <tr>\n",
              "      <th>0</th>\n",
              "      <td>09.04.2019</td>\n",
              "      <td>Уразов Р.Н.</td>\n",
              "      <td>Антонова С.В. (АО «Интерфакс»)</td>\n",
              "      <td>Вх - О возможности использования сетевого изда...</td>\n",
              "    </tr>\n",
              "    <tr>\n",
              "      <th>1</th>\n",
              "      <td>09.04.2019</td>\n",
              "      <td>Уразов Р.Н.</td>\n",
              "      <td>Картошкин С.А. (Министерство просвещения Росси...</td>\n",
              "      <td>Вх - Об участии в совещании по вопросу доработ...</td>\n",
              "    </tr>\n",
              "  </tbody>\n",
              "</table>\n",
              "</div>\n",
              "      <button class=\"colab-df-convert\" onclick=\"convertToInteractive('df-f1463424-b67c-4dfb-aba7-228b88b37313')\"\n",
              "              title=\"Convert this dataframe to an interactive table.\"\n",
              "              style=\"display:none;\">\n",
              "        \n",
              "  <svg xmlns=\"http://www.w3.org/2000/svg\" height=\"24px\"viewBox=\"0 0 24 24\"\n",
              "       width=\"24px\">\n",
              "    <path d=\"M0 0h24v24H0V0z\" fill=\"none\"/>\n",
              "    <path d=\"M18.56 5.44l.94 2.06.94-2.06 2.06-.94-2.06-.94-.94-2.06-.94 2.06-2.06.94zm-11 1L8.5 8.5l.94-2.06 2.06-.94-2.06-.94L8.5 2.5l-.94 2.06-2.06.94zm10 10l.94 2.06.94-2.06 2.06-.94-2.06-.94-.94-2.06-.94 2.06-2.06.94z\"/><path d=\"M17.41 7.96l-1.37-1.37c-.4-.4-.92-.59-1.43-.59-.52 0-1.04.2-1.43.59L10.3 9.45l-7.72 7.72c-.78.78-.78 2.05 0 2.83L4 21.41c.39.39.9.59 1.41.59.51 0 1.02-.2 1.41-.59l7.78-7.78 2.81-2.81c.8-.78.8-2.07 0-2.86zM5.41 20L4 18.59l7.72-7.72 1.47 1.35L5.41 20z\"/>\n",
              "  </svg>\n",
              "      </button>\n",
              "      \n",
              "  <style>\n",
              "    .colab-df-container {\n",
              "      display:flex;\n",
              "      flex-wrap:wrap;\n",
              "      gap: 12px;\n",
              "    }\n",
              "\n",
              "    .colab-df-convert {\n",
              "      background-color: #E8F0FE;\n",
              "      border: none;\n",
              "      border-radius: 50%;\n",
              "      cursor: pointer;\n",
              "      display: none;\n",
              "      fill: #1967D2;\n",
              "      height: 32px;\n",
              "      padding: 0 0 0 0;\n",
              "      width: 32px;\n",
              "    }\n",
              "\n",
              "    .colab-df-convert:hover {\n",
              "      background-color: #E2EBFA;\n",
              "      box-shadow: 0px 1px 2px rgba(60, 64, 67, 0.3), 0px 1px 3px 1px rgba(60, 64, 67, 0.15);\n",
              "      fill: #174EA6;\n",
              "    }\n",
              "\n",
              "    [theme=dark] .colab-df-convert {\n",
              "      background-color: #3B4455;\n",
              "      fill: #D2E3FC;\n",
              "    }\n",
              "\n",
              "    [theme=dark] .colab-df-convert:hover {\n",
              "      background-color: #434B5C;\n",
              "      box-shadow: 0px 1px 3px 1px rgba(0, 0, 0, 0.15);\n",
              "      filter: drop-shadow(0px 1px 2px rgba(0, 0, 0, 0.3));\n",
              "      fill: #FFFFFF;\n",
              "    }\n",
              "  </style>\n",
              "\n",
              "      <script>\n",
              "        const buttonEl =\n",
              "          document.querySelector('#df-f1463424-b67c-4dfb-aba7-228b88b37313 button.colab-df-convert');\n",
              "        buttonEl.style.display =\n",
              "          google.colab.kernel.accessAllowed ? 'block' : 'none';\n",
              "\n",
              "        async function convertToInteractive(key) {\n",
              "          const element = document.querySelector('#df-f1463424-b67c-4dfb-aba7-228b88b37313');\n",
              "          const dataTable =\n",
              "            await google.colab.kernel.invokeFunction('convertToInteractive',\n",
              "                                                     [key], {});\n",
              "          if (!dataTable) return;\n",
              "\n",
              "          const docLinkHtml = 'Like what you see? Visit the ' +\n",
              "            '<a target=\"_blank\" href=https://colab.research.google.com/notebooks/data_table.ipynb>data table notebook</a>'\n",
              "            + ' to learn more about interactive tables.';\n",
              "          element.innerHTML = '';\n",
              "          dataTable['output_type'] = 'display_data';\n",
              "          await google.colab.output.renderOutput(dataTable, element);\n",
              "          const docLink = document.createElement('div');\n",
              "          docLink.innerHTML = docLinkHtml;\n",
              "          element.appendChild(docLink);\n",
              "        }\n",
              "      </script>\n",
              "    </div>\n",
              "  </div>\n",
              "  "
            ],
            "text/plain": [
              "  Датарегистрации  ...                                  Краткоесодержание\n",
              "0      09.04.2019  ...  Вх - О возможности использования сетевого изда...\n",
              "1      09.04.2019  ...  Вх - Об участии в совещании по вопросу доработ...\n",
              "\n",
              "[2 rows x 4 columns]"
            ]
          },
          "metadata": {},
          "execution_count": 1353
        }
      ]
    },
    {
      "cell_type": "markdown",
      "source": [
        "Регулярные выражение"
      ],
      "metadata": {
        "id": "8ZwwhD6s_R7F"
      }
    },
    {
      "cell_type": "code",
      "source": [
        "import re"
      ],
      "metadata": {
        "id": "HuIMo4C8ukf7"
      },
      "execution_count": 1354,
      "outputs": []
    },
    {
      "cell_type": "code",
      "source": [
        "adres = []\n",
        "c = 0\n",
        "reg_fio = r'([А-Я]\\.[А-Я]\\.\\s?[А-Я][а-я]{1,20}|[А-Я][а-я]{1,20}\\s?[А-Я]\\.[А-Я]\\.)'\n",
        "for i in df.Адресат:\n",
        "  result = re.findall(reg_fio, i)[-1]\n",
        "  adres.append(result.replace(' ',''))\n",
        "\n",
        "df['Адресат(-ы)'] = adres\n",
        "df.tail(2)"
      ],
      "metadata": {
        "colab": {
          "base_uri": "https://localhost:8080/",
          "height": 112
        },
        "id": "KOCXBBXzulpT",
        "outputId": "4cecadca-dfe6-4a7b-92b5-c6635e7f28e2"
      },
      "execution_count": 1355,
      "outputs": [
        {
          "output_type": "execute_result",
          "data": {
            "text/html": [
              "\n",
              "  <div id=\"df-290efee4-fea0-4b69-9834-14131bddd032\">\n",
              "    <div class=\"colab-df-container\">\n",
              "      <div>\n",
              "<style scoped>\n",
              "    .dataframe tbody tr th:only-of-type {\n",
              "        vertical-align: middle;\n",
              "    }\n",
              "\n",
              "    .dataframe tbody tr th {\n",
              "        vertical-align: top;\n",
              "    }\n",
              "\n",
              "    .dataframe thead th {\n",
              "        text-align: right;\n",
              "    }\n",
              "</style>\n",
              "<table border=\"1\" class=\"dataframe\">\n",
              "  <thead>\n",
              "    <tr style=\"text-align: right;\">\n",
              "      <th></th>\n",
              "      <th>Датарегистрации</th>\n",
              "      <th>Адресат</th>\n",
              "      <th>Автор</th>\n",
              "      <th>Краткоесодержание</th>\n",
              "      <th>Адресат(-ы)</th>\n",
              "    </tr>\n",
              "  </thead>\n",
              "  <tbody>\n",
              "    <tr>\n",
              "      <th>4965</th>\n",
              "      <td>01.11.2017</td>\n",
              "      <td>Уразов Р.Н.</td>\n",
              "      <td>Огородова Л.М. (Министерство образования и нау...</td>\n",
              "      <td>Протокол заседания рабочей группы приоритетног...</td>\n",
              "      <td>УразовР.Н.</td>\n",
              "    </tr>\n",
              "    <tr>\n",
              "      <th>4966</th>\n",
              "      <td>NaN</td>\n",
              "      <td>Уразов Р.Н.</td>\n",
              "      <td>Асаул Н.А. (Министерство транспорта Российской...</td>\n",
              "      <td>Участие в Чемпионате WorldSkills Hi-Tech Екате...</td>\n",
              "      <td>УразовР.Н.</td>\n",
              "    </tr>\n",
              "  </tbody>\n",
              "</table>\n",
              "</div>\n",
              "      <button class=\"colab-df-convert\" onclick=\"convertToInteractive('df-290efee4-fea0-4b69-9834-14131bddd032')\"\n",
              "              title=\"Convert this dataframe to an interactive table.\"\n",
              "              style=\"display:none;\">\n",
              "        \n",
              "  <svg xmlns=\"http://www.w3.org/2000/svg\" height=\"24px\"viewBox=\"0 0 24 24\"\n",
              "       width=\"24px\">\n",
              "    <path d=\"M0 0h24v24H0V0z\" fill=\"none\"/>\n",
              "    <path d=\"M18.56 5.44l.94 2.06.94-2.06 2.06-.94-2.06-.94-.94-2.06-.94 2.06-2.06.94zm-11 1L8.5 8.5l.94-2.06 2.06-.94-2.06-.94L8.5 2.5l-.94 2.06-2.06.94zm10 10l.94 2.06.94-2.06 2.06-.94-2.06-.94-.94-2.06-.94 2.06-2.06.94z\"/><path d=\"M17.41 7.96l-1.37-1.37c-.4-.4-.92-.59-1.43-.59-.52 0-1.04.2-1.43.59L10.3 9.45l-7.72 7.72c-.78.78-.78 2.05 0 2.83L4 21.41c.39.39.9.59 1.41.59.51 0 1.02-.2 1.41-.59l7.78-7.78 2.81-2.81c.8-.78.8-2.07 0-2.86zM5.41 20L4 18.59l7.72-7.72 1.47 1.35L5.41 20z\"/>\n",
              "  </svg>\n",
              "      </button>\n",
              "      \n",
              "  <style>\n",
              "    .colab-df-container {\n",
              "      display:flex;\n",
              "      flex-wrap:wrap;\n",
              "      gap: 12px;\n",
              "    }\n",
              "\n",
              "    .colab-df-convert {\n",
              "      background-color: #E8F0FE;\n",
              "      border: none;\n",
              "      border-radius: 50%;\n",
              "      cursor: pointer;\n",
              "      display: none;\n",
              "      fill: #1967D2;\n",
              "      height: 32px;\n",
              "      padding: 0 0 0 0;\n",
              "      width: 32px;\n",
              "    }\n",
              "\n",
              "    .colab-df-convert:hover {\n",
              "      background-color: #E2EBFA;\n",
              "      box-shadow: 0px 1px 2px rgba(60, 64, 67, 0.3), 0px 1px 3px 1px rgba(60, 64, 67, 0.15);\n",
              "      fill: #174EA6;\n",
              "    }\n",
              "\n",
              "    [theme=dark] .colab-df-convert {\n",
              "      background-color: #3B4455;\n",
              "      fill: #D2E3FC;\n",
              "    }\n",
              "\n",
              "    [theme=dark] .colab-df-convert:hover {\n",
              "      background-color: #434B5C;\n",
              "      box-shadow: 0px 1px 3px 1px rgba(0, 0, 0, 0.15);\n",
              "      filter: drop-shadow(0px 1px 2px rgba(0, 0, 0, 0.3));\n",
              "      fill: #FFFFFF;\n",
              "    }\n",
              "  </style>\n",
              "\n",
              "      <script>\n",
              "        const buttonEl =\n",
              "          document.querySelector('#df-290efee4-fea0-4b69-9834-14131bddd032 button.colab-df-convert');\n",
              "        buttonEl.style.display =\n",
              "          google.colab.kernel.accessAllowed ? 'block' : 'none';\n",
              "\n",
              "        async function convertToInteractive(key) {\n",
              "          const element = document.querySelector('#df-290efee4-fea0-4b69-9834-14131bddd032');\n",
              "          const dataTable =\n",
              "            await google.colab.kernel.invokeFunction('convertToInteractive',\n",
              "                                                     [key], {});\n",
              "          if (!dataTable) return;\n",
              "\n",
              "          const docLinkHtml = 'Like what you see? Visit the ' +\n",
              "            '<a target=\"_blank\" href=https://colab.research.google.com/notebooks/data_table.ipynb>data table notebook</a>'\n",
              "            + ' to learn more about interactive tables.';\n",
              "          element.innerHTML = '';\n",
              "          dataTable['output_type'] = 'display_data';\n",
              "          await google.colab.output.renderOutput(dataTable, element);\n",
              "          const docLink = document.createElement('div');\n",
              "          docLink.innerHTML = docLinkHtml;\n",
              "          element.appendChild(docLink);\n",
              "        }\n",
              "      </script>\n",
              "    </div>\n",
              "  </div>\n",
              "  "
            ],
            "text/plain": [
              "     Датарегистрации  ... Адресат(-ы)\n",
              "4965      01.11.2017  ...  УразовР.Н.\n",
              "4966             NaN  ...  УразовР.Н.\n",
              "\n",
              "[2 rows x 5 columns]"
            ]
          },
          "metadata": {},
          "execution_count": 1355
        }
      ]
    },
    {
      "cell_type": "markdown",
      "source": [
        "Дополнение недостающими данными"
      ],
      "metadata": {
        "id": "iJ1SdfxA_cD7"
      }
    },
    {
      "cell_type": "code",
      "source": [
        "df['Адресат(-ы)'].unique().shape"
      ],
      "metadata": {
        "colab": {
          "base_uri": "https://localhost:8080/"
        },
        "id": "LWO8DjA5unBz",
        "outputId": "992da85e-7d12-49b3-80bd-52a0378b0c1e"
      },
      "execution_count": 1356,
      "outputs": [
        {
          "output_type": "execute_result",
          "data": {
            "text/plain": [
              "(81,)"
            ]
          },
          "metadata": {},
          "execution_count": 1356
        }
      ]
    },
    {
      "cell_type": "code",
      "source": [
        "df.Датарегистрации = pd.to_datetime(df.Датарегистрации)\n",
        "df.Датарегистрации.describe()"
      ],
      "metadata": {
        "colab": {
          "base_uri": "https://localhost:8080/"
        },
        "id": "hvGodRcWuoI8",
        "outputId": "bb0c0e35-f051-474a-b016-d99eab8fb627"
      },
      "execution_count": 1357,
      "outputs": [
        {
          "output_type": "stream",
          "name": "stderr",
          "text": [
            "/usr/local/lib/python3.7/dist-packages/ipykernel_launcher.py:2: FutureWarning: Treating datetime data as categorical rather than numeric in `.describe` is deprecated and will be removed in a future version of pandas. Specify `datetime_is_numeric=True` to silence this warning and adopt the future behavior now.\n",
            "  \n"
          ]
        },
        {
          "output_type": "execute_result",
          "data": {
            "text/plain": [
              "count                    4965\n",
              "unique                    372\n",
              "top       2017-11-29 00:00:00\n",
              "freq                       42\n",
              "first     2017-01-11 00:00:00\n",
              "last      2019-12-03 00:00:00\n",
              "Name: Датарегистрации, dtype: object"
            ]
          },
          "metadata": {},
          "execution_count": 1357
        }
      ]
    },
    {
      "cell_type": "code",
      "source": [
        "df['Агентсво'] = df.Автор.apply(lambda x: x.split('(')[1].replace(')',''))"
      ],
      "metadata": {
        "id": "Wz9yTkD9upIj"
      },
      "execution_count": 1358,
      "outputs": []
    },
    {
      "cell_type": "code",
      "source": [
        "df.head(2)"
      ],
      "metadata": {
        "colab": {
          "base_uri": "https://localhost:8080/",
          "height": 112
        },
        "id": "dMBGJ0BquqBb",
        "outputId": "3bca28aa-c08b-4226-b1c7-c2d20cdd20f3"
      },
      "execution_count": 1359,
      "outputs": [
        {
          "output_type": "execute_result",
          "data": {
            "text/html": [
              "\n",
              "  <div id=\"df-1c56faf5-2759-44f9-a7cd-32b60f69c9ac\">\n",
              "    <div class=\"colab-df-container\">\n",
              "      <div>\n",
              "<style scoped>\n",
              "    .dataframe tbody tr th:only-of-type {\n",
              "        vertical-align: middle;\n",
              "    }\n",
              "\n",
              "    .dataframe tbody tr th {\n",
              "        vertical-align: top;\n",
              "    }\n",
              "\n",
              "    .dataframe thead th {\n",
              "        text-align: right;\n",
              "    }\n",
              "</style>\n",
              "<table border=\"1\" class=\"dataframe\">\n",
              "  <thead>\n",
              "    <tr style=\"text-align: right;\">\n",
              "      <th></th>\n",
              "      <th>Датарегистрации</th>\n",
              "      <th>Адресат</th>\n",
              "      <th>Автор</th>\n",
              "      <th>Краткоесодержание</th>\n",
              "      <th>Адресат(-ы)</th>\n",
              "      <th>Агентсво</th>\n",
              "    </tr>\n",
              "  </thead>\n",
              "  <tbody>\n",
              "    <tr>\n",
              "      <th>0</th>\n",
              "      <td>2019-09-04</td>\n",
              "      <td>Уразов Р.Н.</td>\n",
              "      <td>Антонова С.В. (АО «Интерфакс»)</td>\n",
              "      <td>Вх - О возможности использования сетевого изда...</td>\n",
              "      <td>УразовР.Н.</td>\n",
              "      <td>АО «Интерфакс»</td>\n",
              "    </tr>\n",
              "    <tr>\n",
              "      <th>1</th>\n",
              "      <td>2019-09-04</td>\n",
              "      <td>Уразов Р.Н.</td>\n",
              "      <td>Картошкин С.А. (Министерство просвещения Росси...</td>\n",
              "      <td>Вх - Об участии в совещании по вопросу доработ...</td>\n",
              "      <td>УразовР.Н.</td>\n",
              "      <td>Министерство просвещения Российской Федерации</td>\n",
              "    </tr>\n",
              "  </tbody>\n",
              "</table>\n",
              "</div>\n",
              "      <button class=\"colab-df-convert\" onclick=\"convertToInteractive('df-1c56faf5-2759-44f9-a7cd-32b60f69c9ac')\"\n",
              "              title=\"Convert this dataframe to an interactive table.\"\n",
              "              style=\"display:none;\">\n",
              "        \n",
              "  <svg xmlns=\"http://www.w3.org/2000/svg\" height=\"24px\"viewBox=\"0 0 24 24\"\n",
              "       width=\"24px\">\n",
              "    <path d=\"M0 0h24v24H0V0z\" fill=\"none\"/>\n",
              "    <path d=\"M18.56 5.44l.94 2.06.94-2.06 2.06-.94-2.06-.94-.94-2.06-.94 2.06-2.06.94zm-11 1L8.5 8.5l.94-2.06 2.06-.94-2.06-.94L8.5 2.5l-.94 2.06-2.06.94zm10 10l.94 2.06.94-2.06 2.06-.94-2.06-.94-.94-2.06-.94 2.06-2.06.94z\"/><path d=\"M17.41 7.96l-1.37-1.37c-.4-.4-.92-.59-1.43-.59-.52 0-1.04.2-1.43.59L10.3 9.45l-7.72 7.72c-.78.78-.78 2.05 0 2.83L4 21.41c.39.39.9.59 1.41.59.51 0 1.02-.2 1.41-.59l7.78-7.78 2.81-2.81c.8-.78.8-2.07 0-2.86zM5.41 20L4 18.59l7.72-7.72 1.47 1.35L5.41 20z\"/>\n",
              "  </svg>\n",
              "      </button>\n",
              "      \n",
              "  <style>\n",
              "    .colab-df-container {\n",
              "      display:flex;\n",
              "      flex-wrap:wrap;\n",
              "      gap: 12px;\n",
              "    }\n",
              "\n",
              "    .colab-df-convert {\n",
              "      background-color: #E8F0FE;\n",
              "      border: none;\n",
              "      border-radius: 50%;\n",
              "      cursor: pointer;\n",
              "      display: none;\n",
              "      fill: #1967D2;\n",
              "      height: 32px;\n",
              "      padding: 0 0 0 0;\n",
              "      width: 32px;\n",
              "    }\n",
              "\n",
              "    .colab-df-convert:hover {\n",
              "      background-color: #E2EBFA;\n",
              "      box-shadow: 0px 1px 2px rgba(60, 64, 67, 0.3), 0px 1px 3px 1px rgba(60, 64, 67, 0.15);\n",
              "      fill: #174EA6;\n",
              "    }\n",
              "\n",
              "    [theme=dark] .colab-df-convert {\n",
              "      background-color: #3B4455;\n",
              "      fill: #D2E3FC;\n",
              "    }\n",
              "\n",
              "    [theme=dark] .colab-df-convert:hover {\n",
              "      background-color: #434B5C;\n",
              "      box-shadow: 0px 1px 3px 1px rgba(0, 0, 0, 0.15);\n",
              "      filter: drop-shadow(0px 1px 2px rgba(0, 0, 0, 0.3));\n",
              "      fill: #FFFFFF;\n",
              "    }\n",
              "  </style>\n",
              "\n",
              "      <script>\n",
              "        const buttonEl =\n",
              "          document.querySelector('#df-1c56faf5-2759-44f9-a7cd-32b60f69c9ac button.colab-df-convert');\n",
              "        buttonEl.style.display =\n",
              "          google.colab.kernel.accessAllowed ? 'block' : 'none';\n",
              "\n",
              "        async function convertToInteractive(key) {\n",
              "          const element = document.querySelector('#df-1c56faf5-2759-44f9-a7cd-32b60f69c9ac');\n",
              "          const dataTable =\n",
              "            await google.colab.kernel.invokeFunction('convertToInteractive',\n",
              "                                                     [key], {});\n",
              "          if (!dataTable) return;\n",
              "\n",
              "          const docLinkHtml = 'Like what you see? Visit the ' +\n",
              "            '<a target=\"_blank\" href=https://colab.research.google.com/notebooks/data_table.ipynb>data table notebook</a>'\n",
              "            + ' to learn more about interactive tables.';\n",
              "          element.innerHTML = '';\n",
              "          dataTable['output_type'] = 'display_data';\n",
              "          await google.colab.output.renderOutput(dataTable, element);\n",
              "          const docLink = document.createElement('div');\n",
              "          docLink.innerHTML = docLinkHtml;\n",
              "          element.appendChild(docLink);\n",
              "        }\n",
              "      </script>\n",
              "    </div>\n",
              "  </div>\n",
              "  "
            ],
            "text/plain": [
              "  Датарегистрации  ...                                       Агентсво\n",
              "0      2019-09-04  ...                                 АО «Интерфакс»\n",
              "1      2019-09-04  ...  Министерство просвещения Российской Федерации\n",
              "\n",
              "[2 rows x 6 columns]"
            ]
          },
          "metadata": {},
          "execution_count": 1359
        }
      ]
    },
    {
      "cell_type": "markdown",
      "source": [
        "Переписать список откуда и куда, сравнивать строки"
      ],
      "metadata": {
        "id": "ZbuhNoD7_fRC"
      }
    },
    {
      "cell_type": "code",
      "source": [
        "agents = []\n",
        "target = ['Министерств','Правительств','Федеральн','Администр']\n",
        "for i in df.Агентсво:\n",
        "  br = 0\n",
        "  for t in target:\n",
        "    if br:\n",
        "      break\n",
        "    if t in i:\n",
        "      br = 1\n",
        "      agents.append(1)\n",
        "  if not(br):\n",
        "    agents.append(0)"
      ],
      "metadata": {
        "id": "qpV-omg9urCL"
      },
      "execution_count": 1360,
      "outputs": []
    },
    {
      "cell_type": "code",
      "source": [
        "df['Тип_агентсва'] = agents\n",
        "df.head()"
      ],
      "metadata": {
        "colab": {
          "base_uri": "https://localhost:8080/",
          "height": 206
        },
        "id": "39AAZOZAuslc",
        "outputId": "1f2d001b-b795-4f42-b862-a164ad6c0a02"
      },
      "execution_count": 1361,
      "outputs": [
        {
          "output_type": "execute_result",
          "data": {
            "text/html": [
              "\n",
              "  <div id=\"df-9cae09a4-12ae-4d91-b555-085f291921ac\">\n",
              "    <div class=\"colab-df-container\">\n",
              "      <div>\n",
              "<style scoped>\n",
              "    .dataframe tbody tr th:only-of-type {\n",
              "        vertical-align: middle;\n",
              "    }\n",
              "\n",
              "    .dataframe tbody tr th {\n",
              "        vertical-align: top;\n",
              "    }\n",
              "\n",
              "    .dataframe thead th {\n",
              "        text-align: right;\n",
              "    }\n",
              "</style>\n",
              "<table border=\"1\" class=\"dataframe\">\n",
              "  <thead>\n",
              "    <tr style=\"text-align: right;\">\n",
              "      <th></th>\n",
              "      <th>Датарегистрации</th>\n",
              "      <th>Адресат</th>\n",
              "      <th>Автор</th>\n",
              "      <th>Краткоесодержание</th>\n",
              "      <th>Адресат(-ы)</th>\n",
              "      <th>Агентсво</th>\n",
              "      <th>Тип_агентсва</th>\n",
              "    </tr>\n",
              "  </thead>\n",
              "  <tbody>\n",
              "    <tr>\n",
              "      <th>0</th>\n",
              "      <td>2019-09-04</td>\n",
              "      <td>Уразов Р.Н.</td>\n",
              "      <td>Антонова С.В. (АО «Интерфакс»)</td>\n",
              "      <td>Вх - О возможности использования сетевого изда...</td>\n",
              "      <td>УразовР.Н.</td>\n",
              "      <td>АО «Интерфакс»</td>\n",
              "      <td>0</td>\n",
              "    </tr>\n",
              "    <tr>\n",
              "      <th>1</th>\n",
              "      <td>2019-09-04</td>\n",
              "      <td>Уразов Р.Н.</td>\n",
              "      <td>Картошкин С.А. (Министерство просвещения Росси...</td>\n",
              "      <td>Вх - Об участии в совещании по вопросу доработ...</td>\n",
              "      <td>УразовР.Н.</td>\n",
              "      <td>Министерство просвещения Российской Федерации</td>\n",
              "      <td>1</td>\n",
              "    </tr>\n",
              "    <tr>\n",
              "      <th>2</th>\n",
              "      <td>2019-09-04</td>\n",
              "      <td>Уразов Р.Н.</td>\n",
              "      <td>Цивилев С.Е. (Администрация Кемеровской области)</td>\n",
              "      <td>Вх - О командировании Саликовой К. и Глушко Д....</td>\n",
              "      <td>УразовР.Н.</td>\n",
              "      <td>Администрация Кемеровской области</td>\n",
              "      <td>1</td>\n",
              "    </tr>\n",
              "    <tr>\n",
              "      <th>3</th>\n",
              "      <td>2019-09-04</td>\n",
              "      <td>Иванюк Л.А.</td>\n",
              "      <td>Волков Г.А. (Министерство транспорта Российско...</td>\n",
              "      <td>Вх - Об участии в Чемпионате мира по профессио...</td>\n",
              "      <td>ИванюкЛ.А.</td>\n",
              "      <td>Министерство транспорта Российской Федерации</td>\n",
              "      <td>1</td>\n",
              "    </tr>\n",
              "    <tr>\n",
              "      <th>4</th>\n",
              "      <td>2019-09-04</td>\n",
              "      <td>Уразов Р.Н.</td>\n",
              "      <td>Атанов И.В. (Ставропольский государственный аг...</td>\n",
              "      <td>Вх - Об участии в церемонии открытия Вузовског...</td>\n",
              "      <td>УразовР.Н.</td>\n",
              "      <td>Ставропольский государственный аграрный универ...</td>\n",
              "      <td>0</td>\n",
              "    </tr>\n",
              "  </tbody>\n",
              "</table>\n",
              "</div>\n",
              "      <button class=\"colab-df-convert\" onclick=\"convertToInteractive('df-9cae09a4-12ae-4d91-b555-085f291921ac')\"\n",
              "              title=\"Convert this dataframe to an interactive table.\"\n",
              "              style=\"display:none;\">\n",
              "        \n",
              "  <svg xmlns=\"http://www.w3.org/2000/svg\" height=\"24px\"viewBox=\"0 0 24 24\"\n",
              "       width=\"24px\">\n",
              "    <path d=\"M0 0h24v24H0V0z\" fill=\"none\"/>\n",
              "    <path d=\"M18.56 5.44l.94 2.06.94-2.06 2.06-.94-2.06-.94-.94-2.06-.94 2.06-2.06.94zm-11 1L8.5 8.5l.94-2.06 2.06-.94-2.06-.94L8.5 2.5l-.94 2.06-2.06.94zm10 10l.94 2.06.94-2.06 2.06-.94-2.06-.94-.94-2.06-.94 2.06-2.06.94z\"/><path d=\"M17.41 7.96l-1.37-1.37c-.4-.4-.92-.59-1.43-.59-.52 0-1.04.2-1.43.59L10.3 9.45l-7.72 7.72c-.78.78-.78 2.05 0 2.83L4 21.41c.39.39.9.59 1.41.59.51 0 1.02-.2 1.41-.59l7.78-7.78 2.81-2.81c.8-.78.8-2.07 0-2.86zM5.41 20L4 18.59l7.72-7.72 1.47 1.35L5.41 20z\"/>\n",
              "  </svg>\n",
              "      </button>\n",
              "      \n",
              "  <style>\n",
              "    .colab-df-container {\n",
              "      display:flex;\n",
              "      flex-wrap:wrap;\n",
              "      gap: 12px;\n",
              "    }\n",
              "\n",
              "    .colab-df-convert {\n",
              "      background-color: #E8F0FE;\n",
              "      border: none;\n",
              "      border-radius: 50%;\n",
              "      cursor: pointer;\n",
              "      display: none;\n",
              "      fill: #1967D2;\n",
              "      height: 32px;\n",
              "      padding: 0 0 0 0;\n",
              "      width: 32px;\n",
              "    }\n",
              "\n",
              "    .colab-df-convert:hover {\n",
              "      background-color: #E2EBFA;\n",
              "      box-shadow: 0px 1px 2px rgba(60, 64, 67, 0.3), 0px 1px 3px 1px rgba(60, 64, 67, 0.15);\n",
              "      fill: #174EA6;\n",
              "    }\n",
              "\n",
              "    [theme=dark] .colab-df-convert {\n",
              "      background-color: #3B4455;\n",
              "      fill: #D2E3FC;\n",
              "    }\n",
              "\n",
              "    [theme=dark] .colab-df-convert:hover {\n",
              "      background-color: #434B5C;\n",
              "      box-shadow: 0px 1px 3px 1px rgba(0, 0, 0, 0.15);\n",
              "      filter: drop-shadow(0px 1px 2px rgba(0, 0, 0, 0.3));\n",
              "      fill: #FFFFFF;\n",
              "    }\n",
              "  </style>\n",
              "\n",
              "      <script>\n",
              "        const buttonEl =\n",
              "          document.querySelector('#df-9cae09a4-12ae-4d91-b555-085f291921ac button.colab-df-convert');\n",
              "        buttonEl.style.display =\n",
              "          google.colab.kernel.accessAllowed ? 'block' : 'none';\n",
              "\n",
              "        async function convertToInteractive(key) {\n",
              "          const element = document.querySelector('#df-9cae09a4-12ae-4d91-b555-085f291921ac');\n",
              "          const dataTable =\n",
              "            await google.colab.kernel.invokeFunction('convertToInteractive',\n",
              "                                                     [key], {});\n",
              "          if (!dataTable) return;\n",
              "\n",
              "          const docLinkHtml = 'Like what you see? Visit the ' +\n",
              "            '<a target=\"_blank\" href=https://colab.research.google.com/notebooks/data_table.ipynb>data table notebook</a>'\n",
              "            + ' to learn more about interactive tables.';\n",
              "          element.innerHTML = '';\n",
              "          dataTable['output_type'] = 'display_data';\n",
              "          await google.colab.output.renderOutput(dataTable, element);\n",
              "          const docLink = document.createElement('div');\n",
              "          docLink.innerHTML = docLinkHtml;\n",
              "          element.appendChild(docLink);\n",
              "        }\n",
              "      </script>\n",
              "    </div>\n",
              "  </div>\n",
              "  "
            ],
            "text/plain": [
              "  Датарегистрации  ... Тип_агентсва\n",
              "0      2019-09-04  ...            0\n",
              "1      2019-09-04  ...            1\n",
              "2      2019-09-04  ...            1\n",
              "3      2019-09-04  ...            1\n",
              "4      2019-09-04  ...            0\n",
              "\n",
              "[5 rows x 7 columns]"
            ]
          },
          "metadata": {},
          "execution_count": 1361
        }
      ]
    },
    {
      "cell_type": "code",
      "source": [
        "from nltk.stem.snowball import SnowballStemmer\n",
        "stemmer = SnowballStemmer(\"russian\")\n",
        "def stm(doc):\n",
        "    tokens = []\n",
        "    for token in doc.split():\n",
        "      token = stemmer.stem(token)\n",
        "      tokens.append(token)\n",
        "    if len(tokens) > 0:\n",
        "        return (\" \").join(tokens)\n",
        "    return None"
      ],
      "metadata": {
        "id": "QPjtE4Ugut2L"
      },
      "execution_count": 1362,
      "outputs": []
    },
    {
      "cell_type": "code",
      "source": [
        "from sklearn.feature_extraction.text import TfidfVectorizer\n",
        "from sklearn.preprocessing import StandardScaler\n",
        "from sklearn.model_selection import train_test_split"
      ],
      "metadata": {
        "id": "SjBVBxhYuv87"
      },
      "execution_count": 1363,
      "outputs": []
    },
    {
      "cell_type": "markdown",
      "source": [
        "#Векторизация"
      ],
      "metadata": {
        "id": "hacrAMVeGEjb"
      }
    },
    {
      "cell_type": "code",
      "source": [
        "X = df.Адресат\n",
        "y = df.Тип_агентсва"
      ],
      "metadata": {
        "id": "1EltDanpuxZz"
      },
      "execution_count": 1364,
      "outputs": []
    },
    {
      "cell_type": "code",
      "source": [
        "X_train, X_test, y_train, y_test = train_test_split(X, y, test_size = 0.20, stratify = y)\n",
        "X_train = X_train.reset_index(drop = True)\n",
        "y_train = y_train.reset_index(drop = True)\n",
        "X_test = X_test.reset_index(drop = True)\n",
        "y_test = y_test.reset_index(drop = True)"
      ],
      "metadata": {
        "id": "093tetHeuygi"
      },
      "execution_count": 1365,
      "outputs": []
    },
    {
      "cell_type": "code",
      "source": [
        "vectorizer = TfidfVectorizer(max_features = 10000)"
      ],
      "metadata": {
        "id": "7GT0lP0uuzmC"
      },
      "execution_count": 1366,
      "outputs": []
    },
    {
      "cell_type": "code",
      "source": [
        "X_train = vectorizer.fit_transform(X_train)\n",
        "X_test = vectorizer.transform(X_test)"
      ],
      "metadata": {
        "id": "8slwMRCZu0jq"
      },
      "execution_count": 1367,
      "outputs": []
    },
    {
      "cell_type": "code",
      "source": [
        "from sklearn.svm import SVC\n",
        "from sklearn.metrics import classification_report, f1_score"
      ],
      "metadata": {
        "id": "FiQIk5Nuu1oz"
      },
      "execution_count": 1368,
      "outputs": []
    },
    {
      "cell_type": "code",
      "source": [
        "%%time\n",
        "model_SVC = SVC(C = 1, kernel = 'linear')\n",
        "model_SVC.fit(X_train, y_train)\n",
        "res = model_SVC.predict(X_test)"
      ],
      "metadata": {
        "colab": {
          "base_uri": "https://localhost:8080/"
        },
        "id": "HxLsX3GUu22z",
        "outputId": "e2d7a802-1fb1-42ed-9759-b64baf936a0f"
      },
      "execution_count": 1369,
      "outputs": [
        {
          "output_type": "stream",
          "name": "stdout",
          "text": [
            "CPU times: user 322 ms, sys: 19.4 ms, total: 341 ms\n",
            "Wall time: 347 ms\n"
          ]
        }
      ]
    },
    {
      "cell_type": "code",
      "source": [
        "f1_svm = f1_score(y_test, res, average='macro')\n",
        "f1_svm"
      ],
      "metadata": {
        "colab": {
          "base_uri": "https://localhost:8080/"
        },
        "id": "mGZN7FXfu3_b",
        "outputId": "9ea4b550-abbd-46ea-f5c5-10e5e7f0435b"
      },
      "execution_count": 1370,
      "outputs": [
        {
          "output_type": "execute_result",
          "data": {
            "text/plain": [
              "0.6120975609756099"
            ]
          },
          "metadata": {},
          "execution_count": 1370
        }
      ]
    },
    {
      "cell_type": "markdown",
      "source": [
        "Алгоритм выдал ~60"
      ],
      "metadata": {
        "id": "0ORZkeA4_p9M"
      }
    },
    {
      "cell_type": "code",
      "source": [
        "print(classification_report(y_test, res))"
      ],
      "metadata": {
        "colab": {
          "base_uri": "https://localhost:8080/"
        },
        "id": "d0aeYYJou5m7",
        "outputId": "367162e8-a49e-488d-821a-3f529552fbb1"
      },
      "execution_count": 1371,
      "outputs": [
        {
          "output_type": "stream",
          "name": "stdout",
          "text": [
            "              precision    recall  f1-score   support\n",
            "\n",
            "           0       0.68      0.75      0.71       596\n",
            "           1       0.56      0.47      0.51       398\n",
            "\n",
            "    accuracy                           0.64       994\n",
            "   macro avg       0.62      0.61      0.61       994\n",
            "weighted avg       0.63      0.64      0.63       994\n",
            "\n"
          ]
        }
      ]
    },
    {
      "cell_type": "markdown",
      "source": [
        "#Catboost"
      ],
      "metadata": {
        "id": "62rW5VUvMH3L"
      }
    },
    {
      "cell_type": "code",
      "source": [
        "!pip install catboost"
      ],
      "metadata": {
        "colab": {
          "base_uri": "https://localhost:8080/"
        },
        "id": "1CHo14sSLAxz",
        "outputId": "b83ac2b5-ac39-4a3a-b9f9-62cafd1f72a5"
      },
      "execution_count": 1372,
      "outputs": [
        {
          "output_type": "stream",
          "name": "stdout",
          "text": [
            "Requirement already satisfied: catboost in /usr/local/lib/python3.7/dist-packages (1.0.4)\n",
            "Requirement already satisfied: pandas>=0.24.0 in /usr/local/lib/python3.7/dist-packages (from catboost) (1.3.5)\n",
            "Requirement already satisfied: numpy>=1.16.0 in /usr/local/lib/python3.7/dist-packages (from catboost) (1.21.5)\n",
            "Requirement already satisfied: plotly in /usr/local/lib/python3.7/dist-packages (from catboost) (5.5.0)\n",
            "Requirement already satisfied: scipy in /usr/local/lib/python3.7/dist-packages (from catboost) (1.4.1)\n",
            "Requirement already satisfied: six in /usr/local/lib/python3.7/dist-packages (from catboost) (1.15.0)\n",
            "Requirement already satisfied: graphviz in /usr/local/lib/python3.7/dist-packages (from catboost) (0.10.1)\n",
            "Requirement already satisfied: matplotlib in /usr/local/lib/python3.7/dist-packages (from catboost) (3.2.2)\n",
            "Requirement already satisfied: pytz>=2017.3 in /usr/local/lib/python3.7/dist-packages (from pandas>=0.24.0->catboost) (2018.9)\n",
            "Requirement already satisfied: python-dateutil>=2.7.3 in /usr/local/lib/python3.7/dist-packages (from pandas>=0.24.0->catboost) (2.8.2)\n",
            "Requirement already satisfied: cycler>=0.10 in /usr/local/lib/python3.7/dist-packages (from matplotlib->catboost) (0.11.0)\n",
            "Requirement already satisfied: kiwisolver>=1.0.1 in /usr/local/lib/python3.7/dist-packages (from matplotlib->catboost) (1.3.2)\n",
            "Requirement already satisfied: pyparsing!=2.0.4,!=2.1.2,!=2.1.6,>=2.0.1 in /usr/local/lib/python3.7/dist-packages (from matplotlib->catboost) (3.0.7)\n",
            "Requirement already satisfied: tenacity>=6.2.0 in /usr/local/lib/python3.7/dist-packages (from plotly->catboost) (8.0.1)\n"
          ]
        }
      ]
    },
    {
      "cell_type": "code",
      "source": [
        "from catboost import CatBoostRegressor\n",
        "cat = CatBoostRegressor()"
      ],
      "metadata": {
        "id": "AdNn2sY6LLAL"
      },
      "execution_count": 1373,
      "outputs": []
    },
    {
      "cell_type": "code",
      "source": [
        "cat.fit(X_train,y_train,verbose=False, plot=True)"
      ],
      "metadata": {
        "colab": {
          "base_uri": "https://localhost:8080/",
          "height": 35,
          "referenced_widgets": [
            "cfa6aa341a6149fc9339c01be2988e74"
          ]
        },
        "id": "CVV30-crLCPT",
        "outputId": "476a658d-502f-4391-aeff-212c1afd0605"
      },
      "execution_count": 1374,
      "outputs": [
        {
          "output_type": "display_data",
          "data": {
            "application/vnd.jupyter.widget-view+json": {
              "model_id": "cfa6aa341a6149fc9339c01be2988e74",
              "version_minor": 0,
              "version_major": 2
            },
            "text/plain": [
              "MetricVisualizer(layout=Layout(align_self='stretch', height='500px'))"
            ]
          },
          "metadata": {}
        },
        {
          "output_type": "execute_result",
          "data": {
            "text/plain": [
              "<catboost.core.CatBoostRegressor at 0x7f0be97b1b50>"
            ]
          },
          "metadata": {},
          "execution_count": 1374
        }
      ]
    },
    {
      "cell_type": "markdown",
      "source": [
        "Кроссвалидацию"
      ],
      "metadata": {
        "id": "VZrm-n3CNECy"
      }
    },
    {
      "cell_type": "code",
      "source": [
        "from catboost import Pool, cv\n",
        "params = {\"iterations\": 100,\n",
        "          \"depth\": 10,\n",
        "          \"loss_function\": \"RMSE\",\n",
        "          \"verbose\": False}\n",
        "cv_dataset = Pool(data=X_train,\n",
        "                  label=y_train)\n",
        "scores = cv(cv_dataset,\n",
        "            params,\n",
        "            fold_count=10, \n",
        "            plot=\"True\")"
      ],
      "metadata": {
        "colab": {
          "base_uri": "https://localhost:8080/",
          "height": 940,
          "referenced_widgets": [
            "336f4d1442a84fb18c9fa827d8b6e5b9"
          ]
        },
        "id": "0gTrFn8CLUXb",
        "outputId": "66fbd18c-8244-4957-86a2-2d31525aac7c"
      },
      "execution_count": 1375,
      "outputs": [
        {
          "output_type": "display_data",
          "data": {
            "application/vnd.jupyter.widget-view+json": {
              "model_id": "336f4d1442a84fb18c9fa827d8b6e5b9",
              "version_minor": 0,
              "version_major": 2
            },
            "text/plain": [
              "MetricVisualizer(layout=Layout(align_self='stretch', height='500px'))"
            ]
          },
          "metadata": {}
        },
        {
          "output_type": "stream",
          "name": "stdout",
          "text": [
            "Training on fold [0/10]\n",
            "\n",
            "bestTest = 0.469638386\n",
            "bestIteration = 99\n",
            "\n",
            "Training on fold [1/10]\n",
            "\n",
            "bestTest = 0.4639506812\n",
            "bestIteration = 99\n",
            "\n",
            "Training on fold [2/10]\n",
            "\n",
            "bestTest = 0.4676880137\n",
            "bestIteration = 99\n",
            "\n",
            "Training on fold [3/10]\n",
            "\n",
            "bestTest = 0.4695339344\n",
            "bestIteration = 99\n",
            "\n",
            "Training on fold [4/10]\n",
            "\n",
            "bestTest = 0.4641099513\n",
            "bestIteration = 99\n",
            "\n",
            "Training on fold [5/10]\n",
            "\n",
            "bestTest = 0.4557904244\n",
            "bestIteration = 99\n",
            "\n",
            "Training on fold [6/10]\n",
            "\n",
            "bestTest = 0.483231348\n",
            "bestIteration = 99\n",
            "\n",
            "Training on fold [7/10]\n",
            "\n",
            "bestTest = 0.4715613458\n",
            "bestIteration = 99\n",
            "\n",
            "Training on fold [8/10]\n",
            "\n",
            "bestTest = 0.4650938038\n",
            "bestIteration = 99\n",
            "\n",
            "Training on fold [9/10]\n",
            "\n",
            "bestTest = 0.4651710135\n",
            "bestIteration = 99\n",
            "\n"
          ]
        }
      ]
    },
    {
      "cell_type": "code",
      "source": [
        "cat.plot_tree(tree_idx=0)"
      ],
      "metadata": {
        "colab": {
          "base_uri": "https://localhost:8080/",
          "height": 681
        },
        "id": "LmJqB5k4LgI7",
        "outputId": "ba4ab100-72ac-448d-a0bd-e88e0800fdd4"
      },
      "execution_count": 1376,
      "outputs": [
        {
          "output_type": "execute_result",
          "data": {
            "text/plain": [
              "<graphviz.dot.Digraph at 0x7f0be83c9d10>"
            ],
            "image/svg+xml": "<?xml version=\"1.0\" encoding=\"UTF-8\" standalone=\"no\"?>\n<!DOCTYPE svg PUBLIC \"-//W3C//DTD SVG 1.1//EN\"\n \"http://www.w3.org/Graphics/SVG/1.1/DTD/svg11.dtd\">\n<!-- Generated by graphviz version 2.40.1 (20161225.0304)\n -->\n<!-- Title: %3 Pages: 1 -->\n<svg width=\"3426pt\" height=\"479pt\"\n viewBox=\"0.00 0.00 3425.84 479.00\" xmlns=\"http://www.w3.org/2000/svg\" xmlns:xlink=\"http://www.w3.org/1999/xlink\">\n<g id=\"graph0\" class=\"graph\" transform=\"scale(1 1) rotate(0) translate(4 475)\">\n<title>%3</title>\n<polygon fill=\"#ffffff\" stroke=\"transparent\" points=\"-4,4 -4,-475 3421.8414,-475 3421.8414,4 -4,4\"/>\n<!-- 0 -->\n<g id=\"node1\" class=\"node\">\n<title>0</title>\n<ellipse fill=\"none\" stroke=\"#000000\" cx=\"1678\" cy=\"-453\" rx=\"96.6831\" ry=\"18\"/>\n<text text-anchor=\"middle\" x=\"1678\" y=\"-449.3\" font-family=\"Times,serif\" font-size=\"14.00\" fill=\"#000000\">219, value&gt;0.0547479</text>\n</g>\n<!-- 1 -->\n<g id=\"node2\" class=\"node\">\n<title>1</title>\n<ellipse fill=\"none\" stroke=\"#000000\" cx=\"1254\" cy=\"-366\" rx=\"91.784\" ry=\"18\"/>\n<text text-anchor=\"middle\" x=\"1254\" y=\"-362.3\" font-family=\"Times,serif\" font-size=\"14.00\" fill=\"#000000\">69, value&gt;0.0874311</text>\n</g>\n<!-- 0&#45;&gt;1 -->\n<g id=\"edge1\" class=\"edge\">\n<title>0&#45;&gt;1</title>\n<path fill=\"none\" stroke=\"#000000\" d=\"M1612.6792,-439.5969C1535.7129,-423.8043 1408.1552,-397.6309 1327.7157,-381.1256\"/>\n<polygon fill=\"#000000\" stroke=\"#000000\" points=\"1328.1602,-377.644 1317.6607,-379.0625 1326.7531,-384.5011 1328.1602,-377.644\"/>\n<text text-anchor=\"middle\" x=\"1501.5\" y=\"-405.8\" font-family=\"Times,serif\" font-size=\"14.00\" fill=\"#000000\">No</text>\n</g>\n<!-- 2 -->\n<g id=\"node3\" class=\"node\">\n<title>2</title>\n<ellipse fill=\"none\" stroke=\"#000000\" cx=\"2156\" cy=\"-366\" rx=\"91.784\" ry=\"18\"/>\n<text text-anchor=\"middle\" x=\"2156\" y=\"-362.3\" font-family=\"Times,serif\" font-size=\"14.00\" fill=\"#000000\">69, value&gt;0.0874311</text>\n</g>\n<!-- 0&#45;&gt;2 -->\n<g id=\"edge2\" class=\"edge\">\n<title>0&#45;&gt;2</title>\n<path fill=\"none\" stroke=\"#000000\" d=\"M1747.2499,-440.3959C1835.2835,-424.3731 1986.8234,-396.7916 2078.5875,-380.0897\"/>\n<polygon fill=\"#000000\" stroke=\"#000000\" points=\"2079.4374,-383.4926 2088.649,-378.2584 2078.1839,-376.6058 2079.4374,-383.4926\"/>\n<text text-anchor=\"middle\" x=\"1956.5\" y=\"-405.8\" font-family=\"Times,serif\" font-size=\"14.00\" fill=\"#000000\">Yes</text>\n</g>\n<!-- 3 -->\n<g id=\"node4\" class=\"node\">\n<title>3</title>\n<ellipse fill=\"none\" stroke=\"#000000\" cx=\"671\" cy=\"-279\" rx=\"96.6831\" ry=\"18\"/>\n<text text-anchor=\"middle\" x=\"671\" y=\"-275.3\" font-family=\"Times,serif\" font-size=\"14.00\" fill=\"#000000\">148, value&gt;0.0514966</text>\n</g>\n<!-- 1&#45;&gt;3 -->\n<g id=\"edge3\" class=\"edge\">\n<title>1&#45;&gt;3</title>\n<path fill=\"none\" stroke=\"#000000\" d=\"M1180.753,-355.0695C1072.8429,-338.9663 871.5639,-308.9298 756.8597,-291.8127\"/>\n<polygon fill=\"#000000\" stroke=\"#000000\" points=\"757.1227,-288.3132 746.7156,-290.2989 756.0894,-295.2366 757.1227,-288.3132\"/>\n<text text-anchor=\"middle\" x=\"1007.5\" y=\"-318.8\" font-family=\"Times,serif\" font-size=\"14.00\" fill=\"#000000\">No</text>\n</g>\n<!-- 4 -->\n<g id=\"node5\" class=\"node\">\n<title>4</title>\n<ellipse fill=\"none\" stroke=\"#000000\" cx=\"1254\" cy=\"-279\" rx=\"96.6831\" ry=\"18\"/>\n<text text-anchor=\"middle\" x=\"1254\" y=\"-275.3\" font-family=\"Times,serif\" font-size=\"14.00\" fill=\"#000000\">148, value&gt;0.0514966</text>\n</g>\n<!-- 1&#45;&gt;4 -->\n<g id=\"edge4\" class=\"edge\">\n<title>1&#45;&gt;4</title>\n<path fill=\"none\" stroke=\"#000000\" d=\"M1254,-347.9735C1254,-336.1918 1254,-320.5607 1254,-307.1581\"/>\n<polygon fill=\"#000000\" stroke=\"#000000\" points=\"1257.5001,-307.0033 1254,-297.0034 1250.5001,-307.0034 1257.5001,-307.0033\"/>\n<text text-anchor=\"middle\" x=\"1264.5\" y=\"-318.8\" font-family=\"Times,serif\" font-size=\"14.00\" fill=\"#000000\">Yes</text>\n</g>\n<!-- 5 -->\n<g id=\"node6\" class=\"node\">\n<title>5</title>\n<ellipse fill=\"none\" stroke=\"#000000\" cx=\"2156\" cy=\"-279\" rx=\"96.6831\" ry=\"18\"/>\n<text text-anchor=\"middle\" x=\"2156\" y=\"-275.3\" font-family=\"Times,serif\" font-size=\"14.00\" fill=\"#000000\">148, value&gt;0.0514966</text>\n</g>\n<!-- 2&#45;&gt;5 -->\n<g id=\"edge5\" class=\"edge\">\n<title>2&#45;&gt;5</title>\n<path fill=\"none\" stroke=\"#000000\" d=\"M2156,-347.9735C2156,-336.1918 2156,-320.5607 2156,-307.1581\"/>\n<polygon fill=\"#000000\" stroke=\"#000000\" points=\"2159.5001,-307.0033 2156,-297.0034 2152.5001,-307.0034 2159.5001,-307.0033\"/>\n<text text-anchor=\"middle\" x=\"2165.5\" y=\"-318.8\" font-family=\"Times,serif\" font-size=\"14.00\" fill=\"#000000\">No</text>\n</g>\n<!-- 6 -->\n<g id=\"node7\" class=\"node\">\n<title>6</title>\n<ellipse fill=\"none\" stroke=\"#000000\" cx=\"2738\" cy=\"-279\" rx=\"96.6831\" ry=\"18\"/>\n<text text-anchor=\"middle\" x=\"2738\" y=\"-275.3\" font-family=\"Times,serif\" font-size=\"14.00\" fill=\"#000000\">148, value&gt;0.0514966</text>\n</g>\n<!-- 2&#45;&gt;6 -->\n<g id=\"edge6\" class=\"edge\">\n<title>2&#45;&gt;6</title>\n<path fill=\"none\" stroke=\"#000000\" d=\"M2229.1214,-355.0695C2336.8464,-338.9663 2537.7801,-308.9298 2652.2875,-291.8127\"/>\n<polygon fill=\"#000000\" stroke=\"#000000\" points=\"2653.0417,-295.2389 2662.4143,-290.2989 2652.0067,-288.3159 2653.0417,-295.2389\"/>\n<text text-anchor=\"middle\" x=\"2492.5\" y=\"-318.8\" font-family=\"Times,serif\" font-size=\"14.00\" fill=\"#000000\">Yes</text>\n</g>\n<!-- 7 -->\n<g id=\"node8\" class=\"node\">\n<title>7</title>\n<ellipse fill=\"none\" stroke=\"#000000\" cx=\"353\" cy=\"-192\" rx=\"87.1846\" ry=\"18\"/>\n<text text-anchor=\"middle\" x=\"353\" y=\"-188.3\" font-family=\"Times,serif\" font-size=\"14.00\" fill=\"#000000\">54, value&gt;0.590764</text>\n</g>\n<!-- 3&#45;&gt;7 -->\n<g id=\"edge7\" class=\"edge\">\n<title>3&#45;&gt;7</title>\n<path fill=\"none\" stroke=\"#000000\" d=\"M616.3339,-264.0442C560.5176,-248.7737 473.9892,-225.1008 415.4926,-209.097\"/>\n<polygon fill=\"#000000\" stroke=\"#000000\" points=\"416.2023,-205.6626 405.6331,-206.3996 414.3551,-212.4145 416.2023,-205.6626\"/>\n<text text-anchor=\"middle\" x=\"541.5\" y=\"-231.8\" font-family=\"Times,serif\" font-size=\"14.00\" fill=\"#000000\">No</text>\n</g>\n<!-- 8 -->\n<g id=\"node9\" class=\"node\">\n<title>8</title>\n<ellipse fill=\"none\" stroke=\"#000000\" cx=\"671\" cy=\"-192\" rx=\"87.1846\" ry=\"18\"/>\n<text text-anchor=\"middle\" x=\"671\" y=\"-188.3\" font-family=\"Times,serif\" font-size=\"14.00\" fill=\"#000000\">54, value&gt;0.590764</text>\n</g>\n<!-- 3&#45;&gt;8 -->\n<g id=\"edge8\" class=\"edge\">\n<title>3&#45;&gt;8</title>\n<path fill=\"none\" stroke=\"#000000\" d=\"M671,-260.9735C671,-249.1918 671,-233.5607 671,-220.1581\"/>\n<polygon fill=\"#000000\" stroke=\"#000000\" points=\"674.5001,-220.0033 671,-210.0034 667.5001,-220.0034 674.5001,-220.0033\"/>\n<text text-anchor=\"middle\" x=\"681.5\" y=\"-231.8\" font-family=\"Times,serif\" font-size=\"14.00\" fill=\"#000000\">Yes</text>\n</g>\n<!-- 9 -->\n<g id=\"node10\" class=\"node\">\n<title>9</title>\n<ellipse fill=\"none\" stroke=\"#000000\" cx=\"1201\" cy=\"-192\" rx=\"87.1846\" ry=\"18\"/>\n<text text-anchor=\"middle\" x=\"1201\" y=\"-188.3\" font-family=\"Times,serif\" font-size=\"14.00\" fill=\"#000000\">54, value&gt;0.590764</text>\n</g>\n<!-- 4&#45;&gt;9 -->\n<g id=\"edge9\" class=\"edge\">\n<title>4&#45;&gt;9</title>\n<path fill=\"none\" stroke=\"#000000\" d=\"M1243.0184,-260.9735C1235.5567,-248.7252 1225.5606,-232.3165 1217.1903,-218.5766\"/>\n<polygon fill=\"#000000\" stroke=\"#000000\" points=\"1220.1592,-216.7225 1211.9676,-210.0034 1214.1812,-220.3644 1220.1592,-216.7225\"/>\n<text text-anchor=\"middle\" x=\"1240.5\" y=\"-231.8\" font-family=\"Times,serif\" font-size=\"14.00\" fill=\"#000000\">No</text>\n</g>\n<!-- 10 -->\n<g id=\"node11\" class=\"node\">\n<title>10</title>\n<ellipse fill=\"none\" stroke=\"#000000\" cx=\"1413\" cy=\"-192\" rx=\"87.1846\" ry=\"18\"/>\n<text text-anchor=\"middle\" x=\"1413\" y=\"-188.3\" font-family=\"Times,serif\" font-size=\"14.00\" fill=\"#000000\">54, value&gt;0.590764</text>\n</g>\n<!-- 4&#45;&gt;10 -->\n<g id=\"edge10\" class=\"edge\">\n<title>4&#45;&gt;10</title>\n<path fill=\"none\" stroke=\"#000000\" d=\"M1285.4133,-261.8116C1310.6197,-248.0194 1346.1569,-228.5745 1373.3267,-213.708\"/>\n<polygon fill=\"#000000\" stroke=\"#000000\" points=\"1375.1004,-216.7272 1382.193,-208.8567 1371.7403,-210.5864 1375.1004,-216.7272\"/>\n<text text-anchor=\"middle\" x=\"1354.5\" y=\"-231.8\" font-family=\"Times,serif\" font-size=\"14.00\" fill=\"#000000\">Yes</text>\n</g>\n<!-- 11 -->\n<g id=\"node12\" class=\"node\">\n<title>11</title>\n<ellipse fill=\"none\" stroke=\"#000000\" cx=\"2049\" cy=\"-192\" rx=\"87.1846\" ry=\"18\"/>\n<text text-anchor=\"middle\" x=\"2049\" y=\"-188.3\" font-family=\"Times,serif\" font-size=\"14.00\" fill=\"#000000\">54, value&gt;0.590764</text>\n</g>\n<!-- 5&#45;&gt;11 -->\n<g id=\"edge11\" class=\"edge\">\n<title>5&#45;&gt;11</title>\n<path fill=\"none\" stroke=\"#000000\" d=\"M2134.347,-261.3943C2118.2485,-248.3048 2096.1013,-230.2973 2078.4022,-215.9064\"/>\n<polygon fill=\"#000000\" stroke=\"#000000\" points=\"2080.5878,-213.1726 2070.6208,-209.5796 2076.1717,-218.6039 2080.5878,-213.1726\"/>\n<text text-anchor=\"middle\" x=\"2118.5\" y=\"-231.8\" font-family=\"Times,serif\" font-size=\"14.00\" fill=\"#000000\">No</text>\n</g>\n<!-- 12 -->\n<g id=\"node13\" class=\"node\">\n<title>12</title>\n<ellipse fill=\"none\" stroke=\"#000000\" cx=\"2261\" cy=\"-192\" rx=\"87.1846\" ry=\"18\"/>\n<text text-anchor=\"middle\" x=\"2261\" y=\"-188.3\" font-family=\"Times,serif\" font-size=\"14.00\" fill=\"#000000\">54, value&gt;0.590764</text>\n</g>\n<!-- 5&#45;&gt;12 -->\n<g id=\"edge12\" class=\"edge\">\n<title>5&#45;&gt;12</title>\n<path fill=\"none\" stroke=\"#000000\" d=\"M2177.2483,-261.3943C2192.9036,-248.4228 2214.388,-230.6213 2231.6769,-216.2962\"/>\n<polygon fill=\"#000000\" stroke=\"#000000\" points=\"2234.3161,-218.6549 2239.7833,-209.5796 2229.85,-213.2647 2234.3161,-218.6549\"/>\n<text text-anchor=\"middle\" x=\"2225.5\" y=\"-231.8\" font-family=\"Times,serif\" font-size=\"14.00\" fill=\"#000000\">Yes</text>\n</g>\n<!-- 13 -->\n<g id=\"node14\" class=\"node\">\n<title>13</title>\n<ellipse fill=\"none\" stroke=\"#000000\" cx=\"2738\" cy=\"-192\" rx=\"87.1846\" ry=\"18\"/>\n<text text-anchor=\"middle\" x=\"2738\" y=\"-188.3\" font-family=\"Times,serif\" font-size=\"14.00\" fill=\"#000000\">54, value&gt;0.590764</text>\n</g>\n<!-- 6&#45;&gt;13 -->\n<g id=\"edge13\" class=\"edge\">\n<title>6&#45;&gt;13</title>\n<path fill=\"none\" stroke=\"#000000\" d=\"M2738,-260.9735C2738,-249.1918 2738,-233.5607 2738,-220.1581\"/>\n<polygon fill=\"#000000\" stroke=\"#000000\" points=\"2741.5001,-220.0033 2738,-210.0034 2734.5001,-220.0034 2741.5001,-220.0033\"/>\n<text text-anchor=\"middle\" x=\"2747.5\" y=\"-231.8\" font-family=\"Times,serif\" font-size=\"14.00\" fill=\"#000000\">No</text>\n</g>\n<!-- 14 -->\n<g id=\"node15\" class=\"node\">\n<title>14</title>\n<ellipse fill=\"none\" stroke=\"#000000\" cx=\"3109\" cy=\"-192\" rx=\"87.1846\" ry=\"18\"/>\n<text text-anchor=\"middle\" x=\"3109\" y=\"-188.3\" font-family=\"Times,serif\" font-size=\"14.00\" fill=\"#000000\">54, value&gt;0.590764</text>\n</g>\n<!-- 6&#45;&gt;14 -->\n<g id=\"edge14\" class=\"edge\">\n<title>6&#45;&gt;14</title>\n<path fill=\"none\" stroke=\"#000000\" d=\"M2798.4333,-264.8283C2865.0698,-249.202 2972.0103,-224.1243 3041.3866,-207.8554\"/>\n<polygon fill=\"#000000\" stroke=\"#000000\" points=\"3042.4038,-211.2119 3051.3406,-205.5212 3040.8056,-204.3968 3042.4038,-211.2119\"/>\n<text text-anchor=\"middle\" x=\"2956.5\" y=\"-231.8\" font-family=\"Times,serif\" font-size=\"14.00\" fill=\"#000000\">Yes</text>\n</g>\n<!-- 15 -->\n<g id=\"node16\" class=\"node\">\n<title>15</title>\n<ellipse fill=\"none\" stroke=\"#000000\" cx=\"141\" cy=\"-105\" rx=\"96.6831\" ry=\"18\"/>\n<text text-anchor=\"middle\" x=\"141\" y=\"-101.3\" font-family=\"Times,serif\" font-size=\"14.00\" fill=\"#000000\">190, value&gt;0.0358345</text>\n</g>\n<!-- 7&#45;&gt;15 -->\n<g id=\"edge15\" class=\"edge\">\n<title>7&#45;&gt;15</title>\n<path fill=\"none\" stroke=\"#000000\" d=\"M313.6213,-175.8399C278.9961,-161.6305 228.4218,-140.8759 190.9575,-125.5014\"/>\n<polygon fill=\"#000000\" stroke=\"#000000\" points=\"191.8288,-122.0758 181.2487,-121.5171 189.1712,-128.5517 191.8288,-122.0758\"/>\n<text text-anchor=\"middle\" x=\"269.5\" y=\"-144.8\" font-family=\"Times,serif\" font-size=\"14.00\" fill=\"#000000\">No</text>\n</g>\n<!-- 16 -->\n<g id=\"node17\" class=\"node\">\n<title>16</title>\n<ellipse fill=\"none\" stroke=\"#000000\" cx=\"353\" cy=\"-105\" rx=\"96.6831\" ry=\"18\"/>\n<text text-anchor=\"middle\" x=\"353\" y=\"-101.3\" font-family=\"Times,serif\" font-size=\"14.00\" fill=\"#000000\">190, value&gt;0.0358345</text>\n</g>\n<!-- 7&#45;&gt;16 -->\n<g id=\"edge16\" class=\"edge\">\n<title>7&#45;&gt;16</title>\n<path fill=\"none\" stroke=\"#000000\" d=\"M353,-173.9735C353,-162.1918 353,-146.5607 353,-133.1581\"/>\n<polygon fill=\"#000000\" stroke=\"#000000\" points=\"356.5001,-133.0033 353,-123.0034 349.5001,-133.0034 356.5001,-133.0033\"/>\n<text text-anchor=\"middle\" x=\"363.5\" y=\"-144.8\" font-family=\"Times,serif\" font-size=\"14.00\" fill=\"#000000\">Yes</text>\n</g>\n<!-- 17 -->\n<g id=\"node18\" class=\"node\">\n<title>17</title>\n<ellipse fill=\"none\" stroke=\"#000000\" cx=\"565\" cy=\"-105\" rx=\"96.6831\" ry=\"18\"/>\n<text text-anchor=\"middle\" x=\"565\" y=\"-101.3\" font-family=\"Times,serif\" font-size=\"14.00\" fill=\"#000000\">190, value&gt;0.0358345</text>\n</g>\n<!-- 8&#45;&gt;17 -->\n<g id=\"edge17\" class=\"edge\">\n<title>8&#45;&gt;17</title>\n<path fill=\"none\" stroke=\"#000000\" d=\"M649.5493,-174.3943C633.745,-161.4228 612.0559,-143.6213 594.6023,-129.2962\"/>\n<polygon fill=\"#000000\" stroke=\"#000000\" points=\"596.3691,-126.2184 586.4188,-122.5796 591.9281,-131.6293 596.3691,-126.2184\"/>\n<text text-anchor=\"middle\" x=\"634.5\" y=\"-144.8\" font-family=\"Times,serif\" font-size=\"14.00\" fill=\"#000000\">No</text>\n</g>\n<!-- 18 -->\n<g id=\"node19\" class=\"node\">\n<title>18</title>\n<ellipse fill=\"none\" stroke=\"#000000\" cx=\"777\" cy=\"-105\" rx=\"96.6831\" ry=\"18\"/>\n<text text-anchor=\"middle\" x=\"777\" y=\"-101.3\" font-family=\"Times,serif\" font-size=\"14.00\" fill=\"#000000\">190, value&gt;0.0358345</text>\n</g>\n<!-- 8&#45;&gt;18 -->\n<g id=\"edge18\" class=\"edge\">\n<title>8&#45;&gt;18</title>\n<path fill=\"none\" stroke=\"#000000\" d=\"M692.4507,-174.3943C708.255,-161.4228 729.9441,-143.6213 747.3977,-129.2962\"/>\n<polygon fill=\"#000000\" stroke=\"#000000\" points=\"750.0719,-131.6293 755.5812,-122.5796 745.6309,-126.2184 750.0719,-131.6293\"/>\n<text text-anchor=\"middle\" x=\"741.5\" y=\"-144.8\" font-family=\"Times,serif\" font-size=\"14.00\" fill=\"#000000\">Yes</text>\n</g>\n<!-- 19 -->\n<g id=\"node20\" class=\"node\">\n<title>19</title>\n<ellipse fill=\"none\" stroke=\"#000000\" cx=\"989\" cy=\"-105\" rx=\"96.6831\" ry=\"18\"/>\n<text text-anchor=\"middle\" x=\"989\" y=\"-101.3\" font-family=\"Times,serif\" font-size=\"14.00\" fill=\"#000000\">190, value&gt;0.0358345</text>\n</g>\n<!-- 9&#45;&gt;19 -->\n<g id=\"edge19\" class=\"edge\">\n<title>9&#45;&gt;19</title>\n<path fill=\"none\" stroke=\"#000000\" d=\"M1161.6213,-175.8399C1126.9961,-161.6305 1076.4218,-140.8759 1038.9575,-125.5014\"/>\n<polygon fill=\"#000000\" stroke=\"#000000\" points=\"1039.8288,-122.0758 1029.2487,-121.5171 1037.1712,-128.5517 1039.8288,-122.0758\"/>\n<text text-anchor=\"middle\" x=\"1117.5\" y=\"-144.8\" font-family=\"Times,serif\" font-size=\"14.00\" fill=\"#000000\">No</text>\n</g>\n<!-- 20 -->\n<g id=\"node21\" class=\"node\">\n<title>20</title>\n<ellipse fill=\"none\" stroke=\"#000000\" cx=\"1201\" cy=\"-105\" rx=\"96.6831\" ry=\"18\"/>\n<text text-anchor=\"middle\" x=\"1201\" y=\"-101.3\" font-family=\"Times,serif\" font-size=\"14.00\" fill=\"#000000\">190, value&gt;0.0358345</text>\n</g>\n<!-- 9&#45;&gt;20 -->\n<g id=\"edge20\" class=\"edge\">\n<title>9&#45;&gt;20</title>\n<path fill=\"none\" stroke=\"#000000\" d=\"M1201,-173.9735C1201,-162.1918 1201,-146.5607 1201,-133.1581\"/>\n<polygon fill=\"#000000\" stroke=\"#000000\" points=\"1204.5001,-133.0033 1201,-123.0034 1197.5001,-133.0034 1204.5001,-133.0033\"/>\n<text text-anchor=\"middle\" x=\"1211.5\" y=\"-144.8\" font-family=\"Times,serif\" font-size=\"14.00\" fill=\"#000000\">Yes</text>\n</g>\n<!-- 21 -->\n<g id=\"node22\" class=\"node\">\n<title>21</title>\n<ellipse fill=\"none\" stroke=\"#000000\" cx=\"1413\" cy=\"-105\" rx=\"96.6831\" ry=\"18\"/>\n<text text-anchor=\"middle\" x=\"1413\" y=\"-101.3\" font-family=\"Times,serif\" font-size=\"14.00\" fill=\"#000000\">190, value&gt;0.0358345</text>\n</g>\n<!-- 10&#45;&gt;21 -->\n<g id=\"edge21\" class=\"edge\">\n<title>10&#45;&gt;21</title>\n<path fill=\"none\" stroke=\"#000000\" d=\"M1413,-173.9735C1413,-162.1918 1413,-146.5607 1413,-133.1581\"/>\n<polygon fill=\"#000000\" stroke=\"#000000\" points=\"1416.5001,-133.0033 1413,-123.0034 1409.5001,-133.0034 1416.5001,-133.0033\"/>\n<text text-anchor=\"middle\" x=\"1422.5\" y=\"-144.8\" font-family=\"Times,serif\" font-size=\"14.00\" fill=\"#000000\">No</text>\n</g>\n<!-- 22 -->\n<g id=\"node23\" class=\"node\">\n<title>22</title>\n<ellipse fill=\"none\" stroke=\"#000000\" cx=\"1625\" cy=\"-105\" rx=\"96.6831\" ry=\"18\"/>\n<text text-anchor=\"middle\" x=\"1625\" y=\"-101.3\" font-family=\"Times,serif\" font-size=\"14.00\" fill=\"#000000\">190, value&gt;0.0358345</text>\n</g>\n<!-- 10&#45;&gt;22 -->\n<g id=\"edge22\" class=\"edge\">\n<title>10&#45;&gt;22</title>\n<path fill=\"none\" stroke=\"#000000\" d=\"M1452.3787,-175.8399C1487.0039,-161.6305 1537.5782,-140.8759 1575.0425,-125.5014\"/>\n<polygon fill=\"#000000\" stroke=\"#000000\" points=\"1576.8288,-128.5517 1584.7513,-121.5171 1574.1712,-122.0758 1576.8288,-128.5517\"/>\n<text text-anchor=\"middle\" x=\"1542.5\" y=\"-144.8\" font-family=\"Times,serif\" font-size=\"14.00\" fill=\"#000000\">Yes</text>\n</g>\n<!-- 23 -->\n<g id=\"node24\" class=\"node\">\n<title>23</title>\n<ellipse fill=\"none\" stroke=\"#000000\" cx=\"1837\" cy=\"-105\" rx=\"96.6831\" ry=\"18\"/>\n<text text-anchor=\"middle\" x=\"1837\" y=\"-101.3\" font-family=\"Times,serif\" font-size=\"14.00\" fill=\"#000000\">190, value&gt;0.0358345</text>\n</g>\n<!-- 11&#45;&gt;23 -->\n<g id=\"edge23\" class=\"edge\">\n<title>11&#45;&gt;23</title>\n<path fill=\"none\" stroke=\"#000000\" d=\"M2009.6213,-175.8399C1974.9961,-161.6305 1924.4218,-140.8759 1886.9575,-125.5014\"/>\n<polygon fill=\"#000000\" stroke=\"#000000\" points=\"1887.8288,-122.0758 1877.2487,-121.5171 1885.1712,-128.5517 1887.8288,-122.0758\"/>\n<text text-anchor=\"middle\" x=\"1965.5\" y=\"-144.8\" font-family=\"Times,serif\" font-size=\"14.00\" fill=\"#000000\">No</text>\n</g>\n<!-- 24 -->\n<g id=\"node25\" class=\"node\">\n<title>24</title>\n<ellipse fill=\"none\" stroke=\"#000000\" cx=\"2049\" cy=\"-105\" rx=\"96.6831\" ry=\"18\"/>\n<text text-anchor=\"middle\" x=\"2049\" y=\"-101.3\" font-family=\"Times,serif\" font-size=\"14.00\" fill=\"#000000\">190, value&gt;0.0358345</text>\n</g>\n<!-- 11&#45;&gt;24 -->\n<g id=\"edge24\" class=\"edge\">\n<title>11&#45;&gt;24</title>\n<path fill=\"none\" stroke=\"#000000\" d=\"M2049,-173.9735C2049,-162.1918 2049,-146.5607 2049,-133.1581\"/>\n<polygon fill=\"#000000\" stroke=\"#000000\" points=\"2052.5001,-133.0033 2049,-123.0034 2045.5001,-133.0034 2052.5001,-133.0033\"/>\n<text text-anchor=\"middle\" x=\"2059.5\" y=\"-144.8\" font-family=\"Times,serif\" font-size=\"14.00\" fill=\"#000000\">Yes</text>\n</g>\n<!-- 25 -->\n<g id=\"node26\" class=\"node\">\n<title>25</title>\n<ellipse fill=\"none\" stroke=\"#000000\" cx=\"2261\" cy=\"-105\" rx=\"96.6831\" ry=\"18\"/>\n<text text-anchor=\"middle\" x=\"2261\" y=\"-101.3\" font-family=\"Times,serif\" font-size=\"14.00\" fill=\"#000000\">190, value&gt;0.0358345</text>\n</g>\n<!-- 12&#45;&gt;25 -->\n<g id=\"edge25\" class=\"edge\">\n<title>12&#45;&gt;25</title>\n<path fill=\"none\" stroke=\"#000000\" d=\"M2261,-173.9735C2261,-162.1918 2261,-146.5607 2261,-133.1581\"/>\n<polygon fill=\"#000000\" stroke=\"#000000\" points=\"2264.5001,-133.0033 2261,-123.0034 2257.5001,-133.0034 2264.5001,-133.0033\"/>\n<text text-anchor=\"middle\" x=\"2270.5\" y=\"-144.8\" font-family=\"Times,serif\" font-size=\"14.00\" fill=\"#000000\">No</text>\n</g>\n<!-- 26 -->\n<g id=\"node27\" class=\"node\">\n<title>26</title>\n<ellipse fill=\"none\" stroke=\"#000000\" cx=\"2473\" cy=\"-105\" rx=\"96.6831\" ry=\"18\"/>\n<text text-anchor=\"middle\" x=\"2473\" y=\"-101.3\" font-family=\"Times,serif\" font-size=\"14.00\" fill=\"#000000\">190, value&gt;0.0358345</text>\n</g>\n<!-- 12&#45;&gt;26 -->\n<g id=\"edge26\" class=\"edge\">\n<title>12&#45;&gt;26</title>\n<path fill=\"none\" stroke=\"#000000\" d=\"M2300.3787,-175.8399C2335.0039,-161.6305 2385.5782,-140.8759 2423.0425,-125.5014\"/>\n<polygon fill=\"#000000\" stroke=\"#000000\" points=\"2424.8288,-128.5517 2432.7513,-121.5171 2422.1712,-122.0758 2424.8288,-128.5517\"/>\n<text text-anchor=\"middle\" x=\"2390.5\" y=\"-144.8\" font-family=\"Times,serif\" font-size=\"14.00\" fill=\"#000000\">Yes</text>\n</g>\n<!-- 27 -->\n<g id=\"node28\" class=\"node\">\n<title>27</title>\n<ellipse fill=\"none\" stroke=\"#000000\" cx=\"2685\" cy=\"-105\" rx=\"96.6831\" ry=\"18\"/>\n<text text-anchor=\"middle\" x=\"2685\" y=\"-101.3\" font-family=\"Times,serif\" font-size=\"14.00\" fill=\"#000000\">190, value&gt;0.0358345</text>\n</g>\n<!-- 13&#45;&gt;27 -->\n<g id=\"edge27\" class=\"edge\">\n<title>13&#45;&gt;27</title>\n<path fill=\"none\" stroke=\"#000000\" d=\"M2727.0184,-173.9735C2719.5567,-161.7252 2709.5606,-145.3165 2701.1903,-131.5766\"/>\n<polygon fill=\"#000000\" stroke=\"#000000\" points=\"2704.1592,-129.7225 2695.9676,-123.0034 2698.1812,-133.3644 2704.1592,-129.7225\"/>\n<text text-anchor=\"middle\" x=\"2724.5\" y=\"-144.8\" font-family=\"Times,serif\" font-size=\"14.00\" fill=\"#000000\">No</text>\n</g>\n<!-- 28 -->\n<g id=\"node29\" class=\"node\">\n<title>28</title>\n<ellipse fill=\"none\" stroke=\"#000000\" cx=\"2897\" cy=\"-105\" rx=\"96.6831\" ry=\"18\"/>\n<text text-anchor=\"middle\" x=\"2897\" y=\"-101.3\" font-family=\"Times,serif\" font-size=\"14.00\" fill=\"#000000\">190, value&gt;0.0358345</text>\n</g>\n<!-- 13&#45;&gt;28 -->\n<g id=\"edge28\" class=\"edge\">\n<title>13&#45;&gt;28</title>\n<path fill=\"none\" stroke=\"#000000\" d=\"M2769.0343,-175.019C2794.1239,-161.2907 2829.6276,-141.8641 2856.8756,-126.9549\"/>\n<polygon fill=\"#000000\" stroke=\"#000000\" points=\"2858.6802,-129.9572 2865.7727,-122.0866 2855.32,-123.8164 2858.6802,-129.9572\"/>\n<text text-anchor=\"middle\" x=\"2838.5\" y=\"-144.8\" font-family=\"Times,serif\" font-size=\"14.00\" fill=\"#000000\">Yes</text>\n</g>\n<!-- 29 -->\n<g id=\"node30\" class=\"node\">\n<title>29</title>\n<ellipse fill=\"none\" stroke=\"#000000\" cx=\"3109\" cy=\"-105\" rx=\"96.6831\" ry=\"18\"/>\n<text text-anchor=\"middle\" x=\"3109\" y=\"-101.3\" font-family=\"Times,serif\" font-size=\"14.00\" fill=\"#000000\">190, value&gt;0.0358345</text>\n</g>\n<!-- 14&#45;&gt;29 -->\n<g id=\"edge29\" class=\"edge\">\n<title>14&#45;&gt;29</title>\n<path fill=\"none\" stroke=\"#000000\" d=\"M3109,-173.9735C3109,-162.1918 3109,-146.5607 3109,-133.1581\"/>\n<polygon fill=\"#000000\" stroke=\"#000000\" points=\"3112.5001,-133.0033 3109,-123.0034 3105.5001,-133.0034 3112.5001,-133.0033\"/>\n<text text-anchor=\"middle\" x=\"3118.5\" y=\"-144.8\" font-family=\"Times,serif\" font-size=\"14.00\" fill=\"#000000\">No</text>\n</g>\n<!-- 30 -->\n<g id=\"node31\" class=\"node\">\n<title>30</title>\n<ellipse fill=\"none\" stroke=\"#000000\" cx=\"3321\" cy=\"-105\" rx=\"96.6831\" ry=\"18\"/>\n<text text-anchor=\"middle\" x=\"3321\" y=\"-101.3\" font-family=\"Times,serif\" font-size=\"14.00\" fill=\"#000000\">190, value&gt;0.0358345</text>\n</g>\n<!-- 14&#45;&gt;30 -->\n<g id=\"edge30\" class=\"edge\">\n<title>14&#45;&gt;30</title>\n<path fill=\"none\" stroke=\"#000000\" d=\"M3148.3787,-175.8399C3183.0039,-161.6305 3233.5782,-140.8759 3271.0425,-125.5014\"/>\n<polygon fill=\"#000000\" stroke=\"#000000\" points=\"3272.8288,-128.5517 3280.7513,-121.5171 3270.1712,-122.0758 3272.8288,-128.5517\"/>\n<text text-anchor=\"middle\" x=\"3238.5\" y=\"-144.8\" font-family=\"Times,serif\" font-size=\"14.00\" fill=\"#000000\">Yes</text>\n</g>\n<!-- 31 -->\n<g id=\"node32\" class=\"node\">\n<title>31</title>\n<polygon fill=\"none\" stroke=\"#ff0000\" points=\"88,-36 0,-36 0,0 88,0 88,-36\"/>\n<text text-anchor=\"middle\" x=\"44\" y=\"-14.3\" font-family=\"Times,serif\" font-size=\"14.00\" fill=\"#000000\">val = &#45;0.008</text>\n</g>\n<!-- 15&#45;&gt;31 -->\n<g id=\"edge31\" class=\"edge\">\n<title>15&#45;&gt;31</title>\n<path fill=\"none\" stroke=\"#000000\" d=\"M120.9015,-86.9735C106.7251,-74.2586 87.55,-57.0603 71.8939,-43.0183\"/>\n<polygon fill=\"#000000\" stroke=\"#000000\" points=\"73.8541,-40.0748 64.0727,-36.0034 69.1802,-45.2859 73.8541,-40.0748\"/>\n<text text-anchor=\"middle\" x=\"108.5\" y=\"-57.8\" font-family=\"Times,serif\" font-size=\"14.00\" fill=\"#000000\">No</text>\n</g>\n<!-- 32 -->\n<g id=\"node33\" class=\"node\">\n<title>32</title>\n<polygon fill=\"none\" stroke=\"#ff0000\" points=\"189.5,-36 106.5,-36 106.5,0 189.5,0 189.5,-36\"/>\n<text text-anchor=\"middle\" x=\"148\" y=\"-14.3\" font-family=\"Times,serif\" font-size=\"14.00\" fill=\"#000000\">val = 0.006</text>\n</g>\n<!-- 15&#45;&gt;32 -->\n<g id=\"edge32\" class=\"edge\">\n<title>15&#45;&gt;32</title>\n<path fill=\"none\" stroke=\"#000000\" d=\"M142.4504,-86.9735C143.3984,-75.1918 144.656,-59.5607 145.7344,-46.1581\"/>\n<polygon fill=\"#000000\" stroke=\"#000000\" points=\"149.2381,-46.2519 146.5515,-36.0034 142.2606,-45.6904 149.2381,-46.2519\"/>\n<text text-anchor=\"middle\" x=\"155.5\" y=\"-57.8\" font-family=\"Times,serif\" font-size=\"14.00\" fill=\"#000000\">Yes</text>\n</g>\n<!-- 33 -->\n<g id=\"node34\" class=\"node\">\n<title>33</title>\n<polygon fill=\"none\" stroke=\"#ff0000\" points=\"295.5,-36 212.5,-36 212.5,0 295.5,0 295.5,-36\"/>\n<text text-anchor=\"middle\" x=\"254\" y=\"-14.3\" font-family=\"Times,serif\" font-size=\"14.00\" fill=\"#000000\">val = 0.005</text>\n</g>\n<!-- 16&#45;&gt;33 -->\n<g id=\"edge33\" class=\"edge\">\n<title>16&#45;&gt;33</title>\n<path fill=\"none\" stroke=\"#000000\" d=\"M332.4871,-86.9735C317.8856,-74.1419 298.0884,-56.7443 282.0302,-42.6326\"/>\n<polygon fill=\"#000000\" stroke=\"#000000\" points=\"284.3087,-39.9755 274.4866,-36.0034 279.6878,-45.2336 284.3087,-39.9755\"/>\n<text text-anchor=\"middle\" x=\"319.5\" y=\"-57.8\" font-family=\"Times,serif\" font-size=\"14.00\" fill=\"#000000\">No</text>\n</g>\n<!-- 34 -->\n<g id=\"node35\" class=\"node\">\n<title>34</title>\n<polygon fill=\"none\" stroke=\"#ff0000\" points=\"396.5,-36 313.5,-36 313.5,0 396.5,0 396.5,-36\"/>\n<text text-anchor=\"middle\" x=\"355\" y=\"-14.3\" font-family=\"Times,serif\" font-size=\"14.00\" fill=\"#000000\">val = 0.002</text>\n</g>\n<!-- 16&#45;&gt;34 -->\n<g id=\"edge34\" class=\"edge\">\n<title>16&#45;&gt;34</title>\n<path fill=\"none\" stroke=\"#000000\" d=\"M353.4144,-86.9735C353.6852,-75.1918 354.0446,-59.5607 354.3527,-46.1581\"/>\n<polygon fill=\"#000000\" stroke=\"#000000\" points=\"357.8553,-46.0812 354.5861,-36.0034 350.8571,-45.9202 357.8553,-46.0812\"/>\n<text text-anchor=\"middle\" x=\"365.5\" y=\"-57.8\" font-family=\"Times,serif\" font-size=\"14.00\" fill=\"#000000\">Yes</text>\n</g>\n<!-- 35 -->\n<g id=\"node36\" class=\"node\">\n<title>35</title>\n<polygon fill=\"none\" stroke=\"#ff0000\" points=\"511,-36 423,-36 423,0 511,0 511,-36\"/>\n<text text-anchor=\"middle\" x=\"467\" y=\"-14.3\" font-family=\"Times,serif\" font-size=\"14.00\" fill=\"#000000\">val = &#45;0.005</text>\n</g>\n<!-- 17&#45;&gt;35 -->\n<g id=\"edge35\" class=\"edge\">\n<title>17&#45;&gt;35</title>\n<path fill=\"none\" stroke=\"#000000\" d=\"M544.6943,-86.9735C530.3717,-74.2586 510.9989,-57.0603 495.1815,-43.0183\"/>\n<polygon fill=\"#000000\" stroke=\"#000000\" points=\"497.0816,-40.0249 487.2797,-36.0034 492.4343,-45.2597 497.0816,-40.0249\"/>\n<text text-anchor=\"middle\" x=\"531.5\" y=\"-57.8\" font-family=\"Times,serif\" font-size=\"14.00\" fill=\"#000000\">No</text>\n</g>\n<!-- 36 -->\n<g id=\"node37\" class=\"node\">\n<title>36</title>\n<polygon fill=\"none\" stroke=\"#ff0000\" points=\"612.5,-36 529.5,-36 529.5,0 612.5,0 612.5,-36\"/>\n<text text-anchor=\"middle\" x=\"571\" y=\"-14.3\" font-family=\"Times,serif\" font-size=\"14.00\" fill=\"#000000\">val = 0.000</text>\n</g>\n<!-- 17&#45;&gt;36 -->\n<g id=\"edge36\" class=\"edge\">\n<title>17&#45;&gt;36</title>\n<path fill=\"none\" stroke=\"#000000\" d=\"M566.2432,-86.9735C567.0557,-75.1918 568.1337,-59.5607 569.0581,-46.1581\"/>\n<polygon fill=\"#000000\" stroke=\"#000000\" points=\"572.562,-46.2205 569.7584,-36.0034 565.5786,-45.7388 572.562,-46.2205\"/>\n<text text-anchor=\"middle\" x=\"579.5\" y=\"-57.8\" font-family=\"Times,serif\" font-size=\"14.00\" fill=\"#000000\">Yes</text>\n</g>\n<!-- 37 -->\n<g id=\"node38\" class=\"node\">\n<title>37</title>\n<polygon fill=\"none\" stroke=\"#ff0000\" points=\"742.5,-36 659.5,-36 659.5,0 742.5,0 742.5,-36\"/>\n<text text-anchor=\"middle\" x=\"701\" y=\"-14.3\" font-family=\"Times,serif\" font-size=\"14.00\" fill=\"#000000\">val = 0.000</text>\n</g>\n<!-- 18&#45;&gt;37 -->\n<g id=\"edge37\" class=\"edge\">\n<title>18&#45;&gt;37</title>\n<path fill=\"none\" stroke=\"#000000\" d=\"M761.2528,-86.9735C750.3492,-74.4919 735.6716,-57.6899 723.533,-43.7944\"/>\n<polygon fill=\"#000000\" stroke=\"#000000\" points=\"725.9419,-41.2319 716.7271,-36.0034 720.6701,-45.8371 725.9419,-41.2319\"/>\n<text text-anchor=\"middle\" x=\"753.5\" y=\"-57.8\" font-family=\"Times,serif\" font-size=\"14.00\" fill=\"#000000\">No</text>\n</g>\n<!-- 38 -->\n<g id=\"node39\" class=\"node\">\n<title>38</title>\n<polygon fill=\"none\" stroke=\"#ff0000\" points=\"843.5,-36 760.5,-36 760.5,0 843.5,0 843.5,-36\"/>\n<text text-anchor=\"middle\" x=\"802\" y=\"-14.3\" font-family=\"Times,serif\" font-size=\"14.00\" fill=\"#000000\">val = 0.000</text>\n</g>\n<!-- 18&#45;&gt;38 -->\n<g id=\"edge38\" class=\"edge\">\n<title>18&#45;&gt;38</title>\n<path fill=\"none\" stroke=\"#000000\" d=\"M782.18,-86.9735C785.5991,-75.0751 790.1463,-59.2508 794.0228,-45.7606\"/>\n<polygon fill=\"#000000\" stroke=\"#000000\" points=\"797.4286,-46.5811 796.8266,-36.0034 790.7009,-44.6478 797.4286,-46.5811\"/>\n<text text-anchor=\"middle\" x=\"801.5\" y=\"-57.8\" font-family=\"Times,serif\" font-size=\"14.00\" fill=\"#000000\">Yes</text>\n</g>\n<!-- 39 -->\n<g id=\"node40\" class=\"node\">\n<title>39</title>\n<polygon fill=\"none\" stroke=\"#ff0000\" points=\"958.5,-36 875.5,-36 875.5,0 958.5,0 958.5,-36\"/>\n<text text-anchor=\"middle\" x=\"917\" y=\"-14.3\" font-family=\"Times,serif\" font-size=\"14.00\" fill=\"#000000\">val = 0.000</text>\n</g>\n<!-- 19&#45;&gt;39 -->\n<g id=\"edge39\" class=\"edge\">\n<title>19&#45;&gt;39</title>\n<path fill=\"none\" stroke=\"#000000\" d=\"M974.0816,-86.9735C963.7519,-74.4919 949.8468,-57.6899 938.3471,-43.7944\"/>\n<polygon fill=\"#000000\" stroke=\"#000000\" points=\"940.9714,-41.4758 931.8993,-36.0034 935.5787,-45.9388 940.9714,-41.4758\"/>\n<text text-anchor=\"middle\" x=\"967.5\" y=\"-57.8\" font-family=\"Times,serif\" font-size=\"14.00\" fill=\"#000000\">No</text>\n</g>\n<!-- 40 -->\n<g id=\"node41\" class=\"node\">\n<title>40</title>\n<polygon fill=\"none\" stroke=\"#ff0000\" points=\"1065,-36 977,-36 977,0 1065,0 1065,-36\"/>\n<text text-anchor=\"middle\" x=\"1021\" y=\"-14.3\" font-family=\"Times,serif\" font-size=\"14.00\" fill=\"#000000\">val = &#45;0.005</text>\n</g>\n<!-- 19&#45;&gt;40 -->\n<g id=\"edge40\" class=\"edge\">\n<title>19&#45;&gt;40</title>\n<path fill=\"none\" stroke=\"#000000\" d=\"M995.6304,-86.9735C1000.0069,-75.0751 1005.8273,-59.2508 1010.7892,-45.7606\"/>\n<polygon fill=\"#000000\" stroke=\"#000000\" points=\"1014.2108,-46.5969 1014.3781,-36.0034 1007.6411,-44.1804 1014.2108,-46.5969\"/>\n<text text-anchor=\"middle\" x=\"1017.5\" y=\"-57.8\" font-family=\"Times,serif\" font-size=\"14.00\" fill=\"#000000\">Yes</text>\n</g>\n<!-- 41 -->\n<g id=\"node42\" class=\"node\">\n<title>41</title>\n<polygon fill=\"none\" stroke=\"#ff0000\" points=\"1173.5,-36 1090.5,-36 1090.5,0 1173.5,0 1173.5,-36\"/>\n<text text-anchor=\"middle\" x=\"1132\" y=\"-14.3\" font-family=\"Times,serif\" font-size=\"14.00\" fill=\"#000000\">val = 0.000</text>\n</g>\n<!-- 20&#45;&gt;41 -->\n<g id=\"edge41\" class=\"edge\">\n<title>20&#45;&gt;41</title>\n<path fill=\"none\" stroke=\"#000000\" d=\"M1186.7032,-86.9735C1176.8964,-74.6085 1163.727,-58.0036 1152.7672,-44.1847\"/>\n<polygon fill=\"#000000\" stroke=\"#000000\" points=\"1155.2348,-41.6635 1146.2785,-36.0034 1149.7503,-46.0133 1155.2348,-41.6635\"/>\n<text text-anchor=\"middle\" x=\"1180.5\" y=\"-57.8\" font-family=\"Times,serif\" font-size=\"14.00\" fill=\"#000000\">No</text>\n</g>\n<!-- 42 -->\n<g id=\"node43\" class=\"node\">\n<title>42</title>\n<polygon fill=\"none\" stroke=\"#ff0000\" points=\"1274.5,-36 1191.5,-36 1191.5,0 1274.5,0 1274.5,-36\"/>\n<text text-anchor=\"middle\" x=\"1233\" y=\"-14.3\" font-family=\"Times,serif\" font-size=\"14.00\" fill=\"#000000\">val = 0.000</text>\n</g>\n<!-- 20&#45;&gt;42 -->\n<g id=\"edge42\" class=\"edge\">\n<title>20&#45;&gt;42</title>\n<path fill=\"none\" stroke=\"#000000\" d=\"M1207.6304,-86.9735C1212.0069,-75.0751 1217.8273,-59.2508 1222.7892,-45.7606\"/>\n<polygon fill=\"#000000\" stroke=\"#000000\" points=\"1226.2108,-46.5969 1226.3781,-36.0034 1219.6411,-44.1804 1226.2108,-46.5969\"/>\n<text text-anchor=\"middle\" x=\"1229.5\" y=\"-57.8\" font-family=\"Times,serif\" font-size=\"14.00\" fill=\"#000000\">Yes</text>\n</g>\n<!-- 43 -->\n<g id=\"node44\" class=\"node\">\n<title>43</title>\n<polygon fill=\"none\" stroke=\"#ff0000\" points=\"1379.5,-36 1296.5,-36 1296.5,0 1379.5,0 1379.5,-36\"/>\n<text text-anchor=\"middle\" x=\"1338\" y=\"-14.3\" font-family=\"Times,serif\" font-size=\"14.00\" fill=\"#000000\">val = 0.000</text>\n</g>\n<!-- 21&#45;&gt;43 -->\n<g id=\"edge43\" class=\"edge\">\n<title>21&#45;&gt;43</title>\n<path fill=\"none\" stroke=\"#000000\" d=\"M1397.46,-86.9735C1386.6999,-74.4919 1372.2154,-57.6899 1360.2365,-43.7944\"/>\n<polygon fill=\"#000000\" stroke=\"#000000\" points=\"1362.7005,-41.2922 1353.5201,-36.0034 1357.3986,-45.8628 1362.7005,-41.2922\"/>\n<text text-anchor=\"middle\" x=\"1389.5\" y=\"-57.8\" font-family=\"Times,serif\" font-size=\"14.00\" fill=\"#000000\">No</text>\n</g>\n<!-- 44 -->\n<g id=\"node45\" class=\"node\">\n<title>44</title>\n<polygon fill=\"none\" stroke=\"#ff0000\" points=\"1480.5,-36 1397.5,-36 1397.5,0 1480.5,0 1480.5,-36\"/>\n<text text-anchor=\"middle\" x=\"1439\" y=\"-14.3\" font-family=\"Times,serif\" font-size=\"14.00\" fill=\"#000000\">val = 0.000</text>\n</g>\n<!-- 21&#45;&gt;44 -->\n<g id=\"edge44\" class=\"edge\">\n<title>21&#45;&gt;44</title>\n<path fill=\"none\" stroke=\"#000000\" d=\"M1418.3872,-86.9735C1421.9431,-75.0751 1426.6722,-59.2508 1430.7037,-45.7606\"/>\n<polygon fill=\"#000000\" stroke=\"#000000\" points=\"1434.1097,-46.5869 1433.6197,-36.0034 1427.4028,-44.5825 1434.1097,-46.5869\"/>\n<text text-anchor=\"middle\" x=\"1438.5\" y=\"-57.8\" font-family=\"Times,serif\" font-size=\"14.00\" fill=\"#000000\">Yes</text>\n</g>\n<!-- 45 -->\n<g id=\"node46\" class=\"node\">\n<title>45</title>\n<polygon fill=\"none\" stroke=\"#ff0000\" points=\"1583.5,-36 1500.5,-36 1500.5,0 1583.5,0 1583.5,-36\"/>\n<text text-anchor=\"middle\" x=\"1542\" y=\"-14.3\" font-family=\"Times,serif\" font-size=\"14.00\" fill=\"#000000\">val = 0.000</text>\n</g>\n<!-- 22&#45;&gt;45 -->\n<g id=\"edge45\" class=\"edge\">\n<title>22&#45;&gt;45</title>\n<path fill=\"none\" stroke=\"#000000\" d=\"M1607.8023,-86.9735C1595.7833,-74.3752 1579.5651,-57.3755 1566.2375,-43.4055\"/>\n<polygon fill=\"#000000\" stroke=\"#000000\" points=\"1568.6108,-40.8228 1559.1756,-36.0034 1563.546,-45.6548 1568.6108,-40.8228\"/>\n<text text-anchor=\"middle\" x=\"1598.5\" y=\"-57.8\" font-family=\"Times,serif\" font-size=\"14.00\" fill=\"#000000\">No</text>\n</g>\n<!-- 46 -->\n<g id=\"node47\" class=\"node\">\n<title>46</title>\n<polygon fill=\"none\" stroke=\"#ff0000\" points=\"1684.5,-36 1601.5,-36 1601.5,0 1684.5,0 1684.5,-36\"/>\n<text text-anchor=\"middle\" x=\"1643\" y=\"-14.3\" font-family=\"Times,serif\" font-size=\"14.00\" fill=\"#000000\">val = 0.000</text>\n</g>\n<!-- 22&#45;&gt;46 -->\n<g id=\"edge46\" class=\"edge\">\n<title>22&#45;&gt;46</title>\n<path fill=\"none\" stroke=\"#000000\" d=\"M1628.7296,-86.9735C1631.1672,-75.1918 1634.4012,-59.5607 1637.1742,-46.1581\"/>\n<polygon fill=\"#000000\" stroke=\"#000000\" points=\"1640.6764,-46.5051 1639.2752,-36.0034 1633.8216,-45.0868 1640.6764,-46.5051\"/>\n<text text-anchor=\"middle\" x=\"1646.5\" y=\"-57.8\" font-family=\"Times,serif\" font-size=\"14.00\" fill=\"#000000\">Yes</text>\n</g>\n<!-- 47 -->\n<g id=\"node48\" class=\"node\">\n<title>47</title>\n<polygon fill=\"none\" stroke=\"#ff0000\" points=\"1792,-36 1704,-36 1704,0 1792,0 1792,-36\"/>\n<text text-anchor=\"middle\" x=\"1748\" y=\"-14.3\" font-family=\"Times,serif\" font-size=\"14.00\" fill=\"#000000\">val = &#45;0.005</text>\n</g>\n<!-- 23&#45;&gt;47 -->\n<g id=\"edge47\" class=\"edge\">\n<title>23&#45;&gt;47</title>\n<path fill=\"none\" stroke=\"#000000\" d=\"M1818.5591,-86.9735C1805.5519,-74.2586 1787.9582,-57.0603 1773.5934,-43.0183\"/>\n<polygon fill=\"#000000\" stroke=\"#000000\" points=\"1776.0148,-40.4908 1766.4172,-36.0034 1771.1216,-45.4965 1776.0148,-40.4908\"/>\n<text text-anchor=\"middle\" x=\"1807.5\" y=\"-57.8\" font-family=\"Times,serif\" font-size=\"14.00\" fill=\"#000000\">No</text>\n</g>\n<!-- 48 -->\n<g id=\"node49\" class=\"node\">\n<title>48</title>\n<polygon fill=\"none\" stroke=\"#ff0000\" points=\"1893.5,-36 1810.5,-36 1810.5,0 1893.5,0 1893.5,-36\"/>\n<text text-anchor=\"middle\" x=\"1852\" y=\"-14.3\" font-family=\"Times,serif\" font-size=\"14.00\" fill=\"#000000\">val = 0.000</text>\n</g>\n<!-- 23&#45;&gt;48 -->\n<g id=\"edge48\" class=\"edge\">\n<title>23&#45;&gt;48</title>\n<path fill=\"none\" stroke=\"#000000\" d=\"M1840.108,-86.9735C1842.1393,-75.1918 1844.8344,-59.5607 1847.1452,-46.1581\"/>\n<polygon fill=\"#000000\" stroke=\"#000000\" points=\"1850.6459,-46.4527 1848.896,-36.0034 1843.7477,-45.2633 1850.6459,-46.4527\"/>\n<text text-anchor=\"middle\" x=\"1856.5\" y=\"-57.8\" font-family=\"Times,serif\" font-size=\"14.00\" fill=\"#000000\">Yes</text>\n</g>\n<!-- 49 -->\n<g id=\"node50\" class=\"node\">\n<title>49</title>\n<polygon fill=\"none\" stroke=\"#ff0000\" points=\"1994.5,-36 1911.5,-36 1911.5,0 1994.5,0 1994.5,-36\"/>\n<text text-anchor=\"middle\" x=\"1953\" y=\"-14.3\" font-family=\"Times,serif\" font-size=\"14.00\" fill=\"#000000\">val = 0.000</text>\n</g>\n<!-- 24&#45;&gt;49 -->\n<g id=\"edge49\" class=\"edge\">\n<title>24&#45;&gt;49</title>\n<path fill=\"none\" stroke=\"#000000\" d=\"M2029.1087,-86.9735C2015.0784,-74.2586 1996.101,-57.0603 1980.6064,-43.0183\"/>\n<polygon fill=\"#000000\" stroke=\"#000000\" points=\"1982.626,-40.1251 1972.8658,-36.0034 1977.9253,-45.3121 1982.626,-40.1251\"/>\n<text text-anchor=\"middle\" x=\"2016.5\" y=\"-57.8\" font-family=\"Times,serif\" font-size=\"14.00\" fill=\"#000000\">No</text>\n</g>\n<!-- 50 -->\n<g id=\"node51\" class=\"node\">\n<title>50</title>\n<polygon fill=\"none\" stroke=\"#ff0000\" points=\"2095.5,-36 2012.5,-36 2012.5,0 2095.5,0 2095.5,-36\"/>\n<text text-anchor=\"middle\" x=\"2054\" y=\"-14.3\" font-family=\"Times,serif\" font-size=\"14.00\" fill=\"#000000\">val = 0.000</text>\n</g>\n<!-- 24&#45;&gt;50 -->\n<g id=\"edge50\" class=\"edge\">\n<title>24&#45;&gt;50</title>\n<path fill=\"none\" stroke=\"#000000\" d=\"M2050.036,-86.9735C2050.7131,-75.1918 2051.6115,-59.5607 2052.3817,-46.1581\"/>\n<polygon fill=\"#000000\" stroke=\"#000000\" points=\"2055.8857,-46.1877 2052.9653,-36.0034 2048.8972,-45.786 2055.8857,-46.1877\"/>\n<text text-anchor=\"middle\" x=\"2062.5\" y=\"-57.8\" font-family=\"Times,serif\" font-size=\"14.00\" fill=\"#000000\">Yes</text>\n</g>\n<!-- 51 -->\n<g id=\"node52\" class=\"node\">\n<title>51</title>\n<polygon fill=\"none\" stroke=\"#ff0000\" points=\"2206.5,-36 2123.5,-36 2123.5,0 2206.5,0 2206.5,-36\"/>\n<text text-anchor=\"middle\" x=\"2165\" y=\"-14.3\" font-family=\"Times,serif\" font-size=\"14.00\" fill=\"#000000\">val = 0.000</text>\n</g>\n<!-- 25&#45;&gt;51 -->\n<g id=\"edge51\" class=\"edge\">\n<title>25&#45;&gt;51</title>\n<path fill=\"none\" stroke=\"#000000\" d=\"M2241.1087,-86.9735C2227.0784,-74.2586 2208.101,-57.0603 2192.6064,-43.0183\"/>\n<polygon fill=\"#000000\" stroke=\"#000000\" points=\"2194.626,-40.1251 2184.8658,-36.0034 2189.9253,-45.3121 2194.626,-40.1251\"/>\n<text text-anchor=\"middle\" x=\"2228.5\" y=\"-57.8\" font-family=\"Times,serif\" font-size=\"14.00\" fill=\"#000000\">No</text>\n</g>\n<!-- 52 -->\n<g id=\"node53\" class=\"node\">\n<title>52</title>\n<polygon fill=\"none\" stroke=\"#ff0000\" points=\"2307.5,-36 2224.5,-36 2224.5,0 2307.5,0 2307.5,-36\"/>\n<text text-anchor=\"middle\" x=\"2266\" y=\"-14.3\" font-family=\"Times,serif\" font-size=\"14.00\" fill=\"#000000\">val = 0.000</text>\n</g>\n<!-- 25&#45;&gt;52 -->\n<g id=\"edge52\" class=\"edge\">\n<title>25&#45;&gt;52</title>\n<path fill=\"none\" stroke=\"#000000\" d=\"M2262.036,-86.9735C2262.7131,-75.1918 2263.6115,-59.5607 2264.3817,-46.1581\"/>\n<polygon fill=\"#000000\" stroke=\"#000000\" points=\"2267.8857,-46.1877 2264.9653,-36.0034 2260.8972,-45.786 2267.8857,-46.1877\"/>\n<text text-anchor=\"middle\" x=\"2274.5\" y=\"-57.8\" font-family=\"Times,serif\" font-size=\"14.00\" fill=\"#000000\">Yes</text>\n</g>\n<!-- 53 -->\n<g id=\"node54\" class=\"node\">\n<title>53</title>\n<polygon fill=\"none\" stroke=\"#ff0000\" points=\"2418.5,-36 2335.5,-36 2335.5,0 2418.5,0 2418.5,-36\"/>\n<text text-anchor=\"middle\" x=\"2377\" y=\"-14.3\" font-family=\"Times,serif\" font-size=\"14.00\" fill=\"#000000\">val = 0.000</text>\n</g>\n<!-- 26&#45;&gt;53 -->\n<g id=\"edge53\" class=\"edge\">\n<title>26&#45;&gt;53</title>\n<path fill=\"none\" stroke=\"#000000\" d=\"M2453.1087,-86.9735C2439.0784,-74.2586 2420.101,-57.0603 2404.6064,-43.0183\"/>\n<polygon fill=\"#000000\" stroke=\"#000000\" points=\"2406.626,-40.1251 2396.8658,-36.0034 2401.9253,-45.3121 2406.626,-40.1251\"/>\n<text text-anchor=\"middle\" x=\"2440.5\" y=\"-57.8\" font-family=\"Times,serif\" font-size=\"14.00\" fill=\"#000000\">No</text>\n</g>\n<!-- 54 -->\n<g id=\"node55\" class=\"node\">\n<title>54</title>\n<polygon fill=\"none\" stroke=\"#ff0000\" points=\"2519.5,-36 2436.5,-36 2436.5,0 2519.5,0 2519.5,-36\"/>\n<text text-anchor=\"middle\" x=\"2478\" y=\"-14.3\" font-family=\"Times,serif\" font-size=\"14.00\" fill=\"#000000\">val = 0.000</text>\n</g>\n<!-- 26&#45;&gt;54 -->\n<g id=\"edge54\" class=\"edge\">\n<title>26&#45;&gt;54</title>\n<path fill=\"none\" stroke=\"#000000\" d=\"M2474.036,-86.9735C2474.7131,-75.1918 2475.6115,-59.5607 2476.3817,-46.1581\"/>\n<polygon fill=\"#000000\" stroke=\"#000000\" points=\"2479.8857,-46.1877 2476.9653,-36.0034 2472.8972,-45.786 2479.8857,-46.1877\"/>\n<text text-anchor=\"middle\" x=\"2486.5\" y=\"-57.8\" font-family=\"Times,serif\" font-size=\"14.00\" fill=\"#000000\">Yes</text>\n</g>\n<!-- 55 -->\n<g id=\"node56\" class=\"node\">\n<title>55</title>\n<polygon fill=\"none\" stroke=\"#ff0000\" points=\"2630.5,-36 2547.5,-36 2547.5,0 2630.5,0 2630.5,-36\"/>\n<text text-anchor=\"middle\" x=\"2589\" y=\"-14.3\" font-family=\"Times,serif\" font-size=\"14.00\" fill=\"#000000\">val = 0.000</text>\n</g>\n<!-- 27&#45;&gt;55 -->\n<g id=\"edge55\" class=\"edge\">\n<title>27&#45;&gt;55</title>\n<path fill=\"none\" stroke=\"#000000\" d=\"M2665.1087,-86.9735C2651.0784,-74.2586 2632.101,-57.0603 2616.6064,-43.0183\"/>\n<polygon fill=\"#000000\" stroke=\"#000000\" points=\"2618.626,-40.1251 2608.8658,-36.0034 2613.9253,-45.3121 2618.626,-40.1251\"/>\n<text text-anchor=\"middle\" x=\"2652.5\" y=\"-57.8\" font-family=\"Times,serif\" font-size=\"14.00\" fill=\"#000000\">No</text>\n</g>\n<!-- 56 -->\n<g id=\"node57\" class=\"node\">\n<title>56</title>\n<polygon fill=\"none\" stroke=\"#ff0000\" points=\"2731.5,-36 2648.5,-36 2648.5,0 2731.5,0 2731.5,-36\"/>\n<text text-anchor=\"middle\" x=\"2690\" y=\"-14.3\" font-family=\"Times,serif\" font-size=\"14.00\" fill=\"#000000\">val = 0.000</text>\n</g>\n<!-- 27&#45;&gt;56 -->\n<g id=\"edge56\" class=\"edge\">\n<title>27&#45;&gt;56</title>\n<path fill=\"none\" stroke=\"#000000\" d=\"M2686.036,-86.9735C2686.7131,-75.1918 2687.6115,-59.5607 2688.3817,-46.1581\"/>\n<polygon fill=\"#000000\" stroke=\"#000000\" points=\"2691.8857,-46.1877 2688.9653,-36.0034 2684.8972,-45.786 2691.8857,-46.1877\"/>\n<text text-anchor=\"middle\" x=\"2698.5\" y=\"-57.8\" font-family=\"Times,serif\" font-size=\"14.00\" fill=\"#000000\">Yes</text>\n</g>\n<!-- 57 -->\n<g id=\"node58\" class=\"node\">\n<title>57</title>\n<polygon fill=\"none\" stroke=\"#ff0000\" points=\"2844.5,-36 2761.5,-36 2761.5,0 2844.5,0 2844.5,-36\"/>\n<text text-anchor=\"middle\" x=\"2803\" y=\"-14.3\" font-family=\"Times,serif\" font-size=\"14.00\" fill=\"#000000\">val = 0.000</text>\n</g>\n<!-- 28&#45;&gt;57 -->\n<g id=\"edge57\" class=\"edge\">\n<title>28&#45;&gt;57</title>\n<path fill=\"none\" stroke=\"#000000\" d=\"M2877.5231,-86.9735C2863.7851,-74.2586 2845.2031,-57.0603 2830.0312,-43.0183\"/>\n<polygon fill=\"#000000\" stroke=\"#000000\" points=\"2832.1684,-40.2272 2822.4519,-36.0034 2827.4136,-45.3646 2832.1684,-40.2272\"/>\n<text text-anchor=\"middle\" x=\"2865.5\" y=\"-57.8\" font-family=\"Times,serif\" font-size=\"14.00\" fill=\"#000000\">No</text>\n</g>\n<!-- 58 -->\n<g id=\"node59\" class=\"node\">\n<title>58</title>\n<polygon fill=\"none\" stroke=\"#ff0000\" points=\"2945.5,-36 2862.5,-36 2862.5,0 2945.5,0 2945.5,-36\"/>\n<text text-anchor=\"middle\" x=\"2904\" y=\"-14.3\" font-family=\"Times,serif\" font-size=\"14.00\" fill=\"#000000\">val = 0.000</text>\n</g>\n<!-- 28&#45;&gt;58 -->\n<g id=\"edge58\" class=\"edge\">\n<title>28&#45;&gt;58</title>\n<path fill=\"none\" stroke=\"#000000\" d=\"M2898.4504,-86.9735C2899.3984,-75.1918 2900.656,-59.5607 2901.7344,-46.1581\"/>\n<polygon fill=\"#000000\" stroke=\"#000000\" points=\"2905.2381,-46.2519 2902.5515,-36.0034 2898.2606,-45.6904 2905.2381,-46.2519\"/>\n<text text-anchor=\"middle\" x=\"2911.5\" y=\"-57.8\" font-family=\"Times,serif\" font-size=\"14.00\" fill=\"#000000\">Yes</text>\n</g>\n<!-- 59 -->\n<g id=\"node60\" class=\"node\">\n<title>59</title>\n<polygon fill=\"none\" stroke=\"#ff0000\" points=\"3102.5,-36 3019.5,-36 3019.5,0 3102.5,0 3102.5,-36\"/>\n<text text-anchor=\"middle\" x=\"3061\" y=\"-14.3\" font-family=\"Times,serif\" font-size=\"14.00\" fill=\"#000000\">val = 0.000</text>\n</g>\n<!-- 29&#45;&gt;59 -->\n<g id=\"edge59\" class=\"edge\">\n<title>29&#45;&gt;59</title>\n<path fill=\"none\" stroke=\"#000000\" d=\"M3099.0544,-86.9735C3092.361,-74.8418 3083.4158,-58.6287 3075.8799,-44.9698\"/>\n<polygon fill=\"#000000\" stroke=\"#000000\" points=\"3078.8282,-43.0684 3070.9329,-36.0034 3072.6992,-46.4499 3078.8282,-43.0684\"/>\n<text text-anchor=\"middle\" x=\"3097.5\" y=\"-57.8\" font-family=\"Times,serif\" font-size=\"14.00\" fill=\"#000000\">No</text>\n</g>\n<!-- 60 -->\n<g id=\"node61\" class=\"node\">\n<title>60</title>\n<polygon fill=\"none\" stroke=\"#ff0000\" points=\"3203.5,-36 3120.5,-36 3120.5,0 3203.5,0 3203.5,-36\"/>\n<text text-anchor=\"middle\" x=\"3162\" y=\"-14.3\" font-family=\"Times,serif\" font-size=\"14.00\" fill=\"#000000\">val = 0.000</text>\n</g>\n<!-- 29&#45;&gt;60 -->\n<g id=\"edge60\" class=\"edge\">\n<title>29&#45;&gt;60</title>\n<path fill=\"none\" stroke=\"#000000\" d=\"M3119.9816,-86.9735C3127.4433,-74.7252 3137.4394,-58.3165 3145.8097,-44.5766\"/>\n<polygon fill=\"#000000\" stroke=\"#000000\" points=\"3148.8188,-46.3644 3151.0324,-36.0034 3142.8408,-42.7225 3148.8188,-46.3644\"/>\n<text text-anchor=\"middle\" x=\"3149.5\" y=\"-57.8\" font-family=\"Times,serif\" font-size=\"14.00\" fill=\"#000000\">Yes</text>\n</g>\n<!-- 61 -->\n<g id=\"node62\" class=\"node\">\n<title>61</title>\n<polygon fill=\"none\" stroke=\"#ff0000\" points=\"3309.5,-36 3226.5,-36 3226.5,0 3309.5,0 3309.5,-36\"/>\n<text text-anchor=\"middle\" x=\"3268\" y=\"-14.3\" font-family=\"Times,serif\" font-size=\"14.00\" fill=\"#000000\">val = 0.000</text>\n</g>\n<!-- 30&#45;&gt;61 -->\n<g id=\"edge61\" class=\"edge\">\n<title>30&#45;&gt;61</title>\n<path fill=\"none\" stroke=\"#000000\" d=\"M3310.0184,-86.9735C3302.5567,-74.7252 3292.5606,-58.3165 3284.1903,-44.5766\"/>\n<polygon fill=\"#000000\" stroke=\"#000000\" points=\"3287.1592,-42.7225 3278.9676,-36.0034 3281.1812,-46.3644 3287.1592,-42.7225\"/>\n<text text-anchor=\"middle\" x=\"3307.5\" y=\"-57.8\" font-family=\"Times,serif\" font-size=\"14.00\" fill=\"#000000\">No</text>\n</g>\n<!-- 62 -->\n<g id=\"node63\" class=\"node\">\n<title>62</title>\n<polygon fill=\"none\" stroke=\"#ff0000\" points=\"3410.5,-36 3327.5,-36 3327.5,0 3410.5,0 3410.5,-36\"/>\n<text text-anchor=\"middle\" x=\"3369\" y=\"-14.3\" font-family=\"Times,serif\" font-size=\"14.00\" fill=\"#000000\">val = 0.000</text>\n</g>\n<!-- 30&#45;&gt;62 -->\n<g id=\"edge62\" class=\"edge\">\n<title>30&#45;&gt;62</title>\n<path fill=\"none\" stroke=\"#000000\" d=\"M3330.9456,-86.9735C3337.639,-74.8418 3346.5842,-58.6287 3354.1201,-44.9698\"/>\n<polygon fill=\"#000000\" stroke=\"#000000\" points=\"3357.3008,-46.4499 3359.0671,-36.0034 3351.1718,-43.0684 3357.3008,-46.4499\"/>\n<text text-anchor=\"middle\" x=\"3357.5\" y=\"-57.8\" font-family=\"Times,serif\" font-size=\"14.00\" fill=\"#000000\">Yes</text>\n</g>\n</g>\n</svg>\n"
          },
          "metadata": {},
          "execution_count": 1376
        }
      ]
    },
    {
      "cell_type": "markdown",
      "source": [
        "#Xgboost"
      ],
      "metadata": {
        "id": "8kelVIXnQuNz"
      }
    },
    {
      "cell_type": "code",
      "source": [
        "!pip install xgboost"
      ],
      "metadata": {
        "colab": {
          "base_uri": "https://localhost:8080/"
        },
        "id": "DtST3bGFOplS",
        "outputId": "12a459ad-b122-4709-d378-51511e96e111"
      },
      "execution_count": 1377,
      "outputs": [
        {
          "output_type": "stream",
          "name": "stdout",
          "text": [
            "Requirement already satisfied: xgboost in /usr/local/lib/python3.7/dist-packages (0.90)\n",
            "Requirement already satisfied: scipy in /usr/local/lib/python3.7/dist-packages (from xgboost) (1.4.1)\n",
            "Requirement already satisfied: numpy in /usr/local/lib/python3.7/dist-packages (from xgboost) (1.21.5)\n"
          ]
        }
      ]
    },
    {
      "cell_type": "code",
      "source": [
        "import numpy\n",
        "import xgboost\n",
        "from sklearn.metrics import accuracy_score"
      ],
      "metadata": {
        "id": "XiDFtwxIPCrD"
      },
      "execution_count": 1378,
      "outputs": []
    },
    {
      "cell_type": "code",
      "source": [
        "model = xgboost.XGBClassifier()\n",
        "model.fit(X_train, y_train)"
      ],
      "metadata": {
        "colab": {
          "base_uri": "https://localhost:8080/"
        },
        "id": "6JRF-7djPtra",
        "outputId": "1b044df3-9b88-4af1-f7e6-044d94deb65b"
      },
      "execution_count": 1379,
      "outputs": [
        {
          "output_type": "execute_result",
          "data": {
            "text/plain": [
              "XGBClassifier()"
            ]
          },
          "metadata": {},
          "execution_count": 1379
        }
      ]
    },
    {
      "cell_type": "markdown",
      "source": [
        "Делаю прогнозы для тестовых данных"
      ],
      "metadata": {
        "id": "wmcQIANfPpSj"
      }
    },
    {
      "cell_type": "code",
      "source": [
        "y_pred = model.predict(X_test)\n",
        "predictions = [round(value) for value in y_pred]\n",
        "accuracy = accuracy_score(y_test, predictions)\n",
        "print(\"Точность: %.2f%%\" % (accuracy * 100.0))"
      ],
      "metadata": {
        "colab": {
          "base_uri": "https://localhost:8080/"
        },
        "id": "zB4Cm4pKOmPb",
        "outputId": "5b7e8acb-7f4f-435b-b319-8c43570df990"
      },
      "execution_count": 1380,
      "outputs": [
        {
          "output_type": "stream",
          "name": "stdout",
          "text": [
            "Точность: 63.68%\n"
          ]
        }
      ]
    },
    {
      "cell_type": "markdown",
      "source": [
        "#Random Forest"
      ],
      "metadata": {
        "id": "23ZeKPI5TciI"
      }
    },
    {
      "cell_type": "code",
      "source": [
        "from sklearn.ensemble import RandomForestClassifier\n",
        "\n",
        "clf = RandomForestClassifier()\n",
        "clf.fit(X_train,y_train)\n",
        "\n",
        "y_pred = clf.predict(X_test)\n",
        "\n",
        "from sklearn import metrics\n",
        "print(\"Точность:\", metrics.accuracy_score(y_test, y_pred))"
      ],
      "metadata": {
        "colab": {
          "base_uri": "https://localhost:8080/"
        },
        "id": "tgno_AC8SoBy",
        "outputId": "9786943c-79ce-4a29-f368-e7ba4982446a"
      },
      "execution_count": 1381,
      "outputs": [
        {
          "output_type": "stream",
          "name": "stdout",
          "text": [
            "Точность: 0.6348088531187123\n"
          ]
        }
      ]
    },
    {
      "cell_type": "markdown",
      "source": [
        "\n",
        "> Лучшие алгоритмы Random Forest, Xgboost (Внатуре :D)\n",
        "\n",
        "> Векторизация, CatBoost - Показали меньшие показатели"
      ],
      "metadata": {
        "id": "EMNqUMyTTtTa"
      }
    }
  ]
}