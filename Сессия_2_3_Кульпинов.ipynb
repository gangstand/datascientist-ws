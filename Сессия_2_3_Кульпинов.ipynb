{
  "nbformat": 4,
  "nbformat_minor": 0,
  "metadata": {
    "colab": {
      "name": "Сессия_2_3_Кульпинов.ipynb",
      "provenance": [],
      "collapsed_sections": []
    },
    "kernelspec": {
      "name": "python3",
      "display_name": "Python 3"
    },
    "language_info": {
      "name": "python"
    }
  },
  "cells": [
    {
      "cell_type": "markdown",
      "source": [
        "Импорт библиотек"
      ],
      "metadata": {
        "id": "f3J3Vom3rlTf"
      }
    },
    {
      "cell_type": "code",
      "execution_count": null,
      "metadata": {
        "id": "MjEG93okbVNE"
      },
      "outputs": [],
      "source": [
        "import pandas as pd\n",
        "import numpy as np\n",
        "import seaborn as sns\n",
        "import matplotlib.pyplot as plt"
      ]
    },
    {
      "cell_type": "markdown",
      "source": [
        "Анализ данных"
      ],
      "metadata": {
        "id": "gI2irmYyrpXO"
      }
    },
    {
      "cell_type": "code",
      "source": [
        "dt = pd.read_html('/content/Выгрузка 9 апреля.xls')"
      ],
      "metadata": {
        "id": "V-HGQug0bx1X"
      },
      "execution_count": null,
      "outputs": []
    },
    {
      "cell_type": "code",
      "source": [
        "df = dt[1]\n",
        "df.head()"
      ],
      "metadata": {
        "colab": {
          "base_uri": "https://localhost:8080/",
          "height": 206
        },
        "id": "zCSXmJixb90X",
        "outputId": "9643743c-6524-4832-843e-3f2021a0a5c8"
      },
      "execution_count": null,
      "outputs": [
        {
          "output_type": "execute_result",
          "data": {
            "text/html": [
              "\n",
              "  <div id=\"df-b76604d3-227a-4305-b929-57db4771ef49\">\n",
              "    <div class=\"colab-df-container\">\n",
              "      <div>\n",
              "<style scoped>\n",
              "    .dataframe tbody tr th:only-of-type {\n",
              "        vertical-align: middle;\n",
              "    }\n",
              "\n",
              "    .dataframe tbody tr th {\n",
              "        vertical-align: top;\n",
              "    }\n",
              "\n",
              "    .dataframe thead th {\n",
              "        text-align: right;\n",
              "    }\n",
              "</style>\n",
              "<table border=\"1\" class=\"dataframe\">\n",
              "  <thead>\n",
              "    <tr style=\"text-align: right;\">\n",
              "      <th></th>\n",
              "      <th>№ п/п</th>\n",
              "      <th>№документа</th>\n",
              "      <th>Датарегистрации</th>\n",
              "      <th>Исх. №Дата</th>\n",
              "      <th>Адресат</th>\n",
              "      <th>Автор</th>\n",
              "      <th>Краткоесодержание</th>\n",
              "      <th>Примечание</th>\n",
              "    </tr>\n",
              "  </thead>\n",
              "  <tbody>\n",
              "    <tr>\n",
              "      <th>0</th>\n",
              "      <td>1</td>\n",
              "      <td>WSR/1-838/2019</td>\n",
              "      <td>09.04.2019</td>\n",
              "      <td>208-40908.04.2019</td>\n",
              "      <td>Уразов Р.Н.</td>\n",
              "      <td>Антонова С.В. (АО «Интерфакс»)</td>\n",
              "      <td>Вх - О возможности использования сетевого изда...</td>\n",
              "      <td>NaN</td>\n",
              "    </tr>\n",
              "    <tr>\n",
              "      <th>1</th>\n",
              "      <td>2</td>\n",
              "      <td>WSR/1-837/2019</td>\n",
              "      <td>09.04.2019</td>\n",
              "      <td>05-33809.04.2019</td>\n",
              "      <td>Уразов Р.Н.</td>\n",
              "      <td>Картошкин С.А. (Министерство просвещения Росси...</td>\n",
              "      <td>Вх - Об участии в совещании по вопросу доработ...</td>\n",
              "      <td>NaN</td>\n",
              "    </tr>\n",
              "    <tr>\n",
              "      <th>2</th>\n",
              "      <td>3</td>\n",
              "      <td>WSR/1-835/2019</td>\n",
              "      <td>09.04.2019</td>\n",
              "      <td>И10-14/313709.04.2019</td>\n",
              "      <td>Уразов Р.Н.</td>\n",
              "      <td>Цивилев С.Е. (Администрация Кемеровской области)</td>\n",
              "      <td>Вх - О командировании Саликовой К. и Глушко Д....</td>\n",
              "      <td>NaN</td>\n",
              "    </tr>\n",
              "    <tr>\n",
              "      <th>3</th>\n",
              "      <td>4</td>\n",
              "      <td>WSR/1-834/2019</td>\n",
              "      <td>09.04.2019</td>\n",
              "      <td>Д2/7121-ИС03.04.2019</td>\n",
              "      <td>Иванюк Л.А.</td>\n",
              "      <td>Волков Г.А. (Министерство транспорта Российско...</td>\n",
              "      <td>Вх - Об участии в Чемпионате мира по профессио...</td>\n",
              "      <td>NaN</td>\n",
              "    </tr>\n",
              "    <tr>\n",
              "      <th>4</th>\n",
              "      <td>5</td>\n",
              "      <td>WSR/1-833/2019</td>\n",
              "      <td>09.04.2019</td>\n",
              "      <td>15-20/06-91108.04.2019</td>\n",
              "      <td>Уразов Р.Н.</td>\n",
              "      <td>Атанов И.В. (Ставропольский государственный аг...</td>\n",
              "      <td>Вх - Об участии в церемонии открытия Вузовског...</td>\n",
              "      <td>NaN</td>\n",
              "    </tr>\n",
              "  </tbody>\n",
              "</table>\n",
              "</div>\n",
              "      <button class=\"colab-df-convert\" onclick=\"convertToInteractive('df-b76604d3-227a-4305-b929-57db4771ef49')\"\n",
              "              title=\"Convert this dataframe to an interactive table.\"\n",
              "              style=\"display:none;\">\n",
              "        \n",
              "  <svg xmlns=\"http://www.w3.org/2000/svg\" height=\"24px\"viewBox=\"0 0 24 24\"\n",
              "       width=\"24px\">\n",
              "    <path d=\"M0 0h24v24H0V0z\" fill=\"none\"/>\n",
              "    <path d=\"M18.56 5.44l.94 2.06.94-2.06 2.06-.94-2.06-.94-.94-2.06-.94 2.06-2.06.94zm-11 1L8.5 8.5l.94-2.06 2.06-.94-2.06-.94L8.5 2.5l-.94 2.06-2.06.94zm10 10l.94 2.06.94-2.06 2.06-.94-2.06-.94-.94-2.06-.94 2.06-2.06.94z\"/><path d=\"M17.41 7.96l-1.37-1.37c-.4-.4-.92-.59-1.43-.59-.52 0-1.04.2-1.43.59L10.3 9.45l-7.72 7.72c-.78.78-.78 2.05 0 2.83L4 21.41c.39.39.9.59 1.41.59.51 0 1.02-.2 1.41-.59l7.78-7.78 2.81-2.81c.8-.78.8-2.07 0-2.86zM5.41 20L4 18.59l7.72-7.72 1.47 1.35L5.41 20z\"/>\n",
              "  </svg>\n",
              "      </button>\n",
              "      \n",
              "  <style>\n",
              "    .colab-df-container {\n",
              "      display:flex;\n",
              "      flex-wrap:wrap;\n",
              "      gap: 12px;\n",
              "    }\n",
              "\n",
              "    .colab-df-convert {\n",
              "      background-color: #E8F0FE;\n",
              "      border: none;\n",
              "      border-radius: 50%;\n",
              "      cursor: pointer;\n",
              "      display: none;\n",
              "      fill: #1967D2;\n",
              "      height: 32px;\n",
              "      padding: 0 0 0 0;\n",
              "      width: 32px;\n",
              "    }\n",
              "\n",
              "    .colab-df-convert:hover {\n",
              "      background-color: #E2EBFA;\n",
              "      box-shadow: 0px 1px 2px rgba(60, 64, 67, 0.3), 0px 1px 3px 1px rgba(60, 64, 67, 0.15);\n",
              "      fill: #174EA6;\n",
              "    }\n",
              "\n",
              "    [theme=dark] .colab-df-convert {\n",
              "      background-color: #3B4455;\n",
              "      fill: #D2E3FC;\n",
              "    }\n",
              "\n",
              "    [theme=dark] .colab-df-convert:hover {\n",
              "      background-color: #434B5C;\n",
              "      box-shadow: 0px 1px 3px 1px rgba(0, 0, 0, 0.15);\n",
              "      filter: drop-shadow(0px 1px 2px rgba(0, 0, 0, 0.3));\n",
              "      fill: #FFFFFF;\n",
              "    }\n",
              "  </style>\n",
              "\n",
              "      <script>\n",
              "        const buttonEl =\n",
              "          document.querySelector('#df-b76604d3-227a-4305-b929-57db4771ef49 button.colab-df-convert');\n",
              "        buttonEl.style.display =\n",
              "          google.colab.kernel.accessAllowed ? 'block' : 'none';\n",
              "\n",
              "        async function convertToInteractive(key) {\n",
              "          const element = document.querySelector('#df-b76604d3-227a-4305-b929-57db4771ef49');\n",
              "          const dataTable =\n",
              "            await google.colab.kernel.invokeFunction('convertToInteractive',\n",
              "                                                     [key], {});\n",
              "          if (!dataTable) return;\n",
              "\n",
              "          const docLinkHtml = 'Like what you see? Visit the ' +\n",
              "            '<a target=\"_blank\" href=https://colab.research.google.com/notebooks/data_table.ipynb>data table notebook</a>'\n",
              "            + ' to learn more about interactive tables.';\n",
              "          element.innerHTML = '';\n",
              "          dataTable['output_type'] = 'display_data';\n",
              "          await google.colab.output.renderOutput(dataTable, element);\n",
              "          const docLink = document.createElement('div');\n",
              "          docLink.innerHTML = docLinkHtml;\n",
              "          element.appendChild(docLink);\n",
              "        }\n",
              "      </script>\n",
              "    </div>\n",
              "  </div>\n",
              "  "
            ],
            "text/plain": [
              "   № п/п  ... Примечание\n",
              "0      1  ...        NaN\n",
              "1      2  ...        NaN\n",
              "2      3  ...        NaN\n",
              "3      4  ...        NaN\n",
              "4      5  ...        NaN\n",
              "\n",
              "[5 rows x 8 columns]"
            ]
          },
          "metadata": {},
          "execution_count": 151
        }
      ]
    },
    {
      "cell_type": "markdown",
      "source": [
        "Информация"
      ],
      "metadata": {
        "id": "4C5uamXlrtdG"
      }
    },
    {
      "cell_type": "code",
      "source": [
        "df.describe()"
      ],
      "metadata": {
        "colab": {
          "base_uri": "https://localhost:8080/",
          "height": 300
        },
        "id": "B_6vf0rBd6c2",
        "outputId": "6fc22f0a-3831-4689-e46d-a22bf159f699"
      },
      "execution_count": null,
      "outputs": [
        {
          "output_type": "execute_result",
          "data": {
            "text/html": [
              "\n",
              "  <div id=\"df-52b758ee-fe86-4e78-a8dd-00cdaf5a1c68\">\n",
              "    <div class=\"colab-df-container\">\n",
              "      <div>\n",
              "<style scoped>\n",
              "    .dataframe tbody tr th:only-of-type {\n",
              "        vertical-align: middle;\n",
              "    }\n",
              "\n",
              "    .dataframe tbody tr th {\n",
              "        vertical-align: top;\n",
              "    }\n",
              "\n",
              "    .dataframe thead th {\n",
              "        text-align: right;\n",
              "    }\n",
              "</style>\n",
              "<table border=\"1\" class=\"dataframe\">\n",
              "  <thead>\n",
              "    <tr style=\"text-align: right;\">\n",
              "      <th></th>\n",
              "      <th>№ п/п</th>\n",
              "    </tr>\n",
              "  </thead>\n",
              "  <tbody>\n",
              "    <tr>\n",
              "      <th>count</th>\n",
              "      <td>4967.000000</td>\n",
              "    </tr>\n",
              "    <tr>\n",
              "      <th>mean</th>\n",
              "      <td>2484.000000</td>\n",
              "    </tr>\n",
              "    <tr>\n",
              "      <th>std</th>\n",
              "      <td>1433.993724</td>\n",
              "    </tr>\n",
              "    <tr>\n",
              "      <th>min</th>\n",
              "      <td>1.000000</td>\n",
              "    </tr>\n",
              "    <tr>\n",
              "      <th>25%</th>\n",
              "      <td>1242.500000</td>\n",
              "    </tr>\n",
              "    <tr>\n",
              "      <th>50%</th>\n",
              "      <td>2484.000000</td>\n",
              "    </tr>\n",
              "    <tr>\n",
              "      <th>75%</th>\n",
              "      <td>3725.500000</td>\n",
              "    </tr>\n",
              "    <tr>\n",
              "      <th>max</th>\n",
              "      <td>4967.000000</td>\n",
              "    </tr>\n",
              "  </tbody>\n",
              "</table>\n",
              "</div>\n",
              "      <button class=\"colab-df-convert\" onclick=\"convertToInteractive('df-52b758ee-fe86-4e78-a8dd-00cdaf5a1c68')\"\n",
              "              title=\"Convert this dataframe to an interactive table.\"\n",
              "              style=\"display:none;\">\n",
              "        \n",
              "  <svg xmlns=\"http://www.w3.org/2000/svg\" height=\"24px\"viewBox=\"0 0 24 24\"\n",
              "       width=\"24px\">\n",
              "    <path d=\"M0 0h24v24H0V0z\" fill=\"none\"/>\n",
              "    <path d=\"M18.56 5.44l.94 2.06.94-2.06 2.06-.94-2.06-.94-.94-2.06-.94 2.06-2.06.94zm-11 1L8.5 8.5l.94-2.06 2.06-.94-2.06-.94L8.5 2.5l-.94 2.06-2.06.94zm10 10l.94 2.06.94-2.06 2.06-.94-2.06-.94-.94-2.06-.94 2.06-2.06.94z\"/><path d=\"M17.41 7.96l-1.37-1.37c-.4-.4-.92-.59-1.43-.59-.52 0-1.04.2-1.43.59L10.3 9.45l-7.72 7.72c-.78.78-.78 2.05 0 2.83L4 21.41c.39.39.9.59 1.41.59.51 0 1.02-.2 1.41-.59l7.78-7.78 2.81-2.81c.8-.78.8-2.07 0-2.86zM5.41 20L4 18.59l7.72-7.72 1.47 1.35L5.41 20z\"/>\n",
              "  </svg>\n",
              "      </button>\n",
              "      \n",
              "  <style>\n",
              "    .colab-df-container {\n",
              "      display:flex;\n",
              "      flex-wrap:wrap;\n",
              "      gap: 12px;\n",
              "    }\n",
              "\n",
              "    .colab-df-convert {\n",
              "      background-color: #E8F0FE;\n",
              "      border: none;\n",
              "      border-radius: 50%;\n",
              "      cursor: pointer;\n",
              "      display: none;\n",
              "      fill: #1967D2;\n",
              "      height: 32px;\n",
              "      padding: 0 0 0 0;\n",
              "      width: 32px;\n",
              "    }\n",
              "\n",
              "    .colab-df-convert:hover {\n",
              "      background-color: #E2EBFA;\n",
              "      box-shadow: 0px 1px 2px rgba(60, 64, 67, 0.3), 0px 1px 3px 1px rgba(60, 64, 67, 0.15);\n",
              "      fill: #174EA6;\n",
              "    }\n",
              "\n",
              "    [theme=dark] .colab-df-convert {\n",
              "      background-color: #3B4455;\n",
              "      fill: #D2E3FC;\n",
              "    }\n",
              "\n",
              "    [theme=dark] .colab-df-convert:hover {\n",
              "      background-color: #434B5C;\n",
              "      box-shadow: 0px 1px 3px 1px rgba(0, 0, 0, 0.15);\n",
              "      filter: drop-shadow(0px 1px 2px rgba(0, 0, 0, 0.3));\n",
              "      fill: #FFFFFF;\n",
              "    }\n",
              "  </style>\n",
              "\n",
              "      <script>\n",
              "        const buttonEl =\n",
              "          document.querySelector('#df-52b758ee-fe86-4e78-a8dd-00cdaf5a1c68 button.colab-df-convert');\n",
              "        buttonEl.style.display =\n",
              "          google.colab.kernel.accessAllowed ? 'block' : 'none';\n",
              "\n",
              "        async function convertToInteractive(key) {\n",
              "          const element = document.querySelector('#df-52b758ee-fe86-4e78-a8dd-00cdaf5a1c68');\n",
              "          const dataTable =\n",
              "            await google.colab.kernel.invokeFunction('convertToInteractive',\n",
              "                                                     [key], {});\n",
              "          if (!dataTable) return;\n",
              "\n",
              "          const docLinkHtml = 'Like what you see? Visit the ' +\n",
              "            '<a target=\"_blank\" href=https://colab.research.google.com/notebooks/data_table.ipynb>data table notebook</a>'\n",
              "            + ' to learn more about interactive tables.';\n",
              "          element.innerHTML = '';\n",
              "          dataTable['output_type'] = 'display_data';\n",
              "          await google.colab.output.renderOutput(dataTable, element);\n",
              "          const docLink = document.createElement('div');\n",
              "          docLink.innerHTML = docLinkHtml;\n",
              "          element.appendChild(docLink);\n",
              "        }\n",
              "      </script>\n",
              "    </div>\n",
              "  </div>\n",
              "  "
            ],
            "text/plain": [
              "             № п/п\n",
              "count  4967.000000\n",
              "mean   2484.000000\n",
              "std    1433.993724\n",
              "min       1.000000\n",
              "25%    1242.500000\n",
              "50%    2484.000000\n",
              "75%    3725.500000\n",
              "max    4967.000000"
            ]
          },
          "metadata": {},
          "execution_count": 152
        }
      ]
    },
    {
      "cell_type": "code",
      "source": [
        "df.shape"
      ],
      "metadata": {
        "colab": {
          "base_uri": "https://localhost:8080/"
        },
        "id": "ahiSFz2LmJQG",
        "outputId": "dc551d2e-eace-4109-d6c3-6b38ac5cb52c"
      },
      "execution_count": null,
      "outputs": [
        {
          "output_type": "execute_result",
          "data": {
            "text/plain": [
              "(4967, 8)"
            ]
          },
          "metadata": {},
          "execution_count": 153
        }
      ]
    },
    {
      "cell_type": "code",
      "source": [
        "df.info"
      ],
      "metadata": {
        "colab": {
          "base_uri": "https://localhost:8080/"
        },
        "id": "oGWjHVVImLHd",
        "outputId": "1826d595-d4f5-4de9-842a-ec5673ee8d59"
      },
      "execution_count": null,
      "outputs": [
        {
          "output_type": "execute_result",
          "data": {
            "text/plain": [
              "<bound method DataFrame.info of       № п/п  ... Примечание\n",
              "0         1  ...        NaN\n",
              "1         2  ...        NaN\n",
              "2         3  ...        NaN\n",
              "3         4  ...        NaN\n",
              "4         5  ...        NaN\n",
              "...     ...  ...        ...\n",
              "4962   4963  ...        NaN\n",
              "4963   4964  ...        NaN\n",
              "4964   4965  ...        NaN\n",
              "4965   4966  ...        NaN\n",
              "4966   4967  ...        NaN\n",
              "\n",
              "[4967 rows x 8 columns]>"
            ]
          },
          "metadata": {},
          "execution_count": 154
        }
      ]
    },
    {
      "cell_type": "markdown",
      "source": [
        "Предобработка данных и выделение значимых атрибутов"
      ],
      "metadata": {
        "id": "YgSY2CXHryD3"
      }
    },
    {
      "cell_type": "code",
      "source": [
        "dt[0].T[0]\n",
        "dt[0].T[1].unique().tolist()\n",
        "dt[0].T[2].unique().tolist()\n",
        "df = dt[1]"
      ],
      "metadata": {
        "id": "SOCM_0XFm5Tm"
      },
      "execution_count": null,
      "outputs": []
    },
    {
      "cell_type": "code",
      "source": [
        "df = dt[1].drop(['№ п/п', '№документа', 'Исх. №Дата', 'Примечание'], axis=1)\n",
        "df.head(2)"
      ],
      "metadata": {
        "colab": {
          "base_uri": "https://localhost:8080/",
          "height": 112
        },
        "id": "bIXo-ONZnYUm",
        "outputId": "8dbfe2e0-6708-4034-b68f-4cb741491cec"
      },
      "execution_count": null,
      "outputs": [
        {
          "output_type": "execute_result",
          "data": {
            "text/html": [
              "\n",
              "  <div id=\"df-8cf252fd-867b-487f-bf76-0827cb8bad06\">\n",
              "    <div class=\"colab-df-container\">\n",
              "      <div>\n",
              "<style scoped>\n",
              "    .dataframe tbody tr th:only-of-type {\n",
              "        vertical-align: middle;\n",
              "    }\n",
              "\n",
              "    .dataframe tbody tr th {\n",
              "        vertical-align: top;\n",
              "    }\n",
              "\n",
              "    .dataframe thead th {\n",
              "        text-align: right;\n",
              "    }\n",
              "</style>\n",
              "<table border=\"1\" class=\"dataframe\">\n",
              "  <thead>\n",
              "    <tr style=\"text-align: right;\">\n",
              "      <th></th>\n",
              "      <th>Датарегистрации</th>\n",
              "      <th>Адресат</th>\n",
              "      <th>Автор</th>\n",
              "      <th>Краткоесодержание</th>\n",
              "    </tr>\n",
              "  </thead>\n",
              "  <tbody>\n",
              "    <tr>\n",
              "      <th>0</th>\n",
              "      <td>09.04.2019</td>\n",
              "      <td>Уразов Р.Н.</td>\n",
              "      <td>Антонова С.В. (АО «Интерфакс»)</td>\n",
              "      <td>Вх - О возможности использования сетевого изда...</td>\n",
              "    </tr>\n",
              "    <tr>\n",
              "      <th>1</th>\n",
              "      <td>09.04.2019</td>\n",
              "      <td>Уразов Р.Н.</td>\n",
              "      <td>Картошкин С.А. (Министерство просвещения Росси...</td>\n",
              "      <td>Вх - Об участии в совещании по вопросу доработ...</td>\n",
              "    </tr>\n",
              "  </tbody>\n",
              "</table>\n",
              "</div>\n",
              "      <button class=\"colab-df-convert\" onclick=\"convertToInteractive('df-8cf252fd-867b-487f-bf76-0827cb8bad06')\"\n",
              "              title=\"Convert this dataframe to an interactive table.\"\n",
              "              style=\"display:none;\">\n",
              "        \n",
              "  <svg xmlns=\"http://www.w3.org/2000/svg\" height=\"24px\"viewBox=\"0 0 24 24\"\n",
              "       width=\"24px\">\n",
              "    <path d=\"M0 0h24v24H0V0z\" fill=\"none\"/>\n",
              "    <path d=\"M18.56 5.44l.94 2.06.94-2.06 2.06-.94-2.06-.94-.94-2.06-.94 2.06-2.06.94zm-11 1L8.5 8.5l.94-2.06 2.06-.94-2.06-.94L8.5 2.5l-.94 2.06-2.06.94zm10 10l.94 2.06.94-2.06 2.06-.94-2.06-.94-.94-2.06-.94 2.06-2.06.94z\"/><path d=\"M17.41 7.96l-1.37-1.37c-.4-.4-.92-.59-1.43-.59-.52 0-1.04.2-1.43.59L10.3 9.45l-7.72 7.72c-.78.78-.78 2.05 0 2.83L4 21.41c.39.39.9.59 1.41.59.51 0 1.02-.2 1.41-.59l7.78-7.78 2.81-2.81c.8-.78.8-2.07 0-2.86zM5.41 20L4 18.59l7.72-7.72 1.47 1.35L5.41 20z\"/>\n",
              "  </svg>\n",
              "      </button>\n",
              "      \n",
              "  <style>\n",
              "    .colab-df-container {\n",
              "      display:flex;\n",
              "      flex-wrap:wrap;\n",
              "      gap: 12px;\n",
              "    }\n",
              "\n",
              "    .colab-df-convert {\n",
              "      background-color: #E8F0FE;\n",
              "      border: none;\n",
              "      border-radius: 50%;\n",
              "      cursor: pointer;\n",
              "      display: none;\n",
              "      fill: #1967D2;\n",
              "      height: 32px;\n",
              "      padding: 0 0 0 0;\n",
              "      width: 32px;\n",
              "    }\n",
              "\n",
              "    .colab-df-convert:hover {\n",
              "      background-color: #E2EBFA;\n",
              "      box-shadow: 0px 1px 2px rgba(60, 64, 67, 0.3), 0px 1px 3px 1px rgba(60, 64, 67, 0.15);\n",
              "      fill: #174EA6;\n",
              "    }\n",
              "\n",
              "    [theme=dark] .colab-df-convert {\n",
              "      background-color: #3B4455;\n",
              "      fill: #D2E3FC;\n",
              "    }\n",
              "\n",
              "    [theme=dark] .colab-df-convert:hover {\n",
              "      background-color: #434B5C;\n",
              "      box-shadow: 0px 1px 3px 1px rgba(0, 0, 0, 0.15);\n",
              "      filter: drop-shadow(0px 1px 2px rgba(0, 0, 0, 0.3));\n",
              "      fill: #FFFFFF;\n",
              "    }\n",
              "  </style>\n",
              "\n",
              "      <script>\n",
              "        const buttonEl =\n",
              "          document.querySelector('#df-8cf252fd-867b-487f-bf76-0827cb8bad06 button.colab-df-convert');\n",
              "        buttonEl.style.display =\n",
              "          google.colab.kernel.accessAllowed ? 'block' : 'none';\n",
              "\n",
              "        async function convertToInteractive(key) {\n",
              "          const element = document.querySelector('#df-8cf252fd-867b-487f-bf76-0827cb8bad06');\n",
              "          const dataTable =\n",
              "            await google.colab.kernel.invokeFunction('convertToInteractive',\n",
              "                                                     [key], {});\n",
              "          if (!dataTable) return;\n",
              "\n",
              "          const docLinkHtml = 'Like what you see? Visit the ' +\n",
              "            '<a target=\"_blank\" href=https://colab.research.google.com/notebooks/data_table.ipynb>data table notebook</a>'\n",
              "            + ' to learn more about interactive tables.';\n",
              "          element.innerHTML = '';\n",
              "          dataTable['output_type'] = 'display_data';\n",
              "          await google.colab.output.renderOutput(dataTable, element);\n",
              "          const docLink = document.createElement('div');\n",
              "          docLink.innerHTML = docLinkHtml;\n",
              "          element.appendChild(docLink);\n",
              "        }\n",
              "      </script>\n",
              "    </div>\n",
              "  </div>\n",
              "  "
            ],
            "text/plain": [
              "  Датарегистрации  ...                                  Краткоесодержание\n",
              "0      09.04.2019  ...  Вх - О возможности использования сетевого изда...\n",
              "1      09.04.2019  ...  Вх - Об участии в совещании по вопросу доработ...\n",
              "\n",
              "[2 rows x 4 columns]"
            ]
          },
          "metadata": {},
          "execution_count": 156
        }
      ]
    },
    {
      "cell_type": "markdown",
      "source": [
        "Регулярные выражение"
      ],
      "metadata": {
        "id": "EFlZqSDPsFCW"
      }
    },
    {
      "cell_type": "code",
      "source": [
        "import re"
      ],
      "metadata": {
        "id": "mdfokGTjoQLw"
      },
      "execution_count": null,
      "outputs": []
    },
    {
      "cell_type": "code",
      "source": [
        "adres = []\n",
        "c = 0\n",
        "reg_fio = r'([А-Я]\\.[А-Я]\\.\\s?[А-Я][а-я]{1,20}|[А-Я][а-я]{1,20}\\s?[А-Я]\\.[А-Я]\\.)'\n",
        "for i in df.Адресат:\n",
        "  result = re.findall(reg_fio, i)[-1]\n",
        "  adres.append(result.replace(' ',''))\n",
        "\n",
        "df['Адресат(-ы)'] = adres\n",
        "df.tail(2)"
      ],
      "metadata": {
        "id": "nQ7AbDhDn-un",
        "outputId": "16496fd8-8bee-41be-ec16-a1034aa611af",
        "colab": {
          "base_uri": "https://localhost:8080/",
          "height": 112
        }
      },
      "execution_count": null,
      "outputs": [
        {
          "output_type": "execute_result",
          "data": {
            "text/html": [
              "\n",
              "  <div id=\"df-7aa79e57-113a-4c86-ae9c-91396533316d\">\n",
              "    <div class=\"colab-df-container\">\n",
              "      <div>\n",
              "<style scoped>\n",
              "    .dataframe tbody tr th:only-of-type {\n",
              "        vertical-align: middle;\n",
              "    }\n",
              "\n",
              "    .dataframe tbody tr th {\n",
              "        vertical-align: top;\n",
              "    }\n",
              "\n",
              "    .dataframe thead th {\n",
              "        text-align: right;\n",
              "    }\n",
              "</style>\n",
              "<table border=\"1\" class=\"dataframe\">\n",
              "  <thead>\n",
              "    <tr style=\"text-align: right;\">\n",
              "      <th></th>\n",
              "      <th>Датарегистрации</th>\n",
              "      <th>Адресат</th>\n",
              "      <th>Автор</th>\n",
              "      <th>Краткоесодержание</th>\n",
              "      <th>Адресат(-ы)</th>\n",
              "    </tr>\n",
              "  </thead>\n",
              "  <tbody>\n",
              "    <tr>\n",
              "      <th>4965</th>\n",
              "      <td>01.11.2017</td>\n",
              "      <td>Уразов Р.Н.</td>\n",
              "      <td>Огородова Л.М. (Министерство образования и нау...</td>\n",
              "      <td>Протокол заседания рабочей группы приоритетног...</td>\n",
              "      <td>УразовР.Н.</td>\n",
              "    </tr>\n",
              "    <tr>\n",
              "      <th>4966</th>\n",
              "      <td>NaN</td>\n",
              "      <td>Уразов Р.Н.</td>\n",
              "      <td>Асаул Н.А. (Министерство транспорта Российской...</td>\n",
              "      <td>Участие в Чемпионате WorldSkills Hi-Tech Екате...</td>\n",
              "      <td>УразовР.Н.</td>\n",
              "    </tr>\n",
              "  </tbody>\n",
              "</table>\n",
              "</div>\n",
              "      <button class=\"colab-df-convert\" onclick=\"convertToInteractive('df-7aa79e57-113a-4c86-ae9c-91396533316d')\"\n",
              "              title=\"Convert this dataframe to an interactive table.\"\n",
              "              style=\"display:none;\">\n",
              "        \n",
              "  <svg xmlns=\"http://www.w3.org/2000/svg\" height=\"24px\"viewBox=\"0 0 24 24\"\n",
              "       width=\"24px\">\n",
              "    <path d=\"M0 0h24v24H0V0z\" fill=\"none\"/>\n",
              "    <path d=\"M18.56 5.44l.94 2.06.94-2.06 2.06-.94-2.06-.94-.94-2.06-.94 2.06-2.06.94zm-11 1L8.5 8.5l.94-2.06 2.06-.94-2.06-.94L8.5 2.5l-.94 2.06-2.06.94zm10 10l.94 2.06.94-2.06 2.06-.94-2.06-.94-.94-2.06-.94 2.06-2.06.94z\"/><path d=\"M17.41 7.96l-1.37-1.37c-.4-.4-.92-.59-1.43-.59-.52 0-1.04.2-1.43.59L10.3 9.45l-7.72 7.72c-.78.78-.78 2.05 0 2.83L4 21.41c.39.39.9.59 1.41.59.51 0 1.02-.2 1.41-.59l7.78-7.78 2.81-2.81c.8-.78.8-2.07 0-2.86zM5.41 20L4 18.59l7.72-7.72 1.47 1.35L5.41 20z\"/>\n",
              "  </svg>\n",
              "      </button>\n",
              "      \n",
              "  <style>\n",
              "    .colab-df-container {\n",
              "      display:flex;\n",
              "      flex-wrap:wrap;\n",
              "      gap: 12px;\n",
              "    }\n",
              "\n",
              "    .colab-df-convert {\n",
              "      background-color: #E8F0FE;\n",
              "      border: none;\n",
              "      border-radius: 50%;\n",
              "      cursor: pointer;\n",
              "      display: none;\n",
              "      fill: #1967D2;\n",
              "      height: 32px;\n",
              "      padding: 0 0 0 0;\n",
              "      width: 32px;\n",
              "    }\n",
              "\n",
              "    .colab-df-convert:hover {\n",
              "      background-color: #E2EBFA;\n",
              "      box-shadow: 0px 1px 2px rgba(60, 64, 67, 0.3), 0px 1px 3px 1px rgba(60, 64, 67, 0.15);\n",
              "      fill: #174EA6;\n",
              "    }\n",
              "\n",
              "    [theme=dark] .colab-df-convert {\n",
              "      background-color: #3B4455;\n",
              "      fill: #D2E3FC;\n",
              "    }\n",
              "\n",
              "    [theme=dark] .colab-df-convert:hover {\n",
              "      background-color: #434B5C;\n",
              "      box-shadow: 0px 1px 3px 1px rgba(0, 0, 0, 0.15);\n",
              "      filter: drop-shadow(0px 1px 2px rgba(0, 0, 0, 0.3));\n",
              "      fill: #FFFFFF;\n",
              "    }\n",
              "  </style>\n",
              "\n",
              "      <script>\n",
              "        const buttonEl =\n",
              "          document.querySelector('#df-7aa79e57-113a-4c86-ae9c-91396533316d button.colab-df-convert');\n",
              "        buttonEl.style.display =\n",
              "          google.colab.kernel.accessAllowed ? 'block' : 'none';\n",
              "\n",
              "        async function convertToInteractive(key) {\n",
              "          const element = document.querySelector('#df-7aa79e57-113a-4c86-ae9c-91396533316d');\n",
              "          const dataTable =\n",
              "            await google.colab.kernel.invokeFunction('convertToInteractive',\n",
              "                                                     [key], {});\n",
              "          if (!dataTable) return;\n",
              "\n",
              "          const docLinkHtml = 'Like what you see? Visit the ' +\n",
              "            '<a target=\"_blank\" href=https://colab.research.google.com/notebooks/data_table.ipynb>data table notebook</a>'\n",
              "            + ' to learn more about interactive tables.';\n",
              "          element.innerHTML = '';\n",
              "          dataTable['output_type'] = 'display_data';\n",
              "          await google.colab.output.renderOutput(dataTable, element);\n",
              "          const docLink = document.createElement('div');\n",
              "          docLink.innerHTML = docLinkHtml;\n",
              "          element.appendChild(docLink);\n",
              "        }\n",
              "      </script>\n",
              "    </div>\n",
              "  </div>\n",
              "  "
            ],
            "text/plain": [
              "     Датарегистрации  ... Адресат(-ы)\n",
              "4965      01.11.2017  ...  УразовР.Н.\n",
              "4966             NaN  ...  УразовР.Н.\n",
              "\n",
              "[2 rows x 5 columns]"
            ]
          },
          "metadata": {},
          "execution_count": 158
        }
      ]
    },
    {
      "cell_type": "markdown",
      "source": [
        "Дополнение недостающими данными"
      ],
      "metadata": {
        "id": "CYaxGzBgsHXG"
      }
    },
    {
      "cell_type": "code",
      "source": [
        "df['Адресат(-ы)'].unique().shape"
      ],
      "metadata": {
        "colab": {
          "base_uri": "https://localhost:8080/"
        },
        "id": "MGf8E2vosH7n",
        "outputId": "6a0cef29-0e04-44d1-8e33-bfd63fabb7f6"
      },
      "execution_count": null,
      "outputs": [
        {
          "output_type": "execute_result",
          "data": {
            "text/plain": [
              "(81,)"
            ]
          },
          "metadata": {},
          "execution_count": 159
        }
      ]
    },
    {
      "cell_type": "code",
      "source": [
        "df.Датарегистрации = pd.to_datetime(df.Датарегистрации)\n",
        "df.Датарегистрации.describe()"
      ],
      "metadata": {
        "colab": {
          "base_uri": "https://localhost:8080/"
        },
        "id": "pJ5cjFsesKKI",
        "outputId": "cad02147-ef0d-470a-b5c0-e52f84173827"
      },
      "execution_count": null,
      "outputs": [
        {
          "output_type": "stream",
          "name": "stderr",
          "text": [
            "/usr/local/lib/python3.7/dist-packages/ipykernel_launcher.py:2: FutureWarning: Treating datetime data as categorical rather than numeric in `.describe` is deprecated and will be removed in a future version of pandas. Specify `datetime_is_numeric=True` to silence this warning and adopt the future behavior now.\n",
            "  \n"
          ]
        },
        {
          "output_type": "execute_result",
          "data": {
            "text/plain": [
              "count                    4965\n",
              "unique                    372\n",
              "top       2017-11-29 00:00:00\n",
              "freq                       42\n",
              "first     2017-01-11 00:00:00\n",
              "last      2019-12-03 00:00:00\n",
              "Name: Датарегистрации, dtype: object"
            ]
          },
          "metadata": {},
          "execution_count": 160
        }
      ]
    },
    {
      "cell_type": "code",
      "source": [
        "df['Агентсво'] = df.Автор.apply(lambda x: x.split('(')[1].replace(')',''))"
      ],
      "metadata": {
        "id": "fEXV36dcsOFu"
      },
      "execution_count": null,
      "outputs": []
    },
    {
      "cell_type": "code",
      "source": [
        "df.head(2)"
      ],
      "metadata": {
        "colab": {
          "base_uri": "https://localhost:8080/",
          "height": 112
        },
        "id": "iPB0Oe7lsPER",
        "outputId": "9fbada58-a5a4-45b9-9992-4b01e01e9b4e"
      },
      "execution_count": null,
      "outputs": [
        {
          "output_type": "execute_result",
          "data": {
            "text/html": [
              "\n",
              "  <div id=\"df-7c892545-0c45-4dae-a563-68d31912a38d\">\n",
              "    <div class=\"colab-df-container\">\n",
              "      <div>\n",
              "<style scoped>\n",
              "    .dataframe tbody tr th:only-of-type {\n",
              "        vertical-align: middle;\n",
              "    }\n",
              "\n",
              "    .dataframe tbody tr th {\n",
              "        vertical-align: top;\n",
              "    }\n",
              "\n",
              "    .dataframe thead th {\n",
              "        text-align: right;\n",
              "    }\n",
              "</style>\n",
              "<table border=\"1\" class=\"dataframe\">\n",
              "  <thead>\n",
              "    <tr style=\"text-align: right;\">\n",
              "      <th></th>\n",
              "      <th>Датарегистрации</th>\n",
              "      <th>Адресат</th>\n",
              "      <th>Автор</th>\n",
              "      <th>Краткоесодержание</th>\n",
              "      <th>Адресат(-ы)</th>\n",
              "      <th>Агентсво</th>\n",
              "    </tr>\n",
              "  </thead>\n",
              "  <tbody>\n",
              "    <tr>\n",
              "      <th>0</th>\n",
              "      <td>2019-09-04</td>\n",
              "      <td>Уразов Р.Н.</td>\n",
              "      <td>Антонова С.В. (АО «Интерфакс»)</td>\n",
              "      <td>Вх - О возможности использования сетевого изда...</td>\n",
              "      <td>УразовР.Н.</td>\n",
              "      <td>АО «Интерфакс»</td>\n",
              "    </tr>\n",
              "    <tr>\n",
              "      <th>1</th>\n",
              "      <td>2019-09-04</td>\n",
              "      <td>Уразов Р.Н.</td>\n",
              "      <td>Картошкин С.А. (Министерство просвещения Росси...</td>\n",
              "      <td>Вх - Об участии в совещании по вопросу доработ...</td>\n",
              "      <td>УразовР.Н.</td>\n",
              "      <td>Министерство просвещения Российской Федерации</td>\n",
              "    </tr>\n",
              "  </tbody>\n",
              "</table>\n",
              "</div>\n",
              "      <button class=\"colab-df-convert\" onclick=\"convertToInteractive('df-7c892545-0c45-4dae-a563-68d31912a38d')\"\n",
              "              title=\"Convert this dataframe to an interactive table.\"\n",
              "              style=\"display:none;\">\n",
              "        \n",
              "  <svg xmlns=\"http://www.w3.org/2000/svg\" height=\"24px\"viewBox=\"0 0 24 24\"\n",
              "       width=\"24px\">\n",
              "    <path d=\"M0 0h24v24H0V0z\" fill=\"none\"/>\n",
              "    <path d=\"M18.56 5.44l.94 2.06.94-2.06 2.06-.94-2.06-.94-.94-2.06-.94 2.06-2.06.94zm-11 1L8.5 8.5l.94-2.06 2.06-.94-2.06-.94L8.5 2.5l-.94 2.06-2.06.94zm10 10l.94 2.06.94-2.06 2.06-.94-2.06-.94-.94-2.06-.94 2.06-2.06.94z\"/><path d=\"M17.41 7.96l-1.37-1.37c-.4-.4-.92-.59-1.43-.59-.52 0-1.04.2-1.43.59L10.3 9.45l-7.72 7.72c-.78.78-.78 2.05 0 2.83L4 21.41c.39.39.9.59 1.41.59.51 0 1.02-.2 1.41-.59l7.78-7.78 2.81-2.81c.8-.78.8-2.07 0-2.86zM5.41 20L4 18.59l7.72-7.72 1.47 1.35L5.41 20z\"/>\n",
              "  </svg>\n",
              "      </button>\n",
              "      \n",
              "  <style>\n",
              "    .colab-df-container {\n",
              "      display:flex;\n",
              "      flex-wrap:wrap;\n",
              "      gap: 12px;\n",
              "    }\n",
              "\n",
              "    .colab-df-convert {\n",
              "      background-color: #E8F0FE;\n",
              "      border: none;\n",
              "      border-radius: 50%;\n",
              "      cursor: pointer;\n",
              "      display: none;\n",
              "      fill: #1967D2;\n",
              "      height: 32px;\n",
              "      padding: 0 0 0 0;\n",
              "      width: 32px;\n",
              "    }\n",
              "\n",
              "    .colab-df-convert:hover {\n",
              "      background-color: #E2EBFA;\n",
              "      box-shadow: 0px 1px 2px rgba(60, 64, 67, 0.3), 0px 1px 3px 1px rgba(60, 64, 67, 0.15);\n",
              "      fill: #174EA6;\n",
              "    }\n",
              "\n",
              "    [theme=dark] .colab-df-convert {\n",
              "      background-color: #3B4455;\n",
              "      fill: #D2E3FC;\n",
              "    }\n",
              "\n",
              "    [theme=dark] .colab-df-convert:hover {\n",
              "      background-color: #434B5C;\n",
              "      box-shadow: 0px 1px 3px 1px rgba(0, 0, 0, 0.15);\n",
              "      filter: drop-shadow(0px 1px 2px rgba(0, 0, 0, 0.3));\n",
              "      fill: #FFFFFF;\n",
              "    }\n",
              "  </style>\n",
              "\n",
              "      <script>\n",
              "        const buttonEl =\n",
              "          document.querySelector('#df-7c892545-0c45-4dae-a563-68d31912a38d button.colab-df-convert');\n",
              "        buttonEl.style.display =\n",
              "          google.colab.kernel.accessAllowed ? 'block' : 'none';\n",
              "\n",
              "        async function convertToInteractive(key) {\n",
              "          const element = document.querySelector('#df-7c892545-0c45-4dae-a563-68d31912a38d');\n",
              "          const dataTable =\n",
              "            await google.colab.kernel.invokeFunction('convertToInteractive',\n",
              "                                                     [key], {});\n",
              "          if (!dataTable) return;\n",
              "\n",
              "          const docLinkHtml = 'Like what you see? Visit the ' +\n",
              "            '<a target=\"_blank\" href=https://colab.research.google.com/notebooks/data_table.ipynb>data table notebook</a>'\n",
              "            + ' to learn more about interactive tables.';\n",
              "          element.innerHTML = '';\n",
              "          dataTable['output_type'] = 'display_data';\n",
              "          await google.colab.output.renderOutput(dataTable, element);\n",
              "          const docLink = document.createElement('div');\n",
              "          docLink.innerHTML = docLinkHtml;\n",
              "          element.appendChild(docLink);\n",
              "        }\n",
              "      </script>\n",
              "    </div>\n",
              "  </div>\n",
              "  "
            ],
            "text/plain": [
              "  Датарегистрации  ...                                       Агентсво\n",
              "0      2019-09-04  ...                                 АО «Интерфакс»\n",
              "1      2019-09-04  ...  Министерство просвещения Российской Федерации\n",
              "\n",
              "[2 rows x 6 columns]"
            ]
          },
          "metadata": {},
          "execution_count": 162
        }
      ]
    },
    {
      "cell_type": "markdown",
      "source": [
        "Переписать список откуда и куда, сравнивать строки"
      ],
      "metadata": {
        "id": "WptWrF8psX5u"
      }
    },
    {
      "cell_type": "code",
      "source": [
        "agents = []\n",
        "target = ['Министерств','Правительств','Федеральн','Администр']\n",
        "for i in df.Агентсво:\n",
        "  br = 0\n",
        "  for t in target:\n",
        "    if br:\n",
        "      break\n",
        "    if t in i:\n",
        "      br = 1\n",
        "      agents.append(1)\n",
        "  if not(br):\n",
        "    agents.append(0)"
      ],
      "metadata": {
        "id": "UIInrdDFsbwl"
      },
      "execution_count": null,
      "outputs": []
    },
    {
      "cell_type": "code",
      "source": [
        "df['Тип_агентсва'] = agents\n",
        "df.head()"
      ],
      "metadata": {
        "colab": {
          "base_uri": "https://localhost:8080/",
          "height": 206
        },
        "id": "UAIxWzPgsdRW",
        "outputId": "916f47e8-8ae4-4182-bfb8-ba94a788dbe7"
      },
      "execution_count": null,
      "outputs": [
        {
          "output_type": "execute_result",
          "data": {
            "text/html": [
              "\n",
              "  <div id=\"df-d9222f84-63a1-476e-9c7e-b48d4d1e57ac\">\n",
              "    <div class=\"colab-df-container\">\n",
              "      <div>\n",
              "<style scoped>\n",
              "    .dataframe tbody tr th:only-of-type {\n",
              "        vertical-align: middle;\n",
              "    }\n",
              "\n",
              "    .dataframe tbody tr th {\n",
              "        vertical-align: top;\n",
              "    }\n",
              "\n",
              "    .dataframe thead th {\n",
              "        text-align: right;\n",
              "    }\n",
              "</style>\n",
              "<table border=\"1\" class=\"dataframe\">\n",
              "  <thead>\n",
              "    <tr style=\"text-align: right;\">\n",
              "      <th></th>\n",
              "      <th>Датарегистрации</th>\n",
              "      <th>Адресат</th>\n",
              "      <th>Автор</th>\n",
              "      <th>Краткоесодержание</th>\n",
              "      <th>Адресат(-ы)</th>\n",
              "      <th>Агентсво</th>\n",
              "      <th>Тип_агентсва</th>\n",
              "    </tr>\n",
              "  </thead>\n",
              "  <tbody>\n",
              "    <tr>\n",
              "      <th>0</th>\n",
              "      <td>2019-09-04</td>\n",
              "      <td>Уразов Р.Н.</td>\n",
              "      <td>Антонова С.В. (АО «Интерфакс»)</td>\n",
              "      <td>Вх - О возможности использования сетевого изда...</td>\n",
              "      <td>УразовР.Н.</td>\n",
              "      <td>АО «Интерфакс»</td>\n",
              "      <td>0</td>\n",
              "    </tr>\n",
              "    <tr>\n",
              "      <th>1</th>\n",
              "      <td>2019-09-04</td>\n",
              "      <td>Уразов Р.Н.</td>\n",
              "      <td>Картошкин С.А. (Министерство просвещения Росси...</td>\n",
              "      <td>Вх - Об участии в совещании по вопросу доработ...</td>\n",
              "      <td>УразовР.Н.</td>\n",
              "      <td>Министерство просвещения Российской Федерации</td>\n",
              "      <td>1</td>\n",
              "    </tr>\n",
              "    <tr>\n",
              "      <th>2</th>\n",
              "      <td>2019-09-04</td>\n",
              "      <td>Уразов Р.Н.</td>\n",
              "      <td>Цивилев С.Е. (Администрация Кемеровской области)</td>\n",
              "      <td>Вх - О командировании Саликовой К. и Глушко Д....</td>\n",
              "      <td>УразовР.Н.</td>\n",
              "      <td>Администрация Кемеровской области</td>\n",
              "      <td>1</td>\n",
              "    </tr>\n",
              "    <tr>\n",
              "      <th>3</th>\n",
              "      <td>2019-09-04</td>\n",
              "      <td>Иванюк Л.А.</td>\n",
              "      <td>Волков Г.А. (Министерство транспорта Российско...</td>\n",
              "      <td>Вх - Об участии в Чемпионате мира по профессио...</td>\n",
              "      <td>ИванюкЛ.А.</td>\n",
              "      <td>Министерство транспорта Российской Федерации</td>\n",
              "      <td>1</td>\n",
              "    </tr>\n",
              "    <tr>\n",
              "      <th>4</th>\n",
              "      <td>2019-09-04</td>\n",
              "      <td>Уразов Р.Н.</td>\n",
              "      <td>Атанов И.В. (Ставропольский государственный аг...</td>\n",
              "      <td>Вх - Об участии в церемонии открытия Вузовског...</td>\n",
              "      <td>УразовР.Н.</td>\n",
              "      <td>Ставропольский государственный аграрный универ...</td>\n",
              "      <td>0</td>\n",
              "    </tr>\n",
              "  </tbody>\n",
              "</table>\n",
              "</div>\n",
              "      <button class=\"colab-df-convert\" onclick=\"convertToInteractive('df-d9222f84-63a1-476e-9c7e-b48d4d1e57ac')\"\n",
              "              title=\"Convert this dataframe to an interactive table.\"\n",
              "              style=\"display:none;\">\n",
              "        \n",
              "  <svg xmlns=\"http://www.w3.org/2000/svg\" height=\"24px\"viewBox=\"0 0 24 24\"\n",
              "       width=\"24px\">\n",
              "    <path d=\"M0 0h24v24H0V0z\" fill=\"none\"/>\n",
              "    <path d=\"M18.56 5.44l.94 2.06.94-2.06 2.06-.94-2.06-.94-.94-2.06-.94 2.06-2.06.94zm-11 1L8.5 8.5l.94-2.06 2.06-.94-2.06-.94L8.5 2.5l-.94 2.06-2.06.94zm10 10l.94 2.06.94-2.06 2.06-.94-2.06-.94-.94-2.06-.94 2.06-2.06.94z\"/><path d=\"M17.41 7.96l-1.37-1.37c-.4-.4-.92-.59-1.43-.59-.52 0-1.04.2-1.43.59L10.3 9.45l-7.72 7.72c-.78.78-.78 2.05 0 2.83L4 21.41c.39.39.9.59 1.41.59.51 0 1.02-.2 1.41-.59l7.78-7.78 2.81-2.81c.8-.78.8-2.07 0-2.86zM5.41 20L4 18.59l7.72-7.72 1.47 1.35L5.41 20z\"/>\n",
              "  </svg>\n",
              "      </button>\n",
              "      \n",
              "  <style>\n",
              "    .colab-df-container {\n",
              "      display:flex;\n",
              "      flex-wrap:wrap;\n",
              "      gap: 12px;\n",
              "    }\n",
              "\n",
              "    .colab-df-convert {\n",
              "      background-color: #E8F0FE;\n",
              "      border: none;\n",
              "      border-radius: 50%;\n",
              "      cursor: pointer;\n",
              "      display: none;\n",
              "      fill: #1967D2;\n",
              "      height: 32px;\n",
              "      padding: 0 0 0 0;\n",
              "      width: 32px;\n",
              "    }\n",
              "\n",
              "    .colab-df-convert:hover {\n",
              "      background-color: #E2EBFA;\n",
              "      box-shadow: 0px 1px 2px rgba(60, 64, 67, 0.3), 0px 1px 3px 1px rgba(60, 64, 67, 0.15);\n",
              "      fill: #174EA6;\n",
              "    }\n",
              "\n",
              "    [theme=dark] .colab-df-convert {\n",
              "      background-color: #3B4455;\n",
              "      fill: #D2E3FC;\n",
              "    }\n",
              "\n",
              "    [theme=dark] .colab-df-convert:hover {\n",
              "      background-color: #434B5C;\n",
              "      box-shadow: 0px 1px 3px 1px rgba(0, 0, 0, 0.15);\n",
              "      filter: drop-shadow(0px 1px 2px rgba(0, 0, 0, 0.3));\n",
              "      fill: #FFFFFF;\n",
              "    }\n",
              "  </style>\n",
              "\n",
              "      <script>\n",
              "        const buttonEl =\n",
              "          document.querySelector('#df-d9222f84-63a1-476e-9c7e-b48d4d1e57ac button.colab-df-convert');\n",
              "        buttonEl.style.display =\n",
              "          google.colab.kernel.accessAllowed ? 'block' : 'none';\n",
              "\n",
              "        async function convertToInteractive(key) {\n",
              "          const element = document.querySelector('#df-d9222f84-63a1-476e-9c7e-b48d4d1e57ac');\n",
              "          const dataTable =\n",
              "            await google.colab.kernel.invokeFunction('convertToInteractive',\n",
              "                                                     [key], {});\n",
              "          if (!dataTable) return;\n",
              "\n",
              "          const docLinkHtml = 'Like what you see? Visit the ' +\n",
              "            '<a target=\"_blank\" href=https://colab.research.google.com/notebooks/data_table.ipynb>data table notebook</a>'\n",
              "            + ' to learn more about interactive tables.';\n",
              "          element.innerHTML = '';\n",
              "          dataTable['output_type'] = 'display_data';\n",
              "          await google.colab.output.renderOutput(dataTable, element);\n",
              "          const docLink = document.createElement('div');\n",
              "          docLink.innerHTML = docLinkHtml;\n",
              "          element.appendChild(docLink);\n",
              "        }\n",
              "      </script>\n",
              "    </div>\n",
              "  </div>\n",
              "  "
            ],
            "text/plain": [
              "  Датарегистрации  ... Тип_агентсва\n",
              "0      2019-09-04  ...            0\n",
              "1      2019-09-04  ...            1\n",
              "2      2019-09-04  ...            1\n",
              "3      2019-09-04  ...            1\n",
              "4      2019-09-04  ...            0\n",
              "\n",
              "[5 rows x 7 columns]"
            ]
          },
          "metadata": {},
          "execution_count": 164
        }
      ]
    },
    {
      "cell_type": "code",
      "source": [
        "from nltk.stem.snowball import SnowballStemmer\n",
        "stemmer = SnowballStemmer(\"russian\")\n",
        "def stm(doc):\n",
        "    tokens = []\n",
        "    for token in doc.split():\n",
        "      token = stemmer.stem(token)\n",
        "      tokens.append(token)\n",
        "    if len(tokens) > 0:\n",
        "        return (\" \").join(tokens)\n",
        "    return None"
      ],
      "metadata": {
        "id": "W2eb4HiPpKZ2"
      },
      "execution_count": null,
      "outputs": []
    },
    {
      "cell_type": "code",
      "source": [
        "from sklearn.feature_extraction.text import TfidfVectorizer\n",
        "from sklearn.preprocessing import StandardScaler\n",
        "from sklearn.model_selection import train_test_split"
      ],
      "metadata": {
        "id": "dhvQxiZ3qqTo"
      },
      "execution_count": null,
      "outputs": []
    },
    {
      "cell_type": "code",
      "source": [
        "X = df.Адресат\n",
        "y = df.Тип_агентсва"
      ],
      "metadata": {
        "id": "l6osDiPapz9X"
      },
      "execution_count": null,
      "outputs": []
    },
    {
      "cell_type": "code",
      "source": [
        "X_train, X_test, y_train, y_test = train_test_split(X, y, test_size = 0.20, stratify = y)\n",
        "X_train = X_train.reset_index(drop = True)\n",
        "y_train = y_train.reset_index(drop = True)\n",
        "X_test = X_test.reset_index(drop = True)\n",
        "y_test = y_test.reset_index(drop = True)"
      ],
      "metadata": {
        "id": "YG8TMsF7qxO-"
      },
      "execution_count": null,
      "outputs": []
    },
    {
      "cell_type": "code",
      "source": [
        "vectorizer = TfidfVectorizer(max_features = 10000)"
      ],
      "metadata": {
        "id": "JZ3H930urLLn"
      },
      "execution_count": null,
      "outputs": []
    },
    {
      "cell_type": "code",
      "source": [
        "X_train = vectorizer.fit_transform(X_train)\n",
        "X_test = vectorizer.transform(X_test)"
      ],
      "metadata": {
        "id": "OKF_NV7VrMb3"
      },
      "execution_count": null,
      "outputs": []
    },
    {
      "cell_type": "code",
      "source": [
        "from sklearn.svm import SVC\n",
        "from sklearn.metrics import classification_report, f1_score"
      ],
      "metadata": {
        "id": "UTNyCZA9rNam"
      },
      "execution_count": null,
      "outputs": []
    },
    {
      "cell_type": "code",
      "source": [
        "%%time\n",
        "model_SVC = SVC(C = 1, kernel = 'linear')\n",
        "model_SVC.fit(X_train, y_train)\n",
        "res = model_SVC.predict(X_test)"
      ],
      "metadata": {
        "colab": {
          "base_uri": "https://localhost:8080/"
        },
        "id": "YR2jO59grOmG",
        "outputId": "a5243b8e-5b73-4278-9e17-f387e563b1eb"
      },
      "execution_count": null,
      "outputs": [
        {
          "output_type": "stream",
          "name": "stdout",
          "text": [
            "CPU times: user 262 ms, sys: 12 ms, total: 274 ms\n",
            "Wall time: 274 ms\n"
          ]
        }
      ]
    },
    {
      "cell_type": "code",
      "source": [
        "f1_svm = f1_score(y_test, res, average='macro')\n",
        "f1_svm"
      ],
      "metadata": {
        "colab": {
          "base_uri": "https://localhost:8080/"
        },
        "id": "VNGyeVbwrP5m",
        "outputId": "ab6629fb-c6c0-41db-d80e-a4f1d79c4f88"
      },
      "execution_count": null,
      "outputs": [
        {
          "output_type": "execute_result",
          "data": {
            "text/plain": [
              "0.592638450291603"
            ]
          },
          "metadata": {},
          "execution_count": 173
        }
      ]
    },
    {
      "cell_type": "code",
      "source": [
        "print(classification_report(y_test, res))"
      ],
      "metadata": {
        "colab": {
          "base_uri": "https://localhost:8080/"
        },
        "id": "JAxfy3GLrQ9G",
        "outputId": "331fe5fd-aa38-492d-c5c8-9798888b722c"
      },
      "execution_count": null,
      "outputs": [
        {
          "output_type": "stream",
          "name": "stdout",
          "text": [
            "              precision    recall  f1-score   support\n",
            "\n",
            "           0       0.67      0.74      0.70       596\n",
            "           1       0.53      0.45      0.49       398\n",
            "\n",
            "    accuracy                           0.62       994\n",
            "   macro avg       0.60      0.59      0.59       994\n",
            "weighted avg       0.61      0.62      0.61       994\n",
            "\n"
          ]
        }
      ]
    },
    {
      "cell_type": "markdown",
      "source": [
        "Лучшая модель, внатуре :D\n",
        "Набор схожих алгоритмов обучения с учителем, использующихся для задач классификации и регрессионного анализа!\n",
        "А другие нет))))))))))))))))"
      ],
      "metadata": {
        "id": "wns1J0_4-U3y"
      }
    },
    {
      "cell_type": "code",
      "source": [
        "top_five = df.Агентсво.value_counts()[:5]\n",
        "bar_dict = {}\n",
        "for i in top_five.reset_index().values:\n",
        "  bar_dict[i[0]] = i[1]"
      ],
      "metadata": {
        "id": "v_EWMlWswzTX"
      },
      "execution_count": 182,
      "outputs": []
    },
    {
      "cell_type": "markdown",
      "source": [
        "Визуализация"
      ],
      "metadata": {
        "id": "lUz3acdY6jyW"
      }
    },
    {
      "cell_type": "code",
      "source": [
        "bard = pd.DataFrame(bar_dict, index=[\"Количество писем\"])"
      ],
      "metadata": {
        "id": "o5OuVEaEwwhf"
      },
      "execution_count": null,
      "outputs": []
    },
    {
      "cell_type": "code",
      "source": [
        "import pandas as pd\n",
        "import matplotlib.pyplot as plt\n",
        "\n",
        "fig, ax = plt.subplots()\n",
        "bard.plot(kind='bar',ax=ax, alpha=0.75, rot=0)"
      ],
      "metadata": {
        "colab": {
          "base_uri": "https://localhost:8080/",
          "height": 370
        },
        "id": "IKf7l72cwg5n",
        "outputId": "0425ae1b-3ba8-4d99-f28d-3638cb1aa485"
      },
      "execution_count": null,
      "outputs": [
        {
          "output_type": "execute_result",
          "data": {
            "text/plain": [
              "<matplotlib.axes._subplots.AxesSubplot at 0x7fd15cc6bed0>"
            ]
          },
          "metadata": {},
          "execution_count": 177
        },
        {
          "output_type": "display_data",
          "data": {
            "text/plain": [
              "<Figure size 432x288 with 1 Axes>"
            ],
            "image/svg+xml": "<?xml version=\"1.0\" encoding=\"utf-8\" standalone=\"no\"?>\n<!DOCTYPE svg PUBLIC \"-//W3C//DTD SVG 1.1//EN\"\n  \"http://www.w3.org/Graphics/SVG/1.1/DTD/svg11.dtd\">\n<!-- Created with matplotlib (https://matplotlib.org/) -->\n<svg height=\"248.518125pt\" version=\"1.1\" viewBox=\"0 0 829.670313 248.518125\" width=\"829.670313pt\" xmlns=\"http://www.w3.org/2000/svg\" xmlns:xlink=\"http://www.w3.org/1999/xlink\">\n <defs>\n  <style type=\"text/css\">\n*{stroke-linecap:butt;stroke-linejoin:round;}\n  </style>\n </defs>\n <g id=\"figure_1\">\n  <g id=\"patch_1\">\n   <path d=\"M -0 248.518125 \nL 829.670312 248.518125 \nL 829.670312 0 \nL -0 0 \nz\n\" style=\"fill:none;\"/>\n  </g>\n  <g id=\"axes_1\">\n   <g id=\"patch_2\">\n    <path d=\"M 487.670313 224.64 \nL 822.470313 224.64 \nL 822.470313 7.2 \nL 487.670313 7.2 \nz\n\" style=\"fill:#ffffff;\"/>\n   </g>\n   <g id=\"patch_3\">\n    <path clip-path=\"url(#pb61b9d5cd9)\" d=\"M 571.370312 224.64 \nL 604.850312 224.64 \nL 604.850312 17.554286 \nL 571.370312 17.554286 \nz\n\" style=\"fill:#1f77b4;opacity:0.75;\"/>\n   </g>\n   <g id=\"patch_4\">\n    <path clip-path=\"url(#pb61b9d5cd9)\" d=\"M 604.850312 224.64 \nL 638.330312 224.64 \nL 638.330312 109.122799 \nL 604.850312 109.122799 \nz\n\" style=\"fill:#ff7f0e;opacity:0.75;\"/>\n   </g>\n   <g id=\"patch_5\">\n    <path clip-path=\"url(#pb61b9d5cd9)\" d=\"M 638.330312 224.64 \nL 671.810313 224.64 \nL 671.810313 134.480233 \nL 638.330312 134.480233 \nz\n\" style=\"fill:#2ca02c;opacity:0.75;\"/>\n   </g>\n   <g id=\"patch_6\">\n    <path clip-path=\"url(#pb61b9d5cd9)\" d=\"M 671.810313 224.64 \nL 705.290313 224.64 \nL 705.290313 140.115219 \nL 671.810313 140.115219 \nz\n\" style=\"fill:#d62728;opacity:0.75;\"/>\n   </g>\n   <g id=\"patch_7\">\n    <path clip-path=\"url(#pb61b9d5cd9)\" d=\"M 705.290313 224.64 \nL 738.770313 224.64 \nL 738.770313 151.38519 \nL 705.290313 151.38519 \nz\n\" style=\"fill:#9467bd;opacity:0.75;\"/>\n   </g>\n   <g id=\"matplotlib.axis_1\">\n    <g id=\"xtick_1\">\n     <g id=\"line2d_1\">\n      <defs>\n       <path d=\"M 0 0 \nL 0 3.5 \n\" id=\"md53532646d\" style=\"stroke:#000000;stroke-width:0.8;\"/>\n      </defs>\n      <g>\n       <use style=\"stroke:#000000;stroke-width:0.8;\" x=\"655.070312\" xlink:href=\"#md53532646d\" y=\"224.64\"/>\n      </g>\n     </g>\n     <g id=\"text_1\">\n      <!-- Количество писем -->\n      <defs>\n       <path d=\"M 9.8125 72.90625 \nL 19.671875 72.90625 \nL 19.671875 36.859375 \nL 54.9375 72.90625 \nL 67.578125 72.90625 \nL 39.40625 44.09375 \nL 69.046875 0 \nL 58.296875 0 \nL 33.015625 37.546875 \nL 19.671875 23.921875 \nL 19.671875 0 \nL 9.8125 0 \nz\n\" id=\"DejaVuSans-1050\"/>\n       <path d=\"M 30.609375 48.390625 \nQ 23.390625 48.390625 19.1875 42.75 \nQ 14.984375 37.109375 14.984375 27.296875 \nQ 14.984375 17.484375 19.15625 11.84375 \nQ 23.34375 6.203125 30.609375 6.203125 \nQ 37.796875 6.203125 41.984375 11.859375 \nQ 46.1875 17.53125 46.1875 27.296875 \nQ 46.1875 37.015625 41.984375 42.703125 \nQ 37.796875 48.390625 30.609375 48.390625 \nz\nM 30.609375 56 \nQ 42.328125 56 49.015625 48.375 \nQ 55.71875 40.765625 55.71875 27.296875 \nQ 55.71875 13.875 49.015625 6.21875 \nQ 42.328125 -1.421875 30.609375 -1.421875 \nQ 18.84375 -1.421875 12.171875 6.21875 \nQ 5.515625 13.875 5.515625 27.296875 \nQ 5.515625 40.765625 12.171875 48.375 \nQ 18.84375 56 30.609375 56 \nz\n\" id=\"DejaVuSans-1086\"/>\n       <path d=\"M 3.71875 0 \nL 3.71875 7.46875 \nQ 12.59375 8.84375 15.328125 14.984375 \nQ 18.65625 23.640625 18.65625 45.75 \nL 18.65625 54.6875 \nL 55.609375 54.6875 \nL 55.609375 0 \nL 46.625 0 \nL 46.625 47.515625 \nL 27.640625 47.515625 \nL 27.640625 42.09375 \nQ 27.640625 21 23.34375 11.53125 \nQ 18.75 1.421875 3.71875 0 \nz\n\" id=\"DejaVuSans-1083\"/>\n       <path d=\"M 55.90625 54.6875 \nL 55.90625 0 \nL 46.96875 0 \nL 46.96875 43.890625 \nL 20.609375 0 \nL 9.078125 0 \nL 9.078125 54.6875 \nL 18.015625 54.6875 \nL 18.015625 10.890625 \nL 44.34375 54.6875 \nz\n\" id=\"DejaVuSans-1080\"/>\n       <path d=\"M 41.015625 0 \nL 41.015625 23 \nL 24.265625 23 \nQ 16.796875 23 11.8125 27.640625 \nQ 7.328125 31.84375 7.328125 40.828125 \nL 7.328125 54.6875 \nL 16.3125 54.6875 \nL 16.3125 41.65625 \nQ 16.3125 35.9375 18.84375 33.0625 \nQ 21.4375 30.171875 26.515625 30.171875 \nL 41.015625 30.171875 \nL 41.015625 54.6875 \nL 50 54.6875 \nL 50 0 \nz\n\" id=\"DejaVuSans-1095\"/>\n       <path d=\"M 56.203125 29.59375 \nL 56.203125 25.203125 \nL 14.890625 25.203125 \nQ 15.484375 15.921875 20.484375 11.0625 \nQ 25.484375 6.203125 34.421875 6.203125 \nQ 39.59375 6.203125 44.453125 7.46875 \nQ 49.3125 8.734375 54.109375 11.28125 \nL 54.109375 2.78125 \nQ 49.265625 0.734375 44.1875 -0.34375 \nQ 39.109375 -1.421875 33.890625 -1.421875 \nQ 20.796875 -1.421875 13.15625 6.1875 \nQ 5.515625 13.8125 5.515625 26.8125 \nQ 5.515625 40.234375 12.765625 48.109375 \nQ 20.015625 56 32.328125 56 \nQ 43.359375 56 49.78125 48.890625 \nQ 56.203125 41.796875 56.203125 29.59375 \nz\nM 47.21875 32.234375 \nQ 47.125 39.59375 43.09375 43.984375 \nQ 39.0625 48.390625 32.421875 48.390625 \nQ 24.90625 48.390625 20.390625 44.140625 \nQ 15.875 39.890625 15.1875 32.171875 \nz\n\" id=\"DejaVuSans-1077\"/>\n       <path d=\"M 48.78125 52.59375 \nL 48.78125 44.1875 \nQ 44.96875 46.296875 41.140625 47.34375 \nQ 37.3125 48.390625 33.40625 48.390625 \nQ 24.65625 48.390625 19.8125 42.84375 \nQ 14.984375 37.3125 14.984375 27.296875 \nQ 14.984375 17.28125 19.8125 11.734375 \nQ 24.65625 6.203125 33.40625 6.203125 \nQ 37.3125 6.203125 41.140625 7.25 \nQ 44.96875 8.296875 48.78125 10.40625 \nL 48.78125 2.09375 \nQ 45.015625 0.34375 40.984375 -0.53125 \nQ 36.96875 -1.421875 32.421875 -1.421875 \nQ 20.0625 -1.421875 12.78125 6.34375 \nQ 5.515625 14.109375 5.515625 27.296875 \nQ 5.515625 40.671875 12.859375 48.328125 \nQ 20.21875 56 33.015625 56 \nQ 37.15625 56 41.109375 55.140625 \nQ 45.0625 54.296875 48.78125 52.59375 \nz\n\" id=\"DejaVuSans-1089\"/>\n       <path d=\"M 2.9375 54.6875 \nL 55.328125 54.6875 \nL 55.328125 47.515625 \nL 33.546875 47.515625 \nL 33.546875 0 \nL 24.703125 0 \nL 24.703125 47.515625 \nL 2.9375 47.515625 \nz\n\" id=\"DejaVuSans-1090\"/>\n       <path d=\"M 18.0625 25.203125 \nL 18.0625 7.171875 \nL 30.859375 7.171875 \nQ 37.015625 7.171875 40.234375 9.484375 \nQ 43.453125 11.8125 43.453125 16.21875 \nQ 43.453125 20.609375 40.234375 22.90625 \nQ 37.015625 25.203125 30.859375 25.203125 \nz\nM 18.0625 47.515625 \nL 18.0625 32.375 \nL 29.890625 32.375 \nQ 34.96875 32.375 38.1875 34.390625 \nQ 41.40625 36.421875 41.40625 40.046875 \nQ 41.40625 43.65625 38.1875 45.578125 \nQ 34.96875 47.515625 29.890625 47.515625 \nz\nM 9.078125 54.6875 \nL 30.46875 54.6875 \nQ 40.09375 54.6875 45.265625 51.171875 \nQ 50.4375 47.65625 50.4375 41.15625 \nQ 50.4375 36.140625 47.796875 33.171875 \nQ 45.171875 30.21875 39.984375 29.5 \nQ 46.1875 28.328125 49.609375 24.609375 \nQ 53.03125 20.90625 53.03125 15.328125 \nQ 53.03125 8.015625 47.390625 4 \nQ 41.75 0 31.296875 0 \nL 9.078125 0 \nz\n\" id=\"DejaVuSans-1074\"/>\n       <path id=\"DejaVuSans-32\"/>\n       <path d=\"M 56.296875 54.6875 \nL 56.296875 0 \nL 47.265625 0 \nL 47.265625 47.515625 \nL 18.109375 47.515625 \nL 18.109375 0 \nL 9.078125 0 \nL 9.078125 54.6875 \nz\n\" id=\"DejaVuSans-1087\"/>\n       <path d=\"M 9.078125 54.6875 \nL 22.21875 54.6875 \nL 37.75 18.0625 \nL 53.328125 54.6875 \nL 66.359375 54.6875 \nL 66.359375 0 \nL 57.328125 0 \nL 57.328125 46.09375 \nL 42.234375 10.5 \nL 33.25 10.5 \nL 18.109375 46.09375 \nL 18.109375 0 \nL 9.078125 0 \nz\n\" id=\"DejaVuSans-1084\"/>\n      </defs>\n      <g transform=\"translate(606.6125 239.238438)scale(0.1 -0.1)\">\n       <use xlink:href=\"#DejaVuSans-1050\"/>\n       <use x=\"70.996094\" xlink:href=\"#DejaVuSans-1086\"/>\n       <use x=\"132.177734\" xlink:href=\"#DejaVuSans-1083\"/>\n       <use x=\"196.09375\" xlink:href=\"#DejaVuSans-1080\"/>\n       <use x=\"261.083984\" xlink:href=\"#DejaVuSans-1095\"/>\n       <use x=\"320.166016\" xlink:href=\"#DejaVuSans-1077\"/>\n       <use x=\"381.689453\" xlink:href=\"#DejaVuSans-1089\"/>\n       <use x=\"436.669922\" xlink:href=\"#DejaVuSans-1090\"/>\n       <use x=\"494.921875\" xlink:href=\"#DejaVuSans-1074\"/>\n       <use x=\"553.857422\" xlink:href=\"#DejaVuSans-1086\"/>\n       <use x=\"615.039062\" xlink:href=\"#DejaVuSans-32\"/>\n       <use x=\"646.826172\" xlink:href=\"#DejaVuSans-1087\"/>\n       <use x=\"712.207031\" xlink:href=\"#DejaVuSans-1080\"/>\n       <use x=\"777.197266\" xlink:href=\"#DejaVuSans-1089\"/>\n       <use x=\"832.177734\" xlink:href=\"#DejaVuSans-1077\"/>\n       <use x=\"893.701172\" xlink:href=\"#DejaVuSans-1084\"/>\n      </g>\n     </g>\n    </g>\n   </g>\n   <g id=\"matplotlib.axis_2\">\n    <g id=\"ytick_1\">\n     <g id=\"line2d_2\">\n      <defs>\n       <path d=\"M 0 0 \nL -3.5 0 \n\" id=\"m5cc9379b52\" style=\"stroke:#000000;stroke-width:0.8;\"/>\n      </defs>\n      <g>\n       <use style=\"stroke:#000000;stroke-width:0.8;\" x=\"487.670313\" xlink:href=\"#m5cc9379b52\" y=\"224.64\"/>\n      </g>\n     </g>\n     <g id=\"text_2\">\n      <!-- 0 -->\n      <defs>\n       <path d=\"M 31.78125 66.40625 \nQ 24.171875 66.40625 20.328125 58.90625 \nQ 16.5 51.421875 16.5 36.375 \nQ 16.5 21.390625 20.328125 13.890625 \nQ 24.171875 6.390625 31.78125 6.390625 \nQ 39.453125 6.390625 43.28125 13.890625 \nQ 47.125 21.390625 47.125 36.375 \nQ 47.125 51.421875 43.28125 58.90625 \nQ 39.453125 66.40625 31.78125 66.40625 \nz\nM 31.78125 74.21875 \nQ 44.046875 74.21875 50.515625 64.515625 \nQ 56.984375 54.828125 56.984375 36.375 \nQ 56.984375 17.96875 50.515625 8.265625 \nQ 44.046875 -1.421875 31.78125 -1.421875 \nQ 19.53125 -1.421875 13.0625 8.265625 \nQ 6.59375 17.96875 6.59375 36.375 \nQ 6.59375 54.828125 13.0625 64.515625 \nQ 19.53125 74.21875 31.78125 74.21875 \nz\n\" id=\"DejaVuSans-48\"/>\n      </defs>\n      <g transform=\"translate(474.307813 228.439219)scale(0.1 -0.1)\">\n       <use xlink:href=\"#DejaVuSans-48\"/>\n      </g>\n     </g>\n    </g>\n    <g id=\"ytick_2\">\n     <g id=\"line2d_3\">\n      <g>\n       <use style=\"stroke:#000000;stroke-width:0.8;\" x=\"487.670313\" xlink:href=\"#m5cc9379b52\" y=\"196.465073\"/>\n      </g>\n     </g>\n     <g id=\"text_3\">\n      <!-- 20 -->\n      <defs>\n       <path d=\"M 19.1875 8.296875 \nL 53.609375 8.296875 \nL 53.609375 0 \nL 7.328125 0 \nL 7.328125 8.296875 \nQ 12.9375 14.109375 22.625 23.890625 \nQ 32.328125 33.6875 34.8125 36.53125 \nQ 39.546875 41.84375 41.421875 45.53125 \nQ 43.3125 49.21875 43.3125 52.78125 \nQ 43.3125 58.59375 39.234375 62.25 \nQ 35.15625 65.921875 28.609375 65.921875 \nQ 23.96875 65.921875 18.8125 64.3125 \nQ 13.671875 62.703125 7.8125 59.421875 \nL 7.8125 69.390625 \nQ 13.765625 71.78125 18.9375 73 \nQ 24.125 74.21875 28.421875 74.21875 \nQ 39.75 74.21875 46.484375 68.546875 \nQ 53.21875 62.890625 53.21875 53.421875 \nQ 53.21875 48.921875 51.53125 44.890625 \nQ 49.859375 40.875 45.40625 35.40625 \nQ 44.1875 33.984375 37.640625 27.21875 \nQ 31.109375 20.453125 19.1875 8.296875 \nz\n\" id=\"DejaVuSans-50\"/>\n      </defs>\n      <g transform=\"translate(467.945312 200.264292)scale(0.1 -0.1)\">\n       <use xlink:href=\"#DejaVuSans-50\"/>\n       <use x=\"63.623047\" xlink:href=\"#DejaVuSans-48\"/>\n      </g>\n     </g>\n    </g>\n    <g id=\"ytick_3\">\n     <g id=\"line2d_4\">\n      <g>\n       <use style=\"stroke:#000000;stroke-width:0.8;\" x=\"487.670313\" xlink:href=\"#m5cc9379b52\" y=\"168.290146\"/>\n      </g>\n     </g>\n     <g id=\"text_4\">\n      <!-- 40 -->\n      <defs>\n       <path d=\"M 37.796875 64.3125 \nL 12.890625 25.390625 \nL 37.796875 25.390625 \nz\nM 35.203125 72.90625 \nL 47.609375 72.90625 \nL 47.609375 25.390625 \nL 58.015625 25.390625 \nL 58.015625 17.1875 \nL 47.609375 17.1875 \nL 47.609375 0 \nL 37.796875 0 \nL 37.796875 17.1875 \nL 4.890625 17.1875 \nL 4.890625 26.703125 \nz\n\" id=\"DejaVuSans-52\"/>\n      </defs>\n      <g transform=\"translate(467.945312 172.089365)scale(0.1 -0.1)\">\n       <use xlink:href=\"#DejaVuSans-52\"/>\n       <use x=\"63.623047\" xlink:href=\"#DejaVuSans-48\"/>\n      </g>\n     </g>\n    </g>\n    <g id=\"ytick_4\">\n     <g id=\"line2d_5\">\n      <g>\n       <use style=\"stroke:#000000;stroke-width:0.8;\" x=\"487.670313\" xlink:href=\"#m5cc9379b52\" y=\"140.115219\"/>\n      </g>\n     </g>\n     <g id=\"text_5\">\n      <!-- 60 -->\n      <defs>\n       <path d=\"M 33.015625 40.375 \nQ 26.375 40.375 22.484375 35.828125 \nQ 18.609375 31.296875 18.609375 23.390625 \nQ 18.609375 15.53125 22.484375 10.953125 \nQ 26.375 6.390625 33.015625 6.390625 \nQ 39.65625 6.390625 43.53125 10.953125 \nQ 47.40625 15.53125 47.40625 23.390625 \nQ 47.40625 31.296875 43.53125 35.828125 \nQ 39.65625 40.375 33.015625 40.375 \nz\nM 52.59375 71.296875 \nL 52.59375 62.3125 \nQ 48.875 64.0625 45.09375 64.984375 \nQ 41.3125 65.921875 37.59375 65.921875 \nQ 27.828125 65.921875 22.671875 59.328125 \nQ 17.53125 52.734375 16.796875 39.40625 \nQ 19.671875 43.65625 24.015625 45.921875 \nQ 28.375 48.1875 33.59375 48.1875 \nQ 44.578125 48.1875 50.953125 41.515625 \nQ 57.328125 34.859375 57.328125 23.390625 \nQ 57.328125 12.15625 50.6875 5.359375 \nQ 44.046875 -1.421875 33.015625 -1.421875 \nQ 20.359375 -1.421875 13.671875 8.265625 \nQ 6.984375 17.96875 6.984375 36.375 \nQ 6.984375 53.65625 15.1875 63.9375 \nQ 23.390625 74.21875 37.203125 74.21875 \nQ 40.921875 74.21875 44.703125 73.484375 \nQ 48.484375 72.75 52.59375 71.296875 \nz\n\" id=\"DejaVuSans-54\"/>\n      </defs>\n      <g transform=\"translate(467.945312 143.914437)scale(0.1 -0.1)\">\n       <use xlink:href=\"#DejaVuSans-54\"/>\n       <use x=\"63.623047\" xlink:href=\"#DejaVuSans-48\"/>\n      </g>\n     </g>\n    </g>\n    <g id=\"ytick_5\">\n     <g id=\"line2d_6\">\n      <g>\n       <use style=\"stroke:#000000;stroke-width:0.8;\" x=\"487.670313\" xlink:href=\"#m5cc9379b52\" y=\"111.940292\"/>\n      </g>\n     </g>\n     <g id=\"text_6\">\n      <!-- 80 -->\n      <defs>\n       <path d=\"M 31.78125 34.625 \nQ 24.75 34.625 20.71875 30.859375 \nQ 16.703125 27.09375 16.703125 20.515625 \nQ 16.703125 13.921875 20.71875 10.15625 \nQ 24.75 6.390625 31.78125 6.390625 \nQ 38.8125 6.390625 42.859375 10.171875 \nQ 46.921875 13.96875 46.921875 20.515625 \nQ 46.921875 27.09375 42.890625 30.859375 \nQ 38.875 34.625 31.78125 34.625 \nz\nM 21.921875 38.8125 \nQ 15.578125 40.375 12.03125 44.71875 \nQ 8.5 49.078125 8.5 55.328125 \nQ 8.5 64.0625 14.71875 69.140625 \nQ 20.953125 74.21875 31.78125 74.21875 \nQ 42.671875 74.21875 48.875 69.140625 \nQ 55.078125 64.0625 55.078125 55.328125 \nQ 55.078125 49.078125 51.53125 44.71875 \nQ 48 40.375 41.703125 38.8125 \nQ 48.828125 37.15625 52.796875 32.3125 \nQ 56.78125 27.484375 56.78125 20.515625 \nQ 56.78125 9.90625 50.3125 4.234375 \nQ 43.84375 -1.421875 31.78125 -1.421875 \nQ 19.734375 -1.421875 13.25 4.234375 \nQ 6.78125 9.90625 6.78125 20.515625 \nQ 6.78125 27.484375 10.78125 32.3125 \nQ 14.796875 37.15625 21.921875 38.8125 \nz\nM 18.3125 54.390625 \nQ 18.3125 48.734375 21.84375 45.5625 \nQ 25.390625 42.390625 31.78125 42.390625 \nQ 38.140625 42.390625 41.71875 45.5625 \nQ 45.3125 48.734375 45.3125 54.390625 \nQ 45.3125 60.0625 41.71875 63.234375 \nQ 38.140625 66.40625 31.78125 66.40625 \nQ 25.390625 66.40625 21.84375 63.234375 \nQ 18.3125 60.0625 18.3125 54.390625 \nz\n\" id=\"DejaVuSans-56\"/>\n      </defs>\n      <g transform=\"translate(467.945312 115.73951)scale(0.1 -0.1)\">\n       <use xlink:href=\"#DejaVuSans-56\"/>\n       <use x=\"63.623047\" xlink:href=\"#DejaVuSans-48\"/>\n      </g>\n     </g>\n    </g>\n    <g id=\"ytick_6\">\n     <g id=\"line2d_7\">\n      <g>\n       <use style=\"stroke:#000000;stroke-width:0.8;\" x=\"487.670313\" xlink:href=\"#m5cc9379b52\" y=\"83.765364\"/>\n      </g>\n     </g>\n     <g id=\"text_7\">\n      <!-- 100 -->\n      <defs>\n       <path d=\"M 12.40625 8.296875 \nL 28.515625 8.296875 \nL 28.515625 63.921875 \nL 10.984375 60.40625 \nL 10.984375 69.390625 \nL 28.421875 72.90625 \nL 38.28125 72.90625 \nL 38.28125 8.296875 \nL 54.390625 8.296875 \nL 54.390625 0 \nL 12.40625 0 \nz\n\" id=\"DejaVuSans-49\"/>\n      </defs>\n      <g transform=\"translate(461.582813 87.564583)scale(0.1 -0.1)\">\n       <use xlink:href=\"#DejaVuSans-49\"/>\n       <use x=\"63.623047\" xlink:href=\"#DejaVuSans-48\"/>\n       <use x=\"127.246094\" xlink:href=\"#DejaVuSans-48\"/>\n      </g>\n     </g>\n    </g>\n    <g id=\"ytick_7\">\n     <g id=\"line2d_8\">\n      <g>\n       <use style=\"stroke:#000000;stroke-width:0.8;\" x=\"487.670313\" xlink:href=\"#m5cc9379b52\" y=\"55.590437\"/>\n      </g>\n     </g>\n     <g id=\"text_8\">\n      <!-- 120 -->\n      <g transform=\"translate(461.582813 59.389656)scale(0.1 -0.1)\">\n       <use xlink:href=\"#DejaVuSans-49\"/>\n       <use x=\"63.623047\" xlink:href=\"#DejaVuSans-50\"/>\n       <use x=\"127.246094\" xlink:href=\"#DejaVuSans-48\"/>\n      </g>\n     </g>\n    </g>\n    <g id=\"ytick_8\">\n     <g id=\"line2d_9\">\n      <g>\n       <use style=\"stroke:#000000;stroke-width:0.8;\" x=\"487.670313\" xlink:href=\"#m5cc9379b52\" y=\"27.41551\"/>\n      </g>\n     </g>\n     <g id=\"text_9\">\n      <!-- 140 -->\n      <g transform=\"translate(461.582813 31.214729)scale(0.1 -0.1)\">\n       <use xlink:href=\"#DejaVuSans-49\"/>\n       <use x=\"63.623047\" xlink:href=\"#DejaVuSans-52\"/>\n       <use x=\"127.246094\" xlink:href=\"#DejaVuSans-48\"/>\n      </g>\n     </g>\n    </g>\n   </g>\n   <g id=\"patch_8\">\n    <path d=\"M 487.670313 224.64 \nL 487.670313 7.2 \n\" style=\"fill:none;stroke:#000000;stroke-linecap:square;stroke-linejoin:miter;stroke-width:0.8;\"/>\n   </g>\n   <g id=\"patch_9\">\n    <path d=\"M 822.470313 224.64 \nL 822.470313 7.2 \n\" style=\"fill:none;stroke:#000000;stroke-linecap:square;stroke-linejoin:miter;stroke-width:0.8;\"/>\n   </g>\n   <g id=\"patch_10\">\n    <path d=\"M 487.670312 224.64 \nL 822.470313 224.64 \n\" style=\"fill:none;stroke:#000000;stroke-linecap:square;stroke-linejoin:miter;stroke-width:0.8;\"/>\n   </g>\n   <g id=\"patch_11\">\n    <path d=\"M 487.670312 7.2 \nL 822.470313 7.2 \n\" style=\"fill:none;stroke:#000000;stroke-linecap:square;stroke-linejoin:miter;stroke-width:0.8;\"/>\n   </g>\n   <g id=\"legend_1\">\n    <g id=\"patch_12\">\n     <path d=\"M 9.2 89.101562 \nL 815.470313 89.101562 \nQ 817.470313 89.101562 817.470313 87.101562 \nL 817.470313 14.2 \nQ 817.470313 12.2 815.470313 12.2 \nL 9.2 12.2 \nQ 7.2 12.2 7.2 14.2 \nL 7.2 87.101562 \nQ 7.2 89.101562 9.2 89.101562 \nz\n\" style=\"fill:#ffffff;opacity:0.8;stroke:#cccccc;stroke-linejoin:miter;\"/>\n    </g>\n    <g id=\"patch_13\">\n     <path d=\"M 11.2 23.96875 \nL 31.2 23.96875 \nL 31.2 16.96875 \nL 11.2 16.96875 \nz\n\" style=\"fill:#1f77b4;opacity:0.75;\"/>\n    </g>\n    <g id=\"text_10\">\n     <!-- Министерство образования и науки Российской Федерации. Департамент государственной политики в сфере подготовки рабочих кадров и ДПО -->\n     <defs>\n      <path d=\"M 9.8125 72.90625 \nL 24.515625 72.90625 \nL 43.109375 23.296875 \nL 61.8125 72.90625 \nL 76.515625 72.90625 \nL 76.515625 0 \nL 66.890625 0 \nL 66.890625 64.015625 \nL 48.09375 14.015625 \nL 38.1875 14.015625 \nL 19.390625 64.015625 \nL 19.390625 0 \nL 9.8125 0 \nz\n\" id=\"DejaVuSans-1052\"/>\n      <path d=\"M 9.078125 54.6875 \nL 18.109375 54.6875 \nL 18.109375 32.375 \nL 47.265625 32.375 \nL 47.265625 54.6875 \nL 56.296875 54.6875 \nL 56.296875 0 \nL 47.265625 0 \nL 47.265625 25.203125 \nL 18.109375 25.203125 \nL 18.109375 0 \nL 9.078125 0 \nz\n\" id=\"DejaVuSans-1085\"/>\n      <path d=\"M 18.109375 8.203125 \nL 18.109375 -20.796875 \nL 9.078125 -20.796875 \nL 9.078125 54.6875 \nL 18.109375 54.6875 \nL 18.109375 46.390625 \nQ 20.953125 51.265625 25.265625 53.625 \nQ 29.59375 56 35.59375 56 \nQ 45.5625 56 51.78125 48.09375 \nQ 58.015625 40.1875 58.015625 27.296875 \nQ 58.015625 14.40625 51.78125 6.484375 \nQ 45.5625 -1.421875 35.59375 -1.421875 \nQ 29.59375 -1.421875 25.265625 0.953125 \nQ 20.953125 3.328125 18.109375 8.203125 \nz\nM 48.6875 27.296875 \nQ 48.6875 37.203125 44.609375 42.84375 \nQ 40.53125 48.484375 33.40625 48.484375 \nQ 26.265625 48.484375 22.1875 42.84375 \nQ 18.109375 37.203125 18.109375 27.296875 \nQ 18.109375 17.390625 22.1875 11.75 \nQ 26.265625 6.109375 33.40625 6.109375 \nQ 40.53125 6.109375 44.609375 11.75 \nQ 48.6875 17.390625 48.6875 27.296875 \nz\n\" id=\"DejaVuSans-1088\"/>\n      <path d=\"M 31.109375 56 \nQ 42.828125 56 49.515625 48.375 \nQ 56.203125 40.765625 56.203125 27.296875 \nQ 56.203125 13.875 49.515625 6.21875 \nQ 42.828125 -1.421875 31.109375 -1.421875 \nQ 19.34375 -1.421875 12.84375 6 \nQ 6.34375 13.421875 6 27.296875 \nL 5.71875 38.484375 \nQ 5.46875 44.28125 5.46875 46.296875 \nQ 5.46875 54.109375 8.296875 59.859375 \nQ 12.75 68.890625 20.4375 72.796875 \nQ 28.125 76.703125 41.015625 76.8125 \nQ 46.96875 76.859375 49.609375 77.6875 \nL 52.09375 70.5625 \nQ 49.703125 69.578125 47.515625 69.53125 \nL 35.296875 68.703125 \nQ 29.15625 68.265625 25.4375 66.109375 \nQ 15.71875 60.40625 14.796875 52.9375 \nL 14.453125 50.203125 \nQ 20.796875 56 31.109375 56 \nz\nM 31.109375 48.390625 \nQ 23.875 48.390625 19.671875 42.75 \nQ 15.484375 37.109375 15.484375 27.296875 \nQ 15.484375 17.484375 19.65625 11.84375 \nQ 23.828125 6.203125 31.109375 6.203125 \nQ 38.28125 6.203125 42.484375 11.859375 \nQ 46.6875 17.53125 46.6875 27.296875 \nQ 46.6875 37.015625 42.484375 42.703125 \nQ 38.28125 48.390625 31.109375 48.390625 \nz\n\" id=\"DejaVuSans-1073\"/>\n      <path d=\"M 34.28125 27.484375 \nQ 23.390625 27.484375 19.1875 25 \nQ 14.984375 22.515625 14.984375 16.5 \nQ 14.984375 11.71875 18.140625 8.90625 \nQ 21.296875 6.109375 26.703125 6.109375 \nQ 34.1875 6.109375 38.703125 11.40625 \nQ 43.21875 16.703125 43.21875 25.484375 \nL 43.21875 27.484375 \nz\nM 52.203125 31.203125 \nL 52.203125 0 \nL 43.21875 0 \nL 43.21875 8.296875 \nQ 40.140625 3.328125 35.546875 0.953125 \nQ 30.953125 -1.421875 24.3125 -1.421875 \nQ 15.921875 -1.421875 10.953125 3.296875 \nQ 6 8.015625 6 15.921875 \nQ 6 25.140625 12.171875 29.828125 \nQ 18.359375 34.515625 30.609375 34.515625 \nL 43.21875 34.515625 \nL 43.21875 35.40625 \nQ 43.21875 41.609375 39.140625 45 \nQ 35.0625 48.390625 27.6875 48.390625 \nQ 23 48.390625 18.546875 47.265625 \nQ 14.109375 46.140625 10.015625 43.890625 \nL 10.015625 52.203125 \nQ 14.9375 54.109375 19.578125 55.046875 \nQ 24.21875 56 28.609375 56 \nQ 40.484375 56 46.34375 49.84375 \nQ 52.203125 43.703125 52.203125 31.203125 \nz\n\" id=\"DejaVuSans-1072\"/>\n      <path d=\"M 34.46875 29.5 \nQ 40.53125 28.328125 43.890625 24.75 \nQ 47.265625 21.1875 47.265625 15.921875 \nQ 47.265625 7.46875 40.96875 3.015625 \nQ 34.671875 -1.421875 23.046875 -1.421875 \nQ 19.140625 -1.421875 15.015625 -0.734375 \nQ 10.890625 -0.046875 6.5 1.3125 \nL 6.5 9.671875 \nQ 9.96875 7.859375 14.109375 6.953125 \nQ 18.265625 6.0625 22.796875 6.0625 \nQ 30.171875 6.0625 34.296875 8.796875 \nQ 38.421875 11.53125 38.421875 15.921875 \nQ 38.421875 20.21875 34.765625 22.828125 \nQ 31.109375 25.4375 24.421875 25.4375 \nL 17.1875 25.4375 \nL 17.1875 32.859375 \nL 24.75 32.859375 \nQ 30.421875 32.859375 33.71875 35.03125 \nQ 37.015625 37.203125 37.015625 40.625 \nQ 37.015625 43.75 33.609375 46 \nQ 30.21875 48.25 24.421875 48.25 \nQ 20.953125 48.25 17.015625 47.609375 \nQ 13.09375 46.96875 8.34375 45.5625 \nL 8.34375 53.71875 \nQ 13.140625 54.890625 17.28125 55.46875 \nQ 21.4375 56.0625 25.140625 56.0625 \nQ 34.71875 56.0625 40.25 52.21875 \nQ 45.796875 48.390625 45.796875 41.5 \nQ 45.796875 36.96875 42.859375 33.8125 \nQ 39.9375 30.671875 34.46875 29.5 \nz\n\" id=\"DejaVuSans-1079\"/>\n      <path d=\"M 18.453125 38.921875 \nQ 18.453125 34.859375 21.578125 32.5625 \nQ 24.703125 30.28125 30.515625 30.28125 \nL 42.625 30.28125 \nL 42.625 47.515625 \nL 30.515625 47.515625 \nQ 24.703125 47.515625 21.578125 45.265625 \nQ 18.453125 43.015625 18.453125 38.921875 \nz\nM 5.671875 0 \nL 22.359375 23.96875 \nQ 16.703125 25.25 12.9375 28.59375 \nQ 9.1875 31.9375 9.1875 38.921875 \nQ 9.1875 46.828125 14.421875 50.75 \nQ 19.671875 54.6875 30.28125 54.6875 \nL 51.65625 54.6875 \nL 51.65625 0 \nL 42.625 0 \nL 42.625 23.09375 \nL 31.453125 23.09375 \nL 15.328125 0 \nz\n\" id=\"DejaVuSans-1103\"/>\n      <path d=\"M 32.171875 -5.078125 \nQ 28.375 -14.84375 24.75 -17.8125 \nQ 21.140625 -20.796875 15.09375 -20.796875 \nL 7.90625 -20.796875 \nL 7.90625 -13.28125 \nL 13.1875 -13.28125 \nQ 16.890625 -13.28125 18.9375 -11.515625 \nQ 21 -9.765625 23.484375 -3.21875 \nL 25.09375 0.875 \nL 2.984375 54.6875 \nL 12.5 54.6875 \nL 29.59375 11.921875 \nL 46.6875 54.6875 \nL 56.203125 54.6875 \nz\n\" id=\"DejaVuSans-1091\"/>\n      <path d=\"M 9.078125 54.6875 \nL 18.015625 54.6875 \nL 18.015625 29 \nL 43.359375 54.6875 \nL 54.390625 54.6875 \nL 33.5 33.546875 \nL 57.078125 0 \nL 47.015625 0 \nL 27.640625 27.59375 \nL 18.015625 17.828125 \nL 18.015625 0 \nL 9.078125 0 \nz\n\" id=\"DejaVuSans-1082\"/>\n      <path d=\"M 19.671875 64.796875 \nL 19.671875 37.40625 \nL 32.078125 37.40625 \nQ 38.96875 37.40625 42.71875 40.96875 \nQ 46.484375 44.53125 46.484375 51.125 \nQ 46.484375 57.671875 42.71875 61.234375 \nQ 38.96875 64.796875 32.078125 64.796875 \nz\nM 9.8125 72.90625 \nL 32.078125 72.90625 \nQ 44.34375 72.90625 50.609375 67.359375 \nQ 56.890625 61.8125 56.890625 51.125 \nQ 56.890625 40.328125 50.609375 34.8125 \nQ 44.34375 29.296875 32.078125 29.296875 \nL 19.671875 29.296875 \nL 19.671875 0 \nL 9.8125 0 \nz\n\" id=\"DejaVuSans-1056\"/>\n      <path d=\"M 55.90625 54.6875 \nL 55.90625 0 \nL 46.96875 0 \nL 46.96875 43.890625 \nL 20.609375 0 \nL 9.078125 0 \nL 9.078125 54.6875 \nL 18.015625 54.6875 \nL 18.015625 10.890625 \nL 44.34375 54.6875 \nz\nM 17.21875 75.515625 \nL 22.984375 75.515625 \nQ 23.515625 71.859375 25.875 70.015625 \nQ 28.25 68.1875 32.5 68.1875 \nQ 36.703125 68.1875 39.046875 70 \nQ 41.390625 71.8125 42.015625 75.515625 \nL 47.78125 75.515625 \nQ 47.296875 68.53125 43.4375 65.015625 \nQ 39.578125 61.5 32.5 61.5 \nQ 25.421875 61.5 21.5625 65.015625 \nQ 17.703125 68.53125 17.21875 75.515625 \nz\n\" id=\"DejaVuSans-1081\"/>\n      <path d=\"M 38.140625 57.90625 \nQ 27.546875 56.9375 21.921875 51.953125 \nQ 16.3125 46.96875 16.3125 37.359375 \nQ 16.3125 27.734375 21.921875 22.78125 \nQ 27.546875 17.828125 38.140625 16.84375 \nz\nM 48.046875 16.84375 \nQ 58.640625 17.828125 64.203125 22.78125 \nQ 69.78125 27.734375 69.78125 37.359375 \nQ 69.78125 46.96875 64.203125 51.953125 \nQ 58.640625 56.9375 48.046875 57.90625 \nz\nM 38.140625 8.6875 \nQ 22.65625 9.8125 14.28125 17.109375 \nQ 5.90625 24.421875 5.90625 37.359375 \nQ 5.90625 50.296875 14.28125 57.640625 \nQ 22.65625 64.984375 38.140625 66.109375 \nL 38.140625 72.90625 \nL 48.046875 72.90625 \nL 48.046875 66.109375 \nQ 63.53125 64.984375 71.84375 57.6875 \nQ 80.171875 50.390625 80.171875 37.359375 \nQ 80.171875 24.421875 71.84375 17.109375 \nQ 63.53125 9.8125 48.046875 8.6875 \nL 48.046875 0 \nL 38.140625 0 \nz\n\" id=\"DejaVuSans-1060\"/>\n      <path d=\"M 21.625 7.171875 \nL 47.703125 7.171875 \nL 47.703125 47.515625 \nL 28.8125 47.515625 \nL 28.8125 40.671875 \nQ 28.8125 20.5625 23.046875 9.8125 \nz\nM 8.59375 7.171875 \nQ 13.03125 9.125 14.984375 13.28125 \nQ 19.78125 23.578125 19.78125 44.34375 \nL 19.78125 54.6875 \nL 56.734375 54.6875 \nL 56.734375 7.171875 \nL 63.921875 7.171875 \nL 63.921875 -13.8125 \nL 56.734375 -13.8125 \nL 56.734375 0 \nL 12.40625 0 \nL 12.40625 -13.8125 \nL 5.21875 -13.8125 \nL 5.21875 7.171875 \nz\n\" id=\"DejaVuSans-1076\"/>\n      <path d=\"M 56.296875 0 \nL 9.078125 0 \nL 9.078125 54.6875 \nL 18.109375 54.6875 \nL 18.109375 7.171875 \nL 47.265625 7.171875 \nL 47.265625 54.6875 \nL 56.296875 54.6875 \nL 56.296875 7.171875 \nL 63.484375 7.171875 \nL 63.484375 -13.8125 \nL 56.296875 -13.8125 \nz\n\" id=\"DejaVuSans-1094\"/>\n      <path d=\"M 10.6875 12.40625 \nL 21 12.40625 \nL 21 0 \nL 10.6875 0 \nz\n\" id=\"DejaVuSans-46\"/>\n      <path d=\"M 22.796875 8.296875 \nL 55.03125 8.296875 \nL 55.03125 64.59375 \nL 31.34375 64.59375 \nL 31.34375 54.25 \nQ 31.34375 29.890625 25.875 13.71875 \nQ 24.75 10.40625 22.796875 8.296875 \nz\nM 8.40625 8.296875 \nQ 14.9375 11.375 16.796875 17.234375 \nQ 21.53125 32.28125 21.53125 59.125 \nL 21.53125 72.90625 \nL 64.890625 72.90625 \nL 64.890625 8.296875 \nL 73.1875 8.296875 \nL 73.1875 -15.671875 \nL 64.890625 -15.671875 \nL 64.890625 0 \nL 13.234375 0 \nL 13.234375 -15.671875 \nL 4.9375 -15.671875 \nL 4.9375 8.296875 \nz\n\" id=\"DejaVuSans-1044\"/>\n      <path d=\"M 9.078125 0 \nL 9.078125 54.6875 \nL 47.65625 54.6875 \nL 47.65625 47.515625 \nL 18.109375 47.515625 \nL 18.109375 0 \nz\n\" id=\"DejaVuSans-1075\"/>\n      <path d=\"M 14.796875 27.296875 \nQ 14.796875 15.828125 18.328125 10.96875 \nQ 21.875 6.109375 27.875 6.109375 \nQ 32.671875 6.109375 38.234375 14.3125 \nL 38.234375 40.28125 \nQ 32.671875 48.484375 27.875 48.484375 \nQ 21.875 48.484375 18.328125 43.625 \nQ 14.796875 38.765625 14.796875 27.296875 \nz\nM 38.234375 -20.796875 \nL 38.234375 6.984375 \nQ 35.453125 2.390625 32.25 0.484375 \nQ 29.046875 -1.421875 25 -1.421875 \nQ 16.84375 -1.421875 11.15625 6.125 \nQ 5.46875 13.671875 5.46875 27.09375 \nQ 5.46875 40.53125 11.15625 48.265625 \nQ 16.84375 56 25 56 \nQ 29.046875 56 32.25 54.140625 \nQ 35.453125 52.296875 38.234375 47.703125 \nL 38.234375 72.90625 \nL 47.265625 72.90625 \nL 47.265625 47.703125 \nQ 50.046875 52.296875 53.25 54.140625 \nQ 56.453125 56 60.5 56 \nQ 68.65625 56 74.34375 48.265625 \nQ 80.03125 40.53125 80.03125 27.09375 \nQ 80.03125 13.671875 74.34375 6.125 \nQ 68.65625 -1.421875 60.5 -1.421875 \nQ 56.453125 -1.421875 53.25 0.484375 \nQ 50.046875 2.390625 47.265625 6.984375 \nL 47.265625 -20.796875 \nz\nM 70.703125 27.296875 \nQ 70.703125 38.765625 67.15625 43.625 \nQ 63.625 48.484375 57.625 48.484375 \nQ 52.828125 48.484375 47.265625 40.28125 \nL 47.265625 14.3125 \nQ 52.828125 6.109375 57.625 6.109375 \nQ 63.625 6.109375 67.15625 10.96875 \nQ 70.703125 15.828125 70.703125 27.296875 \nz\n\" id=\"DejaVuSans-1092\"/>\n      <path d=\"M 54.890625 54.6875 \nL 35.109375 28.078125 \nL 55.90625 0 \nL 45.3125 0 \nL 29.390625 21.484375 \nL 13.484375 0 \nL 2.875 0 \nL 24.125 28.609375 \nL 4.6875 54.6875 \nL 15.28125 54.6875 \nL 29.78125 35.203125 \nL 44.28125 54.6875 \nz\n\" id=\"DejaVuSans-1093\"/>\n      <path d=\"M 65.375 72.90625 \nL 65.375 0 \nL 55.515625 0 \nL 55.515625 64.59375 \nL 19.671875 64.59375 \nL 19.671875 0 \nL 9.8125 0 \nL 9.8125 72.90625 \nz\n\" id=\"DejaVuSans-1055\"/>\n      <path d=\"M 39.40625 66.21875 \nQ 28.65625 66.21875 22.328125 58.203125 \nQ 16.015625 50.203125 16.015625 36.375 \nQ 16.015625 22.609375 22.328125 14.59375 \nQ 28.65625 6.59375 39.40625 6.59375 \nQ 50.140625 6.59375 56.421875 14.59375 \nQ 62.703125 22.609375 62.703125 36.375 \nQ 62.703125 50.203125 56.421875 58.203125 \nQ 50.140625 66.21875 39.40625 66.21875 \nz\nM 39.40625 74.21875 \nQ 54.734375 74.21875 63.90625 63.9375 \nQ 73.09375 53.65625 73.09375 36.375 \nQ 73.09375 19.140625 63.90625 8.859375 \nQ 54.734375 -1.421875 39.40625 -1.421875 \nQ 24.03125 -1.421875 14.8125 8.828125 \nQ 5.609375 19.09375 5.609375 36.375 \nQ 5.609375 53.65625 14.8125 63.9375 \nQ 24.03125 74.21875 39.40625 74.21875 \nz\n\" id=\"DejaVuSans-1054\"/>\n     </defs>\n     <g transform=\"translate(39.2 23.96875)scale(0.1 -0.1)\">\n      <use xlink:href=\"#DejaVuSans-1052\"/>\n      <use x=\"86.279297\" xlink:href=\"#DejaVuSans-1080\"/>\n      <use x=\"151.269531\" xlink:href=\"#DejaVuSans-1085\"/>\n      <use x=\"216.650391\" xlink:href=\"#DejaVuSans-1080\"/>\n      <use x=\"281.640625\" xlink:href=\"#DejaVuSans-1089\"/>\n      <use x=\"336.621094\" xlink:href=\"#DejaVuSans-1090\"/>\n      <use x=\"394.873047\" xlink:href=\"#DejaVuSans-1077\"/>\n      <use x=\"456.396484\" xlink:href=\"#DejaVuSans-1088\"/>\n      <use x=\"519.873047\" xlink:href=\"#DejaVuSans-1089\"/>\n      <use x=\"574.853516\" xlink:href=\"#DejaVuSans-1090\"/>\n      <use x=\"633.105469\" xlink:href=\"#DejaVuSans-1074\"/>\n      <use x=\"692.041016\" xlink:href=\"#DejaVuSans-1086\"/>\n      <use x=\"753.222656\" xlink:href=\"#DejaVuSans-32\"/>\n      <use x=\"785.009766\" xlink:href=\"#DejaVuSans-1086\"/>\n      <use x=\"846.191406\" xlink:href=\"#DejaVuSans-1073\"/>\n      <use x=\"907.861328\" xlink:href=\"#DejaVuSans-1088\"/>\n      <use x=\"971.337891\" xlink:href=\"#DejaVuSans-1072\"/>\n      <use x=\"1032.617188\" xlink:href=\"#DejaVuSans-1079\"/>\n      <use x=\"1085.791016\" xlink:href=\"#DejaVuSans-1086\"/>\n      <use x=\"1146.972656\" xlink:href=\"#DejaVuSans-1074\"/>\n      <use x=\"1205.908203\" xlink:href=\"#DejaVuSans-1072\"/>\n      <use x=\"1267.1875\" xlink:href=\"#DejaVuSans-1085\"/>\n      <use x=\"1332.568359\" xlink:href=\"#DejaVuSans-1080\"/>\n      <use x=\"1397.558594\" xlink:href=\"#DejaVuSans-1103\"/>\n      <use x=\"1457.714844\" xlink:href=\"#DejaVuSans-32\"/>\n      <use x=\"1489.501953\" xlink:href=\"#DejaVuSans-1080\"/>\n      <use x=\"1554.492188\" xlink:href=\"#DejaVuSans-32\"/>\n      <use x=\"1586.279297\" xlink:href=\"#DejaVuSans-1085\"/>\n      <use x=\"1651.660156\" xlink:href=\"#DejaVuSans-1072\"/>\n      <use x=\"1712.939453\" xlink:href=\"#DejaVuSans-1091\"/>\n      <use x=\"1772.119141\" xlink:href=\"#DejaVuSans-1082\"/>\n      <use x=\"1832.519531\" xlink:href=\"#DejaVuSans-1080\"/>\n      <use x=\"1897.509766\" xlink:href=\"#DejaVuSans-32\"/>\n      <use x=\"1929.296875\" xlink:href=\"#DejaVuSans-1056\"/>\n      <use x=\"1989.599609\" xlink:href=\"#DejaVuSans-1086\"/>\n      <use x=\"2050.78125\" xlink:href=\"#DejaVuSans-1089\"/>\n      <use x=\"2105.761719\" xlink:href=\"#DejaVuSans-1089\"/>\n      <use x=\"2160.742188\" xlink:href=\"#DejaVuSans-1080\"/>\n      <use x=\"2225.732422\" xlink:href=\"#DejaVuSans-1081\"/>\n      <use x=\"2290.722656\" xlink:href=\"#DejaVuSans-1089\"/>\n      <use x=\"2345.703125\" xlink:href=\"#DejaVuSans-1082\"/>\n      <use x=\"2406.103516\" xlink:href=\"#DejaVuSans-1086\"/>\n      <use x=\"2467.285156\" xlink:href=\"#DejaVuSans-1081\"/>\n      <use x=\"2532.275391\" xlink:href=\"#DejaVuSans-32\"/>\n      <use x=\"2564.0625\" xlink:href=\"#DejaVuSans-1060\"/>\n      <use x=\"2650.146484\" xlink:href=\"#DejaVuSans-1077\"/>\n      <use x=\"2711.669922\" xlink:href=\"#DejaVuSans-1076\"/>\n      <use x=\"2780.810547\" xlink:href=\"#DejaVuSans-1077\"/>\n      <use x=\"2842.333984\" xlink:href=\"#DejaVuSans-1088\"/>\n      <use x=\"2905.810547\" xlink:href=\"#DejaVuSans-1072\"/>\n      <use x=\"2967.089844\" xlink:href=\"#DejaVuSans-1094\"/>\n      <use x=\"3035.15625\" xlink:href=\"#DejaVuSans-1080\"/>\n      <use x=\"3100.146484\" xlink:href=\"#DejaVuSans-1080\"/>\n      <use x=\"3165.136719\" xlink:href=\"#DejaVuSans-46\"/>\n      <use x=\"3196.923828\" xlink:href=\"#DejaVuSans-32\"/>\n      <use x=\"3228.710938\" xlink:href=\"#DejaVuSans-1044\"/>\n      <use x=\"3306.835938\" xlink:href=\"#DejaVuSans-1077\"/>\n      <use x=\"3368.359375\" xlink:href=\"#DejaVuSans-1087\"/>\n      <use x=\"3433.740234\" xlink:href=\"#DejaVuSans-1072\"/>\n      <use x=\"3495.019531\" xlink:href=\"#DejaVuSans-1088\"/>\n      <use x=\"3558.496094\" xlink:href=\"#DejaVuSans-1090\"/>\n      <use x=\"3616.748047\" xlink:href=\"#DejaVuSans-1072\"/>\n      <use x=\"3678.027344\" xlink:href=\"#DejaVuSans-1084\"/>\n      <use x=\"3753.466797\" xlink:href=\"#DejaVuSans-1077\"/>\n      <use x=\"3814.990234\" xlink:href=\"#DejaVuSans-1085\"/>\n      <use x=\"3880.371094\" xlink:href=\"#DejaVuSans-1090\"/>\n      <use x=\"3938.623047\" xlink:href=\"#DejaVuSans-32\"/>\n      <use x=\"3970.410156\" xlink:href=\"#DejaVuSans-1075\"/>\n      <use x=\"4022.949219\" xlink:href=\"#DejaVuSans-1086\"/>\n      <use x=\"4084.130859\" xlink:href=\"#DejaVuSans-1089\"/>\n      <use x=\"4139.111328\" xlink:href=\"#DejaVuSans-1091\"/>\n      <use x=\"4198.291016\" xlink:href=\"#DejaVuSans-1076\"/>\n      <use x=\"4267.431641\" xlink:href=\"#DejaVuSans-1072\"/>\n      <use x=\"4328.710938\" xlink:href=\"#DejaVuSans-1088\"/>\n      <use x=\"4392.1875\" xlink:href=\"#DejaVuSans-1089\"/>\n      <use x=\"4447.167969\" xlink:href=\"#DejaVuSans-1090\"/>\n      <use x=\"4505.419922\" xlink:href=\"#DejaVuSans-1074\"/>\n      <use x=\"4564.355469\" xlink:href=\"#DejaVuSans-1077\"/>\n      <use x=\"4625.878906\" xlink:href=\"#DejaVuSans-1085\"/>\n      <use x=\"4691.259766\" xlink:href=\"#DejaVuSans-1085\"/>\n      <use x=\"4756.640625\" xlink:href=\"#DejaVuSans-1086\"/>\n      <use x=\"4817.822266\" xlink:href=\"#DejaVuSans-1081\"/>\n      <use x=\"4882.8125\" xlink:href=\"#DejaVuSans-32\"/>\n      <use x=\"4914.599609\" xlink:href=\"#DejaVuSans-1087\"/>\n      <use x=\"4979.980469\" xlink:href=\"#DejaVuSans-1086\"/>\n      <use x=\"5041.162109\" xlink:href=\"#DejaVuSans-1083\"/>\n      <use x=\"5105.078125\" xlink:href=\"#DejaVuSans-1080\"/>\n      <use x=\"5170.068359\" xlink:href=\"#DejaVuSans-1090\"/>\n      <use x=\"5228.320312\" xlink:href=\"#DejaVuSans-1080\"/>\n      <use x=\"5293.310547\" xlink:href=\"#DejaVuSans-1082\"/>\n      <use x=\"5353.710938\" xlink:href=\"#DejaVuSans-1080\"/>\n      <use x=\"5418.701172\" xlink:href=\"#DejaVuSans-32\"/>\n      <use x=\"5450.488281\" xlink:href=\"#DejaVuSans-1074\"/>\n      <use x=\"5509.423828\" xlink:href=\"#DejaVuSans-32\"/>\n      <use x=\"5541.210938\" xlink:href=\"#DejaVuSans-1089\"/>\n      <use x=\"5596.191406\" xlink:href=\"#DejaVuSans-1092\"/>\n      <use x=\"5681.689453\" xlink:href=\"#DejaVuSans-1077\"/>\n      <use x=\"5743.212891\" xlink:href=\"#DejaVuSans-1088\"/>\n      <use x=\"5806.689453\" xlink:href=\"#DejaVuSans-1077\"/>\n      <use x=\"5868.212891\" xlink:href=\"#DejaVuSans-32\"/>\n      <use x=\"5900\" xlink:href=\"#DejaVuSans-1087\"/>\n      <use x=\"5965.380859\" xlink:href=\"#DejaVuSans-1086\"/>\n      <use x=\"6026.5625\" xlink:href=\"#DejaVuSans-1076\"/>\n      <use x=\"6095.703125\" xlink:href=\"#DejaVuSans-1075\"/>\n      <use x=\"6148.242188\" xlink:href=\"#DejaVuSans-1086\"/>\n      <use x=\"6209.423828\" xlink:href=\"#DejaVuSans-1090\"/>\n      <use x=\"6267.675781\" xlink:href=\"#DejaVuSans-1086\"/>\n      <use x=\"6328.857422\" xlink:href=\"#DejaVuSans-1074\"/>\n      <use x=\"6387.792969\" xlink:href=\"#DejaVuSans-1082\"/>\n      <use x=\"6448.193359\" xlink:href=\"#DejaVuSans-1080\"/>\n      <use x=\"6513.183594\" xlink:href=\"#DejaVuSans-32\"/>\n      <use x=\"6544.970703\" xlink:href=\"#DejaVuSans-1088\"/>\n      <use x=\"6608.447266\" xlink:href=\"#DejaVuSans-1072\"/>\n      <use x=\"6669.726562\" xlink:href=\"#DejaVuSans-1073\"/>\n      <use x=\"6731.396484\" xlink:href=\"#DejaVuSans-1086\"/>\n      <use x=\"6792.578125\" xlink:href=\"#DejaVuSans-1095\"/>\n      <use x=\"6851.660156\" xlink:href=\"#DejaVuSans-1080\"/>\n      <use x=\"6916.650391\" xlink:href=\"#DejaVuSans-1093\"/>\n      <use x=\"6975.830078\" xlink:href=\"#DejaVuSans-32\"/>\n      <use x=\"7007.617188\" xlink:href=\"#DejaVuSans-1082\"/>\n      <use x=\"7068.017578\" xlink:href=\"#DejaVuSans-1072\"/>\n      <use x=\"7129.296875\" xlink:href=\"#DejaVuSans-1076\"/>\n      <use x=\"7198.4375\" xlink:href=\"#DejaVuSans-1088\"/>\n      <use x=\"7261.914062\" xlink:href=\"#DejaVuSans-1086\"/>\n      <use x=\"7323.095703\" xlink:href=\"#DejaVuSans-1074\"/>\n      <use x=\"7382.03125\" xlink:href=\"#DejaVuSans-32\"/>\n      <use x=\"7413.818359\" xlink:href=\"#DejaVuSans-1080\"/>\n      <use x=\"7478.808594\" xlink:href=\"#DejaVuSans-32\"/>\n      <use x=\"7510.595703\" xlink:href=\"#DejaVuSans-1044\"/>\n      <use x=\"7588.720703\" xlink:href=\"#DejaVuSans-1055\"/>\n      <use x=\"7663.916016\" xlink:href=\"#DejaVuSans-1054\"/>\n     </g>\n    </g>\n    <g id=\"patch_14\">\n     <path d=\"M 11.2 38.817187 \nL 31.2 38.817187 \nL 31.2 31.817187 \nL 11.2 31.817187 \nz\n\" style=\"fill:#ff7f0e;opacity:0.75;\"/>\n    </g>\n    <g id=\"text_11\">\n     <!-- Министерство образования и науки Российской Федерации -->\n     <g transform=\"translate(39.2 38.817187)scale(0.1 -0.1)\">\n      <use xlink:href=\"#DejaVuSans-1052\"/>\n      <use x=\"86.279297\" xlink:href=\"#DejaVuSans-1080\"/>\n      <use x=\"151.269531\" xlink:href=\"#DejaVuSans-1085\"/>\n      <use x=\"216.650391\" xlink:href=\"#DejaVuSans-1080\"/>\n      <use x=\"281.640625\" xlink:href=\"#DejaVuSans-1089\"/>\n      <use x=\"336.621094\" xlink:href=\"#DejaVuSans-1090\"/>\n      <use x=\"394.873047\" xlink:href=\"#DejaVuSans-1077\"/>\n      <use x=\"456.396484\" xlink:href=\"#DejaVuSans-1088\"/>\n      <use x=\"519.873047\" xlink:href=\"#DejaVuSans-1089\"/>\n      <use x=\"574.853516\" xlink:href=\"#DejaVuSans-1090\"/>\n      <use x=\"633.105469\" xlink:href=\"#DejaVuSans-1074\"/>\n      <use x=\"692.041016\" xlink:href=\"#DejaVuSans-1086\"/>\n      <use x=\"753.222656\" xlink:href=\"#DejaVuSans-32\"/>\n      <use x=\"785.009766\" xlink:href=\"#DejaVuSans-1086\"/>\n      <use x=\"846.191406\" xlink:href=\"#DejaVuSans-1073\"/>\n      <use x=\"907.861328\" xlink:href=\"#DejaVuSans-1088\"/>\n      <use x=\"971.337891\" xlink:href=\"#DejaVuSans-1072\"/>\n      <use x=\"1032.617188\" xlink:href=\"#DejaVuSans-1079\"/>\n      <use x=\"1085.791016\" xlink:href=\"#DejaVuSans-1086\"/>\n      <use x=\"1146.972656\" xlink:href=\"#DejaVuSans-1074\"/>\n      <use x=\"1205.908203\" xlink:href=\"#DejaVuSans-1072\"/>\n      <use x=\"1267.1875\" xlink:href=\"#DejaVuSans-1085\"/>\n      <use x=\"1332.568359\" xlink:href=\"#DejaVuSans-1080\"/>\n      <use x=\"1397.558594\" xlink:href=\"#DejaVuSans-1103\"/>\n      <use x=\"1457.714844\" xlink:href=\"#DejaVuSans-32\"/>\n      <use x=\"1489.501953\" xlink:href=\"#DejaVuSans-1080\"/>\n      <use x=\"1554.492188\" xlink:href=\"#DejaVuSans-32\"/>\n      <use x=\"1586.279297\" xlink:href=\"#DejaVuSans-1085\"/>\n      <use x=\"1651.660156\" xlink:href=\"#DejaVuSans-1072\"/>\n      <use x=\"1712.939453\" xlink:href=\"#DejaVuSans-1091\"/>\n      <use x=\"1772.119141\" xlink:href=\"#DejaVuSans-1082\"/>\n      <use x=\"1832.519531\" xlink:href=\"#DejaVuSans-1080\"/>\n      <use x=\"1897.509766\" xlink:href=\"#DejaVuSans-32\"/>\n      <use x=\"1929.296875\" xlink:href=\"#DejaVuSans-1056\"/>\n      <use x=\"1989.599609\" xlink:href=\"#DejaVuSans-1086\"/>\n      <use x=\"2050.78125\" xlink:href=\"#DejaVuSans-1089\"/>\n      <use x=\"2105.761719\" xlink:href=\"#DejaVuSans-1089\"/>\n      <use x=\"2160.742188\" xlink:href=\"#DejaVuSans-1080\"/>\n      <use x=\"2225.732422\" xlink:href=\"#DejaVuSans-1081\"/>\n      <use x=\"2290.722656\" xlink:href=\"#DejaVuSans-1089\"/>\n      <use x=\"2345.703125\" xlink:href=\"#DejaVuSans-1082\"/>\n      <use x=\"2406.103516\" xlink:href=\"#DejaVuSans-1086\"/>\n      <use x=\"2467.285156\" xlink:href=\"#DejaVuSans-1081\"/>\n      <use x=\"2532.275391\" xlink:href=\"#DejaVuSans-32\"/>\n      <use x=\"2564.0625\" xlink:href=\"#DejaVuSans-1060\"/>\n      <use x=\"2650.146484\" xlink:href=\"#DejaVuSans-1077\"/>\n      <use x=\"2711.669922\" xlink:href=\"#DejaVuSans-1076\"/>\n      <use x=\"2780.810547\" xlink:href=\"#DejaVuSans-1077\"/>\n      <use x=\"2842.333984\" xlink:href=\"#DejaVuSans-1088\"/>\n      <use x=\"2905.810547\" xlink:href=\"#DejaVuSans-1072\"/>\n      <use x=\"2967.089844\" xlink:href=\"#DejaVuSans-1094\"/>\n      <use x=\"3035.15625\" xlink:href=\"#DejaVuSans-1080\"/>\n      <use x=\"3100.146484\" xlink:href=\"#DejaVuSans-1080\"/>\n     </g>\n    </g>\n    <g id=\"patch_15\">\n     <path d=\"M 11.2 53.495313 \nL 31.2 53.495313 \nL 31.2 46.495313 \nL 11.2 46.495313 \nz\n\" style=\"fill:#2ca02c;opacity:0.75;\"/>\n    </g>\n    <g id=\"text_12\">\n     <!-- Министерство просвещения Российской Федерации -->\n     <defs>\n      <path d=\"M 82.421875 0 \nL 9.078125 0 \nL 9.078125 54.6875 \nL 18.109375 54.6875 \nL 18.109375 7.171875 \nL 41.21875 7.171875 \nL 41.21875 54.6875 \nL 50.25 54.6875 \nL 50.25 7.171875 \nL 73.390625 7.171875 \nL 73.390625 54.6875 \nL 82.421875 54.6875 \nL 82.421875 7.171875 \nL 89.59375 7.171875 \nL 89.59375 -13.8125 \nL 82.421875 -13.8125 \nz\n\" id=\"DejaVuSans-1097\"/>\n     </defs>\n     <g transform=\"translate(39.2 53.495313)scale(0.1 -0.1)\">\n      <use xlink:href=\"#DejaVuSans-1052\"/>\n      <use x=\"86.279297\" xlink:href=\"#DejaVuSans-1080\"/>\n      <use x=\"151.269531\" xlink:href=\"#DejaVuSans-1085\"/>\n      <use x=\"216.650391\" xlink:href=\"#DejaVuSans-1080\"/>\n      <use x=\"281.640625\" xlink:href=\"#DejaVuSans-1089\"/>\n      <use x=\"336.621094\" xlink:href=\"#DejaVuSans-1090\"/>\n      <use x=\"394.873047\" xlink:href=\"#DejaVuSans-1077\"/>\n      <use x=\"456.396484\" xlink:href=\"#DejaVuSans-1088\"/>\n      <use x=\"519.873047\" xlink:href=\"#DejaVuSans-1089\"/>\n      <use x=\"574.853516\" xlink:href=\"#DejaVuSans-1090\"/>\n      <use x=\"633.105469\" xlink:href=\"#DejaVuSans-1074\"/>\n      <use x=\"692.041016\" xlink:href=\"#DejaVuSans-1086\"/>\n      <use x=\"753.222656\" xlink:href=\"#DejaVuSans-32\"/>\n      <use x=\"785.009766\" xlink:href=\"#DejaVuSans-1087\"/>\n      <use x=\"850.390625\" xlink:href=\"#DejaVuSans-1088\"/>\n      <use x=\"913.867188\" xlink:href=\"#DejaVuSans-1086\"/>\n      <use x=\"975.048828\" xlink:href=\"#DejaVuSans-1089\"/>\n      <use x=\"1030.029297\" xlink:href=\"#DejaVuSans-1074\"/>\n      <use x=\"1088.964844\" xlink:href=\"#DejaVuSans-1077\"/>\n      <use x=\"1150.488281\" xlink:href=\"#DejaVuSans-1097\"/>\n      <use x=\"1244.677734\" xlink:href=\"#DejaVuSans-1077\"/>\n      <use x=\"1306.201172\" xlink:href=\"#DejaVuSans-1085\"/>\n      <use x=\"1371.582031\" xlink:href=\"#DejaVuSans-1080\"/>\n      <use x=\"1436.572266\" xlink:href=\"#DejaVuSans-1103\"/>\n      <use x=\"1496.728516\" xlink:href=\"#DejaVuSans-32\"/>\n      <use x=\"1528.515625\" xlink:href=\"#DejaVuSans-1056\"/>\n      <use x=\"1588.818359\" xlink:href=\"#DejaVuSans-1086\"/>\n      <use x=\"1650\" xlink:href=\"#DejaVuSans-1089\"/>\n      <use x=\"1704.980469\" xlink:href=\"#DejaVuSans-1089\"/>\n      <use x=\"1759.960938\" xlink:href=\"#DejaVuSans-1080\"/>\n      <use x=\"1824.951172\" xlink:href=\"#DejaVuSans-1081\"/>\n      <use x=\"1889.941406\" xlink:href=\"#DejaVuSans-1089\"/>\n      <use x=\"1944.921875\" xlink:href=\"#DejaVuSans-1082\"/>\n      <use x=\"2005.322266\" xlink:href=\"#DejaVuSans-1086\"/>\n      <use x=\"2066.503906\" xlink:href=\"#DejaVuSans-1081\"/>\n      <use x=\"2131.494141\" xlink:href=\"#DejaVuSans-32\"/>\n      <use x=\"2163.28125\" xlink:href=\"#DejaVuSans-1060\"/>\n      <use x=\"2249.365234\" xlink:href=\"#DejaVuSans-1077\"/>\n      <use x=\"2310.888672\" xlink:href=\"#DejaVuSans-1076\"/>\n      <use x=\"2380.029297\" xlink:href=\"#DejaVuSans-1077\"/>\n      <use x=\"2441.552734\" xlink:href=\"#DejaVuSans-1088\"/>\n      <use x=\"2505.029297\" xlink:href=\"#DejaVuSans-1072\"/>\n      <use x=\"2566.308594\" xlink:href=\"#DejaVuSans-1094\"/>\n      <use x=\"2634.375\" xlink:href=\"#DejaVuSans-1080\"/>\n      <use x=\"2699.365234\" xlink:href=\"#DejaVuSans-1080\"/>\n     </g>\n    </g>\n    <g id=\"patch_16\">\n     <path d=\"M 11.2 68.173438 \nL 31.2 68.173438 \nL 31.2 61.173438 \nL 11.2 61.173438 \nz\n\" style=\"fill:#d62728;opacity:0.75;\"/>\n    </g>\n    <g id=\"text_13\">\n     <!-- Аппарат Правительства Российской Федерации -->\n     <defs>\n      <path d=\"M 34.1875 63.1875 \nL 20.796875 26.90625 \nL 47.609375 26.90625 \nz\nM 28.609375 72.90625 \nL 39.796875 72.90625 \nL 67.578125 0 \nL 57.328125 0 \nL 50.6875 18.703125 \nL 17.828125 18.703125 \nL 11.1875 0 \nL 0.78125 0 \nz\n\" id=\"DejaVuSans-1040\"/>\n      <path d=\"M 43.453125 16.21875 \nQ 43.453125 20.609375 40.25 22.90625 \nQ 37.0625 25.203125 30.90625 25.203125 \nL 18.109375 25.203125 \nL 18.109375 7.171875 \nL 30.90625 7.171875 \nQ 37.0625 7.171875 40.25 9.484375 \nQ 43.453125 11.8125 43.453125 16.21875 \nz\nM 9.078125 54.6875 \nL 18.109375 54.6875 \nL 18.109375 32.375 \nL 31.296875 32.375 \nQ 41.75 32.375 47.390625 28.390625 \nQ 53.03125 24.421875 53.03125 16.21875 \nQ 53.03125 8.015625 47.390625 4 \nQ 41.75 0 31.296875 0 \nL 9.078125 0 \nz\n\" id=\"DejaVuSans-1100\"/>\n     </defs>\n     <g transform=\"translate(39.2 68.173438)scale(0.1 -0.1)\">\n      <use xlink:href=\"#DejaVuSans-1040\"/>\n      <use x=\"68.408203\" xlink:href=\"#DejaVuSans-1087\"/>\n      <use x=\"133.789062\" xlink:href=\"#DejaVuSans-1087\"/>\n      <use x=\"199.169922\" xlink:href=\"#DejaVuSans-1072\"/>\n      <use x=\"260.449219\" xlink:href=\"#DejaVuSans-1088\"/>\n      <use x=\"323.925781\" xlink:href=\"#DejaVuSans-1072\"/>\n      <use x=\"385.205078\" xlink:href=\"#DejaVuSans-1090\"/>\n      <use x=\"443.457031\" xlink:href=\"#DejaVuSans-32\"/>\n      <use x=\"475.244141\" xlink:href=\"#DejaVuSans-1055\"/>\n      <use x=\"550.439453\" xlink:href=\"#DejaVuSans-1088\"/>\n      <use x=\"613.916016\" xlink:href=\"#DejaVuSans-1072\"/>\n      <use x=\"675.195312\" xlink:href=\"#DejaVuSans-1074\"/>\n      <use x=\"734.130859\" xlink:href=\"#DejaVuSans-1080\"/>\n      <use x=\"799.121094\" xlink:href=\"#DejaVuSans-1090\"/>\n      <use x=\"857.373047\" xlink:href=\"#DejaVuSans-1077\"/>\n      <use x=\"918.896484\" xlink:href=\"#DejaVuSans-1083\"/>\n      <use x=\"982.8125\" xlink:href=\"#DejaVuSans-1100\"/>\n      <use x=\"1041.748047\" xlink:href=\"#DejaVuSans-1089\"/>\n      <use x=\"1096.728516\" xlink:href=\"#DejaVuSans-1090\"/>\n      <use x=\"1154.980469\" xlink:href=\"#DejaVuSans-1074\"/>\n      <use x=\"1213.916016\" xlink:href=\"#DejaVuSans-1072\"/>\n      <use x=\"1275.195312\" xlink:href=\"#DejaVuSans-32\"/>\n      <use x=\"1306.982422\" xlink:href=\"#DejaVuSans-1056\"/>\n      <use x=\"1367.285156\" xlink:href=\"#DejaVuSans-1086\"/>\n      <use x=\"1428.466797\" xlink:href=\"#DejaVuSans-1089\"/>\n      <use x=\"1483.447266\" xlink:href=\"#DejaVuSans-1089\"/>\n      <use x=\"1538.427734\" xlink:href=\"#DejaVuSans-1080\"/>\n      <use x=\"1603.417969\" xlink:href=\"#DejaVuSans-1081\"/>\n      <use x=\"1668.408203\" xlink:href=\"#DejaVuSans-1089\"/>\n      <use x=\"1723.388672\" xlink:href=\"#DejaVuSans-1082\"/>\n      <use x=\"1783.789062\" xlink:href=\"#DejaVuSans-1086\"/>\n      <use x=\"1844.970703\" xlink:href=\"#DejaVuSans-1081\"/>\n      <use x=\"1909.960938\" xlink:href=\"#DejaVuSans-32\"/>\n      <use x=\"1941.748047\" xlink:href=\"#DejaVuSans-1060\"/>\n      <use x=\"2027.832031\" xlink:href=\"#DejaVuSans-1077\"/>\n      <use x=\"2089.355469\" xlink:href=\"#DejaVuSans-1076\"/>\n      <use x=\"2158.496094\" xlink:href=\"#DejaVuSans-1077\"/>\n      <use x=\"2220.019531\" xlink:href=\"#DejaVuSans-1088\"/>\n      <use x=\"2283.496094\" xlink:href=\"#DejaVuSans-1072\"/>\n      <use x=\"2344.775391\" xlink:href=\"#DejaVuSans-1094\"/>\n      <use x=\"2412.841797\" xlink:href=\"#DejaVuSans-1080\"/>\n      <use x=\"2477.832031\" xlink:href=\"#DejaVuSans-1080\"/>\n     </g>\n    </g>\n    <g id=\"patch_17\">\n     <path d=\"M 11.2 83.021875 \nL 31.2 83.021875 \nL 31.2 76.021875 \nL 11.2 76.021875 \nz\n\" style=\"fill:#9467bd;opacity:0.75;\"/>\n    </g>\n    <g id=\"text_14\">\n     <!-- Министерство образования Тульской области -->\n     <defs>\n      <path d=\"M -0.296875 72.90625 \nL 61.375 72.90625 \nL 61.375 64.59375 \nL 35.5 64.59375 \nL 35.5 0 \nL 25.59375 0 \nL 25.59375 64.59375 \nL -0.296875 64.59375 \nz\n\" id=\"DejaVuSans-1058\"/>\n     </defs>\n     <g transform=\"translate(39.2 83.021875)scale(0.1 -0.1)\">\n      <use xlink:href=\"#DejaVuSans-1052\"/>\n      <use x=\"86.279297\" xlink:href=\"#DejaVuSans-1080\"/>\n      <use x=\"151.269531\" xlink:href=\"#DejaVuSans-1085\"/>\n      <use x=\"216.650391\" xlink:href=\"#DejaVuSans-1080\"/>\n      <use x=\"281.640625\" xlink:href=\"#DejaVuSans-1089\"/>\n      <use x=\"336.621094\" xlink:href=\"#DejaVuSans-1090\"/>\n      <use x=\"394.873047\" xlink:href=\"#DejaVuSans-1077\"/>\n      <use x=\"456.396484\" xlink:href=\"#DejaVuSans-1088\"/>\n      <use x=\"519.873047\" xlink:href=\"#DejaVuSans-1089\"/>\n      <use x=\"574.853516\" xlink:href=\"#DejaVuSans-1090\"/>\n      <use x=\"633.105469\" xlink:href=\"#DejaVuSans-1074\"/>\n      <use x=\"692.041016\" xlink:href=\"#DejaVuSans-1086\"/>\n      <use x=\"753.222656\" xlink:href=\"#DejaVuSans-32\"/>\n      <use x=\"785.009766\" xlink:href=\"#DejaVuSans-1086\"/>\n      <use x=\"846.191406\" xlink:href=\"#DejaVuSans-1073\"/>\n      <use x=\"907.861328\" xlink:href=\"#DejaVuSans-1088\"/>\n      <use x=\"971.337891\" xlink:href=\"#DejaVuSans-1072\"/>\n      <use x=\"1032.617188\" xlink:href=\"#DejaVuSans-1079\"/>\n      <use x=\"1085.791016\" xlink:href=\"#DejaVuSans-1086\"/>\n      <use x=\"1146.972656\" xlink:href=\"#DejaVuSans-1074\"/>\n      <use x=\"1205.908203\" xlink:href=\"#DejaVuSans-1072\"/>\n      <use x=\"1267.1875\" xlink:href=\"#DejaVuSans-1085\"/>\n      <use x=\"1332.568359\" xlink:href=\"#DejaVuSans-1080\"/>\n      <use x=\"1397.558594\" xlink:href=\"#DejaVuSans-1103\"/>\n      <use x=\"1457.714844\" xlink:href=\"#DejaVuSans-32\"/>\n      <use x=\"1489.501953\" xlink:href=\"#DejaVuSans-1058\"/>\n      <use x=\"1550.585938\" xlink:href=\"#DejaVuSans-1091\"/>\n      <use x=\"1609.765625\" xlink:href=\"#DejaVuSans-1083\"/>\n      <use x=\"1673.681641\" xlink:href=\"#DejaVuSans-1100\"/>\n      <use x=\"1732.617188\" xlink:href=\"#DejaVuSans-1089\"/>\n      <use x=\"1787.597656\" xlink:href=\"#DejaVuSans-1082\"/>\n      <use x=\"1847.998047\" xlink:href=\"#DejaVuSans-1086\"/>\n      <use x=\"1909.179688\" xlink:href=\"#DejaVuSans-1081\"/>\n      <use x=\"1974.169922\" xlink:href=\"#DejaVuSans-32\"/>\n      <use x=\"2005.957031\" xlink:href=\"#DejaVuSans-1086\"/>\n      <use x=\"2067.138672\" xlink:href=\"#DejaVuSans-1073\"/>\n      <use x=\"2128.808594\" xlink:href=\"#DejaVuSans-1083\"/>\n      <use x=\"2192.724609\" xlink:href=\"#DejaVuSans-1072\"/>\n      <use x=\"2254.003906\" xlink:href=\"#DejaVuSans-1089\"/>\n      <use x=\"2308.984375\" xlink:href=\"#DejaVuSans-1090\"/>\n      <use x=\"2367.236328\" xlink:href=\"#DejaVuSans-1080\"/>\n     </g>\n    </g>\n   </g>\n  </g>\n </g>\n <defs>\n  <clipPath id=\"pb61b9d5cd9\">\n   <rect height=\"217.44\" width=\"334.8\" x=\"487.670313\" y=\"7.2\"/>\n  </clipPath>\n </defs>\n</svg>\n"
          },
          "metadata": {
            "needs_background": "light"
          }
        }
      ]
    },
    {
      "cell_type": "code",
      "source": [
        "ten = df.Адресат.value_counts()[:10]\n",
        "dict_ten = {}\n",
        "for i in ten.reset_index().values:\n",
        "    dict_ten[i[0]] = i[1]\n",
        "info = pd.DataFrame(dict_ten, index=[\"Адресаты\"])\n",
        "fig, ax = plt.subplots()\n",
        "info.plot(kind='bar', ax=ax, rot=0)"
      ],
      "metadata": {
        "colab": {
          "base_uri": "https://localhost:8080/",
          "height": 370
        },
        "id": "YhCMZLOx48yu",
        "outputId": "c6c802bd-d475-4c99-ba62-72d81733ff2b"
      },
      "execution_count": null,
      "outputs": [
        {
          "output_type": "execute_result",
          "data": {
            "text/plain": [
              "<matplotlib.axes._subplots.AxesSubplot at 0x7fd15e1f7850>"
            ]
          },
          "metadata": {},
          "execution_count": 181
        },
        {
          "output_type": "display_data",
          "data": {
            "text/plain": [
              "<Figure size 432x288 with 1 Axes>"
            ],
            "image/svg+xml": "<?xml version=\"1.0\" encoding=\"utf-8\" standalone=\"no\"?>\n<!DOCTYPE svg PUBLIC \"-//W3C//DTD SVG 1.1//EN\"\n  \"http://www.w3.org/Graphics/SVG/1.1/DTD/svg11.dtd\">\n<!-- Created with matplotlib (https://matplotlib.org/) -->\n<svg height=\"248.518125pt\" version=\"1.1\" viewBox=\"0 0 381.65 248.518125\" width=\"381.65pt\" xmlns=\"http://www.w3.org/2000/svg\" xmlns:xlink=\"http://www.w3.org/1999/xlink\">\n <defs>\n  <style type=\"text/css\">\n*{stroke-linecap:butt;stroke-linejoin:round;}\n  </style>\n </defs>\n <g id=\"figure_1\">\n  <g id=\"patch_1\">\n   <path d=\"M -0 248.518125 \nL 381.65 248.518125 \nL 381.65 0 \nL -0 0 \nz\n\" style=\"fill:none;\"/>\n  </g>\n  <g id=\"axes_1\">\n   <g id=\"patch_2\">\n    <path d=\"M 39.65 224.64 \nL 374.45 224.64 \nL 374.45 7.2 \nL 39.65 7.2 \nz\n\" style=\"fill:#ffffff;\"/>\n   </g>\n   <g id=\"patch_3\">\n    <path clip-path=\"url(#p12f4c5dcd9)\" d=\"M 123.35 224.64 \nL 140.09 224.64 \nL 140.09 17.554286 \nL 123.35 17.554286 \nz\n\" style=\"fill:#1f77b4;\"/>\n   </g>\n   <g id=\"patch_4\">\n    <path clip-path=\"url(#p12f4c5dcd9)\" d=\"M 140.09 224.64 \nL 156.83 224.64 \nL 156.83 29.774867 \nL 140.09 29.774867 \nz\n\" style=\"fill:#ff7f0e;\"/>\n   </g>\n   <g id=\"patch_5\">\n    <path clip-path=\"url(#p12f4c5dcd9)\" d=\"M 156.83 224.64 \nL 173.57 224.64 \nL 173.57 182.797793 \nL 156.83 182.797793 \nz\n\" style=\"fill:#2ca02c;\"/>\n   </g>\n   <g id=\"patch_6\">\n    <path clip-path=\"url(#p12f4c5dcd9)\" d=\"M 173.57 224.64 \nL 190.31 224.64 \nL 190.31 193.557218 \nL 173.57 193.557218 \nz\n\" style=\"fill:#d62728;\"/>\n   </g>\n   <g id=\"patch_7\">\n    <path clip-path=\"url(#p12f4c5dcd9)\" d=\"M 190.31 224.64 \nL 207.05 224.64 \nL 207.05 194.22138 \nL 190.31 194.22138 \nz\n\" style=\"fill:#9467bd;\"/>\n   </g>\n   <g id=\"patch_8\">\n    <path clip-path=\"url(#p12f4c5dcd9)\" d=\"M 207.05 224.64 \nL 223.79 224.64 \nL 223.79 207.238955 \nL 207.05 207.238955 \nz\n\" style=\"fill:#8c564b;\"/>\n   </g>\n   <g id=\"patch_9\">\n    <path clip-path=\"url(#p12f4c5dcd9)\" d=\"M 223.79 224.64 \nL 240.53 224.64 \nL 240.53 208.301615 \nL 223.79 208.301615 \nz\n\" style=\"fill:#e377c2;\"/>\n   </g>\n   <g id=\"patch_10\">\n    <path clip-path=\"url(#p12f4c5dcd9)\" d=\"M 240.53 224.64 \nL 257.27 224.64 \nL 257.27 211.755257 \nL 240.53 211.755257 \nz\n\" style=\"fill:#7f7f7f;\"/>\n   </g>\n   <g id=\"patch_11\">\n    <path clip-path=\"url(#p12f4c5dcd9)\" d=\"M 257.27 224.64 \nL 274.01 224.64 \nL 274.01 213.747743 \nL 257.27 213.747743 \nz\n\" style=\"fill:#bcbd22;\"/>\n   </g>\n   <g id=\"patch_12\">\n    <path clip-path=\"url(#p12f4c5dcd9)\" d=\"M 274.01 224.64 \nL 290.75 224.64 \nL 290.75 214.013408 \nL 274.01 214.013408 \nz\n\" style=\"fill:#17becf;\"/>\n   </g>\n   <g id=\"matplotlib.axis_1\">\n    <g id=\"xtick_1\">\n     <g id=\"line2d_1\">\n      <defs>\n       <path d=\"M 0 0 \nL 0 3.5 \n\" id=\"mf06c89fb3d\" style=\"stroke:#000000;stroke-width:0.8;\"/>\n      </defs>\n      <g>\n       <use style=\"stroke:#000000;stroke-width:0.8;\" x=\"207.05\" xlink:href=\"#mf06c89fb3d\" y=\"224.64\"/>\n      </g>\n     </g>\n     <g id=\"text_1\">\n      <!-- Адресаты -->\n      <defs>\n       <path d=\"M 34.1875 63.1875 \nL 20.796875 26.90625 \nL 47.609375 26.90625 \nz\nM 28.609375 72.90625 \nL 39.796875 72.90625 \nL 67.578125 0 \nL 57.328125 0 \nL 50.6875 18.703125 \nL 17.828125 18.703125 \nL 11.1875 0 \nL 0.78125 0 \nz\n\" id=\"DejaVuSans-1040\"/>\n       <path d=\"M 21.625 7.171875 \nL 47.703125 7.171875 \nL 47.703125 47.515625 \nL 28.8125 47.515625 \nL 28.8125 40.671875 \nQ 28.8125 20.5625 23.046875 9.8125 \nz\nM 8.59375 7.171875 \nQ 13.03125 9.125 14.984375 13.28125 \nQ 19.78125 23.578125 19.78125 44.34375 \nL 19.78125 54.6875 \nL 56.734375 54.6875 \nL 56.734375 7.171875 \nL 63.921875 7.171875 \nL 63.921875 -13.8125 \nL 56.734375 -13.8125 \nL 56.734375 0 \nL 12.40625 0 \nL 12.40625 -13.8125 \nL 5.21875 -13.8125 \nL 5.21875 7.171875 \nz\n\" id=\"DejaVuSans-1076\"/>\n       <path d=\"M 18.109375 8.203125 \nL 18.109375 -20.796875 \nL 9.078125 -20.796875 \nL 9.078125 54.6875 \nL 18.109375 54.6875 \nL 18.109375 46.390625 \nQ 20.953125 51.265625 25.265625 53.625 \nQ 29.59375 56 35.59375 56 \nQ 45.5625 56 51.78125 48.09375 \nQ 58.015625 40.1875 58.015625 27.296875 \nQ 58.015625 14.40625 51.78125 6.484375 \nQ 45.5625 -1.421875 35.59375 -1.421875 \nQ 29.59375 -1.421875 25.265625 0.953125 \nQ 20.953125 3.328125 18.109375 8.203125 \nz\nM 48.6875 27.296875 \nQ 48.6875 37.203125 44.609375 42.84375 \nQ 40.53125 48.484375 33.40625 48.484375 \nQ 26.265625 48.484375 22.1875 42.84375 \nQ 18.109375 37.203125 18.109375 27.296875 \nQ 18.109375 17.390625 22.1875 11.75 \nQ 26.265625 6.109375 33.40625 6.109375 \nQ 40.53125 6.109375 44.609375 11.75 \nQ 48.6875 17.390625 48.6875 27.296875 \nz\n\" id=\"DejaVuSans-1088\"/>\n       <path d=\"M 56.203125 29.59375 \nL 56.203125 25.203125 \nL 14.890625 25.203125 \nQ 15.484375 15.921875 20.484375 11.0625 \nQ 25.484375 6.203125 34.421875 6.203125 \nQ 39.59375 6.203125 44.453125 7.46875 \nQ 49.3125 8.734375 54.109375 11.28125 \nL 54.109375 2.78125 \nQ 49.265625 0.734375 44.1875 -0.34375 \nQ 39.109375 -1.421875 33.890625 -1.421875 \nQ 20.796875 -1.421875 13.15625 6.1875 \nQ 5.515625 13.8125 5.515625 26.8125 \nQ 5.515625 40.234375 12.765625 48.109375 \nQ 20.015625 56 32.328125 56 \nQ 43.359375 56 49.78125 48.890625 \nQ 56.203125 41.796875 56.203125 29.59375 \nz\nM 47.21875 32.234375 \nQ 47.125 39.59375 43.09375 43.984375 \nQ 39.0625 48.390625 32.421875 48.390625 \nQ 24.90625 48.390625 20.390625 44.140625 \nQ 15.875 39.890625 15.1875 32.171875 \nz\n\" id=\"DejaVuSans-1077\"/>\n       <path d=\"M 48.78125 52.59375 \nL 48.78125 44.1875 \nQ 44.96875 46.296875 41.140625 47.34375 \nQ 37.3125 48.390625 33.40625 48.390625 \nQ 24.65625 48.390625 19.8125 42.84375 \nQ 14.984375 37.3125 14.984375 27.296875 \nQ 14.984375 17.28125 19.8125 11.734375 \nQ 24.65625 6.203125 33.40625 6.203125 \nQ 37.3125 6.203125 41.140625 7.25 \nQ 44.96875 8.296875 48.78125 10.40625 \nL 48.78125 2.09375 \nQ 45.015625 0.34375 40.984375 -0.53125 \nQ 36.96875 -1.421875 32.421875 -1.421875 \nQ 20.0625 -1.421875 12.78125 6.34375 \nQ 5.515625 14.109375 5.515625 27.296875 \nQ 5.515625 40.671875 12.859375 48.328125 \nQ 20.21875 56 33.015625 56 \nQ 37.15625 56 41.109375 55.140625 \nQ 45.0625 54.296875 48.78125 52.59375 \nz\n\" id=\"DejaVuSans-1089\"/>\n       <path d=\"M 34.28125 27.484375 \nQ 23.390625 27.484375 19.1875 25 \nQ 14.984375 22.515625 14.984375 16.5 \nQ 14.984375 11.71875 18.140625 8.90625 \nQ 21.296875 6.109375 26.703125 6.109375 \nQ 34.1875 6.109375 38.703125 11.40625 \nQ 43.21875 16.703125 43.21875 25.484375 \nL 43.21875 27.484375 \nz\nM 52.203125 31.203125 \nL 52.203125 0 \nL 43.21875 0 \nL 43.21875 8.296875 \nQ 40.140625 3.328125 35.546875 0.953125 \nQ 30.953125 -1.421875 24.3125 -1.421875 \nQ 15.921875 -1.421875 10.953125 3.296875 \nQ 6 8.015625 6 15.921875 \nQ 6 25.140625 12.171875 29.828125 \nQ 18.359375 34.515625 30.609375 34.515625 \nL 43.21875 34.515625 \nL 43.21875 35.40625 \nQ 43.21875 41.609375 39.140625 45 \nQ 35.0625 48.390625 27.6875 48.390625 \nQ 23 48.390625 18.546875 47.265625 \nQ 14.109375 46.140625 10.015625 43.890625 \nL 10.015625 52.203125 \nQ 14.9375 54.109375 19.578125 55.046875 \nQ 24.21875 56 28.609375 56 \nQ 40.484375 56 46.34375 49.84375 \nQ 52.203125 43.703125 52.203125 31.203125 \nz\n\" id=\"DejaVuSans-1072\"/>\n       <path d=\"M 2.9375 54.6875 \nL 55.328125 54.6875 \nL 55.328125 47.515625 \nL 33.546875 47.515625 \nL 33.546875 0 \nL 24.703125 0 \nL 24.703125 47.515625 \nL 2.9375 47.515625 \nz\n\" id=\"DejaVuSans-1090\"/>\n       <path d=\"M 61.046875 54.6875 \nL 70.03125 54.6875 \nL 70.03125 0 \nL 61.046875 0 \nz\nM 65.546875 56 \nz\nM 43.453125 16.21875 \nQ 43.453125 20.609375 40.25 22.90625 \nQ 37.0625 25.203125 30.90625 25.203125 \nL 18.109375 25.203125 \nL 18.109375 7.171875 \nL 30.90625 7.171875 \nQ 37.0625 7.171875 40.25 9.484375 \nQ 43.453125 11.8125 43.453125 16.21875 \nz\nM 9.078125 54.6875 \nL 18.109375 54.6875 \nL 18.109375 32.375 \nL 31.296875 32.375 \nQ 41.75 32.375 47.390625 28.390625 \nQ 53.03125 24.421875 53.03125 16.21875 \nQ 53.03125 8.015625 47.390625 4 \nQ 41.75 0 31.296875 0 \nL 9.078125 0 \nz\n\" id=\"DejaVuSans-1099\"/>\n      </defs>\n      <g transform=\"translate(181.248438 239.238437)scale(0.1 -0.1)\">\n       <use xlink:href=\"#DejaVuSans-1040\"/>\n       <use x=\"68.408203\" xlink:href=\"#DejaVuSans-1076\"/>\n       <use x=\"137.548828\" xlink:href=\"#DejaVuSans-1088\"/>\n       <use x=\"201.025391\" xlink:href=\"#DejaVuSans-1077\"/>\n       <use x=\"262.548828\" xlink:href=\"#DejaVuSans-1089\"/>\n       <use x=\"317.529297\" xlink:href=\"#DejaVuSans-1072\"/>\n       <use x=\"378.808594\" xlink:href=\"#DejaVuSans-1090\"/>\n       <use x=\"437.060547\" xlink:href=\"#DejaVuSans-1099\"/>\n      </g>\n     </g>\n    </g>\n   </g>\n   <g id=\"matplotlib.axis_2\">\n    <g id=\"ytick_1\">\n     <g id=\"line2d_2\">\n      <defs>\n       <path d=\"M 0 0 \nL -3.5 0 \n\" id=\"m50fec7ea03\" style=\"stroke:#000000;stroke-width:0.8;\"/>\n      </defs>\n      <g>\n       <use style=\"stroke:#000000;stroke-width:0.8;\" x=\"39.65\" xlink:href=\"#m50fec7ea03\" y=\"224.64\"/>\n      </g>\n     </g>\n     <g id=\"text_2\">\n      <!-- 0 -->\n      <defs>\n       <path d=\"M 31.78125 66.40625 \nQ 24.171875 66.40625 20.328125 58.90625 \nQ 16.5 51.421875 16.5 36.375 \nQ 16.5 21.390625 20.328125 13.890625 \nQ 24.171875 6.390625 31.78125 6.390625 \nQ 39.453125 6.390625 43.28125 13.890625 \nQ 47.125 21.390625 47.125 36.375 \nQ 47.125 51.421875 43.28125 58.90625 \nQ 39.453125 66.40625 31.78125 66.40625 \nz\nM 31.78125 74.21875 \nQ 44.046875 74.21875 50.515625 64.515625 \nQ 56.984375 54.828125 56.984375 36.375 \nQ 56.984375 17.96875 50.515625 8.265625 \nQ 44.046875 -1.421875 31.78125 -1.421875 \nQ 19.53125 -1.421875 13.0625 8.265625 \nQ 6.59375 17.96875 6.59375 36.375 \nQ 6.59375 54.828125 13.0625 64.515625 \nQ 19.53125 74.21875 31.78125 74.21875 \nz\n\" id=\"DejaVuSans-48\"/>\n      </defs>\n      <g transform=\"translate(26.2875 228.439219)scale(0.1 -0.1)\">\n       <use xlink:href=\"#DejaVuSans-48\"/>\n      </g>\n     </g>\n    </g>\n    <g id=\"ytick_2\">\n     <g id=\"line2d_3\">\n      <g>\n       <use style=\"stroke:#000000;stroke-width:0.8;\" x=\"39.65\" xlink:href=\"#m50fec7ea03\" y=\"198.07352\"/>\n      </g>\n     </g>\n     <g id=\"text_3\">\n      <!-- 200 -->\n      <defs>\n       <path d=\"M 19.1875 8.296875 \nL 53.609375 8.296875 \nL 53.609375 0 \nL 7.328125 0 \nL 7.328125 8.296875 \nQ 12.9375 14.109375 22.625 23.890625 \nQ 32.328125 33.6875 34.8125 36.53125 \nQ 39.546875 41.84375 41.421875 45.53125 \nQ 43.3125 49.21875 43.3125 52.78125 \nQ 43.3125 58.59375 39.234375 62.25 \nQ 35.15625 65.921875 28.609375 65.921875 \nQ 23.96875 65.921875 18.8125 64.3125 \nQ 13.671875 62.703125 7.8125 59.421875 \nL 7.8125 69.390625 \nQ 13.765625 71.78125 18.9375 73 \nQ 24.125 74.21875 28.421875 74.21875 \nQ 39.75 74.21875 46.484375 68.546875 \nQ 53.21875 62.890625 53.21875 53.421875 \nQ 53.21875 48.921875 51.53125 44.890625 \nQ 49.859375 40.875 45.40625 35.40625 \nQ 44.1875 33.984375 37.640625 27.21875 \nQ 31.109375 20.453125 19.1875 8.296875 \nz\n\" id=\"DejaVuSans-50\"/>\n      </defs>\n      <g transform=\"translate(13.5625 201.872738)scale(0.1 -0.1)\">\n       <use xlink:href=\"#DejaVuSans-50\"/>\n       <use x=\"63.623047\" xlink:href=\"#DejaVuSans-48\"/>\n       <use x=\"127.246094\" xlink:href=\"#DejaVuSans-48\"/>\n      </g>\n     </g>\n    </g>\n    <g id=\"ytick_3\">\n     <g id=\"line2d_4\">\n      <g>\n       <use style=\"stroke:#000000;stroke-width:0.8;\" x=\"39.65\" xlink:href=\"#m50fec7ea03\" y=\"171.507039\"/>\n      </g>\n     </g>\n     <g id=\"text_4\">\n      <!-- 400 -->\n      <defs>\n       <path d=\"M 37.796875 64.3125 \nL 12.890625 25.390625 \nL 37.796875 25.390625 \nz\nM 35.203125 72.90625 \nL 47.609375 72.90625 \nL 47.609375 25.390625 \nL 58.015625 25.390625 \nL 58.015625 17.1875 \nL 47.609375 17.1875 \nL 47.609375 0 \nL 37.796875 0 \nL 37.796875 17.1875 \nL 4.890625 17.1875 \nL 4.890625 26.703125 \nz\n\" id=\"DejaVuSans-52\"/>\n      </defs>\n      <g transform=\"translate(13.5625 175.306258)scale(0.1 -0.1)\">\n       <use xlink:href=\"#DejaVuSans-52\"/>\n       <use x=\"63.623047\" xlink:href=\"#DejaVuSans-48\"/>\n       <use x=\"127.246094\" xlink:href=\"#DejaVuSans-48\"/>\n      </g>\n     </g>\n    </g>\n    <g id=\"ytick_4\">\n     <g id=\"line2d_5\">\n      <g>\n       <use style=\"stroke:#000000;stroke-width:0.8;\" x=\"39.65\" xlink:href=\"#m50fec7ea03\" y=\"144.940559\"/>\n      </g>\n     </g>\n     <g id=\"text_5\">\n      <!-- 600 -->\n      <defs>\n       <path d=\"M 33.015625 40.375 \nQ 26.375 40.375 22.484375 35.828125 \nQ 18.609375 31.296875 18.609375 23.390625 \nQ 18.609375 15.53125 22.484375 10.953125 \nQ 26.375 6.390625 33.015625 6.390625 \nQ 39.65625 6.390625 43.53125 10.953125 \nQ 47.40625 15.53125 47.40625 23.390625 \nQ 47.40625 31.296875 43.53125 35.828125 \nQ 39.65625 40.375 33.015625 40.375 \nz\nM 52.59375 71.296875 \nL 52.59375 62.3125 \nQ 48.875 64.0625 45.09375 64.984375 \nQ 41.3125 65.921875 37.59375 65.921875 \nQ 27.828125 65.921875 22.671875 59.328125 \nQ 17.53125 52.734375 16.796875 39.40625 \nQ 19.671875 43.65625 24.015625 45.921875 \nQ 28.375 48.1875 33.59375 48.1875 \nQ 44.578125 48.1875 50.953125 41.515625 \nQ 57.328125 34.859375 57.328125 23.390625 \nQ 57.328125 12.15625 50.6875 5.359375 \nQ 44.046875 -1.421875 33.015625 -1.421875 \nQ 20.359375 -1.421875 13.671875 8.265625 \nQ 6.984375 17.96875 6.984375 36.375 \nQ 6.984375 53.65625 15.1875 63.9375 \nQ 23.390625 74.21875 37.203125 74.21875 \nQ 40.921875 74.21875 44.703125 73.484375 \nQ 48.484375 72.75 52.59375 71.296875 \nz\n\" id=\"DejaVuSans-54\"/>\n      </defs>\n      <g transform=\"translate(13.5625 148.739778)scale(0.1 -0.1)\">\n       <use xlink:href=\"#DejaVuSans-54\"/>\n       <use x=\"63.623047\" xlink:href=\"#DejaVuSans-48\"/>\n       <use x=\"127.246094\" xlink:href=\"#DejaVuSans-48\"/>\n      </g>\n     </g>\n    </g>\n    <g id=\"ytick_5\">\n     <g id=\"line2d_6\">\n      <g>\n       <use style=\"stroke:#000000;stroke-width:0.8;\" x=\"39.65\" xlink:href=\"#m50fec7ea03\" y=\"118.374079\"/>\n      </g>\n     </g>\n     <g id=\"text_6\">\n      <!-- 800 -->\n      <defs>\n       <path d=\"M 31.78125 34.625 \nQ 24.75 34.625 20.71875 30.859375 \nQ 16.703125 27.09375 16.703125 20.515625 \nQ 16.703125 13.921875 20.71875 10.15625 \nQ 24.75 6.390625 31.78125 6.390625 \nQ 38.8125 6.390625 42.859375 10.171875 \nQ 46.921875 13.96875 46.921875 20.515625 \nQ 46.921875 27.09375 42.890625 30.859375 \nQ 38.875 34.625 31.78125 34.625 \nz\nM 21.921875 38.8125 \nQ 15.578125 40.375 12.03125 44.71875 \nQ 8.5 49.078125 8.5 55.328125 \nQ 8.5 64.0625 14.71875 69.140625 \nQ 20.953125 74.21875 31.78125 74.21875 \nQ 42.671875 74.21875 48.875 69.140625 \nQ 55.078125 64.0625 55.078125 55.328125 \nQ 55.078125 49.078125 51.53125 44.71875 \nQ 48 40.375 41.703125 38.8125 \nQ 48.828125 37.15625 52.796875 32.3125 \nQ 56.78125 27.484375 56.78125 20.515625 \nQ 56.78125 9.90625 50.3125 4.234375 \nQ 43.84375 -1.421875 31.78125 -1.421875 \nQ 19.734375 -1.421875 13.25 4.234375 \nQ 6.78125 9.90625 6.78125 20.515625 \nQ 6.78125 27.484375 10.78125 32.3125 \nQ 14.796875 37.15625 21.921875 38.8125 \nz\nM 18.3125 54.390625 \nQ 18.3125 48.734375 21.84375 45.5625 \nQ 25.390625 42.390625 31.78125 42.390625 \nQ 38.140625 42.390625 41.71875 45.5625 \nQ 45.3125 48.734375 45.3125 54.390625 \nQ 45.3125 60.0625 41.71875 63.234375 \nQ 38.140625 66.40625 31.78125 66.40625 \nQ 25.390625 66.40625 21.84375 63.234375 \nQ 18.3125 60.0625 18.3125 54.390625 \nz\n\" id=\"DejaVuSans-56\"/>\n      </defs>\n      <g transform=\"translate(13.5625 122.173297)scale(0.1 -0.1)\">\n       <use xlink:href=\"#DejaVuSans-56\"/>\n       <use x=\"63.623047\" xlink:href=\"#DejaVuSans-48\"/>\n       <use x=\"127.246094\" xlink:href=\"#DejaVuSans-48\"/>\n      </g>\n     </g>\n    </g>\n    <g id=\"ytick_6\">\n     <g id=\"line2d_7\">\n      <g>\n       <use style=\"stroke:#000000;stroke-width:0.8;\" x=\"39.65\" xlink:href=\"#m50fec7ea03\" y=\"91.807598\"/>\n      </g>\n     </g>\n     <g id=\"text_7\">\n      <!-- 1000 -->\n      <defs>\n       <path d=\"M 12.40625 8.296875 \nL 28.515625 8.296875 \nL 28.515625 63.921875 \nL 10.984375 60.40625 \nL 10.984375 69.390625 \nL 28.421875 72.90625 \nL 38.28125 72.90625 \nL 38.28125 8.296875 \nL 54.390625 8.296875 \nL 54.390625 0 \nL 12.40625 0 \nz\n\" id=\"DejaVuSans-49\"/>\n      </defs>\n      <g transform=\"translate(7.2 95.606817)scale(0.1 -0.1)\">\n       <use xlink:href=\"#DejaVuSans-49\"/>\n       <use x=\"63.623047\" xlink:href=\"#DejaVuSans-48\"/>\n       <use x=\"127.246094\" xlink:href=\"#DejaVuSans-48\"/>\n       <use x=\"190.869141\" xlink:href=\"#DejaVuSans-48\"/>\n      </g>\n     </g>\n    </g>\n    <g id=\"ytick_7\">\n     <g id=\"line2d_8\">\n      <g>\n       <use style=\"stroke:#000000;stroke-width:0.8;\" x=\"39.65\" xlink:href=\"#m50fec7ea03\" y=\"65.241118\"/>\n      </g>\n     </g>\n     <g id=\"text_8\">\n      <!-- 1200 -->\n      <g transform=\"translate(7.2 69.040337)scale(0.1 -0.1)\">\n       <use xlink:href=\"#DejaVuSans-49\"/>\n       <use x=\"63.623047\" xlink:href=\"#DejaVuSans-50\"/>\n       <use x=\"127.246094\" xlink:href=\"#DejaVuSans-48\"/>\n       <use x=\"190.869141\" xlink:href=\"#DejaVuSans-48\"/>\n      </g>\n     </g>\n    </g>\n    <g id=\"ytick_8\">\n     <g id=\"line2d_9\">\n      <g>\n       <use style=\"stroke:#000000;stroke-width:0.8;\" x=\"39.65\" xlink:href=\"#m50fec7ea03\" y=\"38.674638\"/>\n      </g>\n     </g>\n     <g id=\"text_9\">\n      <!-- 1400 -->\n      <g transform=\"translate(7.2 42.473856)scale(0.1 -0.1)\">\n       <use xlink:href=\"#DejaVuSans-49\"/>\n       <use x=\"63.623047\" xlink:href=\"#DejaVuSans-52\"/>\n       <use x=\"127.246094\" xlink:href=\"#DejaVuSans-48\"/>\n       <use x=\"190.869141\" xlink:href=\"#DejaVuSans-48\"/>\n      </g>\n     </g>\n    </g>\n    <g id=\"ytick_9\">\n     <g id=\"line2d_10\">\n      <g>\n       <use style=\"stroke:#000000;stroke-width:0.8;\" x=\"39.65\" xlink:href=\"#m50fec7ea03\" y=\"12.108157\"/>\n      </g>\n     </g>\n     <g id=\"text_10\">\n      <!-- 1600 -->\n      <g transform=\"translate(7.2 15.907376)scale(0.1 -0.1)\">\n       <use xlink:href=\"#DejaVuSans-49\"/>\n       <use x=\"63.623047\" xlink:href=\"#DejaVuSans-54\"/>\n       <use x=\"127.246094\" xlink:href=\"#DejaVuSans-48\"/>\n       <use x=\"190.869141\" xlink:href=\"#DejaVuSans-48\"/>\n      </g>\n     </g>\n    </g>\n   </g>\n   <g id=\"patch_13\">\n    <path d=\"M 39.65 224.64 \nL 39.65 7.2 \n\" style=\"fill:none;stroke:#000000;stroke-linecap:square;stroke-linejoin:miter;stroke-width:0.8;\"/>\n   </g>\n   <g id=\"patch_14\">\n    <path d=\"M 374.45 224.64 \nL 374.45 7.2 \n\" style=\"fill:none;stroke:#000000;stroke-linecap:square;stroke-linejoin:miter;stroke-width:0.8;\"/>\n   </g>\n   <g id=\"patch_15\">\n    <path d=\"M 39.65 224.64 \nL 374.45 224.64 \n\" style=\"fill:none;stroke:#000000;stroke-linecap:square;stroke-linejoin:miter;stroke-width:0.8;\"/>\n   </g>\n   <g id=\"patch_16\">\n    <path d=\"M 39.65 7.2 \nL 374.45 7.2 \n\" style=\"fill:none;stroke:#000000;stroke-linecap:square;stroke-linejoin:miter;stroke-width:0.8;\"/>\n   </g>\n   <g id=\"legend_1\">\n    <g id=\"patch_17\">\n     <path d=\"M 243.370313 161.98125 \nL 367.45 161.98125 \nQ 369.45 161.98125 369.45 159.98125 \nL 369.45 14.2 \nQ 369.45 12.2 367.45 12.2 \nL 243.370313 12.2 \nQ 241.370313 12.2 241.370313 14.2 \nL 241.370313 159.98125 \nQ 241.370313 161.98125 243.370313 161.98125 \nz\n\" style=\"fill:#ffffff;opacity:0.8;stroke:#cccccc;stroke-linejoin:miter;\"/>\n    </g>\n    <g id=\"patch_18\">\n     <path d=\"M 245.370313 23.798437 \nL 265.370313 23.798437 \nL 265.370313 16.798437 \nL 245.370313 16.798437 \nz\n\" style=\"fill:#1f77b4;\"/>\n    </g>\n    <g id=\"text_11\">\n     <!-- Глушко Д.Е. -->\n     <defs>\n      <path d=\"M 9.8125 0 \nL 9.8125 72.90625 \nL 55.171875 72.90625 \nL 55.171875 64.59375 \nL 19.671875 64.59375 \nL 19.671875 0 \nz\n\" id=\"DejaVuSans-1043\"/>\n      <path d=\"M 3.71875 0 \nL 3.71875 7.46875 \nQ 12.59375 8.84375 15.328125 14.984375 \nQ 18.65625 23.640625 18.65625 45.75 \nL 18.65625 54.6875 \nL 55.609375 54.6875 \nL 55.609375 0 \nL 46.625 0 \nL 46.625 47.515625 \nL 27.640625 47.515625 \nL 27.640625 42.09375 \nQ 27.640625 21 23.34375 11.53125 \nQ 18.75 1.421875 3.71875 0 \nz\n\" id=\"DejaVuSans-1083\"/>\n      <path d=\"M 32.171875 -5.078125 \nQ 28.375 -14.84375 24.75 -17.8125 \nQ 21.140625 -20.796875 15.09375 -20.796875 \nL 7.90625 -20.796875 \nL 7.90625 -13.28125 \nL 13.1875 -13.28125 \nQ 16.890625 -13.28125 18.9375 -11.515625 \nQ 21 -9.765625 23.484375 -3.21875 \nL 25.09375 0.875 \nL 2.984375 54.6875 \nL 12.5 54.6875 \nL 29.59375 11.921875 \nL 46.6875 54.6875 \nL 56.203125 54.6875 \nz\n\" id=\"DejaVuSans-1091\"/>\n      <path d=\"M 50.25 7.171875 \nL 73.390625 7.171875 \nL 73.390625 54.6875 \nL 82.421875 54.6875 \nL 82.421875 0 \nL 9.078125 0 \nL 9.078125 54.6875 \nL 18.109375 54.6875 \nL 18.109375 7.171875 \nL 41.21875 7.171875 \nL 41.21875 54.6875 \nL 50.25 54.6875 \nz\n\" id=\"DejaVuSans-1096\"/>\n      <path d=\"M 9.078125 54.6875 \nL 18.015625 54.6875 \nL 18.015625 29 \nL 43.359375 54.6875 \nL 54.390625 54.6875 \nL 33.5 33.546875 \nL 57.078125 0 \nL 47.015625 0 \nL 27.640625 27.59375 \nL 18.015625 17.828125 \nL 18.015625 0 \nL 9.078125 0 \nz\n\" id=\"DejaVuSans-1082\"/>\n      <path d=\"M 30.609375 48.390625 \nQ 23.390625 48.390625 19.1875 42.75 \nQ 14.984375 37.109375 14.984375 27.296875 \nQ 14.984375 17.484375 19.15625 11.84375 \nQ 23.34375 6.203125 30.609375 6.203125 \nQ 37.796875 6.203125 41.984375 11.859375 \nQ 46.1875 17.53125 46.1875 27.296875 \nQ 46.1875 37.015625 41.984375 42.703125 \nQ 37.796875 48.390625 30.609375 48.390625 \nz\nM 30.609375 56 \nQ 42.328125 56 49.015625 48.375 \nQ 55.71875 40.765625 55.71875 27.296875 \nQ 55.71875 13.875 49.015625 6.21875 \nQ 42.328125 -1.421875 30.609375 -1.421875 \nQ 18.84375 -1.421875 12.171875 6.21875 \nQ 5.515625 13.875 5.515625 27.296875 \nQ 5.515625 40.765625 12.171875 48.375 \nQ 18.84375 56 30.609375 56 \nz\n\" id=\"DejaVuSans-1086\"/>\n      <path id=\"DejaVuSans-32\"/>\n      <path d=\"M 22.796875 8.296875 \nL 55.03125 8.296875 \nL 55.03125 64.59375 \nL 31.34375 64.59375 \nL 31.34375 54.25 \nQ 31.34375 29.890625 25.875 13.71875 \nQ 24.75 10.40625 22.796875 8.296875 \nz\nM 8.40625 8.296875 \nQ 14.9375 11.375 16.796875 17.234375 \nQ 21.53125 32.28125 21.53125 59.125 \nL 21.53125 72.90625 \nL 64.890625 72.90625 \nL 64.890625 8.296875 \nL 73.1875 8.296875 \nL 73.1875 -15.671875 \nL 64.890625 -15.671875 \nL 64.890625 0 \nL 13.234375 0 \nL 13.234375 -15.671875 \nL 4.9375 -15.671875 \nL 4.9375 8.296875 \nz\n\" id=\"DejaVuSans-1044\"/>\n      <path d=\"M 10.6875 12.40625 \nL 21 12.40625 \nL 21 0 \nL 10.6875 0 \nz\n\" id=\"DejaVuSans-46\"/>\n      <path d=\"M 9.8125 72.90625 \nL 55.90625 72.90625 \nL 55.90625 64.59375 \nL 19.671875 64.59375 \nL 19.671875 43.015625 \nL 54.390625 43.015625 \nL 54.390625 34.71875 \nL 19.671875 34.71875 \nL 19.671875 8.296875 \nL 56.78125 8.296875 \nL 56.78125 0 \nL 9.8125 0 \nz\n\" id=\"DejaVuSans-1045\"/>\n     </defs>\n     <g transform=\"translate(273.370313 23.798437)scale(0.1 -0.1)\">\n      <use xlink:href=\"#DejaVuSans-1043\"/>\n      <use x=\"60.986328\" xlink:href=\"#DejaVuSans-1083\"/>\n      <use x=\"124.902344\" xlink:href=\"#DejaVuSans-1091\"/>\n      <use x=\"184.082031\" xlink:href=\"#DejaVuSans-1096\"/>\n      <use x=\"275.585938\" xlink:href=\"#DejaVuSans-1082\"/>\n      <use x=\"335.986328\" xlink:href=\"#DejaVuSans-1086\"/>\n      <use x=\"397.167969\" xlink:href=\"#DejaVuSans-32\"/>\n      <use x=\"428.955078\" xlink:href=\"#DejaVuSans-1044\"/>\n      <use x=\"507.080078\" xlink:href=\"#DejaVuSans-46\"/>\n      <use x=\"538.867188\" xlink:href=\"#DejaVuSans-1045\"/>\n      <use x=\"602.050781\" xlink:href=\"#DejaVuSans-46\"/>\n     </g>\n    </g>\n    <g id=\"patch_19\">\n     <path d=\"M 245.370313 38.476562 \nL 265.370313 38.476562 \nL 265.370313 31.476562 \nL 245.370313 31.476562 \nz\n\" style=\"fill:#ff7f0e;\"/>\n    </g>\n    <g id=\"text_12\">\n     <!-- Уразов Р.Н. -->\n     <defs>\n      <path d=\"M 31.984375 8.84375 \nQ 30.953125 6.390625 29.390625 4.546875 \nQ 25.53125 0 13.28125 0 \nL 9.515625 0 \nL 9.515625 8.296875 \nL 12.59375 8.296875 \nQ 18.40625 8.296875 20.65625 9.625 \nQ 22.015625 10.453125 22.90625 12.5 \nL 25.09375 17.671875 \nL 1.703125 72.90625 \nL 12.3125 72.90625 \nL 30.421875 30.125 \nL 48.640625 72.90625 \nL 59.234375 72.90625 \nz\n\" id=\"DejaVuSans-1059\"/>\n      <path d=\"M 34.46875 29.5 \nQ 40.53125 28.328125 43.890625 24.75 \nQ 47.265625 21.1875 47.265625 15.921875 \nQ 47.265625 7.46875 40.96875 3.015625 \nQ 34.671875 -1.421875 23.046875 -1.421875 \nQ 19.140625 -1.421875 15.015625 -0.734375 \nQ 10.890625 -0.046875 6.5 1.3125 \nL 6.5 9.671875 \nQ 9.96875 7.859375 14.109375 6.953125 \nQ 18.265625 6.0625 22.796875 6.0625 \nQ 30.171875 6.0625 34.296875 8.796875 \nQ 38.421875 11.53125 38.421875 15.921875 \nQ 38.421875 20.21875 34.765625 22.828125 \nQ 31.109375 25.4375 24.421875 25.4375 \nL 17.1875 25.4375 \nL 17.1875 32.859375 \nL 24.75 32.859375 \nQ 30.421875 32.859375 33.71875 35.03125 \nQ 37.015625 37.203125 37.015625 40.625 \nQ 37.015625 43.75 33.609375 46 \nQ 30.21875 48.25 24.421875 48.25 \nQ 20.953125 48.25 17.015625 47.609375 \nQ 13.09375 46.96875 8.34375 45.5625 \nL 8.34375 53.71875 \nQ 13.140625 54.890625 17.28125 55.46875 \nQ 21.4375 56.0625 25.140625 56.0625 \nQ 34.71875 56.0625 40.25 52.21875 \nQ 45.796875 48.390625 45.796875 41.5 \nQ 45.796875 36.96875 42.859375 33.8125 \nQ 39.9375 30.671875 34.46875 29.5 \nz\n\" id=\"DejaVuSans-1079\"/>\n      <path d=\"M 18.0625 25.203125 \nL 18.0625 7.171875 \nL 30.859375 7.171875 \nQ 37.015625 7.171875 40.234375 9.484375 \nQ 43.453125 11.8125 43.453125 16.21875 \nQ 43.453125 20.609375 40.234375 22.90625 \nQ 37.015625 25.203125 30.859375 25.203125 \nz\nM 18.0625 47.515625 \nL 18.0625 32.375 \nL 29.890625 32.375 \nQ 34.96875 32.375 38.1875 34.390625 \nQ 41.40625 36.421875 41.40625 40.046875 \nQ 41.40625 43.65625 38.1875 45.578125 \nQ 34.96875 47.515625 29.890625 47.515625 \nz\nM 9.078125 54.6875 \nL 30.46875 54.6875 \nQ 40.09375 54.6875 45.265625 51.171875 \nQ 50.4375 47.65625 50.4375 41.15625 \nQ 50.4375 36.140625 47.796875 33.171875 \nQ 45.171875 30.21875 39.984375 29.5 \nQ 46.1875 28.328125 49.609375 24.609375 \nQ 53.03125 20.90625 53.03125 15.328125 \nQ 53.03125 8.015625 47.390625 4 \nQ 41.75 0 31.296875 0 \nL 9.078125 0 \nz\n\" id=\"DejaVuSans-1074\"/>\n      <path d=\"M 19.671875 64.796875 \nL 19.671875 37.40625 \nL 32.078125 37.40625 \nQ 38.96875 37.40625 42.71875 40.96875 \nQ 46.484375 44.53125 46.484375 51.125 \nQ 46.484375 57.671875 42.71875 61.234375 \nQ 38.96875 64.796875 32.078125 64.796875 \nz\nM 9.8125 72.90625 \nL 32.078125 72.90625 \nQ 44.34375 72.90625 50.609375 67.359375 \nQ 56.890625 61.8125 56.890625 51.125 \nQ 56.890625 40.328125 50.609375 34.8125 \nQ 44.34375 29.296875 32.078125 29.296875 \nL 19.671875 29.296875 \nL 19.671875 0 \nL 9.8125 0 \nz\n\" id=\"DejaVuSans-1056\"/>\n      <path d=\"M 9.8125 72.90625 \nL 19.671875 72.90625 \nL 19.671875 43.015625 \nL 55.515625 43.015625 \nL 55.515625 72.90625 \nL 65.375 72.90625 \nL 65.375 0 \nL 55.515625 0 \nL 55.515625 34.71875 \nL 19.671875 34.71875 \nL 19.671875 0 \nL 9.8125 0 \nz\n\" id=\"DejaVuSans-1053\"/>\n     </defs>\n     <g transform=\"translate(273.370313 38.476562)scale(0.1 -0.1)\">\n      <use xlink:href=\"#DejaVuSans-1059\"/>\n      <use x=\"60.9375\" xlink:href=\"#DejaVuSans-1088\"/>\n      <use x=\"124.414062\" xlink:href=\"#DejaVuSans-1072\"/>\n      <use x=\"185.693359\" xlink:href=\"#DejaVuSans-1079\"/>\n      <use x=\"238.867188\" xlink:href=\"#DejaVuSans-1086\"/>\n      <use x=\"300.048828\" xlink:href=\"#DejaVuSans-1074\"/>\n      <use x=\"358.984375\" xlink:href=\"#DejaVuSans-32\"/>\n      <use x=\"390.771484\" xlink:href=\"#DejaVuSans-1056\"/>\n      <use x=\"451.074219\" xlink:href=\"#DejaVuSans-46\"/>\n      <use x=\"482.861328\" xlink:href=\"#DejaVuSans-1053\"/>\n      <use x=\"558.056641\" xlink:href=\"#DejaVuSans-46\"/>\n     </g>\n    </g>\n    <g id=\"patch_20\">\n     <path d=\"M 245.370313 53.154687 \nL 265.370313 53.154687 \nL 265.370313 46.154687 \nL 245.370313 46.154687 \nz\n\" style=\"fill:#2ca02c;\"/>\n    </g>\n    <g id=\"text_13\">\n     <!-- Крайчинская С.Б. -->\n     <defs>\n      <path d=\"M 9.8125 72.90625 \nL 19.671875 72.90625 \nL 19.671875 36.859375 \nL 54.9375 72.90625 \nL 67.578125 72.90625 \nL 39.40625 44.09375 \nL 69.046875 0 \nL 58.296875 0 \nL 33.015625 37.546875 \nL 19.671875 23.921875 \nL 19.671875 0 \nL 9.8125 0 \nz\n\" id=\"DejaVuSans-1050\"/>\n      <path d=\"M 55.90625 54.6875 \nL 55.90625 0 \nL 46.96875 0 \nL 46.96875 43.890625 \nL 20.609375 0 \nL 9.078125 0 \nL 9.078125 54.6875 \nL 18.015625 54.6875 \nL 18.015625 10.890625 \nL 44.34375 54.6875 \nz\nM 17.21875 75.515625 \nL 22.984375 75.515625 \nQ 23.515625 71.859375 25.875 70.015625 \nQ 28.25 68.1875 32.5 68.1875 \nQ 36.703125 68.1875 39.046875 70 \nQ 41.390625 71.8125 42.015625 75.515625 \nL 47.78125 75.515625 \nQ 47.296875 68.53125 43.4375 65.015625 \nQ 39.578125 61.5 32.5 61.5 \nQ 25.421875 61.5 21.5625 65.015625 \nQ 17.703125 68.53125 17.21875 75.515625 \nz\n\" id=\"DejaVuSans-1081\"/>\n      <path d=\"M 41.015625 0 \nL 41.015625 23 \nL 24.265625 23 \nQ 16.796875 23 11.8125 27.640625 \nQ 7.328125 31.84375 7.328125 40.828125 \nL 7.328125 54.6875 \nL 16.3125 54.6875 \nL 16.3125 41.65625 \nQ 16.3125 35.9375 18.84375 33.0625 \nQ 21.4375 30.171875 26.515625 30.171875 \nL 41.015625 30.171875 \nL 41.015625 54.6875 \nL 50 54.6875 \nL 50 0 \nz\n\" id=\"DejaVuSans-1095\"/>\n      <path d=\"M 55.90625 54.6875 \nL 55.90625 0 \nL 46.96875 0 \nL 46.96875 43.890625 \nL 20.609375 0 \nL 9.078125 0 \nL 9.078125 54.6875 \nL 18.015625 54.6875 \nL 18.015625 10.890625 \nL 44.34375 54.6875 \nz\n\" id=\"DejaVuSans-1080\"/>\n      <path d=\"M 9.078125 54.6875 \nL 18.109375 54.6875 \nL 18.109375 32.375 \nL 47.265625 32.375 \nL 47.265625 54.6875 \nL 56.296875 54.6875 \nL 56.296875 0 \nL 47.265625 0 \nL 47.265625 25.203125 \nL 18.109375 25.203125 \nL 18.109375 0 \nL 9.078125 0 \nz\n\" id=\"DejaVuSans-1085\"/>\n      <path d=\"M 18.453125 38.921875 \nQ 18.453125 34.859375 21.578125 32.5625 \nQ 24.703125 30.28125 30.515625 30.28125 \nL 42.625 30.28125 \nL 42.625 47.515625 \nL 30.515625 47.515625 \nQ 24.703125 47.515625 21.578125 45.265625 \nQ 18.453125 43.015625 18.453125 38.921875 \nz\nM 5.671875 0 \nL 22.359375 23.96875 \nQ 16.703125 25.25 12.9375 28.59375 \nQ 9.1875 31.9375 9.1875 38.921875 \nQ 9.1875 46.828125 14.421875 50.75 \nQ 19.671875 54.6875 30.28125 54.6875 \nL 51.65625 54.6875 \nL 51.65625 0 \nL 42.625 0 \nL 42.625 23.09375 \nL 31.453125 23.09375 \nL 15.328125 0 \nz\n\" id=\"DejaVuSans-1103\"/>\n      <path d=\"M 64.40625 67.28125 \nL 64.40625 56.890625 \nQ 59.421875 61.53125 53.78125 63.8125 \nQ 48.140625 66.109375 41.796875 66.109375 \nQ 29.296875 66.109375 22.65625 58.46875 \nQ 16.015625 50.828125 16.015625 36.375 \nQ 16.015625 21.96875 22.65625 14.328125 \nQ 29.296875 6.6875 41.796875 6.6875 \nQ 48.140625 6.6875 53.78125 8.984375 \nQ 59.421875 11.28125 64.40625 15.921875 \nL 64.40625 5.609375 \nQ 59.234375 2.09375 53.4375 0.328125 \nQ 47.65625 -1.421875 41.21875 -1.421875 \nQ 24.65625 -1.421875 15.125 8.703125 \nQ 5.609375 18.84375 5.609375 36.375 \nQ 5.609375 53.953125 15.125 64.078125 \nQ 24.65625 74.21875 41.21875 74.21875 \nQ 47.75 74.21875 53.53125 72.484375 \nQ 59.328125 70.75 64.40625 67.28125 \nz\n\" id=\"DejaVuSans-1057\"/>\n      <path d=\"M 51.125 21.4375 \nQ 51.125 28.21875 47.28125 31.515625 \nQ 43.453125 34.8125 35.5 34.8125 \nL 19.671875 34.8125 \nL 19.671875 8.109375 \nL 35.5 8.109375 \nQ 43.453125 8.109375 47.28125 11.40625 \nQ 51.125 14.703125 51.125 21.4375 \nz\nM 56.390625 72.90625 \nL 56.390625 64.796875 \nL 19.671875 64.796875 \nL 19.671875 42.921875 \nL 35.984375 42.921875 \nQ 48.25 42.921875 54.890625 37.59375 \nQ 61.53125 32.28125 61.53125 21.4375 \nQ 61.53125 10.640625 55.109375 5.3125 \nQ 48.6875 0 35.984375 0 \nL 9.8125 0 \nL 9.8125 72.90625 \nz\n\" id=\"DejaVuSans-1041\"/>\n     </defs>\n     <g transform=\"translate(273.370313 53.154687)scale(0.1 -0.1)\">\n      <use xlink:href=\"#DejaVuSans-1050\"/>\n      <use x=\"70.996094\" xlink:href=\"#DejaVuSans-1088\"/>\n      <use x=\"134.472656\" xlink:href=\"#DejaVuSans-1072\"/>\n      <use x=\"195.751953\" xlink:href=\"#DejaVuSans-1081\"/>\n      <use x=\"260.742188\" xlink:href=\"#DejaVuSans-1095\"/>\n      <use x=\"319.824219\" xlink:href=\"#DejaVuSans-1080\"/>\n      <use x=\"384.814453\" xlink:href=\"#DejaVuSans-1085\"/>\n      <use x=\"450.195312\" xlink:href=\"#DejaVuSans-1089\"/>\n      <use x=\"505.175781\" xlink:href=\"#DejaVuSans-1082\"/>\n      <use x=\"565.576172\" xlink:href=\"#DejaVuSans-1072\"/>\n      <use x=\"626.855469\" xlink:href=\"#DejaVuSans-1103\"/>\n      <use x=\"687.011719\" xlink:href=\"#DejaVuSans-32\"/>\n      <use x=\"718.798828\" xlink:href=\"#DejaVuSans-1057\"/>\n      <use x=\"788.623047\" xlink:href=\"#DejaVuSans-46\"/>\n      <use x=\"820.410156\" xlink:href=\"#DejaVuSans-1041\"/>\n      <use x=\"889.013672\" xlink:href=\"#DejaVuSans-46\"/>\n     </g>\n    </g>\n    <g id=\"patch_21\">\n     <path d=\"M 245.370313 67.832812 \nL 265.370313 67.832812 \nL 265.370313 60.832812 \nL 245.370313 60.832812 \nz\n\" style=\"fill:#d62728;\"/>\n    </g>\n    <g id=\"text_14\">\n     <!-- Лысова С.И. -->\n     <defs>\n      <path d=\"M 4.109375 0 \nL 4.109375 8.296875 \nQ 14.703125 10.59375 17.71875 18.609375 \nQ 21.96875 31.203125 21.96875 60.5 \nL 21.96875 72.90625 \nL 65.328125 72.90625 \nL 65.328125 0 \nL 55.46875 0 \nL 55.46875 64.59375 \nL 31.78125 64.59375 \nL 31.78125 55.609375 \nQ 31.78125 27.984375 26.8125 15.09375 \nQ 22.015625 2.734375 4.109375 0 \nz\n\" id=\"DejaVuSans-1051\"/>\n      <path d=\"M 64.984375 72.90625 \nL 64.984375 0 \nL 55.421875 0 \nL 55.421875 60.984375 \nL 23.09375 0 \nL 9.8125 0 \nL 9.8125 72.90625 \nL 19.390625 72.90625 \nL 19.390625 11.921875 \nL 51.703125 72.90625 \nz\n\" id=\"DejaVuSans-1048\"/>\n     </defs>\n     <g transform=\"translate(273.370313 67.832812)scale(0.1 -0.1)\">\n      <use xlink:href=\"#DejaVuSans-1051\"/>\n      <use x=\"75.195312\" xlink:href=\"#DejaVuSans-1099\"/>\n      <use x=\"154.150391\" xlink:href=\"#DejaVuSans-1089\"/>\n      <use x=\"209.130859\" xlink:href=\"#DejaVuSans-1086\"/>\n      <use x=\"270.3125\" xlink:href=\"#DejaVuSans-1074\"/>\n      <use x=\"329.248047\" xlink:href=\"#DejaVuSans-1072\"/>\n      <use x=\"390.527344\" xlink:href=\"#DejaVuSans-32\"/>\n      <use x=\"422.314453\" xlink:href=\"#DejaVuSans-1057\"/>\n      <use x=\"492.138672\" xlink:href=\"#DejaVuSans-46\"/>\n      <use x=\"523.925781\" xlink:href=\"#DejaVuSans-1048\"/>\n      <use x=\"598.730469\" xlink:href=\"#DejaVuSans-46\"/>\n     </g>\n    </g>\n    <g id=\"patch_22\">\n     <path d=\"M 245.370313 82.510937 \nL 265.370313 82.510937 \nL 265.370313 75.510937 \nL 245.370313 75.510937 \nz\n\" style=\"fill:#9467bd;\"/>\n    </g>\n    <g id=\"text_15\">\n     <!-- Тымчиков А.Ю. -->\n     <defs>\n      <path d=\"M -0.296875 72.90625 \nL 61.375 72.90625 \nL 61.375 64.59375 \nL 35.5 64.59375 \nL 35.5 0 \nL 25.59375 0 \nL 25.59375 64.59375 \nL -0.296875 64.59375 \nz\n\" id=\"DejaVuSans-1058\"/>\n      <path d=\"M 9.078125 54.6875 \nL 22.21875 54.6875 \nL 37.75 18.0625 \nL 53.328125 54.6875 \nL 66.359375 54.6875 \nL 66.359375 0 \nL 57.328125 0 \nL 57.328125 46.09375 \nL 42.234375 10.5 \nL 33.25 10.5 \nL 18.109375 46.09375 \nL 18.109375 0 \nL 9.078125 0 \nz\n\" id=\"DejaVuSans-1084\"/>\n      <path d=\"M 68.65625 66.21875 \nQ 57.90625 66.21875 51.5625 58.203125 \nQ 45.265625 50.203125 45.265625 36.375 \nQ 45.265625 22.609375 51.5625 14.59375 \nQ 57.90625 6.59375 68.65625 6.59375 \nQ 79.390625 6.59375 85.640625 14.59375 \nQ 91.9375 22.609375 91.9375 36.375 \nQ 91.9375 50.203125 85.640625 58.203125 \nQ 79.390625 66.21875 68.65625 66.21875 \nz\nM 35.015625 40.578125 \nQ 35.6875 54.25 44.484375 64.265625 \nQ 53.265625 74.21875 68.65625 74.21875 \nQ 83.984375 74.21875 93.171875 63.96875 \nQ 102.34375 53.65625 102.34375 36.375 \nQ 102.34375 19.140625 93.171875 8.890625 \nQ 83.984375 -1.421875 68.65625 -1.421875 \nQ 53.265625 -1.421875 44.484375 8.59375 \nQ 35.6875 18.609375 35.015625 32.28125 \nL 20.171875 32.28125 \nL 20.171875 0 \nL 10.296875 0 \nL 10.296875 72.90625 \nL 20.171875 72.90625 \nL 20.171875 40.578125 \nz\n\" id=\"DejaVuSans-1070\"/>\n     </defs>\n     <g transform=\"translate(273.370313 82.510937)scale(0.1 -0.1)\">\n      <use xlink:href=\"#DejaVuSans-1058\"/>\n      <use x=\"61.083984\" xlink:href=\"#DejaVuSans-1099\"/>\n      <use x=\"140.039062\" xlink:href=\"#DejaVuSans-1084\"/>\n      <use x=\"215.478516\" xlink:href=\"#DejaVuSans-1095\"/>\n      <use x=\"274.560547\" xlink:href=\"#DejaVuSans-1080\"/>\n      <use x=\"339.550781\" xlink:href=\"#DejaVuSans-1082\"/>\n      <use x=\"399.951172\" xlink:href=\"#DejaVuSans-1086\"/>\n      <use x=\"461.132812\" xlink:href=\"#DejaVuSans-1074\"/>\n      <use x=\"520.068359\" xlink:href=\"#DejaVuSans-32\"/>\n      <use x=\"551.855469\" xlink:href=\"#DejaVuSans-1040\"/>\n      <use x=\"620.263672\" xlink:href=\"#DejaVuSans-46\"/>\n      <use x=\"652.050781\" xlink:href=\"#DejaVuSans-1070\"/>\n      <use x=\"760.009766\" xlink:href=\"#DejaVuSans-46\"/>\n     </g>\n    </g>\n    <g id=\"patch_23\">\n     <path d=\"M 245.370313 97.189062 \nL 265.370313 97.189062 \nL 265.370313 90.189062 \nL 245.370313 90.189062 \nz\n\" style=\"fill:#8c564b;\"/>\n    </g>\n    <g id=\"text_16\">\n     <!-- Никул Е.В. -->\n     <defs>\n      <path d=\"M 19.671875 34.8125 \nL 19.671875 8.109375 \nL 35.5 8.109375 \nQ 43.453125 8.109375 47.28125 11.40625 \nQ 51.125 14.703125 51.125 21.484375 \nQ 51.125 28.328125 47.28125 31.5625 \nQ 43.453125 34.8125 35.5 34.8125 \nz\nM 19.671875 64.796875 \nL 19.671875 42.828125 \nL 34.28125 42.828125 \nQ 41.5 42.828125 45.03125 45.53125 \nQ 48.578125 48.25 48.578125 53.8125 \nQ 48.578125 59.328125 45.03125 62.0625 \nQ 41.5 64.796875 34.28125 64.796875 \nz\nM 9.8125 72.90625 \nL 35.015625 72.90625 \nQ 46.296875 72.90625 52.390625 68.21875 \nQ 58.5 63.53125 58.5 54.890625 \nQ 58.5 48.1875 55.375 44.234375 \nQ 52.25 40.28125 46.1875 39.3125 \nQ 53.46875 37.75 57.5 32.78125 \nQ 61.53125 27.828125 61.53125 20.40625 \nQ 61.53125 10.640625 54.890625 5.3125 \nQ 48.25 0 35.984375 0 \nL 9.8125 0 \nz\n\" id=\"DejaVuSans-1042\"/>\n     </defs>\n     <g transform=\"translate(273.370313 97.189062)scale(0.1 -0.1)\">\n      <use xlink:href=\"#DejaVuSans-1053\"/>\n      <use x=\"75.195312\" xlink:href=\"#DejaVuSans-1080\"/>\n      <use x=\"140.185547\" xlink:href=\"#DejaVuSans-1082\"/>\n      <use x=\"200.585938\" xlink:href=\"#DejaVuSans-1091\"/>\n      <use x=\"259.765625\" xlink:href=\"#DejaVuSans-1083\"/>\n      <use x=\"323.681641\" xlink:href=\"#DejaVuSans-32\"/>\n      <use x=\"355.46875\" xlink:href=\"#DejaVuSans-1045\"/>\n      <use x=\"418.652344\" xlink:href=\"#DejaVuSans-46\"/>\n      <use x=\"450.439453\" xlink:href=\"#DejaVuSans-1042\"/>\n      <use x=\"519.042969\" xlink:href=\"#DejaVuSans-46\"/>\n     </g>\n    </g>\n    <g id=\"patch_24\">\n     <path d=\"M 245.370313 111.867187 \nL 265.370313 111.867187 \nL 265.370313 104.867187 \nL 245.370313 104.867187 \nz\n\" style=\"fill:#e377c2;\"/>\n    </g>\n    <g id=\"text_17\">\n     <!-- Куколев С.В. -->\n     <g transform=\"translate(273.370313 111.867187)scale(0.1 -0.1)\">\n      <use xlink:href=\"#DejaVuSans-1050\"/>\n      <use x=\"70.996094\" xlink:href=\"#DejaVuSans-1091\"/>\n      <use x=\"130.175781\" xlink:href=\"#DejaVuSans-1082\"/>\n      <use x=\"190.576172\" xlink:href=\"#DejaVuSans-1086\"/>\n      <use x=\"251.757812\" xlink:href=\"#DejaVuSans-1083\"/>\n      <use x=\"315.673828\" xlink:href=\"#DejaVuSans-1077\"/>\n      <use x=\"377.197266\" xlink:href=\"#DejaVuSans-1074\"/>\n      <use x=\"436.132812\" xlink:href=\"#DejaVuSans-32\"/>\n      <use x=\"467.919922\" xlink:href=\"#DejaVuSans-1057\"/>\n      <use x=\"537.744141\" xlink:href=\"#DejaVuSans-46\"/>\n      <use x=\"569.53125\" xlink:href=\"#DejaVuSans-1042\"/>\n      <use x=\"638.134766\" xlink:href=\"#DejaVuSans-46\"/>\n     </g>\n    </g>\n    <g id=\"patch_25\">\n     <path d=\"M 245.370313 126.545312 \nL 265.370313 126.545312 \nL 265.370313 119.545312 \nL 245.370313 119.545312 \nz\n\" style=\"fill:#7f7f7f;\"/>\n    </g>\n    <g id=\"text_18\">\n     <!-- Саликова К.В. -->\n     <g transform=\"translate(273.370313 126.545312)scale(0.1 -0.1)\">\n      <use xlink:href=\"#DejaVuSans-1057\"/>\n      <use x=\"69.824219\" xlink:href=\"#DejaVuSans-1072\"/>\n      <use x=\"131.103516\" xlink:href=\"#DejaVuSans-1083\"/>\n      <use x=\"195.019531\" xlink:href=\"#DejaVuSans-1080\"/>\n      <use x=\"260.009766\" xlink:href=\"#DejaVuSans-1082\"/>\n      <use x=\"320.410156\" xlink:href=\"#DejaVuSans-1086\"/>\n      <use x=\"381.591797\" xlink:href=\"#DejaVuSans-1074\"/>\n      <use x=\"440.527344\" xlink:href=\"#DejaVuSans-1072\"/>\n      <use x=\"501.806641\" xlink:href=\"#DejaVuSans-32\"/>\n      <use x=\"533.59375\" xlink:href=\"#DejaVuSans-1050\"/>\n      <use x=\"604.589844\" xlink:href=\"#DejaVuSans-46\"/>\n      <use x=\"636.376953\" xlink:href=\"#DejaVuSans-1042\"/>\n      <use x=\"704.980469\" xlink:href=\"#DejaVuSans-46\"/>\n     </g>\n    </g>\n    <g id=\"patch_26\">\n     <path d=\"M 245.370313 141.223437 \nL 265.370313 141.223437 \nL 265.370313 134.223437 \nL 245.370313 134.223437 \nz\n\" style=\"fill:#bcbd22;\"/>\n    </g>\n    <g id=\"text_19\">\n     <!-- Митяева И.В. -->\n     <defs>\n      <path d=\"M 9.8125 72.90625 \nL 24.515625 72.90625 \nL 43.109375 23.296875 \nL 61.8125 72.90625 \nL 76.515625 72.90625 \nL 76.515625 0 \nL 66.890625 0 \nL 66.890625 64.015625 \nL 48.09375 14.015625 \nL 38.1875 14.015625 \nL 19.390625 64.015625 \nL 19.390625 0 \nL 9.8125 0 \nz\n\" id=\"DejaVuSans-1052\"/>\n     </defs>\n     <g transform=\"translate(273.370313 141.223437)scale(0.1 -0.1)\">\n      <use xlink:href=\"#DejaVuSans-1052\"/>\n      <use x=\"86.279297\" xlink:href=\"#DejaVuSans-1080\"/>\n      <use x=\"151.269531\" xlink:href=\"#DejaVuSans-1090\"/>\n      <use x=\"209.521484\" xlink:href=\"#DejaVuSans-1103\"/>\n      <use x=\"269.677734\" xlink:href=\"#DejaVuSans-1077\"/>\n      <use x=\"331.201172\" xlink:href=\"#DejaVuSans-1074\"/>\n      <use x=\"390.136719\" xlink:href=\"#DejaVuSans-1072\"/>\n      <use x=\"451.416016\" xlink:href=\"#DejaVuSans-32\"/>\n      <use x=\"483.203125\" xlink:href=\"#DejaVuSans-1048\"/>\n      <use x=\"558.007812\" xlink:href=\"#DejaVuSans-46\"/>\n      <use x=\"589.794922\" xlink:href=\"#DejaVuSans-1042\"/>\n      <use x=\"658.398438\" xlink:href=\"#DejaVuSans-46\"/>\n     </g>\n    </g>\n    <g id=\"patch_27\">\n     <path d=\"M 245.370313 155.901562 \nL 265.370313 155.901562 \nL 265.370313 148.901562 \nL 245.370313 148.901562 \nz\n\" style=\"fill:#17becf;\"/>\n    </g>\n    <g id=\"text_20\">\n     <!-- Гонтарь М.А. -->\n     <defs>\n      <path d=\"M 43.453125 16.21875 \nQ 43.453125 20.609375 40.25 22.90625 \nQ 37.0625 25.203125 30.90625 25.203125 \nL 18.109375 25.203125 \nL 18.109375 7.171875 \nL 30.90625 7.171875 \nQ 37.0625 7.171875 40.25 9.484375 \nQ 43.453125 11.8125 43.453125 16.21875 \nz\nM 9.078125 54.6875 \nL 18.109375 54.6875 \nL 18.109375 32.375 \nL 31.296875 32.375 \nQ 41.75 32.375 47.390625 28.390625 \nQ 53.03125 24.421875 53.03125 16.21875 \nQ 53.03125 8.015625 47.390625 4 \nQ 41.75 0 31.296875 0 \nL 9.078125 0 \nz\n\" id=\"DejaVuSans-1100\"/>\n     </defs>\n     <g transform=\"translate(273.370313 155.901562)scale(0.1 -0.1)\">\n      <use xlink:href=\"#DejaVuSans-1043\"/>\n      <use x=\"60.986328\" xlink:href=\"#DejaVuSans-1086\"/>\n      <use x=\"122.167969\" xlink:href=\"#DejaVuSans-1085\"/>\n      <use x=\"187.548828\" xlink:href=\"#DejaVuSans-1090\"/>\n      <use x=\"245.800781\" xlink:href=\"#DejaVuSans-1072\"/>\n      <use x=\"307.080078\" xlink:href=\"#DejaVuSans-1088\"/>\n      <use x=\"370.556641\" xlink:href=\"#DejaVuSans-1100\"/>\n      <use x=\"429.492188\" xlink:href=\"#DejaVuSans-32\"/>\n      <use x=\"461.279297\" xlink:href=\"#DejaVuSans-1052\"/>\n      <use x=\"547.558594\" xlink:href=\"#DejaVuSans-46\"/>\n      <use x=\"579.345703\" xlink:href=\"#DejaVuSans-1040\"/>\n      <use x=\"647.753906\" xlink:href=\"#DejaVuSans-46\"/>\n     </g>\n    </g>\n   </g>\n  </g>\n </g>\n <defs>\n  <clipPath id=\"p12f4c5dcd9\">\n   <rect height=\"217.44\" width=\"334.8\" x=\"39.65\" y=\"7.2\"/>\n  </clipPath>\n </defs>\n</svg>\n"
          },
          "metadata": {
            "needs_background": "light"
          }
        }
      ]
    },
    {
      "cell_type": "code",
      "source": [
        "ten = df.Автор.value_counts()[:10]\n",
        "dict_ten = {}\n",
        "for i in ten.reset_index().values:\n",
        "    dict_ten[i[0]] = i[1]\n",
        "info = pd.DataFrame(dict_ten, index=[\"Авторы\"])\n",
        "fig, ax = plt.subplots()\n",
        "info.plot(kind='bar', ax=ax, rot=0)"
      ],
      "metadata": {
        "colab": {
          "base_uri": "https://localhost:8080/",
          "height": 370
        },
        "id": "uyym_eJ-6PYO",
        "outputId": "2777434f-da78-4d94-cfc1-f55cb22e2ff4"
      },
      "execution_count": null,
      "outputs": [
        {
          "output_type": "execute_result",
          "data": {
            "text/plain": [
              "<matplotlib.axes._subplots.AxesSubplot at 0x7fd15fa04790>"
            ]
          },
          "metadata": {},
          "execution_count": 179
        },
        {
          "output_type": "display_data",
          "data": {
            "text/plain": [
              "<Figure size 432x288 with 1 Axes>"
            ],
            "image/svg+xml": "<?xml version=\"1.0\" encoding=\"utf-8\" standalone=\"no\"?>\n<!DOCTYPE svg PUBLIC \"-//W3C//DTD SVG 1.1//EN\"\n  \"http://www.w3.org/Graphics/SVG/1.1/DTD/svg11.dtd\">\n<!-- Created with matplotlib (https://matplotlib.org/) -->\n<svg height=\"248.518125pt\" version=\"1.1\" viewBox=\"0 0 937.945312 248.518125\" width=\"937.945312pt\" xmlns=\"http://www.w3.org/2000/svg\" xmlns:xlink=\"http://www.w3.org/1999/xlink\">\n <defs>\n  <style type=\"text/css\">\n*{stroke-linecap:butt;stroke-linejoin:round;}\n  </style>\n </defs>\n <g id=\"figure_1\">\n  <g id=\"patch_1\">\n   <path d=\"M 0 248.518125 \nL 937.945312 248.518125 \nL 937.945312 0 \nL 0 0 \nz\n\" style=\"fill:none;\"/>\n  </g>\n  <g id=\"axes_1\">\n   <g id=\"patch_2\">\n    <path d=\"M 595.945312 224.64 \nL 930.745312 224.64 \nL 930.745312 7.2 \nL 595.945312 7.2 \nz\n\" style=\"fill:#ffffff;\"/>\n   </g>\n   <g id=\"patch_3\">\n    <path clip-path=\"url(#p047b3fce62)\" d=\"M 679.645312 224.64 \nL 696.385312 224.64 \nL 696.385312 17.554286 \nL 679.645312 17.554286 \nz\n\" style=\"fill:#1f77b4;\"/>\n   </g>\n   <g id=\"patch_4\">\n    <path clip-path=\"url(#p047b3fce62)\" d=\"M 696.385312 224.64 \nL 713.125312 224.64 \nL 713.125312 133.344147 \nL 696.385312 133.344147 \nz\n\" style=\"fill:#ff7f0e;\"/>\n   </g>\n   <g id=\"patch_5\">\n    <path clip-path=\"url(#p047b3fce62)\" d=\"M 713.125312 224.64 \nL 729.865312 224.64 \nL 729.865312 137.797604 \nL 713.125312 137.797604 \nz\n\" style=\"fill:#2ca02c;\"/>\n   </g>\n   <g id=\"patch_6\">\n    <path clip-path=\"url(#p047b3fce62)\" d=\"M 729.865312 224.64 \nL 746.605312 224.64 \nL 746.605312 140.024332 \nL 729.865312 140.024332 \nz\n\" style=\"fill:#d62728;\"/>\n   </g>\n   <g id=\"patch_7\">\n    <path clip-path=\"url(#p047b3fce62)\" d=\"M 746.605312 224.64 \nL 763.345312 224.64 \nL 763.345312 142.25106 \nL 746.605312 142.25106 \nz\n\" style=\"fill:#9467bd;\"/>\n   </g>\n   <g id=\"patch_8\">\n    <path clip-path=\"url(#p047b3fce62)\" d=\"M 763.345312 224.64 \nL 780.085312 224.64 \nL 780.085312 148.931244 \nL 763.345312 148.931244 \nz\n\" style=\"fill:#8c564b;\"/>\n   </g>\n   <g id=\"patch_9\">\n    <path clip-path=\"url(#p047b3fce62)\" d=\"M 780.085312 224.64 \nL 796.825312 224.64 \nL 796.825312 164.518341 \nL 780.085312 164.518341 \nz\n\" style=\"fill:#e377c2;\"/>\n   </g>\n   <g id=\"patch_10\">\n    <path clip-path=\"url(#p047b3fce62)\" d=\"M 796.825312 224.64 \nL 813.565312 224.64 \nL 813.565312 164.518341 \nL 796.825312 164.518341 \nz\n\" style=\"fill:#7f7f7f;\"/>\n   </g>\n   <g id=\"patch_11\">\n    <path clip-path=\"url(#p047b3fce62)\" d=\"M 813.565312 224.64 \nL 830.305312 224.64 \nL 830.305312 168.971797 \nL 813.565312 168.971797 \nz\n\" style=\"fill:#bcbd22;\"/>\n   </g>\n   <g id=\"patch_12\">\n    <path clip-path=\"url(#p047b3fce62)\" d=\"M 830.305312 224.64 \nL 847.045312 224.64 \nL 847.045312 168.971797 \nL 830.305312 168.971797 \nz\n\" style=\"fill:#17becf;\"/>\n   </g>\n   <g id=\"matplotlib.axis_1\">\n    <g id=\"xtick_1\">\n     <g id=\"line2d_1\">\n      <defs>\n       <path d=\"M 0 0 \nL 0 3.5 \n\" id=\"ma0362f3430\" style=\"stroke:#000000;stroke-width:0.8;\"/>\n      </defs>\n      <g>\n       <use style=\"stroke:#000000;stroke-width:0.8;\" x=\"763.345312\" xlink:href=\"#ma0362f3430\" y=\"224.64\"/>\n      </g>\n     </g>\n     <g id=\"text_1\">\n      <!-- Авторы -->\n      <defs>\n       <path d=\"M 34.1875 63.1875 \nL 20.796875 26.90625 \nL 47.609375 26.90625 \nz\nM 28.609375 72.90625 \nL 39.796875 72.90625 \nL 67.578125 0 \nL 57.328125 0 \nL 50.6875 18.703125 \nL 17.828125 18.703125 \nL 11.1875 0 \nL 0.78125 0 \nz\n\" id=\"DejaVuSans-1040\"/>\n       <path d=\"M 18.0625 25.203125 \nL 18.0625 7.171875 \nL 30.859375 7.171875 \nQ 37.015625 7.171875 40.234375 9.484375 \nQ 43.453125 11.8125 43.453125 16.21875 \nQ 43.453125 20.609375 40.234375 22.90625 \nQ 37.015625 25.203125 30.859375 25.203125 \nz\nM 18.0625 47.515625 \nL 18.0625 32.375 \nL 29.890625 32.375 \nQ 34.96875 32.375 38.1875 34.390625 \nQ 41.40625 36.421875 41.40625 40.046875 \nQ 41.40625 43.65625 38.1875 45.578125 \nQ 34.96875 47.515625 29.890625 47.515625 \nz\nM 9.078125 54.6875 \nL 30.46875 54.6875 \nQ 40.09375 54.6875 45.265625 51.171875 \nQ 50.4375 47.65625 50.4375 41.15625 \nQ 50.4375 36.140625 47.796875 33.171875 \nQ 45.171875 30.21875 39.984375 29.5 \nQ 46.1875 28.328125 49.609375 24.609375 \nQ 53.03125 20.90625 53.03125 15.328125 \nQ 53.03125 8.015625 47.390625 4 \nQ 41.75 0 31.296875 0 \nL 9.078125 0 \nz\n\" id=\"DejaVuSans-1074\"/>\n       <path d=\"M 2.9375 54.6875 \nL 55.328125 54.6875 \nL 55.328125 47.515625 \nL 33.546875 47.515625 \nL 33.546875 0 \nL 24.703125 0 \nL 24.703125 47.515625 \nL 2.9375 47.515625 \nz\n\" id=\"DejaVuSans-1090\"/>\n       <path d=\"M 30.609375 48.390625 \nQ 23.390625 48.390625 19.1875 42.75 \nQ 14.984375 37.109375 14.984375 27.296875 \nQ 14.984375 17.484375 19.15625 11.84375 \nQ 23.34375 6.203125 30.609375 6.203125 \nQ 37.796875 6.203125 41.984375 11.859375 \nQ 46.1875 17.53125 46.1875 27.296875 \nQ 46.1875 37.015625 41.984375 42.703125 \nQ 37.796875 48.390625 30.609375 48.390625 \nz\nM 30.609375 56 \nQ 42.328125 56 49.015625 48.375 \nQ 55.71875 40.765625 55.71875 27.296875 \nQ 55.71875 13.875 49.015625 6.21875 \nQ 42.328125 -1.421875 30.609375 -1.421875 \nQ 18.84375 -1.421875 12.171875 6.21875 \nQ 5.515625 13.875 5.515625 27.296875 \nQ 5.515625 40.765625 12.171875 48.375 \nQ 18.84375 56 30.609375 56 \nz\n\" id=\"DejaVuSans-1086\"/>\n       <path d=\"M 18.109375 8.203125 \nL 18.109375 -20.796875 \nL 9.078125 -20.796875 \nL 9.078125 54.6875 \nL 18.109375 54.6875 \nL 18.109375 46.390625 \nQ 20.953125 51.265625 25.265625 53.625 \nQ 29.59375 56 35.59375 56 \nQ 45.5625 56 51.78125 48.09375 \nQ 58.015625 40.1875 58.015625 27.296875 \nQ 58.015625 14.40625 51.78125 6.484375 \nQ 45.5625 -1.421875 35.59375 -1.421875 \nQ 29.59375 -1.421875 25.265625 0.953125 \nQ 20.953125 3.328125 18.109375 8.203125 \nz\nM 48.6875 27.296875 \nQ 48.6875 37.203125 44.609375 42.84375 \nQ 40.53125 48.484375 33.40625 48.484375 \nQ 26.265625 48.484375 22.1875 42.84375 \nQ 18.109375 37.203125 18.109375 27.296875 \nQ 18.109375 17.390625 22.1875 11.75 \nQ 26.265625 6.109375 33.40625 6.109375 \nQ 40.53125 6.109375 44.609375 11.75 \nQ 48.6875 17.390625 48.6875 27.296875 \nz\n\" id=\"DejaVuSans-1088\"/>\n       <path d=\"M 61.046875 54.6875 \nL 70.03125 54.6875 \nL 70.03125 0 \nL 61.046875 0 \nz\nM 65.546875 56 \nz\nM 43.453125 16.21875 \nQ 43.453125 20.609375 40.25 22.90625 \nQ 37.0625 25.203125 30.90625 25.203125 \nL 18.109375 25.203125 \nL 18.109375 7.171875 \nL 30.90625 7.171875 \nQ 37.0625 7.171875 40.25 9.484375 \nQ 43.453125 11.8125 43.453125 16.21875 \nz\nM 9.078125 54.6875 \nL 18.109375 54.6875 \nL 18.109375 32.375 \nL 31.296875 32.375 \nQ 41.75 32.375 47.390625 28.390625 \nQ 53.03125 24.421875 53.03125 16.21875 \nQ 53.03125 8.015625 47.390625 4 \nQ 41.75 0 31.296875 0 \nL 9.078125 0 \nz\n\" id=\"DejaVuSans-1099\"/>\n      </defs>\n      <g transform=\"translate(743.884375 239.238438)scale(0.1 -0.1)\">\n       <use xlink:href=\"#DejaVuSans-1040\"/>\n       <use x=\"68.408203\" xlink:href=\"#DejaVuSans-1074\"/>\n       <use x=\"127.34375\" xlink:href=\"#DejaVuSans-1090\"/>\n       <use x=\"185.595703\" xlink:href=\"#DejaVuSans-1086\"/>\n       <use x=\"246.777344\" xlink:href=\"#DejaVuSans-1088\"/>\n       <use x=\"310.253906\" xlink:href=\"#DejaVuSans-1099\"/>\n      </g>\n     </g>\n    </g>\n   </g>\n   <g id=\"matplotlib.axis_2\">\n    <g id=\"ytick_1\">\n     <g id=\"line2d_2\">\n      <defs>\n       <path d=\"M 0 0 \nL -3.5 0 \n\" id=\"ma9c3d9d314\" style=\"stroke:#000000;stroke-width:0.8;\"/>\n      </defs>\n      <g>\n       <use style=\"stroke:#000000;stroke-width:0.8;\" x=\"595.945312\" xlink:href=\"#ma9c3d9d314\" y=\"224.64\"/>\n      </g>\n     </g>\n     <g id=\"text_2\">\n      <!-- 0 -->\n      <defs>\n       <path d=\"M 31.78125 66.40625 \nQ 24.171875 66.40625 20.328125 58.90625 \nQ 16.5 51.421875 16.5 36.375 \nQ 16.5 21.390625 20.328125 13.890625 \nQ 24.171875 6.390625 31.78125 6.390625 \nQ 39.453125 6.390625 43.28125 13.890625 \nQ 47.125 21.390625 47.125 36.375 \nQ 47.125 51.421875 43.28125 58.90625 \nQ 39.453125 66.40625 31.78125 66.40625 \nz\nM 31.78125 74.21875 \nQ 44.046875 74.21875 50.515625 64.515625 \nQ 56.984375 54.828125 56.984375 36.375 \nQ 56.984375 17.96875 50.515625 8.265625 \nQ 44.046875 -1.421875 31.78125 -1.421875 \nQ 19.53125 -1.421875 13.0625 8.265625 \nQ 6.59375 17.96875 6.59375 36.375 \nQ 6.59375 54.828125 13.0625 64.515625 \nQ 19.53125 74.21875 31.78125 74.21875 \nz\n\" id=\"DejaVuSans-48\"/>\n      </defs>\n      <g transform=\"translate(582.582812 228.439219)scale(0.1 -0.1)\">\n       <use xlink:href=\"#DejaVuSans-48\"/>\n      </g>\n     </g>\n    </g>\n    <g id=\"ytick_2\">\n     <g id=\"line2d_3\">\n      <g>\n       <use style=\"stroke:#000000;stroke-width:0.8;\" x=\"595.945312\" xlink:href=\"#ma9c3d9d314\" y=\"180.105438\"/>\n      </g>\n     </g>\n     <g id=\"text_3\">\n      <!-- 20 -->\n      <defs>\n       <path d=\"M 19.1875 8.296875 \nL 53.609375 8.296875 \nL 53.609375 0 \nL 7.328125 0 \nL 7.328125 8.296875 \nQ 12.9375 14.109375 22.625 23.890625 \nQ 32.328125 33.6875 34.8125 36.53125 \nQ 39.546875 41.84375 41.421875 45.53125 \nQ 43.3125 49.21875 43.3125 52.78125 \nQ 43.3125 58.59375 39.234375 62.25 \nQ 35.15625 65.921875 28.609375 65.921875 \nQ 23.96875 65.921875 18.8125 64.3125 \nQ 13.671875 62.703125 7.8125 59.421875 \nL 7.8125 69.390625 \nQ 13.765625 71.78125 18.9375 73 \nQ 24.125 74.21875 28.421875 74.21875 \nQ 39.75 74.21875 46.484375 68.546875 \nQ 53.21875 62.890625 53.21875 53.421875 \nQ 53.21875 48.921875 51.53125 44.890625 \nQ 49.859375 40.875 45.40625 35.40625 \nQ 44.1875 33.984375 37.640625 27.21875 \nQ 31.109375 20.453125 19.1875 8.296875 \nz\n\" id=\"DejaVuSans-50\"/>\n      </defs>\n      <g transform=\"translate(576.220312 183.904657)scale(0.1 -0.1)\">\n       <use xlink:href=\"#DejaVuSans-50\"/>\n       <use x=\"63.623047\" xlink:href=\"#DejaVuSans-48\"/>\n      </g>\n     </g>\n    </g>\n    <g id=\"ytick_3\">\n     <g id=\"line2d_4\">\n      <g>\n       <use style=\"stroke:#000000;stroke-width:0.8;\" x=\"595.945312\" xlink:href=\"#ma9c3d9d314\" y=\"135.570876\"/>\n      </g>\n     </g>\n     <g id=\"text_4\">\n      <!-- 40 -->\n      <defs>\n       <path d=\"M 37.796875 64.3125 \nL 12.890625 25.390625 \nL 37.796875 25.390625 \nz\nM 35.203125 72.90625 \nL 47.609375 72.90625 \nL 47.609375 25.390625 \nL 58.015625 25.390625 \nL 58.015625 17.1875 \nL 47.609375 17.1875 \nL 47.609375 0 \nL 37.796875 0 \nL 37.796875 17.1875 \nL 4.890625 17.1875 \nL 4.890625 26.703125 \nz\n\" id=\"DejaVuSans-52\"/>\n      </defs>\n      <g transform=\"translate(576.220312 139.370094)scale(0.1 -0.1)\">\n       <use xlink:href=\"#DejaVuSans-52\"/>\n       <use x=\"63.623047\" xlink:href=\"#DejaVuSans-48\"/>\n      </g>\n     </g>\n    </g>\n    <g id=\"ytick_4\">\n     <g id=\"line2d_5\">\n      <g>\n       <use style=\"stroke:#000000;stroke-width:0.8;\" x=\"595.945312\" xlink:href=\"#ma9c3d9d314\" y=\"91.036313\"/>\n      </g>\n     </g>\n     <g id=\"text_5\">\n      <!-- 60 -->\n      <defs>\n       <path d=\"M 33.015625 40.375 \nQ 26.375 40.375 22.484375 35.828125 \nQ 18.609375 31.296875 18.609375 23.390625 \nQ 18.609375 15.53125 22.484375 10.953125 \nQ 26.375 6.390625 33.015625 6.390625 \nQ 39.65625 6.390625 43.53125 10.953125 \nQ 47.40625 15.53125 47.40625 23.390625 \nQ 47.40625 31.296875 43.53125 35.828125 \nQ 39.65625 40.375 33.015625 40.375 \nz\nM 52.59375 71.296875 \nL 52.59375 62.3125 \nQ 48.875 64.0625 45.09375 64.984375 \nQ 41.3125 65.921875 37.59375 65.921875 \nQ 27.828125 65.921875 22.671875 59.328125 \nQ 17.53125 52.734375 16.796875 39.40625 \nQ 19.671875 43.65625 24.015625 45.921875 \nQ 28.375 48.1875 33.59375 48.1875 \nQ 44.578125 48.1875 50.953125 41.515625 \nQ 57.328125 34.859375 57.328125 23.390625 \nQ 57.328125 12.15625 50.6875 5.359375 \nQ 44.046875 -1.421875 33.015625 -1.421875 \nQ 20.359375 -1.421875 13.671875 8.265625 \nQ 6.984375 17.96875 6.984375 36.375 \nQ 6.984375 53.65625 15.1875 63.9375 \nQ 23.390625 74.21875 37.203125 74.21875 \nQ 40.921875 74.21875 44.703125 73.484375 \nQ 48.484375 72.75 52.59375 71.296875 \nz\n\" id=\"DejaVuSans-54\"/>\n      </defs>\n      <g transform=\"translate(576.220312 94.835532)scale(0.1 -0.1)\">\n       <use xlink:href=\"#DejaVuSans-54\"/>\n       <use x=\"63.623047\" xlink:href=\"#DejaVuSans-48\"/>\n      </g>\n     </g>\n    </g>\n    <g id=\"ytick_5\">\n     <g id=\"line2d_6\">\n      <g>\n       <use style=\"stroke:#000000;stroke-width:0.8;\" x=\"595.945312\" xlink:href=\"#ma9c3d9d314\" y=\"46.501751\"/>\n      </g>\n     </g>\n     <g id=\"text_6\">\n      <!-- 80 -->\n      <defs>\n       <path d=\"M 31.78125 34.625 \nQ 24.75 34.625 20.71875 30.859375 \nQ 16.703125 27.09375 16.703125 20.515625 \nQ 16.703125 13.921875 20.71875 10.15625 \nQ 24.75 6.390625 31.78125 6.390625 \nQ 38.8125 6.390625 42.859375 10.171875 \nQ 46.921875 13.96875 46.921875 20.515625 \nQ 46.921875 27.09375 42.890625 30.859375 \nQ 38.875 34.625 31.78125 34.625 \nz\nM 21.921875 38.8125 \nQ 15.578125 40.375 12.03125 44.71875 \nQ 8.5 49.078125 8.5 55.328125 \nQ 8.5 64.0625 14.71875 69.140625 \nQ 20.953125 74.21875 31.78125 74.21875 \nQ 42.671875 74.21875 48.875 69.140625 \nQ 55.078125 64.0625 55.078125 55.328125 \nQ 55.078125 49.078125 51.53125 44.71875 \nQ 48 40.375 41.703125 38.8125 \nQ 48.828125 37.15625 52.796875 32.3125 \nQ 56.78125 27.484375 56.78125 20.515625 \nQ 56.78125 9.90625 50.3125 4.234375 \nQ 43.84375 -1.421875 31.78125 -1.421875 \nQ 19.734375 -1.421875 13.25 4.234375 \nQ 6.78125 9.90625 6.78125 20.515625 \nQ 6.78125 27.484375 10.78125 32.3125 \nQ 14.796875 37.15625 21.921875 38.8125 \nz\nM 18.3125 54.390625 \nQ 18.3125 48.734375 21.84375 45.5625 \nQ 25.390625 42.390625 31.78125 42.390625 \nQ 38.140625 42.390625 41.71875 45.5625 \nQ 45.3125 48.734375 45.3125 54.390625 \nQ 45.3125 60.0625 41.71875 63.234375 \nQ 38.140625 66.40625 31.78125 66.40625 \nQ 25.390625 66.40625 21.84375 63.234375 \nQ 18.3125 60.0625 18.3125 54.390625 \nz\n\" id=\"DejaVuSans-56\"/>\n      </defs>\n      <g transform=\"translate(576.220312 50.30097)scale(0.1 -0.1)\">\n       <use xlink:href=\"#DejaVuSans-56\"/>\n       <use x=\"63.623047\" xlink:href=\"#DejaVuSans-48\"/>\n      </g>\n     </g>\n    </g>\n   </g>\n   <g id=\"patch_13\">\n    <path d=\"M 595.945312 224.64 \nL 595.945312 7.2 \n\" style=\"fill:none;stroke:#000000;stroke-linecap:square;stroke-linejoin:miter;stroke-width:0.8;\"/>\n   </g>\n   <g id=\"patch_14\">\n    <path d=\"M 930.745312 224.64 \nL 930.745312 7.2 \n\" style=\"fill:none;stroke:#000000;stroke-linecap:square;stroke-linejoin:miter;stroke-width:0.8;\"/>\n   </g>\n   <g id=\"patch_15\">\n    <path d=\"M 595.945312 224.64 \nL 930.745312 224.64 \n\" style=\"fill:none;stroke:#000000;stroke-linecap:square;stroke-linejoin:miter;stroke-width:0.8;\"/>\n   </g>\n   <g id=\"patch_16\">\n    <path d=\"M 595.945312 7.2 \nL 930.745312 7.2 \n\" style=\"fill:none;stroke:#000000;stroke-linecap:square;stroke-linejoin:miter;stroke-width:0.8;\"/>\n   </g>\n   <g id=\"legend_1\">\n    <g id=\"patch_17\">\n     <path d=\"M 9.2 163.173437 \nL 923.745312 163.173437 \nQ 925.745312 163.173437 925.745312 161.173437 \nL 925.745312 14.2 \nQ 925.745312 12.2 923.745312 12.2 \nL 9.2 12.2 \nQ 7.2 12.2 7.2 14.2 \nL 7.2 161.173437 \nQ 7.2 163.173437 9.2 163.173437 \nz\n\" style=\"fill:#ffffff;opacity:0.8;stroke:#cccccc;stroke-linejoin:miter;\"/>\n    </g>\n    <g id=\"patch_18\">\n     <path d=\"M 11.2 23.96875 \nL 31.2 23.96875 \nL 31.2 16.96875 \nL 11.2 16.96875 \nz\n\" style=\"fill:#1f77b4;\"/>\n    </g>\n    <g id=\"text_7\">\n     <!-- Черноскутова И.А. (Министерство образования и науки Российской Федерации. Департамент государственной политики в сфере подготовки рабочих кадров и ДПО) -->\n     <defs>\n      <path d=\"M 48.828125 0 \nL 48.828125 29.890625 \nL 28.46875 29.890625 \nQ 19.390625 29.890625 13.96875 35.578125 \nQ 8.546875 41.265625 8.546875 52.875 \nL 8.546875 72.90625 \nL 18.359375 72.90625 \nL 18.359375 53.65625 \nQ 18.359375 45.90625 21.390625 42.046875 \nQ 24.421875 38.1875 30.46875 38.1875 \nL 48.828125 38.1875 \nL 48.828125 72.90625 \nL 58.734375 72.90625 \nL 58.734375 0 \nz\n\" id=\"DejaVuSans-1063\"/>\n      <path d=\"M 56.203125 29.59375 \nL 56.203125 25.203125 \nL 14.890625 25.203125 \nQ 15.484375 15.921875 20.484375 11.0625 \nQ 25.484375 6.203125 34.421875 6.203125 \nQ 39.59375 6.203125 44.453125 7.46875 \nQ 49.3125 8.734375 54.109375 11.28125 \nL 54.109375 2.78125 \nQ 49.265625 0.734375 44.1875 -0.34375 \nQ 39.109375 -1.421875 33.890625 -1.421875 \nQ 20.796875 -1.421875 13.15625 6.1875 \nQ 5.515625 13.8125 5.515625 26.8125 \nQ 5.515625 40.234375 12.765625 48.109375 \nQ 20.015625 56 32.328125 56 \nQ 43.359375 56 49.78125 48.890625 \nQ 56.203125 41.796875 56.203125 29.59375 \nz\nM 47.21875 32.234375 \nQ 47.125 39.59375 43.09375 43.984375 \nQ 39.0625 48.390625 32.421875 48.390625 \nQ 24.90625 48.390625 20.390625 44.140625 \nQ 15.875 39.890625 15.1875 32.171875 \nz\n\" id=\"DejaVuSans-1077\"/>\n      <path d=\"M 9.078125 54.6875 \nL 18.109375 54.6875 \nL 18.109375 32.375 \nL 47.265625 32.375 \nL 47.265625 54.6875 \nL 56.296875 54.6875 \nL 56.296875 0 \nL 47.265625 0 \nL 47.265625 25.203125 \nL 18.109375 25.203125 \nL 18.109375 0 \nL 9.078125 0 \nz\n\" id=\"DejaVuSans-1085\"/>\n      <path d=\"M 48.78125 52.59375 \nL 48.78125 44.1875 \nQ 44.96875 46.296875 41.140625 47.34375 \nQ 37.3125 48.390625 33.40625 48.390625 \nQ 24.65625 48.390625 19.8125 42.84375 \nQ 14.984375 37.3125 14.984375 27.296875 \nQ 14.984375 17.28125 19.8125 11.734375 \nQ 24.65625 6.203125 33.40625 6.203125 \nQ 37.3125 6.203125 41.140625 7.25 \nQ 44.96875 8.296875 48.78125 10.40625 \nL 48.78125 2.09375 \nQ 45.015625 0.34375 40.984375 -0.53125 \nQ 36.96875 -1.421875 32.421875 -1.421875 \nQ 20.0625 -1.421875 12.78125 6.34375 \nQ 5.515625 14.109375 5.515625 27.296875 \nQ 5.515625 40.671875 12.859375 48.328125 \nQ 20.21875 56 33.015625 56 \nQ 37.15625 56 41.109375 55.140625 \nQ 45.0625 54.296875 48.78125 52.59375 \nz\n\" id=\"DejaVuSans-1089\"/>\n      <path d=\"M 9.078125 54.6875 \nL 18.015625 54.6875 \nL 18.015625 29 \nL 43.359375 54.6875 \nL 54.390625 54.6875 \nL 33.5 33.546875 \nL 57.078125 0 \nL 47.015625 0 \nL 27.640625 27.59375 \nL 18.015625 17.828125 \nL 18.015625 0 \nL 9.078125 0 \nz\n\" id=\"DejaVuSans-1082\"/>\n      <path d=\"M 32.171875 -5.078125 \nQ 28.375 -14.84375 24.75 -17.8125 \nQ 21.140625 -20.796875 15.09375 -20.796875 \nL 7.90625 -20.796875 \nL 7.90625 -13.28125 \nL 13.1875 -13.28125 \nQ 16.890625 -13.28125 18.9375 -11.515625 \nQ 21 -9.765625 23.484375 -3.21875 \nL 25.09375 0.875 \nL 2.984375 54.6875 \nL 12.5 54.6875 \nL 29.59375 11.921875 \nL 46.6875 54.6875 \nL 56.203125 54.6875 \nz\n\" id=\"DejaVuSans-1091\"/>\n      <path d=\"M 34.28125 27.484375 \nQ 23.390625 27.484375 19.1875 25 \nQ 14.984375 22.515625 14.984375 16.5 \nQ 14.984375 11.71875 18.140625 8.90625 \nQ 21.296875 6.109375 26.703125 6.109375 \nQ 34.1875 6.109375 38.703125 11.40625 \nQ 43.21875 16.703125 43.21875 25.484375 \nL 43.21875 27.484375 \nz\nM 52.203125 31.203125 \nL 52.203125 0 \nL 43.21875 0 \nL 43.21875 8.296875 \nQ 40.140625 3.328125 35.546875 0.953125 \nQ 30.953125 -1.421875 24.3125 -1.421875 \nQ 15.921875 -1.421875 10.953125 3.296875 \nQ 6 8.015625 6 15.921875 \nQ 6 25.140625 12.171875 29.828125 \nQ 18.359375 34.515625 30.609375 34.515625 \nL 43.21875 34.515625 \nL 43.21875 35.40625 \nQ 43.21875 41.609375 39.140625 45 \nQ 35.0625 48.390625 27.6875 48.390625 \nQ 23 48.390625 18.546875 47.265625 \nQ 14.109375 46.140625 10.015625 43.890625 \nL 10.015625 52.203125 \nQ 14.9375 54.109375 19.578125 55.046875 \nQ 24.21875 56 28.609375 56 \nQ 40.484375 56 46.34375 49.84375 \nQ 52.203125 43.703125 52.203125 31.203125 \nz\n\" id=\"DejaVuSans-1072\"/>\n      <path id=\"DejaVuSans-32\"/>\n      <path d=\"M 64.984375 72.90625 \nL 64.984375 0 \nL 55.421875 0 \nL 55.421875 60.984375 \nL 23.09375 0 \nL 9.8125 0 \nL 9.8125 72.90625 \nL 19.390625 72.90625 \nL 19.390625 11.921875 \nL 51.703125 72.90625 \nz\n\" id=\"DejaVuSans-1048\"/>\n      <path d=\"M 10.6875 12.40625 \nL 21 12.40625 \nL 21 0 \nL 10.6875 0 \nz\n\" id=\"DejaVuSans-46\"/>\n      <path d=\"M 31 75.875 \nQ 24.46875 64.65625 21.28125 53.65625 \nQ 18.109375 42.671875 18.109375 31.390625 \nQ 18.109375 20.125 21.3125 9.0625 \nQ 24.515625 -2 31 -13.1875 \nL 23.1875 -13.1875 \nQ 15.875 -1.703125 12.234375 9.375 \nQ 8.59375 20.453125 8.59375 31.390625 \nQ 8.59375 42.28125 12.203125 53.3125 \nQ 15.828125 64.359375 23.1875 75.875 \nz\n\" id=\"DejaVuSans-40\"/>\n      <path d=\"M 9.8125 72.90625 \nL 24.515625 72.90625 \nL 43.109375 23.296875 \nL 61.8125 72.90625 \nL 76.515625 72.90625 \nL 76.515625 0 \nL 66.890625 0 \nL 66.890625 64.015625 \nL 48.09375 14.015625 \nL 38.1875 14.015625 \nL 19.390625 64.015625 \nL 19.390625 0 \nL 9.8125 0 \nz\n\" id=\"DejaVuSans-1052\"/>\n      <path d=\"M 55.90625 54.6875 \nL 55.90625 0 \nL 46.96875 0 \nL 46.96875 43.890625 \nL 20.609375 0 \nL 9.078125 0 \nL 9.078125 54.6875 \nL 18.015625 54.6875 \nL 18.015625 10.890625 \nL 44.34375 54.6875 \nz\n\" id=\"DejaVuSans-1080\"/>\n      <path d=\"M 31.109375 56 \nQ 42.828125 56 49.515625 48.375 \nQ 56.203125 40.765625 56.203125 27.296875 \nQ 56.203125 13.875 49.515625 6.21875 \nQ 42.828125 -1.421875 31.109375 -1.421875 \nQ 19.34375 -1.421875 12.84375 6 \nQ 6.34375 13.421875 6 27.296875 \nL 5.71875 38.484375 \nQ 5.46875 44.28125 5.46875 46.296875 \nQ 5.46875 54.109375 8.296875 59.859375 \nQ 12.75 68.890625 20.4375 72.796875 \nQ 28.125 76.703125 41.015625 76.8125 \nQ 46.96875 76.859375 49.609375 77.6875 \nL 52.09375 70.5625 \nQ 49.703125 69.578125 47.515625 69.53125 \nL 35.296875 68.703125 \nQ 29.15625 68.265625 25.4375 66.109375 \nQ 15.71875 60.40625 14.796875 52.9375 \nL 14.453125 50.203125 \nQ 20.796875 56 31.109375 56 \nz\nM 31.109375 48.390625 \nQ 23.875 48.390625 19.671875 42.75 \nQ 15.484375 37.109375 15.484375 27.296875 \nQ 15.484375 17.484375 19.65625 11.84375 \nQ 23.828125 6.203125 31.109375 6.203125 \nQ 38.28125 6.203125 42.484375 11.859375 \nQ 46.6875 17.53125 46.6875 27.296875 \nQ 46.6875 37.015625 42.484375 42.703125 \nQ 38.28125 48.390625 31.109375 48.390625 \nz\n\" id=\"DejaVuSans-1073\"/>\n      <path d=\"M 34.46875 29.5 \nQ 40.53125 28.328125 43.890625 24.75 \nQ 47.265625 21.1875 47.265625 15.921875 \nQ 47.265625 7.46875 40.96875 3.015625 \nQ 34.671875 -1.421875 23.046875 -1.421875 \nQ 19.140625 -1.421875 15.015625 -0.734375 \nQ 10.890625 -0.046875 6.5 1.3125 \nL 6.5 9.671875 \nQ 9.96875 7.859375 14.109375 6.953125 \nQ 18.265625 6.0625 22.796875 6.0625 \nQ 30.171875 6.0625 34.296875 8.796875 \nQ 38.421875 11.53125 38.421875 15.921875 \nQ 38.421875 20.21875 34.765625 22.828125 \nQ 31.109375 25.4375 24.421875 25.4375 \nL 17.1875 25.4375 \nL 17.1875 32.859375 \nL 24.75 32.859375 \nQ 30.421875 32.859375 33.71875 35.03125 \nQ 37.015625 37.203125 37.015625 40.625 \nQ 37.015625 43.75 33.609375 46 \nQ 30.21875 48.25 24.421875 48.25 \nQ 20.953125 48.25 17.015625 47.609375 \nQ 13.09375 46.96875 8.34375 45.5625 \nL 8.34375 53.71875 \nQ 13.140625 54.890625 17.28125 55.46875 \nQ 21.4375 56.0625 25.140625 56.0625 \nQ 34.71875 56.0625 40.25 52.21875 \nQ 45.796875 48.390625 45.796875 41.5 \nQ 45.796875 36.96875 42.859375 33.8125 \nQ 39.9375 30.671875 34.46875 29.5 \nz\n\" id=\"DejaVuSans-1079\"/>\n      <path d=\"M 18.453125 38.921875 \nQ 18.453125 34.859375 21.578125 32.5625 \nQ 24.703125 30.28125 30.515625 30.28125 \nL 42.625 30.28125 \nL 42.625 47.515625 \nL 30.515625 47.515625 \nQ 24.703125 47.515625 21.578125 45.265625 \nQ 18.453125 43.015625 18.453125 38.921875 \nz\nM 5.671875 0 \nL 22.359375 23.96875 \nQ 16.703125 25.25 12.9375 28.59375 \nQ 9.1875 31.9375 9.1875 38.921875 \nQ 9.1875 46.828125 14.421875 50.75 \nQ 19.671875 54.6875 30.28125 54.6875 \nL 51.65625 54.6875 \nL 51.65625 0 \nL 42.625 0 \nL 42.625 23.09375 \nL 31.453125 23.09375 \nL 15.328125 0 \nz\n\" id=\"DejaVuSans-1103\"/>\n      <path d=\"M 19.671875 64.796875 \nL 19.671875 37.40625 \nL 32.078125 37.40625 \nQ 38.96875 37.40625 42.71875 40.96875 \nQ 46.484375 44.53125 46.484375 51.125 \nQ 46.484375 57.671875 42.71875 61.234375 \nQ 38.96875 64.796875 32.078125 64.796875 \nz\nM 9.8125 72.90625 \nL 32.078125 72.90625 \nQ 44.34375 72.90625 50.609375 67.359375 \nQ 56.890625 61.8125 56.890625 51.125 \nQ 56.890625 40.328125 50.609375 34.8125 \nQ 44.34375 29.296875 32.078125 29.296875 \nL 19.671875 29.296875 \nL 19.671875 0 \nL 9.8125 0 \nz\n\" id=\"DejaVuSans-1056\"/>\n      <path d=\"M 55.90625 54.6875 \nL 55.90625 0 \nL 46.96875 0 \nL 46.96875 43.890625 \nL 20.609375 0 \nL 9.078125 0 \nL 9.078125 54.6875 \nL 18.015625 54.6875 \nL 18.015625 10.890625 \nL 44.34375 54.6875 \nz\nM 17.21875 75.515625 \nL 22.984375 75.515625 \nQ 23.515625 71.859375 25.875 70.015625 \nQ 28.25 68.1875 32.5 68.1875 \nQ 36.703125 68.1875 39.046875 70 \nQ 41.390625 71.8125 42.015625 75.515625 \nL 47.78125 75.515625 \nQ 47.296875 68.53125 43.4375 65.015625 \nQ 39.578125 61.5 32.5 61.5 \nQ 25.421875 61.5 21.5625 65.015625 \nQ 17.703125 68.53125 17.21875 75.515625 \nz\n\" id=\"DejaVuSans-1081\"/>\n      <path d=\"M 38.140625 57.90625 \nQ 27.546875 56.9375 21.921875 51.953125 \nQ 16.3125 46.96875 16.3125 37.359375 \nQ 16.3125 27.734375 21.921875 22.78125 \nQ 27.546875 17.828125 38.140625 16.84375 \nz\nM 48.046875 16.84375 \nQ 58.640625 17.828125 64.203125 22.78125 \nQ 69.78125 27.734375 69.78125 37.359375 \nQ 69.78125 46.96875 64.203125 51.953125 \nQ 58.640625 56.9375 48.046875 57.90625 \nz\nM 38.140625 8.6875 \nQ 22.65625 9.8125 14.28125 17.109375 \nQ 5.90625 24.421875 5.90625 37.359375 \nQ 5.90625 50.296875 14.28125 57.640625 \nQ 22.65625 64.984375 38.140625 66.109375 \nL 38.140625 72.90625 \nL 48.046875 72.90625 \nL 48.046875 66.109375 \nQ 63.53125 64.984375 71.84375 57.6875 \nQ 80.171875 50.390625 80.171875 37.359375 \nQ 80.171875 24.421875 71.84375 17.109375 \nQ 63.53125 9.8125 48.046875 8.6875 \nL 48.046875 0 \nL 38.140625 0 \nz\n\" id=\"DejaVuSans-1060\"/>\n      <path d=\"M 21.625 7.171875 \nL 47.703125 7.171875 \nL 47.703125 47.515625 \nL 28.8125 47.515625 \nL 28.8125 40.671875 \nQ 28.8125 20.5625 23.046875 9.8125 \nz\nM 8.59375 7.171875 \nQ 13.03125 9.125 14.984375 13.28125 \nQ 19.78125 23.578125 19.78125 44.34375 \nL 19.78125 54.6875 \nL 56.734375 54.6875 \nL 56.734375 7.171875 \nL 63.921875 7.171875 \nL 63.921875 -13.8125 \nL 56.734375 -13.8125 \nL 56.734375 0 \nL 12.40625 0 \nL 12.40625 -13.8125 \nL 5.21875 -13.8125 \nL 5.21875 7.171875 \nz\n\" id=\"DejaVuSans-1076\"/>\n      <path d=\"M 56.296875 0 \nL 9.078125 0 \nL 9.078125 54.6875 \nL 18.109375 54.6875 \nL 18.109375 7.171875 \nL 47.265625 7.171875 \nL 47.265625 54.6875 \nL 56.296875 54.6875 \nL 56.296875 7.171875 \nL 63.484375 7.171875 \nL 63.484375 -13.8125 \nL 56.296875 -13.8125 \nz\n\" id=\"DejaVuSans-1094\"/>\n      <path d=\"M 22.796875 8.296875 \nL 55.03125 8.296875 \nL 55.03125 64.59375 \nL 31.34375 64.59375 \nL 31.34375 54.25 \nQ 31.34375 29.890625 25.875 13.71875 \nQ 24.75 10.40625 22.796875 8.296875 \nz\nM 8.40625 8.296875 \nQ 14.9375 11.375 16.796875 17.234375 \nQ 21.53125 32.28125 21.53125 59.125 \nL 21.53125 72.90625 \nL 64.890625 72.90625 \nL 64.890625 8.296875 \nL 73.1875 8.296875 \nL 73.1875 -15.671875 \nL 64.890625 -15.671875 \nL 64.890625 0 \nL 13.234375 0 \nL 13.234375 -15.671875 \nL 4.9375 -15.671875 \nL 4.9375 8.296875 \nz\n\" id=\"DejaVuSans-1044\"/>\n      <path d=\"M 56.296875 54.6875 \nL 56.296875 0 \nL 47.265625 0 \nL 47.265625 47.515625 \nL 18.109375 47.515625 \nL 18.109375 0 \nL 9.078125 0 \nL 9.078125 54.6875 \nz\n\" id=\"DejaVuSans-1087\"/>\n      <path d=\"M 9.078125 54.6875 \nL 22.21875 54.6875 \nL 37.75 18.0625 \nL 53.328125 54.6875 \nL 66.359375 54.6875 \nL 66.359375 0 \nL 57.328125 0 \nL 57.328125 46.09375 \nL 42.234375 10.5 \nL 33.25 10.5 \nL 18.109375 46.09375 \nL 18.109375 0 \nL 9.078125 0 \nz\n\" id=\"DejaVuSans-1084\"/>\n      <path d=\"M 9.078125 0 \nL 9.078125 54.6875 \nL 47.65625 54.6875 \nL 47.65625 47.515625 \nL 18.109375 47.515625 \nL 18.109375 0 \nz\n\" id=\"DejaVuSans-1075\"/>\n      <path d=\"M 3.71875 0 \nL 3.71875 7.46875 \nQ 12.59375 8.84375 15.328125 14.984375 \nQ 18.65625 23.640625 18.65625 45.75 \nL 18.65625 54.6875 \nL 55.609375 54.6875 \nL 55.609375 0 \nL 46.625 0 \nL 46.625 47.515625 \nL 27.640625 47.515625 \nL 27.640625 42.09375 \nQ 27.640625 21 23.34375 11.53125 \nQ 18.75 1.421875 3.71875 0 \nz\n\" id=\"DejaVuSans-1083\"/>\n      <path d=\"M 14.796875 27.296875 \nQ 14.796875 15.828125 18.328125 10.96875 \nQ 21.875 6.109375 27.875 6.109375 \nQ 32.671875 6.109375 38.234375 14.3125 \nL 38.234375 40.28125 \nQ 32.671875 48.484375 27.875 48.484375 \nQ 21.875 48.484375 18.328125 43.625 \nQ 14.796875 38.765625 14.796875 27.296875 \nz\nM 38.234375 -20.796875 \nL 38.234375 6.984375 \nQ 35.453125 2.390625 32.25 0.484375 \nQ 29.046875 -1.421875 25 -1.421875 \nQ 16.84375 -1.421875 11.15625 6.125 \nQ 5.46875 13.671875 5.46875 27.09375 \nQ 5.46875 40.53125 11.15625 48.265625 \nQ 16.84375 56 25 56 \nQ 29.046875 56 32.25 54.140625 \nQ 35.453125 52.296875 38.234375 47.703125 \nL 38.234375 72.90625 \nL 47.265625 72.90625 \nL 47.265625 47.703125 \nQ 50.046875 52.296875 53.25 54.140625 \nQ 56.453125 56 60.5 56 \nQ 68.65625 56 74.34375 48.265625 \nQ 80.03125 40.53125 80.03125 27.09375 \nQ 80.03125 13.671875 74.34375 6.125 \nQ 68.65625 -1.421875 60.5 -1.421875 \nQ 56.453125 -1.421875 53.25 0.484375 \nQ 50.046875 2.390625 47.265625 6.984375 \nL 47.265625 -20.796875 \nz\nM 70.703125 27.296875 \nQ 70.703125 38.765625 67.15625 43.625 \nQ 63.625 48.484375 57.625 48.484375 \nQ 52.828125 48.484375 47.265625 40.28125 \nL 47.265625 14.3125 \nQ 52.828125 6.109375 57.625 6.109375 \nQ 63.625 6.109375 67.15625 10.96875 \nQ 70.703125 15.828125 70.703125 27.296875 \nz\n\" id=\"DejaVuSans-1092\"/>\n      <path d=\"M 41.015625 0 \nL 41.015625 23 \nL 24.265625 23 \nQ 16.796875 23 11.8125 27.640625 \nQ 7.328125 31.84375 7.328125 40.828125 \nL 7.328125 54.6875 \nL 16.3125 54.6875 \nL 16.3125 41.65625 \nQ 16.3125 35.9375 18.84375 33.0625 \nQ 21.4375 30.171875 26.515625 30.171875 \nL 41.015625 30.171875 \nL 41.015625 54.6875 \nL 50 54.6875 \nL 50 0 \nz\n\" id=\"DejaVuSans-1095\"/>\n      <path d=\"M 54.890625 54.6875 \nL 35.109375 28.078125 \nL 55.90625 0 \nL 45.3125 0 \nL 29.390625 21.484375 \nL 13.484375 0 \nL 2.875 0 \nL 24.125 28.609375 \nL 4.6875 54.6875 \nL 15.28125 54.6875 \nL 29.78125 35.203125 \nL 44.28125 54.6875 \nz\n\" id=\"DejaVuSans-1093\"/>\n      <path d=\"M 65.375 72.90625 \nL 65.375 0 \nL 55.515625 0 \nL 55.515625 64.59375 \nL 19.671875 64.59375 \nL 19.671875 0 \nL 9.8125 0 \nL 9.8125 72.90625 \nz\n\" id=\"DejaVuSans-1055\"/>\n      <path d=\"M 39.40625 66.21875 \nQ 28.65625 66.21875 22.328125 58.203125 \nQ 16.015625 50.203125 16.015625 36.375 \nQ 16.015625 22.609375 22.328125 14.59375 \nQ 28.65625 6.59375 39.40625 6.59375 \nQ 50.140625 6.59375 56.421875 14.59375 \nQ 62.703125 22.609375 62.703125 36.375 \nQ 62.703125 50.203125 56.421875 58.203125 \nQ 50.140625 66.21875 39.40625 66.21875 \nz\nM 39.40625 74.21875 \nQ 54.734375 74.21875 63.90625 63.9375 \nQ 73.09375 53.65625 73.09375 36.375 \nQ 73.09375 19.140625 63.90625 8.859375 \nQ 54.734375 -1.421875 39.40625 -1.421875 \nQ 24.03125 -1.421875 14.8125 8.828125 \nQ 5.609375 19.09375 5.609375 36.375 \nQ 5.609375 53.65625 14.8125 63.9375 \nQ 24.03125 74.21875 39.40625 74.21875 \nz\n\" id=\"DejaVuSans-1054\"/>\n      <path d=\"M 8.015625 75.875 \nL 15.828125 75.875 \nQ 23.140625 64.359375 26.78125 53.3125 \nQ 30.421875 42.28125 30.421875 31.390625 \nQ 30.421875 20.453125 26.78125 9.375 \nQ 23.140625 -1.703125 15.828125 -13.1875 \nL 8.015625 -13.1875 \nQ 14.5 -2 17.703125 9.0625 \nQ 20.90625 20.125 20.90625 31.390625 \nQ 20.90625 42.671875 17.703125 53.65625 \nQ 14.5 64.65625 8.015625 75.875 \nz\n\" id=\"DejaVuSans-41\"/>\n     </defs>\n     <g transform=\"translate(39.2 23.96875)scale(0.1 -0.1)\">\n      <use xlink:href=\"#DejaVuSans-1063\"/>\n      <use x=\"68.554688\" xlink:href=\"#DejaVuSans-1077\"/>\n      <use x=\"130.078125\" xlink:href=\"#DejaVuSans-1088\"/>\n      <use x=\"193.554688\" xlink:href=\"#DejaVuSans-1085\"/>\n      <use x=\"258.935547\" xlink:href=\"#DejaVuSans-1086\"/>\n      <use x=\"320.117188\" xlink:href=\"#DejaVuSans-1089\"/>\n      <use x=\"375.097656\" xlink:href=\"#DejaVuSans-1082\"/>\n      <use x=\"435.498047\" xlink:href=\"#DejaVuSans-1091\"/>\n      <use x=\"494.677734\" xlink:href=\"#DejaVuSans-1090\"/>\n      <use x=\"552.929688\" xlink:href=\"#DejaVuSans-1086\"/>\n      <use x=\"614.111328\" xlink:href=\"#DejaVuSans-1074\"/>\n      <use x=\"673.046875\" xlink:href=\"#DejaVuSans-1072\"/>\n      <use x=\"734.326172\" xlink:href=\"#DejaVuSans-32\"/>\n      <use x=\"766.113281\" xlink:href=\"#DejaVuSans-1048\"/>\n      <use x=\"840.917969\" xlink:href=\"#DejaVuSans-46\"/>\n      <use x=\"872.705078\" xlink:href=\"#DejaVuSans-1040\"/>\n      <use x=\"941.113281\" xlink:href=\"#DejaVuSans-46\"/>\n      <use x=\"972.900391\" xlink:href=\"#DejaVuSans-32\"/>\n      <use x=\"1004.6875\" xlink:href=\"#DejaVuSans-40\"/>\n      <use x=\"1043.701172\" xlink:href=\"#DejaVuSans-1052\"/>\n      <use x=\"1129.980469\" xlink:href=\"#DejaVuSans-1080\"/>\n      <use x=\"1194.970703\" xlink:href=\"#DejaVuSans-1085\"/>\n      <use x=\"1260.351562\" xlink:href=\"#DejaVuSans-1080\"/>\n      <use x=\"1325.341797\" xlink:href=\"#DejaVuSans-1089\"/>\n      <use x=\"1380.322266\" xlink:href=\"#DejaVuSans-1090\"/>\n      <use x=\"1438.574219\" xlink:href=\"#DejaVuSans-1077\"/>\n      <use x=\"1500.097656\" xlink:href=\"#DejaVuSans-1088\"/>\n      <use x=\"1563.574219\" xlink:href=\"#DejaVuSans-1089\"/>\n      <use x=\"1618.554688\" xlink:href=\"#DejaVuSans-1090\"/>\n      <use x=\"1676.806641\" xlink:href=\"#DejaVuSans-1074\"/>\n      <use x=\"1735.742188\" xlink:href=\"#DejaVuSans-1086\"/>\n      <use x=\"1796.923828\" xlink:href=\"#DejaVuSans-32\"/>\n      <use x=\"1828.710938\" xlink:href=\"#DejaVuSans-1086\"/>\n      <use x=\"1889.892578\" xlink:href=\"#DejaVuSans-1073\"/>\n      <use x=\"1951.5625\" xlink:href=\"#DejaVuSans-1088\"/>\n      <use x=\"2015.039062\" xlink:href=\"#DejaVuSans-1072\"/>\n      <use x=\"2076.318359\" xlink:href=\"#DejaVuSans-1079\"/>\n      <use x=\"2129.492188\" xlink:href=\"#DejaVuSans-1086\"/>\n      <use x=\"2190.673828\" xlink:href=\"#DejaVuSans-1074\"/>\n      <use x=\"2249.609375\" xlink:href=\"#DejaVuSans-1072\"/>\n      <use x=\"2310.888672\" xlink:href=\"#DejaVuSans-1085\"/>\n      <use x=\"2376.269531\" xlink:href=\"#DejaVuSans-1080\"/>\n      <use x=\"2441.259766\" xlink:href=\"#DejaVuSans-1103\"/>\n      <use x=\"2501.416016\" xlink:href=\"#DejaVuSans-32\"/>\n      <use x=\"2533.203125\" xlink:href=\"#DejaVuSans-1080\"/>\n      <use x=\"2598.193359\" xlink:href=\"#DejaVuSans-32\"/>\n      <use x=\"2629.980469\" xlink:href=\"#DejaVuSans-1085\"/>\n      <use x=\"2695.361328\" xlink:href=\"#DejaVuSans-1072\"/>\n      <use x=\"2756.640625\" xlink:href=\"#DejaVuSans-1091\"/>\n      <use x=\"2815.820312\" xlink:href=\"#DejaVuSans-1082\"/>\n      <use x=\"2876.220703\" xlink:href=\"#DejaVuSans-1080\"/>\n      <use x=\"2941.210938\" xlink:href=\"#DejaVuSans-32\"/>\n      <use x=\"2972.998047\" xlink:href=\"#DejaVuSans-1056\"/>\n      <use x=\"3033.300781\" xlink:href=\"#DejaVuSans-1086\"/>\n      <use x=\"3094.482422\" xlink:href=\"#DejaVuSans-1089\"/>\n      <use x=\"3149.462891\" xlink:href=\"#DejaVuSans-1089\"/>\n      <use x=\"3204.443359\" xlink:href=\"#DejaVuSans-1080\"/>\n      <use x=\"3269.433594\" xlink:href=\"#DejaVuSans-1081\"/>\n      <use x=\"3334.423828\" xlink:href=\"#DejaVuSans-1089\"/>\n      <use x=\"3389.404297\" xlink:href=\"#DejaVuSans-1082\"/>\n      <use x=\"3449.804688\" xlink:href=\"#DejaVuSans-1086\"/>\n      <use x=\"3510.986328\" xlink:href=\"#DejaVuSans-1081\"/>\n      <use x=\"3575.976562\" xlink:href=\"#DejaVuSans-32\"/>\n      <use x=\"3607.763672\" xlink:href=\"#DejaVuSans-1060\"/>\n      <use x=\"3693.847656\" xlink:href=\"#DejaVuSans-1077\"/>\n      <use x=\"3755.371094\" xlink:href=\"#DejaVuSans-1076\"/>\n      <use x=\"3824.511719\" xlink:href=\"#DejaVuSans-1077\"/>\n      <use x=\"3886.035156\" xlink:href=\"#DejaVuSans-1088\"/>\n      <use x=\"3949.511719\" xlink:href=\"#DejaVuSans-1072\"/>\n      <use x=\"4010.791016\" xlink:href=\"#DejaVuSans-1094\"/>\n      <use x=\"4078.857422\" xlink:href=\"#DejaVuSans-1080\"/>\n      <use x=\"4143.847656\" xlink:href=\"#DejaVuSans-1080\"/>\n      <use x=\"4208.837891\" xlink:href=\"#DejaVuSans-46\"/>\n      <use x=\"4240.625\" xlink:href=\"#DejaVuSans-32\"/>\n      <use x=\"4272.412109\" xlink:href=\"#DejaVuSans-1044\"/>\n      <use x=\"4350.537109\" xlink:href=\"#DejaVuSans-1077\"/>\n      <use x=\"4412.060547\" xlink:href=\"#DejaVuSans-1087\"/>\n      <use x=\"4477.441406\" xlink:href=\"#DejaVuSans-1072\"/>\n      <use x=\"4538.720703\" xlink:href=\"#DejaVuSans-1088\"/>\n      <use x=\"4602.197266\" xlink:href=\"#DejaVuSans-1090\"/>\n      <use x=\"4660.449219\" xlink:href=\"#DejaVuSans-1072\"/>\n      <use x=\"4721.728516\" xlink:href=\"#DejaVuSans-1084\"/>\n      <use x=\"4797.167969\" xlink:href=\"#DejaVuSans-1077\"/>\n      <use x=\"4858.691406\" xlink:href=\"#DejaVuSans-1085\"/>\n      <use x=\"4924.072266\" xlink:href=\"#DejaVuSans-1090\"/>\n      <use x=\"4982.324219\" xlink:href=\"#DejaVuSans-32\"/>\n      <use x=\"5014.111328\" xlink:href=\"#DejaVuSans-1075\"/>\n      <use x=\"5066.650391\" xlink:href=\"#DejaVuSans-1086\"/>\n      <use x=\"5127.832031\" xlink:href=\"#DejaVuSans-1089\"/>\n      <use x=\"5182.8125\" xlink:href=\"#DejaVuSans-1091\"/>\n      <use x=\"5241.992188\" xlink:href=\"#DejaVuSans-1076\"/>\n      <use x=\"5311.132812\" xlink:href=\"#DejaVuSans-1072\"/>\n      <use x=\"5372.412109\" xlink:href=\"#DejaVuSans-1088\"/>\n      <use x=\"5435.888672\" xlink:href=\"#DejaVuSans-1089\"/>\n      <use x=\"5490.869141\" xlink:href=\"#DejaVuSans-1090\"/>\n      <use x=\"5549.121094\" xlink:href=\"#DejaVuSans-1074\"/>\n      <use x=\"5608.056641\" xlink:href=\"#DejaVuSans-1077\"/>\n      <use x=\"5669.580078\" xlink:href=\"#DejaVuSans-1085\"/>\n      <use x=\"5734.960938\" xlink:href=\"#DejaVuSans-1085\"/>\n      <use x=\"5800.341797\" xlink:href=\"#DejaVuSans-1086\"/>\n      <use x=\"5861.523438\" xlink:href=\"#DejaVuSans-1081\"/>\n      <use x=\"5926.513672\" xlink:href=\"#DejaVuSans-32\"/>\n      <use x=\"5958.300781\" xlink:href=\"#DejaVuSans-1087\"/>\n      <use x=\"6023.681641\" xlink:href=\"#DejaVuSans-1086\"/>\n      <use x=\"6084.863281\" xlink:href=\"#DejaVuSans-1083\"/>\n      <use x=\"6148.779297\" xlink:href=\"#DejaVuSans-1080\"/>\n      <use x=\"6213.769531\" xlink:href=\"#DejaVuSans-1090\"/>\n      <use x=\"6272.021484\" xlink:href=\"#DejaVuSans-1080\"/>\n      <use x=\"6337.011719\" xlink:href=\"#DejaVuSans-1082\"/>\n      <use x=\"6397.412109\" xlink:href=\"#DejaVuSans-1080\"/>\n      <use x=\"6462.402344\" xlink:href=\"#DejaVuSans-32\"/>\n      <use x=\"6494.189453\" xlink:href=\"#DejaVuSans-1074\"/>\n      <use x=\"6553.125\" xlink:href=\"#DejaVuSans-32\"/>\n      <use x=\"6584.912109\" xlink:href=\"#DejaVuSans-1089\"/>\n      <use x=\"6639.892578\" xlink:href=\"#DejaVuSans-1092\"/>\n      <use x=\"6725.390625\" xlink:href=\"#DejaVuSans-1077\"/>\n      <use x=\"6786.914062\" xlink:href=\"#DejaVuSans-1088\"/>\n      <use x=\"6850.390625\" xlink:href=\"#DejaVuSans-1077\"/>\n      <use x=\"6911.914062\" xlink:href=\"#DejaVuSans-32\"/>\n      <use x=\"6943.701172\" xlink:href=\"#DejaVuSans-1087\"/>\n      <use x=\"7009.082031\" xlink:href=\"#DejaVuSans-1086\"/>\n      <use x=\"7070.263672\" xlink:href=\"#DejaVuSans-1076\"/>\n      <use x=\"7139.404297\" xlink:href=\"#DejaVuSans-1075\"/>\n      <use x=\"7191.943359\" xlink:href=\"#DejaVuSans-1086\"/>\n      <use x=\"7253.125\" xlink:href=\"#DejaVuSans-1090\"/>\n      <use x=\"7311.376953\" xlink:href=\"#DejaVuSans-1086\"/>\n      <use x=\"7372.558594\" xlink:href=\"#DejaVuSans-1074\"/>\n      <use x=\"7431.494141\" xlink:href=\"#DejaVuSans-1082\"/>\n      <use x=\"7491.894531\" xlink:href=\"#DejaVuSans-1080\"/>\n      <use x=\"7556.884766\" xlink:href=\"#DejaVuSans-32\"/>\n      <use x=\"7588.671875\" xlink:href=\"#DejaVuSans-1088\"/>\n      <use x=\"7652.148438\" xlink:href=\"#DejaVuSans-1072\"/>\n      <use x=\"7713.427734\" xlink:href=\"#DejaVuSans-1073\"/>\n      <use x=\"7775.097656\" xlink:href=\"#DejaVuSans-1086\"/>\n      <use x=\"7836.279297\" xlink:href=\"#DejaVuSans-1095\"/>\n      <use x=\"7895.361328\" xlink:href=\"#DejaVuSans-1080\"/>\n      <use x=\"7960.351562\" xlink:href=\"#DejaVuSans-1093\"/>\n      <use x=\"8019.53125\" xlink:href=\"#DejaVuSans-32\"/>\n      <use x=\"8051.318359\" xlink:href=\"#DejaVuSans-1082\"/>\n      <use x=\"8111.71875\" xlink:href=\"#DejaVuSans-1072\"/>\n      <use x=\"8172.998047\" xlink:href=\"#DejaVuSans-1076\"/>\n      <use x=\"8242.138672\" xlink:href=\"#DejaVuSans-1088\"/>\n      <use x=\"8305.615234\" xlink:href=\"#DejaVuSans-1086\"/>\n      <use x=\"8366.796875\" xlink:href=\"#DejaVuSans-1074\"/>\n      <use x=\"8425.732422\" xlink:href=\"#DejaVuSans-32\"/>\n      <use x=\"8457.519531\" xlink:href=\"#DejaVuSans-1080\"/>\n      <use x=\"8522.509766\" xlink:href=\"#DejaVuSans-32\"/>\n      <use x=\"8554.296875\" xlink:href=\"#DejaVuSans-1044\"/>\n      <use x=\"8632.421875\" xlink:href=\"#DejaVuSans-1055\"/>\n      <use x=\"8707.617188\" xlink:href=\"#DejaVuSans-1054\"/>\n      <use x=\"8786.328125\" xlink:href=\"#DejaVuSans-41\"/>\n     </g>\n    </g>\n    <g id=\"patch_19\">\n     <path d=\"M 11.2 38.817187 \nL 31.2 38.817187 \nL 31.2 31.817187 \nL 11.2 31.817187 \nz\n\" style=\"fill:#ff7f0e;\"/>\n    </g>\n    <g id=\"text_8\">\n     <!-- Картошкин С.А. (Министерство образования и науки Российской Федерации. Департамент государственной политики в сфере подготовки рабочих кадров и ДПО) -->\n     <defs>\n      <path d=\"M 9.8125 72.90625 \nL 19.671875 72.90625 \nL 19.671875 36.859375 \nL 54.9375 72.90625 \nL 67.578125 72.90625 \nL 39.40625 44.09375 \nL 69.046875 0 \nL 58.296875 0 \nL 33.015625 37.546875 \nL 19.671875 23.921875 \nL 19.671875 0 \nL 9.8125 0 \nz\n\" id=\"DejaVuSans-1050\"/>\n      <path d=\"M 50.25 7.171875 \nL 73.390625 7.171875 \nL 73.390625 54.6875 \nL 82.421875 54.6875 \nL 82.421875 0 \nL 9.078125 0 \nL 9.078125 54.6875 \nL 18.109375 54.6875 \nL 18.109375 7.171875 \nL 41.21875 7.171875 \nL 41.21875 54.6875 \nL 50.25 54.6875 \nz\n\" id=\"DejaVuSans-1096\"/>\n      <path d=\"M 64.40625 67.28125 \nL 64.40625 56.890625 \nQ 59.421875 61.53125 53.78125 63.8125 \nQ 48.140625 66.109375 41.796875 66.109375 \nQ 29.296875 66.109375 22.65625 58.46875 \nQ 16.015625 50.828125 16.015625 36.375 \nQ 16.015625 21.96875 22.65625 14.328125 \nQ 29.296875 6.6875 41.796875 6.6875 \nQ 48.140625 6.6875 53.78125 8.984375 \nQ 59.421875 11.28125 64.40625 15.921875 \nL 64.40625 5.609375 \nQ 59.234375 2.09375 53.4375 0.328125 \nQ 47.65625 -1.421875 41.21875 -1.421875 \nQ 24.65625 -1.421875 15.125 8.703125 \nQ 5.609375 18.84375 5.609375 36.375 \nQ 5.609375 53.953125 15.125 64.078125 \nQ 24.65625 74.21875 41.21875 74.21875 \nQ 47.75 74.21875 53.53125 72.484375 \nQ 59.328125 70.75 64.40625 67.28125 \nz\n\" id=\"DejaVuSans-1057\"/>\n     </defs>\n     <g transform=\"translate(39.2 38.817187)scale(0.1 -0.1)\">\n      <use xlink:href=\"#DejaVuSans-1050\"/>\n      <use x=\"70.996094\" xlink:href=\"#DejaVuSans-1072\"/>\n      <use x=\"132.275391\" xlink:href=\"#DejaVuSans-1088\"/>\n      <use x=\"195.751953\" xlink:href=\"#DejaVuSans-1090\"/>\n      <use x=\"254.003906\" xlink:href=\"#DejaVuSans-1086\"/>\n      <use x=\"315.185547\" xlink:href=\"#DejaVuSans-1096\"/>\n      <use x=\"406.689453\" xlink:href=\"#DejaVuSans-1082\"/>\n      <use x=\"467.089844\" xlink:href=\"#DejaVuSans-1080\"/>\n      <use x=\"532.080078\" xlink:href=\"#DejaVuSans-1085\"/>\n      <use x=\"597.460938\" xlink:href=\"#DejaVuSans-32\"/>\n      <use x=\"629.248047\" xlink:href=\"#DejaVuSans-1057\"/>\n      <use x=\"699.072266\" xlink:href=\"#DejaVuSans-46\"/>\n      <use x=\"730.859375\" xlink:href=\"#DejaVuSans-1040\"/>\n      <use x=\"799.267578\" xlink:href=\"#DejaVuSans-46\"/>\n      <use x=\"831.054688\" xlink:href=\"#DejaVuSans-32\"/>\n      <use x=\"862.841797\" xlink:href=\"#DejaVuSans-40\"/>\n      <use x=\"901.855469\" xlink:href=\"#DejaVuSans-1052\"/>\n      <use x=\"988.134766\" xlink:href=\"#DejaVuSans-1080\"/>\n      <use x=\"1053.125\" xlink:href=\"#DejaVuSans-1085\"/>\n      <use x=\"1118.505859\" xlink:href=\"#DejaVuSans-1080\"/>\n      <use x=\"1183.496094\" xlink:href=\"#DejaVuSans-1089\"/>\n      <use x=\"1238.476562\" xlink:href=\"#DejaVuSans-1090\"/>\n      <use x=\"1296.728516\" xlink:href=\"#DejaVuSans-1077\"/>\n      <use x=\"1358.251953\" xlink:href=\"#DejaVuSans-1088\"/>\n      <use x=\"1421.728516\" xlink:href=\"#DejaVuSans-1089\"/>\n      <use x=\"1476.708984\" xlink:href=\"#DejaVuSans-1090\"/>\n      <use x=\"1534.960938\" xlink:href=\"#DejaVuSans-1074\"/>\n      <use x=\"1593.896484\" xlink:href=\"#DejaVuSans-1086\"/>\n      <use x=\"1655.078125\" xlink:href=\"#DejaVuSans-32\"/>\n      <use x=\"1686.865234\" xlink:href=\"#DejaVuSans-1086\"/>\n      <use x=\"1748.046875\" xlink:href=\"#DejaVuSans-1073\"/>\n      <use x=\"1809.716797\" xlink:href=\"#DejaVuSans-1088\"/>\n      <use x=\"1873.193359\" xlink:href=\"#DejaVuSans-1072\"/>\n      <use x=\"1934.472656\" xlink:href=\"#DejaVuSans-1079\"/>\n      <use x=\"1987.646484\" xlink:href=\"#DejaVuSans-1086\"/>\n      <use x=\"2048.828125\" xlink:href=\"#DejaVuSans-1074\"/>\n      <use x=\"2107.763672\" xlink:href=\"#DejaVuSans-1072\"/>\n      <use x=\"2169.042969\" xlink:href=\"#DejaVuSans-1085\"/>\n      <use x=\"2234.423828\" xlink:href=\"#DejaVuSans-1080\"/>\n      <use x=\"2299.414062\" xlink:href=\"#DejaVuSans-1103\"/>\n      <use x=\"2359.570312\" xlink:href=\"#DejaVuSans-32\"/>\n      <use x=\"2391.357422\" xlink:href=\"#DejaVuSans-1080\"/>\n      <use x=\"2456.347656\" xlink:href=\"#DejaVuSans-32\"/>\n      <use x=\"2488.134766\" xlink:href=\"#DejaVuSans-1085\"/>\n      <use x=\"2553.515625\" xlink:href=\"#DejaVuSans-1072\"/>\n      <use x=\"2614.794922\" xlink:href=\"#DejaVuSans-1091\"/>\n      <use x=\"2673.974609\" xlink:href=\"#DejaVuSans-1082\"/>\n      <use x=\"2734.375\" xlink:href=\"#DejaVuSans-1080\"/>\n      <use x=\"2799.365234\" xlink:href=\"#DejaVuSans-32\"/>\n      <use x=\"2831.152344\" xlink:href=\"#DejaVuSans-1056\"/>\n      <use x=\"2891.455078\" xlink:href=\"#DejaVuSans-1086\"/>\n      <use x=\"2952.636719\" xlink:href=\"#DejaVuSans-1089\"/>\n      <use x=\"3007.617188\" xlink:href=\"#DejaVuSans-1089\"/>\n      <use x=\"3062.597656\" xlink:href=\"#DejaVuSans-1080\"/>\n      <use x=\"3127.587891\" xlink:href=\"#DejaVuSans-1081\"/>\n      <use x=\"3192.578125\" xlink:href=\"#DejaVuSans-1089\"/>\n      <use x=\"3247.558594\" xlink:href=\"#DejaVuSans-1082\"/>\n      <use x=\"3307.958984\" xlink:href=\"#DejaVuSans-1086\"/>\n      <use x=\"3369.140625\" xlink:href=\"#DejaVuSans-1081\"/>\n      <use x=\"3434.130859\" xlink:href=\"#DejaVuSans-32\"/>\n      <use x=\"3465.917969\" xlink:href=\"#DejaVuSans-1060\"/>\n      <use x=\"3552.001953\" xlink:href=\"#DejaVuSans-1077\"/>\n      <use x=\"3613.525391\" xlink:href=\"#DejaVuSans-1076\"/>\n      <use x=\"3682.666016\" xlink:href=\"#DejaVuSans-1077\"/>\n      <use x=\"3744.189453\" xlink:href=\"#DejaVuSans-1088\"/>\n      <use x=\"3807.666016\" xlink:href=\"#DejaVuSans-1072\"/>\n      <use x=\"3868.945312\" xlink:href=\"#DejaVuSans-1094\"/>\n      <use x=\"3937.011719\" xlink:href=\"#DejaVuSans-1080\"/>\n      <use x=\"4002.001953\" xlink:href=\"#DejaVuSans-1080\"/>\n      <use x=\"4066.992188\" xlink:href=\"#DejaVuSans-46\"/>\n      <use x=\"4098.779297\" xlink:href=\"#DejaVuSans-32\"/>\n      <use x=\"4130.566406\" xlink:href=\"#DejaVuSans-1044\"/>\n      <use x=\"4208.691406\" xlink:href=\"#DejaVuSans-1077\"/>\n      <use x=\"4270.214844\" xlink:href=\"#DejaVuSans-1087\"/>\n      <use x=\"4335.595703\" xlink:href=\"#DejaVuSans-1072\"/>\n      <use x=\"4396.875\" xlink:href=\"#DejaVuSans-1088\"/>\n      <use x=\"4460.351562\" xlink:href=\"#DejaVuSans-1090\"/>\n      <use x=\"4518.603516\" xlink:href=\"#DejaVuSans-1072\"/>\n      <use x=\"4579.882812\" xlink:href=\"#DejaVuSans-1084\"/>\n      <use x=\"4655.322266\" xlink:href=\"#DejaVuSans-1077\"/>\n      <use x=\"4716.845703\" xlink:href=\"#DejaVuSans-1085\"/>\n      <use x=\"4782.226562\" xlink:href=\"#DejaVuSans-1090\"/>\n      <use x=\"4840.478516\" xlink:href=\"#DejaVuSans-32\"/>\n      <use x=\"4872.265625\" xlink:href=\"#DejaVuSans-1075\"/>\n      <use x=\"4924.804688\" xlink:href=\"#DejaVuSans-1086\"/>\n      <use x=\"4985.986328\" xlink:href=\"#DejaVuSans-1089\"/>\n      <use x=\"5040.966797\" xlink:href=\"#DejaVuSans-1091\"/>\n      <use x=\"5100.146484\" xlink:href=\"#DejaVuSans-1076\"/>\n      <use x=\"5169.287109\" xlink:href=\"#DejaVuSans-1072\"/>\n      <use x=\"5230.566406\" xlink:href=\"#DejaVuSans-1088\"/>\n      <use x=\"5294.042969\" xlink:href=\"#DejaVuSans-1089\"/>\n      <use x=\"5349.023438\" xlink:href=\"#DejaVuSans-1090\"/>\n      <use x=\"5407.275391\" xlink:href=\"#DejaVuSans-1074\"/>\n      <use x=\"5466.210938\" xlink:href=\"#DejaVuSans-1077\"/>\n      <use x=\"5527.734375\" xlink:href=\"#DejaVuSans-1085\"/>\n      <use x=\"5593.115234\" xlink:href=\"#DejaVuSans-1085\"/>\n      <use x=\"5658.496094\" xlink:href=\"#DejaVuSans-1086\"/>\n      <use x=\"5719.677734\" xlink:href=\"#DejaVuSans-1081\"/>\n      <use x=\"5784.667969\" xlink:href=\"#DejaVuSans-32\"/>\n      <use x=\"5816.455078\" xlink:href=\"#DejaVuSans-1087\"/>\n      <use x=\"5881.835938\" xlink:href=\"#DejaVuSans-1086\"/>\n      <use x=\"5943.017578\" xlink:href=\"#DejaVuSans-1083\"/>\n      <use x=\"6006.933594\" xlink:href=\"#DejaVuSans-1080\"/>\n      <use x=\"6071.923828\" xlink:href=\"#DejaVuSans-1090\"/>\n      <use x=\"6130.175781\" xlink:href=\"#DejaVuSans-1080\"/>\n      <use x=\"6195.166016\" xlink:href=\"#DejaVuSans-1082\"/>\n      <use x=\"6255.566406\" xlink:href=\"#DejaVuSans-1080\"/>\n      <use x=\"6320.556641\" xlink:href=\"#DejaVuSans-32\"/>\n      <use x=\"6352.34375\" xlink:href=\"#DejaVuSans-1074\"/>\n      <use x=\"6411.279297\" xlink:href=\"#DejaVuSans-32\"/>\n      <use x=\"6443.066406\" xlink:href=\"#DejaVuSans-1089\"/>\n      <use x=\"6498.046875\" xlink:href=\"#DejaVuSans-1092\"/>\n      <use x=\"6583.544922\" xlink:href=\"#DejaVuSans-1077\"/>\n      <use x=\"6645.068359\" xlink:href=\"#DejaVuSans-1088\"/>\n      <use x=\"6708.544922\" xlink:href=\"#DejaVuSans-1077\"/>\n      <use x=\"6770.068359\" xlink:href=\"#DejaVuSans-32\"/>\n      <use x=\"6801.855469\" xlink:href=\"#DejaVuSans-1087\"/>\n      <use x=\"6867.236328\" xlink:href=\"#DejaVuSans-1086\"/>\n      <use x=\"6928.417969\" xlink:href=\"#DejaVuSans-1076\"/>\n      <use x=\"6997.558594\" xlink:href=\"#DejaVuSans-1075\"/>\n      <use x=\"7050.097656\" xlink:href=\"#DejaVuSans-1086\"/>\n      <use x=\"7111.279297\" xlink:href=\"#DejaVuSans-1090\"/>\n      <use x=\"7169.53125\" xlink:href=\"#DejaVuSans-1086\"/>\n      <use x=\"7230.712891\" xlink:href=\"#DejaVuSans-1074\"/>\n      <use x=\"7289.648438\" xlink:href=\"#DejaVuSans-1082\"/>\n      <use x=\"7350.048828\" xlink:href=\"#DejaVuSans-1080\"/>\n      <use x=\"7415.039062\" xlink:href=\"#DejaVuSans-32\"/>\n      <use x=\"7446.826172\" xlink:href=\"#DejaVuSans-1088\"/>\n      <use x=\"7510.302734\" xlink:href=\"#DejaVuSans-1072\"/>\n      <use x=\"7571.582031\" xlink:href=\"#DejaVuSans-1073\"/>\n      <use x=\"7633.251953\" xlink:href=\"#DejaVuSans-1086\"/>\n      <use x=\"7694.433594\" xlink:href=\"#DejaVuSans-1095\"/>\n      <use x=\"7753.515625\" xlink:href=\"#DejaVuSans-1080\"/>\n      <use x=\"7818.505859\" xlink:href=\"#DejaVuSans-1093\"/>\n      <use x=\"7877.685547\" xlink:href=\"#DejaVuSans-32\"/>\n      <use x=\"7909.472656\" xlink:href=\"#DejaVuSans-1082\"/>\n      <use x=\"7969.873047\" xlink:href=\"#DejaVuSans-1072\"/>\n      <use x=\"8031.152344\" xlink:href=\"#DejaVuSans-1076\"/>\n      <use x=\"8100.292969\" xlink:href=\"#DejaVuSans-1088\"/>\n      <use x=\"8163.769531\" xlink:href=\"#DejaVuSans-1086\"/>\n      <use x=\"8224.951172\" xlink:href=\"#DejaVuSans-1074\"/>\n      <use x=\"8283.886719\" xlink:href=\"#DejaVuSans-32\"/>\n      <use x=\"8315.673828\" xlink:href=\"#DejaVuSans-1080\"/>\n      <use x=\"8380.664062\" xlink:href=\"#DejaVuSans-32\"/>\n      <use x=\"8412.451172\" xlink:href=\"#DejaVuSans-1044\"/>\n      <use x=\"8490.576172\" xlink:href=\"#DejaVuSans-1055\"/>\n      <use x=\"8565.771484\" xlink:href=\"#DejaVuSans-1054\"/>\n      <use x=\"8644.482422\" xlink:href=\"#DejaVuSans-41\"/>\n     </g>\n    </g>\n    <g id=\"patch_20\">\n     <path d=\"M 11.2 53.665625 \nL 31.2 53.665625 \nL 31.2 46.665625 \nL 11.2 46.665625 \nz\n\" style=\"fill:#2ca02c;\"/>\n    </g>\n    <g id=\"text_9\">\n     <!-- Потехина И.П. (Министерство образования и науки Российской Федерации) -->\n     <g transform=\"translate(39.2 53.665625)scale(0.1 -0.1)\">\n      <use xlink:href=\"#DejaVuSans-1055\"/>\n      <use x=\"75.195312\" xlink:href=\"#DejaVuSans-1086\"/>\n      <use x=\"136.376953\" xlink:href=\"#DejaVuSans-1090\"/>\n      <use x=\"194.628906\" xlink:href=\"#DejaVuSans-1077\"/>\n      <use x=\"256.152344\" xlink:href=\"#DejaVuSans-1093\"/>\n      <use x=\"315.332031\" xlink:href=\"#DejaVuSans-1080\"/>\n      <use x=\"380.322266\" xlink:href=\"#DejaVuSans-1085\"/>\n      <use x=\"445.703125\" xlink:href=\"#DejaVuSans-1072\"/>\n      <use x=\"506.982422\" xlink:href=\"#DejaVuSans-32\"/>\n      <use x=\"538.769531\" xlink:href=\"#DejaVuSans-1048\"/>\n      <use x=\"613.574219\" xlink:href=\"#DejaVuSans-46\"/>\n      <use x=\"645.361328\" xlink:href=\"#DejaVuSans-1055\"/>\n      <use x=\"720.556641\" xlink:href=\"#DejaVuSans-46\"/>\n      <use x=\"752.34375\" xlink:href=\"#DejaVuSans-32\"/>\n      <use x=\"784.130859\" xlink:href=\"#DejaVuSans-40\"/>\n      <use x=\"823.144531\" xlink:href=\"#DejaVuSans-1052\"/>\n      <use x=\"909.423828\" xlink:href=\"#DejaVuSans-1080\"/>\n      <use x=\"974.414062\" xlink:href=\"#DejaVuSans-1085\"/>\n      <use x=\"1039.794922\" xlink:href=\"#DejaVuSans-1080\"/>\n      <use x=\"1104.785156\" xlink:href=\"#DejaVuSans-1089\"/>\n      <use x=\"1159.765625\" xlink:href=\"#DejaVuSans-1090\"/>\n      <use x=\"1218.017578\" xlink:href=\"#DejaVuSans-1077\"/>\n      <use x=\"1279.541016\" xlink:href=\"#DejaVuSans-1088\"/>\n      <use x=\"1343.017578\" xlink:href=\"#DejaVuSans-1089\"/>\n      <use x=\"1397.998047\" xlink:href=\"#DejaVuSans-1090\"/>\n      <use x=\"1456.25\" xlink:href=\"#DejaVuSans-1074\"/>\n      <use x=\"1515.185547\" xlink:href=\"#DejaVuSans-1086\"/>\n      <use x=\"1576.367188\" xlink:href=\"#DejaVuSans-32\"/>\n      <use x=\"1608.154297\" xlink:href=\"#DejaVuSans-1086\"/>\n      <use x=\"1669.335938\" xlink:href=\"#DejaVuSans-1073\"/>\n      <use x=\"1731.005859\" xlink:href=\"#DejaVuSans-1088\"/>\n      <use x=\"1794.482422\" xlink:href=\"#DejaVuSans-1072\"/>\n      <use x=\"1855.761719\" xlink:href=\"#DejaVuSans-1079\"/>\n      <use x=\"1908.935547\" xlink:href=\"#DejaVuSans-1086\"/>\n      <use x=\"1970.117188\" xlink:href=\"#DejaVuSans-1074\"/>\n      <use x=\"2029.052734\" xlink:href=\"#DejaVuSans-1072\"/>\n      <use x=\"2090.332031\" xlink:href=\"#DejaVuSans-1085\"/>\n      <use x=\"2155.712891\" xlink:href=\"#DejaVuSans-1080\"/>\n      <use x=\"2220.703125\" xlink:href=\"#DejaVuSans-1103\"/>\n      <use x=\"2280.859375\" xlink:href=\"#DejaVuSans-32\"/>\n      <use x=\"2312.646484\" xlink:href=\"#DejaVuSans-1080\"/>\n      <use x=\"2377.636719\" xlink:href=\"#DejaVuSans-32\"/>\n      <use x=\"2409.423828\" xlink:href=\"#DejaVuSans-1085\"/>\n      <use x=\"2474.804688\" xlink:href=\"#DejaVuSans-1072\"/>\n      <use x=\"2536.083984\" xlink:href=\"#DejaVuSans-1091\"/>\n      <use x=\"2595.263672\" xlink:href=\"#DejaVuSans-1082\"/>\n      <use x=\"2655.664062\" xlink:href=\"#DejaVuSans-1080\"/>\n      <use x=\"2720.654297\" xlink:href=\"#DejaVuSans-32\"/>\n      <use x=\"2752.441406\" xlink:href=\"#DejaVuSans-1056\"/>\n      <use x=\"2812.744141\" xlink:href=\"#DejaVuSans-1086\"/>\n      <use x=\"2873.925781\" xlink:href=\"#DejaVuSans-1089\"/>\n      <use x=\"2928.90625\" xlink:href=\"#DejaVuSans-1089\"/>\n      <use x=\"2983.886719\" xlink:href=\"#DejaVuSans-1080\"/>\n      <use x=\"3048.876953\" xlink:href=\"#DejaVuSans-1081\"/>\n      <use x=\"3113.867188\" xlink:href=\"#DejaVuSans-1089\"/>\n      <use x=\"3168.847656\" xlink:href=\"#DejaVuSans-1082\"/>\n      <use x=\"3229.248047\" xlink:href=\"#DejaVuSans-1086\"/>\n      <use x=\"3290.429688\" xlink:href=\"#DejaVuSans-1081\"/>\n      <use x=\"3355.419922\" xlink:href=\"#DejaVuSans-32\"/>\n      <use x=\"3387.207031\" xlink:href=\"#DejaVuSans-1060\"/>\n      <use x=\"3473.291016\" xlink:href=\"#DejaVuSans-1077\"/>\n      <use x=\"3534.814453\" xlink:href=\"#DejaVuSans-1076\"/>\n      <use x=\"3603.955078\" xlink:href=\"#DejaVuSans-1077\"/>\n      <use x=\"3665.478516\" xlink:href=\"#DejaVuSans-1088\"/>\n      <use x=\"3728.955078\" xlink:href=\"#DejaVuSans-1072\"/>\n      <use x=\"3790.234375\" xlink:href=\"#DejaVuSans-1094\"/>\n      <use x=\"3858.300781\" xlink:href=\"#DejaVuSans-1080\"/>\n      <use x=\"3923.291016\" xlink:href=\"#DejaVuSans-1080\"/>\n      <use x=\"3988.28125\" xlink:href=\"#DejaVuSans-41\"/>\n     </g>\n    </g>\n    <g id=\"patch_21\">\n     <path d=\"M 11.2 68.514062 \nL 31.2 68.514062 \nL 31.2 61.514062 \nL 11.2 61.514062 \nz\n\" style=\"fill:#d62728;\"/>\n    </g>\n    <g id=\"text_10\">\n     <!-- Шевелева А.А. (Министерство образования Тульской области) -->\n     <defs>\n      <path d=\"M 58.40625 8.296875 \nL 87.25 8.296875 \nL 87.25 72.90625 \nL 97.125 72.90625 \nL 97.125 0 \nL 9.8125 0 \nL 9.8125 72.90625 \nL 19.671875 72.90625 \nL 19.671875 8.296875 \nL 48.53125 8.296875 \nL 48.53125 72.90625 \nL 58.40625 72.90625 \nz\n\" id=\"DejaVuSans-1064\"/>\n      <path d=\"M -0.296875 72.90625 \nL 61.375 72.90625 \nL 61.375 64.59375 \nL 35.5 64.59375 \nL 35.5 0 \nL 25.59375 0 \nL 25.59375 64.59375 \nL -0.296875 64.59375 \nz\n\" id=\"DejaVuSans-1058\"/>\n      <path d=\"M 43.453125 16.21875 \nQ 43.453125 20.609375 40.25 22.90625 \nQ 37.0625 25.203125 30.90625 25.203125 \nL 18.109375 25.203125 \nL 18.109375 7.171875 \nL 30.90625 7.171875 \nQ 37.0625 7.171875 40.25 9.484375 \nQ 43.453125 11.8125 43.453125 16.21875 \nz\nM 9.078125 54.6875 \nL 18.109375 54.6875 \nL 18.109375 32.375 \nL 31.296875 32.375 \nQ 41.75 32.375 47.390625 28.390625 \nQ 53.03125 24.421875 53.03125 16.21875 \nQ 53.03125 8.015625 47.390625 4 \nQ 41.75 0 31.296875 0 \nL 9.078125 0 \nz\n\" id=\"DejaVuSans-1100\"/>\n     </defs>\n     <g transform=\"translate(39.2 68.514062)scale(0.1 -0.1)\">\n      <use xlink:href=\"#DejaVuSans-1064\"/>\n      <use x=\"106.933594\" xlink:href=\"#DejaVuSans-1077\"/>\n      <use x=\"168.457031\" xlink:href=\"#DejaVuSans-1074\"/>\n      <use x=\"227.392578\" xlink:href=\"#DejaVuSans-1077\"/>\n      <use x=\"288.916016\" xlink:href=\"#DejaVuSans-1083\"/>\n      <use x=\"352.832031\" xlink:href=\"#DejaVuSans-1077\"/>\n      <use x=\"414.355469\" xlink:href=\"#DejaVuSans-1074\"/>\n      <use x=\"473.291016\" xlink:href=\"#DejaVuSans-1072\"/>\n      <use x=\"534.570312\" xlink:href=\"#DejaVuSans-32\"/>\n      <use x=\"566.357422\" xlink:href=\"#DejaVuSans-1040\"/>\n      <use x=\"634.765625\" xlink:href=\"#DejaVuSans-46\"/>\n      <use x=\"666.552734\" xlink:href=\"#DejaVuSans-1040\"/>\n      <use x=\"734.960938\" xlink:href=\"#DejaVuSans-46\"/>\n      <use x=\"766.748047\" xlink:href=\"#DejaVuSans-32\"/>\n      <use x=\"798.535156\" xlink:href=\"#DejaVuSans-40\"/>\n      <use x=\"837.548828\" xlink:href=\"#DejaVuSans-1052\"/>\n      <use x=\"923.828125\" xlink:href=\"#DejaVuSans-1080\"/>\n      <use x=\"988.818359\" xlink:href=\"#DejaVuSans-1085\"/>\n      <use x=\"1054.199219\" xlink:href=\"#DejaVuSans-1080\"/>\n      <use x=\"1119.189453\" xlink:href=\"#DejaVuSans-1089\"/>\n      <use x=\"1174.169922\" xlink:href=\"#DejaVuSans-1090\"/>\n      <use x=\"1232.421875\" xlink:href=\"#DejaVuSans-1077\"/>\n      <use x=\"1293.945312\" xlink:href=\"#DejaVuSans-1088\"/>\n      <use x=\"1357.421875\" xlink:href=\"#DejaVuSans-1089\"/>\n      <use x=\"1412.402344\" xlink:href=\"#DejaVuSans-1090\"/>\n      <use x=\"1470.654297\" xlink:href=\"#DejaVuSans-1074\"/>\n      <use x=\"1529.589844\" xlink:href=\"#DejaVuSans-1086\"/>\n      <use x=\"1590.771484\" xlink:href=\"#DejaVuSans-32\"/>\n      <use x=\"1622.558594\" xlink:href=\"#DejaVuSans-1086\"/>\n      <use x=\"1683.740234\" xlink:href=\"#DejaVuSans-1073\"/>\n      <use x=\"1745.410156\" xlink:href=\"#DejaVuSans-1088\"/>\n      <use x=\"1808.886719\" xlink:href=\"#DejaVuSans-1072\"/>\n      <use x=\"1870.166016\" xlink:href=\"#DejaVuSans-1079\"/>\n      <use x=\"1923.339844\" xlink:href=\"#DejaVuSans-1086\"/>\n      <use x=\"1984.521484\" xlink:href=\"#DejaVuSans-1074\"/>\n      <use x=\"2043.457031\" xlink:href=\"#DejaVuSans-1072\"/>\n      <use x=\"2104.736328\" xlink:href=\"#DejaVuSans-1085\"/>\n      <use x=\"2170.117188\" xlink:href=\"#DejaVuSans-1080\"/>\n      <use x=\"2235.107422\" xlink:href=\"#DejaVuSans-1103\"/>\n      <use x=\"2295.263672\" xlink:href=\"#DejaVuSans-32\"/>\n      <use x=\"2327.050781\" xlink:href=\"#DejaVuSans-1058\"/>\n      <use x=\"2388.134766\" xlink:href=\"#DejaVuSans-1091\"/>\n      <use x=\"2447.314453\" xlink:href=\"#DejaVuSans-1083\"/>\n      <use x=\"2511.230469\" xlink:href=\"#DejaVuSans-1100\"/>\n      <use x=\"2570.166016\" xlink:href=\"#DejaVuSans-1089\"/>\n      <use x=\"2625.146484\" xlink:href=\"#DejaVuSans-1082\"/>\n      <use x=\"2685.546875\" xlink:href=\"#DejaVuSans-1086\"/>\n      <use x=\"2746.728516\" xlink:href=\"#DejaVuSans-1081\"/>\n      <use x=\"2811.71875\" xlink:href=\"#DejaVuSans-32\"/>\n      <use x=\"2843.505859\" xlink:href=\"#DejaVuSans-1086\"/>\n      <use x=\"2904.6875\" xlink:href=\"#DejaVuSans-1073\"/>\n      <use x=\"2966.357422\" xlink:href=\"#DejaVuSans-1083\"/>\n      <use x=\"3030.273438\" xlink:href=\"#DejaVuSans-1072\"/>\n      <use x=\"3091.552734\" xlink:href=\"#DejaVuSans-1089\"/>\n      <use x=\"3146.533203\" xlink:href=\"#DejaVuSans-1090\"/>\n      <use x=\"3204.785156\" xlink:href=\"#DejaVuSans-1080\"/>\n      <use x=\"3269.775391\" xlink:href=\"#DejaVuSans-41\"/>\n     </g>\n    </g>\n    <g id=\"patch_22\">\n     <path d=\"M 11.2 83.3625 \nL 31.2 83.3625 \nL 31.2 76.3625 \nL 11.2 76.3625 \nz\n\" style=\"fill:#9467bd;\"/>\n    </g>\n    <g id=\"text_11\">\n     <!-- Соляников Ю.В. (Комитет по образованию Правительства Санкт-Петербурга) -->\n     <defs>\n      <path d=\"M 68.65625 66.21875 \nQ 57.90625 66.21875 51.5625 58.203125 \nQ 45.265625 50.203125 45.265625 36.375 \nQ 45.265625 22.609375 51.5625 14.59375 \nQ 57.90625 6.59375 68.65625 6.59375 \nQ 79.390625 6.59375 85.640625 14.59375 \nQ 91.9375 22.609375 91.9375 36.375 \nQ 91.9375 50.203125 85.640625 58.203125 \nQ 79.390625 66.21875 68.65625 66.21875 \nz\nM 35.015625 40.578125 \nQ 35.6875 54.25 44.484375 64.265625 \nQ 53.265625 74.21875 68.65625 74.21875 \nQ 83.984375 74.21875 93.171875 63.96875 \nQ 102.34375 53.65625 102.34375 36.375 \nQ 102.34375 19.140625 93.171875 8.890625 \nQ 83.984375 -1.421875 68.65625 -1.421875 \nQ 53.265625 -1.421875 44.484375 8.59375 \nQ 35.6875 18.609375 35.015625 32.28125 \nL 20.171875 32.28125 \nL 20.171875 0 \nL 10.296875 0 \nL 10.296875 72.90625 \nL 20.171875 72.90625 \nL 20.171875 40.578125 \nz\n\" id=\"DejaVuSans-1070\"/>\n      <path d=\"M 19.671875 34.8125 \nL 19.671875 8.109375 \nL 35.5 8.109375 \nQ 43.453125 8.109375 47.28125 11.40625 \nQ 51.125 14.703125 51.125 21.484375 \nQ 51.125 28.328125 47.28125 31.5625 \nQ 43.453125 34.8125 35.5 34.8125 \nz\nM 19.671875 64.796875 \nL 19.671875 42.828125 \nL 34.28125 42.828125 \nQ 41.5 42.828125 45.03125 45.53125 \nQ 48.578125 48.25 48.578125 53.8125 \nQ 48.578125 59.328125 45.03125 62.0625 \nQ 41.5 64.796875 34.28125 64.796875 \nz\nM 9.8125 72.90625 \nL 35.015625 72.90625 \nQ 46.296875 72.90625 52.390625 68.21875 \nQ 58.5 63.53125 58.5 54.890625 \nQ 58.5 48.1875 55.375 44.234375 \nQ 52.25 40.28125 46.1875 39.3125 \nQ 53.46875 37.75 57.5 32.78125 \nQ 61.53125 27.828125 61.53125 20.40625 \nQ 61.53125 10.640625 54.890625 5.3125 \nQ 48.25 0 35.984375 0 \nL 9.8125 0 \nz\n\" id=\"DejaVuSans-1042\"/>\n      <path d=\"M 53.609375 48.390625 \nQ 46.390625 48.390625 42.1875 42.75 \nQ 37.984375 37.109375 37.984375 27.296875 \nQ 37.984375 17.484375 42.15625 11.84375 \nQ 46.34375 6.203125 53.609375 6.203125 \nQ 60.796875 6.203125 64.984375 11.859375 \nQ 69.1875 17.53125 69.1875 27.296875 \nQ 69.1875 37.015625 64.984375 42.703125 \nQ 60.796875 48.390625 53.609375 48.390625 \nz\nM 28.8125 32.859375 \nQ 29.734375 42.140625 35.8125 49.0625 \nQ 41.890625 56 53.609375 56 \nQ 65.328125 56 72.015625 48.375 \nQ 78.71875 40.765625 78.71875 27.296875 \nQ 78.71875 13.875 72.015625 6.21875 \nQ 65.328125 -1.421875 53.609375 -1.421875 \nQ 41.84375 -1.421875 35.421875 5.953125 \nQ 29 13.328125 28.5625 25.4375 \nL 18.40625 25.4375 \nL 18.40625 0 \nL 9.421875 0 \nL 9.421875 54.6875 \nL 18.40625 54.6875 \nL 18.40625 32.859375 \nz\n\" id=\"DejaVuSans-1102\"/>\n      <path d=\"M 4.890625 31.390625 \nL 31.203125 31.390625 \nL 31.203125 23.390625 \nL 4.890625 23.390625 \nz\n\" id=\"DejaVuSans-45\"/>\n     </defs>\n     <g transform=\"translate(39.2 83.3625)scale(0.1 -0.1)\">\n      <use xlink:href=\"#DejaVuSans-1057\"/>\n      <use x=\"69.824219\" xlink:href=\"#DejaVuSans-1086\"/>\n      <use x=\"131.005859\" xlink:href=\"#DejaVuSans-1083\"/>\n      <use x=\"194.921875\" xlink:href=\"#DejaVuSans-1103\"/>\n      <use x=\"255.078125\" xlink:href=\"#DejaVuSans-1085\"/>\n      <use x=\"320.458984\" xlink:href=\"#DejaVuSans-1080\"/>\n      <use x=\"385.449219\" xlink:href=\"#DejaVuSans-1082\"/>\n      <use x=\"445.849609\" xlink:href=\"#DejaVuSans-1086\"/>\n      <use x=\"507.03125\" xlink:href=\"#DejaVuSans-1074\"/>\n      <use x=\"565.966797\" xlink:href=\"#DejaVuSans-32\"/>\n      <use x=\"597.753906\" xlink:href=\"#DejaVuSans-1070\"/>\n      <use x=\"705.712891\" xlink:href=\"#DejaVuSans-46\"/>\n      <use x=\"737.5\" xlink:href=\"#DejaVuSans-1042\"/>\n      <use x=\"806.103516\" xlink:href=\"#DejaVuSans-46\"/>\n      <use x=\"837.890625\" xlink:href=\"#DejaVuSans-32\"/>\n      <use x=\"869.677734\" xlink:href=\"#DejaVuSans-40\"/>\n      <use x=\"908.691406\" xlink:href=\"#DejaVuSans-1050\"/>\n      <use x=\"979.6875\" xlink:href=\"#DejaVuSans-1086\"/>\n      <use x=\"1040.869141\" xlink:href=\"#DejaVuSans-1084\"/>\n      <use x=\"1116.308594\" xlink:href=\"#DejaVuSans-1080\"/>\n      <use x=\"1181.298828\" xlink:href=\"#DejaVuSans-1090\"/>\n      <use x=\"1239.550781\" xlink:href=\"#DejaVuSans-1077\"/>\n      <use x=\"1301.074219\" xlink:href=\"#DejaVuSans-1090\"/>\n      <use x=\"1359.326172\" xlink:href=\"#DejaVuSans-32\"/>\n      <use x=\"1391.113281\" xlink:href=\"#DejaVuSans-1087\"/>\n      <use x=\"1456.494141\" xlink:href=\"#DejaVuSans-1086\"/>\n      <use x=\"1517.675781\" xlink:href=\"#DejaVuSans-32\"/>\n      <use x=\"1549.462891\" xlink:href=\"#DejaVuSans-1086\"/>\n      <use x=\"1610.644531\" xlink:href=\"#DejaVuSans-1073\"/>\n      <use x=\"1672.314453\" xlink:href=\"#DejaVuSans-1088\"/>\n      <use x=\"1735.791016\" xlink:href=\"#DejaVuSans-1072\"/>\n      <use x=\"1797.070312\" xlink:href=\"#DejaVuSans-1079\"/>\n      <use x=\"1850.244141\" xlink:href=\"#DejaVuSans-1086\"/>\n      <use x=\"1911.425781\" xlink:href=\"#DejaVuSans-1074\"/>\n      <use x=\"1970.361328\" xlink:href=\"#DejaVuSans-1072\"/>\n      <use x=\"2031.640625\" xlink:href=\"#DejaVuSans-1085\"/>\n      <use x=\"2097.021484\" xlink:href=\"#DejaVuSans-1080\"/>\n      <use x=\"2162.011719\" xlink:href=\"#DejaVuSans-1102\"/>\n      <use x=\"2246.191406\" xlink:href=\"#DejaVuSans-32\"/>\n      <use x=\"2277.978516\" xlink:href=\"#DejaVuSans-1055\"/>\n      <use x=\"2353.173828\" xlink:href=\"#DejaVuSans-1088\"/>\n      <use x=\"2416.650391\" xlink:href=\"#DejaVuSans-1072\"/>\n      <use x=\"2477.929688\" xlink:href=\"#DejaVuSans-1074\"/>\n      <use x=\"2536.865234\" xlink:href=\"#DejaVuSans-1080\"/>\n      <use x=\"2601.855469\" xlink:href=\"#DejaVuSans-1090\"/>\n      <use x=\"2660.107422\" xlink:href=\"#DejaVuSans-1077\"/>\n      <use x=\"2721.630859\" xlink:href=\"#DejaVuSans-1083\"/>\n      <use x=\"2785.546875\" xlink:href=\"#DejaVuSans-1100\"/>\n      <use x=\"2844.482422\" xlink:href=\"#DejaVuSans-1089\"/>\n      <use x=\"2899.462891\" xlink:href=\"#DejaVuSans-1090\"/>\n      <use x=\"2957.714844\" xlink:href=\"#DejaVuSans-1074\"/>\n      <use x=\"3016.650391\" xlink:href=\"#DejaVuSans-1072\"/>\n      <use x=\"3077.929688\" xlink:href=\"#DejaVuSans-32\"/>\n      <use x=\"3109.716797\" xlink:href=\"#DejaVuSans-1057\"/>\n      <use x=\"3179.541016\" xlink:href=\"#DejaVuSans-1072\"/>\n      <use x=\"3240.820312\" xlink:href=\"#DejaVuSans-1085\"/>\n      <use x=\"3306.201172\" xlink:href=\"#DejaVuSans-1082\"/>\n      <use x=\"3366.601562\" xlink:href=\"#DejaVuSans-1090\"/>\n      <use x=\"3424.853516\" xlink:href=\"#DejaVuSans-45\"/>\n      <use x=\"3460.9375\" xlink:href=\"#DejaVuSans-1055\"/>\n      <use x=\"3536.132812\" xlink:href=\"#DejaVuSans-1077\"/>\n      <use x=\"3597.65625\" xlink:href=\"#DejaVuSans-1090\"/>\n      <use x=\"3655.908203\" xlink:href=\"#DejaVuSans-1077\"/>\n      <use x=\"3717.431641\" xlink:href=\"#DejaVuSans-1088\"/>\n      <use x=\"3780.908203\" xlink:href=\"#DejaVuSans-1073\"/>\n      <use x=\"3842.578125\" xlink:href=\"#DejaVuSans-1091\"/>\n      <use x=\"3901.757812\" xlink:href=\"#DejaVuSans-1088\"/>\n      <use x=\"3965.234375\" xlink:href=\"#DejaVuSans-1075\"/>\n      <use x=\"4017.773438\" xlink:href=\"#DejaVuSans-1072\"/>\n      <use x=\"4079.052734\" xlink:href=\"#DejaVuSans-41\"/>\n     </g>\n    </g>\n    <g id=\"patch_23\">\n     <path d=\"M 11.2 98.210938 \nL 31.2 98.210938 \nL 31.2 91.210938 \nL 11.2 91.210938 \nz\n\" style=\"fill:#8c564b;\"/>\n    </g>\n    <g id=\"text_12\">\n     <!-- Губайдуллин Э.Ф. (Автономная некоммерческая организация \"Центр развития профессиональных компетенций\") -->\n     <defs>\n      <path d=\"M 9.8125 0 \nL 9.8125 72.90625 \nL 55.171875 72.90625 \nL 55.171875 64.59375 \nL 19.671875 64.59375 \nL 19.671875 0 \nz\n\" id=\"DejaVuSans-1043\"/>\n      <path d=\"M 5.421875 15.921875 \nQ 15.71875 6.6875 28.21875 6.6875 \nQ 41.109375 6.6875 46.921875 13.625 \nQ 52.734375 20.5625 53.8125 32.234375 \nL 14.84375 32.234375 \nL 14.84375 40.53125 \nL 53.8125 40.53125 \nQ 52.734375 52.203125 46.921875 59.15625 \nQ 41.109375 66.109375 28.21875 66.109375 \nQ 15.71875 66.109375 5.421875 56.890625 \nL 5.421875 67.28125 \nQ 15.578125 74.21875 28.8125 74.21875 \nQ 45.171875 74.21875 54.6875 64.078125 \nQ 64.203125 53.953125 64.203125 36.421875 \nQ 64.203125 18.84375 54.6875 8.703125 \nQ 45.171875 -1.421875 28.8125 -1.421875 \nQ 15.765625 -1.421875 5.421875 5.609375 \nz\n\" id=\"DejaVuSans-1069\"/>\n      <path d=\"M 17.921875 72.90625 \nL 17.921875 45.796875 \nL 9.625 45.796875 \nL 9.625 72.90625 \nz\nM 36.375 72.90625 \nL 36.375 45.796875 \nL 28.078125 45.796875 \nL 28.078125 72.90625 \nz\n\" id=\"DejaVuSans-34\"/>\n      <path d=\"M 65.375 0 \nL 9.8125 0 \nL 9.8125 72.90625 \nL 19.671875 72.90625 \nL 19.671875 8.296875 \nL 55.515625 8.296875 \nL 55.515625 72.90625 \nL 65.375 72.90625 \nL 65.375 8.296875 \nL 73.6875 8.296875 \nL 73.6875 -15.671875 \nL 65.375 -15.671875 \nz\n\" id=\"DejaVuSans-1062\"/>\n     </defs>\n     <g transform=\"translate(39.2 98.210938)scale(0.1 -0.1)\">\n      <use xlink:href=\"#DejaVuSans-1043\"/>\n      <use x=\"60.986328\" xlink:href=\"#DejaVuSans-1091\"/>\n      <use x=\"120.166016\" xlink:href=\"#DejaVuSans-1073\"/>\n      <use x=\"181.835938\" xlink:href=\"#DejaVuSans-1072\"/>\n      <use x=\"243.115234\" xlink:href=\"#DejaVuSans-1081\"/>\n      <use x=\"308.105469\" xlink:href=\"#DejaVuSans-1076\"/>\n      <use x=\"377.246094\" xlink:href=\"#DejaVuSans-1091\"/>\n      <use x=\"436.425781\" xlink:href=\"#DejaVuSans-1083\"/>\n      <use x=\"500.341797\" xlink:href=\"#DejaVuSans-1083\"/>\n      <use x=\"564.257812\" xlink:href=\"#DejaVuSans-1080\"/>\n      <use x=\"629.248047\" xlink:href=\"#DejaVuSans-1085\"/>\n      <use x=\"694.628906\" xlink:href=\"#DejaVuSans-32\"/>\n      <use x=\"726.416016\" xlink:href=\"#DejaVuSans-1069\"/>\n      <use x=\"796.240234\" xlink:href=\"#DejaVuSans-46\"/>\n      <use x=\"828.027344\" xlink:href=\"#DejaVuSans-1060\"/>\n      <use x=\"914.111328\" xlink:href=\"#DejaVuSans-46\"/>\n      <use x=\"945.898438\" xlink:href=\"#DejaVuSans-32\"/>\n      <use x=\"977.685547\" xlink:href=\"#DejaVuSans-40\"/>\n      <use x=\"1016.699219\" xlink:href=\"#DejaVuSans-1040\"/>\n      <use x=\"1085.107422\" xlink:href=\"#DejaVuSans-1074\"/>\n      <use x=\"1144.042969\" xlink:href=\"#DejaVuSans-1090\"/>\n      <use x=\"1202.294922\" xlink:href=\"#DejaVuSans-1086\"/>\n      <use x=\"1263.476562\" xlink:href=\"#DejaVuSans-1085\"/>\n      <use x=\"1328.857422\" xlink:href=\"#DejaVuSans-1086\"/>\n      <use x=\"1390.039062\" xlink:href=\"#DejaVuSans-1084\"/>\n      <use x=\"1465.478516\" xlink:href=\"#DejaVuSans-1085\"/>\n      <use x=\"1530.859375\" xlink:href=\"#DejaVuSans-1072\"/>\n      <use x=\"1592.138672\" xlink:href=\"#DejaVuSans-1103\"/>\n      <use x=\"1652.294922\" xlink:href=\"#DejaVuSans-32\"/>\n      <use x=\"1684.082031\" xlink:href=\"#DejaVuSans-1085\"/>\n      <use x=\"1749.462891\" xlink:href=\"#DejaVuSans-1077\"/>\n      <use x=\"1810.986328\" xlink:href=\"#DejaVuSans-1082\"/>\n      <use x=\"1871.386719\" xlink:href=\"#DejaVuSans-1086\"/>\n      <use x=\"1932.568359\" xlink:href=\"#DejaVuSans-1084\"/>\n      <use x=\"2008.007812\" xlink:href=\"#DejaVuSans-1084\"/>\n      <use x=\"2083.447266\" xlink:href=\"#DejaVuSans-1077\"/>\n      <use x=\"2144.970703\" xlink:href=\"#DejaVuSans-1088\"/>\n      <use x=\"2208.447266\" xlink:href=\"#DejaVuSans-1095\"/>\n      <use x=\"2267.529297\" xlink:href=\"#DejaVuSans-1077\"/>\n      <use x=\"2329.052734\" xlink:href=\"#DejaVuSans-1089\"/>\n      <use x=\"2384.033203\" xlink:href=\"#DejaVuSans-1082\"/>\n      <use x=\"2444.433594\" xlink:href=\"#DejaVuSans-1072\"/>\n      <use x=\"2505.712891\" xlink:href=\"#DejaVuSans-1103\"/>\n      <use x=\"2565.869141\" xlink:href=\"#DejaVuSans-32\"/>\n      <use x=\"2597.65625\" xlink:href=\"#DejaVuSans-1086\"/>\n      <use x=\"2658.837891\" xlink:href=\"#DejaVuSans-1088\"/>\n      <use x=\"2722.314453\" xlink:href=\"#DejaVuSans-1075\"/>\n      <use x=\"2774.853516\" xlink:href=\"#DejaVuSans-1072\"/>\n      <use x=\"2836.132812\" xlink:href=\"#DejaVuSans-1085\"/>\n      <use x=\"2901.513672\" xlink:href=\"#DejaVuSans-1080\"/>\n      <use x=\"2966.503906\" xlink:href=\"#DejaVuSans-1079\"/>\n      <use x=\"3019.677734\" xlink:href=\"#DejaVuSans-1072\"/>\n      <use x=\"3080.957031\" xlink:href=\"#DejaVuSans-1094\"/>\n      <use x=\"3149.023438\" xlink:href=\"#DejaVuSans-1080\"/>\n      <use x=\"3214.013672\" xlink:href=\"#DejaVuSans-1103\"/>\n      <use x=\"3274.169922\" xlink:href=\"#DejaVuSans-32\"/>\n      <use x=\"3305.957031\" xlink:href=\"#DejaVuSans-34\"/>\n      <use x=\"3351.953125\" xlink:href=\"#DejaVuSans-1062\"/>\n      <use x=\"3429.589844\" xlink:href=\"#DejaVuSans-1077\"/>\n      <use x=\"3491.113281\" xlink:href=\"#DejaVuSans-1085\"/>\n      <use x=\"3556.494141\" xlink:href=\"#DejaVuSans-1090\"/>\n      <use x=\"3614.746094\" xlink:href=\"#DejaVuSans-1088\"/>\n      <use x=\"3678.222656\" xlink:href=\"#DejaVuSans-32\"/>\n      <use x=\"3710.009766\" xlink:href=\"#DejaVuSans-1088\"/>\n      <use x=\"3773.486328\" xlink:href=\"#DejaVuSans-1072\"/>\n      <use x=\"3834.765625\" xlink:href=\"#DejaVuSans-1079\"/>\n      <use x=\"3887.939453\" xlink:href=\"#DejaVuSans-1074\"/>\n      <use x=\"3946.875\" xlink:href=\"#DejaVuSans-1080\"/>\n      <use x=\"4011.865234\" xlink:href=\"#DejaVuSans-1090\"/>\n      <use x=\"4070.117188\" xlink:href=\"#DejaVuSans-1080\"/>\n      <use x=\"4135.107422\" xlink:href=\"#DejaVuSans-1103\"/>\n      <use x=\"4195.263672\" xlink:href=\"#DejaVuSans-32\"/>\n      <use x=\"4227.050781\" xlink:href=\"#DejaVuSans-1087\"/>\n      <use x=\"4292.431641\" xlink:href=\"#DejaVuSans-1088\"/>\n      <use x=\"4355.908203\" xlink:href=\"#DejaVuSans-1086\"/>\n      <use x=\"4417.089844\" xlink:href=\"#DejaVuSans-1092\"/>\n      <use x=\"4502.587891\" xlink:href=\"#DejaVuSans-1077\"/>\n      <use x=\"4564.111328\" xlink:href=\"#DejaVuSans-1089\"/>\n      <use x=\"4619.091797\" xlink:href=\"#DejaVuSans-1089\"/>\n      <use x=\"4674.072266\" xlink:href=\"#DejaVuSans-1080\"/>\n      <use x=\"4739.0625\" xlink:href=\"#DejaVuSans-1086\"/>\n      <use x=\"4800.244141\" xlink:href=\"#DejaVuSans-1085\"/>\n      <use x=\"4865.625\" xlink:href=\"#DejaVuSans-1072\"/>\n      <use x=\"4926.904297\" xlink:href=\"#DejaVuSans-1083\"/>\n      <use x=\"4990.820312\" xlink:href=\"#DejaVuSans-1100\"/>\n      <use x=\"5049.755859\" xlink:href=\"#DejaVuSans-1085\"/>\n      <use x=\"5115.136719\" xlink:href=\"#DejaVuSans-1099\"/>\n      <use x=\"5194.091797\" xlink:href=\"#DejaVuSans-1093\"/>\n      <use x=\"5253.271484\" xlink:href=\"#DejaVuSans-32\"/>\n      <use x=\"5285.058594\" xlink:href=\"#DejaVuSans-1082\"/>\n      <use x=\"5345.458984\" xlink:href=\"#DejaVuSans-1086\"/>\n      <use x=\"5406.640625\" xlink:href=\"#DejaVuSans-1084\"/>\n      <use x=\"5482.080078\" xlink:href=\"#DejaVuSans-1087\"/>\n      <use x=\"5547.460938\" xlink:href=\"#DejaVuSans-1077\"/>\n      <use x=\"5608.984375\" xlink:href=\"#DejaVuSans-1090\"/>\n      <use x=\"5667.236328\" xlink:href=\"#DejaVuSans-1077\"/>\n      <use x=\"5728.759766\" xlink:href=\"#DejaVuSans-1085\"/>\n      <use x=\"5794.140625\" xlink:href=\"#DejaVuSans-1094\"/>\n      <use x=\"5862.207031\" xlink:href=\"#DejaVuSans-1080\"/>\n      <use x=\"5927.197266\" xlink:href=\"#DejaVuSans-1081\"/>\n      <use x=\"5992.1875\" xlink:href=\"#DejaVuSans-34\"/>\n      <use x=\"6038.183594\" xlink:href=\"#DejaVuSans-41\"/>\n     </g>\n    </g>\n    <g id=\"patch_24\">\n     <path d=\"M 11.2 112.889062 \nL 31.2 112.889062 \nL 31.2 105.889062 \nL 11.2 105.889062 \nz\n\" style=\"fill:#e377c2;\"/>\n    </g>\n    <g id=\"text_13\">\n     <!-- Шохин А. (Национальный совет при Президенте РФ по профессиональным квалификациям) -->\n     <defs>\n      <path d=\"M 9.8125 72.90625 \nL 19.671875 72.90625 \nL 19.671875 43.015625 \nL 55.515625 43.015625 \nL 55.515625 72.90625 \nL 65.375 72.90625 \nL 65.375 0 \nL 55.515625 0 \nL 55.515625 34.71875 \nL 19.671875 34.71875 \nL 19.671875 0 \nL 9.8125 0 \nz\n\" id=\"DejaVuSans-1053\"/>\n     </defs>\n     <g transform=\"translate(39.2 112.889062)scale(0.1 -0.1)\">\n      <use xlink:href=\"#DejaVuSans-1064\"/>\n      <use x=\"106.933594\" xlink:href=\"#DejaVuSans-1086\"/>\n      <use x=\"168.115234\" xlink:href=\"#DejaVuSans-1093\"/>\n      <use x=\"227.294922\" xlink:href=\"#DejaVuSans-1080\"/>\n      <use x=\"292.285156\" xlink:href=\"#DejaVuSans-1085\"/>\n      <use x=\"357.666016\" xlink:href=\"#DejaVuSans-32\"/>\n      <use x=\"389.453125\" xlink:href=\"#DejaVuSans-1040\"/>\n      <use x=\"457.861328\" xlink:href=\"#DejaVuSans-46\"/>\n      <use x=\"489.648438\" xlink:href=\"#DejaVuSans-32\"/>\n      <use x=\"521.435547\" xlink:href=\"#DejaVuSans-40\"/>\n      <use x=\"560.449219\" xlink:href=\"#DejaVuSans-1053\"/>\n      <use x=\"635.644531\" xlink:href=\"#DejaVuSans-1072\"/>\n      <use x=\"696.923828\" xlink:href=\"#DejaVuSans-1094\"/>\n      <use x=\"764.990234\" xlink:href=\"#DejaVuSans-1080\"/>\n      <use x=\"829.980469\" xlink:href=\"#DejaVuSans-1086\"/>\n      <use x=\"891.162109\" xlink:href=\"#DejaVuSans-1085\"/>\n      <use x=\"956.542969\" xlink:href=\"#DejaVuSans-1072\"/>\n      <use x=\"1017.822266\" xlink:href=\"#DejaVuSans-1083\"/>\n      <use x=\"1081.738281\" xlink:href=\"#DejaVuSans-1100\"/>\n      <use x=\"1140.673828\" xlink:href=\"#DejaVuSans-1085\"/>\n      <use x=\"1206.054688\" xlink:href=\"#DejaVuSans-1099\"/>\n      <use x=\"1285.009766\" xlink:href=\"#DejaVuSans-1081\"/>\n      <use x=\"1350\" xlink:href=\"#DejaVuSans-32\"/>\n      <use x=\"1381.787109\" xlink:href=\"#DejaVuSans-1089\"/>\n      <use x=\"1436.767578\" xlink:href=\"#DejaVuSans-1086\"/>\n      <use x=\"1497.949219\" xlink:href=\"#DejaVuSans-1074\"/>\n      <use x=\"1556.884766\" xlink:href=\"#DejaVuSans-1077\"/>\n      <use x=\"1618.408203\" xlink:href=\"#DejaVuSans-1090\"/>\n      <use x=\"1676.660156\" xlink:href=\"#DejaVuSans-32\"/>\n      <use x=\"1708.447266\" xlink:href=\"#DejaVuSans-1087\"/>\n      <use x=\"1773.828125\" xlink:href=\"#DejaVuSans-1088\"/>\n      <use x=\"1837.304688\" xlink:href=\"#DejaVuSans-1080\"/>\n      <use x=\"1902.294922\" xlink:href=\"#DejaVuSans-32\"/>\n      <use x=\"1934.082031\" xlink:href=\"#DejaVuSans-1055\"/>\n      <use x=\"2009.277344\" xlink:href=\"#DejaVuSans-1088\"/>\n      <use x=\"2072.753906\" xlink:href=\"#DejaVuSans-1077\"/>\n      <use x=\"2134.277344\" xlink:href=\"#DejaVuSans-1079\"/>\n      <use x=\"2187.451172\" xlink:href=\"#DejaVuSans-1080\"/>\n      <use x=\"2252.441406\" xlink:href=\"#DejaVuSans-1076\"/>\n      <use x=\"2321.582031\" xlink:href=\"#DejaVuSans-1077\"/>\n      <use x=\"2383.105469\" xlink:href=\"#DejaVuSans-1085\"/>\n      <use x=\"2448.486328\" xlink:href=\"#DejaVuSans-1090\"/>\n      <use x=\"2506.738281\" xlink:href=\"#DejaVuSans-1077\"/>\n      <use x=\"2568.261719\" xlink:href=\"#DejaVuSans-32\"/>\n      <use x=\"2600.048828\" xlink:href=\"#DejaVuSans-1056\"/>\n      <use x=\"2660.351562\" xlink:href=\"#DejaVuSans-1060\"/>\n      <use x=\"2746.435547\" xlink:href=\"#DejaVuSans-32\"/>\n      <use x=\"2778.222656\" xlink:href=\"#DejaVuSans-1087\"/>\n      <use x=\"2843.603516\" xlink:href=\"#DejaVuSans-1086\"/>\n      <use x=\"2904.785156\" xlink:href=\"#DejaVuSans-32\"/>\n      <use x=\"2936.572266\" xlink:href=\"#DejaVuSans-1087\"/>\n      <use x=\"3001.953125\" xlink:href=\"#DejaVuSans-1088\"/>\n      <use x=\"3065.429688\" xlink:href=\"#DejaVuSans-1086\"/>\n      <use x=\"3126.611328\" xlink:href=\"#DejaVuSans-1092\"/>\n      <use x=\"3212.109375\" xlink:href=\"#DejaVuSans-1077\"/>\n      <use x=\"3273.632812\" xlink:href=\"#DejaVuSans-1089\"/>\n      <use x=\"3328.613281\" xlink:href=\"#DejaVuSans-1089\"/>\n      <use x=\"3383.59375\" xlink:href=\"#DejaVuSans-1080\"/>\n      <use x=\"3448.583984\" xlink:href=\"#DejaVuSans-1086\"/>\n      <use x=\"3509.765625\" xlink:href=\"#DejaVuSans-1085\"/>\n      <use x=\"3575.146484\" xlink:href=\"#DejaVuSans-1072\"/>\n      <use x=\"3636.425781\" xlink:href=\"#DejaVuSans-1083\"/>\n      <use x=\"3700.341797\" xlink:href=\"#DejaVuSans-1100\"/>\n      <use x=\"3759.277344\" xlink:href=\"#DejaVuSans-1085\"/>\n      <use x=\"3824.658203\" xlink:href=\"#DejaVuSans-1099\"/>\n      <use x=\"3903.613281\" xlink:href=\"#DejaVuSans-1084\"/>\n      <use x=\"3979.052734\" xlink:href=\"#DejaVuSans-32\"/>\n      <use x=\"4010.839844\" xlink:href=\"#DejaVuSans-1082\"/>\n      <use x=\"4071.240234\" xlink:href=\"#DejaVuSans-1074\"/>\n      <use x=\"4130.175781\" xlink:href=\"#DejaVuSans-1072\"/>\n      <use x=\"4191.455078\" xlink:href=\"#DejaVuSans-1083\"/>\n      <use x=\"4255.371094\" xlink:href=\"#DejaVuSans-1080\"/>\n      <use x=\"4320.361328\" xlink:href=\"#DejaVuSans-1092\"/>\n      <use x=\"4405.859375\" xlink:href=\"#DejaVuSans-1080\"/>\n      <use x=\"4470.849609\" xlink:href=\"#DejaVuSans-1082\"/>\n      <use x=\"4531.25\" xlink:href=\"#DejaVuSans-1072\"/>\n      <use x=\"4592.529297\" xlink:href=\"#DejaVuSans-1094\"/>\n      <use x=\"4660.595703\" xlink:href=\"#DejaVuSans-1080\"/>\n      <use x=\"4725.585938\" xlink:href=\"#DejaVuSans-1103\"/>\n      <use x=\"4785.742188\" xlink:href=\"#DejaVuSans-1084\"/>\n      <use x=\"4861.181641\" xlink:href=\"#DejaVuSans-41\"/>\n     </g>\n    </g>\n    <g id=\"patch_25\">\n     <path d=\"M 11.2 127.567188 \nL 31.2 127.567188 \nL 31.2 120.567188 \nL 11.2 120.567188 \nz\n\" style=\"fill:#7f7f7f;\"/>\n    </g>\n    <g id=\"text_14\">\n     <!-- Потехина И.П. (Министерство просвещения Российской Федерации) -->\n     <defs>\n      <path d=\"M 82.421875 0 \nL 9.078125 0 \nL 9.078125 54.6875 \nL 18.109375 54.6875 \nL 18.109375 7.171875 \nL 41.21875 7.171875 \nL 41.21875 54.6875 \nL 50.25 54.6875 \nL 50.25 7.171875 \nL 73.390625 7.171875 \nL 73.390625 54.6875 \nL 82.421875 54.6875 \nL 82.421875 7.171875 \nL 89.59375 7.171875 \nL 89.59375 -13.8125 \nL 82.421875 -13.8125 \nz\n\" id=\"DejaVuSans-1097\"/>\n     </defs>\n     <g transform=\"translate(39.2 127.567188)scale(0.1 -0.1)\">\n      <use xlink:href=\"#DejaVuSans-1055\"/>\n      <use x=\"75.195312\" xlink:href=\"#DejaVuSans-1086\"/>\n      <use x=\"136.376953\" xlink:href=\"#DejaVuSans-1090\"/>\n      <use x=\"194.628906\" xlink:href=\"#DejaVuSans-1077\"/>\n      <use x=\"256.152344\" xlink:href=\"#DejaVuSans-1093\"/>\n      <use x=\"315.332031\" xlink:href=\"#DejaVuSans-1080\"/>\n      <use x=\"380.322266\" xlink:href=\"#DejaVuSans-1085\"/>\n      <use x=\"445.703125\" xlink:href=\"#DejaVuSans-1072\"/>\n      <use x=\"506.982422\" xlink:href=\"#DejaVuSans-32\"/>\n      <use x=\"538.769531\" xlink:href=\"#DejaVuSans-1048\"/>\n      <use x=\"613.574219\" xlink:href=\"#DejaVuSans-46\"/>\n      <use x=\"645.361328\" xlink:href=\"#DejaVuSans-1055\"/>\n      <use x=\"720.556641\" xlink:href=\"#DejaVuSans-46\"/>\n      <use x=\"752.34375\" xlink:href=\"#DejaVuSans-32\"/>\n      <use x=\"784.130859\" xlink:href=\"#DejaVuSans-40\"/>\n      <use x=\"823.144531\" xlink:href=\"#DejaVuSans-1052\"/>\n      <use x=\"909.423828\" xlink:href=\"#DejaVuSans-1080\"/>\n      <use x=\"974.414062\" xlink:href=\"#DejaVuSans-1085\"/>\n      <use x=\"1039.794922\" xlink:href=\"#DejaVuSans-1080\"/>\n      <use x=\"1104.785156\" xlink:href=\"#DejaVuSans-1089\"/>\n      <use x=\"1159.765625\" xlink:href=\"#DejaVuSans-1090\"/>\n      <use x=\"1218.017578\" xlink:href=\"#DejaVuSans-1077\"/>\n      <use x=\"1279.541016\" xlink:href=\"#DejaVuSans-1088\"/>\n      <use x=\"1343.017578\" xlink:href=\"#DejaVuSans-1089\"/>\n      <use x=\"1397.998047\" xlink:href=\"#DejaVuSans-1090\"/>\n      <use x=\"1456.25\" xlink:href=\"#DejaVuSans-1074\"/>\n      <use x=\"1515.185547\" xlink:href=\"#DejaVuSans-1086\"/>\n      <use x=\"1576.367188\" xlink:href=\"#DejaVuSans-32\"/>\n      <use x=\"1608.154297\" xlink:href=\"#DejaVuSans-1087\"/>\n      <use x=\"1673.535156\" xlink:href=\"#DejaVuSans-1088\"/>\n      <use x=\"1737.011719\" xlink:href=\"#DejaVuSans-1086\"/>\n      <use x=\"1798.193359\" xlink:href=\"#DejaVuSans-1089\"/>\n      <use x=\"1853.173828\" xlink:href=\"#DejaVuSans-1074\"/>\n      <use x=\"1912.109375\" xlink:href=\"#DejaVuSans-1077\"/>\n      <use x=\"1973.632812\" xlink:href=\"#DejaVuSans-1097\"/>\n      <use x=\"2067.822266\" xlink:href=\"#DejaVuSans-1077\"/>\n      <use x=\"2129.345703\" xlink:href=\"#DejaVuSans-1085\"/>\n      <use x=\"2194.726562\" xlink:href=\"#DejaVuSans-1080\"/>\n      <use x=\"2259.716797\" xlink:href=\"#DejaVuSans-1103\"/>\n      <use x=\"2319.873047\" xlink:href=\"#DejaVuSans-32\"/>\n      <use x=\"2351.660156\" xlink:href=\"#DejaVuSans-1056\"/>\n      <use x=\"2411.962891\" xlink:href=\"#DejaVuSans-1086\"/>\n      <use x=\"2473.144531\" xlink:href=\"#DejaVuSans-1089\"/>\n      <use x=\"2528.125\" xlink:href=\"#DejaVuSans-1089\"/>\n      <use x=\"2583.105469\" xlink:href=\"#DejaVuSans-1080\"/>\n      <use x=\"2648.095703\" xlink:href=\"#DejaVuSans-1081\"/>\n      <use x=\"2713.085938\" xlink:href=\"#DejaVuSans-1089\"/>\n      <use x=\"2768.066406\" xlink:href=\"#DejaVuSans-1082\"/>\n      <use x=\"2828.466797\" xlink:href=\"#DejaVuSans-1086\"/>\n      <use x=\"2889.648438\" xlink:href=\"#DejaVuSans-1081\"/>\n      <use x=\"2954.638672\" xlink:href=\"#DejaVuSans-32\"/>\n      <use x=\"2986.425781\" xlink:href=\"#DejaVuSans-1060\"/>\n      <use x=\"3072.509766\" xlink:href=\"#DejaVuSans-1077\"/>\n      <use x=\"3134.033203\" xlink:href=\"#DejaVuSans-1076\"/>\n      <use x=\"3203.173828\" xlink:href=\"#DejaVuSans-1077\"/>\n      <use x=\"3264.697266\" xlink:href=\"#DejaVuSans-1088\"/>\n      <use x=\"3328.173828\" xlink:href=\"#DejaVuSans-1072\"/>\n      <use x=\"3389.453125\" xlink:href=\"#DejaVuSans-1094\"/>\n      <use x=\"3457.519531\" xlink:href=\"#DejaVuSans-1080\"/>\n      <use x=\"3522.509766\" xlink:href=\"#DejaVuSans-1080\"/>\n      <use x=\"3587.5\" xlink:href=\"#DejaVuSans-41\"/>\n     </g>\n    </g>\n    <g id=\"patch_26\">\n     <path d=\"M 11.2 142.245313 \nL 31.2 142.245313 \nL 31.2 135.245313 \nL 11.2 135.245313 \nz\n\" style=\"fill:#bcbd22;\"/>\n    </g>\n    <g id=\"text_15\">\n     <!-- Волощук Л.В. (ГПОУ\"Сыктывкарский политехнический техникум\") -->\n     <defs>\n      <path d=\"M 4.109375 0 \nL 4.109375 8.296875 \nQ 14.703125 10.59375 17.71875 18.609375 \nQ 21.96875 31.203125 21.96875 60.5 \nL 21.96875 72.90625 \nL 65.328125 72.90625 \nL 65.328125 0 \nL 55.46875 0 \nL 55.46875 64.59375 \nL 31.78125 64.59375 \nL 31.78125 55.609375 \nQ 31.78125 27.984375 26.8125 15.09375 \nQ 22.015625 2.734375 4.109375 0 \nz\n\" id=\"DejaVuSans-1051\"/>\n      <path d=\"M 31.984375 8.84375 \nQ 30.953125 6.390625 29.390625 4.546875 \nQ 25.53125 0 13.28125 0 \nL 9.515625 0 \nL 9.515625 8.296875 \nL 12.59375 8.296875 \nQ 18.40625 8.296875 20.65625 9.625 \nQ 22.015625 10.453125 22.90625 12.5 \nL 25.09375 17.671875 \nL 1.703125 72.90625 \nL 12.3125 72.90625 \nL 30.421875 30.125 \nL 48.640625 72.90625 \nL 59.234375 72.90625 \nz\n\" id=\"DejaVuSans-1059\"/>\n     </defs>\n     <g transform=\"translate(39.2 142.245313)scale(0.1 -0.1)\">\n      <use xlink:href=\"#DejaVuSans-1042\"/>\n      <use x=\"68.603516\" xlink:href=\"#DejaVuSans-1086\"/>\n      <use x=\"129.785156\" xlink:href=\"#DejaVuSans-1083\"/>\n      <use x=\"193.701172\" xlink:href=\"#DejaVuSans-1086\"/>\n      <use x=\"254.882812\" xlink:href=\"#DejaVuSans-1097\"/>\n      <use x=\"349.072266\" xlink:href=\"#DejaVuSans-1091\"/>\n      <use x=\"408.251953\" xlink:href=\"#DejaVuSans-1082\"/>\n      <use x=\"468.652344\" xlink:href=\"#DejaVuSans-32\"/>\n      <use x=\"500.439453\" xlink:href=\"#DejaVuSans-1051\"/>\n      <use x=\"575.634766\" xlink:href=\"#DejaVuSans-46\"/>\n      <use x=\"607.421875\" xlink:href=\"#DejaVuSans-1042\"/>\n      <use x=\"676.025391\" xlink:href=\"#DejaVuSans-46\"/>\n      <use x=\"707.8125\" xlink:href=\"#DejaVuSans-32\"/>\n      <use x=\"739.599609\" xlink:href=\"#DejaVuSans-40\"/>\n      <use x=\"778.613281\" xlink:href=\"#DejaVuSans-1043\"/>\n      <use x=\"839.599609\" xlink:href=\"#DejaVuSans-1055\"/>\n      <use x=\"914.794922\" xlink:href=\"#DejaVuSans-1054\"/>\n      <use x=\"993.505859\" xlink:href=\"#DejaVuSans-1059\"/>\n      <use x=\"1054.443359\" xlink:href=\"#DejaVuSans-34\"/>\n      <use x=\"1100.439453\" xlink:href=\"#DejaVuSans-1057\"/>\n      <use x=\"1170.263672\" xlink:href=\"#DejaVuSans-1099\"/>\n      <use x=\"1249.21875\" xlink:href=\"#DejaVuSans-1082\"/>\n      <use x=\"1309.619141\" xlink:href=\"#DejaVuSans-1090\"/>\n      <use x=\"1367.871094\" xlink:href=\"#DejaVuSans-1099\"/>\n      <use x=\"1446.826172\" xlink:href=\"#DejaVuSans-1074\"/>\n      <use x=\"1505.761719\" xlink:href=\"#DejaVuSans-1082\"/>\n      <use x=\"1566.162109\" xlink:href=\"#DejaVuSans-1072\"/>\n      <use x=\"1627.441406\" xlink:href=\"#DejaVuSans-1088\"/>\n      <use x=\"1690.917969\" xlink:href=\"#DejaVuSans-1089\"/>\n      <use x=\"1745.898438\" xlink:href=\"#DejaVuSans-1082\"/>\n      <use x=\"1806.298828\" xlink:href=\"#DejaVuSans-1080\"/>\n      <use x=\"1871.289062\" xlink:href=\"#DejaVuSans-1081\"/>\n      <use x=\"1936.279297\" xlink:href=\"#DejaVuSans-32\"/>\n      <use x=\"1968.066406\" xlink:href=\"#DejaVuSans-1087\"/>\n      <use x=\"2033.447266\" xlink:href=\"#DejaVuSans-1086\"/>\n      <use x=\"2094.628906\" xlink:href=\"#DejaVuSans-1083\"/>\n      <use x=\"2158.544922\" xlink:href=\"#DejaVuSans-1080\"/>\n      <use x=\"2223.535156\" xlink:href=\"#DejaVuSans-1090\"/>\n      <use x=\"2281.787109\" xlink:href=\"#DejaVuSans-1077\"/>\n      <use x=\"2343.310547\" xlink:href=\"#DejaVuSans-1093\"/>\n      <use x=\"2402.490234\" xlink:href=\"#DejaVuSans-1085\"/>\n      <use x=\"2467.871094\" xlink:href=\"#DejaVuSans-1080\"/>\n      <use x=\"2532.861328\" xlink:href=\"#DejaVuSans-1095\"/>\n      <use x=\"2591.943359\" xlink:href=\"#DejaVuSans-1077\"/>\n      <use x=\"2653.466797\" xlink:href=\"#DejaVuSans-1089\"/>\n      <use x=\"2708.447266\" xlink:href=\"#DejaVuSans-1082\"/>\n      <use x=\"2768.847656\" xlink:href=\"#DejaVuSans-1080\"/>\n      <use x=\"2833.837891\" xlink:href=\"#DejaVuSans-1081\"/>\n      <use x=\"2898.828125\" xlink:href=\"#DejaVuSans-32\"/>\n      <use x=\"2930.615234\" xlink:href=\"#DejaVuSans-1090\"/>\n      <use x=\"2988.867188\" xlink:href=\"#DejaVuSans-1077\"/>\n      <use x=\"3050.390625\" xlink:href=\"#DejaVuSans-1093\"/>\n      <use x=\"3109.570312\" xlink:href=\"#DejaVuSans-1085\"/>\n      <use x=\"3174.951172\" xlink:href=\"#DejaVuSans-1080\"/>\n      <use x=\"3239.941406\" xlink:href=\"#DejaVuSans-1082\"/>\n      <use x=\"3300.341797\" xlink:href=\"#DejaVuSans-1091\"/>\n      <use x=\"3359.521484\" xlink:href=\"#DejaVuSans-1084\"/>\n      <use x=\"3434.960938\" xlink:href=\"#DejaVuSans-34\"/>\n      <use x=\"3480.957031\" xlink:href=\"#DejaVuSans-41\"/>\n     </g>\n    </g>\n    <g id=\"patch_27\">\n     <path d=\"M 11.2 157.09375 \nL 31.2 157.09375 \nL 31.2 150.09375 \nL 11.2 150.09375 \nz\n\" style=\"fill:#17becf;\"/>\n    </g>\n    <g id=\"text_16\">\n     <!-- Аникеев А.С. (Министерство образования и науки Калужской области) -->\n     <defs>\n      <path d=\"M 40.578125 54.6875 \nL 49.515625 54.6875 \nL 49.515625 29 \nL 73.390625 54.6875 \nL 83.84375 54.6875 \nL 64.203125 33.640625 \nL 86.671875 0 \nL 77.046875 0 \nL 58.640625 27.640625 \nL 49.515625 17.828125 \nL 49.515625 0 \nL 40.578125 0 \nL 40.578125 17.828125 \nL 31.453125 27.640625 \nL 13.03125 0 \nL 3.421875 0 \nL 25.875 33.640625 \nL 6.25 54.6875 \nL 16.703125 54.6875 \nL 40.578125 29 \nz\n\" id=\"DejaVuSans-1078\"/>\n     </defs>\n     <g transform=\"translate(39.2 157.09375)scale(0.1 -0.1)\">\n      <use xlink:href=\"#DejaVuSans-1040\"/>\n      <use x=\"68.408203\" xlink:href=\"#DejaVuSans-1085\"/>\n      <use x=\"133.789062\" xlink:href=\"#DejaVuSans-1080\"/>\n      <use x=\"198.779297\" xlink:href=\"#DejaVuSans-1082\"/>\n      <use x=\"259.179688\" xlink:href=\"#DejaVuSans-1077\"/>\n      <use x=\"320.703125\" xlink:href=\"#DejaVuSans-1077\"/>\n      <use x=\"382.226562\" xlink:href=\"#DejaVuSans-1074\"/>\n      <use x=\"441.162109\" xlink:href=\"#DejaVuSans-32\"/>\n      <use x=\"472.949219\" xlink:href=\"#DejaVuSans-1040\"/>\n      <use x=\"541.357422\" xlink:href=\"#DejaVuSans-46\"/>\n      <use x=\"573.144531\" xlink:href=\"#DejaVuSans-1057\"/>\n      <use x=\"642.96875\" xlink:href=\"#DejaVuSans-46\"/>\n      <use x=\"674.755859\" xlink:href=\"#DejaVuSans-32\"/>\n      <use x=\"706.542969\" xlink:href=\"#DejaVuSans-40\"/>\n      <use x=\"745.556641\" xlink:href=\"#DejaVuSans-1052\"/>\n      <use x=\"831.835938\" xlink:href=\"#DejaVuSans-1080\"/>\n      <use x=\"896.826172\" xlink:href=\"#DejaVuSans-1085\"/>\n      <use x=\"962.207031\" xlink:href=\"#DejaVuSans-1080\"/>\n      <use x=\"1027.197266\" xlink:href=\"#DejaVuSans-1089\"/>\n      <use x=\"1082.177734\" xlink:href=\"#DejaVuSans-1090\"/>\n      <use x=\"1140.429688\" xlink:href=\"#DejaVuSans-1077\"/>\n      <use x=\"1201.953125\" xlink:href=\"#DejaVuSans-1088\"/>\n      <use x=\"1265.429688\" xlink:href=\"#DejaVuSans-1089\"/>\n      <use x=\"1320.410156\" xlink:href=\"#DejaVuSans-1090\"/>\n      <use x=\"1378.662109\" xlink:href=\"#DejaVuSans-1074\"/>\n      <use x=\"1437.597656\" xlink:href=\"#DejaVuSans-1086\"/>\n      <use x=\"1498.779297\" xlink:href=\"#DejaVuSans-32\"/>\n      <use x=\"1530.566406\" xlink:href=\"#DejaVuSans-1086\"/>\n      <use x=\"1591.748047\" xlink:href=\"#DejaVuSans-1073\"/>\n      <use x=\"1653.417969\" xlink:href=\"#DejaVuSans-1088\"/>\n      <use x=\"1716.894531\" xlink:href=\"#DejaVuSans-1072\"/>\n      <use x=\"1778.173828\" xlink:href=\"#DejaVuSans-1079\"/>\n      <use x=\"1831.347656\" xlink:href=\"#DejaVuSans-1086\"/>\n      <use x=\"1892.529297\" xlink:href=\"#DejaVuSans-1074\"/>\n      <use x=\"1951.464844\" xlink:href=\"#DejaVuSans-1072\"/>\n      <use x=\"2012.744141\" xlink:href=\"#DejaVuSans-1085\"/>\n      <use x=\"2078.125\" xlink:href=\"#DejaVuSans-1080\"/>\n      <use x=\"2143.115234\" xlink:href=\"#DejaVuSans-1103\"/>\n      <use x=\"2203.271484\" xlink:href=\"#DejaVuSans-32\"/>\n      <use x=\"2235.058594\" xlink:href=\"#DejaVuSans-1080\"/>\n      <use x=\"2300.048828\" xlink:href=\"#DejaVuSans-32\"/>\n      <use x=\"2331.835938\" xlink:href=\"#DejaVuSans-1085\"/>\n      <use x=\"2397.216797\" xlink:href=\"#DejaVuSans-1072\"/>\n      <use x=\"2458.496094\" xlink:href=\"#DejaVuSans-1091\"/>\n      <use x=\"2517.675781\" xlink:href=\"#DejaVuSans-1082\"/>\n      <use x=\"2578.076172\" xlink:href=\"#DejaVuSans-1080\"/>\n      <use x=\"2643.066406\" xlink:href=\"#DejaVuSans-32\"/>\n      <use x=\"2674.853516\" xlink:href=\"#DejaVuSans-1050\"/>\n      <use x=\"2745.849609\" xlink:href=\"#DejaVuSans-1072\"/>\n      <use x=\"2807.128906\" xlink:href=\"#DejaVuSans-1083\"/>\n      <use x=\"2871.044922\" xlink:href=\"#DejaVuSans-1091\"/>\n      <use x=\"2930.224609\" xlink:href=\"#DejaVuSans-1078\"/>\n      <use x=\"3020.3125\" xlink:href=\"#DejaVuSans-1089\"/>\n      <use x=\"3075.292969\" xlink:href=\"#DejaVuSans-1082\"/>\n      <use x=\"3135.693359\" xlink:href=\"#DejaVuSans-1086\"/>\n      <use x=\"3196.875\" xlink:href=\"#DejaVuSans-1081\"/>\n      <use x=\"3261.865234\" xlink:href=\"#DejaVuSans-32\"/>\n      <use x=\"3293.652344\" xlink:href=\"#DejaVuSans-1086\"/>\n      <use x=\"3354.833984\" xlink:href=\"#DejaVuSans-1073\"/>\n      <use x=\"3416.503906\" xlink:href=\"#DejaVuSans-1083\"/>\n      <use x=\"3480.419922\" xlink:href=\"#DejaVuSans-1072\"/>\n      <use x=\"3541.699219\" xlink:href=\"#DejaVuSans-1089\"/>\n      <use x=\"3596.679688\" xlink:href=\"#DejaVuSans-1090\"/>\n      <use x=\"3654.931641\" xlink:href=\"#DejaVuSans-1080\"/>\n      <use x=\"3719.921875\" xlink:href=\"#DejaVuSans-41\"/>\n     </g>\n    </g>\n   </g>\n  </g>\n </g>\n <defs>\n  <clipPath id=\"p047b3fce62\">\n   <rect height=\"217.44\" width=\"334.8\" x=\"595.945312\" y=\"7.2\"/>\n  </clipPath>\n </defs>\n</svg>\n"
          },
          "metadata": {
            "needs_background": "light"
          }
        }
      ]
    },
    {
      "cell_type": "code",
      "source": [
        "fig, ax = plt.subplots(figsize=(7, 7), subplot_kw=dict(aspect=\"equal\"))\n",
        "\n",
        "\n",
        "pie_val = df.Тип_агентсва.value_counts().reset_index().values\n",
        "data = [i[1] for i in pie_val]\n",
        "ingredients = ['Остальным','Первым лицам']\n",
        "\n",
        "\n",
        "def func(pct, allvals):\n",
        "    absolute = int(pct/100.*np.sum(allvals))\n",
        "    return \"{:.1f}%\\n\".format(pct)\n",
        "\n",
        "\n",
        "wedges, texts, autotexts = ax.pie(data, autopct=lambda pct: func(pct, data),\n",
        "                                  textprops=dict(color=\"w\"))\n",
        "ax.legend(wedges, ingredients,\n",
        "          title=\"Тип\",\n",
        "          loc=\"center left\",\n",
        "          bbox_to_anchor=(1, 0, 0.5, 1))\n",
        "plt.setp(autotexts, size=8, weight=\"bold\")\n",
        "ax.set_title(\"Доля отправленных писем первым лицам\")\n",
        "plt.show()"
      ],
      "metadata": {
        "colab": {
          "base_uri": "https://localhost:8080/",
          "height": 568
        },
        "id": "hmeHJFnjxMnS",
        "outputId": "55bfdf90-df38-446f-ba9b-ee60ef9b399e"
      },
      "execution_count": null,
      "outputs": [
        {
          "output_type": "display_data",
          "data": {
            "text/plain": [
              "<Figure size 504x504 with 1 Axes>"
            ],
            "image/svg+xml": "<?xml version=\"1.0\" encoding=\"utf-8\" standalone=\"no\"?>\n<!DOCTYPE svg PUBLIC \"-//W3C//DTD SVG 1.1//EN\"\n  \"http://www.w3.org/Graphics/SVG/1.1/DTD/svg11.dtd\">\n<!-- Created with matplotlib (https://matplotlib.org/) -->\n<svg height=\"410.038125pt\" version=\"1.1\" viewBox=\"0 0 513.821563 410.038125\" width=\"513.821563pt\" xmlns=\"http://www.w3.org/2000/svg\" xmlns:xlink=\"http://www.w3.org/1999/xlink\">\n <defs>\n  <style type=\"text/css\">\n*{stroke-linecap:butt;stroke-linejoin:round;}\n  </style>\n </defs>\n <g id=\"figure_1\">\n  <g id=\"patch_1\">\n   <path d=\"M 0 410.038125 \nL 513.821563 410.038125 \nL 513.821563 0 \nL 0 0 \nz\n\" style=\"fill:none;\"/>\n  </g>\n  <g id=\"axes_1\">\n   <g id=\"patch_2\">\n    <path d=\"M 349.668 212.578125 \nC 349.668 188.577181 343.991111 164.913105 333.10235 143.524318 \nC 322.213589 122.135532 306.418616 103.622444 287.011264 89.501538 \nC 267.603912 75.380632 245.128967 66.048298 221.427446 62.268988 \nC 197.725924 58.489677 173.463156 60.369479 150.626605 67.75441 \nC 127.790053 75.139342 107.020767 87.8221 90.020045 104.763787 \nC 73.019324 121.705475 60.264396 142.430518 52.800072 165.241242 \nC 45.335748 188.051967 43.371559 212.30805 47.068401 236.022574 \nC 50.765243 259.737099 60.01934 282.24437 74.072652 301.700724 \nL 197.46 212.578125 \nL 349.668 212.578125 \nz\n\" style=\"fill:#1f77b4;\"/>\n   </g>\n   <g id=\"patch_3\">\n    <path d=\"M 74.072652 301.700724 \nC 92.911745 327.782836 119.544328 347.231797 150.123124 357.238055 \nC 180.70192 367.244314 213.679993 367.301669 244.293409 357.401835 \nC 274.906825 347.502002 301.606899 328.145797 320.5366 302.129372 \nC 339.466301 276.112947 349.668006 244.752434 349.668 212.578096 \nL 197.46 212.578125 \nL 74.072652 301.700724 \nz\n\" style=\"fill:#ff7f0e;\"/>\n   </g>\n   <g id=\"matplotlib.axis_1\"/>\n   <g id=\"matplotlib.axis_2\"/>\n   <g id=\"text_1\">\n    <!-- 60.0% -->\n    <defs>\n     <path d=\"M 36.1875 35.984375 \nQ 31.25 35.984375 28.78125 32.78125 \nQ 26.3125 29.59375 26.3125 23.1875 \nQ 26.3125 16.796875 28.78125 13.59375 \nQ 31.25 10.40625 36.1875 10.40625 \nQ 41.15625 10.40625 43.625 13.59375 \nQ 46.09375 16.796875 46.09375 23.1875 \nQ 46.09375 29.59375 43.625 32.78125 \nQ 41.15625 35.984375 36.1875 35.984375 \nz\nM 59.421875 71 \nL 59.421875 57.515625 \nQ 54.78125 59.71875 50.671875 60.765625 \nQ 46.578125 61.8125 42.671875 61.8125 \nQ 34.28125 61.8125 29.59375 57.140625 \nQ 24.90625 52.484375 24.125 43.3125 \nQ 27.34375 45.703125 31.09375 46.890625 \nQ 34.859375 48.09375 39.3125 48.09375 \nQ 50.484375 48.09375 57.34375 41.546875 \nQ 64.203125 35.015625 64.203125 24.421875 \nQ 64.203125 12.703125 56.53125 5.640625 \nQ 48.875 -1.421875 35.984375 -1.421875 \nQ 21.78125 -1.421875 13.984375 8.171875 \nQ 6.203125 17.78125 6.203125 35.40625 \nQ 6.203125 53.46875 15.3125 63.796875 \nQ 24.421875 74.125 40.28125 74.125 \nQ 45.3125 74.125 50.046875 73.34375 \nQ 54.78125 72.5625 59.421875 71 \nz\n\" id=\"DejaVuSans-Bold-54\"/>\n     <path d=\"M 46 36.53125 \nQ 46 50.203125 43.4375 55.78125 \nQ 40.875 61.375 34.8125 61.375 \nQ 28.765625 61.375 26.171875 55.78125 \nQ 23.578125 50.203125 23.578125 36.53125 \nQ 23.578125 22.703125 26.171875 17.03125 \nQ 28.765625 11.375 34.8125 11.375 \nQ 40.828125 11.375 43.40625 17.03125 \nQ 46 22.703125 46 36.53125 \nz\nM 64.796875 36.375 \nQ 64.796875 18.265625 56.984375 8.421875 \nQ 49.171875 -1.421875 34.8125 -1.421875 \nQ 20.40625 -1.421875 12.59375 8.421875 \nQ 4.78125 18.265625 4.78125 36.375 \nQ 4.78125 54.546875 12.59375 64.375 \nQ 20.40625 74.21875 34.8125 74.21875 \nQ 49.171875 74.21875 56.984375 64.375 \nQ 64.796875 54.546875 64.796875 36.375 \nz\n\" id=\"DejaVuSans-Bold-48\"/>\n     <path d=\"M 10.203125 18.890625 \nL 27.78125 18.890625 \nL 27.78125 0 \nL 10.203125 0 \nz\n\" id=\"DejaVuSans-Bold-46\"/>\n     <path d=\"M 77.484375 30.078125 \nQ 74.03125 30.078125 72.125 27.078125 \nQ 70.21875 24.078125 70.21875 18.5 \nQ 70.21875 12.890625 72.09375 9.890625 \nQ 73.96875 6.890625 77.484375 6.890625 \nQ 81 6.890625 82.859375 9.890625 \nQ 84.71875 12.890625 84.71875 18.5 \nQ 84.71875 24.078125 82.828125 27.078125 \nQ 80.953125 30.078125 77.484375 30.078125 \nz\nM 77.484375 38.28125 \nQ 86.578125 38.28125 91.796875 33 \nQ 97.015625 27.734375 97.015625 18.5 \nQ 97.015625 9.28125 91.796875 3.921875 \nQ 86.578125 -1.421875 77.484375 -1.421875 \nQ 68.40625 -1.421875 63.15625 3.921875 \nQ 57.90625 9.28125 57.90625 18.5 \nQ 57.90625 27.6875 63.15625 32.984375 \nQ 68.40625 38.28125 77.484375 38.28125 \nz\nM 32.71875 -1.421875 \nL 21.921875 -1.421875 \nL 67.484375 74.21875 \nL 78.328125 74.21875 \nz\nM 22.703125 74.21875 \nQ 31.78125 74.21875 36.984375 68.921875 \nQ 42.1875 63.625 42.1875 54.390625 \nQ 42.1875 45.171875 36.984375 39.84375 \nQ 31.78125 34.515625 22.703125 34.515625 \nQ 13.625 34.515625 8.421875 39.84375 \nQ 3.21875 45.171875 3.21875 54.390625 \nQ 3.21875 63.625 8.421875 68.921875 \nQ 13.625 74.21875 22.703125 74.21875 \nz\nM 22.703125 66.015625 \nQ 19.1875 66.015625 17.28125 62.984375 \nQ 15.375 59.96875 15.375 54.390625 \nQ 15.375 48.78125 17.28125 45.71875 \nQ 19.1875 42.671875 22.703125 42.671875 \nQ 26.21875 42.671875 28.09375 45.71875 \nQ 29.984375 48.78125 29.984375 54.390625 \nQ 29.984375 59.96875 28.078125 62.984375 \nQ 26.171875 66.015625 22.703125 66.015625 \nz\n\" id=\"DejaVuSans-Bold-37\"/>\n    </defs>\n    <g style=\"fill:#ffffff;\" transform=\"translate(155.483088 123.412271)scale(0.08 -0.08)\">\n     <use xlink:href=\"#DejaVuSans-Bold-54\"/>\n     <use x=\"69.580078\" xlink:href=\"#DejaVuSans-Bold-48\"/>\n     <use x=\"139.160156\" xlink:href=\"#DejaVuSans-Bold-46\"/>\n     <use x=\"177.148438\" xlink:href=\"#DejaVuSans-Bold-48\"/>\n     <use x=\"246.728516\" xlink:href=\"#DejaVuSans-Bold-37\"/>\n    </g>\n    <!--  -->\n    <g style=\"fill:#ffffff;\" transform=\"translate(169.359963 132.370521)scale(0.08 -0.08)\"/>\n   </g>\n   <g id=\"text_2\">\n    <!-- 40.0% -->\n    <defs>\n     <path d=\"M 36.8125 57.421875 \nL 16.21875 26.90625 \nL 36.8125 26.90625 \nz\nM 33.6875 72.90625 \nL 54.59375 72.90625 \nL 54.59375 26.90625 \nL 64.984375 26.90625 \nL 64.984375 13.28125 \nL 54.59375 13.28125 \nL 54.59375 0 \nL 36.8125 0 \nL 36.8125 13.28125 \nL 4.5 13.28125 \nL 4.5 29.390625 \nz\n\" id=\"DejaVuSans-Bold-52\"/>\n    </defs>\n    <g style=\"fill:#ffffff;\" transform=\"translate(211.68317 297.200726)scale(0.08 -0.08)\">\n     <use xlink:href=\"#DejaVuSans-Bold-52\"/>\n     <use x=\"69.580078\" xlink:href=\"#DejaVuSans-Bold-48\"/>\n     <use x=\"139.160156\" xlink:href=\"#DejaVuSans-Bold-46\"/>\n     <use x=\"177.148438\" xlink:href=\"#DejaVuSans-Bold-48\"/>\n     <use x=\"246.728516\" xlink:href=\"#DejaVuSans-Bold-37\"/>\n    </g>\n    <!--  -->\n    <g style=\"fill:#ffffff;\" transform=\"translate(225.560045 306.158976)scale(0.08 -0.08)\"/>\n   </g>\n   <g id=\"text_3\">\n    <!-- Доля отправленных писем первым лицам -->\n    <defs>\n     <path d=\"M 22.796875 8.296875 \nL 55.03125 8.296875 \nL 55.03125 64.59375 \nL 31.34375 64.59375 \nL 31.34375 54.25 \nQ 31.34375 29.890625 25.875 13.71875 \nQ 24.75 10.40625 22.796875 8.296875 \nz\nM 8.40625 8.296875 \nQ 14.9375 11.375 16.796875 17.234375 \nQ 21.53125 32.28125 21.53125 59.125 \nL 21.53125 72.90625 \nL 64.890625 72.90625 \nL 64.890625 8.296875 \nL 73.1875 8.296875 \nL 73.1875 -15.671875 \nL 64.890625 -15.671875 \nL 64.890625 0 \nL 13.234375 0 \nL 13.234375 -15.671875 \nL 4.9375 -15.671875 \nL 4.9375 8.296875 \nz\n\" id=\"DejaVuSans-1044\"/>\n     <path d=\"M 30.609375 48.390625 \nQ 23.390625 48.390625 19.1875 42.75 \nQ 14.984375 37.109375 14.984375 27.296875 \nQ 14.984375 17.484375 19.15625 11.84375 \nQ 23.34375 6.203125 30.609375 6.203125 \nQ 37.796875 6.203125 41.984375 11.859375 \nQ 46.1875 17.53125 46.1875 27.296875 \nQ 46.1875 37.015625 41.984375 42.703125 \nQ 37.796875 48.390625 30.609375 48.390625 \nz\nM 30.609375 56 \nQ 42.328125 56 49.015625 48.375 \nQ 55.71875 40.765625 55.71875 27.296875 \nQ 55.71875 13.875 49.015625 6.21875 \nQ 42.328125 -1.421875 30.609375 -1.421875 \nQ 18.84375 -1.421875 12.171875 6.21875 \nQ 5.515625 13.875 5.515625 27.296875 \nQ 5.515625 40.765625 12.171875 48.375 \nQ 18.84375 56 30.609375 56 \nz\n\" id=\"DejaVuSans-1086\"/>\n     <path d=\"M 3.71875 0 \nL 3.71875 7.46875 \nQ 12.59375 8.84375 15.328125 14.984375 \nQ 18.65625 23.640625 18.65625 45.75 \nL 18.65625 54.6875 \nL 55.609375 54.6875 \nL 55.609375 0 \nL 46.625 0 \nL 46.625 47.515625 \nL 27.640625 47.515625 \nL 27.640625 42.09375 \nQ 27.640625 21 23.34375 11.53125 \nQ 18.75 1.421875 3.71875 0 \nz\n\" id=\"DejaVuSans-1083\"/>\n     <path d=\"M 18.453125 38.921875 \nQ 18.453125 34.859375 21.578125 32.5625 \nQ 24.703125 30.28125 30.515625 30.28125 \nL 42.625 30.28125 \nL 42.625 47.515625 \nL 30.515625 47.515625 \nQ 24.703125 47.515625 21.578125 45.265625 \nQ 18.453125 43.015625 18.453125 38.921875 \nz\nM 5.671875 0 \nL 22.359375 23.96875 \nQ 16.703125 25.25 12.9375 28.59375 \nQ 9.1875 31.9375 9.1875 38.921875 \nQ 9.1875 46.828125 14.421875 50.75 \nQ 19.671875 54.6875 30.28125 54.6875 \nL 51.65625 54.6875 \nL 51.65625 0 \nL 42.625 0 \nL 42.625 23.09375 \nL 31.453125 23.09375 \nL 15.328125 0 \nz\n\" id=\"DejaVuSans-1103\"/>\n     <path id=\"DejaVuSans-32\"/>\n     <path d=\"M 2.9375 54.6875 \nL 55.328125 54.6875 \nL 55.328125 47.515625 \nL 33.546875 47.515625 \nL 33.546875 0 \nL 24.703125 0 \nL 24.703125 47.515625 \nL 2.9375 47.515625 \nz\n\" id=\"DejaVuSans-1090\"/>\n     <path d=\"M 56.296875 54.6875 \nL 56.296875 0 \nL 47.265625 0 \nL 47.265625 47.515625 \nL 18.109375 47.515625 \nL 18.109375 0 \nL 9.078125 0 \nL 9.078125 54.6875 \nz\n\" id=\"DejaVuSans-1087\"/>\n     <path d=\"M 18.109375 8.203125 \nL 18.109375 -20.796875 \nL 9.078125 -20.796875 \nL 9.078125 54.6875 \nL 18.109375 54.6875 \nL 18.109375 46.390625 \nQ 20.953125 51.265625 25.265625 53.625 \nQ 29.59375 56 35.59375 56 \nQ 45.5625 56 51.78125 48.09375 \nQ 58.015625 40.1875 58.015625 27.296875 \nQ 58.015625 14.40625 51.78125 6.484375 \nQ 45.5625 -1.421875 35.59375 -1.421875 \nQ 29.59375 -1.421875 25.265625 0.953125 \nQ 20.953125 3.328125 18.109375 8.203125 \nz\nM 48.6875 27.296875 \nQ 48.6875 37.203125 44.609375 42.84375 \nQ 40.53125 48.484375 33.40625 48.484375 \nQ 26.265625 48.484375 22.1875 42.84375 \nQ 18.109375 37.203125 18.109375 27.296875 \nQ 18.109375 17.390625 22.1875 11.75 \nQ 26.265625 6.109375 33.40625 6.109375 \nQ 40.53125 6.109375 44.609375 11.75 \nQ 48.6875 17.390625 48.6875 27.296875 \nz\n\" id=\"DejaVuSans-1088\"/>\n     <path d=\"M 34.28125 27.484375 \nQ 23.390625 27.484375 19.1875 25 \nQ 14.984375 22.515625 14.984375 16.5 \nQ 14.984375 11.71875 18.140625 8.90625 \nQ 21.296875 6.109375 26.703125 6.109375 \nQ 34.1875 6.109375 38.703125 11.40625 \nQ 43.21875 16.703125 43.21875 25.484375 \nL 43.21875 27.484375 \nz\nM 52.203125 31.203125 \nL 52.203125 0 \nL 43.21875 0 \nL 43.21875 8.296875 \nQ 40.140625 3.328125 35.546875 0.953125 \nQ 30.953125 -1.421875 24.3125 -1.421875 \nQ 15.921875 -1.421875 10.953125 3.296875 \nQ 6 8.015625 6 15.921875 \nQ 6 25.140625 12.171875 29.828125 \nQ 18.359375 34.515625 30.609375 34.515625 \nL 43.21875 34.515625 \nL 43.21875 35.40625 \nQ 43.21875 41.609375 39.140625 45 \nQ 35.0625 48.390625 27.6875 48.390625 \nQ 23 48.390625 18.546875 47.265625 \nQ 14.109375 46.140625 10.015625 43.890625 \nL 10.015625 52.203125 \nQ 14.9375 54.109375 19.578125 55.046875 \nQ 24.21875 56 28.609375 56 \nQ 40.484375 56 46.34375 49.84375 \nQ 52.203125 43.703125 52.203125 31.203125 \nz\n\" id=\"DejaVuSans-1072\"/>\n     <path d=\"M 18.0625 25.203125 \nL 18.0625 7.171875 \nL 30.859375 7.171875 \nQ 37.015625 7.171875 40.234375 9.484375 \nQ 43.453125 11.8125 43.453125 16.21875 \nQ 43.453125 20.609375 40.234375 22.90625 \nQ 37.015625 25.203125 30.859375 25.203125 \nz\nM 18.0625 47.515625 \nL 18.0625 32.375 \nL 29.890625 32.375 \nQ 34.96875 32.375 38.1875 34.390625 \nQ 41.40625 36.421875 41.40625 40.046875 \nQ 41.40625 43.65625 38.1875 45.578125 \nQ 34.96875 47.515625 29.890625 47.515625 \nz\nM 9.078125 54.6875 \nL 30.46875 54.6875 \nQ 40.09375 54.6875 45.265625 51.171875 \nQ 50.4375 47.65625 50.4375 41.15625 \nQ 50.4375 36.140625 47.796875 33.171875 \nQ 45.171875 30.21875 39.984375 29.5 \nQ 46.1875 28.328125 49.609375 24.609375 \nQ 53.03125 20.90625 53.03125 15.328125 \nQ 53.03125 8.015625 47.390625 4 \nQ 41.75 0 31.296875 0 \nL 9.078125 0 \nz\n\" id=\"DejaVuSans-1074\"/>\n     <path d=\"M 56.203125 29.59375 \nL 56.203125 25.203125 \nL 14.890625 25.203125 \nQ 15.484375 15.921875 20.484375 11.0625 \nQ 25.484375 6.203125 34.421875 6.203125 \nQ 39.59375 6.203125 44.453125 7.46875 \nQ 49.3125 8.734375 54.109375 11.28125 \nL 54.109375 2.78125 \nQ 49.265625 0.734375 44.1875 -0.34375 \nQ 39.109375 -1.421875 33.890625 -1.421875 \nQ 20.796875 -1.421875 13.15625 6.1875 \nQ 5.515625 13.8125 5.515625 26.8125 \nQ 5.515625 40.234375 12.765625 48.109375 \nQ 20.015625 56 32.328125 56 \nQ 43.359375 56 49.78125 48.890625 \nQ 56.203125 41.796875 56.203125 29.59375 \nz\nM 47.21875 32.234375 \nQ 47.125 39.59375 43.09375 43.984375 \nQ 39.0625 48.390625 32.421875 48.390625 \nQ 24.90625 48.390625 20.390625 44.140625 \nQ 15.875 39.890625 15.1875 32.171875 \nz\n\" id=\"DejaVuSans-1077\"/>\n     <path d=\"M 9.078125 54.6875 \nL 18.109375 54.6875 \nL 18.109375 32.375 \nL 47.265625 32.375 \nL 47.265625 54.6875 \nL 56.296875 54.6875 \nL 56.296875 0 \nL 47.265625 0 \nL 47.265625 25.203125 \nL 18.109375 25.203125 \nL 18.109375 0 \nL 9.078125 0 \nz\n\" id=\"DejaVuSans-1085\"/>\n     <path d=\"M 61.046875 54.6875 \nL 70.03125 54.6875 \nL 70.03125 0 \nL 61.046875 0 \nz\nM 65.546875 56 \nz\nM 43.453125 16.21875 \nQ 43.453125 20.609375 40.25 22.90625 \nQ 37.0625 25.203125 30.90625 25.203125 \nL 18.109375 25.203125 \nL 18.109375 7.171875 \nL 30.90625 7.171875 \nQ 37.0625 7.171875 40.25 9.484375 \nQ 43.453125 11.8125 43.453125 16.21875 \nz\nM 9.078125 54.6875 \nL 18.109375 54.6875 \nL 18.109375 32.375 \nL 31.296875 32.375 \nQ 41.75 32.375 47.390625 28.390625 \nQ 53.03125 24.421875 53.03125 16.21875 \nQ 53.03125 8.015625 47.390625 4 \nQ 41.75 0 31.296875 0 \nL 9.078125 0 \nz\n\" id=\"DejaVuSans-1099\"/>\n     <path d=\"M 54.890625 54.6875 \nL 35.109375 28.078125 \nL 55.90625 0 \nL 45.3125 0 \nL 29.390625 21.484375 \nL 13.484375 0 \nL 2.875 0 \nL 24.125 28.609375 \nL 4.6875 54.6875 \nL 15.28125 54.6875 \nL 29.78125 35.203125 \nL 44.28125 54.6875 \nz\n\" id=\"DejaVuSans-1093\"/>\n     <path d=\"M 55.90625 54.6875 \nL 55.90625 0 \nL 46.96875 0 \nL 46.96875 43.890625 \nL 20.609375 0 \nL 9.078125 0 \nL 9.078125 54.6875 \nL 18.015625 54.6875 \nL 18.015625 10.890625 \nL 44.34375 54.6875 \nz\n\" id=\"DejaVuSans-1080\"/>\n     <path d=\"M 48.78125 52.59375 \nL 48.78125 44.1875 \nQ 44.96875 46.296875 41.140625 47.34375 \nQ 37.3125 48.390625 33.40625 48.390625 \nQ 24.65625 48.390625 19.8125 42.84375 \nQ 14.984375 37.3125 14.984375 27.296875 \nQ 14.984375 17.28125 19.8125 11.734375 \nQ 24.65625 6.203125 33.40625 6.203125 \nQ 37.3125 6.203125 41.140625 7.25 \nQ 44.96875 8.296875 48.78125 10.40625 \nL 48.78125 2.09375 \nQ 45.015625 0.34375 40.984375 -0.53125 \nQ 36.96875 -1.421875 32.421875 -1.421875 \nQ 20.0625 -1.421875 12.78125 6.34375 \nQ 5.515625 14.109375 5.515625 27.296875 \nQ 5.515625 40.671875 12.859375 48.328125 \nQ 20.21875 56 33.015625 56 \nQ 37.15625 56 41.109375 55.140625 \nQ 45.0625 54.296875 48.78125 52.59375 \nz\n\" id=\"DejaVuSans-1089\"/>\n     <path d=\"M 9.078125 54.6875 \nL 22.21875 54.6875 \nL 37.75 18.0625 \nL 53.328125 54.6875 \nL 66.359375 54.6875 \nL 66.359375 0 \nL 57.328125 0 \nL 57.328125 46.09375 \nL 42.234375 10.5 \nL 33.25 10.5 \nL 18.109375 46.09375 \nL 18.109375 0 \nL 9.078125 0 \nz\n\" id=\"DejaVuSans-1084\"/>\n     <path d=\"M 56.296875 0 \nL 9.078125 0 \nL 9.078125 54.6875 \nL 18.109375 54.6875 \nL 18.109375 7.171875 \nL 47.265625 7.171875 \nL 47.265625 54.6875 \nL 56.296875 54.6875 \nL 56.296875 7.171875 \nL 63.484375 7.171875 \nL 63.484375 -13.8125 \nL 56.296875 -13.8125 \nz\n\" id=\"DejaVuSans-1094\"/>\n    </defs>\n    <g transform=\"translate(64.674375 16.318125)scale(0.12 -0.12)\">\n     <use xlink:href=\"#DejaVuSans-1044\"/>\n     <use x=\"78.125\" xlink:href=\"#DejaVuSans-1086\"/>\n     <use x=\"139.306641\" xlink:href=\"#DejaVuSans-1083\"/>\n     <use x=\"203.222656\" xlink:href=\"#DejaVuSans-1103\"/>\n     <use x=\"263.378906\" xlink:href=\"#DejaVuSans-32\"/>\n     <use x=\"295.166016\" xlink:href=\"#DejaVuSans-1086\"/>\n     <use x=\"356.347656\" xlink:href=\"#DejaVuSans-1090\"/>\n     <use x=\"414.599609\" xlink:href=\"#DejaVuSans-1087\"/>\n     <use x=\"479.980469\" xlink:href=\"#DejaVuSans-1088\"/>\n     <use x=\"543.457031\" xlink:href=\"#DejaVuSans-1072\"/>\n     <use x=\"604.736328\" xlink:href=\"#DejaVuSans-1074\"/>\n     <use x=\"663.671875\" xlink:href=\"#DejaVuSans-1083\"/>\n     <use x=\"727.587891\" xlink:href=\"#DejaVuSans-1077\"/>\n     <use x=\"789.111328\" xlink:href=\"#DejaVuSans-1085\"/>\n     <use x=\"854.492188\" xlink:href=\"#DejaVuSans-1085\"/>\n     <use x=\"919.873047\" xlink:href=\"#DejaVuSans-1099\"/>\n     <use x=\"998.828125\" xlink:href=\"#DejaVuSans-1093\"/>\n     <use x=\"1058.007812\" xlink:href=\"#DejaVuSans-32\"/>\n     <use x=\"1089.794922\" xlink:href=\"#DejaVuSans-1087\"/>\n     <use x=\"1155.175781\" xlink:href=\"#DejaVuSans-1080\"/>\n     <use x=\"1220.166016\" xlink:href=\"#DejaVuSans-1089\"/>\n     <use x=\"1275.146484\" xlink:href=\"#DejaVuSans-1077\"/>\n     <use x=\"1336.669922\" xlink:href=\"#DejaVuSans-1084\"/>\n     <use x=\"1412.109375\" xlink:href=\"#DejaVuSans-32\"/>\n     <use x=\"1443.896484\" xlink:href=\"#DejaVuSans-1087\"/>\n     <use x=\"1509.277344\" xlink:href=\"#DejaVuSans-1077\"/>\n     <use x=\"1570.800781\" xlink:href=\"#DejaVuSans-1088\"/>\n     <use x=\"1634.277344\" xlink:href=\"#DejaVuSans-1074\"/>\n     <use x=\"1693.212891\" xlink:href=\"#DejaVuSans-1099\"/>\n     <use x=\"1772.167969\" xlink:href=\"#DejaVuSans-1084\"/>\n     <use x=\"1847.607422\" xlink:href=\"#DejaVuSans-32\"/>\n     <use x=\"1879.394531\" xlink:href=\"#DejaVuSans-1083\"/>\n     <use x=\"1943.310547\" xlink:href=\"#DejaVuSans-1080\"/>\n     <use x=\"2008.300781\" xlink:href=\"#DejaVuSans-1094\"/>\n     <use x=\"2076.367188\" xlink:href=\"#DejaVuSans-1072\"/>\n     <use x=\"2137.646484\" xlink:href=\"#DejaVuSans-1084\"/>\n    </g>\n   </g>\n   <g id=\"legend_1\">\n    <g id=\"patch_4\">\n     <path d=\"M 394.72 236.095312 \nL 504.621563 236.095312 \nQ 506.621563 236.095312 506.621563 234.095312 \nL 506.621563 191.060937 \nQ 506.621563 189.060937 504.621563 189.060937 \nL 394.72 189.060937 \nQ 392.72 189.060937 392.72 191.060937 \nL 392.72 234.095312 \nQ 392.72 236.095312 394.72 236.095312 \nz\n\" style=\"fill:#ffffff;opacity:0.8;stroke:#cccccc;stroke-linejoin:miter;\"/>\n    </g>\n    <g id=\"text_4\">\n     <!-- Тип -->\n     <defs>\n      <path d=\"M -0.296875 72.90625 \nL 61.375 72.90625 \nL 61.375 64.59375 \nL 35.5 64.59375 \nL 35.5 0 \nL 25.59375 0 \nL 25.59375 64.59375 \nL -0.296875 64.59375 \nz\n\" id=\"DejaVuSans-1058\"/>\n     </defs>\n     <g transform=\"translate(440.098906 200.659375)scale(0.1 -0.1)\">\n      <use xlink:href=\"#DejaVuSans-1058\"/>\n      <use x=\"61.083984\" xlink:href=\"#DejaVuSans-1080\"/>\n      <use x=\"126.074219\" xlink:href=\"#DejaVuSans-1087\"/>\n     </g>\n    </g>\n    <g id=\"patch_5\">\n     <path d=\"M 396.72 215.3375 \nL 416.72 215.3375 \nL 416.72 208.3375 \nL 396.72 208.3375 \nz\n\" style=\"fill:#1f77b4;\"/>\n    </g>\n    <g id=\"text_5\">\n     <!-- Остальным -->\n     <defs>\n      <path d=\"M 39.40625 66.21875 \nQ 28.65625 66.21875 22.328125 58.203125 \nQ 16.015625 50.203125 16.015625 36.375 \nQ 16.015625 22.609375 22.328125 14.59375 \nQ 28.65625 6.59375 39.40625 6.59375 \nQ 50.140625 6.59375 56.421875 14.59375 \nQ 62.703125 22.609375 62.703125 36.375 \nQ 62.703125 50.203125 56.421875 58.203125 \nQ 50.140625 66.21875 39.40625 66.21875 \nz\nM 39.40625 74.21875 \nQ 54.734375 74.21875 63.90625 63.9375 \nQ 73.09375 53.65625 73.09375 36.375 \nQ 73.09375 19.140625 63.90625 8.859375 \nQ 54.734375 -1.421875 39.40625 -1.421875 \nQ 24.03125 -1.421875 14.8125 8.828125 \nQ 5.609375 19.09375 5.609375 36.375 \nQ 5.609375 53.65625 14.8125 63.9375 \nQ 24.03125 74.21875 39.40625 74.21875 \nz\n\" id=\"DejaVuSans-1054\"/>\n      <path d=\"M 43.453125 16.21875 \nQ 43.453125 20.609375 40.25 22.90625 \nQ 37.0625 25.203125 30.90625 25.203125 \nL 18.109375 25.203125 \nL 18.109375 7.171875 \nL 30.90625 7.171875 \nQ 37.0625 7.171875 40.25 9.484375 \nQ 43.453125 11.8125 43.453125 16.21875 \nz\nM 9.078125 54.6875 \nL 18.109375 54.6875 \nL 18.109375 32.375 \nL 31.296875 32.375 \nQ 41.75 32.375 47.390625 28.390625 \nQ 53.03125 24.421875 53.03125 16.21875 \nQ 53.03125 8.015625 47.390625 4 \nQ 41.75 0 31.296875 0 \nL 9.078125 0 \nz\n\" id=\"DejaVuSans-1100\"/>\n     </defs>\n     <g transform=\"translate(424.72 215.3375)scale(0.1 -0.1)\">\n      <use xlink:href=\"#DejaVuSans-1054\"/>\n      <use x=\"78.710938\" xlink:href=\"#DejaVuSans-1089\"/>\n      <use x=\"133.691406\" xlink:href=\"#DejaVuSans-1090\"/>\n      <use x=\"191.943359\" xlink:href=\"#DejaVuSans-1072\"/>\n      <use x=\"253.222656\" xlink:href=\"#DejaVuSans-1083\"/>\n      <use x=\"317.138672\" xlink:href=\"#DejaVuSans-1100\"/>\n      <use x=\"376.074219\" xlink:href=\"#DejaVuSans-1085\"/>\n      <use x=\"441.455078\" xlink:href=\"#DejaVuSans-1099\"/>\n      <use x=\"520.410156\" xlink:href=\"#DejaVuSans-1084\"/>\n     </g>\n    </g>\n    <g id=\"patch_6\">\n     <path d=\"M 396.72 230.015625 \nL 416.72 230.015625 \nL 416.72 223.015625 \nL 396.72 223.015625 \nz\n\" style=\"fill:#ff7f0e;\"/>\n    </g>\n    <g id=\"text_6\">\n     <!-- Первым лицам -->\n     <defs>\n      <path d=\"M 65.375 72.90625 \nL 65.375 0 \nL 55.515625 0 \nL 55.515625 64.59375 \nL 19.671875 64.59375 \nL 19.671875 0 \nL 9.8125 0 \nL 9.8125 72.90625 \nz\n\" id=\"DejaVuSans-1055\"/>\n     </defs>\n     <g transform=\"translate(424.72 230.015625)scale(0.1 -0.1)\">\n      <use xlink:href=\"#DejaVuSans-1055\"/>\n      <use x=\"75.195312\" xlink:href=\"#DejaVuSans-1077\"/>\n      <use x=\"136.71875\" xlink:href=\"#DejaVuSans-1088\"/>\n      <use x=\"200.195312\" xlink:href=\"#DejaVuSans-1074\"/>\n      <use x=\"259.130859\" xlink:href=\"#DejaVuSans-1099\"/>\n      <use x=\"338.085938\" xlink:href=\"#DejaVuSans-1084\"/>\n      <use x=\"413.525391\" xlink:href=\"#DejaVuSans-32\"/>\n      <use x=\"445.3125\" xlink:href=\"#DejaVuSans-1083\"/>\n      <use x=\"509.228516\" xlink:href=\"#DejaVuSans-1080\"/>\n      <use x=\"574.21875\" xlink:href=\"#DejaVuSans-1094\"/>\n      <use x=\"642.285156\" xlink:href=\"#DejaVuSans-1072\"/>\n      <use x=\"703.564453\" xlink:href=\"#DejaVuSans-1084\"/>\n     </g>\n    </g>\n   </g>\n  </g>\n </g>\n</svg>\n"
          },
          "metadata": {}
        }
      ]
    }
  ]
}